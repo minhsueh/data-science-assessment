{
 "cells": [
  {
   "cell_type": "markdown",
   "id": "e2a8e573",
   "metadata": {},
   "source": [
    "# Data Engineering Take-Home Assignment: Nature Conservation & Geospatial Data"
   ]
  },
  {
   "cell_type": "markdown",
   "id": "3c80660d",
   "metadata": {},
   "source": [
    "## Context\n",
    "Assume you have been hired as a Data Engineer for an organization focused on nature conservation. The organization is working on a project to monitor and protect natural habitats using satellite data, wildlife sensor data, and geospatial information. Your task is to design and implement a data pipeline that ingests, processes, and analyzes this data to help identify areas needing immediate conservation attention as well as build a model that provides helpful insights related our organization's interests."
   ]
  },
  {
   "cell_type": "markdown",
   "id": "377f8e14",
   "metadata": {},
   "source": [
    "## Objective \n",
    "\n",
    "Your goal in this assessment is to showcase your curiousity and creativity to design rigorous models and derive interesting insights.  \n",
    "\n",
    "You'll be given two tasks.\n",
    "\n",
    "The first is a design task, in which we expect you to diagram and describe how you'd set up a process to injest this data from a live streamed source, assuming you are also paying montoring services to supply this data from scratch. Think about how you might transform and store the data efficiently for querying and analysis and feed it into your model. \n",
    "\n",
    "The second task will require you devise interesting questions from preliminary explorations of a subset of migration data, found alongside this notebook, and construct a rigorous model to answer them. Please demonstrate all of your process using this notebook, and most importantly your outputs. \n",
    "\n",
    "\n"
   ]
  },
  {
   "cell_type": "markdown",
   "id": "b2ae6885",
   "metadata": {},
   "source": [
    "## Tasks\n",
    "\n",
    "### 1) Design - Data Ingestion & Storage:\n",
    "- **Ingestion**: Design and implement a solution to ingest data from three different sources: GeoJSON, CSV, and JSON.\n",
    "- **Automation**: Ensure the pipeline can handle regular data updates (e.g., daily or hourly).\n",
    "- **Storage**: Choose appropriate storage solutions for each dataset (e.g., relational database, NoSQL, cloud storage, or data lake). Provide justification for your choices.\n",
    "\n",
    "### 2) Data Transformation & Analysis:\n",
    "- **Data Parsing & Cleaning**: \n",
    "  - Parse and clean the wildlife tracking data (CSV) and geospatial data (GeoJSON) to ensure consistency.\n",
    "  - Ensure the data is ready for analysis by standardizing formats, removing errors, and handling missing values.\n",
    "\n",
    "- **Exploratory Data Analysis**:\n",
    "  - Investigate the data to understand key characteristics, distributions, and trends.\n",
    "\n",
    "- **Behavioral Analysis**:\n",
    "  - Identify more complex animal behaviors:\n",
    "    - Determine when animals cross the boundaries of protected areas.\n",
    "    - Analyze potential factors contributing to these crossings (e.g., time, weather, or environmental changes).\n",
    "    - Calculate the total number of animal entries and exits from protected areas over time.\n",
    "\n",
    "- **Advanced Insights**:\n",
    "  - Identify migration paths or clustering patterns.\n",
    "  - Build a predictive model to anticipate future animal movements or identify risk zones for endangered species.\n",
    "\n",
    "### 3) Optional Bonus - Visualization/Reporting:\n",
    "- Provide interactive visualizations to demonstrate your analysis, ideally within this notebook."
   ]
  },
  {
   "cell_type": "markdown",
   "id": "22aefbcb",
   "metadata": {},
   "source": [
    "### Here are data sources you can use to build your analysis. \n",
    "\n",
    "- https://storage.googleapis.com/data-science-assessment/animal_events.csv\n",
    "- https://storage.googleapis.com/data-science-assessment/animals.csv\n",
    "- https://storage.googleapis.com/data-science-assessment/protected_areas.json\n",
    "- https://storage.googleapis.com/data-science-assessment/satellites.json"
   ]
  },
  {
   "cell_type": "markdown",
   "id": "d8ead913",
   "metadata": {},
   "source": [
    "## Deliverables\n",
    "#### Design component:\n",
    "- A clear description and diagrams for the architecture and tools you might used, including any cloud services, databases, or libraries (if applicable). During the discussion we'll go over different scenarios. \n",
    "\n",
    "#### Implementation:\n",
    "- Code for the data pipeline that includes:\n",
    "  - Data ingestion scripts or setup.\n",
    "  - Transformation and processing logic.\n",
    "  - Queries or outputs showcasing the results.\n",
    "- (Optional) a visualization of the results."
   ]
  },
  {
   "cell_type": "markdown",
   "id": "1b8713c0",
   "metadata": {},
   "source": [
    "## Data\n",
    "### 1. **Animal Events - CSV** [Download link](https://storage.googleapis.com/data-science-assessment/animal_events.csv)\n",
    "\n",
    "- Contains data on animal movement events with details like location and speed.\n",
    "- **Key Columns**: `event_id`, `animal_id`, `timestamp`, `latitude`, `longitude`, `speed`.\n",
    "\n",
    "---\n",
    "\n",
    "### 2. **Animals - CSV** [Download link](https://storage.googleapis.com/data-science-assessment/animals.csv)\n",
    "\n",
    "- Metadata about tracked animals, including species and conservation status.\n",
    "- **Key Columns**: `animal_id`, `species`, `endangered`, `animal_type`, `preferred_landcover`.\n",
    "\n",
    "---\n",
    "\n",
    "### 3. **Protected Areas - GeoJSON** [Download link](https://storage.googleapis.com/data-science-assessment/protected_areas.json)\n",
    "\n",
    "- Geospatial data representing protected areas with boundaries and metadata.\n",
    "- **Key Fields**: `name`, `category`, `protected_area_id`, `geometry`.\n",
    "\n",
    "---\n",
    "\n",
    "### 4. **Satellite Metadata - JSON** [Download link](https://storage.googleapis.com/data-science-assessment/satellites.json)\n",
    "\n",
    "- Metadata from satellite imagery, covering factors like cloud cover and resolution.\n",
    "- **Key Fields**: `satellite_id`, `start_time`, `last_time`, `frequency`, `bounding_box`, `cloud_cover_percentage`, `resolution`.\n",
    "\n",
    "---"
   ]
  },
  {
   "cell_type": "markdown",
   "id": "7b856217-c9be-4789-a0f1-75f7c65819e5",
   "metadata": {},
   "source": [
    "## Evaluation Criteria\n",
    "\n",
    "- **Data Engineering Skills**: How well the pipeline handles ingestion, transformation, and storage.\n",
    "- **Geospatial Data Handling**: Ability to process geospatial data and perform spatial operations (e.g., joins, intersections).\n",
    "- **Scalability & Efficiency**: The pipeline’s ability to handle larger datasets or more frequent updates.\n",
    "- **Code Quality**: Structure, readability, and use of best practices.\n",
    "- **Documentation**: Clear explanations of your approach and any assumptions made.\n",
    "- **Bonus (Visualization/Reporting)**: Extra points for insightful data visualization or reporting."
   ]
  },
  {
   "cell_type": "markdown",
   "id": "56bb4ebc",
   "metadata": {},
   "source": [
    "## Set up"
   ]
  },
  {
   "cell_type": "markdown",
   "id": "42307a26",
   "metadata": {},
   "source": [
    "Feel free to set up this notebook using condo, or your own kernal / virtual environment. To make it easier, you can set up the notebook using this docker with the potentialy libraries you might need. \n",
    "\n",
    "#### To start using a prepared Docker image, \n",
    "- 1 navigate to this shared folder in your terminal, and then load up docker and run the docker file to pull in needed libraries\n",
    "\n",
    "```bash\n",
    "docker build -t geospatial-notebook .\n",
    "docker run -p 8888:8888 -v $(pwd):/home/nobody/work geospatial-notebook\n",
    "```\n"
   ]
  },
  {
   "cell_type": "markdown",
   "id": "876a081b",
   "metadata": {},
   "source": [
    "When the container runs, it will display a URL with a token (something like http://127.0.0.1:8888/?token=...). It will probably be something like http://127.0.0.1:8888/tree You can copy this URL into your browser, and you'll open to a Jupyter lab. Your existing notebook will be available inside the container under the work directory.\n",
    "\n",
    "Anytime you want to work again, just run the following command to start the Docker container and access your notebooks:\n",
    "\n",
    "```bash\n",
    "docker run -p 8888:8888 -v $(pwd):/home/nobody/work geospatial-notebook\n",
    "```\n",
    "\n",
    "Please be sure your notebook runs by adding the needed dependencies to the requirements doc. I would encourage you to avoid external dependencies, like postgres setup for the implementation of your work so that the notebook work works without significant setup. You can demonstrate your knowledge of various infrastructure in your design submission. \n",
    "\n",
    "Critiques of this assignment are also welcomed and will contribute to this score. `\n"
   ]
  },
  {
   "cell_type": "markdown",
   "id": "42efb9af",
   "metadata": {},
   "source": [
    "### Architecture"
   ]
  },
  {
   "cell_type": "markdown",
   "id": "fdd68ea0",
   "metadata": {},
   "source": [
    "![title](output/Cultivo_v4.png)"
   ]
  },
  {
   "cell_type": "code",
   "execution_count": 229,
   "id": "c40610ef",
   "metadata": {},
   "outputs": [
    {
     "data": {
      "text/html": [
       "        <script type=\"text/javascript\">\n",
       "        window.PlotlyConfig = {MathJaxConfig: 'local'};\n",
       "        if (window.MathJax && window.MathJax.Hub && window.MathJax.Hub.Config) {window.MathJax.Hub.Config({SVG: {font: \"STIX-Web\"}});}\n",
       "        if (typeof require !== 'undefined') {\n",
       "        require.undef(\"plotly\");\n",
       "        requirejs.config({\n",
       "            paths: {\n",
       "                'plotly': ['https://cdn.plot.ly/plotly-2.35.2.min']\n",
       "            }\n",
       "        });\n",
       "        require(['plotly'], function(Plotly) {\n",
       "            window._Plotly = Plotly;\n",
       "        });\n",
       "        }\n",
       "        </script>\n",
       "        "
      ]
     },
     "metadata": {},
     "output_type": "display_data"
    }
   ],
   "source": [
    "# Libraries you may or may not need\n",
    "import numpy as np\n",
    "\n",
    "import pandas as pd\n",
    "\n",
    "import geopandas as gpd\n",
    "\n",
    "import plotly.graph_objects as go\n",
    "import plotly.express as px\n",
    "from plotly import offline\n",
    "offline.init_notebook_mode(connected=True)\n",
    "\n",
    "import shapely\n",
    "from shapely.geometry import Point, Polygon, box\n",
    "\n",
    "import json\n",
    "\n",
    "import matplotlib\n",
    "import matplotlib.pyplot as plt\n",
    "\n",
    "import warnings\n",
    "# import sqlalchemy\n",
    "# import psycopg2\n",
    "# import osgeo.gdal"
   ]
  },
  {
   "cell_type": "code",
   "execution_count": 2,
   "id": "02d012f0",
   "metadata": {},
   "outputs": [],
   "source": [
    "INPUT_FILE_PATH = \"./data/\"\n",
    "OUTPUT_FILE_PATH = \"./data/\"\n",
    "defualt_plotly_config = {'scrollZoom': True}"
   ]
  },
  {
   "cell_type": "markdown",
   "id": "92a5dae8",
   "metadata": {},
   "source": [
    "### load the needed datapoints\n"
   ]
  },
  {
   "cell_type": "code",
   "execution_count": 432,
   "id": "3521e83f",
   "metadata": {},
   "outputs": [],
   "source": [
    "\n",
    "# loads original animal_events and animals\n",
    "animal_events_df = pd.read_csv(f\"{INPUT_FILE_PATH}animal_events.csv\")\n",
    "animal_df = pd.read_csv(f\"{INPUT_FILE_PATH}animals.csv\")\n",
    "\n",
    "\n",
    "# load protected areas\n",
    "protected_areas_gdf = gpd.read_file(f\"{INPUT_FILE_PATH}protected_areas.json\")\n",
    "\n",
    "# load satellites area\n",
    "with open(f\"{INPUT_FILE_PATH}satellites.json\") as f:\n",
    "    satellites_dict = json.load(f)"
   ]
  },
  {
   "cell_type": "markdown",
   "id": "e5b4914b",
   "metadata": {},
   "source": [
    "### ETL functions"
   ]
  },
  {
   "cell_type": "code",
   "execution_count": 494,
   "id": "b2de666f",
   "metadata": {},
   "outputs": [],
   "source": [
    "def formatter(raw_df: pd.DataFrame, config: dict, logger=None):\n",
    "    \"\"\"\n",
    "    Format the specified columns in a DataFrame to their designated data types.\n",
    "\n",
    "    Args:\n",
    "        raw_df (pd.DataFrame): The input DataFrame, typically unformatted and \n",
    "            generated from a function like `pd.read_csv()`.\n",
    "        config (dict[str, str]): A dictionary where each key is a column name in `df`, \n",
    "            and the corresponding value is the target data type to which the column should be cast.\n",
    "        logger (Any, optional): A logger object used to record any error or warning messages that \n",
    "            occur during the formatting process. Defaults to None.\n",
    "\n",
    "    Returns:\n",
    "        pd.DataFrame: The modified DataFrame with columns cast to the specified data types.\n",
    "\n",
    "    Raises:\n",
    "        ValueError: If the column is not found in the DataFrame or the conversion fails.\n",
    "    \"\"\"\n",
    "    _supported_dtypes = set([\n",
    "        'int64',\n",
    "        'int32',\n",
    "        'int16',\n",
    "        'int8',\n",
    "        'float64',\n",
    "        'float32',\n",
    "        'float16',\n",
    "        'bool',\n",
    "        'str',\n",
    "        'category'\n",
    "    ])\n",
    "    \n",
    "    df = raw_df.copy()\n",
    "    \n",
    "    for column, dtype in config.items():\n",
    "        if dtype not in _supported_dtypes:\n",
    "            if logger:\n",
    "                logger.error(\n",
    "                    f\"{dtype} is not supported.\" \\\n",
    "                    f\"Supported dtype: {' ,'.join(_supported_dtypes)}\"\n",
    "                )\n",
    "            raise ValueError(\n",
    "                f\"{dtype} is not supported.\" \\\n",
    "                f\"Supported dtype: {' ,'.join(_supported_dtypes)}\"\n",
    "            )\n",
    "        \n",
    "        if column not in df.columns:\n",
    "            if logger:\n",
    "                logger.warning(f\"Column '{column}' not found in DataFrame. Skipping...\")\n",
    "            warnings.warn(f\"Column '{column}' not found in DataFrame. Skipping...\")\n",
    "            continue\n",
    "\n",
    "        try:\n",
    "            df[column] = df[column].astype(dtype)\n",
    "        except Exception as e:\n",
    "            if logger:\n",
    "                logger.error(\n",
    "                    f\"Error converting column '{column}' to {dtype}. {str(e)}.\"\n",
    "                )\n",
    "            raise ValueError(\n",
    "                    f\"Error converting column '{column}' to {dtype}. {str(e)}.\"\n",
    "                )\n",
    "\n",
    "    return df\n"
   ]
  },
  {
   "cell_type": "code",
   "execution_count": 400,
   "id": "a74d2ead",
   "metadata": {},
   "outputs": [
    {
     "name": "stdout",
     "output_type": "stream",
     "text": [
      "<class 'pandas.core.frame.DataFrame'>\n",
      "RangeIndex: 27 entries, 0 to 26\n",
      "Data columns (total 4 columns):\n",
      " #   Column     Non-Null Count  Dtype  \n",
      "---  ------     --------------  -----  \n",
      " 0   animal_id  27 non-null     object \n",
      " 1   timestamp  27 non-null     object \n",
      " 2   latitude   27 non-null     float64\n",
      " 3   longitude  27 non-null     float64\n",
      "dtypes: float64(2), object(2)\n",
      "memory usage: 992.0+ bytes\n"
     ]
    }
   ],
   "source": [
    "test_df = pd.read_csv(f\"{INPUT_FILE_PATH}animal_events.csv\")\n",
    "config = {\n",
    "    'latitude': 'float64',\n",
    "    'longitude': 'float64'\n",
    "}\n",
    "test_df_1 = formatter(test_df, config)\n",
    "test_df_1.info()"
   ]
  },
  {
   "cell_type": "code",
   "execution_count": 495,
   "id": "a55c60d4",
   "metadata": {},
   "outputs": [],
   "source": [
    "def str_formatter(raw_df: pd.DataFrame, config: dict, logger=None):\n",
    "    \"\"\"\n",
    "    Format the specified columns in a DataFrame to their designated data types.\n",
    "\n",
    "    Args:\n",
    "        raw_df (pd.DataFrame): The input DataFrame, typically unformatted and \n",
    "            generated from a function like `pd.read_csv()`.\n",
    "        config (dict[dict[str, Any]]): An outer dictionary where each key represents a column name in `df`. \n",
    "            The corresponding value is another dictionary, with keys as the mapped string values and \n",
    "            values as the associated mapping values.\n",
    "        logger (Any, optional): A logger object used to record any error or warning messages that \n",
    "            occur during the formatting process. Defaults to None.\n",
    "\n",
    "    Returns:\n",
    "        pd.DataFrame: The modified DataFrame.\n",
    "\n",
    "    Raises:\n",
    "        ValueError: If the column is not found in the DataFrame or the conversion fails.\n",
    "    \"\"\"\n",
    "    \n",
    "    df = raw_df.copy()\n",
    "    \n",
    "    for column, mapping_dict in config.items():        \n",
    "        if column not in df.columns:\n",
    "            if logger:\n",
    "                logger.warning(f\"Column '{column}' not found in DataFrame. Skipping...\")\n",
    "            warnings.warn(f\"Column '{column}' not found in DataFrame. Skipping...\")\n",
    "            continue\n",
    "\n",
    "        try:\n",
    "            df[column] = df[column].apply(lambda x: mapping_dict[x])\n",
    "        except Exception as e:\n",
    "            if logger:\n",
    "                logger.error(\n",
    "                    f\"Error converting column '{column}'. {str(e)}.\"\n",
    "                )\n",
    "            raise ValueError(\n",
    "                    f\"Error converting column '{column}'. {str(e)}.\"\n",
    "                )\n",
    "\n",
    "    return df\n"
   ]
  },
  {
   "cell_type": "code",
   "execution_count": 407,
   "id": "a7b513bf",
   "metadata": {},
   "outputs": [
    {
     "name": "stdout",
     "output_type": "stream",
     "text": [
      "<class 'pandas.core.frame.DataFrame'>\n",
      "RangeIndex: 9 entries, 0 to 8\n",
      "Data columns (total 5 columns):\n",
      " #   Column           Non-Null Count  Dtype \n",
      "---  ------           --------------  ----- \n",
      " 0   animal_id        9 non-null      object\n",
      " 1   common_name      9 non-null      object\n",
      " 2   scientific_name  9 non-null      object\n",
      " 3   redlist_cat      9 non-null      object\n",
      " 4   megafauna        9 non-null      bool  \n",
      "dtypes: bool(1), object(4)\n",
      "memory usage: 425.0+ bytes\n"
     ]
    },
    {
     "data": {
      "text/html": [
       "<div>\n",
       "<style scoped>\n",
       "    .dataframe tbody tr th:only-of-type {\n",
       "        vertical-align: middle;\n",
       "    }\n",
       "\n",
       "    .dataframe tbody tr th {\n",
       "        vertical-align: top;\n",
       "    }\n",
       "\n",
       "    .dataframe thead th {\n",
       "        text-align: right;\n",
       "    }\n",
       "</style>\n",
       "<table border=\"1\" class=\"dataframe\">\n",
       "  <thead>\n",
       "    <tr style=\"text-align: right;\">\n",
       "      <th></th>\n",
       "      <th>animal_id</th>\n",
       "      <th>common_name</th>\n",
       "      <th>scientific_name</th>\n",
       "      <th>redlist_cat</th>\n",
       "      <th>megafauna</th>\n",
       "    </tr>\n",
       "  </thead>\n",
       "  <tbody>\n",
       "    <tr>\n",
       "      <th>0</th>\n",
       "      <td>A001</td>\n",
       "      <td>Wolf</td>\n",
       "      <td>Canis lupus</td>\n",
       "      <td>Least Concern</td>\n",
       "      <td>False</td>\n",
       "    </tr>\n",
       "    <tr>\n",
       "      <th>1</th>\n",
       "      <td>A002</td>\n",
       "      <td>Bison</td>\n",
       "      <td>Bison bison</td>\n",
       "      <td>Vulnerable</td>\n",
       "      <td>True</td>\n",
       "    </tr>\n",
       "  </tbody>\n",
       "</table>\n",
       "</div>"
      ],
      "text/plain": [
       "  animal_id common_name scientific_name    redlist_cat  megafauna\n",
       "0      A001        Wolf     Canis lupus  Least Concern      False\n",
       "1      A002       Bison     Bison bison     Vulnerable       True"
      ]
     },
     "execution_count": 407,
     "metadata": {},
     "output_type": "execute_result"
    }
   ],
   "source": [
    "test_str_df = pd.read_csv(f\"{INPUT_FILE_PATH}animals.csv\")\n",
    "config = {\n",
    "    'megafauna': {\n",
    "        'no': False,\n",
    "        'yes': True\n",
    "    },\n",
    "}\n",
    "test_str_df1 = str_formatter(test_str_df, config)\n",
    "test_str_df1.info()\n",
    "test_str_df1[:2]"
   ]
  },
  {
   "cell_type": "code",
   "execution_count": 496,
   "id": "b22cbb4e",
   "metadata": {},
   "outputs": [],
   "source": [
    "def date_formatter(raw_df: pd.DataFrame, time_config: dict, logger=None):\n",
    "    \"\"\"\n",
    "    Adds a new 'geometry' column containing `shapely.geometry.Point` objects based on the given \n",
    "    latitude and longitude columns.\n",
    "    \n",
    "    Args:\n",
    "        raw_df (pd.DataFrame): The input DataFrame to modify.\n",
    "        time_config (dict[str, str]): A dictionary where each key is a column name in `df`, \n",
    "            and the corresponding value is the time format.\n",
    "        logger (Any): A logger object used to record error and warning messages.\n",
    "    \n",
    "    Returns:\n",
    "        pd.DataFrame: The modified DataFrame.\n",
    "    \"\"\"\n",
    "    df = raw_df.copy()\n",
    "    \n",
    "    for column, time_format in time_config.items():\n",
    "        if column not in df.columns:\n",
    "            if logger:\n",
    "                logger.warning(f\"Column '{column}' not found in DataFrame. Skipping...\")\n",
    "            warnings.warn(f\"Column '{column}' not found in DataFrame. Skipping...\")\n",
    "            continue\n",
    "\n",
    "        try:\n",
    "            df[column] = pd.to_datetime(df[column], format=time_format)\n",
    "\n",
    "        except Exception as e:\n",
    "            if logger:\n",
    "                logger.error(\n",
    "                    f\"Error converting column '{column}' with format {time_format}. {str(e)}.\"\n",
    "                )\n",
    "            raise ValueError(\n",
    "                    f\"Error converting column '{column}' with format {time_format}. {str(e)}.\"\n",
    "                )\n",
    "    return df\n"
   ]
  },
  {
   "cell_type": "code",
   "execution_count": 348,
   "id": "7ebcf774",
   "metadata": {},
   "outputs": [
    {
     "name": "stdout",
     "output_type": "stream",
     "text": [
      "<class 'pandas.core.frame.DataFrame'>\n",
      "RangeIndex: 27 entries, 0 to 26\n",
      "Data columns (total 4 columns):\n",
      " #   Column     Non-Null Count  Dtype         \n",
      "---  ------     --------------  -----         \n",
      " 0   animal_id  27 non-null     object        \n",
      " 1   timestamp  27 non-null     datetime64[ns]\n",
      " 2   latitude   27 non-null     float64       \n",
      " 3   longitude  27 non-null     float64       \n",
      "dtypes: datetime64[ns](1), float64(2), object(1)\n",
      "memory usage: 992.0+ bytes\n"
     ]
    }
   ],
   "source": [
    "test_df_2 = date_formatter(test_df_1, {'timestamp': '%Y-%m-%d %H:%M:%S'})\n",
    "test_df_2.info()"
   ]
  },
  {
   "cell_type": "code",
   "execution_count": 332,
   "id": "b7349db2",
   "metadata": {},
   "outputs": [
    {
     "data": {
      "text/html": [
       "<div>\n",
       "<style scoped>\n",
       "    .dataframe tbody tr th:only-of-type {\n",
       "        vertical-align: middle;\n",
       "    }\n",
       "\n",
       "    .dataframe tbody tr th {\n",
       "        vertical-align: top;\n",
       "    }\n",
       "\n",
       "    .dataframe thead th {\n",
       "        text-align: right;\n",
       "    }\n",
       "</style>\n",
       "<table border=\"1\" class=\"dataframe\">\n",
       "  <thead>\n",
       "    <tr style=\"text-align: right;\">\n",
       "      <th></th>\n",
       "      <th>time1</th>\n",
       "      <th>time2</th>\n",
       "      <th>time3</th>\n",
       "    </tr>\n",
       "  </thead>\n",
       "  <tbody>\n",
       "    <tr>\n",
       "      <th>0</th>\n",
       "      <td>2024-06-01</td>\n",
       "      <td>2008-06-02</td>\n",
       "      <td>2008-06-02</td>\n",
       "    </tr>\n",
       "  </tbody>\n",
       "</table>\n",
       "</div>"
      ],
      "text/plain": [
       "       time1      time2      time3\n",
       "0 2024-06-01 2008-06-02 2008-06-02"
      ]
     },
     "execution_count": 332,
     "metadata": {},
     "output_type": "execute_result"
    }
   ],
   "source": [
    "test_time_df = pd.DataFrame({'time1': ['2024-06-01'], 'time2': ['06-02-08'], 'time3': ['06_02_08']})\n",
    "time_config = {\n",
    "    'time1': '%Y-%m-%d',\n",
    "    'time2': '%m-%d-%y',\n",
    "    'time3': '%m_%d_%y',\n",
    "}\n",
    "test_time_df_1 = date_formatter(test_time_df, time_config)\n",
    "test_time_df_1"
   ]
  },
  {
   "cell_type": "code",
   "execution_count": 497,
   "id": "ab4fdf2a",
   "metadata": {},
   "outputs": [],
   "source": [
    "def time_extractor(raw_df: pd.DataFrame, time_column: str, logger=None):\n",
    "    \"\"\"\n",
    "    Extract the year, month, day, and date from a specified time column.\n",
    "    \n",
    "    Args:\n",
    "        raw_df (pd.DataFrame): The DataFrame to be modified.\n",
    "        time_column (str): The name of the column containing time data.\n",
    "        logger (Any): An optional logger object for recording error and warning messages.\n",
    "        \n",
    "    Returns:\n",
    "        pd.DataFrame: The updated DataFrame, which includes the newly created `year`, `month`,\n",
    "            `day`, and `date` columns.\n",
    "    \"\"\"\n",
    "    df = raw_df.copy()\n",
    "    \n",
    "    try:\n",
    "        # Extract year, month, and day\n",
    "        df['year'] = df[time_column].dt.year\n",
    "        df['month'] = df[time_column].dt.month\n",
    "        df['day'] = df[time_column].dt.day\n",
    "        df['date'] = df[time_column].dt.strftime('%Y-%m-%d')\n",
    "    except Exception as e:\n",
    "        if logger:\n",
    "            logger.error(\n",
    "                f\"Error extracing time elements from column '{time_column}'. {str(e)}.\" \n",
    "            )\n",
    "        raise ValueError(\n",
    "                f\"Error extracing time elements from column '{time_column}'. {str(e)}.\"\n",
    "            ) \n",
    "    return df\n"
   ]
  },
  {
   "cell_type": "code",
   "execution_count": 517,
   "id": "dd72062f",
   "metadata": {},
   "outputs": [],
   "source": [
    "def geo_formatter(df: pd.DataFrame, lat_column: str, lon_column: str, logger=None):\n",
    "    \"\"\"\n",
    "    Adds a new 'geometry' column containing `shapely.geometry.Point` objects based on the given \n",
    "    latitude and longitude columns.\n",
    "    \n",
    "    Args:\n",
    "        df (pd.DataFrame): The input DataFrame to modify.\n",
    "        lat_column (str | float): The name of the column representing the latitude values.\n",
    "        lon_column (str | float): The name of the column representing the longitude values.\n",
    "        logger (Any): A logger object used to record error and warning messages.\n",
    "    \n",
    "    Returns:\n",
    "        pd.DataFrame: The modified DataFrame with the newly generated 'geometry' column.\n",
    "    \"\"\"\n",
    "    try:\n",
    "        df['geometry'] = df.apply(lambda row: Point(row[lon_column], row[lat_column]), axis=1)\n",
    "    except Exception as e:\n",
    "        if logger:\n",
    "            logger.error(\n",
    "                f\"Error converting column '{lat}' and '{lon}' to geometry. {str(e)}.\" \n",
    "            )\n",
    "        raise ValueError(\n",
    "                f\"Error converting column '{lat}' and '{lon}' to geometry. {str(e)}.\" \n",
    "            ) \n",
    "    return df\n"
   ]
  },
  {
   "cell_type": "code",
   "execution_count": 335,
   "id": "da1e20c8",
   "metadata": {},
   "outputs": [
    {
     "name": "stdout",
     "output_type": "stream",
     "text": [
      "<class 'pandas.core.frame.DataFrame'>\n",
      "RangeIndex: 27 entries, 0 to 26\n",
      "Data columns (total 5 columns):\n",
      " #   Column     Non-Null Count  Dtype         \n",
      "---  ------     --------------  -----         \n",
      " 0   animal_id  27 non-null     object        \n",
      " 1   timestamp  27 non-null     datetime64[ns]\n",
      " 2   latitude   27 non-null     float64       \n",
      " 3   longitude  27 non-null     float64       \n",
      " 4   geometry   27 non-null     object        \n",
      "dtypes: datetime64[ns](1), float64(2), object(2)\n",
      "memory usage: 1.2+ KB\n"
     ]
    }
   ],
   "source": [
    "# testing \n",
    "test_df_3 = geo_formatter(test_df_2, 'latitude', 'longitude')\n",
    "test_df_3.info()"
   ]
  },
  {
   "cell_type": "code",
   "execution_count": 498,
   "id": "78937b22",
   "metadata": {},
   "outputs": [],
   "source": [
    "def generating_gdf(df: pd.DataFrame, logger=None):\n",
    "    \"\"\"\n",
    "    Converts a DataFrame to a GeoDataFrame.\n",
    "\n",
    "    Args:\n",
    "        df (pd.DataFrame): A formatted DataFrame containing a 'geometry' column with valid \n",
    "        geometric data (e.g., `shapely.geometry.Point` objects).\n",
    "        logger (Any): A logger object used to record error and warning messages.\n",
    "    \n",
    "    Returns:\n",
    "        gdf (gpd.GeoDataFrame): A GeoDataFrame generated from the input DataFrame.\n",
    "    \"\"\"\n",
    "    try:\n",
    "        gdf = gpd.GeoDataFrame(df, geometry='geometry')\n",
    "    except Exception as e:\n",
    "        if logger:\n",
    "            logger.error(\n",
    "                f\"Error converting DataFame to GeoDataFrame. {str(e)}.\" \n",
    "            )\n",
    "        raise ValueError(\n",
    "                f\"Error converting DataFame to GeoDataFrame. {str(e)}.\" \n",
    "            )  \n",
    "    return(gdf)"
   ]
  },
  {
   "cell_type": "code",
   "execution_count": 339,
   "id": "26d7e5d4",
   "metadata": {},
   "outputs": [
    {
     "name": "stdout",
     "output_type": "stream",
     "text": [
      "<class 'geopandas.geodataframe.GeoDataFrame'>\n",
      "RangeIndex: 27 entries, 0 to 26\n",
      "Data columns (total 5 columns):\n",
      " #   Column     Non-Null Count  Dtype         \n",
      "---  ------     --------------  -----         \n",
      " 0   animal_id  27 non-null     object        \n",
      " 1   timestamp  27 non-null     datetime64[ns]\n",
      " 2   latitude   27 non-null     float64       \n",
      " 3   longitude  27 non-null     float64       \n",
      " 4   geometry   27 non-null     geometry      \n",
      "dtypes: datetime64[ns](1), float64(2), geometry(1), object(1)\n",
      "memory usage: 1.2+ KB\n"
     ]
    }
   ],
   "source": [
    "test_gdf = generating_gdf(test_df_3)\n",
    "test_gdf.info()"
   ]
  },
  {
   "cell_type": "code",
   "execution_count": 367,
   "id": "5a4a298b",
   "metadata": {},
   "outputs": [],
   "source": [
    "def error_checker(gdf: gpd.GeoDataFrame, config: dict[str, tuple], logger=None):\n",
    "    \"\"\"\n",
    "    Checks if data in a reasonable range. \n",
    "\n",
    "    Args:\n",
    "        gdf (gpd.GeoDataFrame): A GeoDataFrame containing the data to be tested.\n",
    "        config (dict[str, tuple[int|float, int|float]]): A dictionary where each key \n",
    "            represents a column name in the GeoDataFrame, and the corresponding value is a \n",
    "            tuple defining the acceptable range (min, max) for that column.\n",
    "        logger (Any): A logger object used to record error and warning messages.\n",
    "    \n",
    "    \"\"\"\n",
    "    for column, val_limit in config.items():\n",
    "        if column not in gdf.columns:\n",
    "            if logger:\n",
    "                logger.warning(f\"Column '{column}' not found in DataFrame. Skipping...\")\n",
    "            warnings.warn(f\"Column '{column}' not found in DataFrame. Skipping...\")\n",
    "            continue\n",
    "        \n",
    "        min_value, max_value = val_limit\n",
    "        if not ((gdf[column] >= min_value).all() & (gdf[column] <= max_value).all()):\n",
    "            if logger:\n",
    "                logger.error(\n",
    "                    f\"The value in column {column} is not in the range of {min_value} and {max_value}.\" \n",
    "                )\n",
    "            raise ValueError(\n",
    "                    f\"The value in column {column} is not in the range of {min_value} and {max_value}.\" \n",
    "                )"
   ]
  },
  {
   "cell_type": "code",
   "execution_count": 370,
   "id": "4d13329d",
   "metadata": {},
   "outputs": [],
   "source": [
    "error_checker(test_gdf, {'latitude': (-90, 90), 'longitude': (-180, 180)})"
   ]
  },
  {
   "cell_type": "code",
   "execution_count": 368,
   "id": "80fee1b1",
   "metadata": {},
   "outputs": [
    {
     "ename": "ValueError",
     "evalue": "The value in column a is not in the range of 0 and 10.",
     "output_type": "error",
     "traceback": [
      "\u001b[0;31m---------------------------------------------------------------------------\u001b[0m",
      "\u001b[0;31mValueError\u001b[0m                                Traceback (most recent call last)",
      "Cell \u001b[0;32mIn[368], line 2\u001b[0m\n\u001b[1;32m      1\u001b[0m test_value_df \u001b[38;5;241m=\u001b[39m pd\u001b[38;5;241m.\u001b[39mDataFrame({\u001b[38;5;124m'\u001b[39m\u001b[38;5;124ma\u001b[39m\u001b[38;5;124m'\u001b[39m: [\u001b[38;5;241m100\u001b[39m, \u001b[38;5;241m5\u001b[39m, \u001b[38;5;241m9\u001b[39m, \u001b[38;5;241m2\u001b[39m, \u001b[38;5;241m3\u001b[39m]})\n\u001b[0;32m----> 2\u001b[0m \u001b[43merror_checker\u001b[49m\u001b[43m(\u001b[49m\u001b[43mtest_value_df\u001b[49m\u001b[43m,\u001b[49m\u001b[43m \u001b[49m\u001b[43m{\u001b[49m\u001b[38;5;124;43m'\u001b[39;49m\u001b[38;5;124;43ma\u001b[39;49m\u001b[38;5;124;43m'\u001b[39;49m\u001b[43m:\u001b[49m\u001b[43m \u001b[49m\u001b[43m(\u001b[49m\u001b[38;5;241;43m0\u001b[39;49m\u001b[43m,\u001b[49m\u001b[43m \u001b[49m\u001b[38;5;241;43m10\u001b[39;49m\u001b[43m)\u001b[49m\u001b[43m}\u001b[49m\u001b[43m)\u001b[49m\n",
      "Cell \u001b[0;32mIn[367], line 26\u001b[0m, in \u001b[0;36merror_checker\u001b[0;34m(gdf, config, logger)\u001b[0m\n\u001b[1;32m     22\u001b[0m \u001b[38;5;28;01mif\u001b[39;00m logger:\n\u001b[1;32m     23\u001b[0m     logger\u001b[38;5;241m.\u001b[39merror(\n\u001b[1;32m     24\u001b[0m         \u001b[38;5;124mf\u001b[39m\u001b[38;5;124m\"\u001b[39m\u001b[38;5;124mThe value in column \u001b[39m\u001b[38;5;132;01m{\u001b[39;00mcolumn\u001b[38;5;132;01m}\u001b[39;00m\u001b[38;5;124m is not in the range of \u001b[39m\u001b[38;5;132;01m{\u001b[39;00mmin_value\u001b[38;5;132;01m}\u001b[39;00m\u001b[38;5;124m and \u001b[39m\u001b[38;5;132;01m{\u001b[39;00mmax_value\u001b[38;5;132;01m}\u001b[39;00m\u001b[38;5;124m.\u001b[39m\u001b[38;5;124m\"\u001b[39m \n\u001b[1;32m     25\u001b[0m     )\n\u001b[0;32m---> 26\u001b[0m \u001b[38;5;28;01mraise\u001b[39;00m \u001b[38;5;167;01mValueError\u001b[39;00m(\n\u001b[1;32m     27\u001b[0m         \u001b[38;5;124mf\u001b[39m\u001b[38;5;124m\"\u001b[39m\u001b[38;5;124mThe value in column \u001b[39m\u001b[38;5;132;01m{\u001b[39;00mcolumn\u001b[38;5;132;01m}\u001b[39;00m\u001b[38;5;124m is not in the range of \u001b[39m\u001b[38;5;132;01m{\u001b[39;00mmin_value\u001b[38;5;132;01m}\u001b[39;00m\u001b[38;5;124m and \u001b[39m\u001b[38;5;132;01m{\u001b[39;00mmax_value\u001b[38;5;132;01m}\u001b[39;00m\u001b[38;5;124m.\u001b[39m\u001b[38;5;124m\"\u001b[39m \n\u001b[1;32m     28\u001b[0m     )\n",
      "\u001b[0;31mValueError\u001b[0m: The value in column a is not in the range of 0 and 10."
     ]
    }
   ],
   "source": [
    "# negative testing: make sure it is working\n",
    "test_value_df = pd.DataFrame({'a': [100, 5, 9, 2, 3]})\n",
    "error_checker(test_value_df, {'a': (0, 10)})"
   ]
  },
  {
   "cell_type": "code",
   "execution_count": 499,
   "id": "fb55afe4",
   "metadata": {},
   "outputs": [],
   "source": [
    "def null_handler(raw_gdf: gpd.GeoDataFrame, policy: str, logger=None):\n",
    "    \"\"\"\n",
    "    Checks if data in a reasonable range. \n",
    "\n",
    "    Args:\n",
    "        raw_gdf (gpd.GeoDataFrame): A GeoDataFrame containing the data to be tested.\n",
    "        policy (str): ['drop', 'mean', 'median']. \n",
    "        logger (Any): A logger object used to record error and warning messages.\n",
    "    Return:\n",
    "        gdf (gpd.GeoDataFrame): The modifid gdf\n",
    "    \n",
    "    \"\"\"\n",
    "    assert policy in ['drop', 'mean', 'median']\n",
    "    \n",
    "    gdf = raw_gdf.copy()\n",
    "    \n",
    "    try:\n",
    "        if policy == 'drop':\n",
    "            gdf.dropna(axis=0, inplace=True)\n",
    "        elif policy == 'mean':\n",
    "            for column in gdf.columns:\n",
    "                if pd.api.types.is_numeric_dtype(gdf[column]):\n",
    "                    # gdf[column].fillna(gdf.mean(), inplace=True)\n",
    "                    gdf.loc[gdf[column].isna(), column] = gdf[column].mean()\n",
    "        elif policy == 'median':\n",
    "            for column in gdf.columns:\n",
    "                if pd.api.types.is_numeric_dtype(gdf[column]):\n",
    "                    gdf.loc[gdf[column].isna(), column] = gdf[column].median()\n",
    "        \n",
    "    except Exception as e:\n",
    "        if logger:\n",
    "            logger.error(\n",
    "                f\"Error filling na with the policy {policy}. {str(e)}.\" \n",
    "            )\n",
    "        raise ValueError(\n",
    "                f\"Error filling na with the policy  {policy}. {str(e)}.\" \n",
    "            )   \n",
    "    if gdf.isna().any().any():\n",
    "        if logger:\n",
    "            logger.error(\n",
    "                f\"Null values are still present in the GeoDataFrame. Please inspect the non-numeric columns\" \n",
    "            )\n",
    "        raise ValueError(\n",
    "                f\"Null values are still present in the GeoDataFrame. Please inspect the non-numeric columns\" \n",
    "            )   \n",
    "    return(gdf)"
   ]
  },
  {
   "cell_type": "code",
   "execution_count": 387,
   "id": "364ff62a",
   "metadata": {},
   "outputs": [],
   "source": [
    "test_gdf = null_handler(test_gdf, policy='mean')"
   ]
  },
  {
   "cell_type": "code",
   "execution_count": 385,
   "id": "720c32f2",
   "metadata": {},
   "outputs": [
    {
     "data": {
      "text/html": [
       "<div>\n",
       "<style scoped>\n",
       "    .dataframe tbody tr th:only-of-type {\n",
       "        vertical-align: middle;\n",
       "    }\n",
       "\n",
       "    .dataframe tbody tr th {\n",
       "        vertical-align: top;\n",
       "    }\n",
       "\n",
       "    .dataframe thead th {\n",
       "        text-align: right;\n",
       "    }\n",
       "</style>\n",
       "<table border=\"1\" class=\"dataframe\">\n",
       "  <thead>\n",
       "    <tr style=\"text-align: right;\">\n",
       "      <th></th>\n",
       "      <th>a</th>\n",
       "      <th>b</th>\n",
       "    </tr>\n",
       "  </thead>\n",
       "  <tbody>\n",
       "    <tr>\n",
       "      <th>0</th>\n",
       "      <td>1</td>\n",
       "      <td>5.0</td>\n",
       "    </tr>\n",
       "    <tr>\n",
       "      <th>1</th>\n",
       "      <td>2</td>\n",
       "      <td>5.0</td>\n",
       "    </tr>\n",
       "    <tr>\n",
       "      <th>2</th>\n",
       "      <td>3</td>\n",
       "      <td>6.0</td>\n",
       "    </tr>\n",
       "    <tr>\n",
       "      <th>3</th>\n",
       "      <td>2</td>\n",
       "      <td>1.0</td>\n",
       "    </tr>\n",
       "  </tbody>\n",
       "</table>\n",
       "</div>"
      ],
      "text/plain": [
       "   a    b\n",
       "0  1  5.0\n",
       "1  2  5.0\n",
       "2  3  6.0\n",
       "3  2  1.0"
      ]
     },
     "execution_count": 385,
     "metadata": {},
     "output_type": "execute_result"
    }
   ],
   "source": [
    "test_na_df = pd.DataFrame({'a': [1, 2, 3, 2], 'b':[None, 5, 6, 1]})\n",
    "null_handler(test_na_df, policy='median')"
   ]
  },
  {
   "cell_type": "markdown",
   "id": "a3b3a892",
   "metadata": {},
   "source": [
    "Create a mesh for the specified area using the given grid size. This approach allows for easy aggregation of information in a clear and organized manner. For instance, it can be used to summarize data such as total wolf occurrences, geospatial patterns, and demographic information."
   ]
  },
  {
   "cell_type": "code",
   "execution_count": 492,
   "id": "79378b12",
   "metadata": {},
   "outputs": [],
   "source": [
    "def create_mesh(xmin: float, ymin: float, xmax: float, ymax: float, mesh_size: float):\n",
    "    \"\"\"\n",
    "    Generate regions on a map.\n",
    "\n",
    "    TODO: Implement differnet methods to generate shapes of mesh, such as triangles.\n",
    "\n",
    "    Args:\n",
    "        xmin (float): Minimum longitude.\n",
    "        ymin (float): Minimum latitude.\n",
    "        xmax (float): Maximum longitude.\n",
    "        ymax (float): Maximum latitude.\n",
    "        mesh_size (float): Size of the mesh.\n",
    "\n",
    "    Returns:\n",
    "        mesh_df (gpd.GeoDataFrame): A GeoDataFrame containing the designated region IDs.\n",
    "    \"\"\"\n",
    "    region_id = 0\n",
    "    region_list = []\n",
    "    \n",
    "    x_coords = np.linspace(xmin, xmax, mesh_size)\n",
    "    y_coords = np.linspace(ymin, ymax, mesh_size)\n",
    "    \n",
    "    polygons = []\n",
    "    for x_idx in range(1, len(x_coords)):\n",
    "        for y_idx in range(1, len(y_coords)):\n",
    "            \n",
    "            polygons.append(box(x_coords[x_idx-1], y_coords[y_idx-1], x_coords[x_idx], y_coords[y_idx]))\n",
    "            \n",
    "            region_list.append(region_id)\n",
    "            region_id += 1\n",
    "            \n",
    "    return gpd.GeoDataFrame({\"region_id\": region_list}, geometry=polygons)"
   ]
  },
  {
   "cell_type": "code",
   "execution_count": 500,
   "id": "d45045fe",
   "metadata": {},
   "outputs": [],
   "source": [
    "def mapping_to_mesh(gdf, mesh_gdf):\n",
    "    \"\"\"\n",
    "    Map `Point` to the corresponding region id\n",
    "\n",
    "    Args:\n",
    "        gdf (gpd.GeoDataFrame): mapping gdf\n",
    "        mesh_gdf (gpd.GeoDataFrame): generated mesh gdf\n",
    "\n",
    "    Returns:\n",
    "        mesh_df (gpd.GeoDataFrame): The modified GeoDataFrame containing the designated region IDs \n",
    "            corresponding to the lat and lon.\n",
    "    \"\"\"\n",
    "    output_gdf = gpd.sjoin(gdf, mesh_gdf, how=\"left\", predicate=\"within\")\n",
    "    # output_gdf = output_gdf.dropna()\n",
    "    return(output_gdf)"
   ]
  },
  {
   "cell_type": "markdown",
   "id": "2706fe40",
   "metadata": {},
   "source": [
    "## ETL on animal activity df"
   ]
  },
  {
   "cell_type": "code",
   "execution_count": 585,
   "id": "90131fdd",
   "metadata": {},
   "outputs": [],
   "source": [
    "format_config = {\n",
    "    'latitude': 'float64',\n",
    "    'longitude': 'float64',\n",
    "    'animal_id': 'str',\n",
    "    'common_name': 'str',\n",
    "    'scientific_name': 'str',\n",
    "    'redlist_cat': 'category',\n",
    "    'megafauna': 'str'\n",
    "}\n",
    "str_config = {\n",
    "    'megafauna': {\n",
    "        'no': False,\n",
    "        'yes': True\n",
    "    },\n",
    "}\n",
    "time_config = {\n",
    "    'timestamp': '%Y-%m-%d %H:%M:%S'\n",
    "}\n",
    "\n",
    "# merge animal_events_df with animal_df as animal_full_df\n",
    "animal_full_df = animal_events_df.merge(animal_df, on='animal_id', how='left')\n",
    "\n",
    "animal_full_df1 = formatter(animal_full_df, format_config)\n",
    "animal_full_df2 = str_formatter(animal_full_df1, str_config)\n",
    "animal_full_df3 = date_formatter(animal_full_df2, time_config)\n",
    "animal_full_df4 = time_extractor(animal_full_df3, 'timestamp')\n",
    "animal_full_df5 = geo_formatter(animal_full_df4, 'latitude', 'longitude')\n",
    "animal_full_gdf = generating_gdf(animal_full_df5)\n",
    "error_checker(animal_full_gdf, {'latitude': (-90, 90), 'longitude': (-180, 180)})\n",
    "animal_full_gdf = null_handler(animal_full_gdf, policy='drop')"
   ]
  },
  {
   "cell_type": "markdown",
   "id": "d1d4aca1",
   "metadata": {},
   "source": [
    "## Generate regional data"
   ]
  },
  {
   "cell_type": "code",
   "execution_count": 586,
   "id": "24c97b4f",
   "metadata": {},
   "outputs": [],
   "source": [
    "mesh_gdf = create_mesh(-111.10, 44.2, -110.10, 44.6, 10)\n",
    "animal_full_region_gdf = mapping_to_mesh(animal_full_gdf, mesh_gdf)"
   ]
  },
  {
   "cell_type": "code",
   "execution_count": 523,
   "id": "2766488b",
   "metadata": {},
   "outputs": [
    {
     "data": {
      "text/html": [
       "<div>\n",
       "<style scoped>\n",
       "    .dataframe tbody tr th:only-of-type {\n",
       "        vertical-align: middle;\n",
       "    }\n",
       "\n",
       "    .dataframe tbody tr th {\n",
       "        vertical-align: top;\n",
       "    }\n",
       "\n",
       "    .dataframe thead th {\n",
       "        text-align: right;\n",
       "    }\n",
       "</style>\n",
       "<table border=\"1\" class=\"dataframe\">\n",
       "  <thead>\n",
       "    <tr style=\"text-align: right;\">\n",
       "      <th></th>\n",
       "      <th>region_id</th>\n",
       "      <th>0</th>\n",
       "    </tr>\n",
       "  </thead>\n",
       "  <tbody>\n",
       "    <tr>\n",
       "      <th>0</th>\n",
       "      <td>16.0</td>\n",
       "      <td>1</td>\n",
       "    </tr>\n",
       "    <tr>\n",
       "      <th>1</th>\n",
       "      <td>18.0</td>\n",
       "      <td>1</td>\n",
       "    </tr>\n",
       "    <tr>\n",
       "      <th>2</th>\n",
       "      <td>22.0</td>\n",
       "      <td>1</td>\n",
       "    </tr>\n",
       "    <tr>\n",
       "      <th>3</th>\n",
       "      <td>25.0</td>\n",
       "      <td>1</td>\n",
       "    </tr>\n",
       "    <tr>\n",
       "      <th>4</th>\n",
       "      <td>34.0</td>\n",
       "      <td>1</td>\n",
       "    </tr>\n",
       "    <tr>\n",
       "      <th>5</th>\n",
       "      <td>35.0</td>\n",
       "      <td>1</td>\n",
       "    </tr>\n",
       "    <tr>\n",
       "      <th>6</th>\n",
       "      <td>77.0</td>\n",
       "      <td>1</td>\n",
       "    </tr>\n",
       "  </tbody>\n",
       "</table>\n",
       "</div>"
      ],
      "text/plain": [
       "   region_id  0\n",
       "0       16.0  1\n",
       "1       18.0  1\n",
       "2       22.0  1\n",
       "3       25.0  1\n",
       "4       34.0  1\n",
       "5       35.0  1\n",
       "6       77.0  1"
      ]
     },
     "execution_count": 523,
     "metadata": {},
     "output_type": "execute_result"
    }
   ],
   "source": [
    "animal_full_region_gdf.groupby(['region_id']).size().reset_index()"
   ]
  },
  {
   "cell_type": "markdown",
   "id": "756cdef5",
   "metadata": {},
   "source": [
    "### visualize animal events, protected areas, and satellite areas"
   ]
  },
  {
   "cell_type": "code",
   "execution_count": 444,
   "id": "3989c69b",
   "metadata": {},
   "outputs": [],
   "source": [
    "def plot(\n",
    "        satellites_dict: dict, \n",
    "        protected_areas_gdf: gpd.GeoDataFrame,  \n",
    "        animal_full_gdf: gpd.GeoDataFrame,\n",
    "        show_satellites: bool = False,\n",
    "        fig: go.Figure = None,\n",
    "        mapbox: dict=None\n",
    "        \n",
    ") -> go.Figure:\n",
    "    \"\"\"\n",
    "    Visualize spatial data using Plotly, including animal observation locations, protected areas, \n",
    "    and satellite coverage.\n",
    "\n",
    "    Args:\n",
    "        satellites_dict (list[dict]): A list of dictionaries imported from \"satellites.json\", \n",
    "            where each dictionary contains a bounding_box defining the satellite coverage area.\n",
    "        protected_areas_gdf (gpd.GeoDataFrame): A GeoDataFrame containing information about designated \n",
    "            protected areas.\n",
    "        animal_full_gdf (gpd.GeoDataFrame): A GeoDataFrame containing information about animal activities \n",
    "            and their corresponding properties.\n",
    "        show_satellites (bool): A flag indicating whether to display satellite coverage areas \n",
    "            in the visualization.\n",
    "        fig (go.Figure): Given if want to append layers on \n",
    "            existing Figure\n",
    "        mapbox (dict): customized argument for \n",
    "            Figure showing.  \n",
    "    Returns:\n",
    "        Figure: Plotly Figure object.\n",
    "    \"\"\"\n",
    "    if fig is None:\n",
    "        fig = go.Figure()\n",
    "        \n",
    "    if mapbox is None:\n",
    "        mapbox = dict(\n",
    "            center=dict(lat=40, lon=-110),\n",
    "            zoom=3,  # Adjust the zoom level as needed\n",
    "        )\n",
    "    \n",
    "    \n",
    "    if show_satellites:\n",
    "        # Add satellite area\n",
    "        for data_idx, data in enumerate(satellites_dict):\n",
    "            # if data_idx == 1:\n",
    "                # This is satellite image cover all earth\n",
    "            #    continue\n",
    "            # Extract bounding box coordinates\n",
    "            bounding_box = data['bounding_box']\n",
    "            lon = [bounding_box['xmin'], bounding_box['xmin'], bounding_box['xmax'], bounding_box['xmax']]\n",
    "            lat = [bounding_box['ymin'], bounding_box['ymax'], bounding_box['ymax'], bounding_box['ymin']]\n",
    "\n",
    "            # Add a filled polygon for the bounding box\n",
    "            fig.add_trace(go.Scattermapbox(\n",
    "                lat=lat,\n",
    "                lon=lon,\n",
    "                fill='toself',\n",
    "                fillcolor='rgba(255, 0, 0, 0.1)', \n",
    "                line=dict(color='black'),\n",
    "                name='Bounding Box'\n",
    "            ))\n",
    "\n",
    "\n",
    "\n",
    "    # Add protected area\n",
    "    for _, row in protected_areas_gdf.iterrows():\n",
    "        # Extract coordinates from the geometry\n",
    "        lon, lat = row['geometry'].exterior.xy \n",
    "\n",
    "        # Convert coordinates to lists\n",
    "        lon = list(lon)\n",
    "        lat = list(lat)\n",
    "\n",
    "        # Add the polygon to the figure with filled area\n",
    "        fig.add_trace(go.Scattermapbox(\n",
    "            lat=lat,\n",
    "            lon=lon,\n",
    "            fill='toself',  \n",
    "            fillcolor='rgba(128, 128, 128, 0.5)',  \n",
    "            line=dict(color='black'),  \n",
    "            name=row.get('name', 'Area')  \n",
    "        ))\n",
    "\n",
    "\n",
    "    # Add animal activities\n",
    "    # Unique common names to assign colors\n",
    "    unique_names = animal_full_gdf['common_name'].unique()\n",
    "    color_map = {name: i for i, name in enumerate(unique_names)}\n",
    "\n",
    "    # Add traces for scatter points colored by common_name\n",
    "    for name in unique_names:\n",
    "        subset = animal_full_gdf[animal_full_gdf['common_name'] == name]\n",
    "        \n",
    "        \n",
    "        hover_text = [\n",
    "            f\"Animal ID: {row['animal_id']}<br>\"\n",
    "            f\"Scientific Name: {row['scientific_name']}<br>\"\n",
    "            f\"Redlist Category: {row['redlist_cat']}<br>\"\n",
    "            f\"Megafauna: {row['megafauna']}<br>\"\n",
    "            f\"Latitude: {row['latitude']}<br>\"\n",
    "            f\"Longitude: {row['longitude']}\"\n",
    "            for _, row in subset.iterrows()\n",
    "        ]\n",
    "        \n",
    "        \n",
    "        fig.add_trace(go.Scattermapbox(\n",
    "            lat=subset['latitude'],\n",
    "            lon=subset['longitude'],\n",
    "            mode='markers',\n",
    "            name=name,\n",
    "            \n",
    "            marker=dict(size=10, color=color_map[name]), \n",
    "            showlegend=True,\n",
    "            text=hover_text,\n",
    "            hoverinfo='text'\n",
    "        ))\n",
    "\n",
    "\n",
    "\n",
    "\n",
    "    fig.update_layout(\n",
    "        mapbox_style=\"open-street-map\",\n",
    "        mapbox=mapbox,\n",
    "        \n",
    "    )\n",
    "\n",
    "    \n",
    "    return(fig)"
   ]
  },
  {
   "cell_type": "code",
   "execution_count": 608,
   "id": "73e09f08",
   "metadata": {},
   "outputs": [
    {
     "data": {
      "application/vnd.plotly.v1+json": {
       "config": {
        "plotlyServerURL": "https://plot.ly",
        "responsive": true,
        "scrollZoom": true
       },
       "data": [
        {
         "fill": "toself",
         "fillcolor": "rgba(255, 0, 0, 0.1)",
         "lat": [
          42.596356,
          46.142424,
          46.142424,
          42.596356
         ],
         "line": {
          "color": "black"
         },
         "lon": [
          -112.939131,
          -112.939131,
          -107.048726,
          -107.048726
         ],
         "name": "Bounding Box",
         "type": "scattermapbox"
        },
        {
         "fill": "toself",
         "fillcolor": "rgba(255, 0, 0, 0.1)",
         "lat": [
          -90,
          90,
          90,
          -90
         ],
         "line": {
          "color": "black"
         },
         "lon": [
          -180,
          -180,
          180,
          180
         ],
         "name": "Bounding Box",
         "type": "scattermapbox"
        },
        {
         "fill": "toself",
         "fillcolor": "rgba(255, 0, 0, 0.1)",
         "lat": [
          30.738207,
          51.538929,
          51.538929,
          30.738207
         ],
         "line": {
          "color": "black"
         },
         "lon": [
          -124.178099,
          -124.178099,
          -95.942831,
          -95.942831
         ],
         "name": "Bounding Box",
         "type": "scattermapbox"
        },
        {
         "fill": "toself",
         "fillcolor": "rgba(128, 128, 128, 0.5)",
         "lat": [
          44.4488,
          44.599,
          44.5166,
          44.428,
          44.4488
         ],
         "line": {
          "color": "black"
         },
         "lon": [
          -110.839,
          -110.7052,
          -110.5339,
          -110.5885,
          -110.839
         ],
         "name": "Yellowstone National Park",
         "type": "scattermapbox"
        },
        {
         "fill": "toself",
         "fillcolor": "rgba(128, 128, 128, 0.5)",
         "lat": [
          37.7244,
          37.6962,
          37.7799,
          37.8456,
          37.8651,
          37.7244
         ],
         "line": {
          "color": "black"
         },
         "lon": [
          -119.655,
          -119.5964,
          -119.4893,
          -119.3029,
          -119.5383,
          -119.655
         ],
         "name": "Yosemite National Park",
         "type": "scattermapbox"
        },
        {
         "fill": "toself",
         "fillcolor": "rgba(128, 128, 128, 0.5)",
         "lat": [
          36.1336,
          36.2331,
          36.2861,
          36.1182,
          36.057,
          36.1336
         ],
         "line": {
          "color": "black"
         },
         "lon": [
          -112.1861,
          -112.2156,
          -112.0969,
          -111.8205,
          -112.1214,
          -112.1861
         ],
         "name": "Grand Canyon National Park",
         "type": "scattermapbox"
        },
        {
         "hoverinfo": "text",
         "lat": [
          45.2284,
          44.3946,
          44.4246
         ],
         "lon": [
          -110.7622,
          -110.8218,
          -110.1118
         ],
         "marker": {
          "color": 0,
          "size": 10
         },
         "mode": "markers",
         "name": "Wolf",
         "showlegend": true,
         "text": [
          "Animal ID: A001<br>Scientific Name: Canis lupus<br>Redlist Category: Least Concern<br>Megafauna: False<br>Latitude: 45.2284<br>Longitude: -110.7622",
          "Animal ID: A001<br>Scientific Name: Canis lupus<br>Redlist Category: Least Concern<br>Megafauna: False<br>Latitude: 44.3946<br>Longitude: -110.8218",
          "Animal ID: A001<br>Scientific Name: Canis lupus<br>Redlist Category: Least Concern<br>Megafauna: False<br>Latitude: 44.4246<br>Longitude: -110.1118"
         ],
         "type": "scattermapbox"
        },
        {
         "hoverinfo": "text",
         "lat": [
          44.576,
          44.5361,
          44.2221
         ],
         "lon": [
          -110.6763,
          -110.7078,
          -110.8182
         ],
         "marker": {
          "color": 1,
          "size": 10
         },
         "mode": "markers",
         "name": "Bison",
         "showlegend": true,
         "text": [
          "Animal ID: A002<br>Scientific Name: Bison bison<br>Redlist Category: Vulnerable<br>Megafauna: True<br>Latitude: 44.576<br>Longitude: -110.6763",
          "Animal ID: A002<br>Scientific Name: Bison bison<br>Redlist Category: Vulnerable<br>Megafauna: True<br>Latitude: 44.5361<br>Longitude: -110.7078",
          "Animal ID: A002<br>Scientific Name: Bison bison<br>Redlist Category: Vulnerable<br>Megafauna: True<br>Latitude: 44.2221<br>Longitude: -110.8182"
         ],
         "type": "scattermapbox"
        },
        {
         "hoverinfo": "text",
         "lat": [
          44.4232,
          44.5472,
          44.5519
         ],
         "lon": [
          -111.1061,
          -110.7893,
          -110.9812
         ],
         "marker": {
          "color": 2,
          "size": 10
         },
         "mode": "markers",
         "name": "Elk",
         "showlegend": true,
         "text": [
          "Animal ID: A003<br>Scientific Name: Cervus canadensis<br>Redlist Category: Least Concern<br>Megafauna: True<br>Latitude: 44.4232<br>Longitude: -111.1061",
          "Animal ID: A003<br>Scientific Name: Cervus canadensis<br>Redlist Category: Least Concern<br>Megafauna: True<br>Latitude: 44.5472<br>Longitude: -110.7893",
          "Animal ID: A003<br>Scientific Name: Cervus canadensis<br>Redlist Category: Least Concern<br>Megafauna: True<br>Latitude: 44.5519<br>Longitude: -110.9812"
         ],
         "type": "scattermapbox"
        },
        {
         "hoverinfo": "text",
         "lat": [
          37.9058,
          37.766,
          37.8601
         ],
         "lon": [
          -119.7857,
          -119.6363,
          -119.5353
         ],
         "marker": {
          "color": 3,
          "size": 10
         },
         "mode": "markers",
         "name": "Sierra Nevada bighorn sheep",
         "showlegend": true,
         "text": [
          "Animal ID: A004<br>Scientific Name: Ovis canadensis sierrae<br>Redlist Category: Endangered<br>Megafauna: False<br>Latitude: 37.9058<br>Longitude: -119.7857",
          "Animal ID: A004<br>Scientific Name: Ovis canadensis sierrae<br>Redlist Category: Endangered<br>Megafauna: False<br>Latitude: 37.766<br>Longitude: -119.6363",
          "Animal ID: A004<br>Scientific Name: Ovis canadensis sierrae<br>Redlist Category: Endangered<br>Megafauna: False<br>Latitude: 37.8601<br>Longitude: -119.5353"
         ],
         "type": "scattermapbox"
        },
        {
         "hoverinfo": "text",
         "lat": [
          37.7896,
          37.8626,
          37.6181
         ],
         "lon": [
          -119.6426,
          -119.7777,
          -119.6619
         ],
         "marker": {
          "color": 4,
          "size": 10
         },
         "mode": "markers",
         "name": "Sierra Nevada red fox",
         "showlegend": true,
         "text": [
          "Animal ID: A005<br>Scientific Name: Vulpes vulpes necator<br>Redlist Category: Critically Endangered<br>Megafauna: False<br>Latitude: 37.7896<br>Longitude: -119.6426",
          "Animal ID: A005<br>Scientific Name: Vulpes vulpes necator<br>Redlist Category: Critically Endangered<br>Megafauna: False<br>Latitude: 37.8626<br>Longitude: -119.7777",
          "Animal ID: A005<br>Scientific Name: Vulpes vulpes necator<br>Redlist Category: Critically Endangered<br>Megafauna: False<br>Latitude: 37.6181<br>Longitude: -119.6619"
         ],
         "type": "scattermapbox"
        },
        {
         "hoverinfo": "text",
         "lat": [
          37.8829,
          37.8636,
          37.8681
         ],
         "lon": [
          -119.7608,
          -119.628,
          -119.6255
         ],
         "marker": {
          "color": 5,
          "size": 10
         },
         "mode": "markers",
         "name": "Bobcat",
         "showlegend": true,
         "text": [
          "Animal ID: A006<br>Scientific Name: Lynx rufus<br>Redlist Category: Least Concern<br>Megafauna: True<br>Latitude: 37.8829<br>Longitude: -119.7608",
          "Animal ID: A006<br>Scientific Name: Lynx rufus<br>Redlist Category: Least Concern<br>Megafauna: True<br>Latitude: 37.8636<br>Longitude: -119.628",
          "Animal ID: A006<br>Scientific Name: Lynx rufus<br>Redlist Category: Least Concern<br>Megafauna: True<br>Latitude: 37.8681<br>Longitude: -119.6255"
         ],
         "type": "scattermapbox"
        },
        {
         "hoverinfo": "text",
         "lat": [
          36.372,
          36.6622,
          36.2261
         ],
         "lon": [
          -113.1627,
          -112.2308,
          -112.1831
         ],
         "marker": {
          "color": 6,
          "size": 10
         },
         "mode": "markers",
         "name": "Mule deer",
         "showlegend": true,
         "text": [
          "Animal ID: A007<br>Scientific Name: Odocoileus hemionus<br>Redlist Category: Least Concern<br>Megafauna: True<br>Latitude: 36.372<br>Longitude: -113.1627",
          "Animal ID: A007<br>Scientific Name: Odocoileus hemionus<br>Redlist Category: Least Concern<br>Megafauna: True<br>Latitude: 36.6622<br>Longitude: -112.2308",
          "Animal ID: A007<br>Scientific Name: Odocoileus hemionus<br>Redlist Category: Least Concern<br>Megafauna: True<br>Latitude: 36.2261<br>Longitude: -112.1831"
         ],
         "type": "scattermapbox"
        },
        {
         "hoverinfo": "text",
         "lat": [
          36.6193,
          36.6016,
          36.5492
         ],
         "lon": [
          -112.3388,
          -112.3256,
          -112.7439
         ],
         "marker": {
          "color": 7,
          "size": 10
         },
         "mode": "markers",
         "name": "Desert bighorn sheep",
         "showlegend": true,
         "text": [
          "Animal ID: A008<br>Scientific Name: Ovis canadensis nelsoni<br>Redlist Category: Near Threatened<br>Megafauna: True<br>Latitude: 36.6193<br>Longitude: -112.3388",
          "Animal ID: A008<br>Scientific Name: Ovis canadensis nelsoni<br>Redlist Category: Near Threatened<br>Megafauna: True<br>Latitude: 36.6016<br>Longitude: -112.3256",
          "Animal ID: A008<br>Scientific Name: Ovis canadensis nelsoni<br>Redlist Category: Near Threatened<br>Megafauna: True<br>Latitude: 36.5492<br>Longitude: -112.7439"
         ],
         "type": "scattermapbox"
        },
        {
         "hoverinfo": "text",
         "lat": [
          36.3388,
          36.4868,
          36.6282
         ],
         "lon": [
          -112.119,
          -112.3517,
          -112.6524
         ],
         "marker": {
          "color": 8,
          "size": 10
         },
         "mode": "markers",
         "name": "Gray fox",
         "showlegend": true,
         "text": [
          "Animal ID: A009<br>Scientific Name: Urocyon cinereoargenteus<br>Redlist Category: Least Concern<br>Megafauna: True<br>Latitude: 36.3388<br>Longitude: -112.119",
          "Animal ID: A009<br>Scientific Name: Urocyon cinereoargenteus<br>Redlist Category: Least Concern<br>Megafauna: True<br>Latitude: 36.4868<br>Longitude: -112.3517",
          "Animal ID: A009<br>Scientific Name: Urocyon cinereoargenteus<br>Redlist Category: Least Concern<br>Megafauna: True<br>Latitude: 36.6282<br>Longitude: -112.6524"
         ],
         "type": "scattermapbox"
        }
       ],
       "layout": {
        "mapbox": {
         "center": {
          "lat": 40,
          "lon": -110
         },
         "style": "open-street-map",
         "zoom": 3
        },
        "template": {
         "data": {
          "bar": [
           {
            "error_x": {
             "color": "#2a3f5f"
            },
            "error_y": {
             "color": "#2a3f5f"
            },
            "marker": {
             "line": {
              "color": "#E5ECF6",
              "width": 0.5
             },
             "pattern": {
              "fillmode": "overlay",
              "size": 10,
              "solidity": 0.2
             }
            },
            "type": "bar"
           }
          ],
          "barpolar": [
           {
            "marker": {
             "line": {
              "color": "#E5ECF6",
              "width": 0.5
             },
             "pattern": {
              "fillmode": "overlay",
              "size": 10,
              "solidity": 0.2
             }
            },
            "type": "barpolar"
           }
          ],
          "carpet": [
           {
            "aaxis": {
             "endlinecolor": "#2a3f5f",
             "gridcolor": "white",
             "linecolor": "white",
             "minorgridcolor": "white",
             "startlinecolor": "#2a3f5f"
            },
            "baxis": {
             "endlinecolor": "#2a3f5f",
             "gridcolor": "white",
             "linecolor": "white",
             "minorgridcolor": "white",
             "startlinecolor": "#2a3f5f"
            },
            "type": "carpet"
           }
          ],
          "choropleth": [
           {
            "colorbar": {
             "outlinewidth": 0,
             "ticks": ""
            },
            "type": "choropleth"
           }
          ],
          "contour": [
           {
            "colorbar": {
             "outlinewidth": 0,
             "ticks": ""
            },
            "colorscale": [
             [
              0,
              "#0d0887"
             ],
             [
              0.1111111111111111,
              "#46039f"
             ],
             [
              0.2222222222222222,
              "#7201a8"
             ],
             [
              0.3333333333333333,
              "#9c179e"
             ],
             [
              0.4444444444444444,
              "#bd3786"
             ],
             [
              0.5555555555555556,
              "#d8576b"
             ],
             [
              0.6666666666666666,
              "#ed7953"
             ],
             [
              0.7777777777777778,
              "#fb9f3a"
             ],
             [
              0.8888888888888888,
              "#fdca26"
             ],
             [
              1,
              "#f0f921"
             ]
            ],
            "type": "contour"
           }
          ],
          "contourcarpet": [
           {
            "colorbar": {
             "outlinewidth": 0,
             "ticks": ""
            },
            "type": "contourcarpet"
           }
          ],
          "heatmap": [
           {
            "colorbar": {
             "outlinewidth": 0,
             "ticks": ""
            },
            "colorscale": [
             [
              0,
              "#0d0887"
             ],
             [
              0.1111111111111111,
              "#46039f"
             ],
             [
              0.2222222222222222,
              "#7201a8"
             ],
             [
              0.3333333333333333,
              "#9c179e"
             ],
             [
              0.4444444444444444,
              "#bd3786"
             ],
             [
              0.5555555555555556,
              "#d8576b"
             ],
             [
              0.6666666666666666,
              "#ed7953"
             ],
             [
              0.7777777777777778,
              "#fb9f3a"
             ],
             [
              0.8888888888888888,
              "#fdca26"
             ],
             [
              1,
              "#f0f921"
             ]
            ],
            "type": "heatmap"
           }
          ],
          "heatmapgl": [
           {
            "colorbar": {
             "outlinewidth": 0,
             "ticks": ""
            },
            "colorscale": [
             [
              0,
              "#0d0887"
             ],
             [
              0.1111111111111111,
              "#46039f"
             ],
             [
              0.2222222222222222,
              "#7201a8"
             ],
             [
              0.3333333333333333,
              "#9c179e"
             ],
             [
              0.4444444444444444,
              "#bd3786"
             ],
             [
              0.5555555555555556,
              "#d8576b"
             ],
             [
              0.6666666666666666,
              "#ed7953"
             ],
             [
              0.7777777777777778,
              "#fb9f3a"
             ],
             [
              0.8888888888888888,
              "#fdca26"
             ],
             [
              1,
              "#f0f921"
             ]
            ],
            "type": "heatmapgl"
           }
          ],
          "histogram": [
           {
            "marker": {
             "pattern": {
              "fillmode": "overlay",
              "size": 10,
              "solidity": 0.2
             }
            },
            "type": "histogram"
           }
          ],
          "histogram2d": [
           {
            "colorbar": {
             "outlinewidth": 0,
             "ticks": ""
            },
            "colorscale": [
             [
              0,
              "#0d0887"
             ],
             [
              0.1111111111111111,
              "#46039f"
             ],
             [
              0.2222222222222222,
              "#7201a8"
             ],
             [
              0.3333333333333333,
              "#9c179e"
             ],
             [
              0.4444444444444444,
              "#bd3786"
             ],
             [
              0.5555555555555556,
              "#d8576b"
             ],
             [
              0.6666666666666666,
              "#ed7953"
             ],
             [
              0.7777777777777778,
              "#fb9f3a"
             ],
             [
              0.8888888888888888,
              "#fdca26"
             ],
             [
              1,
              "#f0f921"
             ]
            ],
            "type": "histogram2d"
           }
          ],
          "histogram2dcontour": [
           {
            "colorbar": {
             "outlinewidth": 0,
             "ticks": ""
            },
            "colorscale": [
             [
              0,
              "#0d0887"
             ],
             [
              0.1111111111111111,
              "#46039f"
             ],
             [
              0.2222222222222222,
              "#7201a8"
             ],
             [
              0.3333333333333333,
              "#9c179e"
             ],
             [
              0.4444444444444444,
              "#bd3786"
             ],
             [
              0.5555555555555556,
              "#d8576b"
             ],
             [
              0.6666666666666666,
              "#ed7953"
             ],
             [
              0.7777777777777778,
              "#fb9f3a"
             ],
             [
              0.8888888888888888,
              "#fdca26"
             ],
             [
              1,
              "#f0f921"
             ]
            ],
            "type": "histogram2dcontour"
           }
          ],
          "mesh3d": [
           {
            "colorbar": {
             "outlinewidth": 0,
             "ticks": ""
            },
            "type": "mesh3d"
           }
          ],
          "parcoords": [
           {
            "line": {
             "colorbar": {
              "outlinewidth": 0,
              "ticks": ""
             }
            },
            "type": "parcoords"
           }
          ],
          "pie": [
           {
            "automargin": true,
            "type": "pie"
           }
          ],
          "scatter": [
           {
            "fillpattern": {
             "fillmode": "overlay",
             "size": 10,
             "solidity": 0.2
            },
            "type": "scatter"
           }
          ],
          "scatter3d": [
           {
            "line": {
             "colorbar": {
              "outlinewidth": 0,
              "ticks": ""
             }
            },
            "marker": {
             "colorbar": {
              "outlinewidth": 0,
              "ticks": ""
             }
            },
            "type": "scatter3d"
           }
          ],
          "scattercarpet": [
           {
            "marker": {
             "colorbar": {
              "outlinewidth": 0,
              "ticks": ""
             }
            },
            "type": "scattercarpet"
           }
          ],
          "scattergeo": [
           {
            "marker": {
             "colorbar": {
              "outlinewidth": 0,
              "ticks": ""
             }
            },
            "type": "scattergeo"
           }
          ],
          "scattergl": [
           {
            "marker": {
             "colorbar": {
              "outlinewidth": 0,
              "ticks": ""
             }
            },
            "type": "scattergl"
           }
          ],
          "scattermapbox": [
           {
            "marker": {
             "colorbar": {
              "outlinewidth": 0,
              "ticks": ""
             }
            },
            "type": "scattermapbox"
           }
          ],
          "scatterpolar": [
           {
            "marker": {
             "colorbar": {
              "outlinewidth": 0,
              "ticks": ""
             }
            },
            "type": "scatterpolar"
           }
          ],
          "scatterpolargl": [
           {
            "marker": {
             "colorbar": {
              "outlinewidth": 0,
              "ticks": ""
             }
            },
            "type": "scatterpolargl"
           }
          ],
          "scatterternary": [
           {
            "marker": {
             "colorbar": {
              "outlinewidth": 0,
              "ticks": ""
             }
            },
            "type": "scatterternary"
           }
          ],
          "surface": [
           {
            "colorbar": {
             "outlinewidth": 0,
             "ticks": ""
            },
            "colorscale": [
             [
              0,
              "#0d0887"
             ],
             [
              0.1111111111111111,
              "#46039f"
             ],
             [
              0.2222222222222222,
              "#7201a8"
             ],
             [
              0.3333333333333333,
              "#9c179e"
             ],
             [
              0.4444444444444444,
              "#bd3786"
             ],
             [
              0.5555555555555556,
              "#d8576b"
             ],
             [
              0.6666666666666666,
              "#ed7953"
             ],
             [
              0.7777777777777778,
              "#fb9f3a"
             ],
             [
              0.8888888888888888,
              "#fdca26"
             ],
             [
              1,
              "#f0f921"
             ]
            ],
            "type": "surface"
           }
          ],
          "table": [
           {
            "cells": {
             "fill": {
              "color": "#EBF0F8"
             },
             "line": {
              "color": "white"
             }
            },
            "header": {
             "fill": {
              "color": "#C8D4E3"
             },
             "line": {
              "color": "white"
             }
            },
            "type": "table"
           }
          ]
         },
         "layout": {
          "annotationdefaults": {
           "arrowcolor": "#2a3f5f",
           "arrowhead": 0,
           "arrowwidth": 1
          },
          "autotypenumbers": "strict",
          "coloraxis": {
           "colorbar": {
            "outlinewidth": 0,
            "ticks": ""
           }
          },
          "colorscale": {
           "diverging": [
            [
             0,
             "#8e0152"
            ],
            [
             0.1,
             "#c51b7d"
            ],
            [
             0.2,
             "#de77ae"
            ],
            [
             0.3,
             "#f1b6da"
            ],
            [
             0.4,
             "#fde0ef"
            ],
            [
             0.5,
             "#f7f7f7"
            ],
            [
             0.6,
             "#e6f5d0"
            ],
            [
             0.7,
             "#b8e186"
            ],
            [
             0.8,
             "#7fbc41"
            ],
            [
             0.9,
             "#4d9221"
            ],
            [
             1,
             "#276419"
            ]
           ],
           "sequential": [
            [
             0,
             "#0d0887"
            ],
            [
             0.1111111111111111,
             "#46039f"
            ],
            [
             0.2222222222222222,
             "#7201a8"
            ],
            [
             0.3333333333333333,
             "#9c179e"
            ],
            [
             0.4444444444444444,
             "#bd3786"
            ],
            [
             0.5555555555555556,
             "#d8576b"
            ],
            [
             0.6666666666666666,
             "#ed7953"
            ],
            [
             0.7777777777777778,
             "#fb9f3a"
            ],
            [
             0.8888888888888888,
             "#fdca26"
            ],
            [
             1,
             "#f0f921"
            ]
           ],
           "sequentialminus": [
            [
             0,
             "#0d0887"
            ],
            [
             0.1111111111111111,
             "#46039f"
            ],
            [
             0.2222222222222222,
             "#7201a8"
            ],
            [
             0.3333333333333333,
             "#9c179e"
            ],
            [
             0.4444444444444444,
             "#bd3786"
            ],
            [
             0.5555555555555556,
             "#d8576b"
            ],
            [
             0.6666666666666666,
             "#ed7953"
            ],
            [
             0.7777777777777778,
             "#fb9f3a"
            ],
            [
             0.8888888888888888,
             "#fdca26"
            ],
            [
             1,
             "#f0f921"
            ]
           ]
          },
          "colorway": [
           "#636efa",
           "#EF553B",
           "#00cc96",
           "#ab63fa",
           "#FFA15A",
           "#19d3f3",
           "#FF6692",
           "#B6E880",
           "#FF97FF",
           "#FECB52"
          ],
          "font": {
           "color": "#2a3f5f"
          },
          "geo": {
           "bgcolor": "white",
           "lakecolor": "white",
           "landcolor": "#E5ECF6",
           "showlakes": true,
           "showland": true,
           "subunitcolor": "white"
          },
          "hoverlabel": {
           "align": "left"
          },
          "hovermode": "closest",
          "mapbox": {
           "style": "light"
          },
          "paper_bgcolor": "white",
          "plot_bgcolor": "#E5ECF6",
          "polar": {
           "angularaxis": {
            "gridcolor": "white",
            "linecolor": "white",
            "ticks": ""
           },
           "bgcolor": "#E5ECF6",
           "radialaxis": {
            "gridcolor": "white",
            "linecolor": "white",
            "ticks": ""
           }
          },
          "scene": {
           "xaxis": {
            "backgroundcolor": "#E5ECF6",
            "gridcolor": "white",
            "gridwidth": 2,
            "linecolor": "white",
            "showbackground": true,
            "ticks": "",
            "zerolinecolor": "white"
           },
           "yaxis": {
            "backgroundcolor": "#E5ECF6",
            "gridcolor": "white",
            "gridwidth": 2,
            "linecolor": "white",
            "showbackground": true,
            "ticks": "",
            "zerolinecolor": "white"
           },
           "zaxis": {
            "backgroundcolor": "#E5ECF6",
            "gridcolor": "white",
            "gridwidth": 2,
            "linecolor": "white",
            "showbackground": true,
            "ticks": "",
            "zerolinecolor": "white"
           }
          },
          "shapedefaults": {
           "line": {
            "color": "#2a3f5f"
           }
          },
          "ternary": {
           "aaxis": {
            "gridcolor": "white",
            "linecolor": "white",
            "ticks": ""
           },
           "baxis": {
            "gridcolor": "white",
            "linecolor": "white",
            "ticks": ""
           },
           "bgcolor": "#E5ECF6",
           "caxis": {
            "gridcolor": "white",
            "linecolor": "white",
            "ticks": ""
           }
          },
          "title": {
           "x": 0.05
          },
          "xaxis": {
           "automargin": true,
           "gridcolor": "white",
           "linecolor": "white",
           "ticks": "",
           "title": {
            "standoff": 15
           },
           "zerolinecolor": "white",
           "zerolinewidth": 2
          },
          "yaxis": {
           "automargin": true,
           "gridcolor": "white",
           "linecolor": "white",
           "ticks": "",
           "title": {
            "standoff": 15
           },
           "zerolinecolor": "white",
           "zerolinewidth": 2
          }
         }
        }
       }
      },
      "text/html": [
       "<div>                            <div id=\"55c23ca4-bb96-4c78-9cbc-24595358893b\" class=\"plotly-graph-div\" style=\"height:525px; width:100%;\"></div>            <script type=\"text/javascript\">                require([\"plotly\"], function(Plotly) {                    window.PLOTLYENV=window.PLOTLYENV || {};                                    if (document.getElementById(\"55c23ca4-bb96-4c78-9cbc-24595358893b\")) {                    Plotly.newPlot(                        \"55c23ca4-bb96-4c78-9cbc-24595358893b\",                        [{\"fill\":\"toself\",\"fillcolor\":\"rgba(255, 0, 0, 0.1)\",\"lat\":[42.596356,46.142424,46.142424,42.596356],\"line\":{\"color\":\"black\"},\"lon\":[-112.939131,-112.939131,-107.048726,-107.048726],\"name\":\"Bounding Box\",\"type\":\"scattermapbox\"},{\"fill\":\"toself\",\"fillcolor\":\"rgba(255, 0, 0, 0.1)\",\"lat\":[-90,90,90,-90],\"line\":{\"color\":\"black\"},\"lon\":[-180,-180,180,180],\"name\":\"Bounding Box\",\"type\":\"scattermapbox\"},{\"fill\":\"toself\",\"fillcolor\":\"rgba(255, 0, 0, 0.1)\",\"lat\":[30.738207,51.538929,51.538929,30.738207],\"line\":{\"color\":\"black\"},\"lon\":[-124.178099,-124.178099,-95.942831,-95.942831],\"name\":\"Bounding Box\",\"type\":\"scattermapbox\"},{\"fill\":\"toself\",\"fillcolor\":\"rgba(128, 128, 128, 0.5)\",\"lat\":[44.4488,44.599,44.5166,44.428,44.4488],\"line\":{\"color\":\"black\"},\"lon\":[-110.839,-110.7052,-110.5339,-110.5885,-110.839],\"name\":\"Yellowstone National Park\",\"type\":\"scattermapbox\"},{\"fill\":\"toself\",\"fillcolor\":\"rgba(128, 128, 128, 0.5)\",\"lat\":[37.7244,37.6962,37.7799,37.8456,37.8651,37.7244],\"line\":{\"color\":\"black\"},\"lon\":[-119.655,-119.5964,-119.4893,-119.3029,-119.5383,-119.655],\"name\":\"Yosemite National Park\",\"type\":\"scattermapbox\"},{\"fill\":\"toself\",\"fillcolor\":\"rgba(128, 128, 128, 0.5)\",\"lat\":[36.1336,36.2331,36.2861,36.1182,36.057,36.1336],\"line\":{\"color\":\"black\"},\"lon\":[-112.1861,-112.2156,-112.0969,-111.8205,-112.1214,-112.1861],\"name\":\"Grand Canyon National Park\",\"type\":\"scattermapbox\"},{\"hoverinfo\":\"text\",\"lat\":[45.2284,44.3946,44.4246],\"lon\":[-110.7622,-110.8218,-110.1118],\"marker\":{\"color\":0,\"size\":10},\"mode\":\"markers\",\"name\":\"Wolf\",\"showlegend\":true,\"text\":[\"Animal ID: A001\\u003cbr\\u003eScientific Name: Canis lupus\\u003cbr\\u003eRedlist Category: Least Concern\\u003cbr\\u003eMegafauna: False\\u003cbr\\u003eLatitude: 45.2284\\u003cbr\\u003eLongitude: -110.7622\",\"Animal ID: A001\\u003cbr\\u003eScientific Name: Canis lupus\\u003cbr\\u003eRedlist Category: Least Concern\\u003cbr\\u003eMegafauna: False\\u003cbr\\u003eLatitude: 44.3946\\u003cbr\\u003eLongitude: -110.8218\",\"Animal ID: A001\\u003cbr\\u003eScientific Name: Canis lupus\\u003cbr\\u003eRedlist Category: Least Concern\\u003cbr\\u003eMegafauna: False\\u003cbr\\u003eLatitude: 44.4246\\u003cbr\\u003eLongitude: -110.1118\"],\"type\":\"scattermapbox\"},{\"hoverinfo\":\"text\",\"lat\":[44.576,44.5361,44.2221],\"lon\":[-110.6763,-110.7078,-110.8182],\"marker\":{\"color\":1,\"size\":10},\"mode\":\"markers\",\"name\":\"Bison\",\"showlegend\":true,\"text\":[\"Animal ID: A002\\u003cbr\\u003eScientific Name: Bison bison\\u003cbr\\u003eRedlist Category: Vulnerable\\u003cbr\\u003eMegafauna: True\\u003cbr\\u003eLatitude: 44.576\\u003cbr\\u003eLongitude: -110.6763\",\"Animal ID: A002\\u003cbr\\u003eScientific Name: Bison bison\\u003cbr\\u003eRedlist Category: Vulnerable\\u003cbr\\u003eMegafauna: True\\u003cbr\\u003eLatitude: 44.5361\\u003cbr\\u003eLongitude: -110.7078\",\"Animal ID: A002\\u003cbr\\u003eScientific Name: Bison bison\\u003cbr\\u003eRedlist Category: Vulnerable\\u003cbr\\u003eMegafauna: True\\u003cbr\\u003eLatitude: 44.2221\\u003cbr\\u003eLongitude: -110.8182\"],\"type\":\"scattermapbox\"},{\"hoverinfo\":\"text\",\"lat\":[44.4232,44.5472,44.5519],\"lon\":[-111.1061,-110.7893,-110.9812],\"marker\":{\"color\":2,\"size\":10},\"mode\":\"markers\",\"name\":\"Elk\",\"showlegend\":true,\"text\":[\"Animal ID: A003\\u003cbr\\u003eScientific Name: Cervus canadensis\\u003cbr\\u003eRedlist Category: Least Concern\\u003cbr\\u003eMegafauna: True\\u003cbr\\u003eLatitude: 44.4232\\u003cbr\\u003eLongitude: -111.1061\",\"Animal ID: A003\\u003cbr\\u003eScientific Name: Cervus canadensis\\u003cbr\\u003eRedlist Category: Least Concern\\u003cbr\\u003eMegafauna: True\\u003cbr\\u003eLatitude: 44.5472\\u003cbr\\u003eLongitude: -110.7893\",\"Animal ID: A003\\u003cbr\\u003eScientific Name: Cervus canadensis\\u003cbr\\u003eRedlist Category: Least Concern\\u003cbr\\u003eMegafauna: True\\u003cbr\\u003eLatitude: 44.5519\\u003cbr\\u003eLongitude: -110.9812\"],\"type\":\"scattermapbox\"},{\"hoverinfo\":\"text\",\"lat\":[37.9058,37.766,37.8601],\"lon\":[-119.7857,-119.6363,-119.5353],\"marker\":{\"color\":3,\"size\":10},\"mode\":\"markers\",\"name\":\"Sierra Nevada bighorn sheep\",\"showlegend\":true,\"text\":[\"Animal ID: A004\\u003cbr\\u003eScientific Name: Ovis canadensis sierrae\\u003cbr\\u003eRedlist Category: Endangered\\u003cbr\\u003eMegafauna: False\\u003cbr\\u003eLatitude: 37.9058\\u003cbr\\u003eLongitude: -119.7857\",\"Animal ID: A004\\u003cbr\\u003eScientific Name: Ovis canadensis sierrae\\u003cbr\\u003eRedlist Category: Endangered\\u003cbr\\u003eMegafauna: False\\u003cbr\\u003eLatitude: 37.766\\u003cbr\\u003eLongitude: -119.6363\",\"Animal ID: A004\\u003cbr\\u003eScientific Name: Ovis canadensis sierrae\\u003cbr\\u003eRedlist Category: Endangered\\u003cbr\\u003eMegafauna: False\\u003cbr\\u003eLatitude: 37.8601\\u003cbr\\u003eLongitude: -119.5353\"],\"type\":\"scattermapbox\"},{\"hoverinfo\":\"text\",\"lat\":[37.7896,37.8626,37.6181],\"lon\":[-119.6426,-119.7777,-119.6619],\"marker\":{\"color\":4,\"size\":10},\"mode\":\"markers\",\"name\":\"Sierra Nevada red fox\",\"showlegend\":true,\"text\":[\"Animal ID: A005\\u003cbr\\u003eScientific Name: Vulpes vulpes necator\\u003cbr\\u003eRedlist Category: Critically Endangered\\u003cbr\\u003eMegafauna: False\\u003cbr\\u003eLatitude: 37.7896\\u003cbr\\u003eLongitude: -119.6426\",\"Animal ID: A005\\u003cbr\\u003eScientific Name: Vulpes vulpes necator\\u003cbr\\u003eRedlist Category: Critically Endangered\\u003cbr\\u003eMegafauna: False\\u003cbr\\u003eLatitude: 37.8626\\u003cbr\\u003eLongitude: -119.7777\",\"Animal ID: A005\\u003cbr\\u003eScientific Name: Vulpes vulpes necator\\u003cbr\\u003eRedlist Category: Critically Endangered\\u003cbr\\u003eMegafauna: False\\u003cbr\\u003eLatitude: 37.6181\\u003cbr\\u003eLongitude: -119.6619\"],\"type\":\"scattermapbox\"},{\"hoverinfo\":\"text\",\"lat\":[37.8829,37.8636,37.8681],\"lon\":[-119.7608,-119.628,-119.6255],\"marker\":{\"color\":5,\"size\":10},\"mode\":\"markers\",\"name\":\"Bobcat\",\"showlegend\":true,\"text\":[\"Animal ID: A006\\u003cbr\\u003eScientific Name: Lynx rufus\\u003cbr\\u003eRedlist Category: Least Concern\\u003cbr\\u003eMegafauna: True\\u003cbr\\u003eLatitude: 37.8829\\u003cbr\\u003eLongitude: -119.7608\",\"Animal ID: A006\\u003cbr\\u003eScientific Name: Lynx rufus\\u003cbr\\u003eRedlist Category: Least Concern\\u003cbr\\u003eMegafauna: True\\u003cbr\\u003eLatitude: 37.8636\\u003cbr\\u003eLongitude: -119.628\",\"Animal ID: A006\\u003cbr\\u003eScientific Name: Lynx rufus\\u003cbr\\u003eRedlist Category: Least Concern\\u003cbr\\u003eMegafauna: True\\u003cbr\\u003eLatitude: 37.8681\\u003cbr\\u003eLongitude: -119.6255\"],\"type\":\"scattermapbox\"},{\"hoverinfo\":\"text\",\"lat\":[36.372,36.6622,36.2261],\"lon\":[-113.1627,-112.2308,-112.1831],\"marker\":{\"color\":6,\"size\":10},\"mode\":\"markers\",\"name\":\"Mule deer\",\"showlegend\":true,\"text\":[\"Animal ID: A007\\u003cbr\\u003eScientific Name: Odocoileus hemionus\\u003cbr\\u003eRedlist Category: Least Concern\\u003cbr\\u003eMegafauna: True\\u003cbr\\u003eLatitude: 36.372\\u003cbr\\u003eLongitude: -113.1627\",\"Animal ID: A007\\u003cbr\\u003eScientific Name: Odocoileus hemionus\\u003cbr\\u003eRedlist Category: Least Concern\\u003cbr\\u003eMegafauna: True\\u003cbr\\u003eLatitude: 36.6622\\u003cbr\\u003eLongitude: -112.2308\",\"Animal ID: A007\\u003cbr\\u003eScientific Name: Odocoileus hemionus\\u003cbr\\u003eRedlist Category: Least Concern\\u003cbr\\u003eMegafauna: True\\u003cbr\\u003eLatitude: 36.2261\\u003cbr\\u003eLongitude: -112.1831\"],\"type\":\"scattermapbox\"},{\"hoverinfo\":\"text\",\"lat\":[36.6193,36.6016,36.5492],\"lon\":[-112.3388,-112.3256,-112.7439],\"marker\":{\"color\":7,\"size\":10},\"mode\":\"markers\",\"name\":\"Desert bighorn sheep\",\"showlegend\":true,\"text\":[\"Animal ID: A008\\u003cbr\\u003eScientific Name: Ovis canadensis nelsoni\\u003cbr\\u003eRedlist Category: Near Threatened\\u003cbr\\u003eMegafauna: True\\u003cbr\\u003eLatitude: 36.6193\\u003cbr\\u003eLongitude: -112.3388\",\"Animal ID: A008\\u003cbr\\u003eScientific Name: Ovis canadensis nelsoni\\u003cbr\\u003eRedlist Category: Near Threatened\\u003cbr\\u003eMegafauna: True\\u003cbr\\u003eLatitude: 36.6016\\u003cbr\\u003eLongitude: -112.3256\",\"Animal ID: A008\\u003cbr\\u003eScientific Name: Ovis canadensis nelsoni\\u003cbr\\u003eRedlist Category: Near Threatened\\u003cbr\\u003eMegafauna: True\\u003cbr\\u003eLatitude: 36.5492\\u003cbr\\u003eLongitude: -112.7439\"],\"type\":\"scattermapbox\"},{\"hoverinfo\":\"text\",\"lat\":[36.3388,36.4868,36.6282],\"lon\":[-112.119,-112.3517,-112.6524],\"marker\":{\"color\":8,\"size\":10},\"mode\":\"markers\",\"name\":\"Gray fox\",\"showlegend\":true,\"text\":[\"Animal ID: A009\\u003cbr\\u003eScientific Name: Urocyon cinereoargenteus\\u003cbr\\u003eRedlist Category: Least Concern\\u003cbr\\u003eMegafauna: True\\u003cbr\\u003eLatitude: 36.3388\\u003cbr\\u003eLongitude: -112.119\",\"Animal ID: A009\\u003cbr\\u003eScientific Name: Urocyon cinereoargenteus\\u003cbr\\u003eRedlist Category: Least Concern\\u003cbr\\u003eMegafauna: True\\u003cbr\\u003eLatitude: 36.4868\\u003cbr\\u003eLongitude: -112.3517\",\"Animal ID: A009\\u003cbr\\u003eScientific Name: Urocyon cinereoargenteus\\u003cbr\\u003eRedlist Category: Least Concern\\u003cbr\\u003eMegafauna: True\\u003cbr\\u003eLatitude: 36.6282\\u003cbr\\u003eLongitude: -112.6524\"],\"type\":\"scattermapbox\"}],                        {\"template\":{\"data\":{\"histogram2dcontour\":[{\"type\":\"histogram2dcontour\",\"colorbar\":{\"outlinewidth\":0,\"ticks\":\"\"},\"colorscale\":[[0.0,\"#0d0887\"],[0.1111111111111111,\"#46039f\"],[0.2222222222222222,\"#7201a8\"],[0.3333333333333333,\"#9c179e\"],[0.4444444444444444,\"#bd3786\"],[0.5555555555555556,\"#d8576b\"],[0.6666666666666666,\"#ed7953\"],[0.7777777777777778,\"#fb9f3a\"],[0.8888888888888888,\"#fdca26\"],[1.0,\"#f0f921\"]]}],\"choropleth\":[{\"type\":\"choropleth\",\"colorbar\":{\"outlinewidth\":0,\"ticks\":\"\"}}],\"histogram2d\":[{\"type\":\"histogram2d\",\"colorbar\":{\"outlinewidth\":0,\"ticks\":\"\"},\"colorscale\":[[0.0,\"#0d0887\"],[0.1111111111111111,\"#46039f\"],[0.2222222222222222,\"#7201a8\"],[0.3333333333333333,\"#9c179e\"],[0.4444444444444444,\"#bd3786\"],[0.5555555555555556,\"#d8576b\"],[0.6666666666666666,\"#ed7953\"],[0.7777777777777778,\"#fb9f3a\"],[0.8888888888888888,\"#fdca26\"],[1.0,\"#f0f921\"]]}],\"heatmap\":[{\"type\":\"heatmap\",\"colorbar\":{\"outlinewidth\":0,\"ticks\":\"\"},\"colorscale\":[[0.0,\"#0d0887\"],[0.1111111111111111,\"#46039f\"],[0.2222222222222222,\"#7201a8\"],[0.3333333333333333,\"#9c179e\"],[0.4444444444444444,\"#bd3786\"],[0.5555555555555556,\"#d8576b\"],[0.6666666666666666,\"#ed7953\"],[0.7777777777777778,\"#fb9f3a\"],[0.8888888888888888,\"#fdca26\"],[1.0,\"#f0f921\"]]}],\"heatmapgl\":[{\"type\":\"heatmapgl\",\"colorbar\":{\"outlinewidth\":0,\"ticks\":\"\"},\"colorscale\":[[0.0,\"#0d0887\"],[0.1111111111111111,\"#46039f\"],[0.2222222222222222,\"#7201a8\"],[0.3333333333333333,\"#9c179e\"],[0.4444444444444444,\"#bd3786\"],[0.5555555555555556,\"#d8576b\"],[0.6666666666666666,\"#ed7953\"],[0.7777777777777778,\"#fb9f3a\"],[0.8888888888888888,\"#fdca26\"],[1.0,\"#f0f921\"]]}],\"contourcarpet\":[{\"type\":\"contourcarpet\",\"colorbar\":{\"outlinewidth\":0,\"ticks\":\"\"}}],\"contour\":[{\"type\":\"contour\",\"colorbar\":{\"outlinewidth\":0,\"ticks\":\"\"},\"colorscale\":[[0.0,\"#0d0887\"],[0.1111111111111111,\"#46039f\"],[0.2222222222222222,\"#7201a8\"],[0.3333333333333333,\"#9c179e\"],[0.4444444444444444,\"#bd3786\"],[0.5555555555555556,\"#d8576b\"],[0.6666666666666666,\"#ed7953\"],[0.7777777777777778,\"#fb9f3a\"],[0.8888888888888888,\"#fdca26\"],[1.0,\"#f0f921\"]]}],\"surface\":[{\"type\":\"surface\",\"colorbar\":{\"outlinewidth\":0,\"ticks\":\"\"},\"colorscale\":[[0.0,\"#0d0887\"],[0.1111111111111111,\"#46039f\"],[0.2222222222222222,\"#7201a8\"],[0.3333333333333333,\"#9c179e\"],[0.4444444444444444,\"#bd3786\"],[0.5555555555555556,\"#d8576b\"],[0.6666666666666666,\"#ed7953\"],[0.7777777777777778,\"#fb9f3a\"],[0.8888888888888888,\"#fdca26\"],[1.0,\"#f0f921\"]]}],\"mesh3d\":[{\"type\":\"mesh3d\",\"colorbar\":{\"outlinewidth\":0,\"ticks\":\"\"}}],\"scatter\":[{\"fillpattern\":{\"fillmode\":\"overlay\",\"size\":10,\"solidity\":0.2},\"type\":\"scatter\"}],\"parcoords\":[{\"type\":\"parcoords\",\"line\":{\"colorbar\":{\"outlinewidth\":0,\"ticks\":\"\"}}}],\"scatterpolargl\":[{\"type\":\"scatterpolargl\",\"marker\":{\"colorbar\":{\"outlinewidth\":0,\"ticks\":\"\"}}}],\"bar\":[{\"error_x\":{\"color\":\"#2a3f5f\"},\"error_y\":{\"color\":\"#2a3f5f\"},\"marker\":{\"line\":{\"color\":\"#E5ECF6\",\"width\":0.5},\"pattern\":{\"fillmode\":\"overlay\",\"size\":10,\"solidity\":0.2}},\"type\":\"bar\"}],\"scattergeo\":[{\"type\":\"scattergeo\",\"marker\":{\"colorbar\":{\"outlinewidth\":0,\"ticks\":\"\"}}}],\"scatterpolar\":[{\"type\":\"scatterpolar\",\"marker\":{\"colorbar\":{\"outlinewidth\":0,\"ticks\":\"\"}}}],\"histogram\":[{\"marker\":{\"pattern\":{\"fillmode\":\"overlay\",\"size\":10,\"solidity\":0.2}},\"type\":\"histogram\"}],\"scattergl\":[{\"type\":\"scattergl\",\"marker\":{\"colorbar\":{\"outlinewidth\":0,\"ticks\":\"\"}}}],\"scatter3d\":[{\"type\":\"scatter3d\",\"line\":{\"colorbar\":{\"outlinewidth\":0,\"ticks\":\"\"}},\"marker\":{\"colorbar\":{\"outlinewidth\":0,\"ticks\":\"\"}}}],\"scattermapbox\":[{\"type\":\"scattermapbox\",\"marker\":{\"colorbar\":{\"outlinewidth\":0,\"ticks\":\"\"}}}],\"scatterternary\":[{\"type\":\"scatterternary\",\"marker\":{\"colorbar\":{\"outlinewidth\":0,\"ticks\":\"\"}}}],\"scattercarpet\":[{\"type\":\"scattercarpet\",\"marker\":{\"colorbar\":{\"outlinewidth\":0,\"ticks\":\"\"}}}],\"carpet\":[{\"aaxis\":{\"endlinecolor\":\"#2a3f5f\",\"gridcolor\":\"white\",\"linecolor\":\"white\",\"minorgridcolor\":\"white\",\"startlinecolor\":\"#2a3f5f\"},\"baxis\":{\"endlinecolor\":\"#2a3f5f\",\"gridcolor\":\"white\",\"linecolor\":\"white\",\"minorgridcolor\":\"white\",\"startlinecolor\":\"#2a3f5f\"},\"type\":\"carpet\"}],\"table\":[{\"cells\":{\"fill\":{\"color\":\"#EBF0F8\"},\"line\":{\"color\":\"white\"}},\"header\":{\"fill\":{\"color\":\"#C8D4E3\"},\"line\":{\"color\":\"white\"}},\"type\":\"table\"}],\"barpolar\":[{\"marker\":{\"line\":{\"color\":\"#E5ECF6\",\"width\":0.5},\"pattern\":{\"fillmode\":\"overlay\",\"size\":10,\"solidity\":0.2}},\"type\":\"barpolar\"}],\"pie\":[{\"automargin\":true,\"type\":\"pie\"}]},\"layout\":{\"autotypenumbers\":\"strict\",\"colorway\":[\"#636efa\",\"#EF553B\",\"#00cc96\",\"#ab63fa\",\"#FFA15A\",\"#19d3f3\",\"#FF6692\",\"#B6E880\",\"#FF97FF\",\"#FECB52\"],\"font\":{\"color\":\"#2a3f5f\"},\"hovermode\":\"closest\",\"hoverlabel\":{\"align\":\"left\"},\"paper_bgcolor\":\"white\",\"plot_bgcolor\":\"#E5ECF6\",\"polar\":{\"bgcolor\":\"#E5ECF6\",\"angularaxis\":{\"gridcolor\":\"white\",\"linecolor\":\"white\",\"ticks\":\"\"},\"radialaxis\":{\"gridcolor\":\"white\",\"linecolor\":\"white\",\"ticks\":\"\"}},\"ternary\":{\"bgcolor\":\"#E5ECF6\",\"aaxis\":{\"gridcolor\":\"white\",\"linecolor\":\"white\",\"ticks\":\"\"},\"baxis\":{\"gridcolor\":\"white\",\"linecolor\":\"white\",\"ticks\":\"\"},\"caxis\":{\"gridcolor\":\"white\",\"linecolor\":\"white\",\"ticks\":\"\"}},\"coloraxis\":{\"colorbar\":{\"outlinewidth\":0,\"ticks\":\"\"}},\"colorscale\":{\"sequential\":[[0.0,\"#0d0887\"],[0.1111111111111111,\"#46039f\"],[0.2222222222222222,\"#7201a8\"],[0.3333333333333333,\"#9c179e\"],[0.4444444444444444,\"#bd3786\"],[0.5555555555555556,\"#d8576b\"],[0.6666666666666666,\"#ed7953\"],[0.7777777777777778,\"#fb9f3a\"],[0.8888888888888888,\"#fdca26\"],[1.0,\"#f0f921\"]],\"sequentialminus\":[[0.0,\"#0d0887\"],[0.1111111111111111,\"#46039f\"],[0.2222222222222222,\"#7201a8\"],[0.3333333333333333,\"#9c179e\"],[0.4444444444444444,\"#bd3786\"],[0.5555555555555556,\"#d8576b\"],[0.6666666666666666,\"#ed7953\"],[0.7777777777777778,\"#fb9f3a\"],[0.8888888888888888,\"#fdca26\"],[1.0,\"#f0f921\"]],\"diverging\":[[0,\"#8e0152\"],[0.1,\"#c51b7d\"],[0.2,\"#de77ae\"],[0.3,\"#f1b6da\"],[0.4,\"#fde0ef\"],[0.5,\"#f7f7f7\"],[0.6,\"#e6f5d0\"],[0.7,\"#b8e186\"],[0.8,\"#7fbc41\"],[0.9,\"#4d9221\"],[1,\"#276419\"]]},\"xaxis\":{\"gridcolor\":\"white\",\"linecolor\":\"white\",\"ticks\":\"\",\"title\":{\"standoff\":15},\"zerolinecolor\":\"white\",\"automargin\":true,\"zerolinewidth\":2},\"yaxis\":{\"gridcolor\":\"white\",\"linecolor\":\"white\",\"ticks\":\"\",\"title\":{\"standoff\":15},\"zerolinecolor\":\"white\",\"automargin\":true,\"zerolinewidth\":2},\"scene\":{\"xaxis\":{\"backgroundcolor\":\"#E5ECF6\",\"gridcolor\":\"white\",\"linecolor\":\"white\",\"showbackground\":true,\"ticks\":\"\",\"zerolinecolor\":\"white\",\"gridwidth\":2},\"yaxis\":{\"backgroundcolor\":\"#E5ECF6\",\"gridcolor\":\"white\",\"linecolor\":\"white\",\"showbackground\":true,\"ticks\":\"\",\"zerolinecolor\":\"white\",\"gridwidth\":2},\"zaxis\":{\"backgroundcolor\":\"#E5ECF6\",\"gridcolor\":\"white\",\"linecolor\":\"white\",\"showbackground\":true,\"ticks\":\"\",\"zerolinecolor\":\"white\",\"gridwidth\":2}},\"shapedefaults\":{\"line\":{\"color\":\"#2a3f5f\"}},\"annotationdefaults\":{\"arrowcolor\":\"#2a3f5f\",\"arrowhead\":0,\"arrowwidth\":1},\"geo\":{\"bgcolor\":\"white\",\"landcolor\":\"#E5ECF6\",\"subunitcolor\":\"white\",\"showland\":true,\"showlakes\":true,\"lakecolor\":\"white\"},\"title\":{\"x\":0.05},\"mapbox\":{\"style\":\"light\"}}},\"mapbox\":{\"center\":{\"lat\":40,\"lon\":-110},\"style\":\"open-street-map\",\"zoom\":3}},                        {\"scrollZoom\": true, \"responsive\": true}                    ).then(function(){\n",
       "                            \n",
       "var gd = document.getElementById('55c23ca4-bb96-4c78-9cbc-24595358893b');\n",
       "var x = new MutationObserver(function (mutations, observer) {{\n",
       "        var display = window.getComputedStyle(gd).display;\n",
       "        if (!display || display === 'none') {{\n",
       "            console.log([gd, 'removed!']);\n",
       "            Plotly.purge(gd);\n",
       "            observer.disconnect();\n",
       "        }}\n",
       "}});\n",
       "\n",
       "// Listen for the removal of the full notebook cells\n",
       "var notebookContainer = gd.closest('#notebook-container');\n",
       "if (notebookContainer) {{\n",
       "    x.observe(notebookContainer, {childList: true});\n",
       "}}\n",
       "\n",
       "// Listen for the clearing of the current output cell\n",
       "var outputEl = gd.closest('.output');\n",
       "if (outputEl) {{\n",
       "    x.observe(outputEl, {childList: true});\n",
       "}}\n",
       "\n",
       "                        })                };                });            </script>        </div>"
      ]
     },
     "metadata": {},
     "output_type": "display_data"
    }
   ],
   "source": [
    "fig = plot(satellites_dict, protected_areas_gdf, animal_full_gdf, show_satellites=True)\n",
    "fig.show(config=defualt_plotly_config)"
   ]
  },
  {
   "cell_type": "markdown",
   "id": "35547e10",
   "metadata": {},
   "source": [
    "![title](output/satellite_vis.png)"
   ]
  },
  {
   "cell_type": "code",
   "execution_count": 610,
   "id": "a7643c17",
   "metadata": {},
   "outputs": [
    {
     "data": {
      "application/vnd.plotly.v1+json": {
       "config": {
        "plotlyServerURL": "https://plot.ly",
        "responsive": true,
        "scrollZoom": true
       },
       "data": [
        {
         "fill": "toself",
         "fillcolor": "rgba(128, 128, 128, 0.5)",
         "lat": [
          44.4488,
          44.599,
          44.5166,
          44.428,
          44.4488
         ],
         "line": {
          "color": "black"
         },
         "lon": [
          -110.839,
          -110.7052,
          -110.5339,
          -110.5885,
          -110.839
         ],
         "name": "Yellowstone National Park",
         "type": "scattermapbox"
        },
        {
         "fill": "toself",
         "fillcolor": "rgba(128, 128, 128, 0.5)",
         "lat": [
          37.7244,
          37.6962,
          37.7799,
          37.8456,
          37.8651,
          37.7244
         ],
         "line": {
          "color": "black"
         },
         "lon": [
          -119.655,
          -119.5964,
          -119.4893,
          -119.3029,
          -119.5383,
          -119.655
         ],
         "name": "Yosemite National Park",
         "type": "scattermapbox"
        },
        {
         "fill": "toself",
         "fillcolor": "rgba(128, 128, 128, 0.5)",
         "lat": [
          36.1336,
          36.2331,
          36.2861,
          36.1182,
          36.057,
          36.1336
         ],
         "line": {
          "color": "black"
         },
         "lon": [
          -112.1861,
          -112.2156,
          -112.0969,
          -111.8205,
          -112.1214,
          -112.1861
         ],
         "name": "Grand Canyon National Park",
         "type": "scattermapbox"
        },
        {
         "hoverinfo": "text",
         "lat": [
          45.2284,
          44.3946,
          44.4246
         ],
         "lon": [
          -110.7622,
          -110.8218,
          -110.1118
         ],
         "marker": {
          "color": 0,
          "size": 10
         },
         "mode": "markers",
         "name": "Wolf",
         "showlegend": true,
         "text": [
          "Animal ID: A001<br>Scientific Name: Canis lupus<br>Redlist Category: Least Concern<br>Megafauna: False<br>Latitude: 45.2284<br>Longitude: -110.7622",
          "Animal ID: A001<br>Scientific Name: Canis lupus<br>Redlist Category: Least Concern<br>Megafauna: False<br>Latitude: 44.3946<br>Longitude: -110.8218",
          "Animal ID: A001<br>Scientific Name: Canis lupus<br>Redlist Category: Least Concern<br>Megafauna: False<br>Latitude: 44.4246<br>Longitude: -110.1118"
         ],
         "type": "scattermapbox"
        },
        {
         "hoverinfo": "text",
         "lat": [
          44.576,
          44.5361,
          44.2221
         ],
         "lon": [
          -110.6763,
          -110.7078,
          -110.8182
         ],
         "marker": {
          "color": 1,
          "size": 10
         },
         "mode": "markers",
         "name": "Bison",
         "showlegend": true,
         "text": [
          "Animal ID: A002<br>Scientific Name: Bison bison<br>Redlist Category: Vulnerable<br>Megafauna: True<br>Latitude: 44.576<br>Longitude: -110.6763",
          "Animal ID: A002<br>Scientific Name: Bison bison<br>Redlist Category: Vulnerable<br>Megafauna: True<br>Latitude: 44.5361<br>Longitude: -110.7078",
          "Animal ID: A002<br>Scientific Name: Bison bison<br>Redlist Category: Vulnerable<br>Megafauna: True<br>Latitude: 44.2221<br>Longitude: -110.8182"
         ],
         "type": "scattermapbox"
        },
        {
         "hoverinfo": "text",
         "lat": [
          44.4232,
          44.5472,
          44.5519
         ],
         "lon": [
          -111.1061,
          -110.7893,
          -110.9812
         ],
         "marker": {
          "color": 2,
          "size": 10
         },
         "mode": "markers",
         "name": "Elk",
         "showlegend": true,
         "text": [
          "Animal ID: A003<br>Scientific Name: Cervus canadensis<br>Redlist Category: Least Concern<br>Megafauna: True<br>Latitude: 44.4232<br>Longitude: -111.1061",
          "Animal ID: A003<br>Scientific Name: Cervus canadensis<br>Redlist Category: Least Concern<br>Megafauna: True<br>Latitude: 44.5472<br>Longitude: -110.7893",
          "Animal ID: A003<br>Scientific Name: Cervus canadensis<br>Redlist Category: Least Concern<br>Megafauna: True<br>Latitude: 44.5519<br>Longitude: -110.9812"
         ],
         "type": "scattermapbox"
        },
        {
         "hoverinfo": "text",
         "lat": [
          37.9058,
          37.766,
          37.8601
         ],
         "lon": [
          -119.7857,
          -119.6363,
          -119.5353
         ],
         "marker": {
          "color": 3,
          "size": 10
         },
         "mode": "markers",
         "name": "Sierra Nevada bighorn sheep",
         "showlegend": true,
         "text": [
          "Animal ID: A004<br>Scientific Name: Ovis canadensis sierrae<br>Redlist Category: Endangered<br>Megafauna: False<br>Latitude: 37.9058<br>Longitude: -119.7857",
          "Animal ID: A004<br>Scientific Name: Ovis canadensis sierrae<br>Redlist Category: Endangered<br>Megafauna: False<br>Latitude: 37.766<br>Longitude: -119.6363",
          "Animal ID: A004<br>Scientific Name: Ovis canadensis sierrae<br>Redlist Category: Endangered<br>Megafauna: False<br>Latitude: 37.8601<br>Longitude: -119.5353"
         ],
         "type": "scattermapbox"
        },
        {
         "hoverinfo": "text",
         "lat": [
          37.7896,
          37.8626,
          37.6181
         ],
         "lon": [
          -119.6426,
          -119.7777,
          -119.6619
         ],
         "marker": {
          "color": 4,
          "size": 10
         },
         "mode": "markers",
         "name": "Sierra Nevada red fox",
         "showlegend": true,
         "text": [
          "Animal ID: A005<br>Scientific Name: Vulpes vulpes necator<br>Redlist Category: Critically Endangered<br>Megafauna: False<br>Latitude: 37.7896<br>Longitude: -119.6426",
          "Animal ID: A005<br>Scientific Name: Vulpes vulpes necator<br>Redlist Category: Critically Endangered<br>Megafauna: False<br>Latitude: 37.8626<br>Longitude: -119.7777",
          "Animal ID: A005<br>Scientific Name: Vulpes vulpes necator<br>Redlist Category: Critically Endangered<br>Megafauna: False<br>Latitude: 37.6181<br>Longitude: -119.6619"
         ],
         "type": "scattermapbox"
        },
        {
         "hoverinfo": "text",
         "lat": [
          37.8829,
          37.8636,
          37.8681
         ],
         "lon": [
          -119.7608,
          -119.628,
          -119.6255
         ],
         "marker": {
          "color": 5,
          "size": 10
         },
         "mode": "markers",
         "name": "Bobcat",
         "showlegend": true,
         "text": [
          "Animal ID: A006<br>Scientific Name: Lynx rufus<br>Redlist Category: Least Concern<br>Megafauna: True<br>Latitude: 37.8829<br>Longitude: -119.7608",
          "Animal ID: A006<br>Scientific Name: Lynx rufus<br>Redlist Category: Least Concern<br>Megafauna: True<br>Latitude: 37.8636<br>Longitude: -119.628",
          "Animal ID: A006<br>Scientific Name: Lynx rufus<br>Redlist Category: Least Concern<br>Megafauna: True<br>Latitude: 37.8681<br>Longitude: -119.6255"
         ],
         "type": "scattermapbox"
        },
        {
         "hoverinfo": "text",
         "lat": [
          36.372,
          36.6622,
          36.2261
         ],
         "lon": [
          -113.1627,
          -112.2308,
          -112.1831
         ],
         "marker": {
          "color": 6,
          "size": 10
         },
         "mode": "markers",
         "name": "Mule deer",
         "showlegend": true,
         "text": [
          "Animal ID: A007<br>Scientific Name: Odocoileus hemionus<br>Redlist Category: Least Concern<br>Megafauna: True<br>Latitude: 36.372<br>Longitude: -113.1627",
          "Animal ID: A007<br>Scientific Name: Odocoileus hemionus<br>Redlist Category: Least Concern<br>Megafauna: True<br>Latitude: 36.6622<br>Longitude: -112.2308",
          "Animal ID: A007<br>Scientific Name: Odocoileus hemionus<br>Redlist Category: Least Concern<br>Megafauna: True<br>Latitude: 36.2261<br>Longitude: -112.1831"
         ],
         "type": "scattermapbox"
        },
        {
         "hoverinfo": "text",
         "lat": [
          36.6193,
          36.6016,
          36.5492
         ],
         "lon": [
          -112.3388,
          -112.3256,
          -112.7439
         ],
         "marker": {
          "color": 7,
          "size": 10
         },
         "mode": "markers",
         "name": "Desert bighorn sheep",
         "showlegend": true,
         "text": [
          "Animal ID: A008<br>Scientific Name: Ovis canadensis nelsoni<br>Redlist Category: Near Threatened<br>Megafauna: True<br>Latitude: 36.6193<br>Longitude: -112.3388",
          "Animal ID: A008<br>Scientific Name: Ovis canadensis nelsoni<br>Redlist Category: Near Threatened<br>Megafauna: True<br>Latitude: 36.6016<br>Longitude: -112.3256",
          "Animal ID: A008<br>Scientific Name: Ovis canadensis nelsoni<br>Redlist Category: Near Threatened<br>Megafauna: True<br>Latitude: 36.5492<br>Longitude: -112.7439"
         ],
         "type": "scattermapbox"
        },
        {
         "hoverinfo": "text",
         "lat": [
          36.3388,
          36.4868,
          36.6282
         ],
         "lon": [
          -112.119,
          -112.3517,
          -112.6524
         ],
         "marker": {
          "color": 8,
          "size": 10
         },
         "mode": "markers",
         "name": "Gray fox",
         "showlegend": true,
         "text": [
          "Animal ID: A009<br>Scientific Name: Urocyon cinereoargenteus<br>Redlist Category: Least Concern<br>Megafauna: True<br>Latitude: 36.3388<br>Longitude: -112.119",
          "Animal ID: A009<br>Scientific Name: Urocyon cinereoargenteus<br>Redlist Category: Least Concern<br>Megafauna: True<br>Latitude: 36.4868<br>Longitude: -112.3517",
          "Animal ID: A009<br>Scientific Name: Urocyon cinereoargenteus<br>Redlist Category: Least Concern<br>Megafauna: True<br>Latitude: 36.6282<br>Longitude: -112.6524"
         ],
         "type": "scattermapbox"
        }
       ],
       "layout": {
        "mapbox": {
         "center": {
          "lat": 40,
          "lon": -110
         },
         "style": "open-street-map",
         "zoom": 3
        },
        "template": {
         "data": {
          "bar": [
           {
            "error_x": {
             "color": "#2a3f5f"
            },
            "error_y": {
             "color": "#2a3f5f"
            },
            "marker": {
             "line": {
              "color": "#E5ECF6",
              "width": 0.5
             },
             "pattern": {
              "fillmode": "overlay",
              "size": 10,
              "solidity": 0.2
             }
            },
            "type": "bar"
           }
          ],
          "barpolar": [
           {
            "marker": {
             "line": {
              "color": "#E5ECF6",
              "width": 0.5
             },
             "pattern": {
              "fillmode": "overlay",
              "size": 10,
              "solidity": 0.2
             }
            },
            "type": "barpolar"
           }
          ],
          "carpet": [
           {
            "aaxis": {
             "endlinecolor": "#2a3f5f",
             "gridcolor": "white",
             "linecolor": "white",
             "minorgridcolor": "white",
             "startlinecolor": "#2a3f5f"
            },
            "baxis": {
             "endlinecolor": "#2a3f5f",
             "gridcolor": "white",
             "linecolor": "white",
             "minorgridcolor": "white",
             "startlinecolor": "#2a3f5f"
            },
            "type": "carpet"
           }
          ],
          "choropleth": [
           {
            "colorbar": {
             "outlinewidth": 0,
             "ticks": ""
            },
            "type": "choropleth"
           }
          ],
          "contour": [
           {
            "colorbar": {
             "outlinewidth": 0,
             "ticks": ""
            },
            "colorscale": [
             [
              0,
              "#0d0887"
             ],
             [
              0.1111111111111111,
              "#46039f"
             ],
             [
              0.2222222222222222,
              "#7201a8"
             ],
             [
              0.3333333333333333,
              "#9c179e"
             ],
             [
              0.4444444444444444,
              "#bd3786"
             ],
             [
              0.5555555555555556,
              "#d8576b"
             ],
             [
              0.6666666666666666,
              "#ed7953"
             ],
             [
              0.7777777777777778,
              "#fb9f3a"
             ],
             [
              0.8888888888888888,
              "#fdca26"
             ],
             [
              1,
              "#f0f921"
             ]
            ],
            "type": "contour"
           }
          ],
          "contourcarpet": [
           {
            "colorbar": {
             "outlinewidth": 0,
             "ticks": ""
            },
            "type": "contourcarpet"
           }
          ],
          "heatmap": [
           {
            "colorbar": {
             "outlinewidth": 0,
             "ticks": ""
            },
            "colorscale": [
             [
              0,
              "#0d0887"
             ],
             [
              0.1111111111111111,
              "#46039f"
             ],
             [
              0.2222222222222222,
              "#7201a8"
             ],
             [
              0.3333333333333333,
              "#9c179e"
             ],
             [
              0.4444444444444444,
              "#bd3786"
             ],
             [
              0.5555555555555556,
              "#d8576b"
             ],
             [
              0.6666666666666666,
              "#ed7953"
             ],
             [
              0.7777777777777778,
              "#fb9f3a"
             ],
             [
              0.8888888888888888,
              "#fdca26"
             ],
             [
              1,
              "#f0f921"
             ]
            ],
            "type": "heatmap"
           }
          ],
          "heatmapgl": [
           {
            "colorbar": {
             "outlinewidth": 0,
             "ticks": ""
            },
            "colorscale": [
             [
              0,
              "#0d0887"
             ],
             [
              0.1111111111111111,
              "#46039f"
             ],
             [
              0.2222222222222222,
              "#7201a8"
             ],
             [
              0.3333333333333333,
              "#9c179e"
             ],
             [
              0.4444444444444444,
              "#bd3786"
             ],
             [
              0.5555555555555556,
              "#d8576b"
             ],
             [
              0.6666666666666666,
              "#ed7953"
             ],
             [
              0.7777777777777778,
              "#fb9f3a"
             ],
             [
              0.8888888888888888,
              "#fdca26"
             ],
             [
              1,
              "#f0f921"
             ]
            ],
            "type": "heatmapgl"
           }
          ],
          "histogram": [
           {
            "marker": {
             "pattern": {
              "fillmode": "overlay",
              "size": 10,
              "solidity": 0.2
             }
            },
            "type": "histogram"
           }
          ],
          "histogram2d": [
           {
            "colorbar": {
             "outlinewidth": 0,
             "ticks": ""
            },
            "colorscale": [
             [
              0,
              "#0d0887"
             ],
             [
              0.1111111111111111,
              "#46039f"
             ],
             [
              0.2222222222222222,
              "#7201a8"
             ],
             [
              0.3333333333333333,
              "#9c179e"
             ],
             [
              0.4444444444444444,
              "#bd3786"
             ],
             [
              0.5555555555555556,
              "#d8576b"
             ],
             [
              0.6666666666666666,
              "#ed7953"
             ],
             [
              0.7777777777777778,
              "#fb9f3a"
             ],
             [
              0.8888888888888888,
              "#fdca26"
             ],
             [
              1,
              "#f0f921"
             ]
            ],
            "type": "histogram2d"
           }
          ],
          "histogram2dcontour": [
           {
            "colorbar": {
             "outlinewidth": 0,
             "ticks": ""
            },
            "colorscale": [
             [
              0,
              "#0d0887"
             ],
             [
              0.1111111111111111,
              "#46039f"
             ],
             [
              0.2222222222222222,
              "#7201a8"
             ],
             [
              0.3333333333333333,
              "#9c179e"
             ],
             [
              0.4444444444444444,
              "#bd3786"
             ],
             [
              0.5555555555555556,
              "#d8576b"
             ],
             [
              0.6666666666666666,
              "#ed7953"
             ],
             [
              0.7777777777777778,
              "#fb9f3a"
             ],
             [
              0.8888888888888888,
              "#fdca26"
             ],
             [
              1,
              "#f0f921"
             ]
            ],
            "type": "histogram2dcontour"
           }
          ],
          "mesh3d": [
           {
            "colorbar": {
             "outlinewidth": 0,
             "ticks": ""
            },
            "type": "mesh3d"
           }
          ],
          "parcoords": [
           {
            "line": {
             "colorbar": {
              "outlinewidth": 0,
              "ticks": ""
             }
            },
            "type": "parcoords"
           }
          ],
          "pie": [
           {
            "automargin": true,
            "type": "pie"
           }
          ],
          "scatter": [
           {
            "fillpattern": {
             "fillmode": "overlay",
             "size": 10,
             "solidity": 0.2
            },
            "type": "scatter"
           }
          ],
          "scatter3d": [
           {
            "line": {
             "colorbar": {
              "outlinewidth": 0,
              "ticks": ""
             }
            },
            "marker": {
             "colorbar": {
              "outlinewidth": 0,
              "ticks": ""
             }
            },
            "type": "scatter3d"
           }
          ],
          "scattercarpet": [
           {
            "marker": {
             "colorbar": {
              "outlinewidth": 0,
              "ticks": ""
             }
            },
            "type": "scattercarpet"
           }
          ],
          "scattergeo": [
           {
            "marker": {
             "colorbar": {
              "outlinewidth": 0,
              "ticks": ""
             }
            },
            "type": "scattergeo"
           }
          ],
          "scattergl": [
           {
            "marker": {
             "colorbar": {
              "outlinewidth": 0,
              "ticks": ""
             }
            },
            "type": "scattergl"
           }
          ],
          "scattermapbox": [
           {
            "marker": {
             "colorbar": {
              "outlinewidth": 0,
              "ticks": ""
             }
            },
            "type": "scattermapbox"
           }
          ],
          "scatterpolar": [
           {
            "marker": {
             "colorbar": {
              "outlinewidth": 0,
              "ticks": ""
             }
            },
            "type": "scatterpolar"
           }
          ],
          "scatterpolargl": [
           {
            "marker": {
             "colorbar": {
              "outlinewidth": 0,
              "ticks": ""
             }
            },
            "type": "scatterpolargl"
           }
          ],
          "scatterternary": [
           {
            "marker": {
             "colorbar": {
              "outlinewidth": 0,
              "ticks": ""
             }
            },
            "type": "scatterternary"
           }
          ],
          "surface": [
           {
            "colorbar": {
             "outlinewidth": 0,
             "ticks": ""
            },
            "colorscale": [
             [
              0,
              "#0d0887"
             ],
             [
              0.1111111111111111,
              "#46039f"
             ],
             [
              0.2222222222222222,
              "#7201a8"
             ],
             [
              0.3333333333333333,
              "#9c179e"
             ],
             [
              0.4444444444444444,
              "#bd3786"
             ],
             [
              0.5555555555555556,
              "#d8576b"
             ],
             [
              0.6666666666666666,
              "#ed7953"
             ],
             [
              0.7777777777777778,
              "#fb9f3a"
             ],
             [
              0.8888888888888888,
              "#fdca26"
             ],
             [
              1,
              "#f0f921"
             ]
            ],
            "type": "surface"
           }
          ],
          "table": [
           {
            "cells": {
             "fill": {
              "color": "#EBF0F8"
             },
             "line": {
              "color": "white"
             }
            },
            "header": {
             "fill": {
              "color": "#C8D4E3"
             },
             "line": {
              "color": "white"
             }
            },
            "type": "table"
           }
          ]
         },
         "layout": {
          "annotationdefaults": {
           "arrowcolor": "#2a3f5f",
           "arrowhead": 0,
           "arrowwidth": 1
          },
          "autotypenumbers": "strict",
          "coloraxis": {
           "colorbar": {
            "outlinewidth": 0,
            "ticks": ""
           }
          },
          "colorscale": {
           "diverging": [
            [
             0,
             "#8e0152"
            ],
            [
             0.1,
             "#c51b7d"
            ],
            [
             0.2,
             "#de77ae"
            ],
            [
             0.3,
             "#f1b6da"
            ],
            [
             0.4,
             "#fde0ef"
            ],
            [
             0.5,
             "#f7f7f7"
            ],
            [
             0.6,
             "#e6f5d0"
            ],
            [
             0.7,
             "#b8e186"
            ],
            [
             0.8,
             "#7fbc41"
            ],
            [
             0.9,
             "#4d9221"
            ],
            [
             1,
             "#276419"
            ]
           ],
           "sequential": [
            [
             0,
             "#0d0887"
            ],
            [
             0.1111111111111111,
             "#46039f"
            ],
            [
             0.2222222222222222,
             "#7201a8"
            ],
            [
             0.3333333333333333,
             "#9c179e"
            ],
            [
             0.4444444444444444,
             "#bd3786"
            ],
            [
             0.5555555555555556,
             "#d8576b"
            ],
            [
             0.6666666666666666,
             "#ed7953"
            ],
            [
             0.7777777777777778,
             "#fb9f3a"
            ],
            [
             0.8888888888888888,
             "#fdca26"
            ],
            [
             1,
             "#f0f921"
            ]
           ],
           "sequentialminus": [
            [
             0,
             "#0d0887"
            ],
            [
             0.1111111111111111,
             "#46039f"
            ],
            [
             0.2222222222222222,
             "#7201a8"
            ],
            [
             0.3333333333333333,
             "#9c179e"
            ],
            [
             0.4444444444444444,
             "#bd3786"
            ],
            [
             0.5555555555555556,
             "#d8576b"
            ],
            [
             0.6666666666666666,
             "#ed7953"
            ],
            [
             0.7777777777777778,
             "#fb9f3a"
            ],
            [
             0.8888888888888888,
             "#fdca26"
            ],
            [
             1,
             "#f0f921"
            ]
           ]
          },
          "colorway": [
           "#636efa",
           "#EF553B",
           "#00cc96",
           "#ab63fa",
           "#FFA15A",
           "#19d3f3",
           "#FF6692",
           "#B6E880",
           "#FF97FF",
           "#FECB52"
          ],
          "font": {
           "color": "#2a3f5f"
          },
          "geo": {
           "bgcolor": "white",
           "lakecolor": "white",
           "landcolor": "#E5ECF6",
           "showlakes": true,
           "showland": true,
           "subunitcolor": "white"
          },
          "hoverlabel": {
           "align": "left"
          },
          "hovermode": "closest",
          "mapbox": {
           "style": "light"
          },
          "paper_bgcolor": "white",
          "plot_bgcolor": "#E5ECF6",
          "polar": {
           "angularaxis": {
            "gridcolor": "white",
            "linecolor": "white",
            "ticks": ""
           },
           "bgcolor": "#E5ECF6",
           "radialaxis": {
            "gridcolor": "white",
            "linecolor": "white",
            "ticks": ""
           }
          },
          "scene": {
           "xaxis": {
            "backgroundcolor": "#E5ECF6",
            "gridcolor": "white",
            "gridwidth": 2,
            "linecolor": "white",
            "showbackground": true,
            "ticks": "",
            "zerolinecolor": "white"
           },
           "yaxis": {
            "backgroundcolor": "#E5ECF6",
            "gridcolor": "white",
            "gridwidth": 2,
            "linecolor": "white",
            "showbackground": true,
            "ticks": "",
            "zerolinecolor": "white"
           },
           "zaxis": {
            "backgroundcolor": "#E5ECF6",
            "gridcolor": "white",
            "gridwidth": 2,
            "linecolor": "white",
            "showbackground": true,
            "ticks": "",
            "zerolinecolor": "white"
           }
          },
          "shapedefaults": {
           "line": {
            "color": "#2a3f5f"
           }
          },
          "ternary": {
           "aaxis": {
            "gridcolor": "white",
            "linecolor": "white",
            "ticks": ""
           },
           "baxis": {
            "gridcolor": "white",
            "linecolor": "white",
            "ticks": ""
           },
           "bgcolor": "#E5ECF6",
           "caxis": {
            "gridcolor": "white",
            "linecolor": "white",
            "ticks": ""
           }
          },
          "title": {
           "x": 0.05
          },
          "xaxis": {
           "automargin": true,
           "gridcolor": "white",
           "linecolor": "white",
           "ticks": "",
           "title": {
            "standoff": 15
           },
           "zerolinecolor": "white",
           "zerolinewidth": 2
          },
          "yaxis": {
           "automargin": true,
           "gridcolor": "white",
           "linecolor": "white",
           "ticks": "",
           "title": {
            "standoff": 15
           },
           "zerolinecolor": "white",
           "zerolinewidth": 2
          }
         }
        }
       }
      },
      "text/html": [
       "<div>                            <div id=\"46f1dab7-5168-43f2-8c66-c56feae802b3\" class=\"plotly-graph-div\" style=\"height:525px; width:100%;\"></div>            <script type=\"text/javascript\">                require([\"plotly\"], function(Plotly) {                    window.PLOTLYENV=window.PLOTLYENV || {};                                    if (document.getElementById(\"46f1dab7-5168-43f2-8c66-c56feae802b3\")) {                    Plotly.newPlot(                        \"46f1dab7-5168-43f2-8c66-c56feae802b3\",                        [{\"fill\":\"toself\",\"fillcolor\":\"rgba(128, 128, 128, 0.5)\",\"lat\":[44.4488,44.599,44.5166,44.428,44.4488],\"line\":{\"color\":\"black\"},\"lon\":[-110.839,-110.7052,-110.5339,-110.5885,-110.839],\"name\":\"Yellowstone National Park\",\"type\":\"scattermapbox\"},{\"fill\":\"toself\",\"fillcolor\":\"rgba(128, 128, 128, 0.5)\",\"lat\":[37.7244,37.6962,37.7799,37.8456,37.8651,37.7244],\"line\":{\"color\":\"black\"},\"lon\":[-119.655,-119.5964,-119.4893,-119.3029,-119.5383,-119.655],\"name\":\"Yosemite National Park\",\"type\":\"scattermapbox\"},{\"fill\":\"toself\",\"fillcolor\":\"rgba(128, 128, 128, 0.5)\",\"lat\":[36.1336,36.2331,36.2861,36.1182,36.057,36.1336],\"line\":{\"color\":\"black\"},\"lon\":[-112.1861,-112.2156,-112.0969,-111.8205,-112.1214,-112.1861],\"name\":\"Grand Canyon National Park\",\"type\":\"scattermapbox\"},{\"hoverinfo\":\"text\",\"lat\":[45.2284,44.3946,44.4246],\"lon\":[-110.7622,-110.8218,-110.1118],\"marker\":{\"color\":0,\"size\":10},\"mode\":\"markers\",\"name\":\"Wolf\",\"showlegend\":true,\"text\":[\"Animal ID: A001\\u003cbr\\u003eScientific Name: Canis lupus\\u003cbr\\u003eRedlist Category: Least Concern\\u003cbr\\u003eMegafauna: False\\u003cbr\\u003eLatitude: 45.2284\\u003cbr\\u003eLongitude: -110.7622\",\"Animal ID: A001\\u003cbr\\u003eScientific Name: Canis lupus\\u003cbr\\u003eRedlist Category: Least Concern\\u003cbr\\u003eMegafauna: False\\u003cbr\\u003eLatitude: 44.3946\\u003cbr\\u003eLongitude: -110.8218\",\"Animal ID: A001\\u003cbr\\u003eScientific Name: Canis lupus\\u003cbr\\u003eRedlist Category: Least Concern\\u003cbr\\u003eMegafauna: False\\u003cbr\\u003eLatitude: 44.4246\\u003cbr\\u003eLongitude: -110.1118\"],\"type\":\"scattermapbox\"},{\"hoverinfo\":\"text\",\"lat\":[44.576,44.5361,44.2221],\"lon\":[-110.6763,-110.7078,-110.8182],\"marker\":{\"color\":1,\"size\":10},\"mode\":\"markers\",\"name\":\"Bison\",\"showlegend\":true,\"text\":[\"Animal ID: A002\\u003cbr\\u003eScientific Name: Bison bison\\u003cbr\\u003eRedlist Category: Vulnerable\\u003cbr\\u003eMegafauna: True\\u003cbr\\u003eLatitude: 44.576\\u003cbr\\u003eLongitude: -110.6763\",\"Animal ID: A002\\u003cbr\\u003eScientific Name: Bison bison\\u003cbr\\u003eRedlist Category: Vulnerable\\u003cbr\\u003eMegafauna: True\\u003cbr\\u003eLatitude: 44.5361\\u003cbr\\u003eLongitude: -110.7078\",\"Animal ID: A002\\u003cbr\\u003eScientific Name: Bison bison\\u003cbr\\u003eRedlist Category: Vulnerable\\u003cbr\\u003eMegafauna: True\\u003cbr\\u003eLatitude: 44.2221\\u003cbr\\u003eLongitude: -110.8182\"],\"type\":\"scattermapbox\"},{\"hoverinfo\":\"text\",\"lat\":[44.4232,44.5472,44.5519],\"lon\":[-111.1061,-110.7893,-110.9812],\"marker\":{\"color\":2,\"size\":10},\"mode\":\"markers\",\"name\":\"Elk\",\"showlegend\":true,\"text\":[\"Animal ID: A003\\u003cbr\\u003eScientific Name: Cervus canadensis\\u003cbr\\u003eRedlist Category: Least Concern\\u003cbr\\u003eMegafauna: True\\u003cbr\\u003eLatitude: 44.4232\\u003cbr\\u003eLongitude: -111.1061\",\"Animal ID: A003\\u003cbr\\u003eScientific Name: Cervus canadensis\\u003cbr\\u003eRedlist Category: Least Concern\\u003cbr\\u003eMegafauna: True\\u003cbr\\u003eLatitude: 44.5472\\u003cbr\\u003eLongitude: -110.7893\",\"Animal ID: A003\\u003cbr\\u003eScientific Name: Cervus canadensis\\u003cbr\\u003eRedlist Category: Least Concern\\u003cbr\\u003eMegafauna: True\\u003cbr\\u003eLatitude: 44.5519\\u003cbr\\u003eLongitude: -110.9812\"],\"type\":\"scattermapbox\"},{\"hoverinfo\":\"text\",\"lat\":[37.9058,37.766,37.8601],\"lon\":[-119.7857,-119.6363,-119.5353],\"marker\":{\"color\":3,\"size\":10},\"mode\":\"markers\",\"name\":\"Sierra Nevada bighorn sheep\",\"showlegend\":true,\"text\":[\"Animal ID: A004\\u003cbr\\u003eScientific Name: Ovis canadensis sierrae\\u003cbr\\u003eRedlist Category: Endangered\\u003cbr\\u003eMegafauna: False\\u003cbr\\u003eLatitude: 37.9058\\u003cbr\\u003eLongitude: -119.7857\",\"Animal ID: A004\\u003cbr\\u003eScientific Name: Ovis canadensis sierrae\\u003cbr\\u003eRedlist Category: Endangered\\u003cbr\\u003eMegafauna: False\\u003cbr\\u003eLatitude: 37.766\\u003cbr\\u003eLongitude: -119.6363\",\"Animal ID: A004\\u003cbr\\u003eScientific Name: Ovis canadensis sierrae\\u003cbr\\u003eRedlist Category: Endangered\\u003cbr\\u003eMegafauna: False\\u003cbr\\u003eLatitude: 37.8601\\u003cbr\\u003eLongitude: -119.5353\"],\"type\":\"scattermapbox\"},{\"hoverinfo\":\"text\",\"lat\":[37.7896,37.8626,37.6181],\"lon\":[-119.6426,-119.7777,-119.6619],\"marker\":{\"color\":4,\"size\":10},\"mode\":\"markers\",\"name\":\"Sierra Nevada red fox\",\"showlegend\":true,\"text\":[\"Animal ID: A005\\u003cbr\\u003eScientific Name: Vulpes vulpes necator\\u003cbr\\u003eRedlist Category: Critically Endangered\\u003cbr\\u003eMegafauna: False\\u003cbr\\u003eLatitude: 37.7896\\u003cbr\\u003eLongitude: -119.6426\",\"Animal ID: A005\\u003cbr\\u003eScientific Name: Vulpes vulpes necator\\u003cbr\\u003eRedlist Category: Critically Endangered\\u003cbr\\u003eMegafauna: False\\u003cbr\\u003eLatitude: 37.8626\\u003cbr\\u003eLongitude: -119.7777\",\"Animal ID: A005\\u003cbr\\u003eScientific Name: Vulpes vulpes necator\\u003cbr\\u003eRedlist Category: Critically Endangered\\u003cbr\\u003eMegafauna: False\\u003cbr\\u003eLatitude: 37.6181\\u003cbr\\u003eLongitude: -119.6619\"],\"type\":\"scattermapbox\"},{\"hoverinfo\":\"text\",\"lat\":[37.8829,37.8636,37.8681],\"lon\":[-119.7608,-119.628,-119.6255],\"marker\":{\"color\":5,\"size\":10},\"mode\":\"markers\",\"name\":\"Bobcat\",\"showlegend\":true,\"text\":[\"Animal ID: A006\\u003cbr\\u003eScientific Name: Lynx rufus\\u003cbr\\u003eRedlist Category: Least Concern\\u003cbr\\u003eMegafauna: True\\u003cbr\\u003eLatitude: 37.8829\\u003cbr\\u003eLongitude: -119.7608\",\"Animal ID: A006\\u003cbr\\u003eScientific Name: Lynx rufus\\u003cbr\\u003eRedlist Category: Least Concern\\u003cbr\\u003eMegafauna: True\\u003cbr\\u003eLatitude: 37.8636\\u003cbr\\u003eLongitude: -119.628\",\"Animal ID: A006\\u003cbr\\u003eScientific Name: Lynx rufus\\u003cbr\\u003eRedlist Category: Least Concern\\u003cbr\\u003eMegafauna: True\\u003cbr\\u003eLatitude: 37.8681\\u003cbr\\u003eLongitude: -119.6255\"],\"type\":\"scattermapbox\"},{\"hoverinfo\":\"text\",\"lat\":[36.372,36.6622,36.2261],\"lon\":[-113.1627,-112.2308,-112.1831],\"marker\":{\"color\":6,\"size\":10},\"mode\":\"markers\",\"name\":\"Mule deer\",\"showlegend\":true,\"text\":[\"Animal ID: A007\\u003cbr\\u003eScientific Name: Odocoileus hemionus\\u003cbr\\u003eRedlist Category: Least Concern\\u003cbr\\u003eMegafauna: True\\u003cbr\\u003eLatitude: 36.372\\u003cbr\\u003eLongitude: -113.1627\",\"Animal ID: A007\\u003cbr\\u003eScientific Name: Odocoileus hemionus\\u003cbr\\u003eRedlist Category: Least Concern\\u003cbr\\u003eMegafauna: True\\u003cbr\\u003eLatitude: 36.6622\\u003cbr\\u003eLongitude: -112.2308\",\"Animal ID: A007\\u003cbr\\u003eScientific Name: Odocoileus hemionus\\u003cbr\\u003eRedlist Category: Least Concern\\u003cbr\\u003eMegafauna: True\\u003cbr\\u003eLatitude: 36.2261\\u003cbr\\u003eLongitude: -112.1831\"],\"type\":\"scattermapbox\"},{\"hoverinfo\":\"text\",\"lat\":[36.6193,36.6016,36.5492],\"lon\":[-112.3388,-112.3256,-112.7439],\"marker\":{\"color\":7,\"size\":10},\"mode\":\"markers\",\"name\":\"Desert bighorn sheep\",\"showlegend\":true,\"text\":[\"Animal ID: A008\\u003cbr\\u003eScientific Name: Ovis canadensis nelsoni\\u003cbr\\u003eRedlist Category: Near Threatened\\u003cbr\\u003eMegafauna: True\\u003cbr\\u003eLatitude: 36.6193\\u003cbr\\u003eLongitude: -112.3388\",\"Animal ID: A008\\u003cbr\\u003eScientific Name: Ovis canadensis nelsoni\\u003cbr\\u003eRedlist Category: Near Threatened\\u003cbr\\u003eMegafauna: True\\u003cbr\\u003eLatitude: 36.6016\\u003cbr\\u003eLongitude: -112.3256\",\"Animal ID: A008\\u003cbr\\u003eScientific Name: Ovis canadensis nelsoni\\u003cbr\\u003eRedlist Category: Near Threatened\\u003cbr\\u003eMegafauna: True\\u003cbr\\u003eLatitude: 36.5492\\u003cbr\\u003eLongitude: -112.7439\"],\"type\":\"scattermapbox\"},{\"hoverinfo\":\"text\",\"lat\":[36.3388,36.4868,36.6282],\"lon\":[-112.119,-112.3517,-112.6524],\"marker\":{\"color\":8,\"size\":10},\"mode\":\"markers\",\"name\":\"Gray fox\",\"showlegend\":true,\"text\":[\"Animal ID: A009\\u003cbr\\u003eScientific Name: Urocyon cinereoargenteus\\u003cbr\\u003eRedlist Category: Least Concern\\u003cbr\\u003eMegafauna: True\\u003cbr\\u003eLatitude: 36.3388\\u003cbr\\u003eLongitude: -112.119\",\"Animal ID: A009\\u003cbr\\u003eScientific Name: Urocyon cinereoargenteus\\u003cbr\\u003eRedlist Category: Least Concern\\u003cbr\\u003eMegafauna: True\\u003cbr\\u003eLatitude: 36.4868\\u003cbr\\u003eLongitude: -112.3517\",\"Animal ID: A009\\u003cbr\\u003eScientific Name: Urocyon cinereoargenteus\\u003cbr\\u003eRedlist Category: Least Concern\\u003cbr\\u003eMegafauna: True\\u003cbr\\u003eLatitude: 36.6282\\u003cbr\\u003eLongitude: -112.6524\"],\"type\":\"scattermapbox\"}],                        {\"template\":{\"data\":{\"histogram2dcontour\":[{\"type\":\"histogram2dcontour\",\"colorbar\":{\"outlinewidth\":0,\"ticks\":\"\"},\"colorscale\":[[0.0,\"#0d0887\"],[0.1111111111111111,\"#46039f\"],[0.2222222222222222,\"#7201a8\"],[0.3333333333333333,\"#9c179e\"],[0.4444444444444444,\"#bd3786\"],[0.5555555555555556,\"#d8576b\"],[0.6666666666666666,\"#ed7953\"],[0.7777777777777778,\"#fb9f3a\"],[0.8888888888888888,\"#fdca26\"],[1.0,\"#f0f921\"]]}],\"choropleth\":[{\"type\":\"choropleth\",\"colorbar\":{\"outlinewidth\":0,\"ticks\":\"\"}}],\"histogram2d\":[{\"type\":\"histogram2d\",\"colorbar\":{\"outlinewidth\":0,\"ticks\":\"\"},\"colorscale\":[[0.0,\"#0d0887\"],[0.1111111111111111,\"#46039f\"],[0.2222222222222222,\"#7201a8\"],[0.3333333333333333,\"#9c179e\"],[0.4444444444444444,\"#bd3786\"],[0.5555555555555556,\"#d8576b\"],[0.6666666666666666,\"#ed7953\"],[0.7777777777777778,\"#fb9f3a\"],[0.8888888888888888,\"#fdca26\"],[1.0,\"#f0f921\"]]}],\"heatmap\":[{\"type\":\"heatmap\",\"colorbar\":{\"outlinewidth\":0,\"ticks\":\"\"},\"colorscale\":[[0.0,\"#0d0887\"],[0.1111111111111111,\"#46039f\"],[0.2222222222222222,\"#7201a8\"],[0.3333333333333333,\"#9c179e\"],[0.4444444444444444,\"#bd3786\"],[0.5555555555555556,\"#d8576b\"],[0.6666666666666666,\"#ed7953\"],[0.7777777777777778,\"#fb9f3a\"],[0.8888888888888888,\"#fdca26\"],[1.0,\"#f0f921\"]]}],\"heatmapgl\":[{\"type\":\"heatmapgl\",\"colorbar\":{\"outlinewidth\":0,\"ticks\":\"\"},\"colorscale\":[[0.0,\"#0d0887\"],[0.1111111111111111,\"#46039f\"],[0.2222222222222222,\"#7201a8\"],[0.3333333333333333,\"#9c179e\"],[0.4444444444444444,\"#bd3786\"],[0.5555555555555556,\"#d8576b\"],[0.6666666666666666,\"#ed7953\"],[0.7777777777777778,\"#fb9f3a\"],[0.8888888888888888,\"#fdca26\"],[1.0,\"#f0f921\"]]}],\"contourcarpet\":[{\"type\":\"contourcarpet\",\"colorbar\":{\"outlinewidth\":0,\"ticks\":\"\"}}],\"contour\":[{\"type\":\"contour\",\"colorbar\":{\"outlinewidth\":0,\"ticks\":\"\"},\"colorscale\":[[0.0,\"#0d0887\"],[0.1111111111111111,\"#46039f\"],[0.2222222222222222,\"#7201a8\"],[0.3333333333333333,\"#9c179e\"],[0.4444444444444444,\"#bd3786\"],[0.5555555555555556,\"#d8576b\"],[0.6666666666666666,\"#ed7953\"],[0.7777777777777778,\"#fb9f3a\"],[0.8888888888888888,\"#fdca26\"],[1.0,\"#f0f921\"]]}],\"surface\":[{\"type\":\"surface\",\"colorbar\":{\"outlinewidth\":0,\"ticks\":\"\"},\"colorscale\":[[0.0,\"#0d0887\"],[0.1111111111111111,\"#46039f\"],[0.2222222222222222,\"#7201a8\"],[0.3333333333333333,\"#9c179e\"],[0.4444444444444444,\"#bd3786\"],[0.5555555555555556,\"#d8576b\"],[0.6666666666666666,\"#ed7953\"],[0.7777777777777778,\"#fb9f3a\"],[0.8888888888888888,\"#fdca26\"],[1.0,\"#f0f921\"]]}],\"mesh3d\":[{\"type\":\"mesh3d\",\"colorbar\":{\"outlinewidth\":0,\"ticks\":\"\"}}],\"scatter\":[{\"fillpattern\":{\"fillmode\":\"overlay\",\"size\":10,\"solidity\":0.2},\"type\":\"scatter\"}],\"parcoords\":[{\"type\":\"parcoords\",\"line\":{\"colorbar\":{\"outlinewidth\":0,\"ticks\":\"\"}}}],\"scatterpolargl\":[{\"type\":\"scatterpolargl\",\"marker\":{\"colorbar\":{\"outlinewidth\":0,\"ticks\":\"\"}}}],\"bar\":[{\"error_x\":{\"color\":\"#2a3f5f\"},\"error_y\":{\"color\":\"#2a3f5f\"},\"marker\":{\"line\":{\"color\":\"#E5ECF6\",\"width\":0.5},\"pattern\":{\"fillmode\":\"overlay\",\"size\":10,\"solidity\":0.2}},\"type\":\"bar\"}],\"scattergeo\":[{\"type\":\"scattergeo\",\"marker\":{\"colorbar\":{\"outlinewidth\":0,\"ticks\":\"\"}}}],\"scatterpolar\":[{\"type\":\"scatterpolar\",\"marker\":{\"colorbar\":{\"outlinewidth\":0,\"ticks\":\"\"}}}],\"histogram\":[{\"marker\":{\"pattern\":{\"fillmode\":\"overlay\",\"size\":10,\"solidity\":0.2}},\"type\":\"histogram\"}],\"scattergl\":[{\"type\":\"scattergl\",\"marker\":{\"colorbar\":{\"outlinewidth\":0,\"ticks\":\"\"}}}],\"scatter3d\":[{\"type\":\"scatter3d\",\"line\":{\"colorbar\":{\"outlinewidth\":0,\"ticks\":\"\"}},\"marker\":{\"colorbar\":{\"outlinewidth\":0,\"ticks\":\"\"}}}],\"scattermapbox\":[{\"type\":\"scattermapbox\",\"marker\":{\"colorbar\":{\"outlinewidth\":0,\"ticks\":\"\"}}}],\"scatterternary\":[{\"type\":\"scatterternary\",\"marker\":{\"colorbar\":{\"outlinewidth\":0,\"ticks\":\"\"}}}],\"scattercarpet\":[{\"type\":\"scattercarpet\",\"marker\":{\"colorbar\":{\"outlinewidth\":0,\"ticks\":\"\"}}}],\"carpet\":[{\"aaxis\":{\"endlinecolor\":\"#2a3f5f\",\"gridcolor\":\"white\",\"linecolor\":\"white\",\"minorgridcolor\":\"white\",\"startlinecolor\":\"#2a3f5f\"},\"baxis\":{\"endlinecolor\":\"#2a3f5f\",\"gridcolor\":\"white\",\"linecolor\":\"white\",\"minorgridcolor\":\"white\",\"startlinecolor\":\"#2a3f5f\"},\"type\":\"carpet\"}],\"table\":[{\"cells\":{\"fill\":{\"color\":\"#EBF0F8\"},\"line\":{\"color\":\"white\"}},\"header\":{\"fill\":{\"color\":\"#C8D4E3\"},\"line\":{\"color\":\"white\"}},\"type\":\"table\"}],\"barpolar\":[{\"marker\":{\"line\":{\"color\":\"#E5ECF6\",\"width\":0.5},\"pattern\":{\"fillmode\":\"overlay\",\"size\":10,\"solidity\":0.2}},\"type\":\"barpolar\"}],\"pie\":[{\"automargin\":true,\"type\":\"pie\"}]},\"layout\":{\"autotypenumbers\":\"strict\",\"colorway\":[\"#636efa\",\"#EF553B\",\"#00cc96\",\"#ab63fa\",\"#FFA15A\",\"#19d3f3\",\"#FF6692\",\"#B6E880\",\"#FF97FF\",\"#FECB52\"],\"font\":{\"color\":\"#2a3f5f\"},\"hovermode\":\"closest\",\"hoverlabel\":{\"align\":\"left\"},\"paper_bgcolor\":\"white\",\"plot_bgcolor\":\"#E5ECF6\",\"polar\":{\"bgcolor\":\"#E5ECF6\",\"angularaxis\":{\"gridcolor\":\"white\",\"linecolor\":\"white\",\"ticks\":\"\"},\"radialaxis\":{\"gridcolor\":\"white\",\"linecolor\":\"white\",\"ticks\":\"\"}},\"ternary\":{\"bgcolor\":\"#E5ECF6\",\"aaxis\":{\"gridcolor\":\"white\",\"linecolor\":\"white\",\"ticks\":\"\"},\"baxis\":{\"gridcolor\":\"white\",\"linecolor\":\"white\",\"ticks\":\"\"},\"caxis\":{\"gridcolor\":\"white\",\"linecolor\":\"white\",\"ticks\":\"\"}},\"coloraxis\":{\"colorbar\":{\"outlinewidth\":0,\"ticks\":\"\"}},\"colorscale\":{\"sequential\":[[0.0,\"#0d0887\"],[0.1111111111111111,\"#46039f\"],[0.2222222222222222,\"#7201a8\"],[0.3333333333333333,\"#9c179e\"],[0.4444444444444444,\"#bd3786\"],[0.5555555555555556,\"#d8576b\"],[0.6666666666666666,\"#ed7953\"],[0.7777777777777778,\"#fb9f3a\"],[0.8888888888888888,\"#fdca26\"],[1.0,\"#f0f921\"]],\"sequentialminus\":[[0.0,\"#0d0887\"],[0.1111111111111111,\"#46039f\"],[0.2222222222222222,\"#7201a8\"],[0.3333333333333333,\"#9c179e\"],[0.4444444444444444,\"#bd3786\"],[0.5555555555555556,\"#d8576b\"],[0.6666666666666666,\"#ed7953\"],[0.7777777777777778,\"#fb9f3a\"],[0.8888888888888888,\"#fdca26\"],[1.0,\"#f0f921\"]],\"diverging\":[[0,\"#8e0152\"],[0.1,\"#c51b7d\"],[0.2,\"#de77ae\"],[0.3,\"#f1b6da\"],[0.4,\"#fde0ef\"],[0.5,\"#f7f7f7\"],[0.6,\"#e6f5d0\"],[0.7,\"#b8e186\"],[0.8,\"#7fbc41\"],[0.9,\"#4d9221\"],[1,\"#276419\"]]},\"xaxis\":{\"gridcolor\":\"white\",\"linecolor\":\"white\",\"ticks\":\"\",\"title\":{\"standoff\":15},\"zerolinecolor\":\"white\",\"automargin\":true,\"zerolinewidth\":2},\"yaxis\":{\"gridcolor\":\"white\",\"linecolor\":\"white\",\"ticks\":\"\",\"title\":{\"standoff\":15},\"zerolinecolor\":\"white\",\"automargin\":true,\"zerolinewidth\":2},\"scene\":{\"xaxis\":{\"backgroundcolor\":\"#E5ECF6\",\"gridcolor\":\"white\",\"linecolor\":\"white\",\"showbackground\":true,\"ticks\":\"\",\"zerolinecolor\":\"white\",\"gridwidth\":2},\"yaxis\":{\"backgroundcolor\":\"#E5ECF6\",\"gridcolor\":\"white\",\"linecolor\":\"white\",\"showbackground\":true,\"ticks\":\"\",\"zerolinecolor\":\"white\",\"gridwidth\":2},\"zaxis\":{\"backgroundcolor\":\"#E5ECF6\",\"gridcolor\":\"white\",\"linecolor\":\"white\",\"showbackground\":true,\"ticks\":\"\",\"zerolinecolor\":\"white\",\"gridwidth\":2}},\"shapedefaults\":{\"line\":{\"color\":\"#2a3f5f\"}},\"annotationdefaults\":{\"arrowcolor\":\"#2a3f5f\",\"arrowhead\":0,\"arrowwidth\":1},\"geo\":{\"bgcolor\":\"white\",\"landcolor\":\"#E5ECF6\",\"subunitcolor\":\"white\",\"showland\":true,\"showlakes\":true,\"lakecolor\":\"white\"},\"title\":{\"x\":0.05},\"mapbox\":{\"style\":\"light\"}}},\"mapbox\":{\"center\":{\"lat\":40,\"lon\":-110},\"style\":\"open-street-map\",\"zoom\":3}},                        {\"scrollZoom\": true, \"responsive\": true}                    ).then(function(){\n",
       "                            \n",
       "var gd = document.getElementById('46f1dab7-5168-43f2-8c66-c56feae802b3');\n",
       "var x = new MutationObserver(function (mutations, observer) {{\n",
       "        var display = window.getComputedStyle(gd).display;\n",
       "        if (!display || display === 'none') {{\n",
       "            console.log([gd, 'removed!']);\n",
       "            Plotly.purge(gd);\n",
       "            observer.disconnect();\n",
       "        }}\n",
       "}});\n",
       "\n",
       "// Listen for the removal of the full notebook cells\n",
       "var notebookContainer = gd.closest('#notebook-container');\n",
       "if (notebookContainer) {{\n",
       "    x.observe(notebookContainer, {childList: true});\n",
       "}}\n",
       "\n",
       "// Listen for the clearing of the current output cell\n",
       "var outputEl = gd.closest('.output');\n",
       "if (outputEl) {{\n",
       "    x.observe(outputEl, {childList: true});\n",
       "}}\n",
       "\n",
       "                        })                };                });            </script>        </div>"
      ]
     },
     "metadata": {},
     "output_type": "display_data"
    }
   ],
   "source": [
    "fig = plot(satellites_dict, protected_areas_gdf, animal_full_gdf)\n",
    "fig.show(config=defualt_plotly_config)"
   ]
  },
  {
   "cell_type": "markdown",
   "id": "04d53845",
   "metadata": {},
   "source": [
    "![title](output/animal_vis.png)"
   ]
  },
  {
   "cell_type": "code",
   "execution_count": 198,
   "id": "15774c76",
   "metadata": {},
   "outputs": [],
   "source": [
    "def plot_t(\n",
    "        satellites_dict: dict, \n",
    "        protected_areas_gdf: gpd.GeoDataFrame,  \n",
    "        animal_full_gdf: gpd.GeoDataFrame,\n",
    "        show_satellites: bool = False,\n",
    "        fig: go.Figure = None,\n",
    "        time: str = None,\n",
    "        mapbox: dict = None\n",
    "        \n",
    ") -> go.Figure:\n",
    "    \"\"\"\n",
    "    Visualize spatial data using Plotly, including animal observation locations, protected areas, \n",
    "    and satellite coverage. This version allows for specifying a `time` parameter to filter and display \n",
    "    animal observations for a given date.\n",
    "    \n",
    "    TODO: \n",
    "    1. Optimize with a time slider to show data across all available dates.\n",
    "    2. Add functionality to focus on one specific animal's data.\n",
    "\n",
    "    Args:\n",
    "        satellites_dict (list[dict]): A list of dictionaries imported from `satellites.json`, \n",
    "            where each dictionary contains a bounding_box that defines the satellite coverage area.\n",
    "        protected_areas_gdf (gpd.GeoDataFrame): A GeoDataFrame containing information about designated \n",
    "            protected areas.\n",
    "        animal_full_gdf (gpd.GeoDataFrame): A GeoDataFrame containing information about animal activities \n",
    "            and their corresponding properties.\n",
    "        show_satellites (bool): A flag indicating whether to display satellite coverage areas \n",
    "            in the visualization.\n",
    "        fig (go.Figure): Optional. If provided, appends layers to the \n",
    "            existing Plotly figure.\n",
    "        time (str): Specifies the date of the animal activity in the \n",
    "            format '%Y-%m-%d'.\n",
    "        mapbox (dict): Optional. Customized settings for displaying the \n",
    "            figure, such as zoom and map style.\n",
    "\n",
    "    Returns:\n",
    "        Figure: The updated Plotly Figure object.\n",
    "    \"\"\"\n",
    "    if fig is None:\n",
    "        fig = go.Figure()\n",
    "    \n",
    "    if mapbox is None:\n",
    "        mapbox=dict(\n",
    "            center=dict(lat=44.4, lon=-110.6),\n",
    "            zoom=8,  # Adjust the zoom level as needed\n",
    "        )\n",
    "    \n",
    "    \n",
    "    if show_satellites:\n",
    "        # Add satellite area\n",
    "        for data_idx, data in enumerate(satellites_dict):\n",
    "            if data_idx == 1:\n",
    "                # This is satellite image cover all earth\n",
    "                continue\n",
    "            # Extract bounding box coordinates\n",
    "            bounding_box = data['bounding_box']\n",
    "            lon = [bounding_box['xmin'], bounding_box['xmin'], bounding_box['xmax'], bounding_box['xmax']]\n",
    "            lat = [bounding_box['ymin'], bounding_box['ymax'], bounding_box['ymax'], bounding_box['ymin']]\n",
    "\n",
    "            # Add a filled polygon for the bounding box\n",
    "            fig.add_trace(go.Scattermapbox(\n",
    "                lat=lat,\n",
    "                lon=lon,\n",
    "                fill='toself',\n",
    "                fillcolor='rgba(255, 0, 0, 0.1)', \n",
    "                line=dict(color='black'),\n",
    "                name='Bounding Box'\n",
    "            ))\n",
    "\n",
    "\n",
    "\n",
    "    # Add protected area\n",
    "    for _, row in protected_areas_gdf.iterrows():\n",
    "        # Extract coordinates from the geometry\n",
    "        lon, lat = row['geometry'].exterior.xy \n",
    "\n",
    "        # Convert coordinates to lists\n",
    "        lon = list(lon)\n",
    "        lat = list(lat)\n",
    "\n",
    "        # Add the polygon to the figure with filled area\n",
    "        fig.add_trace(go.Scattermapbox(\n",
    "            lat=lat,\n",
    "            lon=lon,\n",
    "            fill='toself',  \n",
    "            fillcolor='rgba(128, 128, 128, 0.5)',  \n",
    "            line=dict(color='black'),  \n",
    "            name=row.get('name', 'Area')  \n",
    "        ))\n",
    "    \n",
    "    \n",
    "\n",
    "    animal_full_gdf['time'] = animal_full_gdf['timestamp'].apply(lambda x: x.date())\n",
    "    \n",
    "    if time:\n",
    "        time = pd.to_datetime(time, format='%Y-%m-%d').date()\n",
    "        animal_full_gdf = animal_full_gdf[animal_full_gdf['time'] == time]\n",
    "\n",
    "    # Add animal activities\n",
    "    # Unique common names to assign colors\n",
    "    unique_names = animal_full_gdf['common_name'].unique()\n",
    "    color_map = {name: i for i, name in enumerate(unique_names)}\n",
    "\n",
    "    # Add traces for scatter points colored by common_name\n",
    "    for name in unique_names:\n",
    "        subset = animal_full_gdf[animal_full_gdf['common_name'] == name]\n",
    "\n",
    "\n",
    "        hover_text = [\n",
    "            f\"Animal ID: {row['animal_id']}<br>\"\n",
    "            f\"Scientific Name: {row['scientific_name']}<br>\"\n",
    "            f\"Redlist Category: {row['redlist_cat']}<br>\"\n",
    "            f\"Megafauna: {row['megafauna']}<br>\"\n",
    "            f\"Latitude: {row['latitude']}<br>\"\n",
    "            f\"Longitude: {row['longitude']}\"\n",
    "            for _, row in subset.iterrows()\n",
    "        ]\n",
    "\n",
    "\n",
    "        fig.add_trace(go.Scattermapbox(\n",
    "            lat=subset['latitude'],\n",
    "            lon=subset['longitude'],\n",
    "            mode='markers',\n",
    "            name=name,\n",
    "\n",
    "            marker=dict(size=10, color=color_map[name]), \n",
    "            showlegend=True,\n",
    "            text=hover_text,\n",
    "            hoverinfo='text'\n",
    "        ))\n",
    "\n",
    "\n",
    "\n",
    "    fig.update_layout(\n",
    "        mapbox_style=\"open-street-map\",\n",
    "        mapbox=mapbox,\n",
    "        \n",
    "    )\n",
    "\n",
    "\n",
    "    \n",
    "    return(fig)"
   ]
  },
  {
   "cell_type": "code",
   "execution_count": 199,
   "id": "bbf6835c",
   "metadata": {
    "scrolled": false
   },
   "outputs": [
    {
     "data": {
      "application/vnd.plotly.v1+json": {
       "config": {
        "plotlyServerURL": "https://plot.ly"
       },
       "data": [
        {
         "fill": "toself",
         "fillcolor": "rgba(128, 128, 128, 0.5)",
         "lat": [
          44.4488,
          44.599,
          44.5166,
          44.428,
          44.4488
         ],
         "line": {
          "color": "black"
         },
         "lon": [
          -110.839,
          -110.7052,
          -110.5339,
          -110.5885,
          -110.839
         ],
         "name": "Yellowstone National Park",
         "type": "scattermapbox"
        },
        {
         "fill": "toself",
         "fillcolor": "rgba(128, 128, 128, 0.5)",
         "lat": [
          37.7244,
          37.6962,
          37.7799,
          37.8456,
          37.8651,
          37.7244
         ],
         "line": {
          "color": "black"
         },
         "lon": [
          -119.655,
          -119.5964,
          -119.4893,
          -119.3029,
          -119.5383,
          -119.655
         ],
         "name": "Yosemite National Park",
         "type": "scattermapbox"
        },
        {
         "fill": "toself",
         "fillcolor": "rgba(128, 128, 128, 0.5)",
         "lat": [
          36.1336,
          36.2331,
          36.2861,
          36.1182,
          36.057,
          36.1336
         ],
         "line": {
          "color": "black"
         },
         "lon": [
          -112.1861,
          -112.2156,
          -112.0969,
          -111.8205,
          -112.1214,
          -112.1861
         ],
         "name": "Grand Canyon National Park",
         "type": "scattermapbox"
        },
        {
         "hoverinfo": "text",
         "lat": [
          45.2284,
          44.3946,
          44.4246
         ],
         "lon": [
          -110.7622,
          -110.8218,
          -110.1118
         ],
         "marker": {
          "color": 0,
          "size": 10
         },
         "mode": "markers",
         "name": "Wolf",
         "showlegend": true,
         "text": [
          "Animal ID: A001<br>Scientific Name: Canis lupus<br>Redlist Category: Least Concern<br>Megafauna: no<br>Latitude: 45.2284<br>Longitude: -110.7622",
          "Animal ID: A001<br>Scientific Name: Canis lupus<br>Redlist Category: Least Concern<br>Megafauna: no<br>Latitude: 44.3946<br>Longitude: -110.8218",
          "Animal ID: A001<br>Scientific Name: Canis lupus<br>Redlist Category: Least Concern<br>Megafauna: no<br>Latitude: 44.4246<br>Longitude: -110.1118"
         ],
         "type": "scattermapbox"
        },
        {
         "hoverinfo": "text",
         "lat": [
          44.576,
          44.5361,
          44.2221
         ],
         "lon": [
          -110.6763,
          -110.7078,
          -110.8182
         ],
         "marker": {
          "color": 1,
          "size": 10
         },
         "mode": "markers",
         "name": "Bison",
         "showlegend": true,
         "text": [
          "Animal ID: A002<br>Scientific Name: Bison bison<br>Redlist Category: Vulnerable<br>Megafauna: yes<br>Latitude: 44.576<br>Longitude: -110.6763",
          "Animal ID: A002<br>Scientific Name: Bison bison<br>Redlist Category: Vulnerable<br>Megafauna: yes<br>Latitude: 44.5361<br>Longitude: -110.7078",
          "Animal ID: A002<br>Scientific Name: Bison bison<br>Redlist Category: Vulnerable<br>Megafauna: yes<br>Latitude: 44.2221<br>Longitude: -110.8182"
         ],
         "type": "scattermapbox"
        },
        {
         "hoverinfo": "text",
         "lat": [
          44.4232,
          44.5472,
          44.5519
         ],
         "lon": [
          -111.1061,
          -110.7893,
          -110.9812
         ],
         "marker": {
          "color": 2,
          "size": 10
         },
         "mode": "markers",
         "name": "Elk",
         "showlegend": true,
         "text": [
          "Animal ID: A003<br>Scientific Name: Cervus canadensis<br>Redlist Category: Least Concern<br>Megafauna: yes<br>Latitude: 44.4232<br>Longitude: -111.1061",
          "Animal ID: A003<br>Scientific Name: Cervus canadensis<br>Redlist Category: Least Concern<br>Megafauna: yes<br>Latitude: 44.5472<br>Longitude: -110.7893",
          "Animal ID: A003<br>Scientific Name: Cervus canadensis<br>Redlist Category: Least Concern<br>Megafauna: yes<br>Latitude: 44.5519<br>Longitude: -110.9812"
         ],
         "type": "scattermapbox"
        },
        {
         "hoverinfo": "text",
         "lat": [
          37.9058,
          37.766,
          37.8601
         ],
         "lon": [
          -119.7857,
          -119.6363,
          -119.5353
         ],
         "marker": {
          "color": 3,
          "size": 10
         },
         "mode": "markers",
         "name": "Sierra Nevada bighorn sheep",
         "showlegend": true,
         "text": [
          "Animal ID: A004<br>Scientific Name: Ovis canadensis sierrae<br>Redlist Category: Endangered<br>Megafauna: no<br>Latitude: 37.9058<br>Longitude: -119.7857",
          "Animal ID: A004<br>Scientific Name: Ovis canadensis sierrae<br>Redlist Category: Endangered<br>Megafauna: no<br>Latitude: 37.766<br>Longitude: -119.6363",
          "Animal ID: A004<br>Scientific Name: Ovis canadensis sierrae<br>Redlist Category: Endangered<br>Megafauna: no<br>Latitude: 37.8601<br>Longitude: -119.5353"
         ],
         "type": "scattermapbox"
        },
        {
         "hoverinfo": "text",
         "lat": [
          37.7896,
          37.8626,
          37.6181
         ],
         "lon": [
          -119.6426,
          -119.7777,
          -119.6619
         ],
         "marker": {
          "color": 4,
          "size": 10
         },
         "mode": "markers",
         "name": "Sierra Nevada red fox",
         "showlegend": true,
         "text": [
          "Animal ID: A005<br>Scientific Name: Vulpes vulpes necator<br>Redlist Category: Critically Endangered<br>Megafauna: no<br>Latitude: 37.7896<br>Longitude: -119.6426",
          "Animal ID: A005<br>Scientific Name: Vulpes vulpes necator<br>Redlist Category: Critically Endangered<br>Megafauna: no<br>Latitude: 37.8626<br>Longitude: -119.7777",
          "Animal ID: A005<br>Scientific Name: Vulpes vulpes necator<br>Redlist Category: Critically Endangered<br>Megafauna: no<br>Latitude: 37.6181<br>Longitude: -119.6619"
         ],
         "type": "scattermapbox"
        },
        {
         "hoverinfo": "text",
         "lat": [
          37.8829,
          37.8636,
          37.8681
         ],
         "lon": [
          -119.7608,
          -119.628,
          -119.6255
         ],
         "marker": {
          "color": 5,
          "size": 10
         },
         "mode": "markers",
         "name": "Bobcat",
         "showlegend": true,
         "text": [
          "Animal ID: A006<br>Scientific Name: Lynx rufus<br>Redlist Category: Least Concern<br>Megafauna: yes<br>Latitude: 37.8829<br>Longitude: -119.7608",
          "Animal ID: A006<br>Scientific Name: Lynx rufus<br>Redlist Category: Least Concern<br>Megafauna: yes<br>Latitude: 37.8636<br>Longitude: -119.628",
          "Animal ID: A006<br>Scientific Name: Lynx rufus<br>Redlist Category: Least Concern<br>Megafauna: yes<br>Latitude: 37.8681<br>Longitude: -119.6255"
         ],
         "type": "scattermapbox"
        },
        {
         "hoverinfo": "text",
         "lat": [
          36.372,
          36.6622,
          36.2261
         ],
         "lon": [
          -113.1627,
          -112.2308,
          -112.1831
         ],
         "marker": {
          "color": 6,
          "size": 10
         },
         "mode": "markers",
         "name": "Mule deer",
         "showlegend": true,
         "text": [
          "Animal ID: A007<br>Scientific Name: Odocoileus hemionus<br>Redlist Category: Least Concern<br>Megafauna: yes<br>Latitude: 36.372<br>Longitude: -113.1627",
          "Animal ID: A007<br>Scientific Name: Odocoileus hemionus<br>Redlist Category: Least Concern<br>Megafauna: yes<br>Latitude: 36.6622<br>Longitude: -112.2308",
          "Animal ID: A007<br>Scientific Name: Odocoileus hemionus<br>Redlist Category: Least Concern<br>Megafauna: yes<br>Latitude: 36.2261<br>Longitude: -112.1831"
         ],
         "type": "scattermapbox"
        },
        {
         "hoverinfo": "text",
         "lat": [
          36.6193,
          36.6016,
          36.5492
         ],
         "lon": [
          -112.3388,
          -112.3256,
          -112.7439
         ],
         "marker": {
          "color": 7,
          "size": 10
         },
         "mode": "markers",
         "name": "Desert bighorn sheep",
         "showlegend": true,
         "text": [
          "Animal ID: A008<br>Scientific Name: Ovis canadensis nelsoni<br>Redlist Category: Near Threatened<br>Megafauna: yes<br>Latitude: 36.6193<br>Longitude: -112.3388",
          "Animal ID: A008<br>Scientific Name: Ovis canadensis nelsoni<br>Redlist Category: Near Threatened<br>Megafauna: yes<br>Latitude: 36.6016<br>Longitude: -112.3256",
          "Animal ID: A008<br>Scientific Name: Ovis canadensis nelsoni<br>Redlist Category: Near Threatened<br>Megafauna: yes<br>Latitude: 36.5492<br>Longitude: -112.7439"
         ],
         "type": "scattermapbox"
        },
        {
         "hoverinfo": "text",
         "lat": [
          36.3388,
          36.4868,
          36.6282
         ],
         "lon": [
          -112.119,
          -112.3517,
          -112.6524
         ],
         "marker": {
          "color": 8,
          "size": 10
         },
         "mode": "markers",
         "name": "Gray fox",
         "showlegend": true,
         "text": [
          "Animal ID: A009<br>Scientific Name: Urocyon cinereoargenteus<br>Redlist Category: Least Concern<br>Megafauna: yes<br>Latitude: 36.3388<br>Longitude: -112.119",
          "Animal ID: A009<br>Scientific Name: Urocyon cinereoargenteus<br>Redlist Category: Least Concern<br>Megafauna: yes<br>Latitude: 36.4868<br>Longitude: -112.3517",
          "Animal ID: A009<br>Scientific Name: Urocyon cinereoargenteus<br>Redlist Category: Least Concern<br>Megafauna: yes<br>Latitude: 36.6282<br>Longitude: -112.6524"
         ],
         "type": "scattermapbox"
        }
       ],
       "layout": {
        "mapbox": {
         "center": {
          "lat": 44.4,
          "lon": -110.6
         },
         "style": "open-street-map",
         "zoom": 8
        },
        "template": {
         "data": {
          "bar": [
           {
            "error_x": {
             "color": "#2a3f5f"
            },
            "error_y": {
             "color": "#2a3f5f"
            },
            "marker": {
             "line": {
              "color": "#E5ECF6",
              "width": 0.5
             },
             "pattern": {
              "fillmode": "overlay",
              "size": 10,
              "solidity": 0.2
             }
            },
            "type": "bar"
           }
          ],
          "barpolar": [
           {
            "marker": {
             "line": {
              "color": "#E5ECF6",
              "width": 0.5
             },
             "pattern": {
              "fillmode": "overlay",
              "size": 10,
              "solidity": 0.2
             }
            },
            "type": "barpolar"
           }
          ],
          "carpet": [
           {
            "aaxis": {
             "endlinecolor": "#2a3f5f",
             "gridcolor": "white",
             "linecolor": "white",
             "minorgridcolor": "white",
             "startlinecolor": "#2a3f5f"
            },
            "baxis": {
             "endlinecolor": "#2a3f5f",
             "gridcolor": "white",
             "linecolor": "white",
             "minorgridcolor": "white",
             "startlinecolor": "#2a3f5f"
            },
            "type": "carpet"
           }
          ],
          "choropleth": [
           {
            "colorbar": {
             "outlinewidth": 0,
             "ticks": ""
            },
            "type": "choropleth"
           }
          ],
          "contour": [
           {
            "colorbar": {
             "outlinewidth": 0,
             "ticks": ""
            },
            "colorscale": [
             [
              0,
              "#0d0887"
             ],
             [
              0.1111111111111111,
              "#46039f"
             ],
             [
              0.2222222222222222,
              "#7201a8"
             ],
             [
              0.3333333333333333,
              "#9c179e"
             ],
             [
              0.4444444444444444,
              "#bd3786"
             ],
             [
              0.5555555555555556,
              "#d8576b"
             ],
             [
              0.6666666666666666,
              "#ed7953"
             ],
             [
              0.7777777777777778,
              "#fb9f3a"
             ],
             [
              0.8888888888888888,
              "#fdca26"
             ],
             [
              1,
              "#f0f921"
             ]
            ],
            "type": "contour"
           }
          ],
          "contourcarpet": [
           {
            "colorbar": {
             "outlinewidth": 0,
             "ticks": ""
            },
            "type": "contourcarpet"
           }
          ],
          "heatmap": [
           {
            "colorbar": {
             "outlinewidth": 0,
             "ticks": ""
            },
            "colorscale": [
             [
              0,
              "#0d0887"
             ],
             [
              0.1111111111111111,
              "#46039f"
             ],
             [
              0.2222222222222222,
              "#7201a8"
             ],
             [
              0.3333333333333333,
              "#9c179e"
             ],
             [
              0.4444444444444444,
              "#bd3786"
             ],
             [
              0.5555555555555556,
              "#d8576b"
             ],
             [
              0.6666666666666666,
              "#ed7953"
             ],
             [
              0.7777777777777778,
              "#fb9f3a"
             ],
             [
              0.8888888888888888,
              "#fdca26"
             ],
             [
              1,
              "#f0f921"
             ]
            ],
            "type": "heatmap"
           }
          ],
          "heatmapgl": [
           {
            "colorbar": {
             "outlinewidth": 0,
             "ticks": ""
            },
            "colorscale": [
             [
              0,
              "#0d0887"
             ],
             [
              0.1111111111111111,
              "#46039f"
             ],
             [
              0.2222222222222222,
              "#7201a8"
             ],
             [
              0.3333333333333333,
              "#9c179e"
             ],
             [
              0.4444444444444444,
              "#bd3786"
             ],
             [
              0.5555555555555556,
              "#d8576b"
             ],
             [
              0.6666666666666666,
              "#ed7953"
             ],
             [
              0.7777777777777778,
              "#fb9f3a"
             ],
             [
              0.8888888888888888,
              "#fdca26"
             ],
             [
              1,
              "#f0f921"
             ]
            ],
            "type": "heatmapgl"
           }
          ],
          "histogram": [
           {
            "marker": {
             "pattern": {
              "fillmode": "overlay",
              "size": 10,
              "solidity": 0.2
             }
            },
            "type": "histogram"
           }
          ],
          "histogram2d": [
           {
            "colorbar": {
             "outlinewidth": 0,
             "ticks": ""
            },
            "colorscale": [
             [
              0,
              "#0d0887"
             ],
             [
              0.1111111111111111,
              "#46039f"
             ],
             [
              0.2222222222222222,
              "#7201a8"
             ],
             [
              0.3333333333333333,
              "#9c179e"
             ],
             [
              0.4444444444444444,
              "#bd3786"
             ],
             [
              0.5555555555555556,
              "#d8576b"
             ],
             [
              0.6666666666666666,
              "#ed7953"
             ],
             [
              0.7777777777777778,
              "#fb9f3a"
             ],
             [
              0.8888888888888888,
              "#fdca26"
             ],
             [
              1,
              "#f0f921"
             ]
            ],
            "type": "histogram2d"
           }
          ],
          "histogram2dcontour": [
           {
            "colorbar": {
             "outlinewidth": 0,
             "ticks": ""
            },
            "colorscale": [
             [
              0,
              "#0d0887"
             ],
             [
              0.1111111111111111,
              "#46039f"
             ],
             [
              0.2222222222222222,
              "#7201a8"
             ],
             [
              0.3333333333333333,
              "#9c179e"
             ],
             [
              0.4444444444444444,
              "#bd3786"
             ],
             [
              0.5555555555555556,
              "#d8576b"
             ],
             [
              0.6666666666666666,
              "#ed7953"
             ],
             [
              0.7777777777777778,
              "#fb9f3a"
             ],
             [
              0.8888888888888888,
              "#fdca26"
             ],
             [
              1,
              "#f0f921"
             ]
            ],
            "type": "histogram2dcontour"
           }
          ],
          "mesh3d": [
           {
            "colorbar": {
             "outlinewidth": 0,
             "ticks": ""
            },
            "type": "mesh3d"
           }
          ],
          "parcoords": [
           {
            "line": {
             "colorbar": {
              "outlinewidth": 0,
              "ticks": ""
             }
            },
            "type": "parcoords"
           }
          ],
          "pie": [
           {
            "automargin": true,
            "type": "pie"
           }
          ],
          "scatter": [
           {
            "fillpattern": {
             "fillmode": "overlay",
             "size": 10,
             "solidity": 0.2
            },
            "type": "scatter"
           }
          ],
          "scatter3d": [
           {
            "line": {
             "colorbar": {
              "outlinewidth": 0,
              "ticks": ""
             }
            },
            "marker": {
             "colorbar": {
              "outlinewidth": 0,
              "ticks": ""
             }
            },
            "type": "scatter3d"
           }
          ],
          "scattercarpet": [
           {
            "marker": {
             "colorbar": {
              "outlinewidth": 0,
              "ticks": ""
             }
            },
            "type": "scattercarpet"
           }
          ],
          "scattergeo": [
           {
            "marker": {
             "colorbar": {
              "outlinewidth": 0,
              "ticks": ""
             }
            },
            "type": "scattergeo"
           }
          ],
          "scattergl": [
           {
            "marker": {
             "colorbar": {
              "outlinewidth": 0,
              "ticks": ""
             }
            },
            "type": "scattergl"
           }
          ],
          "scattermapbox": [
           {
            "marker": {
             "colorbar": {
              "outlinewidth": 0,
              "ticks": ""
             }
            },
            "type": "scattermapbox"
           }
          ],
          "scatterpolar": [
           {
            "marker": {
             "colorbar": {
              "outlinewidth": 0,
              "ticks": ""
             }
            },
            "type": "scatterpolar"
           }
          ],
          "scatterpolargl": [
           {
            "marker": {
             "colorbar": {
              "outlinewidth": 0,
              "ticks": ""
             }
            },
            "type": "scatterpolargl"
           }
          ],
          "scatterternary": [
           {
            "marker": {
             "colorbar": {
              "outlinewidth": 0,
              "ticks": ""
             }
            },
            "type": "scatterternary"
           }
          ],
          "surface": [
           {
            "colorbar": {
             "outlinewidth": 0,
             "ticks": ""
            },
            "colorscale": [
             [
              0,
              "#0d0887"
             ],
             [
              0.1111111111111111,
              "#46039f"
             ],
             [
              0.2222222222222222,
              "#7201a8"
             ],
             [
              0.3333333333333333,
              "#9c179e"
             ],
             [
              0.4444444444444444,
              "#bd3786"
             ],
             [
              0.5555555555555556,
              "#d8576b"
             ],
             [
              0.6666666666666666,
              "#ed7953"
             ],
             [
              0.7777777777777778,
              "#fb9f3a"
             ],
             [
              0.8888888888888888,
              "#fdca26"
             ],
             [
              1,
              "#f0f921"
             ]
            ],
            "type": "surface"
           }
          ],
          "table": [
           {
            "cells": {
             "fill": {
              "color": "#EBF0F8"
             },
             "line": {
              "color": "white"
             }
            },
            "header": {
             "fill": {
              "color": "#C8D4E3"
             },
             "line": {
              "color": "white"
             }
            },
            "type": "table"
           }
          ]
         },
         "layout": {
          "annotationdefaults": {
           "arrowcolor": "#2a3f5f",
           "arrowhead": 0,
           "arrowwidth": 1
          },
          "autotypenumbers": "strict",
          "coloraxis": {
           "colorbar": {
            "outlinewidth": 0,
            "ticks": ""
           }
          },
          "colorscale": {
           "diverging": [
            [
             0,
             "#8e0152"
            ],
            [
             0.1,
             "#c51b7d"
            ],
            [
             0.2,
             "#de77ae"
            ],
            [
             0.3,
             "#f1b6da"
            ],
            [
             0.4,
             "#fde0ef"
            ],
            [
             0.5,
             "#f7f7f7"
            ],
            [
             0.6,
             "#e6f5d0"
            ],
            [
             0.7,
             "#b8e186"
            ],
            [
             0.8,
             "#7fbc41"
            ],
            [
             0.9,
             "#4d9221"
            ],
            [
             1,
             "#276419"
            ]
           ],
           "sequential": [
            [
             0,
             "#0d0887"
            ],
            [
             0.1111111111111111,
             "#46039f"
            ],
            [
             0.2222222222222222,
             "#7201a8"
            ],
            [
             0.3333333333333333,
             "#9c179e"
            ],
            [
             0.4444444444444444,
             "#bd3786"
            ],
            [
             0.5555555555555556,
             "#d8576b"
            ],
            [
             0.6666666666666666,
             "#ed7953"
            ],
            [
             0.7777777777777778,
             "#fb9f3a"
            ],
            [
             0.8888888888888888,
             "#fdca26"
            ],
            [
             1,
             "#f0f921"
            ]
           ],
           "sequentialminus": [
            [
             0,
             "#0d0887"
            ],
            [
             0.1111111111111111,
             "#46039f"
            ],
            [
             0.2222222222222222,
             "#7201a8"
            ],
            [
             0.3333333333333333,
             "#9c179e"
            ],
            [
             0.4444444444444444,
             "#bd3786"
            ],
            [
             0.5555555555555556,
             "#d8576b"
            ],
            [
             0.6666666666666666,
             "#ed7953"
            ],
            [
             0.7777777777777778,
             "#fb9f3a"
            ],
            [
             0.8888888888888888,
             "#fdca26"
            ],
            [
             1,
             "#f0f921"
            ]
           ]
          },
          "colorway": [
           "#636efa",
           "#EF553B",
           "#00cc96",
           "#ab63fa",
           "#FFA15A",
           "#19d3f3",
           "#FF6692",
           "#B6E880",
           "#FF97FF",
           "#FECB52"
          ],
          "font": {
           "color": "#2a3f5f"
          },
          "geo": {
           "bgcolor": "white",
           "lakecolor": "white",
           "landcolor": "#E5ECF6",
           "showlakes": true,
           "showland": true,
           "subunitcolor": "white"
          },
          "hoverlabel": {
           "align": "left"
          },
          "hovermode": "closest",
          "mapbox": {
           "style": "light"
          },
          "paper_bgcolor": "white",
          "plot_bgcolor": "#E5ECF6",
          "polar": {
           "angularaxis": {
            "gridcolor": "white",
            "linecolor": "white",
            "ticks": ""
           },
           "bgcolor": "#E5ECF6",
           "radialaxis": {
            "gridcolor": "white",
            "linecolor": "white",
            "ticks": ""
           }
          },
          "scene": {
           "xaxis": {
            "backgroundcolor": "#E5ECF6",
            "gridcolor": "white",
            "gridwidth": 2,
            "linecolor": "white",
            "showbackground": true,
            "ticks": "",
            "zerolinecolor": "white"
           },
           "yaxis": {
            "backgroundcolor": "#E5ECF6",
            "gridcolor": "white",
            "gridwidth": 2,
            "linecolor": "white",
            "showbackground": true,
            "ticks": "",
            "zerolinecolor": "white"
           },
           "zaxis": {
            "backgroundcolor": "#E5ECF6",
            "gridcolor": "white",
            "gridwidth": 2,
            "linecolor": "white",
            "showbackground": true,
            "ticks": "",
            "zerolinecolor": "white"
           }
          },
          "shapedefaults": {
           "line": {
            "color": "#2a3f5f"
           }
          },
          "ternary": {
           "aaxis": {
            "gridcolor": "white",
            "linecolor": "white",
            "ticks": ""
           },
           "baxis": {
            "gridcolor": "white",
            "linecolor": "white",
            "ticks": ""
           },
           "bgcolor": "#E5ECF6",
           "caxis": {
            "gridcolor": "white",
            "linecolor": "white",
            "ticks": ""
           }
          },
          "title": {
           "x": 0.05
          },
          "xaxis": {
           "automargin": true,
           "gridcolor": "white",
           "linecolor": "white",
           "ticks": "",
           "title": {
            "standoff": 15
           },
           "zerolinecolor": "white",
           "zerolinewidth": 2
          },
          "yaxis": {
           "automargin": true,
           "gridcolor": "white",
           "linecolor": "white",
           "ticks": "",
           "title": {
            "standoff": 15
           },
           "zerolinecolor": "white",
           "zerolinewidth": 2
          }
         }
        }
       }
      },
      "text/html": [
       "<div>                            <div id=\"7d3f331d-a42e-4254-af6d-e2444521e642\" class=\"plotly-graph-div\" style=\"height:525px; width:100%;\"></div>            <script type=\"text/javascript\">                require([\"plotly\"], function(Plotly) {                    window.PLOTLYENV=window.PLOTLYENV || {};                                    if (document.getElementById(\"7d3f331d-a42e-4254-af6d-e2444521e642\")) {                    Plotly.newPlot(                        \"7d3f331d-a42e-4254-af6d-e2444521e642\",                        [{\"fill\":\"toself\",\"fillcolor\":\"rgba(128, 128, 128, 0.5)\",\"lat\":[44.4488,44.599,44.5166,44.428,44.4488],\"line\":{\"color\":\"black\"},\"lon\":[-110.839,-110.7052,-110.5339,-110.5885,-110.839],\"name\":\"Yellowstone National Park\",\"type\":\"scattermapbox\"},{\"fill\":\"toself\",\"fillcolor\":\"rgba(128, 128, 128, 0.5)\",\"lat\":[37.7244,37.6962,37.7799,37.8456,37.8651,37.7244],\"line\":{\"color\":\"black\"},\"lon\":[-119.655,-119.5964,-119.4893,-119.3029,-119.5383,-119.655],\"name\":\"Yosemite National Park\",\"type\":\"scattermapbox\"},{\"fill\":\"toself\",\"fillcolor\":\"rgba(128, 128, 128, 0.5)\",\"lat\":[36.1336,36.2331,36.2861,36.1182,36.057,36.1336],\"line\":{\"color\":\"black\"},\"lon\":[-112.1861,-112.2156,-112.0969,-111.8205,-112.1214,-112.1861],\"name\":\"Grand Canyon National Park\",\"type\":\"scattermapbox\"},{\"hoverinfo\":\"text\",\"lat\":[45.2284,44.3946,44.4246],\"lon\":[-110.7622,-110.8218,-110.1118],\"marker\":{\"color\":0,\"size\":10},\"mode\":\"markers\",\"name\":\"Wolf\",\"showlegend\":true,\"text\":[\"Animal ID: A001\\u003cbr\\u003eScientific Name: Canis lupus\\u003cbr\\u003eRedlist Category: Least Concern\\u003cbr\\u003eMegafauna: no\\u003cbr\\u003eLatitude: 45.2284\\u003cbr\\u003eLongitude: -110.7622\",\"Animal ID: A001\\u003cbr\\u003eScientific Name: Canis lupus\\u003cbr\\u003eRedlist Category: Least Concern\\u003cbr\\u003eMegafauna: no\\u003cbr\\u003eLatitude: 44.3946\\u003cbr\\u003eLongitude: -110.8218\",\"Animal ID: A001\\u003cbr\\u003eScientific Name: Canis lupus\\u003cbr\\u003eRedlist Category: Least Concern\\u003cbr\\u003eMegafauna: no\\u003cbr\\u003eLatitude: 44.4246\\u003cbr\\u003eLongitude: -110.1118\"],\"type\":\"scattermapbox\"},{\"hoverinfo\":\"text\",\"lat\":[44.576,44.5361,44.2221],\"lon\":[-110.6763,-110.7078,-110.8182],\"marker\":{\"color\":1,\"size\":10},\"mode\":\"markers\",\"name\":\"Bison\",\"showlegend\":true,\"text\":[\"Animal ID: A002\\u003cbr\\u003eScientific Name: Bison bison\\u003cbr\\u003eRedlist Category: Vulnerable\\u003cbr\\u003eMegafauna: yes\\u003cbr\\u003eLatitude: 44.576\\u003cbr\\u003eLongitude: -110.6763\",\"Animal ID: A002\\u003cbr\\u003eScientific Name: Bison bison\\u003cbr\\u003eRedlist Category: Vulnerable\\u003cbr\\u003eMegafauna: yes\\u003cbr\\u003eLatitude: 44.5361\\u003cbr\\u003eLongitude: -110.7078\",\"Animal ID: A002\\u003cbr\\u003eScientific Name: Bison bison\\u003cbr\\u003eRedlist Category: Vulnerable\\u003cbr\\u003eMegafauna: yes\\u003cbr\\u003eLatitude: 44.2221\\u003cbr\\u003eLongitude: -110.8182\"],\"type\":\"scattermapbox\"},{\"hoverinfo\":\"text\",\"lat\":[44.4232,44.5472,44.5519],\"lon\":[-111.1061,-110.7893,-110.9812],\"marker\":{\"color\":2,\"size\":10},\"mode\":\"markers\",\"name\":\"Elk\",\"showlegend\":true,\"text\":[\"Animal ID: A003\\u003cbr\\u003eScientific Name: Cervus canadensis\\u003cbr\\u003eRedlist Category: Least Concern\\u003cbr\\u003eMegafauna: yes\\u003cbr\\u003eLatitude: 44.4232\\u003cbr\\u003eLongitude: -111.1061\",\"Animal ID: A003\\u003cbr\\u003eScientific Name: Cervus canadensis\\u003cbr\\u003eRedlist Category: Least Concern\\u003cbr\\u003eMegafauna: yes\\u003cbr\\u003eLatitude: 44.5472\\u003cbr\\u003eLongitude: -110.7893\",\"Animal ID: A003\\u003cbr\\u003eScientific Name: Cervus canadensis\\u003cbr\\u003eRedlist Category: Least Concern\\u003cbr\\u003eMegafauna: yes\\u003cbr\\u003eLatitude: 44.5519\\u003cbr\\u003eLongitude: -110.9812\"],\"type\":\"scattermapbox\"},{\"hoverinfo\":\"text\",\"lat\":[37.9058,37.766,37.8601],\"lon\":[-119.7857,-119.6363,-119.5353],\"marker\":{\"color\":3,\"size\":10},\"mode\":\"markers\",\"name\":\"Sierra Nevada bighorn sheep\",\"showlegend\":true,\"text\":[\"Animal ID: A004\\u003cbr\\u003eScientific Name: Ovis canadensis sierrae\\u003cbr\\u003eRedlist Category: Endangered\\u003cbr\\u003eMegafauna: no\\u003cbr\\u003eLatitude: 37.9058\\u003cbr\\u003eLongitude: -119.7857\",\"Animal ID: A004\\u003cbr\\u003eScientific Name: Ovis canadensis sierrae\\u003cbr\\u003eRedlist Category: Endangered\\u003cbr\\u003eMegafauna: no\\u003cbr\\u003eLatitude: 37.766\\u003cbr\\u003eLongitude: -119.6363\",\"Animal ID: A004\\u003cbr\\u003eScientific Name: Ovis canadensis sierrae\\u003cbr\\u003eRedlist Category: Endangered\\u003cbr\\u003eMegafauna: no\\u003cbr\\u003eLatitude: 37.8601\\u003cbr\\u003eLongitude: -119.5353\"],\"type\":\"scattermapbox\"},{\"hoverinfo\":\"text\",\"lat\":[37.7896,37.8626,37.6181],\"lon\":[-119.6426,-119.7777,-119.6619],\"marker\":{\"color\":4,\"size\":10},\"mode\":\"markers\",\"name\":\"Sierra Nevada red fox\",\"showlegend\":true,\"text\":[\"Animal ID: A005\\u003cbr\\u003eScientific Name: Vulpes vulpes necator\\u003cbr\\u003eRedlist Category: Critically Endangered\\u003cbr\\u003eMegafauna: no\\u003cbr\\u003eLatitude: 37.7896\\u003cbr\\u003eLongitude: -119.6426\",\"Animal ID: A005\\u003cbr\\u003eScientific Name: Vulpes vulpes necator\\u003cbr\\u003eRedlist Category: Critically Endangered\\u003cbr\\u003eMegafauna: no\\u003cbr\\u003eLatitude: 37.8626\\u003cbr\\u003eLongitude: -119.7777\",\"Animal ID: A005\\u003cbr\\u003eScientific Name: Vulpes vulpes necator\\u003cbr\\u003eRedlist Category: Critically Endangered\\u003cbr\\u003eMegafauna: no\\u003cbr\\u003eLatitude: 37.6181\\u003cbr\\u003eLongitude: -119.6619\"],\"type\":\"scattermapbox\"},{\"hoverinfo\":\"text\",\"lat\":[37.8829,37.8636,37.8681],\"lon\":[-119.7608,-119.628,-119.6255],\"marker\":{\"color\":5,\"size\":10},\"mode\":\"markers\",\"name\":\"Bobcat\",\"showlegend\":true,\"text\":[\"Animal ID: A006\\u003cbr\\u003eScientific Name: Lynx rufus\\u003cbr\\u003eRedlist Category: Least Concern\\u003cbr\\u003eMegafauna: yes\\u003cbr\\u003eLatitude: 37.8829\\u003cbr\\u003eLongitude: -119.7608\",\"Animal ID: A006\\u003cbr\\u003eScientific Name: Lynx rufus\\u003cbr\\u003eRedlist Category: Least Concern\\u003cbr\\u003eMegafauna: yes\\u003cbr\\u003eLatitude: 37.8636\\u003cbr\\u003eLongitude: -119.628\",\"Animal ID: A006\\u003cbr\\u003eScientific Name: Lynx rufus\\u003cbr\\u003eRedlist Category: Least Concern\\u003cbr\\u003eMegafauna: yes\\u003cbr\\u003eLatitude: 37.8681\\u003cbr\\u003eLongitude: -119.6255\"],\"type\":\"scattermapbox\"},{\"hoverinfo\":\"text\",\"lat\":[36.372,36.6622,36.2261],\"lon\":[-113.1627,-112.2308,-112.1831],\"marker\":{\"color\":6,\"size\":10},\"mode\":\"markers\",\"name\":\"Mule deer\",\"showlegend\":true,\"text\":[\"Animal ID: A007\\u003cbr\\u003eScientific Name: Odocoileus hemionus\\u003cbr\\u003eRedlist Category: Least Concern\\u003cbr\\u003eMegafauna: yes\\u003cbr\\u003eLatitude: 36.372\\u003cbr\\u003eLongitude: -113.1627\",\"Animal ID: A007\\u003cbr\\u003eScientific Name: Odocoileus hemionus\\u003cbr\\u003eRedlist Category: Least Concern\\u003cbr\\u003eMegafauna: yes\\u003cbr\\u003eLatitude: 36.6622\\u003cbr\\u003eLongitude: -112.2308\",\"Animal ID: A007\\u003cbr\\u003eScientific Name: Odocoileus hemionus\\u003cbr\\u003eRedlist Category: Least Concern\\u003cbr\\u003eMegafauna: yes\\u003cbr\\u003eLatitude: 36.2261\\u003cbr\\u003eLongitude: -112.1831\"],\"type\":\"scattermapbox\"},{\"hoverinfo\":\"text\",\"lat\":[36.6193,36.6016,36.5492],\"lon\":[-112.3388,-112.3256,-112.7439],\"marker\":{\"color\":7,\"size\":10},\"mode\":\"markers\",\"name\":\"Desert bighorn sheep\",\"showlegend\":true,\"text\":[\"Animal ID: A008\\u003cbr\\u003eScientific Name: Ovis canadensis nelsoni\\u003cbr\\u003eRedlist Category: Near Threatened\\u003cbr\\u003eMegafauna: yes\\u003cbr\\u003eLatitude: 36.6193\\u003cbr\\u003eLongitude: -112.3388\",\"Animal ID: A008\\u003cbr\\u003eScientific Name: Ovis canadensis nelsoni\\u003cbr\\u003eRedlist Category: Near Threatened\\u003cbr\\u003eMegafauna: yes\\u003cbr\\u003eLatitude: 36.6016\\u003cbr\\u003eLongitude: -112.3256\",\"Animal ID: A008\\u003cbr\\u003eScientific Name: Ovis canadensis nelsoni\\u003cbr\\u003eRedlist Category: Near Threatened\\u003cbr\\u003eMegafauna: yes\\u003cbr\\u003eLatitude: 36.5492\\u003cbr\\u003eLongitude: -112.7439\"],\"type\":\"scattermapbox\"},{\"hoverinfo\":\"text\",\"lat\":[36.3388,36.4868,36.6282],\"lon\":[-112.119,-112.3517,-112.6524],\"marker\":{\"color\":8,\"size\":10},\"mode\":\"markers\",\"name\":\"Gray fox\",\"showlegend\":true,\"text\":[\"Animal ID: A009\\u003cbr\\u003eScientific Name: Urocyon cinereoargenteus\\u003cbr\\u003eRedlist Category: Least Concern\\u003cbr\\u003eMegafauna: yes\\u003cbr\\u003eLatitude: 36.3388\\u003cbr\\u003eLongitude: -112.119\",\"Animal ID: A009\\u003cbr\\u003eScientific Name: Urocyon cinereoargenteus\\u003cbr\\u003eRedlist Category: Least Concern\\u003cbr\\u003eMegafauna: yes\\u003cbr\\u003eLatitude: 36.4868\\u003cbr\\u003eLongitude: -112.3517\",\"Animal ID: A009\\u003cbr\\u003eScientific Name: Urocyon cinereoargenteus\\u003cbr\\u003eRedlist Category: Least Concern\\u003cbr\\u003eMegafauna: yes\\u003cbr\\u003eLatitude: 36.6282\\u003cbr\\u003eLongitude: -112.6524\"],\"type\":\"scattermapbox\"}],                        {\"template\":{\"data\":{\"histogram2dcontour\":[{\"type\":\"histogram2dcontour\",\"colorbar\":{\"outlinewidth\":0,\"ticks\":\"\"},\"colorscale\":[[0.0,\"#0d0887\"],[0.1111111111111111,\"#46039f\"],[0.2222222222222222,\"#7201a8\"],[0.3333333333333333,\"#9c179e\"],[0.4444444444444444,\"#bd3786\"],[0.5555555555555556,\"#d8576b\"],[0.6666666666666666,\"#ed7953\"],[0.7777777777777778,\"#fb9f3a\"],[0.8888888888888888,\"#fdca26\"],[1.0,\"#f0f921\"]]}],\"choropleth\":[{\"type\":\"choropleth\",\"colorbar\":{\"outlinewidth\":0,\"ticks\":\"\"}}],\"histogram2d\":[{\"type\":\"histogram2d\",\"colorbar\":{\"outlinewidth\":0,\"ticks\":\"\"},\"colorscale\":[[0.0,\"#0d0887\"],[0.1111111111111111,\"#46039f\"],[0.2222222222222222,\"#7201a8\"],[0.3333333333333333,\"#9c179e\"],[0.4444444444444444,\"#bd3786\"],[0.5555555555555556,\"#d8576b\"],[0.6666666666666666,\"#ed7953\"],[0.7777777777777778,\"#fb9f3a\"],[0.8888888888888888,\"#fdca26\"],[1.0,\"#f0f921\"]]}],\"heatmap\":[{\"type\":\"heatmap\",\"colorbar\":{\"outlinewidth\":0,\"ticks\":\"\"},\"colorscale\":[[0.0,\"#0d0887\"],[0.1111111111111111,\"#46039f\"],[0.2222222222222222,\"#7201a8\"],[0.3333333333333333,\"#9c179e\"],[0.4444444444444444,\"#bd3786\"],[0.5555555555555556,\"#d8576b\"],[0.6666666666666666,\"#ed7953\"],[0.7777777777777778,\"#fb9f3a\"],[0.8888888888888888,\"#fdca26\"],[1.0,\"#f0f921\"]]}],\"heatmapgl\":[{\"type\":\"heatmapgl\",\"colorbar\":{\"outlinewidth\":0,\"ticks\":\"\"},\"colorscale\":[[0.0,\"#0d0887\"],[0.1111111111111111,\"#46039f\"],[0.2222222222222222,\"#7201a8\"],[0.3333333333333333,\"#9c179e\"],[0.4444444444444444,\"#bd3786\"],[0.5555555555555556,\"#d8576b\"],[0.6666666666666666,\"#ed7953\"],[0.7777777777777778,\"#fb9f3a\"],[0.8888888888888888,\"#fdca26\"],[1.0,\"#f0f921\"]]}],\"contourcarpet\":[{\"type\":\"contourcarpet\",\"colorbar\":{\"outlinewidth\":0,\"ticks\":\"\"}}],\"contour\":[{\"type\":\"contour\",\"colorbar\":{\"outlinewidth\":0,\"ticks\":\"\"},\"colorscale\":[[0.0,\"#0d0887\"],[0.1111111111111111,\"#46039f\"],[0.2222222222222222,\"#7201a8\"],[0.3333333333333333,\"#9c179e\"],[0.4444444444444444,\"#bd3786\"],[0.5555555555555556,\"#d8576b\"],[0.6666666666666666,\"#ed7953\"],[0.7777777777777778,\"#fb9f3a\"],[0.8888888888888888,\"#fdca26\"],[1.0,\"#f0f921\"]]}],\"surface\":[{\"type\":\"surface\",\"colorbar\":{\"outlinewidth\":0,\"ticks\":\"\"},\"colorscale\":[[0.0,\"#0d0887\"],[0.1111111111111111,\"#46039f\"],[0.2222222222222222,\"#7201a8\"],[0.3333333333333333,\"#9c179e\"],[0.4444444444444444,\"#bd3786\"],[0.5555555555555556,\"#d8576b\"],[0.6666666666666666,\"#ed7953\"],[0.7777777777777778,\"#fb9f3a\"],[0.8888888888888888,\"#fdca26\"],[1.0,\"#f0f921\"]]}],\"mesh3d\":[{\"type\":\"mesh3d\",\"colorbar\":{\"outlinewidth\":0,\"ticks\":\"\"}}],\"scatter\":[{\"fillpattern\":{\"fillmode\":\"overlay\",\"size\":10,\"solidity\":0.2},\"type\":\"scatter\"}],\"parcoords\":[{\"type\":\"parcoords\",\"line\":{\"colorbar\":{\"outlinewidth\":0,\"ticks\":\"\"}}}],\"scatterpolargl\":[{\"type\":\"scatterpolargl\",\"marker\":{\"colorbar\":{\"outlinewidth\":0,\"ticks\":\"\"}}}],\"bar\":[{\"error_x\":{\"color\":\"#2a3f5f\"},\"error_y\":{\"color\":\"#2a3f5f\"},\"marker\":{\"line\":{\"color\":\"#E5ECF6\",\"width\":0.5},\"pattern\":{\"fillmode\":\"overlay\",\"size\":10,\"solidity\":0.2}},\"type\":\"bar\"}],\"scattergeo\":[{\"type\":\"scattergeo\",\"marker\":{\"colorbar\":{\"outlinewidth\":0,\"ticks\":\"\"}}}],\"scatterpolar\":[{\"type\":\"scatterpolar\",\"marker\":{\"colorbar\":{\"outlinewidth\":0,\"ticks\":\"\"}}}],\"histogram\":[{\"marker\":{\"pattern\":{\"fillmode\":\"overlay\",\"size\":10,\"solidity\":0.2}},\"type\":\"histogram\"}],\"scattergl\":[{\"type\":\"scattergl\",\"marker\":{\"colorbar\":{\"outlinewidth\":0,\"ticks\":\"\"}}}],\"scatter3d\":[{\"type\":\"scatter3d\",\"line\":{\"colorbar\":{\"outlinewidth\":0,\"ticks\":\"\"}},\"marker\":{\"colorbar\":{\"outlinewidth\":0,\"ticks\":\"\"}}}],\"scattermapbox\":[{\"type\":\"scattermapbox\",\"marker\":{\"colorbar\":{\"outlinewidth\":0,\"ticks\":\"\"}}}],\"scatterternary\":[{\"type\":\"scatterternary\",\"marker\":{\"colorbar\":{\"outlinewidth\":0,\"ticks\":\"\"}}}],\"scattercarpet\":[{\"type\":\"scattercarpet\",\"marker\":{\"colorbar\":{\"outlinewidth\":0,\"ticks\":\"\"}}}],\"carpet\":[{\"aaxis\":{\"endlinecolor\":\"#2a3f5f\",\"gridcolor\":\"white\",\"linecolor\":\"white\",\"minorgridcolor\":\"white\",\"startlinecolor\":\"#2a3f5f\"},\"baxis\":{\"endlinecolor\":\"#2a3f5f\",\"gridcolor\":\"white\",\"linecolor\":\"white\",\"minorgridcolor\":\"white\",\"startlinecolor\":\"#2a3f5f\"},\"type\":\"carpet\"}],\"table\":[{\"cells\":{\"fill\":{\"color\":\"#EBF0F8\"},\"line\":{\"color\":\"white\"}},\"header\":{\"fill\":{\"color\":\"#C8D4E3\"},\"line\":{\"color\":\"white\"}},\"type\":\"table\"}],\"barpolar\":[{\"marker\":{\"line\":{\"color\":\"#E5ECF6\",\"width\":0.5},\"pattern\":{\"fillmode\":\"overlay\",\"size\":10,\"solidity\":0.2}},\"type\":\"barpolar\"}],\"pie\":[{\"automargin\":true,\"type\":\"pie\"}]},\"layout\":{\"autotypenumbers\":\"strict\",\"colorway\":[\"#636efa\",\"#EF553B\",\"#00cc96\",\"#ab63fa\",\"#FFA15A\",\"#19d3f3\",\"#FF6692\",\"#B6E880\",\"#FF97FF\",\"#FECB52\"],\"font\":{\"color\":\"#2a3f5f\"},\"hovermode\":\"closest\",\"hoverlabel\":{\"align\":\"left\"},\"paper_bgcolor\":\"white\",\"plot_bgcolor\":\"#E5ECF6\",\"polar\":{\"bgcolor\":\"#E5ECF6\",\"angularaxis\":{\"gridcolor\":\"white\",\"linecolor\":\"white\",\"ticks\":\"\"},\"radialaxis\":{\"gridcolor\":\"white\",\"linecolor\":\"white\",\"ticks\":\"\"}},\"ternary\":{\"bgcolor\":\"#E5ECF6\",\"aaxis\":{\"gridcolor\":\"white\",\"linecolor\":\"white\",\"ticks\":\"\"},\"baxis\":{\"gridcolor\":\"white\",\"linecolor\":\"white\",\"ticks\":\"\"},\"caxis\":{\"gridcolor\":\"white\",\"linecolor\":\"white\",\"ticks\":\"\"}},\"coloraxis\":{\"colorbar\":{\"outlinewidth\":0,\"ticks\":\"\"}},\"colorscale\":{\"sequential\":[[0.0,\"#0d0887\"],[0.1111111111111111,\"#46039f\"],[0.2222222222222222,\"#7201a8\"],[0.3333333333333333,\"#9c179e\"],[0.4444444444444444,\"#bd3786\"],[0.5555555555555556,\"#d8576b\"],[0.6666666666666666,\"#ed7953\"],[0.7777777777777778,\"#fb9f3a\"],[0.8888888888888888,\"#fdca26\"],[1.0,\"#f0f921\"]],\"sequentialminus\":[[0.0,\"#0d0887\"],[0.1111111111111111,\"#46039f\"],[0.2222222222222222,\"#7201a8\"],[0.3333333333333333,\"#9c179e\"],[0.4444444444444444,\"#bd3786\"],[0.5555555555555556,\"#d8576b\"],[0.6666666666666666,\"#ed7953\"],[0.7777777777777778,\"#fb9f3a\"],[0.8888888888888888,\"#fdca26\"],[1.0,\"#f0f921\"]],\"diverging\":[[0,\"#8e0152\"],[0.1,\"#c51b7d\"],[0.2,\"#de77ae\"],[0.3,\"#f1b6da\"],[0.4,\"#fde0ef\"],[0.5,\"#f7f7f7\"],[0.6,\"#e6f5d0\"],[0.7,\"#b8e186\"],[0.8,\"#7fbc41\"],[0.9,\"#4d9221\"],[1,\"#276419\"]]},\"xaxis\":{\"gridcolor\":\"white\",\"linecolor\":\"white\",\"ticks\":\"\",\"title\":{\"standoff\":15},\"zerolinecolor\":\"white\",\"automargin\":true,\"zerolinewidth\":2},\"yaxis\":{\"gridcolor\":\"white\",\"linecolor\":\"white\",\"ticks\":\"\",\"title\":{\"standoff\":15},\"zerolinecolor\":\"white\",\"automargin\":true,\"zerolinewidth\":2},\"scene\":{\"xaxis\":{\"backgroundcolor\":\"#E5ECF6\",\"gridcolor\":\"white\",\"linecolor\":\"white\",\"showbackground\":true,\"ticks\":\"\",\"zerolinecolor\":\"white\",\"gridwidth\":2},\"yaxis\":{\"backgroundcolor\":\"#E5ECF6\",\"gridcolor\":\"white\",\"linecolor\":\"white\",\"showbackground\":true,\"ticks\":\"\",\"zerolinecolor\":\"white\",\"gridwidth\":2},\"zaxis\":{\"backgroundcolor\":\"#E5ECF6\",\"gridcolor\":\"white\",\"linecolor\":\"white\",\"showbackground\":true,\"ticks\":\"\",\"zerolinecolor\":\"white\",\"gridwidth\":2}},\"shapedefaults\":{\"line\":{\"color\":\"#2a3f5f\"}},\"annotationdefaults\":{\"arrowcolor\":\"#2a3f5f\",\"arrowhead\":0,\"arrowwidth\":1},\"geo\":{\"bgcolor\":\"white\",\"landcolor\":\"#E5ECF6\",\"subunitcolor\":\"white\",\"showland\":true,\"showlakes\":true,\"lakecolor\":\"white\"},\"title\":{\"x\":0.05},\"mapbox\":{\"style\":\"light\"}}},\"mapbox\":{\"center\":{\"lat\":44.4,\"lon\":-110.6},\"style\":\"open-street-map\",\"zoom\":8}},                        {\"responsive\": true}                    ).then(function(){\n",
       "                            \n",
       "var gd = document.getElementById('7d3f331d-a42e-4254-af6d-e2444521e642');\n",
       "var x = new MutationObserver(function (mutations, observer) {{\n",
       "        var display = window.getComputedStyle(gd).display;\n",
       "        if (!display || display === 'none') {{\n",
       "            console.log([gd, 'removed!']);\n",
       "            Plotly.purge(gd);\n",
       "            observer.disconnect();\n",
       "        }}\n",
       "}});\n",
       "\n",
       "// Listen for the removal of the full notebook cells\n",
       "var notebookContainer = gd.closest('#notebook-container');\n",
       "if (notebookContainer) {{\n",
       "    x.observe(notebookContainer, {childList: true});\n",
       "}}\n",
       "\n",
       "// Listen for the clearing of the current output cell\n",
       "var outputEl = gd.closest('.output');\n",
       "if (outputEl) {{\n",
       "    x.observe(outputEl, {childList: true});\n",
       "}}\n",
       "\n",
       "                        })                };                });            </script>        </div>"
      ]
     },
     "metadata": {},
     "output_type": "display_data"
    }
   ],
   "source": [
    "fig = plot_t(satellites_dict, protected_areas_gdf, animal_full_gdf, time='2024-09-01')\n",
    "fig.show()"
   ]
  },
  {
   "cell_type": "code",
   "execution_count": 602,
   "id": "8dcc393c",
   "metadata": {},
   "outputs": [],
   "source": [
    "def plot_region(mesh_gdf, fig=None):\n",
    "    \"\"\"\n",
    "    Visualize the design regions on a map.\n",
    "\n",
    "    Args:\n",
    "        mesh_gdf (gpd.GeoDataFrame): A GeoDataFrame containing `geometry` data corresponding to region IDs.\n",
    "\n",
    "    Returns:\n",
    "        go.Figure: The updated Plotly Figure object displaying the design regions.\n",
    "    \"\"\"\n",
    "    \n",
    "    if fig is None:\n",
    "        fig = go.Figure()\n",
    "    \n",
    "    for _, row in mesh_gdf.iterrows():\n",
    "        # Extract coordinates from the geometry\n",
    "        lon, lat = row['geometry'].exterior.xy \n",
    "\n",
    "        # Convert coordinates to lists\n",
    "        lon = list(lon)\n",
    "        lat = list(lat)\n",
    "\n",
    "        # Add the polygon to the figure with filled area\n",
    "        fig.add_trace(go.Scattermapbox(\n",
    "            lat=lat,\n",
    "            lon=lon,\n",
    "            fill='toself',  \n",
    "            fillcolor='rgba(135, 206, 235, 0.5)',  \n",
    "            line=dict(color='blue'),\n",
    "            showlegend=False,\n",
    "            name=row.get('region_id', 'Area')  \n",
    "        ))\n",
    "    fig.update_layout(\n",
    "            mapbox_style=\"open-street-map\"\n",
    "        )\n",
    "    return(fig)"
   ]
  },
  {
   "cell_type": "code",
   "execution_count": 603,
   "id": "de86b6e0",
   "metadata": {},
   "outputs": [
    {
     "data": {
      "application/vnd.plotly.v1+json": {
       "config": {
        "plotlyServerURL": "https://plot.ly",
        "responsive": true,
        "scrollZoom": true
       },
       "data": [
        {
         "fill": "toself",
         "fillcolor": "rgba(135, 206, 235, 0.5)",
         "lat": [
          44.2,
          44.24444444444445,
          44.24444444444445,
          44.2,
          44.2
         ],
         "line": {
          "color": "blue"
         },
         "lon": [
          -110.98888888888888,
          -110.98888888888888,
          -111.1,
          -111.1,
          -110.98888888888888
         ],
         "name": "0",
         "showlegend": false,
         "type": "scattermapbox"
        },
        {
         "fill": "toself",
         "fillcolor": "rgba(135, 206, 235, 0.5)",
         "lat": [
          44.24444444444445,
          44.28888888888889,
          44.28888888888889,
          44.24444444444445,
          44.24444444444445
         ],
         "line": {
          "color": "blue"
         },
         "lon": [
          -110.98888888888888,
          -110.98888888888888,
          -111.1,
          -111.1,
          -110.98888888888888
         ],
         "name": "1",
         "showlegend": false,
         "type": "scattermapbox"
        },
        {
         "fill": "toself",
         "fillcolor": "rgba(135, 206, 235, 0.5)",
         "lat": [
          44.28888888888889,
          44.333333333333336,
          44.333333333333336,
          44.28888888888889,
          44.28888888888889
         ],
         "line": {
          "color": "blue"
         },
         "lon": [
          -110.98888888888888,
          -110.98888888888888,
          -111.1,
          -111.1,
          -110.98888888888888
         ],
         "name": "2",
         "showlegend": false,
         "type": "scattermapbox"
        },
        {
         "fill": "toself",
         "fillcolor": "rgba(135, 206, 235, 0.5)",
         "lat": [
          44.333333333333336,
          44.37777777777778,
          44.37777777777778,
          44.333333333333336,
          44.333333333333336
         ],
         "line": {
          "color": "blue"
         },
         "lon": [
          -110.98888888888888,
          -110.98888888888888,
          -111.1,
          -111.1,
          -110.98888888888888
         ],
         "name": "3",
         "showlegend": false,
         "type": "scattermapbox"
        },
        {
         "fill": "toself",
         "fillcolor": "rgba(135, 206, 235, 0.5)",
         "lat": [
          44.37777777777778,
          44.422222222222224,
          44.422222222222224,
          44.37777777777778,
          44.37777777777778
         ],
         "line": {
          "color": "blue"
         },
         "lon": [
          -110.98888888888888,
          -110.98888888888888,
          -111.1,
          -111.1,
          -110.98888888888888
         ],
         "name": "4",
         "showlegend": false,
         "type": "scattermapbox"
        },
        {
         "fill": "toself",
         "fillcolor": "rgba(135, 206, 235, 0.5)",
         "lat": [
          44.422222222222224,
          44.46666666666667,
          44.46666666666667,
          44.422222222222224,
          44.422222222222224
         ],
         "line": {
          "color": "blue"
         },
         "lon": [
          -110.98888888888888,
          -110.98888888888888,
          -111.1,
          -111.1,
          -110.98888888888888
         ],
         "name": "5",
         "showlegend": false,
         "type": "scattermapbox"
        },
        {
         "fill": "toself",
         "fillcolor": "rgba(135, 206, 235, 0.5)",
         "lat": [
          44.46666666666667,
          44.51111111111111,
          44.51111111111111,
          44.46666666666667,
          44.46666666666667
         ],
         "line": {
          "color": "blue"
         },
         "lon": [
          -110.98888888888888,
          -110.98888888888888,
          -111.1,
          -111.1,
          -110.98888888888888
         ],
         "name": "6",
         "showlegend": false,
         "type": "scattermapbox"
        },
        {
         "fill": "toself",
         "fillcolor": "rgba(135, 206, 235, 0.5)",
         "lat": [
          44.51111111111111,
          44.55555555555556,
          44.55555555555556,
          44.51111111111111,
          44.51111111111111
         ],
         "line": {
          "color": "blue"
         },
         "lon": [
          -110.98888888888888,
          -110.98888888888888,
          -111.1,
          -111.1,
          -110.98888888888888
         ],
         "name": "7",
         "showlegend": false,
         "type": "scattermapbox"
        },
        {
         "fill": "toself",
         "fillcolor": "rgba(135, 206, 235, 0.5)",
         "lat": [
          44.55555555555556,
          44.6,
          44.6,
          44.55555555555556,
          44.55555555555556
         ],
         "line": {
          "color": "blue"
         },
         "lon": [
          -110.98888888888888,
          -110.98888888888888,
          -111.1,
          -111.1,
          -110.98888888888888
         ],
         "name": "8",
         "showlegend": false,
         "type": "scattermapbox"
        },
        {
         "fill": "toself",
         "fillcolor": "rgba(135, 206, 235, 0.5)",
         "lat": [
          44.2,
          44.24444444444445,
          44.24444444444445,
          44.2,
          44.2
         ],
         "line": {
          "color": "blue"
         },
         "lon": [
          -110.87777777777777,
          -110.87777777777777,
          -110.98888888888888,
          -110.98888888888888,
          -110.87777777777777
         ],
         "name": "9",
         "showlegend": false,
         "type": "scattermapbox"
        },
        {
         "fill": "toself",
         "fillcolor": "rgba(135, 206, 235, 0.5)",
         "lat": [
          44.24444444444445,
          44.28888888888889,
          44.28888888888889,
          44.24444444444445,
          44.24444444444445
         ],
         "line": {
          "color": "blue"
         },
         "lon": [
          -110.87777777777777,
          -110.87777777777777,
          -110.98888888888888,
          -110.98888888888888,
          -110.87777777777777
         ],
         "name": "10",
         "showlegend": false,
         "type": "scattermapbox"
        },
        {
         "fill": "toself",
         "fillcolor": "rgba(135, 206, 235, 0.5)",
         "lat": [
          44.28888888888889,
          44.333333333333336,
          44.333333333333336,
          44.28888888888889,
          44.28888888888889
         ],
         "line": {
          "color": "blue"
         },
         "lon": [
          -110.87777777777777,
          -110.87777777777777,
          -110.98888888888888,
          -110.98888888888888,
          -110.87777777777777
         ],
         "name": "11",
         "showlegend": false,
         "type": "scattermapbox"
        },
        {
         "fill": "toself",
         "fillcolor": "rgba(135, 206, 235, 0.5)",
         "lat": [
          44.333333333333336,
          44.37777777777778,
          44.37777777777778,
          44.333333333333336,
          44.333333333333336
         ],
         "line": {
          "color": "blue"
         },
         "lon": [
          -110.87777777777777,
          -110.87777777777777,
          -110.98888888888888,
          -110.98888888888888,
          -110.87777777777777
         ],
         "name": "12",
         "showlegend": false,
         "type": "scattermapbox"
        },
        {
         "fill": "toself",
         "fillcolor": "rgba(135, 206, 235, 0.5)",
         "lat": [
          44.37777777777778,
          44.422222222222224,
          44.422222222222224,
          44.37777777777778,
          44.37777777777778
         ],
         "line": {
          "color": "blue"
         },
         "lon": [
          -110.87777777777777,
          -110.87777777777777,
          -110.98888888888888,
          -110.98888888888888,
          -110.87777777777777
         ],
         "name": "13",
         "showlegend": false,
         "type": "scattermapbox"
        },
        {
         "fill": "toself",
         "fillcolor": "rgba(135, 206, 235, 0.5)",
         "lat": [
          44.422222222222224,
          44.46666666666667,
          44.46666666666667,
          44.422222222222224,
          44.422222222222224
         ],
         "line": {
          "color": "blue"
         },
         "lon": [
          -110.87777777777777,
          -110.87777777777777,
          -110.98888888888888,
          -110.98888888888888,
          -110.87777777777777
         ],
         "name": "14",
         "showlegend": false,
         "type": "scattermapbox"
        },
        {
         "fill": "toself",
         "fillcolor": "rgba(135, 206, 235, 0.5)",
         "lat": [
          44.46666666666667,
          44.51111111111111,
          44.51111111111111,
          44.46666666666667,
          44.46666666666667
         ],
         "line": {
          "color": "blue"
         },
         "lon": [
          -110.87777777777777,
          -110.87777777777777,
          -110.98888888888888,
          -110.98888888888888,
          -110.87777777777777
         ],
         "name": "15",
         "showlegend": false,
         "type": "scattermapbox"
        },
        {
         "fill": "toself",
         "fillcolor": "rgba(135, 206, 235, 0.5)",
         "lat": [
          44.51111111111111,
          44.55555555555556,
          44.55555555555556,
          44.51111111111111,
          44.51111111111111
         ],
         "line": {
          "color": "blue"
         },
         "lon": [
          -110.87777777777777,
          -110.87777777777777,
          -110.98888888888888,
          -110.98888888888888,
          -110.87777777777777
         ],
         "name": "16",
         "showlegend": false,
         "type": "scattermapbox"
        },
        {
         "fill": "toself",
         "fillcolor": "rgba(135, 206, 235, 0.5)",
         "lat": [
          44.55555555555556,
          44.6,
          44.6,
          44.55555555555556,
          44.55555555555556
         ],
         "line": {
          "color": "blue"
         },
         "lon": [
          -110.87777777777777,
          -110.87777777777777,
          -110.98888888888888,
          -110.98888888888888,
          -110.87777777777777
         ],
         "name": "17",
         "showlegend": false,
         "type": "scattermapbox"
        },
        {
         "fill": "toself",
         "fillcolor": "rgba(135, 206, 235, 0.5)",
         "lat": [
          44.2,
          44.24444444444445,
          44.24444444444445,
          44.2,
          44.2
         ],
         "line": {
          "color": "blue"
         },
         "lon": [
          -110.76666666666667,
          -110.76666666666667,
          -110.87777777777777,
          -110.87777777777777,
          -110.76666666666667
         ],
         "name": "18",
         "showlegend": false,
         "type": "scattermapbox"
        },
        {
         "fill": "toself",
         "fillcolor": "rgba(135, 206, 235, 0.5)",
         "lat": [
          44.24444444444445,
          44.28888888888889,
          44.28888888888889,
          44.24444444444445,
          44.24444444444445
         ],
         "line": {
          "color": "blue"
         },
         "lon": [
          -110.76666666666667,
          -110.76666666666667,
          -110.87777777777777,
          -110.87777777777777,
          -110.76666666666667
         ],
         "name": "19",
         "showlegend": false,
         "type": "scattermapbox"
        },
        {
         "fill": "toself",
         "fillcolor": "rgba(135, 206, 235, 0.5)",
         "lat": [
          44.28888888888889,
          44.333333333333336,
          44.333333333333336,
          44.28888888888889,
          44.28888888888889
         ],
         "line": {
          "color": "blue"
         },
         "lon": [
          -110.76666666666667,
          -110.76666666666667,
          -110.87777777777777,
          -110.87777777777777,
          -110.76666666666667
         ],
         "name": "20",
         "showlegend": false,
         "type": "scattermapbox"
        },
        {
         "fill": "toself",
         "fillcolor": "rgba(135, 206, 235, 0.5)",
         "lat": [
          44.333333333333336,
          44.37777777777778,
          44.37777777777778,
          44.333333333333336,
          44.333333333333336
         ],
         "line": {
          "color": "blue"
         },
         "lon": [
          -110.76666666666667,
          -110.76666666666667,
          -110.87777777777777,
          -110.87777777777777,
          -110.76666666666667
         ],
         "name": "21",
         "showlegend": false,
         "type": "scattermapbox"
        },
        {
         "fill": "toself",
         "fillcolor": "rgba(135, 206, 235, 0.5)",
         "lat": [
          44.37777777777778,
          44.422222222222224,
          44.422222222222224,
          44.37777777777778,
          44.37777777777778
         ],
         "line": {
          "color": "blue"
         },
         "lon": [
          -110.76666666666667,
          -110.76666666666667,
          -110.87777777777777,
          -110.87777777777777,
          -110.76666666666667
         ],
         "name": "22",
         "showlegend": false,
         "type": "scattermapbox"
        },
        {
         "fill": "toself",
         "fillcolor": "rgba(135, 206, 235, 0.5)",
         "lat": [
          44.422222222222224,
          44.46666666666667,
          44.46666666666667,
          44.422222222222224,
          44.422222222222224
         ],
         "line": {
          "color": "blue"
         },
         "lon": [
          -110.76666666666667,
          -110.76666666666667,
          -110.87777777777777,
          -110.87777777777777,
          -110.76666666666667
         ],
         "name": "23",
         "showlegend": false,
         "type": "scattermapbox"
        },
        {
         "fill": "toself",
         "fillcolor": "rgba(135, 206, 235, 0.5)",
         "lat": [
          44.46666666666667,
          44.51111111111111,
          44.51111111111111,
          44.46666666666667,
          44.46666666666667
         ],
         "line": {
          "color": "blue"
         },
         "lon": [
          -110.76666666666667,
          -110.76666666666667,
          -110.87777777777777,
          -110.87777777777777,
          -110.76666666666667
         ],
         "name": "24",
         "showlegend": false,
         "type": "scattermapbox"
        },
        {
         "fill": "toself",
         "fillcolor": "rgba(135, 206, 235, 0.5)",
         "lat": [
          44.51111111111111,
          44.55555555555556,
          44.55555555555556,
          44.51111111111111,
          44.51111111111111
         ],
         "line": {
          "color": "blue"
         },
         "lon": [
          -110.76666666666667,
          -110.76666666666667,
          -110.87777777777777,
          -110.87777777777777,
          -110.76666666666667
         ],
         "name": "25",
         "showlegend": false,
         "type": "scattermapbox"
        },
        {
         "fill": "toself",
         "fillcolor": "rgba(135, 206, 235, 0.5)",
         "lat": [
          44.55555555555556,
          44.6,
          44.6,
          44.55555555555556,
          44.55555555555556
         ],
         "line": {
          "color": "blue"
         },
         "lon": [
          -110.76666666666667,
          -110.76666666666667,
          -110.87777777777777,
          -110.87777777777777,
          -110.76666666666667
         ],
         "name": "26",
         "showlegend": false,
         "type": "scattermapbox"
        },
        {
         "fill": "toself",
         "fillcolor": "rgba(135, 206, 235, 0.5)",
         "lat": [
          44.2,
          44.24444444444445,
          44.24444444444445,
          44.2,
          44.2
         ],
         "line": {
          "color": "blue"
         },
         "lon": [
          -110.65555555555555,
          -110.65555555555555,
          -110.76666666666667,
          -110.76666666666667,
          -110.65555555555555
         ],
         "name": "27",
         "showlegend": false,
         "type": "scattermapbox"
        },
        {
         "fill": "toself",
         "fillcolor": "rgba(135, 206, 235, 0.5)",
         "lat": [
          44.24444444444445,
          44.28888888888889,
          44.28888888888889,
          44.24444444444445,
          44.24444444444445
         ],
         "line": {
          "color": "blue"
         },
         "lon": [
          -110.65555555555555,
          -110.65555555555555,
          -110.76666666666667,
          -110.76666666666667,
          -110.65555555555555
         ],
         "name": "28",
         "showlegend": false,
         "type": "scattermapbox"
        },
        {
         "fill": "toself",
         "fillcolor": "rgba(135, 206, 235, 0.5)",
         "lat": [
          44.28888888888889,
          44.333333333333336,
          44.333333333333336,
          44.28888888888889,
          44.28888888888889
         ],
         "line": {
          "color": "blue"
         },
         "lon": [
          -110.65555555555555,
          -110.65555555555555,
          -110.76666666666667,
          -110.76666666666667,
          -110.65555555555555
         ],
         "name": "29",
         "showlegend": false,
         "type": "scattermapbox"
        },
        {
         "fill": "toself",
         "fillcolor": "rgba(135, 206, 235, 0.5)",
         "lat": [
          44.333333333333336,
          44.37777777777778,
          44.37777777777778,
          44.333333333333336,
          44.333333333333336
         ],
         "line": {
          "color": "blue"
         },
         "lon": [
          -110.65555555555555,
          -110.65555555555555,
          -110.76666666666667,
          -110.76666666666667,
          -110.65555555555555
         ],
         "name": "30",
         "showlegend": false,
         "type": "scattermapbox"
        },
        {
         "fill": "toself",
         "fillcolor": "rgba(135, 206, 235, 0.5)",
         "lat": [
          44.37777777777778,
          44.422222222222224,
          44.422222222222224,
          44.37777777777778,
          44.37777777777778
         ],
         "line": {
          "color": "blue"
         },
         "lon": [
          -110.65555555555555,
          -110.65555555555555,
          -110.76666666666667,
          -110.76666666666667,
          -110.65555555555555
         ],
         "name": "31",
         "showlegend": false,
         "type": "scattermapbox"
        },
        {
         "fill": "toself",
         "fillcolor": "rgba(135, 206, 235, 0.5)",
         "lat": [
          44.422222222222224,
          44.46666666666667,
          44.46666666666667,
          44.422222222222224,
          44.422222222222224
         ],
         "line": {
          "color": "blue"
         },
         "lon": [
          -110.65555555555555,
          -110.65555555555555,
          -110.76666666666667,
          -110.76666666666667,
          -110.65555555555555
         ],
         "name": "32",
         "showlegend": false,
         "type": "scattermapbox"
        },
        {
         "fill": "toself",
         "fillcolor": "rgba(135, 206, 235, 0.5)",
         "lat": [
          44.46666666666667,
          44.51111111111111,
          44.51111111111111,
          44.46666666666667,
          44.46666666666667
         ],
         "line": {
          "color": "blue"
         },
         "lon": [
          -110.65555555555555,
          -110.65555555555555,
          -110.76666666666667,
          -110.76666666666667,
          -110.65555555555555
         ],
         "name": "33",
         "showlegend": false,
         "type": "scattermapbox"
        },
        {
         "fill": "toself",
         "fillcolor": "rgba(135, 206, 235, 0.5)",
         "lat": [
          44.51111111111111,
          44.55555555555556,
          44.55555555555556,
          44.51111111111111,
          44.51111111111111
         ],
         "line": {
          "color": "blue"
         },
         "lon": [
          -110.65555555555555,
          -110.65555555555555,
          -110.76666666666667,
          -110.76666666666667,
          -110.65555555555555
         ],
         "name": "34",
         "showlegend": false,
         "type": "scattermapbox"
        },
        {
         "fill": "toself",
         "fillcolor": "rgba(135, 206, 235, 0.5)",
         "lat": [
          44.55555555555556,
          44.6,
          44.6,
          44.55555555555556,
          44.55555555555556
         ],
         "line": {
          "color": "blue"
         },
         "lon": [
          -110.65555555555555,
          -110.65555555555555,
          -110.76666666666667,
          -110.76666666666667,
          -110.65555555555555
         ],
         "name": "35",
         "showlegend": false,
         "type": "scattermapbox"
        },
        {
         "fill": "toself",
         "fillcolor": "rgba(135, 206, 235, 0.5)",
         "lat": [
          44.2,
          44.24444444444445,
          44.24444444444445,
          44.2,
          44.2
         ],
         "line": {
          "color": "blue"
         },
         "lon": [
          -110.54444444444444,
          -110.54444444444444,
          -110.65555555555555,
          -110.65555555555555,
          -110.54444444444444
         ],
         "name": "36",
         "showlegend": false,
         "type": "scattermapbox"
        },
        {
         "fill": "toself",
         "fillcolor": "rgba(135, 206, 235, 0.5)",
         "lat": [
          44.24444444444445,
          44.28888888888889,
          44.28888888888889,
          44.24444444444445,
          44.24444444444445
         ],
         "line": {
          "color": "blue"
         },
         "lon": [
          -110.54444444444444,
          -110.54444444444444,
          -110.65555555555555,
          -110.65555555555555,
          -110.54444444444444
         ],
         "name": "37",
         "showlegend": false,
         "type": "scattermapbox"
        },
        {
         "fill": "toself",
         "fillcolor": "rgba(135, 206, 235, 0.5)",
         "lat": [
          44.28888888888889,
          44.333333333333336,
          44.333333333333336,
          44.28888888888889,
          44.28888888888889
         ],
         "line": {
          "color": "blue"
         },
         "lon": [
          -110.54444444444444,
          -110.54444444444444,
          -110.65555555555555,
          -110.65555555555555,
          -110.54444444444444
         ],
         "name": "38",
         "showlegend": false,
         "type": "scattermapbox"
        },
        {
         "fill": "toself",
         "fillcolor": "rgba(135, 206, 235, 0.5)",
         "lat": [
          44.333333333333336,
          44.37777777777778,
          44.37777777777778,
          44.333333333333336,
          44.333333333333336
         ],
         "line": {
          "color": "blue"
         },
         "lon": [
          -110.54444444444444,
          -110.54444444444444,
          -110.65555555555555,
          -110.65555555555555,
          -110.54444444444444
         ],
         "name": "39",
         "showlegend": false,
         "type": "scattermapbox"
        },
        {
         "fill": "toself",
         "fillcolor": "rgba(135, 206, 235, 0.5)",
         "lat": [
          44.37777777777778,
          44.422222222222224,
          44.422222222222224,
          44.37777777777778,
          44.37777777777778
         ],
         "line": {
          "color": "blue"
         },
         "lon": [
          -110.54444444444444,
          -110.54444444444444,
          -110.65555555555555,
          -110.65555555555555,
          -110.54444444444444
         ],
         "name": "40",
         "showlegend": false,
         "type": "scattermapbox"
        },
        {
         "fill": "toself",
         "fillcolor": "rgba(135, 206, 235, 0.5)",
         "lat": [
          44.422222222222224,
          44.46666666666667,
          44.46666666666667,
          44.422222222222224,
          44.422222222222224
         ],
         "line": {
          "color": "blue"
         },
         "lon": [
          -110.54444444444444,
          -110.54444444444444,
          -110.65555555555555,
          -110.65555555555555,
          -110.54444444444444
         ],
         "name": "41",
         "showlegend": false,
         "type": "scattermapbox"
        },
        {
         "fill": "toself",
         "fillcolor": "rgba(135, 206, 235, 0.5)",
         "lat": [
          44.46666666666667,
          44.51111111111111,
          44.51111111111111,
          44.46666666666667,
          44.46666666666667
         ],
         "line": {
          "color": "blue"
         },
         "lon": [
          -110.54444444444444,
          -110.54444444444444,
          -110.65555555555555,
          -110.65555555555555,
          -110.54444444444444
         ],
         "name": "42",
         "showlegend": false,
         "type": "scattermapbox"
        },
        {
         "fill": "toself",
         "fillcolor": "rgba(135, 206, 235, 0.5)",
         "lat": [
          44.51111111111111,
          44.55555555555556,
          44.55555555555556,
          44.51111111111111,
          44.51111111111111
         ],
         "line": {
          "color": "blue"
         },
         "lon": [
          -110.54444444444444,
          -110.54444444444444,
          -110.65555555555555,
          -110.65555555555555,
          -110.54444444444444
         ],
         "name": "43",
         "showlegend": false,
         "type": "scattermapbox"
        },
        {
         "fill": "toself",
         "fillcolor": "rgba(135, 206, 235, 0.5)",
         "lat": [
          44.55555555555556,
          44.6,
          44.6,
          44.55555555555556,
          44.55555555555556
         ],
         "line": {
          "color": "blue"
         },
         "lon": [
          -110.54444444444444,
          -110.54444444444444,
          -110.65555555555555,
          -110.65555555555555,
          -110.54444444444444
         ],
         "name": "44",
         "showlegend": false,
         "type": "scattermapbox"
        },
        {
         "fill": "toself",
         "fillcolor": "rgba(135, 206, 235, 0.5)",
         "lat": [
          44.2,
          44.24444444444445,
          44.24444444444445,
          44.2,
          44.2
         ],
         "line": {
          "color": "blue"
         },
         "lon": [
          -110.43333333333332,
          -110.43333333333332,
          -110.54444444444444,
          -110.54444444444444,
          -110.43333333333332
         ],
         "name": "45",
         "showlegend": false,
         "type": "scattermapbox"
        },
        {
         "fill": "toself",
         "fillcolor": "rgba(135, 206, 235, 0.5)",
         "lat": [
          44.24444444444445,
          44.28888888888889,
          44.28888888888889,
          44.24444444444445,
          44.24444444444445
         ],
         "line": {
          "color": "blue"
         },
         "lon": [
          -110.43333333333332,
          -110.43333333333332,
          -110.54444444444444,
          -110.54444444444444,
          -110.43333333333332
         ],
         "name": "46",
         "showlegend": false,
         "type": "scattermapbox"
        },
        {
         "fill": "toself",
         "fillcolor": "rgba(135, 206, 235, 0.5)",
         "lat": [
          44.28888888888889,
          44.333333333333336,
          44.333333333333336,
          44.28888888888889,
          44.28888888888889
         ],
         "line": {
          "color": "blue"
         },
         "lon": [
          -110.43333333333332,
          -110.43333333333332,
          -110.54444444444444,
          -110.54444444444444,
          -110.43333333333332
         ],
         "name": "47",
         "showlegend": false,
         "type": "scattermapbox"
        },
        {
         "fill": "toself",
         "fillcolor": "rgba(135, 206, 235, 0.5)",
         "lat": [
          44.333333333333336,
          44.37777777777778,
          44.37777777777778,
          44.333333333333336,
          44.333333333333336
         ],
         "line": {
          "color": "blue"
         },
         "lon": [
          -110.43333333333332,
          -110.43333333333332,
          -110.54444444444444,
          -110.54444444444444,
          -110.43333333333332
         ],
         "name": "48",
         "showlegend": false,
         "type": "scattermapbox"
        },
        {
         "fill": "toself",
         "fillcolor": "rgba(135, 206, 235, 0.5)",
         "lat": [
          44.37777777777778,
          44.422222222222224,
          44.422222222222224,
          44.37777777777778,
          44.37777777777778
         ],
         "line": {
          "color": "blue"
         },
         "lon": [
          -110.43333333333332,
          -110.43333333333332,
          -110.54444444444444,
          -110.54444444444444,
          -110.43333333333332
         ],
         "name": "49",
         "showlegend": false,
         "type": "scattermapbox"
        },
        {
         "fill": "toself",
         "fillcolor": "rgba(135, 206, 235, 0.5)",
         "lat": [
          44.422222222222224,
          44.46666666666667,
          44.46666666666667,
          44.422222222222224,
          44.422222222222224
         ],
         "line": {
          "color": "blue"
         },
         "lon": [
          -110.43333333333332,
          -110.43333333333332,
          -110.54444444444444,
          -110.54444444444444,
          -110.43333333333332
         ],
         "name": "50",
         "showlegend": false,
         "type": "scattermapbox"
        },
        {
         "fill": "toself",
         "fillcolor": "rgba(135, 206, 235, 0.5)",
         "lat": [
          44.46666666666667,
          44.51111111111111,
          44.51111111111111,
          44.46666666666667,
          44.46666666666667
         ],
         "line": {
          "color": "blue"
         },
         "lon": [
          -110.43333333333332,
          -110.43333333333332,
          -110.54444444444444,
          -110.54444444444444,
          -110.43333333333332
         ],
         "name": "51",
         "showlegend": false,
         "type": "scattermapbox"
        },
        {
         "fill": "toself",
         "fillcolor": "rgba(135, 206, 235, 0.5)",
         "lat": [
          44.51111111111111,
          44.55555555555556,
          44.55555555555556,
          44.51111111111111,
          44.51111111111111
         ],
         "line": {
          "color": "blue"
         },
         "lon": [
          -110.43333333333332,
          -110.43333333333332,
          -110.54444444444444,
          -110.54444444444444,
          -110.43333333333332
         ],
         "name": "52",
         "showlegend": false,
         "type": "scattermapbox"
        },
        {
         "fill": "toself",
         "fillcolor": "rgba(135, 206, 235, 0.5)",
         "lat": [
          44.55555555555556,
          44.6,
          44.6,
          44.55555555555556,
          44.55555555555556
         ],
         "line": {
          "color": "blue"
         },
         "lon": [
          -110.43333333333332,
          -110.43333333333332,
          -110.54444444444444,
          -110.54444444444444,
          -110.43333333333332
         ],
         "name": "53",
         "showlegend": false,
         "type": "scattermapbox"
        },
        {
         "fill": "toself",
         "fillcolor": "rgba(135, 206, 235, 0.5)",
         "lat": [
          44.2,
          44.24444444444445,
          44.24444444444445,
          44.2,
          44.2
         ],
         "line": {
          "color": "blue"
         },
         "lon": [
          -110.32222222222222,
          -110.32222222222222,
          -110.43333333333332,
          -110.43333333333332,
          -110.32222222222222
         ],
         "name": "54",
         "showlegend": false,
         "type": "scattermapbox"
        },
        {
         "fill": "toself",
         "fillcolor": "rgba(135, 206, 235, 0.5)",
         "lat": [
          44.24444444444445,
          44.28888888888889,
          44.28888888888889,
          44.24444444444445,
          44.24444444444445
         ],
         "line": {
          "color": "blue"
         },
         "lon": [
          -110.32222222222222,
          -110.32222222222222,
          -110.43333333333332,
          -110.43333333333332,
          -110.32222222222222
         ],
         "name": "55",
         "showlegend": false,
         "type": "scattermapbox"
        },
        {
         "fill": "toself",
         "fillcolor": "rgba(135, 206, 235, 0.5)",
         "lat": [
          44.28888888888889,
          44.333333333333336,
          44.333333333333336,
          44.28888888888889,
          44.28888888888889
         ],
         "line": {
          "color": "blue"
         },
         "lon": [
          -110.32222222222222,
          -110.32222222222222,
          -110.43333333333332,
          -110.43333333333332,
          -110.32222222222222
         ],
         "name": "56",
         "showlegend": false,
         "type": "scattermapbox"
        },
        {
         "fill": "toself",
         "fillcolor": "rgba(135, 206, 235, 0.5)",
         "lat": [
          44.333333333333336,
          44.37777777777778,
          44.37777777777778,
          44.333333333333336,
          44.333333333333336
         ],
         "line": {
          "color": "blue"
         },
         "lon": [
          -110.32222222222222,
          -110.32222222222222,
          -110.43333333333332,
          -110.43333333333332,
          -110.32222222222222
         ],
         "name": "57",
         "showlegend": false,
         "type": "scattermapbox"
        },
        {
         "fill": "toself",
         "fillcolor": "rgba(135, 206, 235, 0.5)",
         "lat": [
          44.37777777777778,
          44.422222222222224,
          44.422222222222224,
          44.37777777777778,
          44.37777777777778
         ],
         "line": {
          "color": "blue"
         },
         "lon": [
          -110.32222222222222,
          -110.32222222222222,
          -110.43333333333332,
          -110.43333333333332,
          -110.32222222222222
         ],
         "name": "58",
         "showlegend": false,
         "type": "scattermapbox"
        },
        {
         "fill": "toself",
         "fillcolor": "rgba(135, 206, 235, 0.5)",
         "lat": [
          44.422222222222224,
          44.46666666666667,
          44.46666666666667,
          44.422222222222224,
          44.422222222222224
         ],
         "line": {
          "color": "blue"
         },
         "lon": [
          -110.32222222222222,
          -110.32222222222222,
          -110.43333333333332,
          -110.43333333333332,
          -110.32222222222222
         ],
         "name": "59",
         "showlegend": false,
         "type": "scattermapbox"
        },
        {
         "fill": "toself",
         "fillcolor": "rgba(135, 206, 235, 0.5)",
         "lat": [
          44.46666666666667,
          44.51111111111111,
          44.51111111111111,
          44.46666666666667,
          44.46666666666667
         ],
         "line": {
          "color": "blue"
         },
         "lon": [
          -110.32222222222222,
          -110.32222222222222,
          -110.43333333333332,
          -110.43333333333332,
          -110.32222222222222
         ],
         "name": "60",
         "showlegend": false,
         "type": "scattermapbox"
        },
        {
         "fill": "toself",
         "fillcolor": "rgba(135, 206, 235, 0.5)",
         "lat": [
          44.51111111111111,
          44.55555555555556,
          44.55555555555556,
          44.51111111111111,
          44.51111111111111
         ],
         "line": {
          "color": "blue"
         },
         "lon": [
          -110.32222222222222,
          -110.32222222222222,
          -110.43333333333332,
          -110.43333333333332,
          -110.32222222222222
         ],
         "name": "61",
         "showlegend": false,
         "type": "scattermapbox"
        },
        {
         "fill": "toself",
         "fillcolor": "rgba(135, 206, 235, 0.5)",
         "lat": [
          44.55555555555556,
          44.6,
          44.6,
          44.55555555555556,
          44.55555555555556
         ],
         "line": {
          "color": "blue"
         },
         "lon": [
          -110.32222222222222,
          -110.32222222222222,
          -110.43333333333332,
          -110.43333333333332,
          -110.32222222222222
         ],
         "name": "62",
         "showlegend": false,
         "type": "scattermapbox"
        },
        {
         "fill": "toself",
         "fillcolor": "rgba(135, 206, 235, 0.5)",
         "lat": [
          44.2,
          44.24444444444445,
          44.24444444444445,
          44.2,
          44.2
         ],
         "line": {
          "color": "blue"
         },
         "lon": [
          -110.21111111111111,
          -110.21111111111111,
          -110.32222222222222,
          -110.32222222222222,
          -110.21111111111111
         ],
         "name": "63",
         "showlegend": false,
         "type": "scattermapbox"
        },
        {
         "fill": "toself",
         "fillcolor": "rgba(135, 206, 235, 0.5)",
         "lat": [
          44.24444444444445,
          44.28888888888889,
          44.28888888888889,
          44.24444444444445,
          44.24444444444445
         ],
         "line": {
          "color": "blue"
         },
         "lon": [
          -110.21111111111111,
          -110.21111111111111,
          -110.32222222222222,
          -110.32222222222222,
          -110.21111111111111
         ],
         "name": "64",
         "showlegend": false,
         "type": "scattermapbox"
        },
        {
         "fill": "toself",
         "fillcolor": "rgba(135, 206, 235, 0.5)",
         "lat": [
          44.28888888888889,
          44.333333333333336,
          44.333333333333336,
          44.28888888888889,
          44.28888888888889
         ],
         "line": {
          "color": "blue"
         },
         "lon": [
          -110.21111111111111,
          -110.21111111111111,
          -110.32222222222222,
          -110.32222222222222,
          -110.21111111111111
         ],
         "name": "65",
         "showlegend": false,
         "type": "scattermapbox"
        },
        {
         "fill": "toself",
         "fillcolor": "rgba(135, 206, 235, 0.5)",
         "lat": [
          44.333333333333336,
          44.37777777777778,
          44.37777777777778,
          44.333333333333336,
          44.333333333333336
         ],
         "line": {
          "color": "blue"
         },
         "lon": [
          -110.21111111111111,
          -110.21111111111111,
          -110.32222222222222,
          -110.32222222222222,
          -110.21111111111111
         ],
         "name": "66",
         "showlegend": false,
         "type": "scattermapbox"
        },
        {
         "fill": "toself",
         "fillcolor": "rgba(135, 206, 235, 0.5)",
         "lat": [
          44.37777777777778,
          44.422222222222224,
          44.422222222222224,
          44.37777777777778,
          44.37777777777778
         ],
         "line": {
          "color": "blue"
         },
         "lon": [
          -110.21111111111111,
          -110.21111111111111,
          -110.32222222222222,
          -110.32222222222222,
          -110.21111111111111
         ],
         "name": "67",
         "showlegend": false,
         "type": "scattermapbox"
        },
        {
         "fill": "toself",
         "fillcolor": "rgba(135, 206, 235, 0.5)",
         "lat": [
          44.422222222222224,
          44.46666666666667,
          44.46666666666667,
          44.422222222222224,
          44.422222222222224
         ],
         "line": {
          "color": "blue"
         },
         "lon": [
          -110.21111111111111,
          -110.21111111111111,
          -110.32222222222222,
          -110.32222222222222,
          -110.21111111111111
         ],
         "name": "68",
         "showlegend": false,
         "type": "scattermapbox"
        },
        {
         "fill": "toself",
         "fillcolor": "rgba(135, 206, 235, 0.5)",
         "lat": [
          44.46666666666667,
          44.51111111111111,
          44.51111111111111,
          44.46666666666667,
          44.46666666666667
         ],
         "line": {
          "color": "blue"
         },
         "lon": [
          -110.21111111111111,
          -110.21111111111111,
          -110.32222222222222,
          -110.32222222222222,
          -110.21111111111111
         ],
         "name": "69",
         "showlegend": false,
         "type": "scattermapbox"
        },
        {
         "fill": "toself",
         "fillcolor": "rgba(135, 206, 235, 0.5)",
         "lat": [
          44.51111111111111,
          44.55555555555556,
          44.55555555555556,
          44.51111111111111,
          44.51111111111111
         ],
         "line": {
          "color": "blue"
         },
         "lon": [
          -110.21111111111111,
          -110.21111111111111,
          -110.32222222222222,
          -110.32222222222222,
          -110.21111111111111
         ],
         "name": "70",
         "showlegend": false,
         "type": "scattermapbox"
        },
        {
         "fill": "toself",
         "fillcolor": "rgba(135, 206, 235, 0.5)",
         "lat": [
          44.55555555555556,
          44.6,
          44.6,
          44.55555555555556,
          44.55555555555556
         ],
         "line": {
          "color": "blue"
         },
         "lon": [
          -110.21111111111111,
          -110.21111111111111,
          -110.32222222222222,
          -110.32222222222222,
          -110.21111111111111
         ],
         "name": "71",
         "showlegend": false,
         "type": "scattermapbox"
        },
        {
         "fill": "toself",
         "fillcolor": "rgba(135, 206, 235, 0.5)",
         "lat": [
          44.2,
          44.24444444444445,
          44.24444444444445,
          44.2,
          44.2
         ],
         "line": {
          "color": "blue"
         },
         "lon": [
          -110.1,
          -110.1,
          -110.21111111111111,
          -110.21111111111111,
          -110.1
         ],
         "name": "72",
         "showlegend": false,
         "type": "scattermapbox"
        },
        {
         "fill": "toself",
         "fillcolor": "rgba(135, 206, 235, 0.5)",
         "lat": [
          44.24444444444445,
          44.28888888888889,
          44.28888888888889,
          44.24444444444445,
          44.24444444444445
         ],
         "line": {
          "color": "blue"
         },
         "lon": [
          -110.1,
          -110.1,
          -110.21111111111111,
          -110.21111111111111,
          -110.1
         ],
         "name": "73",
         "showlegend": false,
         "type": "scattermapbox"
        },
        {
         "fill": "toself",
         "fillcolor": "rgba(135, 206, 235, 0.5)",
         "lat": [
          44.28888888888889,
          44.333333333333336,
          44.333333333333336,
          44.28888888888889,
          44.28888888888889
         ],
         "line": {
          "color": "blue"
         },
         "lon": [
          -110.1,
          -110.1,
          -110.21111111111111,
          -110.21111111111111,
          -110.1
         ],
         "name": "74",
         "showlegend": false,
         "type": "scattermapbox"
        },
        {
         "fill": "toself",
         "fillcolor": "rgba(135, 206, 235, 0.5)",
         "lat": [
          44.333333333333336,
          44.37777777777778,
          44.37777777777778,
          44.333333333333336,
          44.333333333333336
         ],
         "line": {
          "color": "blue"
         },
         "lon": [
          -110.1,
          -110.1,
          -110.21111111111111,
          -110.21111111111111,
          -110.1
         ],
         "name": "75",
         "showlegend": false,
         "type": "scattermapbox"
        },
        {
         "fill": "toself",
         "fillcolor": "rgba(135, 206, 235, 0.5)",
         "lat": [
          44.37777777777778,
          44.422222222222224,
          44.422222222222224,
          44.37777777777778,
          44.37777777777778
         ],
         "line": {
          "color": "blue"
         },
         "lon": [
          -110.1,
          -110.1,
          -110.21111111111111,
          -110.21111111111111,
          -110.1
         ],
         "name": "76",
         "showlegend": false,
         "type": "scattermapbox"
        },
        {
         "fill": "toself",
         "fillcolor": "rgba(135, 206, 235, 0.5)",
         "lat": [
          44.422222222222224,
          44.46666666666667,
          44.46666666666667,
          44.422222222222224,
          44.422222222222224
         ],
         "line": {
          "color": "blue"
         },
         "lon": [
          -110.1,
          -110.1,
          -110.21111111111111,
          -110.21111111111111,
          -110.1
         ],
         "name": "77",
         "showlegend": false,
         "type": "scattermapbox"
        },
        {
         "fill": "toself",
         "fillcolor": "rgba(135, 206, 235, 0.5)",
         "lat": [
          44.46666666666667,
          44.51111111111111,
          44.51111111111111,
          44.46666666666667,
          44.46666666666667
         ],
         "line": {
          "color": "blue"
         },
         "lon": [
          -110.1,
          -110.1,
          -110.21111111111111,
          -110.21111111111111,
          -110.1
         ],
         "name": "78",
         "showlegend": false,
         "type": "scattermapbox"
        },
        {
         "fill": "toself",
         "fillcolor": "rgba(135, 206, 235, 0.5)",
         "lat": [
          44.51111111111111,
          44.55555555555556,
          44.55555555555556,
          44.51111111111111,
          44.51111111111111
         ],
         "line": {
          "color": "blue"
         },
         "lon": [
          -110.1,
          -110.1,
          -110.21111111111111,
          -110.21111111111111,
          -110.1
         ],
         "name": "79",
         "showlegend": false,
         "type": "scattermapbox"
        },
        {
         "fill": "toself",
         "fillcolor": "rgba(135, 206, 235, 0.5)",
         "lat": [
          44.55555555555556,
          44.6,
          44.6,
          44.55555555555556,
          44.55555555555556
         ],
         "line": {
          "color": "blue"
         },
         "lon": [
          -110.1,
          -110.1,
          -110.21111111111111,
          -110.21111111111111,
          -110.1
         ],
         "name": "80",
         "showlegend": false,
         "type": "scattermapbox"
        },
        {
         "fill": "toself",
         "fillcolor": "rgba(128, 128, 128, 0.5)",
         "lat": [
          44.4488,
          44.599,
          44.5166,
          44.428,
          44.4488
         ],
         "line": {
          "color": "black"
         },
         "lon": [
          -110.839,
          -110.7052,
          -110.5339,
          -110.5885,
          -110.839
         ],
         "name": "Yellowstone National Park",
         "type": "scattermapbox"
        },
        {
         "fill": "toself",
         "fillcolor": "rgba(128, 128, 128, 0.5)",
         "lat": [
          37.7244,
          37.6962,
          37.7799,
          37.8456,
          37.8651,
          37.7244
         ],
         "line": {
          "color": "black"
         },
         "lon": [
          -119.655,
          -119.5964,
          -119.4893,
          -119.3029,
          -119.5383,
          -119.655
         ],
         "name": "Yosemite National Park",
         "type": "scattermapbox"
        },
        {
         "fill": "toself",
         "fillcolor": "rgba(128, 128, 128, 0.5)",
         "lat": [
          36.1336,
          36.2331,
          36.2861,
          36.1182,
          36.057,
          36.1336
         ],
         "line": {
          "color": "black"
         },
         "lon": [
          -112.1861,
          -112.2156,
          -112.0969,
          -111.8205,
          -112.1214,
          -112.1861
         ],
         "name": "Grand Canyon National Park",
         "type": "scattermapbox"
        },
        {
         "hoverinfo": "text",
         "lat": [
          45.2284,
          44.3946,
          44.4246
         ],
         "lon": [
          -110.7622,
          -110.8218,
          -110.1118
         ],
         "marker": {
          "color": 0,
          "size": 10
         },
         "mode": "markers",
         "name": "Wolf",
         "showlegend": true,
         "text": [
          "Animal ID: A001<br>Scientific Name: Canis lupus<br>Redlist Category: Least Concern<br>Megafauna: False<br>Latitude: 45.2284<br>Longitude: -110.7622",
          "Animal ID: A001<br>Scientific Name: Canis lupus<br>Redlist Category: Least Concern<br>Megafauna: False<br>Latitude: 44.3946<br>Longitude: -110.8218",
          "Animal ID: A001<br>Scientific Name: Canis lupus<br>Redlist Category: Least Concern<br>Megafauna: False<br>Latitude: 44.4246<br>Longitude: -110.1118"
         ],
         "type": "scattermapbox"
        },
        {
         "hoverinfo": "text",
         "lat": [
          44.576,
          44.5361,
          44.2221
         ],
         "lon": [
          -110.6763,
          -110.7078,
          -110.8182
         ],
         "marker": {
          "color": 1,
          "size": 10
         },
         "mode": "markers",
         "name": "Bison",
         "showlegend": true,
         "text": [
          "Animal ID: A002<br>Scientific Name: Bison bison<br>Redlist Category: Vulnerable<br>Megafauna: True<br>Latitude: 44.576<br>Longitude: -110.6763",
          "Animal ID: A002<br>Scientific Name: Bison bison<br>Redlist Category: Vulnerable<br>Megafauna: True<br>Latitude: 44.5361<br>Longitude: -110.7078",
          "Animal ID: A002<br>Scientific Name: Bison bison<br>Redlist Category: Vulnerable<br>Megafauna: True<br>Latitude: 44.2221<br>Longitude: -110.8182"
         ],
         "type": "scattermapbox"
        },
        {
         "hoverinfo": "text",
         "lat": [
          44.4232,
          44.5472,
          44.5519
         ],
         "lon": [
          -111.1061,
          -110.7893,
          -110.9812
         ],
         "marker": {
          "color": 2,
          "size": 10
         },
         "mode": "markers",
         "name": "Elk",
         "showlegend": true,
         "text": [
          "Animal ID: A003<br>Scientific Name: Cervus canadensis<br>Redlist Category: Least Concern<br>Megafauna: True<br>Latitude: 44.4232<br>Longitude: -111.1061",
          "Animal ID: A003<br>Scientific Name: Cervus canadensis<br>Redlist Category: Least Concern<br>Megafauna: True<br>Latitude: 44.5472<br>Longitude: -110.7893",
          "Animal ID: A003<br>Scientific Name: Cervus canadensis<br>Redlist Category: Least Concern<br>Megafauna: True<br>Latitude: 44.5519<br>Longitude: -110.9812"
         ],
         "type": "scattermapbox"
        },
        {
         "hoverinfo": "text",
         "lat": [
          37.9058,
          37.766,
          37.8601
         ],
         "lon": [
          -119.7857,
          -119.6363,
          -119.5353
         ],
         "marker": {
          "color": 3,
          "size": 10
         },
         "mode": "markers",
         "name": "Sierra Nevada bighorn sheep",
         "showlegend": true,
         "text": [
          "Animal ID: A004<br>Scientific Name: Ovis canadensis sierrae<br>Redlist Category: Endangered<br>Megafauna: False<br>Latitude: 37.9058<br>Longitude: -119.7857",
          "Animal ID: A004<br>Scientific Name: Ovis canadensis sierrae<br>Redlist Category: Endangered<br>Megafauna: False<br>Latitude: 37.766<br>Longitude: -119.6363",
          "Animal ID: A004<br>Scientific Name: Ovis canadensis sierrae<br>Redlist Category: Endangered<br>Megafauna: False<br>Latitude: 37.8601<br>Longitude: -119.5353"
         ],
         "type": "scattermapbox"
        },
        {
         "hoverinfo": "text",
         "lat": [
          37.7896,
          37.8626,
          37.6181
         ],
         "lon": [
          -119.6426,
          -119.7777,
          -119.6619
         ],
         "marker": {
          "color": 4,
          "size": 10
         },
         "mode": "markers",
         "name": "Sierra Nevada red fox",
         "showlegend": true,
         "text": [
          "Animal ID: A005<br>Scientific Name: Vulpes vulpes necator<br>Redlist Category: Critically Endangered<br>Megafauna: False<br>Latitude: 37.7896<br>Longitude: -119.6426",
          "Animal ID: A005<br>Scientific Name: Vulpes vulpes necator<br>Redlist Category: Critically Endangered<br>Megafauna: False<br>Latitude: 37.8626<br>Longitude: -119.7777",
          "Animal ID: A005<br>Scientific Name: Vulpes vulpes necator<br>Redlist Category: Critically Endangered<br>Megafauna: False<br>Latitude: 37.6181<br>Longitude: -119.6619"
         ],
         "type": "scattermapbox"
        },
        {
         "hoverinfo": "text",
         "lat": [
          37.8829,
          37.8636,
          37.8681
         ],
         "lon": [
          -119.7608,
          -119.628,
          -119.6255
         ],
         "marker": {
          "color": 5,
          "size": 10
         },
         "mode": "markers",
         "name": "Bobcat",
         "showlegend": true,
         "text": [
          "Animal ID: A006<br>Scientific Name: Lynx rufus<br>Redlist Category: Least Concern<br>Megafauna: True<br>Latitude: 37.8829<br>Longitude: -119.7608",
          "Animal ID: A006<br>Scientific Name: Lynx rufus<br>Redlist Category: Least Concern<br>Megafauna: True<br>Latitude: 37.8636<br>Longitude: -119.628",
          "Animal ID: A006<br>Scientific Name: Lynx rufus<br>Redlist Category: Least Concern<br>Megafauna: True<br>Latitude: 37.8681<br>Longitude: -119.6255"
         ],
         "type": "scattermapbox"
        },
        {
         "hoverinfo": "text",
         "lat": [
          36.372,
          36.6622,
          36.2261
         ],
         "lon": [
          -113.1627,
          -112.2308,
          -112.1831
         ],
         "marker": {
          "color": 6,
          "size": 10
         },
         "mode": "markers",
         "name": "Mule deer",
         "showlegend": true,
         "text": [
          "Animal ID: A007<br>Scientific Name: Odocoileus hemionus<br>Redlist Category: Least Concern<br>Megafauna: True<br>Latitude: 36.372<br>Longitude: -113.1627",
          "Animal ID: A007<br>Scientific Name: Odocoileus hemionus<br>Redlist Category: Least Concern<br>Megafauna: True<br>Latitude: 36.6622<br>Longitude: -112.2308",
          "Animal ID: A007<br>Scientific Name: Odocoileus hemionus<br>Redlist Category: Least Concern<br>Megafauna: True<br>Latitude: 36.2261<br>Longitude: -112.1831"
         ],
         "type": "scattermapbox"
        },
        {
         "hoverinfo": "text",
         "lat": [
          36.6193,
          36.6016,
          36.5492
         ],
         "lon": [
          -112.3388,
          -112.3256,
          -112.7439
         ],
         "marker": {
          "color": 7,
          "size": 10
         },
         "mode": "markers",
         "name": "Desert bighorn sheep",
         "showlegend": true,
         "text": [
          "Animal ID: A008<br>Scientific Name: Ovis canadensis nelsoni<br>Redlist Category: Near Threatened<br>Megafauna: True<br>Latitude: 36.6193<br>Longitude: -112.3388",
          "Animal ID: A008<br>Scientific Name: Ovis canadensis nelsoni<br>Redlist Category: Near Threatened<br>Megafauna: True<br>Latitude: 36.6016<br>Longitude: -112.3256",
          "Animal ID: A008<br>Scientific Name: Ovis canadensis nelsoni<br>Redlist Category: Near Threatened<br>Megafauna: True<br>Latitude: 36.5492<br>Longitude: -112.7439"
         ],
         "type": "scattermapbox"
        },
        {
         "hoverinfo": "text",
         "lat": [
          36.3388,
          36.4868,
          36.6282
         ],
         "lon": [
          -112.119,
          -112.3517,
          -112.6524
         ],
         "marker": {
          "color": 8,
          "size": 10
         },
         "mode": "markers",
         "name": "Gray fox",
         "showlegend": true,
         "text": [
          "Animal ID: A009<br>Scientific Name: Urocyon cinereoargenteus<br>Redlist Category: Least Concern<br>Megafauna: True<br>Latitude: 36.3388<br>Longitude: -112.119",
          "Animal ID: A009<br>Scientific Name: Urocyon cinereoargenteus<br>Redlist Category: Least Concern<br>Megafauna: True<br>Latitude: 36.4868<br>Longitude: -112.3517",
          "Animal ID: A009<br>Scientific Name: Urocyon cinereoargenteus<br>Redlist Category: Least Concern<br>Megafauna: True<br>Latitude: 36.6282<br>Longitude: -112.6524"
         ],
         "type": "scattermapbox"
        }
       ],
       "layout": {
        "mapbox": {
         "center": {
          "lat": 44.4,
          "lon": -110.6
         },
         "style": "open-street-map",
         "zoom": 8
        },
        "template": {
         "data": {
          "bar": [
           {
            "error_x": {
             "color": "#2a3f5f"
            },
            "error_y": {
             "color": "#2a3f5f"
            },
            "marker": {
             "line": {
              "color": "#E5ECF6",
              "width": 0.5
             },
             "pattern": {
              "fillmode": "overlay",
              "size": 10,
              "solidity": 0.2
             }
            },
            "type": "bar"
           }
          ],
          "barpolar": [
           {
            "marker": {
             "line": {
              "color": "#E5ECF6",
              "width": 0.5
             },
             "pattern": {
              "fillmode": "overlay",
              "size": 10,
              "solidity": 0.2
             }
            },
            "type": "barpolar"
           }
          ],
          "carpet": [
           {
            "aaxis": {
             "endlinecolor": "#2a3f5f",
             "gridcolor": "white",
             "linecolor": "white",
             "minorgridcolor": "white",
             "startlinecolor": "#2a3f5f"
            },
            "baxis": {
             "endlinecolor": "#2a3f5f",
             "gridcolor": "white",
             "linecolor": "white",
             "minorgridcolor": "white",
             "startlinecolor": "#2a3f5f"
            },
            "type": "carpet"
           }
          ],
          "choropleth": [
           {
            "colorbar": {
             "outlinewidth": 0,
             "ticks": ""
            },
            "type": "choropleth"
           }
          ],
          "contour": [
           {
            "colorbar": {
             "outlinewidth": 0,
             "ticks": ""
            },
            "colorscale": [
             [
              0,
              "#0d0887"
             ],
             [
              0.1111111111111111,
              "#46039f"
             ],
             [
              0.2222222222222222,
              "#7201a8"
             ],
             [
              0.3333333333333333,
              "#9c179e"
             ],
             [
              0.4444444444444444,
              "#bd3786"
             ],
             [
              0.5555555555555556,
              "#d8576b"
             ],
             [
              0.6666666666666666,
              "#ed7953"
             ],
             [
              0.7777777777777778,
              "#fb9f3a"
             ],
             [
              0.8888888888888888,
              "#fdca26"
             ],
             [
              1,
              "#f0f921"
             ]
            ],
            "type": "contour"
           }
          ],
          "contourcarpet": [
           {
            "colorbar": {
             "outlinewidth": 0,
             "ticks": ""
            },
            "type": "contourcarpet"
           }
          ],
          "heatmap": [
           {
            "colorbar": {
             "outlinewidth": 0,
             "ticks": ""
            },
            "colorscale": [
             [
              0,
              "#0d0887"
             ],
             [
              0.1111111111111111,
              "#46039f"
             ],
             [
              0.2222222222222222,
              "#7201a8"
             ],
             [
              0.3333333333333333,
              "#9c179e"
             ],
             [
              0.4444444444444444,
              "#bd3786"
             ],
             [
              0.5555555555555556,
              "#d8576b"
             ],
             [
              0.6666666666666666,
              "#ed7953"
             ],
             [
              0.7777777777777778,
              "#fb9f3a"
             ],
             [
              0.8888888888888888,
              "#fdca26"
             ],
             [
              1,
              "#f0f921"
             ]
            ],
            "type": "heatmap"
           }
          ],
          "heatmapgl": [
           {
            "colorbar": {
             "outlinewidth": 0,
             "ticks": ""
            },
            "colorscale": [
             [
              0,
              "#0d0887"
             ],
             [
              0.1111111111111111,
              "#46039f"
             ],
             [
              0.2222222222222222,
              "#7201a8"
             ],
             [
              0.3333333333333333,
              "#9c179e"
             ],
             [
              0.4444444444444444,
              "#bd3786"
             ],
             [
              0.5555555555555556,
              "#d8576b"
             ],
             [
              0.6666666666666666,
              "#ed7953"
             ],
             [
              0.7777777777777778,
              "#fb9f3a"
             ],
             [
              0.8888888888888888,
              "#fdca26"
             ],
             [
              1,
              "#f0f921"
             ]
            ],
            "type": "heatmapgl"
           }
          ],
          "histogram": [
           {
            "marker": {
             "pattern": {
              "fillmode": "overlay",
              "size": 10,
              "solidity": 0.2
             }
            },
            "type": "histogram"
           }
          ],
          "histogram2d": [
           {
            "colorbar": {
             "outlinewidth": 0,
             "ticks": ""
            },
            "colorscale": [
             [
              0,
              "#0d0887"
             ],
             [
              0.1111111111111111,
              "#46039f"
             ],
             [
              0.2222222222222222,
              "#7201a8"
             ],
             [
              0.3333333333333333,
              "#9c179e"
             ],
             [
              0.4444444444444444,
              "#bd3786"
             ],
             [
              0.5555555555555556,
              "#d8576b"
             ],
             [
              0.6666666666666666,
              "#ed7953"
             ],
             [
              0.7777777777777778,
              "#fb9f3a"
             ],
             [
              0.8888888888888888,
              "#fdca26"
             ],
             [
              1,
              "#f0f921"
             ]
            ],
            "type": "histogram2d"
           }
          ],
          "histogram2dcontour": [
           {
            "colorbar": {
             "outlinewidth": 0,
             "ticks": ""
            },
            "colorscale": [
             [
              0,
              "#0d0887"
             ],
             [
              0.1111111111111111,
              "#46039f"
             ],
             [
              0.2222222222222222,
              "#7201a8"
             ],
             [
              0.3333333333333333,
              "#9c179e"
             ],
             [
              0.4444444444444444,
              "#bd3786"
             ],
             [
              0.5555555555555556,
              "#d8576b"
             ],
             [
              0.6666666666666666,
              "#ed7953"
             ],
             [
              0.7777777777777778,
              "#fb9f3a"
             ],
             [
              0.8888888888888888,
              "#fdca26"
             ],
             [
              1,
              "#f0f921"
             ]
            ],
            "type": "histogram2dcontour"
           }
          ],
          "mesh3d": [
           {
            "colorbar": {
             "outlinewidth": 0,
             "ticks": ""
            },
            "type": "mesh3d"
           }
          ],
          "parcoords": [
           {
            "line": {
             "colorbar": {
              "outlinewidth": 0,
              "ticks": ""
             }
            },
            "type": "parcoords"
           }
          ],
          "pie": [
           {
            "automargin": true,
            "type": "pie"
           }
          ],
          "scatter": [
           {
            "fillpattern": {
             "fillmode": "overlay",
             "size": 10,
             "solidity": 0.2
            },
            "type": "scatter"
           }
          ],
          "scatter3d": [
           {
            "line": {
             "colorbar": {
              "outlinewidth": 0,
              "ticks": ""
             }
            },
            "marker": {
             "colorbar": {
              "outlinewidth": 0,
              "ticks": ""
             }
            },
            "type": "scatter3d"
           }
          ],
          "scattercarpet": [
           {
            "marker": {
             "colorbar": {
              "outlinewidth": 0,
              "ticks": ""
             }
            },
            "type": "scattercarpet"
           }
          ],
          "scattergeo": [
           {
            "marker": {
             "colorbar": {
              "outlinewidth": 0,
              "ticks": ""
             }
            },
            "type": "scattergeo"
           }
          ],
          "scattergl": [
           {
            "marker": {
             "colorbar": {
              "outlinewidth": 0,
              "ticks": ""
             }
            },
            "type": "scattergl"
           }
          ],
          "scattermapbox": [
           {
            "marker": {
             "colorbar": {
              "outlinewidth": 0,
              "ticks": ""
             }
            },
            "type": "scattermapbox"
           }
          ],
          "scatterpolar": [
           {
            "marker": {
             "colorbar": {
              "outlinewidth": 0,
              "ticks": ""
             }
            },
            "type": "scatterpolar"
           }
          ],
          "scatterpolargl": [
           {
            "marker": {
             "colorbar": {
              "outlinewidth": 0,
              "ticks": ""
             }
            },
            "type": "scatterpolargl"
           }
          ],
          "scatterternary": [
           {
            "marker": {
             "colorbar": {
              "outlinewidth": 0,
              "ticks": ""
             }
            },
            "type": "scatterternary"
           }
          ],
          "surface": [
           {
            "colorbar": {
             "outlinewidth": 0,
             "ticks": ""
            },
            "colorscale": [
             [
              0,
              "#0d0887"
             ],
             [
              0.1111111111111111,
              "#46039f"
             ],
             [
              0.2222222222222222,
              "#7201a8"
             ],
             [
              0.3333333333333333,
              "#9c179e"
             ],
             [
              0.4444444444444444,
              "#bd3786"
             ],
             [
              0.5555555555555556,
              "#d8576b"
             ],
             [
              0.6666666666666666,
              "#ed7953"
             ],
             [
              0.7777777777777778,
              "#fb9f3a"
             ],
             [
              0.8888888888888888,
              "#fdca26"
             ],
             [
              1,
              "#f0f921"
             ]
            ],
            "type": "surface"
           }
          ],
          "table": [
           {
            "cells": {
             "fill": {
              "color": "#EBF0F8"
             },
             "line": {
              "color": "white"
             }
            },
            "header": {
             "fill": {
              "color": "#C8D4E3"
             },
             "line": {
              "color": "white"
             }
            },
            "type": "table"
           }
          ]
         },
         "layout": {
          "annotationdefaults": {
           "arrowcolor": "#2a3f5f",
           "arrowhead": 0,
           "arrowwidth": 1
          },
          "autotypenumbers": "strict",
          "coloraxis": {
           "colorbar": {
            "outlinewidth": 0,
            "ticks": ""
           }
          },
          "colorscale": {
           "diverging": [
            [
             0,
             "#8e0152"
            ],
            [
             0.1,
             "#c51b7d"
            ],
            [
             0.2,
             "#de77ae"
            ],
            [
             0.3,
             "#f1b6da"
            ],
            [
             0.4,
             "#fde0ef"
            ],
            [
             0.5,
             "#f7f7f7"
            ],
            [
             0.6,
             "#e6f5d0"
            ],
            [
             0.7,
             "#b8e186"
            ],
            [
             0.8,
             "#7fbc41"
            ],
            [
             0.9,
             "#4d9221"
            ],
            [
             1,
             "#276419"
            ]
           ],
           "sequential": [
            [
             0,
             "#0d0887"
            ],
            [
             0.1111111111111111,
             "#46039f"
            ],
            [
             0.2222222222222222,
             "#7201a8"
            ],
            [
             0.3333333333333333,
             "#9c179e"
            ],
            [
             0.4444444444444444,
             "#bd3786"
            ],
            [
             0.5555555555555556,
             "#d8576b"
            ],
            [
             0.6666666666666666,
             "#ed7953"
            ],
            [
             0.7777777777777778,
             "#fb9f3a"
            ],
            [
             0.8888888888888888,
             "#fdca26"
            ],
            [
             1,
             "#f0f921"
            ]
           ],
           "sequentialminus": [
            [
             0,
             "#0d0887"
            ],
            [
             0.1111111111111111,
             "#46039f"
            ],
            [
             0.2222222222222222,
             "#7201a8"
            ],
            [
             0.3333333333333333,
             "#9c179e"
            ],
            [
             0.4444444444444444,
             "#bd3786"
            ],
            [
             0.5555555555555556,
             "#d8576b"
            ],
            [
             0.6666666666666666,
             "#ed7953"
            ],
            [
             0.7777777777777778,
             "#fb9f3a"
            ],
            [
             0.8888888888888888,
             "#fdca26"
            ],
            [
             1,
             "#f0f921"
            ]
           ]
          },
          "colorway": [
           "#636efa",
           "#EF553B",
           "#00cc96",
           "#ab63fa",
           "#FFA15A",
           "#19d3f3",
           "#FF6692",
           "#B6E880",
           "#FF97FF",
           "#FECB52"
          ],
          "font": {
           "color": "#2a3f5f"
          },
          "geo": {
           "bgcolor": "white",
           "lakecolor": "white",
           "landcolor": "#E5ECF6",
           "showlakes": true,
           "showland": true,
           "subunitcolor": "white"
          },
          "hoverlabel": {
           "align": "left"
          },
          "hovermode": "closest",
          "mapbox": {
           "style": "light"
          },
          "paper_bgcolor": "white",
          "plot_bgcolor": "#E5ECF6",
          "polar": {
           "angularaxis": {
            "gridcolor": "white",
            "linecolor": "white",
            "ticks": ""
           },
           "bgcolor": "#E5ECF6",
           "radialaxis": {
            "gridcolor": "white",
            "linecolor": "white",
            "ticks": ""
           }
          },
          "scene": {
           "xaxis": {
            "backgroundcolor": "#E5ECF6",
            "gridcolor": "white",
            "gridwidth": 2,
            "linecolor": "white",
            "showbackground": true,
            "ticks": "",
            "zerolinecolor": "white"
           },
           "yaxis": {
            "backgroundcolor": "#E5ECF6",
            "gridcolor": "white",
            "gridwidth": 2,
            "linecolor": "white",
            "showbackground": true,
            "ticks": "",
            "zerolinecolor": "white"
           },
           "zaxis": {
            "backgroundcolor": "#E5ECF6",
            "gridcolor": "white",
            "gridwidth": 2,
            "linecolor": "white",
            "showbackground": true,
            "ticks": "",
            "zerolinecolor": "white"
           }
          },
          "shapedefaults": {
           "line": {
            "color": "#2a3f5f"
           }
          },
          "ternary": {
           "aaxis": {
            "gridcolor": "white",
            "linecolor": "white",
            "ticks": ""
           },
           "baxis": {
            "gridcolor": "white",
            "linecolor": "white",
            "ticks": ""
           },
           "bgcolor": "#E5ECF6",
           "caxis": {
            "gridcolor": "white",
            "linecolor": "white",
            "ticks": ""
           }
          },
          "title": {
           "x": 0.05
          },
          "xaxis": {
           "automargin": true,
           "gridcolor": "white",
           "linecolor": "white",
           "ticks": "",
           "title": {
            "standoff": 15
           },
           "zerolinecolor": "white",
           "zerolinewidth": 2
          },
          "yaxis": {
           "automargin": true,
           "gridcolor": "white",
           "linecolor": "white",
           "ticks": "",
           "title": {
            "standoff": 15
           },
           "zerolinecolor": "white",
           "zerolinewidth": 2
          }
         }
        }
       }
      },
      "text/html": [
       "<div>                            <div id=\"4afbc754-d501-4100-95ea-3ca60a2bf25f\" class=\"plotly-graph-div\" style=\"height:525px; width:100%;\"></div>            <script type=\"text/javascript\">                require([\"plotly\"], function(Plotly) {                    window.PLOTLYENV=window.PLOTLYENV || {};                                    if (document.getElementById(\"4afbc754-d501-4100-95ea-3ca60a2bf25f\")) {                    Plotly.newPlot(                        \"4afbc754-d501-4100-95ea-3ca60a2bf25f\",                        [{\"fill\":\"toself\",\"fillcolor\":\"rgba(135, 206, 235, 0.5)\",\"lat\":[44.2,44.24444444444445,44.24444444444445,44.2,44.2],\"line\":{\"color\":\"blue\"},\"lon\":[-110.98888888888888,-110.98888888888888,-111.1,-111.1,-110.98888888888888],\"name\":\"0\",\"showlegend\":false,\"type\":\"scattermapbox\"},{\"fill\":\"toself\",\"fillcolor\":\"rgba(135, 206, 235, 0.5)\",\"lat\":[44.24444444444445,44.28888888888889,44.28888888888889,44.24444444444445,44.24444444444445],\"line\":{\"color\":\"blue\"},\"lon\":[-110.98888888888888,-110.98888888888888,-111.1,-111.1,-110.98888888888888],\"name\":\"1\",\"showlegend\":false,\"type\":\"scattermapbox\"},{\"fill\":\"toself\",\"fillcolor\":\"rgba(135, 206, 235, 0.5)\",\"lat\":[44.28888888888889,44.333333333333336,44.333333333333336,44.28888888888889,44.28888888888889],\"line\":{\"color\":\"blue\"},\"lon\":[-110.98888888888888,-110.98888888888888,-111.1,-111.1,-110.98888888888888],\"name\":\"2\",\"showlegend\":false,\"type\":\"scattermapbox\"},{\"fill\":\"toself\",\"fillcolor\":\"rgba(135, 206, 235, 0.5)\",\"lat\":[44.333333333333336,44.37777777777778,44.37777777777778,44.333333333333336,44.333333333333336],\"line\":{\"color\":\"blue\"},\"lon\":[-110.98888888888888,-110.98888888888888,-111.1,-111.1,-110.98888888888888],\"name\":\"3\",\"showlegend\":false,\"type\":\"scattermapbox\"},{\"fill\":\"toself\",\"fillcolor\":\"rgba(135, 206, 235, 0.5)\",\"lat\":[44.37777777777778,44.422222222222224,44.422222222222224,44.37777777777778,44.37777777777778],\"line\":{\"color\":\"blue\"},\"lon\":[-110.98888888888888,-110.98888888888888,-111.1,-111.1,-110.98888888888888],\"name\":\"4\",\"showlegend\":false,\"type\":\"scattermapbox\"},{\"fill\":\"toself\",\"fillcolor\":\"rgba(135, 206, 235, 0.5)\",\"lat\":[44.422222222222224,44.46666666666667,44.46666666666667,44.422222222222224,44.422222222222224],\"line\":{\"color\":\"blue\"},\"lon\":[-110.98888888888888,-110.98888888888888,-111.1,-111.1,-110.98888888888888],\"name\":\"5\",\"showlegend\":false,\"type\":\"scattermapbox\"},{\"fill\":\"toself\",\"fillcolor\":\"rgba(135, 206, 235, 0.5)\",\"lat\":[44.46666666666667,44.51111111111111,44.51111111111111,44.46666666666667,44.46666666666667],\"line\":{\"color\":\"blue\"},\"lon\":[-110.98888888888888,-110.98888888888888,-111.1,-111.1,-110.98888888888888],\"name\":\"6\",\"showlegend\":false,\"type\":\"scattermapbox\"},{\"fill\":\"toself\",\"fillcolor\":\"rgba(135, 206, 235, 0.5)\",\"lat\":[44.51111111111111,44.55555555555556,44.55555555555556,44.51111111111111,44.51111111111111],\"line\":{\"color\":\"blue\"},\"lon\":[-110.98888888888888,-110.98888888888888,-111.1,-111.1,-110.98888888888888],\"name\":\"7\",\"showlegend\":false,\"type\":\"scattermapbox\"},{\"fill\":\"toself\",\"fillcolor\":\"rgba(135, 206, 235, 0.5)\",\"lat\":[44.55555555555556,44.6,44.6,44.55555555555556,44.55555555555556],\"line\":{\"color\":\"blue\"},\"lon\":[-110.98888888888888,-110.98888888888888,-111.1,-111.1,-110.98888888888888],\"name\":\"8\",\"showlegend\":false,\"type\":\"scattermapbox\"},{\"fill\":\"toself\",\"fillcolor\":\"rgba(135, 206, 235, 0.5)\",\"lat\":[44.2,44.24444444444445,44.24444444444445,44.2,44.2],\"line\":{\"color\":\"blue\"},\"lon\":[-110.87777777777777,-110.87777777777777,-110.98888888888888,-110.98888888888888,-110.87777777777777],\"name\":\"9\",\"showlegend\":false,\"type\":\"scattermapbox\"},{\"fill\":\"toself\",\"fillcolor\":\"rgba(135, 206, 235, 0.5)\",\"lat\":[44.24444444444445,44.28888888888889,44.28888888888889,44.24444444444445,44.24444444444445],\"line\":{\"color\":\"blue\"},\"lon\":[-110.87777777777777,-110.87777777777777,-110.98888888888888,-110.98888888888888,-110.87777777777777],\"name\":\"10\",\"showlegend\":false,\"type\":\"scattermapbox\"},{\"fill\":\"toself\",\"fillcolor\":\"rgba(135, 206, 235, 0.5)\",\"lat\":[44.28888888888889,44.333333333333336,44.333333333333336,44.28888888888889,44.28888888888889],\"line\":{\"color\":\"blue\"},\"lon\":[-110.87777777777777,-110.87777777777777,-110.98888888888888,-110.98888888888888,-110.87777777777777],\"name\":\"11\",\"showlegend\":false,\"type\":\"scattermapbox\"},{\"fill\":\"toself\",\"fillcolor\":\"rgba(135, 206, 235, 0.5)\",\"lat\":[44.333333333333336,44.37777777777778,44.37777777777778,44.333333333333336,44.333333333333336],\"line\":{\"color\":\"blue\"},\"lon\":[-110.87777777777777,-110.87777777777777,-110.98888888888888,-110.98888888888888,-110.87777777777777],\"name\":\"12\",\"showlegend\":false,\"type\":\"scattermapbox\"},{\"fill\":\"toself\",\"fillcolor\":\"rgba(135, 206, 235, 0.5)\",\"lat\":[44.37777777777778,44.422222222222224,44.422222222222224,44.37777777777778,44.37777777777778],\"line\":{\"color\":\"blue\"},\"lon\":[-110.87777777777777,-110.87777777777777,-110.98888888888888,-110.98888888888888,-110.87777777777777],\"name\":\"13\",\"showlegend\":false,\"type\":\"scattermapbox\"},{\"fill\":\"toself\",\"fillcolor\":\"rgba(135, 206, 235, 0.5)\",\"lat\":[44.422222222222224,44.46666666666667,44.46666666666667,44.422222222222224,44.422222222222224],\"line\":{\"color\":\"blue\"},\"lon\":[-110.87777777777777,-110.87777777777777,-110.98888888888888,-110.98888888888888,-110.87777777777777],\"name\":\"14\",\"showlegend\":false,\"type\":\"scattermapbox\"},{\"fill\":\"toself\",\"fillcolor\":\"rgba(135, 206, 235, 0.5)\",\"lat\":[44.46666666666667,44.51111111111111,44.51111111111111,44.46666666666667,44.46666666666667],\"line\":{\"color\":\"blue\"},\"lon\":[-110.87777777777777,-110.87777777777777,-110.98888888888888,-110.98888888888888,-110.87777777777777],\"name\":\"15\",\"showlegend\":false,\"type\":\"scattermapbox\"},{\"fill\":\"toself\",\"fillcolor\":\"rgba(135, 206, 235, 0.5)\",\"lat\":[44.51111111111111,44.55555555555556,44.55555555555556,44.51111111111111,44.51111111111111],\"line\":{\"color\":\"blue\"},\"lon\":[-110.87777777777777,-110.87777777777777,-110.98888888888888,-110.98888888888888,-110.87777777777777],\"name\":\"16\",\"showlegend\":false,\"type\":\"scattermapbox\"},{\"fill\":\"toself\",\"fillcolor\":\"rgba(135, 206, 235, 0.5)\",\"lat\":[44.55555555555556,44.6,44.6,44.55555555555556,44.55555555555556],\"line\":{\"color\":\"blue\"},\"lon\":[-110.87777777777777,-110.87777777777777,-110.98888888888888,-110.98888888888888,-110.87777777777777],\"name\":\"17\",\"showlegend\":false,\"type\":\"scattermapbox\"},{\"fill\":\"toself\",\"fillcolor\":\"rgba(135, 206, 235, 0.5)\",\"lat\":[44.2,44.24444444444445,44.24444444444445,44.2,44.2],\"line\":{\"color\":\"blue\"},\"lon\":[-110.76666666666667,-110.76666666666667,-110.87777777777777,-110.87777777777777,-110.76666666666667],\"name\":\"18\",\"showlegend\":false,\"type\":\"scattermapbox\"},{\"fill\":\"toself\",\"fillcolor\":\"rgba(135, 206, 235, 0.5)\",\"lat\":[44.24444444444445,44.28888888888889,44.28888888888889,44.24444444444445,44.24444444444445],\"line\":{\"color\":\"blue\"},\"lon\":[-110.76666666666667,-110.76666666666667,-110.87777777777777,-110.87777777777777,-110.76666666666667],\"name\":\"19\",\"showlegend\":false,\"type\":\"scattermapbox\"},{\"fill\":\"toself\",\"fillcolor\":\"rgba(135, 206, 235, 0.5)\",\"lat\":[44.28888888888889,44.333333333333336,44.333333333333336,44.28888888888889,44.28888888888889],\"line\":{\"color\":\"blue\"},\"lon\":[-110.76666666666667,-110.76666666666667,-110.87777777777777,-110.87777777777777,-110.76666666666667],\"name\":\"20\",\"showlegend\":false,\"type\":\"scattermapbox\"},{\"fill\":\"toself\",\"fillcolor\":\"rgba(135, 206, 235, 0.5)\",\"lat\":[44.333333333333336,44.37777777777778,44.37777777777778,44.333333333333336,44.333333333333336],\"line\":{\"color\":\"blue\"},\"lon\":[-110.76666666666667,-110.76666666666667,-110.87777777777777,-110.87777777777777,-110.76666666666667],\"name\":\"21\",\"showlegend\":false,\"type\":\"scattermapbox\"},{\"fill\":\"toself\",\"fillcolor\":\"rgba(135, 206, 235, 0.5)\",\"lat\":[44.37777777777778,44.422222222222224,44.422222222222224,44.37777777777778,44.37777777777778],\"line\":{\"color\":\"blue\"},\"lon\":[-110.76666666666667,-110.76666666666667,-110.87777777777777,-110.87777777777777,-110.76666666666667],\"name\":\"22\",\"showlegend\":false,\"type\":\"scattermapbox\"},{\"fill\":\"toself\",\"fillcolor\":\"rgba(135, 206, 235, 0.5)\",\"lat\":[44.422222222222224,44.46666666666667,44.46666666666667,44.422222222222224,44.422222222222224],\"line\":{\"color\":\"blue\"},\"lon\":[-110.76666666666667,-110.76666666666667,-110.87777777777777,-110.87777777777777,-110.76666666666667],\"name\":\"23\",\"showlegend\":false,\"type\":\"scattermapbox\"},{\"fill\":\"toself\",\"fillcolor\":\"rgba(135, 206, 235, 0.5)\",\"lat\":[44.46666666666667,44.51111111111111,44.51111111111111,44.46666666666667,44.46666666666667],\"line\":{\"color\":\"blue\"},\"lon\":[-110.76666666666667,-110.76666666666667,-110.87777777777777,-110.87777777777777,-110.76666666666667],\"name\":\"24\",\"showlegend\":false,\"type\":\"scattermapbox\"},{\"fill\":\"toself\",\"fillcolor\":\"rgba(135, 206, 235, 0.5)\",\"lat\":[44.51111111111111,44.55555555555556,44.55555555555556,44.51111111111111,44.51111111111111],\"line\":{\"color\":\"blue\"},\"lon\":[-110.76666666666667,-110.76666666666667,-110.87777777777777,-110.87777777777777,-110.76666666666667],\"name\":\"25\",\"showlegend\":false,\"type\":\"scattermapbox\"},{\"fill\":\"toself\",\"fillcolor\":\"rgba(135, 206, 235, 0.5)\",\"lat\":[44.55555555555556,44.6,44.6,44.55555555555556,44.55555555555556],\"line\":{\"color\":\"blue\"},\"lon\":[-110.76666666666667,-110.76666666666667,-110.87777777777777,-110.87777777777777,-110.76666666666667],\"name\":\"26\",\"showlegend\":false,\"type\":\"scattermapbox\"},{\"fill\":\"toself\",\"fillcolor\":\"rgba(135, 206, 235, 0.5)\",\"lat\":[44.2,44.24444444444445,44.24444444444445,44.2,44.2],\"line\":{\"color\":\"blue\"},\"lon\":[-110.65555555555555,-110.65555555555555,-110.76666666666667,-110.76666666666667,-110.65555555555555],\"name\":\"27\",\"showlegend\":false,\"type\":\"scattermapbox\"},{\"fill\":\"toself\",\"fillcolor\":\"rgba(135, 206, 235, 0.5)\",\"lat\":[44.24444444444445,44.28888888888889,44.28888888888889,44.24444444444445,44.24444444444445],\"line\":{\"color\":\"blue\"},\"lon\":[-110.65555555555555,-110.65555555555555,-110.76666666666667,-110.76666666666667,-110.65555555555555],\"name\":\"28\",\"showlegend\":false,\"type\":\"scattermapbox\"},{\"fill\":\"toself\",\"fillcolor\":\"rgba(135, 206, 235, 0.5)\",\"lat\":[44.28888888888889,44.333333333333336,44.333333333333336,44.28888888888889,44.28888888888889],\"line\":{\"color\":\"blue\"},\"lon\":[-110.65555555555555,-110.65555555555555,-110.76666666666667,-110.76666666666667,-110.65555555555555],\"name\":\"29\",\"showlegend\":false,\"type\":\"scattermapbox\"},{\"fill\":\"toself\",\"fillcolor\":\"rgba(135, 206, 235, 0.5)\",\"lat\":[44.333333333333336,44.37777777777778,44.37777777777778,44.333333333333336,44.333333333333336],\"line\":{\"color\":\"blue\"},\"lon\":[-110.65555555555555,-110.65555555555555,-110.76666666666667,-110.76666666666667,-110.65555555555555],\"name\":\"30\",\"showlegend\":false,\"type\":\"scattermapbox\"},{\"fill\":\"toself\",\"fillcolor\":\"rgba(135, 206, 235, 0.5)\",\"lat\":[44.37777777777778,44.422222222222224,44.422222222222224,44.37777777777778,44.37777777777778],\"line\":{\"color\":\"blue\"},\"lon\":[-110.65555555555555,-110.65555555555555,-110.76666666666667,-110.76666666666667,-110.65555555555555],\"name\":\"31\",\"showlegend\":false,\"type\":\"scattermapbox\"},{\"fill\":\"toself\",\"fillcolor\":\"rgba(135, 206, 235, 0.5)\",\"lat\":[44.422222222222224,44.46666666666667,44.46666666666667,44.422222222222224,44.422222222222224],\"line\":{\"color\":\"blue\"},\"lon\":[-110.65555555555555,-110.65555555555555,-110.76666666666667,-110.76666666666667,-110.65555555555555],\"name\":\"32\",\"showlegend\":false,\"type\":\"scattermapbox\"},{\"fill\":\"toself\",\"fillcolor\":\"rgba(135, 206, 235, 0.5)\",\"lat\":[44.46666666666667,44.51111111111111,44.51111111111111,44.46666666666667,44.46666666666667],\"line\":{\"color\":\"blue\"},\"lon\":[-110.65555555555555,-110.65555555555555,-110.76666666666667,-110.76666666666667,-110.65555555555555],\"name\":\"33\",\"showlegend\":false,\"type\":\"scattermapbox\"},{\"fill\":\"toself\",\"fillcolor\":\"rgba(135, 206, 235, 0.5)\",\"lat\":[44.51111111111111,44.55555555555556,44.55555555555556,44.51111111111111,44.51111111111111],\"line\":{\"color\":\"blue\"},\"lon\":[-110.65555555555555,-110.65555555555555,-110.76666666666667,-110.76666666666667,-110.65555555555555],\"name\":\"34\",\"showlegend\":false,\"type\":\"scattermapbox\"},{\"fill\":\"toself\",\"fillcolor\":\"rgba(135, 206, 235, 0.5)\",\"lat\":[44.55555555555556,44.6,44.6,44.55555555555556,44.55555555555556],\"line\":{\"color\":\"blue\"},\"lon\":[-110.65555555555555,-110.65555555555555,-110.76666666666667,-110.76666666666667,-110.65555555555555],\"name\":\"35\",\"showlegend\":false,\"type\":\"scattermapbox\"},{\"fill\":\"toself\",\"fillcolor\":\"rgba(135, 206, 235, 0.5)\",\"lat\":[44.2,44.24444444444445,44.24444444444445,44.2,44.2],\"line\":{\"color\":\"blue\"},\"lon\":[-110.54444444444444,-110.54444444444444,-110.65555555555555,-110.65555555555555,-110.54444444444444],\"name\":\"36\",\"showlegend\":false,\"type\":\"scattermapbox\"},{\"fill\":\"toself\",\"fillcolor\":\"rgba(135, 206, 235, 0.5)\",\"lat\":[44.24444444444445,44.28888888888889,44.28888888888889,44.24444444444445,44.24444444444445],\"line\":{\"color\":\"blue\"},\"lon\":[-110.54444444444444,-110.54444444444444,-110.65555555555555,-110.65555555555555,-110.54444444444444],\"name\":\"37\",\"showlegend\":false,\"type\":\"scattermapbox\"},{\"fill\":\"toself\",\"fillcolor\":\"rgba(135, 206, 235, 0.5)\",\"lat\":[44.28888888888889,44.333333333333336,44.333333333333336,44.28888888888889,44.28888888888889],\"line\":{\"color\":\"blue\"},\"lon\":[-110.54444444444444,-110.54444444444444,-110.65555555555555,-110.65555555555555,-110.54444444444444],\"name\":\"38\",\"showlegend\":false,\"type\":\"scattermapbox\"},{\"fill\":\"toself\",\"fillcolor\":\"rgba(135, 206, 235, 0.5)\",\"lat\":[44.333333333333336,44.37777777777778,44.37777777777778,44.333333333333336,44.333333333333336],\"line\":{\"color\":\"blue\"},\"lon\":[-110.54444444444444,-110.54444444444444,-110.65555555555555,-110.65555555555555,-110.54444444444444],\"name\":\"39\",\"showlegend\":false,\"type\":\"scattermapbox\"},{\"fill\":\"toself\",\"fillcolor\":\"rgba(135, 206, 235, 0.5)\",\"lat\":[44.37777777777778,44.422222222222224,44.422222222222224,44.37777777777778,44.37777777777778],\"line\":{\"color\":\"blue\"},\"lon\":[-110.54444444444444,-110.54444444444444,-110.65555555555555,-110.65555555555555,-110.54444444444444],\"name\":\"40\",\"showlegend\":false,\"type\":\"scattermapbox\"},{\"fill\":\"toself\",\"fillcolor\":\"rgba(135, 206, 235, 0.5)\",\"lat\":[44.422222222222224,44.46666666666667,44.46666666666667,44.422222222222224,44.422222222222224],\"line\":{\"color\":\"blue\"},\"lon\":[-110.54444444444444,-110.54444444444444,-110.65555555555555,-110.65555555555555,-110.54444444444444],\"name\":\"41\",\"showlegend\":false,\"type\":\"scattermapbox\"},{\"fill\":\"toself\",\"fillcolor\":\"rgba(135, 206, 235, 0.5)\",\"lat\":[44.46666666666667,44.51111111111111,44.51111111111111,44.46666666666667,44.46666666666667],\"line\":{\"color\":\"blue\"},\"lon\":[-110.54444444444444,-110.54444444444444,-110.65555555555555,-110.65555555555555,-110.54444444444444],\"name\":\"42\",\"showlegend\":false,\"type\":\"scattermapbox\"},{\"fill\":\"toself\",\"fillcolor\":\"rgba(135, 206, 235, 0.5)\",\"lat\":[44.51111111111111,44.55555555555556,44.55555555555556,44.51111111111111,44.51111111111111],\"line\":{\"color\":\"blue\"},\"lon\":[-110.54444444444444,-110.54444444444444,-110.65555555555555,-110.65555555555555,-110.54444444444444],\"name\":\"43\",\"showlegend\":false,\"type\":\"scattermapbox\"},{\"fill\":\"toself\",\"fillcolor\":\"rgba(135, 206, 235, 0.5)\",\"lat\":[44.55555555555556,44.6,44.6,44.55555555555556,44.55555555555556],\"line\":{\"color\":\"blue\"},\"lon\":[-110.54444444444444,-110.54444444444444,-110.65555555555555,-110.65555555555555,-110.54444444444444],\"name\":\"44\",\"showlegend\":false,\"type\":\"scattermapbox\"},{\"fill\":\"toself\",\"fillcolor\":\"rgba(135, 206, 235, 0.5)\",\"lat\":[44.2,44.24444444444445,44.24444444444445,44.2,44.2],\"line\":{\"color\":\"blue\"},\"lon\":[-110.43333333333332,-110.43333333333332,-110.54444444444444,-110.54444444444444,-110.43333333333332],\"name\":\"45\",\"showlegend\":false,\"type\":\"scattermapbox\"},{\"fill\":\"toself\",\"fillcolor\":\"rgba(135, 206, 235, 0.5)\",\"lat\":[44.24444444444445,44.28888888888889,44.28888888888889,44.24444444444445,44.24444444444445],\"line\":{\"color\":\"blue\"},\"lon\":[-110.43333333333332,-110.43333333333332,-110.54444444444444,-110.54444444444444,-110.43333333333332],\"name\":\"46\",\"showlegend\":false,\"type\":\"scattermapbox\"},{\"fill\":\"toself\",\"fillcolor\":\"rgba(135, 206, 235, 0.5)\",\"lat\":[44.28888888888889,44.333333333333336,44.333333333333336,44.28888888888889,44.28888888888889],\"line\":{\"color\":\"blue\"},\"lon\":[-110.43333333333332,-110.43333333333332,-110.54444444444444,-110.54444444444444,-110.43333333333332],\"name\":\"47\",\"showlegend\":false,\"type\":\"scattermapbox\"},{\"fill\":\"toself\",\"fillcolor\":\"rgba(135, 206, 235, 0.5)\",\"lat\":[44.333333333333336,44.37777777777778,44.37777777777778,44.333333333333336,44.333333333333336],\"line\":{\"color\":\"blue\"},\"lon\":[-110.43333333333332,-110.43333333333332,-110.54444444444444,-110.54444444444444,-110.43333333333332],\"name\":\"48\",\"showlegend\":false,\"type\":\"scattermapbox\"},{\"fill\":\"toself\",\"fillcolor\":\"rgba(135, 206, 235, 0.5)\",\"lat\":[44.37777777777778,44.422222222222224,44.422222222222224,44.37777777777778,44.37777777777778],\"line\":{\"color\":\"blue\"},\"lon\":[-110.43333333333332,-110.43333333333332,-110.54444444444444,-110.54444444444444,-110.43333333333332],\"name\":\"49\",\"showlegend\":false,\"type\":\"scattermapbox\"},{\"fill\":\"toself\",\"fillcolor\":\"rgba(135, 206, 235, 0.5)\",\"lat\":[44.422222222222224,44.46666666666667,44.46666666666667,44.422222222222224,44.422222222222224],\"line\":{\"color\":\"blue\"},\"lon\":[-110.43333333333332,-110.43333333333332,-110.54444444444444,-110.54444444444444,-110.43333333333332],\"name\":\"50\",\"showlegend\":false,\"type\":\"scattermapbox\"},{\"fill\":\"toself\",\"fillcolor\":\"rgba(135, 206, 235, 0.5)\",\"lat\":[44.46666666666667,44.51111111111111,44.51111111111111,44.46666666666667,44.46666666666667],\"line\":{\"color\":\"blue\"},\"lon\":[-110.43333333333332,-110.43333333333332,-110.54444444444444,-110.54444444444444,-110.43333333333332],\"name\":\"51\",\"showlegend\":false,\"type\":\"scattermapbox\"},{\"fill\":\"toself\",\"fillcolor\":\"rgba(135, 206, 235, 0.5)\",\"lat\":[44.51111111111111,44.55555555555556,44.55555555555556,44.51111111111111,44.51111111111111],\"line\":{\"color\":\"blue\"},\"lon\":[-110.43333333333332,-110.43333333333332,-110.54444444444444,-110.54444444444444,-110.43333333333332],\"name\":\"52\",\"showlegend\":false,\"type\":\"scattermapbox\"},{\"fill\":\"toself\",\"fillcolor\":\"rgba(135, 206, 235, 0.5)\",\"lat\":[44.55555555555556,44.6,44.6,44.55555555555556,44.55555555555556],\"line\":{\"color\":\"blue\"},\"lon\":[-110.43333333333332,-110.43333333333332,-110.54444444444444,-110.54444444444444,-110.43333333333332],\"name\":\"53\",\"showlegend\":false,\"type\":\"scattermapbox\"},{\"fill\":\"toself\",\"fillcolor\":\"rgba(135, 206, 235, 0.5)\",\"lat\":[44.2,44.24444444444445,44.24444444444445,44.2,44.2],\"line\":{\"color\":\"blue\"},\"lon\":[-110.32222222222222,-110.32222222222222,-110.43333333333332,-110.43333333333332,-110.32222222222222],\"name\":\"54\",\"showlegend\":false,\"type\":\"scattermapbox\"},{\"fill\":\"toself\",\"fillcolor\":\"rgba(135, 206, 235, 0.5)\",\"lat\":[44.24444444444445,44.28888888888889,44.28888888888889,44.24444444444445,44.24444444444445],\"line\":{\"color\":\"blue\"},\"lon\":[-110.32222222222222,-110.32222222222222,-110.43333333333332,-110.43333333333332,-110.32222222222222],\"name\":\"55\",\"showlegend\":false,\"type\":\"scattermapbox\"},{\"fill\":\"toself\",\"fillcolor\":\"rgba(135, 206, 235, 0.5)\",\"lat\":[44.28888888888889,44.333333333333336,44.333333333333336,44.28888888888889,44.28888888888889],\"line\":{\"color\":\"blue\"},\"lon\":[-110.32222222222222,-110.32222222222222,-110.43333333333332,-110.43333333333332,-110.32222222222222],\"name\":\"56\",\"showlegend\":false,\"type\":\"scattermapbox\"},{\"fill\":\"toself\",\"fillcolor\":\"rgba(135, 206, 235, 0.5)\",\"lat\":[44.333333333333336,44.37777777777778,44.37777777777778,44.333333333333336,44.333333333333336],\"line\":{\"color\":\"blue\"},\"lon\":[-110.32222222222222,-110.32222222222222,-110.43333333333332,-110.43333333333332,-110.32222222222222],\"name\":\"57\",\"showlegend\":false,\"type\":\"scattermapbox\"},{\"fill\":\"toself\",\"fillcolor\":\"rgba(135, 206, 235, 0.5)\",\"lat\":[44.37777777777778,44.422222222222224,44.422222222222224,44.37777777777778,44.37777777777778],\"line\":{\"color\":\"blue\"},\"lon\":[-110.32222222222222,-110.32222222222222,-110.43333333333332,-110.43333333333332,-110.32222222222222],\"name\":\"58\",\"showlegend\":false,\"type\":\"scattermapbox\"},{\"fill\":\"toself\",\"fillcolor\":\"rgba(135, 206, 235, 0.5)\",\"lat\":[44.422222222222224,44.46666666666667,44.46666666666667,44.422222222222224,44.422222222222224],\"line\":{\"color\":\"blue\"},\"lon\":[-110.32222222222222,-110.32222222222222,-110.43333333333332,-110.43333333333332,-110.32222222222222],\"name\":\"59\",\"showlegend\":false,\"type\":\"scattermapbox\"},{\"fill\":\"toself\",\"fillcolor\":\"rgba(135, 206, 235, 0.5)\",\"lat\":[44.46666666666667,44.51111111111111,44.51111111111111,44.46666666666667,44.46666666666667],\"line\":{\"color\":\"blue\"},\"lon\":[-110.32222222222222,-110.32222222222222,-110.43333333333332,-110.43333333333332,-110.32222222222222],\"name\":\"60\",\"showlegend\":false,\"type\":\"scattermapbox\"},{\"fill\":\"toself\",\"fillcolor\":\"rgba(135, 206, 235, 0.5)\",\"lat\":[44.51111111111111,44.55555555555556,44.55555555555556,44.51111111111111,44.51111111111111],\"line\":{\"color\":\"blue\"},\"lon\":[-110.32222222222222,-110.32222222222222,-110.43333333333332,-110.43333333333332,-110.32222222222222],\"name\":\"61\",\"showlegend\":false,\"type\":\"scattermapbox\"},{\"fill\":\"toself\",\"fillcolor\":\"rgba(135, 206, 235, 0.5)\",\"lat\":[44.55555555555556,44.6,44.6,44.55555555555556,44.55555555555556],\"line\":{\"color\":\"blue\"},\"lon\":[-110.32222222222222,-110.32222222222222,-110.43333333333332,-110.43333333333332,-110.32222222222222],\"name\":\"62\",\"showlegend\":false,\"type\":\"scattermapbox\"},{\"fill\":\"toself\",\"fillcolor\":\"rgba(135, 206, 235, 0.5)\",\"lat\":[44.2,44.24444444444445,44.24444444444445,44.2,44.2],\"line\":{\"color\":\"blue\"},\"lon\":[-110.21111111111111,-110.21111111111111,-110.32222222222222,-110.32222222222222,-110.21111111111111],\"name\":\"63\",\"showlegend\":false,\"type\":\"scattermapbox\"},{\"fill\":\"toself\",\"fillcolor\":\"rgba(135, 206, 235, 0.5)\",\"lat\":[44.24444444444445,44.28888888888889,44.28888888888889,44.24444444444445,44.24444444444445],\"line\":{\"color\":\"blue\"},\"lon\":[-110.21111111111111,-110.21111111111111,-110.32222222222222,-110.32222222222222,-110.21111111111111],\"name\":\"64\",\"showlegend\":false,\"type\":\"scattermapbox\"},{\"fill\":\"toself\",\"fillcolor\":\"rgba(135, 206, 235, 0.5)\",\"lat\":[44.28888888888889,44.333333333333336,44.333333333333336,44.28888888888889,44.28888888888889],\"line\":{\"color\":\"blue\"},\"lon\":[-110.21111111111111,-110.21111111111111,-110.32222222222222,-110.32222222222222,-110.21111111111111],\"name\":\"65\",\"showlegend\":false,\"type\":\"scattermapbox\"},{\"fill\":\"toself\",\"fillcolor\":\"rgba(135, 206, 235, 0.5)\",\"lat\":[44.333333333333336,44.37777777777778,44.37777777777778,44.333333333333336,44.333333333333336],\"line\":{\"color\":\"blue\"},\"lon\":[-110.21111111111111,-110.21111111111111,-110.32222222222222,-110.32222222222222,-110.21111111111111],\"name\":\"66\",\"showlegend\":false,\"type\":\"scattermapbox\"},{\"fill\":\"toself\",\"fillcolor\":\"rgba(135, 206, 235, 0.5)\",\"lat\":[44.37777777777778,44.422222222222224,44.422222222222224,44.37777777777778,44.37777777777778],\"line\":{\"color\":\"blue\"},\"lon\":[-110.21111111111111,-110.21111111111111,-110.32222222222222,-110.32222222222222,-110.21111111111111],\"name\":\"67\",\"showlegend\":false,\"type\":\"scattermapbox\"},{\"fill\":\"toself\",\"fillcolor\":\"rgba(135, 206, 235, 0.5)\",\"lat\":[44.422222222222224,44.46666666666667,44.46666666666667,44.422222222222224,44.422222222222224],\"line\":{\"color\":\"blue\"},\"lon\":[-110.21111111111111,-110.21111111111111,-110.32222222222222,-110.32222222222222,-110.21111111111111],\"name\":\"68\",\"showlegend\":false,\"type\":\"scattermapbox\"},{\"fill\":\"toself\",\"fillcolor\":\"rgba(135, 206, 235, 0.5)\",\"lat\":[44.46666666666667,44.51111111111111,44.51111111111111,44.46666666666667,44.46666666666667],\"line\":{\"color\":\"blue\"},\"lon\":[-110.21111111111111,-110.21111111111111,-110.32222222222222,-110.32222222222222,-110.21111111111111],\"name\":\"69\",\"showlegend\":false,\"type\":\"scattermapbox\"},{\"fill\":\"toself\",\"fillcolor\":\"rgba(135, 206, 235, 0.5)\",\"lat\":[44.51111111111111,44.55555555555556,44.55555555555556,44.51111111111111,44.51111111111111],\"line\":{\"color\":\"blue\"},\"lon\":[-110.21111111111111,-110.21111111111111,-110.32222222222222,-110.32222222222222,-110.21111111111111],\"name\":\"70\",\"showlegend\":false,\"type\":\"scattermapbox\"},{\"fill\":\"toself\",\"fillcolor\":\"rgba(135, 206, 235, 0.5)\",\"lat\":[44.55555555555556,44.6,44.6,44.55555555555556,44.55555555555556],\"line\":{\"color\":\"blue\"},\"lon\":[-110.21111111111111,-110.21111111111111,-110.32222222222222,-110.32222222222222,-110.21111111111111],\"name\":\"71\",\"showlegend\":false,\"type\":\"scattermapbox\"},{\"fill\":\"toself\",\"fillcolor\":\"rgba(135, 206, 235, 0.5)\",\"lat\":[44.2,44.24444444444445,44.24444444444445,44.2,44.2],\"line\":{\"color\":\"blue\"},\"lon\":[-110.1,-110.1,-110.21111111111111,-110.21111111111111,-110.1],\"name\":\"72\",\"showlegend\":false,\"type\":\"scattermapbox\"},{\"fill\":\"toself\",\"fillcolor\":\"rgba(135, 206, 235, 0.5)\",\"lat\":[44.24444444444445,44.28888888888889,44.28888888888889,44.24444444444445,44.24444444444445],\"line\":{\"color\":\"blue\"},\"lon\":[-110.1,-110.1,-110.21111111111111,-110.21111111111111,-110.1],\"name\":\"73\",\"showlegend\":false,\"type\":\"scattermapbox\"},{\"fill\":\"toself\",\"fillcolor\":\"rgba(135, 206, 235, 0.5)\",\"lat\":[44.28888888888889,44.333333333333336,44.333333333333336,44.28888888888889,44.28888888888889],\"line\":{\"color\":\"blue\"},\"lon\":[-110.1,-110.1,-110.21111111111111,-110.21111111111111,-110.1],\"name\":\"74\",\"showlegend\":false,\"type\":\"scattermapbox\"},{\"fill\":\"toself\",\"fillcolor\":\"rgba(135, 206, 235, 0.5)\",\"lat\":[44.333333333333336,44.37777777777778,44.37777777777778,44.333333333333336,44.333333333333336],\"line\":{\"color\":\"blue\"},\"lon\":[-110.1,-110.1,-110.21111111111111,-110.21111111111111,-110.1],\"name\":\"75\",\"showlegend\":false,\"type\":\"scattermapbox\"},{\"fill\":\"toself\",\"fillcolor\":\"rgba(135, 206, 235, 0.5)\",\"lat\":[44.37777777777778,44.422222222222224,44.422222222222224,44.37777777777778,44.37777777777778],\"line\":{\"color\":\"blue\"},\"lon\":[-110.1,-110.1,-110.21111111111111,-110.21111111111111,-110.1],\"name\":\"76\",\"showlegend\":false,\"type\":\"scattermapbox\"},{\"fill\":\"toself\",\"fillcolor\":\"rgba(135, 206, 235, 0.5)\",\"lat\":[44.422222222222224,44.46666666666667,44.46666666666667,44.422222222222224,44.422222222222224],\"line\":{\"color\":\"blue\"},\"lon\":[-110.1,-110.1,-110.21111111111111,-110.21111111111111,-110.1],\"name\":\"77\",\"showlegend\":false,\"type\":\"scattermapbox\"},{\"fill\":\"toself\",\"fillcolor\":\"rgba(135, 206, 235, 0.5)\",\"lat\":[44.46666666666667,44.51111111111111,44.51111111111111,44.46666666666667,44.46666666666667],\"line\":{\"color\":\"blue\"},\"lon\":[-110.1,-110.1,-110.21111111111111,-110.21111111111111,-110.1],\"name\":\"78\",\"showlegend\":false,\"type\":\"scattermapbox\"},{\"fill\":\"toself\",\"fillcolor\":\"rgba(135, 206, 235, 0.5)\",\"lat\":[44.51111111111111,44.55555555555556,44.55555555555556,44.51111111111111,44.51111111111111],\"line\":{\"color\":\"blue\"},\"lon\":[-110.1,-110.1,-110.21111111111111,-110.21111111111111,-110.1],\"name\":\"79\",\"showlegend\":false,\"type\":\"scattermapbox\"},{\"fill\":\"toself\",\"fillcolor\":\"rgba(135, 206, 235, 0.5)\",\"lat\":[44.55555555555556,44.6,44.6,44.55555555555556,44.55555555555556],\"line\":{\"color\":\"blue\"},\"lon\":[-110.1,-110.1,-110.21111111111111,-110.21111111111111,-110.1],\"name\":\"80\",\"showlegend\":false,\"type\":\"scattermapbox\"},{\"fill\":\"toself\",\"fillcolor\":\"rgba(128, 128, 128, 0.5)\",\"lat\":[44.4488,44.599,44.5166,44.428,44.4488],\"line\":{\"color\":\"black\"},\"lon\":[-110.839,-110.7052,-110.5339,-110.5885,-110.839],\"name\":\"Yellowstone National Park\",\"type\":\"scattermapbox\"},{\"fill\":\"toself\",\"fillcolor\":\"rgba(128, 128, 128, 0.5)\",\"lat\":[37.7244,37.6962,37.7799,37.8456,37.8651,37.7244],\"line\":{\"color\":\"black\"},\"lon\":[-119.655,-119.5964,-119.4893,-119.3029,-119.5383,-119.655],\"name\":\"Yosemite National Park\",\"type\":\"scattermapbox\"},{\"fill\":\"toself\",\"fillcolor\":\"rgba(128, 128, 128, 0.5)\",\"lat\":[36.1336,36.2331,36.2861,36.1182,36.057,36.1336],\"line\":{\"color\":\"black\"},\"lon\":[-112.1861,-112.2156,-112.0969,-111.8205,-112.1214,-112.1861],\"name\":\"Grand Canyon National Park\",\"type\":\"scattermapbox\"},{\"hoverinfo\":\"text\",\"lat\":[45.2284,44.3946,44.4246],\"lon\":[-110.7622,-110.8218,-110.1118],\"marker\":{\"color\":0,\"size\":10},\"mode\":\"markers\",\"name\":\"Wolf\",\"showlegend\":true,\"text\":[\"Animal ID: A001\\u003cbr\\u003eScientific Name: Canis lupus\\u003cbr\\u003eRedlist Category: Least Concern\\u003cbr\\u003eMegafauna: False\\u003cbr\\u003eLatitude: 45.2284\\u003cbr\\u003eLongitude: -110.7622\",\"Animal ID: A001\\u003cbr\\u003eScientific Name: Canis lupus\\u003cbr\\u003eRedlist Category: Least Concern\\u003cbr\\u003eMegafauna: False\\u003cbr\\u003eLatitude: 44.3946\\u003cbr\\u003eLongitude: -110.8218\",\"Animal ID: A001\\u003cbr\\u003eScientific Name: Canis lupus\\u003cbr\\u003eRedlist Category: Least Concern\\u003cbr\\u003eMegafauna: False\\u003cbr\\u003eLatitude: 44.4246\\u003cbr\\u003eLongitude: -110.1118\"],\"type\":\"scattermapbox\"},{\"hoverinfo\":\"text\",\"lat\":[44.576,44.5361,44.2221],\"lon\":[-110.6763,-110.7078,-110.8182],\"marker\":{\"color\":1,\"size\":10},\"mode\":\"markers\",\"name\":\"Bison\",\"showlegend\":true,\"text\":[\"Animal ID: A002\\u003cbr\\u003eScientific Name: Bison bison\\u003cbr\\u003eRedlist Category: Vulnerable\\u003cbr\\u003eMegafauna: True\\u003cbr\\u003eLatitude: 44.576\\u003cbr\\u003eLongitude: -110.6763\",\"Animal ID: A002\\u003cbr\\u003eScientific Name: Bison bison\\u003cbr\\u003eRedlist Category: Vulnerable\\u003cbr\\u003eMegafauna: True\\u003cbr\\u003eLatitude: 44.5361\\u003cbr\\u003eLongitude: -110.7078\",\"Animal ID: A002\\u003cbr\\u003eScientific Name: Bison bison\\u003cbr\\u003eRedlist Category: Vulnerable\\u003cbr\\u003eMegafauna: True\\u003cbr\\u003eLatitude: 44.2221\\u003cbr\\u003eLongitude: -110.8182\"],\"type\":\"scattermapbox\"},{\"hoverinfo\":\"text\",\"lat\":[44.4232,44.5472,44.5519],\"lon\":[-111.1061,-110.7893,-110.9812],\"marker\":{\"color\":2,\"size\":10},\"mode\":\"markers\",\"name\":\"Elk\",\"showlegend\":true,\"text\":[\"Animal ID: A003\\u003cbr\\u003eScientific Name: Cervus canadensis\\u003cbr\\u003eRedlist Category: Least Concern\\u003cbr\\u003eMegafauna: True\\u003cbr\\u003eLatitude: 44.4232\\u003cbr\\u003eLongitude: -111.1061\",\"Animal ID: A003\\u003cbr\\u003eScientific Name: Cervus canadensis\\u003cbr\\u003eRedlist Category: Least Concern\\u003cbr\\u003eMegafauna: True\\u003cbr\\u003eLatitude: 44.5472\\u003cbr\\u003eLongitude: -110.7893\",\"Animal ID: A003\\u003cbr\\u003eScientific Name: Cervus canadensis\\u003cbr\\u003eRedlist Category: Least Concern\\u003cbr\\u003eMegafauna: True\\u003cbr\\u003eLatitude: 44.5519\\u003cbr\\u003eLongitude: -110.9812\"],\"type\":\"scattermapbox\"},{\"hoverinfo\":\"text\",\"lat\":[37.9058,37.766,37.8601],\"lon\":[-119.7857,-119.6363,-119.5353],\"marker\":{\"color\":3,\"size\":10},\"mode\":\"markers\",\"name\":\"Sierra Nevada bighorn sheep\",\"showlegend\":true,\"text\":[\"Animal ID: A004\\u003cbr\\u003eScientific Name: Ovis canadensis sierrae\\u003cbr\\u003eRedlist Category: Endangered\\u003cbr\\u003eMegafauna: False\\u003cbr\\u003eLatitude: 37.9058\\u003cbr\\u003eLongitude: -119.7857\",\"Animal ID: A004\\u003cbr\\u003eScientific Name: Ovis canadensis sierrae\\u003cbr\\u003eRedlist Category: Endangered\\u003cbr\\u003eMegafauna: False\\u003cbr\\u003eLatitude: 37.766\\u003cbr\\u003eLongitude: -119.6363\",\"Animal ID: A004\\u003cbr\\u003eScientific Name: Ovis canadensis sierrae\\u003cbr\\u003eRedlist Category: Endangered\\u003cbr\\u003eMegafauna: False\\u003cbr\\u003eLatitude: 37.8601\\u003cbr\\u003eLongitude: -119.5353\"],\"type\":\"scattermapbox\"},{\"hoverinfo\":\"text\",\"lat\":[37.7896,37.8626,37.6181],\"lon\":[-119.6426,-119.7777,-119.6619],\"marker\":{\"color\":4,\"size\":10},\"mode\":\"markers\",\"name\":\"Sierra Nevada red fox\",\"showlegend\":true,\"text\":[\"Animal ID: A005\\u003cbr\\u003eScientific Name: Vulpes vulpes necator\\u003cbr\\u003eRedlist Category: Critically Endangered\\u003cbr\\u003eMegafauna: False\\u003cbr\\u003eLatitude: 37.7896\\u003cbr\\u003eLongitude: -119.6426\",\"Animal ID: A005\\u003cbr\\u003eScientific Name: Vulpes vulpes necator\\u003cbr\\u003eRedlist Category: Critically Endangered\\u003cbr\\u003eMegafauna: False\\u003cbr\\u003eLatitude: 37.8626\\u003cbr\\u003eLongitude: -119.7777\",\"Animal ID: A005\\u003cbr\\u003eScientific Name: Vulpes vulpes necator\\u003cbr\\u003eRedlist Category: Critically Endangered\\u003cbr\\u003eMegafauna: False\\u003cbr\\u003eLatitude: 37.6181\\u003cbr\\u003eLongitude: -119.6619\"],\"type\":\"scattermapbox\"},{\"hoverinfo\":\"text\",\"lat\":[37.8829,37.8636,37.8681],\"lon\":[-119.7608,-119.628,-119.6255],\"marker\":{\"color\":5,\"size\":10},\"mode\":\"markers\",\"name\":\"Bobcat\",\"showlegend\":true,\"text\":[\"Animal ID: A006\\u003cbr\\u003eScientific Name: Lynx rufus\\u003cbr\\u003eRedlist Category: Least Concern\\u003cbr\\u003eMegafauna: True\\u003cbr\\u003eLatitude: 37.8829\\u003cbr\\u003eLongitude: -119.7608\",\"Animal ID: A006\\u003cbr\\u003eScientific Name: Lynx rufus\\u003cbr\\u003eRedlist Category: Least Concern\\u003cbr\\u003eMegafauna: True\\u003cbr\\u003eLatitude: 37.8636\\u003cbr\\u003eLongitude: -119.628\",\"Animal ID: A006\\u003cbr\\u003eScientific Name: Lynx rufus\\u003cbr\\u003eRedlist Category: Least Concern\\u003cbr\\u003eMegafauna: True\\u003cbr\\u003eLatitude: 37.8681\\u003cbr\\u003eLongitude: -119.6255\"],\"type\":\"scattermapbox\"},{\"hoverinfo\":\"text\",\"lat\":[36.372,36.6622,36.2261],\"lon\":[-113.1627,-112.2308,-112.1831],\"marker\":{\"color\":6,\"size\":10},\"mode\":\"markers\",\"name\":\"Mule deer\",\"showlegend\":true,\"text\":[\"Animal ID: A007\\u003cbr\\u003eScientific Name: Odocoileus hemionus\\u003cbr\\u003eRedlist Category: Least Concern\\u003cbr\\u003eMegafauna: True\\u003cbr\\u003eLatitude: 36.372\\u003cbr\\u003eLongitude: -113.1627\",\"Animal ID: A007\\u003cbr\\u003eScientific Name: Odocoileus hemionus\\u003cbr\\u003eRedlist Category: Least Concern\\u003cbr\\u003eMegafauna: True\\u003cbr\\u003eLatitude: 36.6622\\u003cbr\\u003eLongitude: -112.2308\",\"Animal ID: A007\\u003cbr\\u003eScientific Name: Odocoileus hemionus\\u003cbr\\u003eRedlist Category: Least Concern\\u003cbr\\u003eMegafauna: True\\u003cbr\\u003eLatitude: 36.2261\\u003cbr\\u003eLongitude: -112.1831\"],\"type\":\"scattermapbox\"},{\"hoverinfo\":\"text\",\"lat\":[36.6193,36.6016,36.5492],\"lon\":[-112.3388,-112.3256,-112.7439],\"marker\":{\"color\":7,\"size\":10},\"mode\":\"markers\",\"name\":\"Desert bighorn sheep\",\"showlegend\":true,\"text\":[\"Animal ID: A008\\u003cbr\\u003eScientific Name: Ovis canadensis nelsoni\\u003cbr\\u003eRedlist Category: Near Threatened\\u003cbr\\u003eMegafauna: True\\u003cbr\\u003eLatitude: 36.6193\\u003cbr\\u003eLongitude: -112.3388\",\"Animal ID: A008\\u003cbr\\u003eScientific Name: Ovis canadensis nelsoni\\u003cbr\\u003eRedlist Category: Near Threatened\\u003cbr\\u003eMegafauna: True\\u003cbr\\u003eLatitude: 36.6016\\u003cbr\\u003eLongitude: -112.3256\",\"Animal ID: A008\\u003cbr\\u003eScientific Name: Ovis canadensis nelsoni\\u003cbr\\u003eRedlist Category: Near Threatened\\u003cbr\\u003eMegafauna: True\\u003cbr\\u003eLatitude: 36.5492\\u003cbr\\u003eLongitude: -112.7439\"],\"type\":\"scattermapbox\"},{\"hoverinfo\":\"text\",\"lat\":[36.3388,36.4868,36.6282],\"lon\":[-112.119,-112.3517,-112.6524],\"marker\":{\"color\":8,\"size\":10},\"mode\":\"markers\",\"name\":\"Gray fox\",\"showlegend\":true,\"text\":[\"Animal ID: A009\\u003cbr\\u003eScientific Name: Urocyon cinereoargenteus\\u003cbr\\u003eRedlist Category: Least Concern\\u003cbr\\u003eMegafauna: True\\u003cbr\\u003eLatitude: 36.3388\\u003cbr\\u003eLongitude: -112.119\",\"Animal ID: A009\\u003cbr\\u003eScientific Name: Urocyon cinereoargenteus\\u003cbr\\u003eRedlist Category: Least Concern\\u003cbr\\u003eMegafauna: True\\u003cbr\\u003eLatitude: 36.4868\\u003cbr\\u003eLongitude: -112.3517\",\"Animal ID: A009\\u003cbr\\u003eScientific Name: Urocyon cinereoargenteus\\u003cbr\\u003eRedlist Category: Least Concern\\u003cbr\\u003eMegafauna: True\\u003cbr\\u003eLatitude: 36.6282\\u003cbr\\u003eLongitude: -112.6524\"],\"type\":\"scattermapbox\"}],                        {\"template\":{\"data\":{\"histogram2dcontour\":[{\"type\":\"histogram2dcontour\",\"colorbar\":{\"outlinewidth\":0,\"ticks\":\"\"},\"colorscale\":[[0.0,\"#0d0887\"],[0.1111111111111111,\"#46039f\"],[0.2222222222222222,\"#7201a8\"],[0.3333333333333333,\"#9c179e\"],[0.4444444444444444,\"#bd3786\"],[0.5555555555555556,\"#d8576b\"],[0.6666666666666666,\"#ed7953\"],[0.7777777777777778,\"#fb9f3a\"],[0.8888888888888888,\"#fdca26\"],[1.0,\"#f0f921\"]]}],\"choropleth\":[{\"type\":\"choropleth\",\"colorbar\":{\"outlinewidth\":0,\"ticks\":\"\"}}],\"histogram2d\":[{\"type\":\"histogram2d\",\"colorbar\":{\"outlinewidth\":0,\"ticks\":\"\"},\"colorscale\":[[0.0,\"#0d0887\"],[0.1111111111111111,\"#46039f\"],[0.2222222222222222,\"#7201a8\"],[0.3333333333333333,\"#9c179e\"],[0.4444444444444444,\"#bd3786\"],[0.5555555555555556,\"#d8576b\"],[0.6666666666666666,\"#ed7953\"],[0.7777777777777778,\"#fb9f3a\"],[0.8888888888888888,\"#fdca26\"],[1.0,\"#f0f921\"]]}],\"heatmap\":[{\"type\":\"heatmap\",\"colorbar\":{\"outlinewidth\":0,\"ticks\":\"\"},\"colorscale\":[[0.0,\"#0d0887\"],[0.1111111111111111,\"#46039f\"],[0.2222222222222222,\"#7201a8\"],[0.3333333333333333,\"#9c179e\"],[0.4444444444444444,\"#bd3786\"],[0.5555555555555556,\"#d8576b\"],[0.6666666666666666,\"#ed7953\"],[0.7777777777777778,\"#fb9f3a\"],[0.8888888888888888,\"#fdca26\"],[1.0,\"#f0f921\"]]}],\"heatmapgl\":[{\"type\":\"heatmapgl\",\"colorbar\":{\"outlinewidth\":0,\"ticks\":\"\"},\"colorscale\":[[0.0,\"#0d0887\"],[0.1111111111111111,\"#46039f\"],[0.2222222222222222,\"#7201a8\"],[0.3333333333333333,\"#9c179e\"],[0.4444444444444444,\"#bd3786\"],[0.5555555555555556,\"#d8576b\"],[0.6666666666666666,\"#ed7953\"],[0.7777777777777778,\"#fb9f3a\"],[0.8888888888888888,\"#fdca26\"],[1.0,\"#f0f921\"]]}],\"contourcarpet\":[{\"type\":\"contourcarpet\",\"colorbar\":{\"outlinewidth\":0,\"ticks\":\"\"}}],\"contour\":[{\"type\":\"contour\",\"colorbar\":{\"outlinewidth\":0,\"ticks\":\"\"},\"colorscale\":[[0.0,\"#0d0887\"],[0.1111111111111111,\"#46039f\"],[0.2222222222222222,\"#7201a8\"],[0.3333333333333333,\"#9c179e\"],[0.4444444444444444,\"#bd3786\"],[0.5555555555555556,\"#d8576b\"],[0.6666666666666666,\"#ed7953\"],[0.7777777777777778,\"#fb9f3a\"],[0.8888888888888888,\"#fdca26\"],[1.0,\"#f0f921\"]]}],\"surface\":[{\"type\":\"surface\",\"colorbar\":{\"outlinewidth\":0,\"ticks\":\"\"},\"colorscale\":[[0.0,\"#0d0887\"],[0.1111111111111111,\"#46039f\"],[0.2222222222222222,\"#7201a8\"],[0.3333333333333333,\"#9c179e\"],[0.4444444444444444,\"#bd3786\"],[0.5555555555555556,\"#d8576b\"],[0.6666666666666666,\"#ed7953\"],[0.7777777777777778,\"#fb9f3a\"],[0.8888888888888888,\"#fdca26\"],[1.0,\"#f0f921\"]]}],\"mesh3d\":[{\"type\":\"mesh3d\",\"colorbar\":{\"outlinewidth\":0,\"ticks\":\"\"}}],\"scatter\":[{\"fillpattern\":{\"fillmode\":\"overlay\",\"size\":10,\"solidity\":0.2},\"type\":\"scatter\"}],\"parcoords\":[{\"type\":\"parcoords\",\"line\":{\"colorbar\":{\"outlinewidth\":0,\"ticks\":\"\"}}}],\"scatterpolargl\":[{\"type\":\"scatterpolargl\",\"marker\":{\"colorbar\":{\"outlinewidth\":0,\"ticks\":\"\"}}}],\"bar\":[{\"error_x\":{\"color\":\"#2a3f5f\"},\"error_y\":{\"color\":\"#2a3f5f\"},\"marker\":{\"line\":{\"color\":\"#E5ECF6\",\"width\":0.5},\"pattern\":{\"fillmode\":\"overlay\",\"size\":10,\"solidity\":0.2}},\"type\":\"bar\"}],\"scattergeo\":[{\"type\":\"scattergeo\",\"marker\":{\"colorbar\":{\"outlinewidth\":0,\"ticks\":\"\"}}}],\"scatterpolar\":[{\"type\":\"scatterpolar\",\"marker\":{\"colorbar\":{\"outlinewidth\":0,\"ticks\":\"\"}}}],\"histogram\":[{\"marker\":{\"pattern\":{\"fillmode\":\"overlay\",\"size\":10,\"solidity\":0.2}},\"type\":\"histogram\"}],\"scattergl\":[{\"type\":\"scattergl\",\"marker\":{\"colorbar\":{\"outlinewidth\":0,\"ticks\":\"\"}}}],\"scatter3d\":[{\"type\":\"scatter3d\",\"line\":{\"colorbar\":{\"outlinewidth\":0,\"ticks\":\"\"}},\"marker\":{\"colorbar\":{\"outlinewidth\":0,\"ticks\":\"\"}}}],\"scattermapbox\":[{\"type\":\"scattermapbox\",\"marker\":{\"colorbar\":{\"outlinewidth\":0,\"ticks\":\"\"}}}],\"scatterternary\":[{\"type\":\"scatterternary\",\"marker\":{\"colorbar\":{\"outlinewidth\":0,\"ticks\":\"\"}}}],\"scattercarpet\":[{\"type\":\"scattercarpet\",\"marker\":{\"colorbar\":{\"outlinewidth\":0,\"ticks\":\"\"}}}],\"carpet\":[{\"aaxis\":{\"endlinecolor\":\"#2a3f5f\",\"gridcolor\":\"white\",\"linecolor\":\"white\",\"minorgridcolor\":\"white\",\"startlinecolor\":\"#2a3f5f\"},\"baxis\":{\"endlinecolor\":\"#2a3f5f\",\"gridcolor\":\"white\",\"linecolor\":\"white\",\"minorgridcolor\":\"white\",\"startlinecolor\":\"#2a3f5f\"},\"type\":\"carpet\"}],\"table\":[{\"cells\":{\"fill\":{\"color\":\"#EBF0F8\"},\"line\":{\"color\":\"white\"}},\"header\":{\"fill\":{\"color\":\"#C8D4E3\"},\"line\":{\"color\":\"white\"}},\"type\":\"table\"}],\"barpolar\":[{\"marker\":{\"line\":{\"color\":\"#E5ECF6\",\"width\":0.5},\"pattern\":{\"fillmode\":\"overlay\",\"size\":10,\"solidity\":0.2}},\"type\":\"barpolar\"}],\"pie\":[{\"automargin\":true,\"type\":\"pie\"}]},\"layout\":{\"autotypenumbers\":\"strict\",\"colorway\":[\"#636efa\",\"#EF553B\",\"#00cc96\",\"#ab63fa\",\"#FFA15A\",\"#19d3f3\",\"#FF6692\",\"#B6E880\",\"#FF97FF\",\"#FECB52\"],\"font\":{\"color\":\"#2a3f5f\"},\"hovermode\":\"closest\",\"hoverlabel\":{\"align\":\"left\"},\"paper_bgcolor\":\"white\",\"plot_bgcolor\":\"#E5ECF6\",\"polar\":{\"bgcolor\":\"#E5ECF6\",\"angularaxis\":{\"gridcolor\":\"white\",\"linecolor\":\"white\",\"ticks\":\"\"},\"radialaxis\":{\"gridcolor\":\"white\",\"linecolor\":\"white\",\"ticks\":\"\"}},\"ternary\":{\"bgcolor\":\"#E5ECF6\",\"aaxis\":{\"gridcolor\":\"white\",\"linecolor\":\"white\",\"ticks\":\"\"},\"baxis\":{\"gridcolor\":\"white\",\"linecolor\":\"white\",\"ticks\":\"\"},\"caxis\":{\"gridcolor\":\"white\",\"linecolor\":\"white\",\"ticks\":\"\"}},\"coloraxis\":{\"colorbar\":{\"outlinewidth\":0,\"ticks\":\"\"}},\"colorscale\":{\"sequential\":[[0.0,\"#0d0887\"],[0.1111111111111111,\"#46039f\"],[0.2222222222222222,\"#7201a8\"],[0.3333333333333333,\"#9c179e\"],[0.4444444444444444,\"#bd3786\"],[0.5555555555555556,\"#d8576b\"],[0.6666666666666666,\"#ed7953\"],[0.7777777777777778,\"#fb9f3a\"],[0.8888888888888888,\"#fdca26\"],[1.0,\"#f0f921\"]],\"sequentialminus\":[[0.0,\"#0d0887\"],[0.1111111111111111,\"#46039f\"],[0.2222222222222222,\"#7201a8\"],[0.3333333333333333,\"#9c179e\"],[0.4444444444444444,\"#bd3786\"],[0.5555555555555556,\"#d8576b\"],[0.6666666666666666,\"#ed7953\"],[0.7777777777777778,\"#fb9f3a\"],[0.8888888888888888,\"#fdca26\"],[1.0,\"#f0f921\"]],\"diverging\":[[0,\"#8e0152\"],[0.1,\"#c51b7d\"],[0.2,\"#de77ae\"],[0.3,\"#f1b6da\"],[0.4,\"#fde0ef\"],[0.5,\"#f7f7f7\"],[0.6,\"#e6f5d0\"],[0.7,\"#b8e186\"],[0.8,\"#7fbc41\"],[0.9,\"#4d9221\"],[1,\"#276419\"]]},\"xaxis\":{\"gridcolor\":\"white\",\"linecolor\":\"white\",\"ticks\":\"\",\"title\":{\"standoff\":15},\"zerolinecolor\":\"white\",\"automargin\":true,\"zerolinewidth\":2},\"yaxis\":{\"gridcolor\":\"white\",\"linecolor\":\"white\",\"ticks\":\"\",\"title\":{\"standoff\":15},\"zerolinecolor\":\"white\",\"automargin\":true,\"zerolinewidth\":2},\"scene\":{\"xaxis\":{\"backgroundcolor\":\"#E5ECF6\",\"gridcolor\":\"white\",\"linecolor\":\"white\",\"showbackground\":true,\"ticks\":\"\",\"zerolinecolor\":\"white\",\"gridwidth\":2},\"yaxis\":{\"backgroundcolor\":\"#E5ECF6\",\"gridcolor\":\"white\",\"linecolor\":\"white\",\"showbackground\":true,\"ticks\":\"\",\"zerolinecolor\":\"white\",\"gridwidth\":2},\"zaxis\":{\"backgroundcolor\":\"#E5ECF6\",\"gridcolor\":\"white\",\"linecolor\":\"white\",\"showbackground\":true,\"ticks\":\"\",\"zerolinecolor\":\"white\",\"gridwidth\":2}},\"shapedefaults\":{\"line\":{\"color\":\"#2a3f5f\"}},\"annotationdefaults\":{\"arrowcolor\":\"#2a3f5f\",\"arrowhead\":0,\"arrowwidth\":1},\"geo\":{\"bgcolor\":\"white\",\"landcolor\":\"#E5ECF6\",\"subunitcolor\":\"white\",\"showland\":true,\"showlakes\":true,\"lakecolor\":\"white\"},\"title\":{\"x\":0.05},\"mapbox\":{\"style\":\"light\"}}},\"mapbox\":{\"style\":\"open-street-map\",\"center\":{\"lat\":44.4,\"lon\":-110.6},\"zoom\":8}},                        {\"scrollZoom\": true, \"responsive\": true}                    ).then(function(){\n",
       "                            \n",
       "var gd = document.getElementById('4afbc754-d501-4100-95ea-3ca60a2bf25f');\n",
       "var x = new MutationObserver(function (mutations, observer) {{\n",
       "        var display = window.getComputedStyle(gd).display;\n",
       "        if (!display || display === 'none') {{\n",
       "            console.log([gd, 'removed!']);\n",
       "            Plotly.purge(gd);\n",
       "            observer.disconnect();\n",
       "        }}\n",
       "}});\n",
       "\n",
       "// Listen for the removal of the full notebook cells\n",
       "var notebookContainer = gd.closest('#notebook-container');\n",
       "if (notebookContainer) {{\n",
       "    x.observe(notebookContainer, {childList: true});\n",
       "}}\n",
       "\n",
       "// Listen for the clearing of the current output cell\n",
       "var outputEl = gd.closest('.output');\n",
       "if (outputEl) {{\n",
       "    x.observe(outputEl, {childList: true});\n",
       "}}\n",
       "\n",
       "                        })                };                });            </script>        </div>"
      ]
     },
     "metadata": {},
     "output_type": "display_data"
    }
   ],
   "source": [
    "fig = plot_region(mesh_gdf)\n",
    "fig = plot(satellites_dict, protected_areas_gdf, animal_full_region_gdf, fig=fig)\n",
    "fig.update_layout(\n",
    "    mapbox=dict(\n",
    "            center=dict(lat=44.4, lon=-110.6),\n",
    "            zoom=8,  # Adjust the zoom level as needed\n",
    "        )\n",
    ")\n",
    "fig.show(config=defualt_plotly_config)"
   ]
  },
  {
   "cell_type": "markdown",
   "id": "1fd7b14d",
   "metadata": {},
   "source": [
    "![title](output/region_vis.png)"
   ]
  },
  {
   "cell_type": "markdown",
   "id": "00394416",
   "metadata": {},
   "source": [
    "### Create synthetic data"
   ]
  },
  {
   "cell_type": "markdown",
   "id": "0d5869eb",
   "metadata": {},
   "source": [
    "The current data is too sparse to effectively illustrate the pattern."
   ]
  },
  {
   "cell_type": "code",
   "execution_count": 561,
   "id": "cf1743d7",
   "metadata": {},
   "outputs": [],
   "source": [
    "def add_day(row, day):\n",
    "    \"\"\"\n",
    "    Update `timeframe` to `day` later.\n",
    "    \"\"\"\n",
    "    return(row['timestamp'] + pd.Timedelta(days=day))\n",
    "\n",
    "def add_noise_to_latitude(row, column, dist, dist_arg):\n",
    "    \"\"\"\n",
    "    add noise to the existing column\n",
    "    \"\"\"\n",
    "    noise = dist(**dist_arg)\n",
    "    return(row[column] + noise)\n",
    "\n",
    "def generate_synthetic_data(df, dist_fnc, dist_arg, days = 3):\n",
    "    \"\"\"\n",
    "    Create sybtheic data with updating date, latitude, and longitude\n",
    "    \"\"\"\n",
    "    df_copy = df.copy()\n",
    "    for day in range(1, days+1):\n",
    "        generated_df = df_copy.copy()\n",
    "        \n",
    "        generated_df['timestamp'] = generated_df.apply(\n",
    "            lambda x: add_day(x, day), \n",
    "            axis=1\n",
    "        )\n",
    "        \n",
    "        generated_df['latitude'] = generated_df.apply(\n",
    "            lambda x: add_noise_to_latitude(x, 'latitude', dist_fnc, dist_arg), \n",
    "            axis=1\n",
    "        )\n",
    "        \n",
    "        generated_df['longitude'] = generated_df.apply(\n",
    "            lambda x: add_noise_to_latitude(x, 'longitude', dist_fnc, dist_arg), \n",
    "            axis=1\n",
    "        )\n",
    "        \n",
    "        df = pd.concat([df, generated_df])\n",
    "\n",
    "    return(df)\n",
    "        "
   ]
  },
  {
   "cell_type": "code",
   "execution_count": 591,
   "id": "5b226cd4",
   "metadata": {},
   "outputs": [
    {
     "name": "stdout",
     "output_type": "stream",
     "text": [
      "(27, 8)\n",
      "(162, 8)\n"
     ]
    }
   ],
   "source": [
    "animal_full_synthetic_df = animal_full_df.copy()\n",
    "time_config = {\n",
    "    'timestamp': '%Y-%m-%d %H:%M:%S'\n",
    "}\n",
    "animal_full_synthetic_df = date_formatter(animal_full_synthetic_df, time_config)\n",
    "print(animal_full_synthetic_df.shape)\n",
    "normal_arg = {'loc': 0, 'scale': 0.1}\n",
    "animal_full_synthetic_df = generate_synthetic_data(animal_full_synthetic_df, np.random.normal, normal_arg, 5)\n",
    "print(animal_full_synthetic_df.shape)\n",
    "\n",
    "animal_full_synthetic_df = formatter(animal_full_synthetic_df, format_config)\n",
    "animal_full_synthetic_df = str_formatter(animal_full_synthetic_df, str_config)\n",
    "animal_full_synthetic_df = date_formatter(animal_full_synthetic_df, time_config)\n",
    "animal_full_synthetic_df = time_extractor(animal_full_synthetic_df, 'timestamp')\n",
    "animal_full_synthetic_df = geo_formatter(animal_full_synthetic_df, 'latitude', 'longitude')\n",
    "animal_full_synthetic_gdf = generating_gdf(animal_full_synthetic_df)\n",
    "error_checker(animal_full_synthetic_gdf, {'latitude': (-90, 90), 'longitude': (-180, 180)})\n",
    "animal_full_synthetic_gdf = null_handler(animal_full_synthetic_gdf, policy='drop')"
   ]
  },
  {
   "cell_type": "code",
   "execution_count": 592,
   "id": "f653c7f9",
   "metadata": {},
   "outputs": [
    {
     "data": {
      "application/vnd.plotly.v1+json": {
       "config": {
        "plotlyServerURL": "https://plot.ly",
        "responsive": true,
        "scrollZoom": true
       },
       "data": [
        {
         "fill": "toself",
         "fillcolor": "rgba(135, 206, 235, 0.5)",
         "lat": [
          44.2,
          44.24444444444445,
          44.24444444444445,
          44.2,
          44.2
         ],
         "line": {
          "color": "blue"
         },
         "lon": [
          -110.98888888888888,
          -110.98888888888888,
          -111.1,
          -111.1,
          -110.98888888888888
         ],
         "name": "0",
         "showlegend": false,
         "type": "scattermapbox"
        },
        {
         "fill": "toself",
         "fillcolor": "rgba(135, 206, 235, 0.5)",
         "lat": [
          44.24444444444445,
          44.28888888888889,
          44.28888888888889,
          44.24444444444445,
          44.24444444444445
         ],
         "line": {
          "color": "blue"
         },
         "lon": [
          -110.98888888888888,
          -110.98888888888888,
          -111.1,
          -111.1,
          -110.98888888888888
         ],
         "name": "1",
         "showlegend": false,
         "type": "scattermapbox"
        },
        {
         "fill": "toself",
         "fillcolor": "rgba(135, 206, 235, 0.5)",
         "lat": [
          44.28888888888889,
          44.333333333333336,
          44.333333333333336,
          44.28888888888889,
          44.28888888888889
         ],
         "line": {
          "color": "blue"
         },
         "lon": [
          -110.98888888888888,
          -110.98888888888888,
          -111.1,
          -111.1,
          -110.98888888888888
         ],
         "name": "2",
         "showlegend": false,
         "type": "scattermapbox"
        },
        {
         "fill": "toself",
         "fillcolor": "rgba(135, 206, 235, 0.5)",
         "lat": [
          44.333333333333336,
          44.37777777777778,
          44.37777777777778,
          44.333333333333336,
          44.333333333333336
         ],
         "line": {
          "color": "blue"
         },
         "lon": [
          -110.98888888888888,
          -110.98888888888888,
          -111.1,
          -111.1,
          -110.98888888888888
         ],
         "name": "3",
         "showlegend": false,
         "type": "scattermapbox"
        },
        {
         "fill": "toself",
         "fillcolor": "rgba(135, 206, 235, 0.5)",
         "lat": [
          44.37777777777778,
          44.422222222222224,
          44.422222222222224,
          44.37777777777778,
          44.37777777777778
         ],
         "line": {
          "color": "blue"
         },
         "lon": [
          -110.98888888888888,
          -110.98888888888888,
          -111.1,
          -111.1,
          -110.98888888888888
         ],
         "name": "4",
         "showlegend": false,
         "type": "scattermapbox"
        },
        {
         "fill": "toself",
         "fillcolor": "rgba(135, 206, 235, 0.5)",
         "lat": [
          44.422222222222224,
          44.46666666666667,
          44.46666666666667,
          44.422222222222224,
          44.422222222222224
         ],
         "line": {
          "color": "blue"
         },
         "lon": [
          -110.98888888888888,
          -110.98888888888888,
          -111.1,
          -111.1,
          -110.98888888888888
         ],
         "name": "5",
         "showlegend": false,
         "type": "scattermapbox"
        },
        {
         "fill": "toself",
         "fillcolor": "rgba(135, 206, 235, 0.5)",
         "lat": [
          44.46666666666667,
          44.51111111111111,
          44.51111111111111,
          44.46666666666667,
          44.46666666666667
         ],
         "line": {
          "color": "blue"
         },
         "lon": [
          -110.98888888888888,
          -110.98888888888888,
          -111.1,
          -111.1,
          -110.98888888888888
         ],
         "name": "6",
         "showlegend": false,
         "type": "scattermapbox"
        },
        {
         "fill": "toself",
         "fillcolor": "rgba(135, 206, 235, 0.5)",
         "lat": [
          44.51111111111111,
          44.55555555555556,
          44.55555555555556,
          44.51111111111111,
          44.51111111111111
         ],
         "line": {
          "color": "blue"
         },
         "lon": [
          -110.98888888888888,
          -110.98888888888888,
          -111.1,
          -111.1,
          -110.98888888888888
         ],
         "name": "7",
         "showlegend": false,
         "type": "scattermapbox"
        },
        {
         "fill": "toself",
         "fillcolor": "rgba(135, 206, 235, 0.5)",
         "lat": [
          44.55555555555556,
          44.6,
          44.6,
          44.55555555555556,
          44.55555555555556
         ],
         "line": {
          "color": "blue"
         },
         "lon": [
          -110.98888888888888,
          -110.98888888888888,
          -111.1,
          -111.1,
          -110.98888888888888
         ],
         "name": "8",
         "showlegend": false,
         "type": "scattermapbox"
        },
        {
         "fill": "toself",
         "fillcolor": "rgba(135, 206, 235, 0.5)",
         "lat": [
          44.2,
          44.24444444444445,
          44.24444444444445,
          44.2,
          44.2
         ],
         "line": {
          "color": "blue"
         },
         "lon": [
          -110.87777777777777,
          -110.87777777777777,
          -110.98888888888888,
          -110.98888888888888,
          -110.87777777777777
         ],
         "name": "9",
         "showlegend": false,
         "type": "scattermapbox"
        },
        {
         "fill": "toself",
         "fillcolor": "rgba(135, 206, 235, 0.5)",
         "lat": [
          44.24444444444445,
          44.28888888888889,
          44.28888888888889,
          44.24444444444445,
          44.24444444444445
         ],
         "line": {
          "color": "blue"
         },
         "lon": [
          -110.87777777777777,
          -110.87777777777777,
          -110.98888888888888,
          -110.98888888888888,
          -110.87777777777777
         ],
         "name": "10",
         "showlegend": false,
         "type": "scattermapbox"
        },
        {
         "fill": "toself",
         "fillcolor": "rgba(135, 206, 235, 0.5)",
         "lat": [
          44.28888888888889,
          44.333333333333336,
          44.333333333333336,
          44.28888888888889,
          44.28888888888889
         ],
         "line": {
          "color": "blue"
         },
         "lon": [
          -110.87777777777777,
          -110.87777777777777,
          -110.98888888888888,
          -110.98888888888888,
          -110.87777777777777
         ],
         "name": "11",
         "showlegend": false,
         "type": "scattermapbox"
        },
        {
         "fill": "toself",
         "fillcolor": "rgba(135, 206, 235, 0.5)",
         "lat": [
          44.333333333333336,
          44.37777777777778,
          44.37777777777778,
          44.333333333333336,
          44.333333333333336
         ],
         "line": {
          "color": "blue"
         },
         "lon": [
          -110.87777777777777,
          -110.87777777777777,
          -110.98888888888888,
          -110.98888888888888,
          -110.87777777777777
         ],
         "name": "12",
         "showlegend": false,
         "type": "scattermapbox"
        },
        {
         "fill": "toself",
         "fillcolor": "rgba(135, 206, 235, 0.5)",
         "lat": [
          44.37777777777778,
          44.422222222222224,
          44.422222222222224,
          44.37777777777778,
          44.37777777777778
         ],
         "line": {
          "color": "blue"
         },
         "lon": [
          -110.87777777777777,
          -110.87777777777777,
          -110.98888888888888,
          -110.98888888888888,
          -110.87777777777777
         ],
         "name": "13",
         "showlegend": false,
         "type": "scattermapbox"
        },
        {
         "fill": "toself",
         "fillcolor": "rgba(135, 206, 235, 0.5)",
         "lat": [
          44.422222222222224,
          44.46666666666667,
          44.46666666666667,
          44.422222222222224,
          44.422222222222224
         ],
         "line": {
          "color": "blue"
         },
         "lon": [
          -110.87777777777777,
          -110.87777777777777,
          -110.98888888888888,
          -110.98888888888888,
          -110.87777777777777
         ],
         "name": "14",
         "showlegend": false,
         "type": "scattermapbox"
        },
        {
         "fill": "toself",
         "fillcolor": "rgba(135, 206, 235, 0.5)",
         "lat": [
          44.46666666666667,
          44.51111111111111,
          44.51111111111111,
          44.46666666666667,
          44.46666666666667
         ],
         "line": {
          "color": "blue"
         },
         "lon": [
          -110.87777777777777,
          -110.87777777777777,
          -110.98888888888888,
          -110.98888888888888,
          -110.87777777777777
         ],
         "name": "15",
         "showlegend": false,
         "type": "scattermapbox"
        },
        {
         "fill": "toself",
         "fillcolor": "rgba(135, 206, 235, 0.5)",
         "lat": [
          44.51111111111111,
          44.55555555555556,
          44.55555555555556,
          44.51111111111111,
          44.51111111111111
         ],
         "line": {
          "color": "blue"
         },
         "lon": [
          -110.87777777777777,
          -110.87777777777777,
          -110.98888888888888,
          -110.98888888888888,
          -110.87777777777777
         ],
         "name": "16",
         "showlegend": false,
         "type": "scattermapbox"
        },
        {
         "fill": "toself",
         "fillcolor": "rgba(135, 206, 235, 0.5)",
         "lat": [
          44.55555555555556,
          44.6,
          44.6,
          44.55555555555556,
          44.55555555555556
         ],
         "line": {
          "color": "blue"
         },
         "lon": [
          -110.87777777777777,
          -110.87777777777777,
          -110.98888888888888,
          -110.98888888888888,
          -110.87777777777777
         ],
         "name": "17",
         "showlegend": false,
         "type": "scattermapbox"
        },
        {
         "fill": "toself",
         "fillcolor": "rgba(135, 206, 235, 0.5)",
         "lat": [
          44.2,
          44.24444444444445,
          44.24444444444445,
          44.2,
          44.2
         ],
         "line": {
          "color": "blue"
         },
         "lon": [
          -110.76666666666667,
          -110.76666666666667,
          -110.87777777777777,
          -110.87777777777777,
          -110.76666666666667
         ],
         "name": "18",
         "showlegend": false,
         "type": "scattermapbox"
        },
        {
         "fill": "toself",
         "fillcolor": "rgba(135, 206, 235, 0.5)",
         "lat": [
          44.24444444444445,
          44.28888888888889,
          44.28888888888889,
          44.24444444444445,
          44.24444444444445
         ],
         "line": {
          "color": "blue"
         },
         "lon": [
          -110.76666666666667,
          -110.76666666666667,
          -110.87777777777777,
          -110.87777777777777,
          -110.76666666666667
         ],
         "name": "19",
         "showlegend": false,
         "type": "scattermapbox"
        },
        {
         "fill": "toself",
         "fillcolor": "rgba(135, 206, 235, 0.5)",
         "lat": [
          44.28888888888889,
          44.333333333333336,
          44.333333333333336,
          44.28888888888889,
          44.28888888888889
         ],
         "line": {
          "color": "blue"
         },
         "lon": [
          -110.76666666666667,
          -110.76666666666667,
          -110.87777777777777,
          -110.87777777777777,
          -110.76666666666667
         ],
         "name": "20",
         "showlegend": false,
         "type": "scattermapbox"
        },
        {
         "fill": "toself",
         "fillcolor": "rgba(135, 206, 235, 0.5)",
         "lat": [
          44.333333333333336,
          44.37777777777778,
          44.37777777777778,
          44.333333333333336,
          44.333333333333336
         ],
         "line": {
          "color": "blue"
         },
         "lon": [
          -110.76666666666667,
          -110.76666666666667,
          -110.87777777777777,
          -110.87777777777777,
          -110.76666666666667
         ],
         "name": "21",
         "showlegend": false,
         "type": "scattermapbox"
        },
        {
         "fill": "toself",
         "fillcolor": "rgba(135, 206, 235, 0.5)",
         "lat": [
          44.37777777777778,
          44.422222222222224,
          44.422222222222224,
          44.37777777777778,
          44.37777777777778
         ],
         "line": {
          "color": "blue"
         },
         "lon": [
          -110.76666666666667,
          -110.76666666666667,
          -110.87777777777777,
          -110.87777777777777,
          -110.76666666666667
         ],
         "name": "22",
         "showlegend": false,
         "type": "scattermapbox"
        },
        {
         "fill": "toself",
         "fillcolor": "rgba(135, 206, 235, 0.5)",
         "lat": [
          44.422222222222224,
          44.46666666666667,
          44.46666666666667,
          44.422222222222224,
          44.422222222222224
         ],
         "line": {
          "color": "blue"
         },
         "lon": [
          -110.76666666666667,
          -110.76666666666667,
          -110.87777777777777,
          -110.87777777777777,
          -110.76666666666667
         ],
         "name": "23",
         "showlegend": false,
         "type": "scattermapbox"
        },
        {
         "fill": "toself",
         "fillcolor": "rgba(135, 206, 235, 0.5)",
         "lat": [
          44.46666666666667,
          44.51111111111111,
          44.51111111111111,
          44.46666666666667,
          44.46666666666667
         ],
         "line": {
          "color": "blue"
         },
         "lon": [
          -110.76666666666667,
          -110.76666666666667,
          -110.87777777777777,
          -110.87777777777777,
          -110.76666666666667
         ],
         "name": "24",
         "showlegend": false,
         "type": "scattermapbox"
        },
        {
         "fill": "toself",
         "fillcolor": "rgba(135, 206, 235, 0.5)",
         "lat": [
          44.51111111111111,
          44.55555555555556,
          44.55555555555556,
          44.51111111111111,
          44.51111111111111
         ],
         "line": {
          "color": "blue"
         },
         "lon": [
          -110.76666666666667,
          -110.76666666666667,
          -110.87777777777777,
          -110.87777777777777,
          -110.76666666666667
         ],
         "name": "25",
         "showlegend": false,
         "type": "scattermapbox"
        },
        {
         "fill": "toself",
         "fillcolor": "rgba(135, 206, 235, 0.5)",
         "lat": [
          44.55555555555556,
          44.6,
          44.6,
          44.55555555555556,
          44.55555555555556
         ],
         "line": {
          "color": "blue"
         },
         "lon": [
          -110.76666666666667,
          -110.76666666666667,
          -110.87777777777777,
          -110.87777777777777,
          -110.76666666666667
         ],
         "name": "26",
         "showlegend": false,
         "type": "scattermapbox"
        },
        {
         "fill": "toself",
         "fillcolor": "rgba(135, 206, 235, 0.5)",
         "lat": [
          44.2,
          44.24444444444445,
          44.24444444444445,
          44.2,
          44.2
         ],
         "line": {
          "color": "blue"
         },
         "lon": [
          -110.65555555555555,
          -110.65555555555555,
          -110.76666666666667,
          -110.76666666666667,
          -110.65555555555555
         ],
         "name": "27",
         "showlegend": false,
         "type": "scattermapbox"
        },
        {
         "fill": "toself",
         "fillcolor": "rgba(135, 206, 235, 0.5)",
         "lat": [
          44.24444444444445,
          44.28888888888889,
          44.28888888888889,
          44.24444444444445,
          44.24444444444445
         ],
         "line": {
          "color": "blue"
         },
         "lon": [
          -110.65555555555555,
          -110.65555555555555,
          -110.76666666666667,
          -110.76666666666667,
          -110.65555555555555
         ],
         "name": "28",
         "showlegend": false,
         "type": "scattermapbox"
        },
        {
         "fill": "toself",
         "fillcolor": "rgba(135, 206, 235, 0.5)",
         "lat": [
          44.28888888888889,
          44.333333333333336,
          44.333333333333336,
          44.28888888888889,
          44.28888888888889
         ],
         "line": {
          "color": "blue"
         },
         "lon": [
          -110.65555555555555,
          -110.65555555555555,
          -110.76666666666667,
          -110.76666666666667,
          -110.65555555555555
         ],
         "name": "29",
         "showlegend": false,
         "type": "scattermapbox"
        },
        {
         "fill": "toself",
         "fillcolor": "rgba(135, 206, 235, 0.5)",
         "lat": [
          44.333333333333336,
          44.37777777777778,
          44.37777777777778,
          44.333333333333336,
          44.333333333333336
         ],
         "line": {
          "color": "blue"
         },
         "lon": [
          -110.65555555555555,
          -110.65555555555555,
          -110.76666666666667,
          -110.76666666666667,
          -110.65555555555555
         ],
         "name": "30",
         "showlegend": false,
         "type": "scattermapbox"
        },
        {
         "fill": "toself",
         "fillcolor": "rgba(135, 206, 235, 0.5)",
         "lat": [
          44.37777777777778,
          44.422222222222224,
          44.422222222222224,
          44.37777777777778,
          44.37777777777778
         ],
         "line": {
          "color": "blue"
         },
         "lon": [
          -110.65555555555555,
          -110.65555555555555,
          -110.76666666666667,
          -110.76666666666667,
          -110.65555555555555
         ],
         "name": "31",
         "showlegend": false,
         "type": "scattermapbox"
        },
        {
         "fill": "toself",
         "fillcolor": "rgba(135, 206, 235, 0.5)",
         "lat": [
          44.422222222222224,
          44.46666666666667,
          44.46666666666667,
          44.422222222222224,
          44.422222222222224
         ],
         "line": {
          "color": "blue"
         },
         "lon": [
          -110.65555555555555,
          -110.65555555555555,
          -110.76666666666667,
          -110.76666666666667,
          -110.65555555555555
         ],
         "name": "32",
         "showlegend": false,
         "type": "scattermapbox"
        },
        {
         "fill": "toself",
         "fillcolor": "rgba(135, 206, 235, 0.5)",
         "lat": [
          44.46666666666667,
          44.51111111111111,
          44.51111111111111,
          44.46666666666667,
          44.46666666666667
         ],
         "line": {
          "color": "blue"
         },
         "lon": [
          -110.65555555555555,
          -110.65555555555555,
          -110.76666666666667,
          -110.76666666666667,
          -110.65555555555555
         ],
         "name": "33",
         "showlegend": false,
         "type": "scattermapbox"
        },
        {
         "fill": "toself",
         "fillcolor": "rgba(135, 206, 235, 0.5)",
         "lat": [
          44.51111111111111,
          44.55555555555556,
          44.55555555555556,
          44.51111111111111,
          44.51111111111111
         ],
         "line": {
          "color": "blue"
         },
         "lon": [
          -110.65555555555555,
          -110.65555555555555,
          -110.76666666666667,
          -110.76666666666667,
          -110.65555555555555
         ],
         "name": "34",
         "showlegend": false,
         "type": "scattermapbox"
        },
        {
         "fill": "toself",
         "fillcolor": "rgba(135, 206, 235, 0.5)",
         "lat": [
          44.55555555555556,
          44.6,
          44.6,
          44.55555555555556,
          44.55555555555556
         ],
         "line": {
          "color": "blue"
         },
         "lon": [
          -110.65555555555555,
          -110.65555555555555,
          -110.76666666666667,
          -110.76666666666667,
          -110.65555555555555
         ],
         "name": "35",
         "showlegend": false,
         "type": "scattermapbox"
        },
        {
         "fill": "toself",
         "fillcolor": "rgba(135, 206, 235, 0.5)",
         "lat": [
          44.2,
          44.24444444444445,
          44.24444444444445,
          44.2,
          44.2
         ],
         "line": {
          "color": "blue"
         },
         "lon": [
          -110.54444444444444,
          -110.54444444444444,
          -110.65555555555555,
          -110.65555555555555,
          -110.54444444444444
         ],
         "name": "36",
         "showlegend": false,
         "type": "scattermapbox"
        },
        {
         "fill": "toself",
         "fillcolor": "rgba(135, 206, 235, 0.5)",
         "lat": [
          44.24444444444445,
          44.28888888888889,
          44.28888888888889,
          44.24444444444445,
          44.24444444444445
         ],
         "line": {
          "color": "blue"
         },
         "lon": [
          -110.54444444444444,
          -110.54444444444444,
          -110.65555555555555,
          -110.65555555555555,
          -110.54444444444444
         ],
         "name": "37",
         "showlegend": false,
         "type": "scattermapbox"
        },
        {
         "fill": "toself",
         "fillcolor": "rgba(135, 206, 235, 0.5)",
         "lat": [
          44.28888888888889,
          44.333333333333336,
          44.333333333333336,
          44.28888888888889,
          44.28888888888889
         ],
         "line": {
          "color": "blue"
         },
         "lon": [
          -110.54444444444444,
          -110.54444444444444,
          -110.65555555555555,
          -110.65555555555555,
          -110.54444444444444
         ],
         "name": "38",
         "showlegend": false,
         "type": "scattermapbox"
        },
        {
         "fill": "toself",
         "fillcolor": "rgba(135, 206, 235, 0.5)",
         "lat": [
          44.333333333333336,
          44.37777777777778,
          44.37777777777778,
          44.333333333333336,
          44.333333333333336
         ],
         "line": {
          "color": "blue"
         },
         "lon": [
          -110.54444444444444,
          -110.54444444444444,
          -110.65555555555555,
          -110.65555555555555,
          -110.54444444444444
         ],
         "name": "39",
         "showlegend": false,
         "type": "scattermapbox"
        },
        {
         "fill": "toself",
         "fillcolor": "rgba(135, 206, 235, 0.5)",
         "lat": [
          44.37777777777778,
          44.422222222222224,
          44.422222222222224,
          44.37777777777778,
          44.37777777777778
         ],
         "line": {
          "color": "blue"
         },
         "lon": [
          -110.54444444444444,
          -110.54444444444444,
          -110.65555555555555,
          -110.65555555555555,
          -110.54444444444444
         ],
         "name": "40",
         "showlegend": false,
         "type": "scattermapbox"
        },
        {
         "fill": "toself",
         "fillcolor": "rgba(135, 206, 235, 0.5)",
         "lat": [
          44.422222222222224,
          44.46666666666667,
          44.46666666666667,
          44.422222222222224,
          44.422222222222224
         ],
         "line": {
          "color": "blue"
         },
         "lon": [
          -110.54444444444444,
          -110.54444444444444,
          -110.65555555555555,
          -110.65555555555555,
          -110.54444444444444
         ],
         "name": "41",
         "showlegend": false,
         "type": "scattermapbox"
        },
        {
         "fill": "toself",
         "fillcolor": "rgba(135, 206, 235, 0.5)",
         "lat": [
          44.46666666666667,
          44.51111111111111,
          44.51111111111111,
          44.46666666666667,
          44.46666666666667
         ],
         "line": {
          "color": "blue"
         },
         "lon": [
          -110.54444444444444,
          -110.54444444444444,
          -110.65555555555555,
          -110.65555555555555,
          -110.54444444444444
         ],
         "name": "42",
         "showlegend": false,
         "type": "scattermapbox"
        },
        {
         "fill": "toself",
         "fillcolor": "rgba(135, 206, 235, 0.5)",
         "lat": [
          44.51111111111111,
          44.55555555555556,
          44.55555555555556,
          44.51111111111111,
          44.51111111111111
         ],
         "line": {
          "color": "blue"
         },
         "lon": [
          -110.54444444444444,
          -110.54444444444444,
          -110.65555555555555,
          -110.65555555555555,
          -110.54444444444444
         ],
         "name": "43",
         "showlegend": false,
         "type": "scattermapbox"
        },
        {
         "fill": "toself",
         "fillcolor": "rgba(135, 206, 235, 0.5)",
         "lat": [
          44.55555555555556,
          44.6,
          44.6,
          44.55555555555556,
          44.55555555555556
         ],
         "line": {
          "color": "blue"
         },
         "lon": [
          -110.54444444444444,
          -110.54444444444444,
          -110.65555555555555,
          -110.65555555555555,
          -110.54444444444444
         ],
         "name": "44",
         "showlegend": false,
         "type": "scattermapbox"
        },
        {
         "fill": "toself",
         "fillcolor": "rgba(135, 206, 235, 0.5)",
         "lat": [
          44.2,
          44.24444444444445,
          44.24444444444445,
          44.2,
          44.2
         ],
         "line": {
          "color": "blue"
         },
         "lon": [
          -110.43333333333332,
          -110.43333333333332,
          -110.54444444444444,
          -110.54444444444444,
          -110.43333333333332
         ],
         "name": "45",
         "showlegend": false,
         "type": "scattermapbox"
        },
        {
         "fill": "toself",
         "fillcolor": "rgba(135, 206, 235, 0.5)",
         "lat": [
          44.24444444444445,
          44.28888888888889,
          44.28888888888889,
          44.24444444444445,
          44.24444444444445
         ],
         "line": {
          "color": "blue"
         },
         "lon": [
          -110.43333333333332,
          -110.43333333333332,
          -110.54444444444444,
          -110.54444444444444,
          -110.43333333333332
         ],
         "name": "46",
         "showlegend": false,
         "type": "scattermapbox"
        },
        {
         "fill": "toself",
         "fillcolor": "rgba(135, 206, 235, 0.5)",
         "lat": [
          44.28888888888889,
          44.333333333333336,
          44.333333333333336,
          44.28888888888889,
          44.28888888888889
         ],
         "line": {
          "color": "blue"
         },
         "lon": [
          -110.43333333333332,
          -110.43333333333332,
          -110.54444444444444,
          -110.54444444444444,
          -110.43333333333332
         ],
         "name": "47",
         "showlegend": false,
         "type": "scattermapbox"
        },
        {
         "fill": "toself",
         "fillcolor": "rgba(135, 206, 235, 0.5)",
         "lat": [
          44.333333333333336,
          44.37777777777778,
          44.37777777777778,
          44.333333333333336,
          44.333333333333336
         ],
         "line": {
          "color": "blue"
         },
         "lon": [
          -110.43333333333332,
          -110.43333333333332,
          -110.54444444444444,
          -110.54444444444444,
          -110.43333333333332
         ],
         "name": "48",
         "showlegend": false,
         "type": "scattermapbox"
        },
        {
         "fill": "toself",
         "fillcolor": "rgba(135, 206, 235, 0.5)",
         "lat": [
          44.37777777777778,
          44.422222222222224,
          44.422222222222224,
          44.37777777777778,
          44.37777777777778
         ],
         "line": {
          "color": "blue"
         },
         "lon": [
          -110.43333333333332,
          -110.43333333333332,
          -110.54444444444444,
          -110.54444444444444,
          -110.43333333333332
         ],
         "name": "49",
         "showlegend": false,
         "type": "scattermapbox"
        },
        {
         "fill": "toself",
         "fillcolor": "rgba(135, 206, 235, 0.5)",
         "lat": [
          44.422222222222224,
          44.46666666666667,
          44.46666666666667,
          44.422222222222224,
          44.422222222222224
         ],
         "line": {
          "color": "blue"
         },
         "lon": [
          -110.43333333333332,
          -110.43333333333332,
          -110.54444444444444,
          -110.54444444444444,
          -110.43333333333332
         ],
         "name": "50",
         "showlegend": false,
         "type": "scattermapbox"
        },
        {
         "fill": "toself",
         "fillcolor": "rgba(135, 206, 235, 0.5)",
         "lat": [
          44.46666666666667,
          44.51111111111111,
          44.51111111111111,
          44.46666666666667,
          44.46666666666667
         ],
         "line": {
          "color": "blue"
         },
         "lon": [
          -110.43333333333332,
          -110.43333333333332,
          -110.54444444444444,
          -110.54444444444444,
          -110.43333333333332
         ],
         "name": "51",
         "showlegend": false,
         "type": "scattermapbox"
        },
        {
         "fill": "toself",
         "fillcolor": "rgba(135, 206, 235, 0.5)",
         "lat": [
          44.51111111111111,
          44.55555555555556,
          44.55555555555556,
          44.51111111111111,
          44.51111111111111
         ],
         "line": {
          "color": "blue"
         },
         "lon": [
          -110.43333333333332,
          -110.43333333333332,
          -110.54444444444444,
          -110.54444444444444,
          -110.43333333333332
         ],
         "name": "52",
         "showlegend": false,
         "type": "scattermapbox"
        },
        {
         "fill": "toself",
         "fillcolor": "rgba(135, 206, 235, 0.5)",
         "lat": [
          44.55555555555556,
          44.6,
          44.6,
          44.55555555555556,
          44.55555555555556
         ],
         "line": {
          "color": "blue"
         },
         "lon": [
          -110.43333333333332,
          -110.43333333333332,
          -110.54444444444444,
          -110.54444444444444,
          -110.43333333333332
         ],
         "name": "53",
         "showlegend": false,
         "type": "scattermapbox"
        },
        {
         "fill": "toself",
         "fillcolor": "rgba(135, 206, 235, 0.5)",
         "lat": [
          44.2,
          44.24444444444445,
          44.24444444444445,
          44.2,
          44.2
         ],
         "line": {
          "color": "blue"
         },
         "lon": [
          -110.32222222222222,
          -110.32222222222222,
          -110.43333333333332,
          -110.43333333333332,
          -110.32222222222222
         ],
         "name": "54",
         "showlegend": false,
         "type": "scattermapbox"
        },
        {
         "fill": "toself",
         "fillcolor": "rgba(135, 206, 235, 0.5)",
         "lat": [
          44.24444444444445,
          44.28888888888889,
          44.28888888888889,
          44.24444444444445,
          44.24444444444445
         ],
         "line": {
          "color": "blue"
         },
         "lon": [
          -110.32222222222222,
          -110.32222222222222,
          -110.43333333333332,
          -110.43333333333332,
          -110.32222222222222
         ],
         "name": "55",
         "showlegend": false,
         "type": "scattermapbox"
        },
        {
         "fill": "toself",
         "fillcolor": "rgba(135, 206, 235, 0.5)",
         "lat": [
          44.28888888888889,
          44.333333333333336,
          44.333333333333336,
          44.28888888888889,
          44.28888888888889
         ],
         "line": {
          "color": "blue"
         },
         "lon": [
          -110.32222222222222,
          -110.32222222222222,
          -110.43333333333332,
          -110.43333333333332,
          -110.32222222222222
         ],
         "name": "56",
         "showlegend": false,
         "type": "scattermapbox"
        },
        {
         "fill": "toself",
         "fillcolor": "rgba(135, 206, 235, 0.5)",
         "lat": [
          44.333333333333336,
          44.37777777777778,
          44.37777777777778,
          44.333333333333336,
          44.333333333333336
         ],
         "line": {
          "color": "blue"
         },
         "lon": [
          -110.32222222222222,
          -110.32222222222222,
          -110.43333333333332,
          -110.43333333333332,
          -110.32222222222222
         ],
         "name": "57",
         "showlegend": false,
         "type": "scattermapbox"
        },
        {
         "fill": "toself",
         "fillcolor": "rgba(135, 206, 235, 0.5)",
         "lat": [
          44.37777777777778,
          44.422222222222224,
          44.422222222222224,
          44.37777777777778,
          44.37777777777778
         ],
         "line": {
          "color": "blue"
         },
         "lon": [
          -110.32222222222222,
          -110.32222222222222,
          -110.43333333333332,
          -110.43333333333332,
          -110.32222222222222
         ],
         "name": "58",
         "showlegend": false,
         "type": "scattermapbox"
        },
        {
         "fill": "toself",
         "fillcolor": "rgba(135, 206, 235, 0.5)",
         "lat": [
          44.422222222222224,
          44.46666666666667,
          44.46666666666667,
          44.422222222222224,
          44.422222222222224
         ],
         "line": {
          "color": "blue"
         },
         "lon": [
          -110.32222222222222,
          -110.32222222222222,
          -110.43333333333332,
          -110.43333333333332,
          -110.32222222222222
         ],
         "name": "59",
         "showlegend": false,
         "type": "scattermapbox"
        },
        {
         "fill": "toself",
         "fillcolor": "rgba(135, 206, 235, 0.5)",
         "lat": [
          44.46666666666667,
          44.51111111111111,
          44.51111111111111,
          44.46666666666667,
          44.46666666666667
         ],
         "line": {
          "color": "blue"
         },
         "lon": [
          -110.32222222222222,
          -110.32222222222222,
          -110.43333333333332,
          -110.43333333333332,
          -110.32222222222222
         ],
         "name": "60",
         "showlegend": false,
         "type": "scattermapbox"
        },
        {
         "fill": "toself",
         "fillcolor": "rgba(135, 206, 235, 0.5)",
         "lat": [
          44.51111111111111,
          44.55555555555556,
          44.55555555555556,
          44.51111111111111,
          44.51111111111111
         ],
         "line": {
          "color": "blue"
         },
         "lon": [
          -110.32222222222222,
          -110.32222222222222,
          -110.43333333333332,
          -110.43333333333332,
          -110.32222222222222
         ],
         "name": "61",
         "showlegend": false,
         "type": "scattermapbox"
        },
        {
         "fill": "toself",
         "fillcolor": "rgba(135, 206, 235, 0.5)",
         "lat": [
          44.55555555555556,
          44.6,
          44.6,
          44.55555555555556,
          44.55555555555556
         ],
         "line": {
          "color": "blue"
         },
         "lon": [
          -110.32222222222222,
          -110.32222222222222,
          -110.43333333333332,
          -110.43333333333332,
          -110.32222222222222
         ],
         "name": "62",
         "showlegend": false,
         "type": "scattermapbox"
        },
        {
         "fill": "toself",
         "fillcolor": "rgba(135, 206, 235, 0.5)",
         "lat": [
          44.2,
          44.24444444444445,
          44.24444444444445,
          44.2,
          44.2
         ],
         "line": {
          "color": "blue"
         },
         "lon": [
          -110.21111111111111,
          -110.21111111111111,
          -110.32222222222222,
          -110.32222222222222,
          -110.21111111111111
         ],
         "name": "63",
         "showlegend": false,
         "type": "scattermapbox"
        },
        {
         "fill": "toself",
         "fillcolor": "rgba(135, 206, 235, 0.5)",
         "lat": [
          44.24444444444445,
          44.28888888888889,
          44.28888888888889,
          44.24444444444445,
          44.24444444444445
         ],
         "line": {
          "color": "blue"
         },
         "lon": [
          -110.21111111111111,
          -110.21111111111111,
          -110.32222222222222,
          -110.32222222222222,
          -110.21111111111111
         ],
         "name": "64",
         "showlegend": false,
         "type": "scattermapbox"
        },
        {
         "fill": "toself",
         "fillcolor": "rgba(135, 206, 235, 0.5)",
         "lat": [
          44.28888888888889,
          44.333333333333336,
          44.333333333333336,
          44.28888888888889,
          44.28888888888889
         ],
         "line": {
          "color": "blue"
         },
         "lon": [
          -110.21111111111111,
          -110.21111111111111,
          -110.32222222222222,
          -110.32222222222222,
          -110.21111111111111
         ],
         "name": "65",
         "showlegend": false,
         "type": "scattermapbox"
        },
        {
         "fill": "toself",
         "fillcolor": "rgba(135, 206, 235, 0.5)",
         "lat": [
          44.333333333333336,
          44.37777777777778,
          44.37777777777778,
          44.333333333333336,
          44.333333333333336
         ],
         "line": {
          "color": "blue"
         },
         "lon": [
          -110.21111111111111,
          -110.21111111111111,
          -110.32222222222222,
          -110.32222222222222,
          -110.21111111111111
         ],
         "name": "66",
         "showlegend": false,
         "type": "scattermapbox"
        },
        {
         "fill": "toself",
         "fillcolor": "rgba(135, 206, 235, 0.5)",
         "lat": [
          44.37777777777778,
          44.422222222222224,
          44.422222222222224,
          44.37777777777778,
          44.37777777777778
         ],
         "line": {
          "color": "blue"
         },
         "lon": [
          -110.21111111111111,
          -110.21111111111111,
          -110.32222222222222,
          -110.32222222222222,
          -110.21111111111111
         ],
         "name": "67",
         "showlegend": false,
         "type": "scattermapbox"
        },
        {
         "fill": "toself",
         "fillcolor": "rgba(135, 206, 235, 0.5)",
         "lat": [
          44.422222222222224,
          44.46666666666667,
          44.46666666666667,
          44.422222222222224,
          44.422222222222224
         ],
         "line": {
          "color": "blue"
         },
         "lon": [
          -110.21111111111111,
          -110.21111111111111,
          -110.32222222222222,
          -110.32222222222222,
          -110.21111111111111
         ],
         "name": "68",
         "showlegend": false,
         "type": "scattermapbox"
        },
        {
         "fill": "toself",
         "fillcolor": "rgba(135, 206, 235, 0.5)",
         "lat": [
          44.46666666666667,
          44.51111111111111,
          44.51111111111111,
          44.46666666666667,
          44.46666666666667
         ],
         "line": {
          "color": "blue"
         },
         "lon": [
          -110.21111111111111,
          -110.21111111111111,
          -110.32222222222222,
          -110.32222222222222,
          -110.21111111111111
         ],
         "name": "69",
         "showlegend": false,
         "type": "scattermapbox"
        },
        {
         "fill": "toself",
         "fillcolor": "rgba(135, 206, 235, 0.5)",
         "lat": [
          44.51111111111111,
          44.55555555555556,
          44.55555555555556,
          44.51111111111111,
          44.51111111111111
         ],
         "line": {
          "color": "blue"
         },
         "lon": [
          -110.21111111111111,
          -110.21111111111111,
          -110.32222222222222,
          -110.32222222222222,
          -110.21111111111111
         ],
         "name": "70",
         "showlegend": false,
         "type": "scattermapbox"
        },
        {
         "fill": "toself",
         "fillcolor": "rgba(135, 206, 235, 0.5)",
         "lat": [
          44.55555555555556,
          44.6,
          44.6,
          44.55555555555556,
          44.55555555555556
         ],
         "line": {
          "color": "blue"
         },
         "lon": [
          -110.21111111111111,
          -110.21111111111111,
          -110.32222222222222,
          -110.32222222222222,
          -110.21111111111111
         ],
         "name": "71",
         "showlegend": false,
         "type": "scattermapbox"
        },
        {
         "fill": "toself",
         "fillcolor": "rgba(135, 206, 235, 0.5)",
         "lat": [
          44.2,
          44.24444444444445,
          44.24444444444445,
          44.2,
          44.2
         ],
         "line": {
          "color": "blue"
         },
         "lon": [
          -110.1,
          -110.1,
          -110.21111111111111,
          -110.21111111111111,
          -110.1
         ],
         "name": "72",
         "showlegend": false,
         "type": "scattermapbox"
        },
        {
         "fill": "toself",
         "fillcolor": "rgba(135, 206, 235, 0.5)",
         "lat": [
          44.24444444444445,
          44.28888888888889,
          44.28888888888889,
          44.24444444444445,
          44.24444444444445
         ],
         "line": {
          "color": "blue"
         },
         "lon": [
          -110.1,
          -110.1,
          -110.21111111111111,
          -110.21111111111111,
          -110.1
         ],
         "name": "73",
         "showlegend": false,
         "type": "scattermapbox"
        },
        {
         "fill": "toself",
         "fillcolor": "rgba(135, 206, 235, 0.5)",
         "lat": [
          44.28888888888889,
          44.333333333333336,
          44.333333333333336,
          44.28888888888889,
          44.28888888888889
         ],
         "line": {
          "color": "blue"
         },
         "lon": [
          -110.1,
          -110.1,
          -110.21111111111111,
          -110.21111111111111,
          -110.1
         ],
         "name": "74",
         "showlegend": false,
         "type": "scattermapbox"
        },
        {
         "fill": "toself",
         "fillcolor": "rgba(135, 206, 235, 0.5)",
         "lat": [
          44.333333333333336,
          44.37777777777778,
          44.37777777777778,
          44.333333333333336,
          44.333333333333336
         ],
         "line": {
          "color": "blue"
         },
         "lon": [
          -110.1,
          -110.1,
          -110.21111111111111,
          -110.21111111111111,
          -110.1
         ],
         "name": "75",
         "showlegend": false,
         "type": "scattermapbox"
        },
        {
         "fill": "toself",
         "fillcolor": "rgba(135, 206, 235, 0.5)",
         "lat": [
          44.37777777777778,
          44.422222222222224,
          44.422222222222224,
          44.37777777777778,
          44.37777777777778
         ],
         "line": {
          "color": "blue"
         },
         "lon": [
          -110.1,
          -110.1,
          -110.21111111111111,
          -110.21111111111111,
          -110.1
         ],
         "name": "76",
         "showlegend": false,
         "type": "scattermapbox"
        },
        {
         "fill": "toself",
         "fillcolor": "rgba(135, 206, 235, 0.5)",
         "lat": [
          44.422222222222224,
          44.46666666666667,
          44.46666666666667,
          44.422222222222224,
          44.422222222222224
         ],
         "line": {
          "color": "blue"
         },
         "lon": [
          -110.1,
          -110.1,
          -110.21111111111111,
          -110.21111111111111,
          -110.1
         ],
         "name": "77",
         "showlegend": false,
         "type": "scattermapbox"
        },
        {
         "fill": "toself",
         "fillcolor": "rgba(135, 206, 235, 0.5)",
         "lat": [
          44.46666666666667,
          44.51111111111111,
          44.51111111111111,
          44.46666666666667,
          44.46666666666667
         ],
         "line": {
          "color": "blue"
         },
         "lon": [
          -110.1,
          -110.1,
          -110.21111111111111,
          -110.21111111111111,
          -110.1
         ],
         "name": "78",
         "showlegend": false,
         "type": "scattermapbox"
        },
        {
         "fill": "toself",
         "fillcolor": "rgba(135, 206, 235, 0.5)",
         "lat": [
          44.51111111111111,
          44.55555555555556,
          44.55555555555556,
          44.51111111111111,
          44.51111111111111
         ],
         "line": {
          "color": "blue"
         },
         "lon": [
          -110.1,
          -110.1,
          -110.21111111111111,
          -110.21111111111111,
          -110.1
         ],
         "name": "79",
         "showlegend": false,
         "type": "scattermapbox"
        },
        {
         "fill": "toself",
         "fillcolor": "rgba(135, 206, 235, 0.5)",
         "lat": [
          44.55555555555556,
          44.6,
          44.6,
          44.55555555555556,
          44.55555555555556
         ],
         "line": {
          "color": "blue"
         },
         "lon": [
          -110.1,
          -110.1,
          -110.21111111111111,
          -110.21111111111111,
          -110.1
         ],
         "name": "80",
         "showlegend": false,
         "type": "scattermapbox"
        },
        {
         "fill": "toself",
         "fillcolor": "rgba(128, 128, 128, 0.5)",
         "lat": [
          44.4488,
          44.599,
          44.5166,
          44.428,
          44.4488
         ],
         "line": {
          "color": "black"
         },
         "lon": [
          -110.839,
          -110.7052,
          -110.5339,
          -110.5885,
          -110.839
         ],
         "name": "Yellowstone National Park",
         "type": "scattermapbox"
        },
        {
         "fill": "toself",
         "fillcolor": "rgba(128, 128, 128, 0.5)",
         "lat": [
          37.7244,
          37.6962,
          37.7799,
          37.8456,
          37.8651,
          37.7244
         ],
         "line": {
          "color": "black"
         },
         "lon": [
          -119.655,
          -119.5964,
          -119.4893,
          -119.3029,
          -119.5383,
          -119.655
         ],
         "name": "Yosemite National Park",
         "type": "scattermapbox"
        },
        {
         "fill": "toself",
         "fillcolor": "rgba(128, 128, 128, 0.5)",
         "lat": [
          36.1336,
          36.2331,
          36.2861,
          36.1182,
          36.057,
          36.1336
         ],
         "line": {
          "color": "black"
         },
         "lon": [
          -112.1861,
          -112.2156,
          -112.0969,
          -111.8205,
          -112.1214,
          -112.1861
         ],
         "name": "Grand Canyon National Park",
         "type": "scattermapbox"
        },
        {
         "hoverinfo": "text",
         "lat": [
          45.2284,
          44.3946,
          44.4246,
          45.40394376966061,
          44.312799532119016,
          44.425805687816776,
          45.2815155301155,
          44.35002861973153,
          44.31873375622972,
          45.23118413074546,
          44.242083707725534,
          44.29313811105763,
          45.30783769570338,
          44.34423425862761,
          44.31747970289194,
          45.477791949913644,
          44.406307852969185,
          44.4306218246594
         ],
         "lon": [
          -110.7622,
          -110.8218,
          -110.1118,
          -110.57616849981925,
          -110.78124177861687,
          -109.90552343338386,
          -110.63559376317197,
          -110.83309963291467,
          -110.17666797420948,
          -110.71834758204696,
          -110.93947073816238,
          -110.1096102352974,
          -110.83996514905904,
          -110.83155320463439,
          -109.96356528215038,
          -110.63810537583386,
          -110.96414772193516,
          -110.03564847354673
         ],
         "marker": {
          "color": 0,
          "size": 10
         },
         "mode": "markers",
         "name": "Wolf",
         "showlegend": true,
         "text": [
          "Animal ID: A001<br>Scientific Name: Canis lupus<br>Redlist Category: Least Concern<br>Megafauna: False<br>Latitude: 45.2284<br>Longitude: -110.7622",
          "Animal ID: A001<br>Scientific Name: Canis lupus<br>Redlist Category: Least Concern<br>Megafauna: False<br>Latitude: 44.3946<br>Longitude: -110.8218",
          "Animal ID: A001<br>Scientific Name: Canis lupus<br>Redlist Category: Least Concern<br>Megafauna: False<br>Latitude: 44.4246<br>Longitude: -110.1118",
          "Animal ID: A001<br>Scientific Name: Canis lupus<br>Redlist Category: Least Concern<br>Megafauna: False<br>Latitude: 45.40394376966061<br>Longitude: -110.57616849981925",
          "Animal ID: A001<br>Scientific Name: Canis lupus<br>Redlist Category: Least Concern<br>Megafauna: False<br>Latitude: 44.312799532119016<br>Longitude: -110.78124177861687",
          "Animal ID: A001<br>Scientific Name: Canis lupus<br>Redlist Category: Least Concern<br>Megafauna: False<br>Latitude: 44.425805687816776<br>Longitude: -109.90552343338386",
          "Animal ID: A001<br>Scientific Name: Canis lupus<br>Redlist Category: Least Concern<br>Megafauna: False<br>Latitude: 45.2815155301155<br>Longitude: -110.63559376317197",
          "Animal ID: A001<br>Scientific Name: Canis lupus<br>Redlist Category: Least Concern<br>Megafauna: False<br>Latitude: 44.35002861973153<br>Longitude: -110.83309963291467",
          "Animal ID: A001<br>Scientific Name: Canis lupus<br>Redlist Category: Least Concern<br>Megafauna: False<br>Latitude: 44.31873375622972<br>Longitude: -110.17666797420948",
          "Animal ID: A001<br>Scientific Name: Canis lupus<br>Redlist Category: Least Concern<br>Megafauna: False<br>Latitude: 45.23118413074546<br>Longitude: -110.71834758204696",
          "Animal ID: A001<br>Scientific Name: Canis lupus<br>Redlist Category: Least Concern<br>Megafauna: False<br>Latitude: 44.242083707725534<br>Longitude: -110.93947073816238",
          "Animal ID: A001<br>Scientific Name: Canis lupus<br>Redlist Category: Least Concern<br>Megafauna: False<br>Latitude: 44.29313811105763<br>Longitude: -110.1096102352974",
          "Animal ID: A001<br>Scientific Name: Canis lupus<br>Redlist Category: Least Concern<br>Megafauna: False<br>Latitude: 45.30783769570338<br>Longitude: -110.83996514905904",
          "Animal ID: A001<br>Scientific Name: Canis lupus<br>Redlist Category: Least Concern<br>Megafauna: False<br>Latitude: 44.34423425862761<br>Longitude: -110.83155320463439",
          "Animal ID: A001<br>Scientific Name: Canis lupus<br>Redlist Category: Least Concern<br>Megafauna: False<br>Latitude: 44.31747970289194<br>Longitude: -109.96356528215038",
          "Animal ID: A001<br>Scientific Name: Canis lupus<br>Redlist Category: Least Concern<br>Megafauna: False<br>Latitude: 45.477791949913644<br>Longitude: -110.63810537583386",
          "Animal ID: A001<br>Scientific Name: Canis lupus<br>Redlist Category: Least Concern<br>Megafauna: False<br>Latitude: 44.406307852969185<br>Longitude: -110.96414772193516",
          "Animal ID: A001<br>Scientific Name: Canis lupus<br>Redlist Category: Least Concern<br>Megafauna: False<br>Latitude: 44.4306218246594<br>Longitude: -110.03564847354673"
         ],
         "type": "scattermapbox"
        },
        {
         "hoverinfo": "text",
         "lat": [
          44.576,
          44.5361,
          44.2221,
          44.59045316082347,
          44.515383666530255,
          44.20621968157634,
          44.28346643361653,
          44.73227748148939,
          44.11556547007197,
          44.525563104796305,
          44.69047337959254,
          44.41416458275538,
          44.655365957568975,
          44.69772094724606,
          44.319651255253795,
          44.65420387321512,
          44.49304869910558,
          44.31051962905861
         ],
         "lon": [
          -110.6763,
          -110.7078,
          -110.8182,
          -110.56900631340376,
          -110.63915562451272,
          -110.71010795747833,
          -110.60508329386995,
          -110.82275177852586,
          -110.70857528827456,
          -110.5543081472947,
          -110.41402937979265,
          -110.8662884170047,
          -110.54915518201669,
          -110.83554305475879,
          -110.86444014740972,
          -110.58777449439445,
          -110.80844714638226,
          -110.79058820481897
         ],
         "marker": {
          "color": 1,
          "size": 10
         },
         "mode": "markers",
         "name": "Bison",
         "showlegend": true,
         "text": [
          "Animal ID: A002<br>Scientific Name: Bison bison<br>Redlist Category: Vulnerable<br>Megafauna: True<br>Latitude: 44.576<br>Longitude: -110.6763",
          "Animal ID: A002<br>Scientific Name: Bison bison<br>Redlist Category: Vulnerable<br>Megafauna: True<br>Latitude: 44.5361<br>Longitude: -110.7078",
          "Animal ID: A002<br>Scientific Name: Bison bison<br>Redlist Category: Vulnerable<br>Megafauna: True<br>Latitude: 44.2221<br>Longitude: -110.8182",
          "Animal ID: A002<br>Scientific Name: Bison bison<br>Redlist Category: Vulnerable<br>Megafauna: True<br>Latitude: 44.59045316082347<br>Longitude: -110.56900631340376",
          "Animal ID: A002<br>Scientific Name: Bison bison<br>Redlist Category: Vulnerable<br>Megafauna: True<br>Latitude: 44.515383666530255<br>Longitude: -110.63915562451272",
          "Animal ID: A002<br>Scientific Name: Bison bison<br>Redlist Category: Vulnerable<br>Megafauna: True<br>Latitude: 44.20621968157634<br>Longitude: -110.71010795747833",
          "Animal ID: A002<br>Scientific Name: Bison bison<br>Redlist Category: Vulnerable<br>Megafauna: True<br>Latitude: 44.28346643361653<br>Longitude: -110.60508329386995",
          "Animal ID: A002<br>Scientific Name: Bison bison<br>Redlist Category: Vulnerable<br>Megafauna: True<br>Latitude: 44.73227748148939<br>Longitude: -110.82275177852586",
          "Animal ID: A002<br>Scientific Name: Bison bison<br>Redlist Category: Vulnerable<br>Megafauna: True<br>Latitude: 44.11556547007197<br>Longitude: -110.70857528827456",
          "Animal ID: A002<br>Scientific Name: Bison bison<br>Redlist Category: Vulnerable<br>Megafauna: True<br>Latitude: 44.525563104796305<br>Longitude: -110.5543081472947",
          "Animal ID: A002<br>Scientific Name: Bison bison<br>Redlist Category: Vulnerable<br>Megafauna: True<br>Latitude: 44.69047337959254<br>Longitude: -110.41402937979265",
          "Animal ID: A002<br>Scientific Name: Bison bison<br>Redlist Category: Vulnerable<br>Megafauna: True<br>Latitude: 44.41416458275538<br>Longitude: -110.8662884170047",
          "Animal ID: A002<br>Scientific Name: Bison bison<br>Redlist Category: Vulnerable<br>Megafauna: True<br>Latitude: 44.655365957568975<br>Longitude: -110.54915518201669",
          "Animal ID: A002<br>Scientific Name: Bison bison<br>Redlist Category: Vulnerable<br>Megafauna: True<br>Latitude: 44.69772094724606<br>Longitude: -110.83554305475879",
          "Animal ID: A002<br>Scientific Name: Bison bison<br>Redlist Category: Vulnerable<br>Megafauna: True<br>Latitude: 44.319651255253795<br>Longitude: -110.86444014740972",
          "Animal ID: A002<br>Scientific Name: Bison bison<br>Redlist Category: Vulnerable<br>Megafauna: True<br>Latitude: 44.65420387321512<br>Longitude: -110.58777449439445",
          "Animal ID: A002<br>Scientific Name: Bison bison<br>Redlist Category: Vulnerable<br>Megafauna: True<br>Latitude: 44.49304869910558<br>Longitude: -110.80844714638226",
          "Animal ID: A002<br>Scientific Name: Bison bison<br>Redlist Category: Vulnerable<br>Megafauna: True<br>Latitude: 44.31051962905861<br>Longitude: -110.79058820481897"
         ],
         "type": "scattermapbox"
        },
        {
         "hoverinfo": "text",
         "lat": [
          44.4232,
          44.5472,
          44.5519,
          44.556320492450084,
          44.611659472055166,
          44.34722686484955,
          44.40404248791967,
          44.59620507854211,
          44.35913988457344,
          44.495222074590345,
          44.51366052759663,
          44.606429583035414,
          44.435814684730396,
          44.52985453203617,
          44.6176975574846,
          44.46156251522014,
          44.6467196645714,
          44.361330538459974
         ],
         "lon": [
          -111.1061,
          -110.7893,
          -110.9812,
          -110.99952224248756,
          -110.78091510640935,
          -110.99483182664008,
          -111.11992376545336,
          -110.60067205556926,
          -111.04975492683529,
          -111.10780094884623,
          -110.83641578552589,
          -111.09653311829236,
          -111.18089168193129,
          -110.90756246511351,
          -111.13301559114642,
          -111.24996251556645,
          -111.00240489373725,
          -110.98541624022572
         ],
         "marker": {
          "color": 2,
          "size": 10
         },
         "mode": "markers",
         "name": "Elk",
         "showlegend": true,
         "text": [
          "Animal ID: A003<br>Scientific Name: Cervus canadensis<br>Redlist Category: Least Concern<br>Megafauna: True<br>Latitude: 44.4232<br>Longitude: -111.1061",
          "Animal ID: A003<br>Scientific Name: Cervus canadensis<br>Redlist Category: Least Concern<br>Megafauna: True<br>Latitude: 44.5472<br>Longitude: -110.7893",
          "Animal ID: A003<br>Scientific Name: Cervus canadensis<br>Redlist Category: Least Concern<br>Megafauna: True<br>Latitude: 44.5519<br>Longitude: -110.9812",
          "Animal ID: A003<br>Scientific Name: Cervus canadensis<br>Redlist Category: Least Concern<br>Megafauna: True<br>Latitude: 44.556320492450084<br>Longitude: -110.99952224248756",
          "Animal ID: A003<br>Scientific Name: Cervus canadensis<br>Redlist Category: Least Concern<br>Megafauna: True<br>Latitude: 44.611659472055166<br>Longitude: -110.78091510640935",
          "Animal ID: A003<br>Scientific Name: Cervus canadensis<br>Redlist Category: Least Concern<br>Megafauna: True<br>Latitude: 44.34722686484955<br>Longitude: -110.99483182664008",
          "Animal ID: A003<br>Scientific Name: Cervus canadensis<br>Redlist Category: Least Concern<br>Megafauna: True<br>Latitude: 44.40404248791967<br>Longitude: -111.11992376545336",
          "Animal ID: A003<br>Scientific Name: Cervus canadensis<br>Redlist Category: Least Concern<br>Megafauna: True<br>Latitude: 44.59620507854211<br>Longitude: -110.60067205556926",
          "Animal ID: A003<br>Scientific Name: Cervus canadensis<br>Redlist Category: Least Concern<br>Megafauna: True<br>Latitude: 44.35913988457344<br>Longitude: -111.04975492683529",
          "Animal ID: A003<br>Scientific Name: Cervus canadensis<br>Redlist Category: Least Concern<br>Megafauna: True<br>Latitude: 44.495222074590345<br>Longitude: -111.10780094884623",
          "Animal ID: A003<br>Scientific Name: Cervus canadensis<br>Redlist Category: Least Concern<br>Megafauna: True<br>Latitude: 44.51366052759663<br>Longitude: -110.83641578552589",
          "Animal ID: A003<br>Scientific Name: Cervus canadensis<br>Redlist Category: Least Concern<br>Megafauna: True<br>Latitude: 44.606429583035414<br>Longitude: -111.09653311829236",
          "Animal ID: A003<br>Scientific Name: Cervus canadensis<br>Redlist Category: Least Concern<br>Megafauna: True<br>Latitude: 44.435814684730396<br>Longitude: -111.18089168193129",
          "Animal ID: A003<br>Scientific Name: Cervus canadensis<br>Redlist Category: Least Concern<br>Megafauna: True<br>Latitude: 44.52985453203617<br>Longitude: -110.90756246511351",
          "Animal ID: A003<br>Scientific Name: Cervus canadensis<br>Redlist Category: Least Concern<br>Megafauna: True<br>Latitude: 44.6176975574846<br>Longitude: -111.13301559114642",
          "Animal ID: A003<br>Scientific Name: Cervus canadensis<br>Redlist Category: Least Concern<br>Megafauna: True<br>Latitude: 44.46156251522014<br>Longitude: -111.24996251556645",
          "Animal ID: A003<br>Scientific Name: Cervus canadensis<br>Redlist Category: Least Concern<br>Megafauna: True<br>Latitude: 44.6467196645714<br>Longitude: -111.00240489373725",
          "Animal ID: A003<br>Scientific Name: Cervus canadensis<br>Redlist Category: Least Concern<br>Megafauna: True<br>Latitude: 44.361330538459974<br>Longitude: -110.98541624022572"
         ],
         "type": "scattermapbox"
        },
        {
         "hoverinfo": "text",
         "lat": [
          37.9058,
          37.766,
          37.8601,
          37.90776515620409,
          37.91852997134804,
          37.91838912040377,
          37.73433493604156,
          37.59406067383653,
          37.93086053102806,
          37.8707088685418,
          37.87480441820162,
          37.98330809524632,
          38.00638816427536,
          37.770589282986954,
          37.87256923680025,
          38.01480057256719,
          37.913595687089945,
          37.90532990624728
         ],
         "lon": [
          -119.7857,
          -119.6363,
          -119.5353,
          -119.849474984859,
          -119.63756758360483,
          -119.64661447612606,
          -119.82575866118475,
          -119.58423403431819,
          -119.6898546952159,
          -119.81184328059166,
          -119.58000282374661,
          -119.41918029270406,
          -119.84469454469772,
          -119.62889685874204,
          -119.64101794908096,
          -119.71954930135662,
          -119.6665703180332,
          -119.42343814370646
         ],
         "marker": {
          "color": 3,
          "size": 10
         },
         "mode": "markers",
         "name": "Sierra Nevada bighorn sheep",
         "showlegend": true,
         "text": [
          "Animal ID: A004<br>Scientific Name: Ovis canadensis sierrae<br>Redlist Category: Endangered<br>Megafauna: False<br>Latitude: 37.9058<br>Longitude: -119.7857",
          "Animal ID: A004<br>Scientific Name: Ovis canadensis sierrae<br>Redlist Category: Endangered<br>Megafauna: False<br>Latitude: 37.766<br>Longitude: -119.6363",
          "Animal ID: A004<br>Scientific Name: Ovis canadensis sierrae<br>Redlist Category: Endangered<br>Megafauna: False<br>Latitude: 37.8601<br>Longitude: -119.5353",
          "Animal ID: A004<br>Scientific Name: Ovis canadensis sierrae<br>Redlist Category: Endangered<br>Megafauna: False<br>Latitude: 37.90776515620409<br>Longitude: -119.849474984859",
          "Animal ID: A004<br>Scientific Name: Ovis canadensis sierrae<br>Redlist Category: Endangered<br>Megafauna: False<br>Latitude: 37.91852997134804<br>Longitude: -119.63756758360483",
          "Animal ID: A004<br>Scientific Name: Ovis canadensis sierrae<br>Redlist Category: Endangered<br>Megafauna: False<br>Latitude: 37.91838912040377<br>Longitude: -119.64661447612606",
          "Animal ID: A004<br>Scientific Name: Ovis canadensis sierrae<br>Redlist Category: Endangered<br>Megafauna: False<br>Latitude: 37.73433493604156<br>Longitude: -119.82575866118475",
          "Animal ID: A004<br>Scientific Name: Ovis canadensis sierrae<br>Redlist Category: Endangered<br>Megafauna: False<br>Latitude: 37.59406067383653<br>Longitude: -119.58423403431819",
          "Animal ID: A004<br>Scientific Name: Ovis canadensis sierrae<br>Redlist Category: Endangered<br>Megafauna: False<br>Latitude: 37.93086053102806<br>Longitude: -119.6898546952159",
          "Animal ID: A004<br>Scientific Name: Ovis canadensis sierrae<br>Redlist Category: Endangered<br>Megafauna: False<br>Latitude: 37.8707088685418<br>Longitude: -119.81184328059166",
          "Animal ID: A004<br>Scientific Name: Ovis canadensis sierrae<br>Redlist Category: Endangered<br>Megafauna: False<br>Latitude: 37.87480441820162<br>Longitude: -119.58000282374661",
          "Animal ID: A004<br>Scientific Name: Ovis canadensis sierrae<br>Redlist Category: Endangered<br>Megafauna: False<br>Latitude: 37.98330809524632<br>Longitude: -119.41918029270406",
          "Animal ID: A004<br>Scientific Name: Ovis canadensis sierrae<br>Redlist Category: Endangered<br>Megafauna: False<br>Latitude: 38.00638816427536<br>Longitude: -119.84469454469772",
          "Animal ID: A004<br>Scientific Name: Ovis canadensis sierrae<br>Redlist Category: Endangered<br>Megafauna: False<br>Latitude: 37.770589282986954<br>Longitude: -119.62889685874204",
          "Animal ID: A004<br>Scientific Name: Ovis canadensis sierrae<br>Redlist Category: Endangered<br>Megafauna: False<br>Latitude: 37.87256923680025<br>Longitude: -119.64101794908096",
          "Animal ID: A004<br>Scientific Name: Ovis canadensis sierrae<br>Redlist Category: Endangered<br>Megafauna: False<br>Latitude: 38.01480057256719<br>Longitude: -119.71954930135662",
          "Animal ID: A004<br>Scientific Name: Ovis canadensis sierrae<br>Redlist Category: Endangered<br>Megafauna: False<br>Latitude: 37.913595687089945<br>Longitude: -119.6665703180332",
          "Animal ID: A004<br>Scientific Name: Ovis canadensis sierrae<br>Redlist Category: Endangered<br>Megafauna: False<br>Latitude: 37.90532990624728<br>Longitude: -119.42343814370646"
         ],
         "type": "scattermapbox"
        },
        {
         "hoverinfo": "text",
         "lat": [
          37.7896,
          37.8626,
          37.6181,
          37.65235009603704,
          37.80223948229645,
          37.67898392336359,
          37.86961580963546,
          37.88195742506145,
          37.610324377767306,
          37.76486069780724,
          37.66604593311694,
          37.63297711279807,
          37.74836295373805,
          37.86931975381025,
          37.49654917220137,
          37.77120903686853,
          37.881300336428,
          37.60870678209668
         ],
         "lon": [
          -119.6426,
          -119.7777,
          -119.6619,
          -119.59118475827995,
          -119.652958619999,
          -119.67314694035353,
          -119.45721441956655,
          -119.91845315391951,
          -119.67918601773097,
          -119.85998788224855,
          -119.7312460926968,
          -119.62826208509584,
          -119.69732975596301,
          -119.6892446680809,
          -119.69688349503312,
          -119.5225208957068,
          -119.60109204653591,
          -119.48569758264638
         ],
         "marker": {
          "color": 4,
          "size": 10
         },
         "mode": "markers",
         "name": "Sierra Nevada red fox",
         "showlegend": true,
         "text": [
          "Animal ID: A005<br>Scientific Name: Vulpes vulpes necator<br>Redlist Category: Critically Endangered<br>Megafauna: False<br>Latitude: 37.7896<br>Longitude: -119.6426",
          "Animal ID: A005<br>Scientific Name: Vulpes vulpes necator<br>Redlist Category: Critically Endangered<br>Megafauna: False<br>Latitude: 37.8626<br>Longitude: -119.7777",
          "Animal ID: A005<br>Scientific Name: Vulpes vulpes necator<br>Redlist Category: Critically Endangered<br>Megafauna: False<br>Latitude: 37.6181<br>Longitude: -119.6619",
          "Animal ID: A005<br>Scientific Name: Vulpes vulpes necator<br>Redlist Category: Critically Endangered<br>Megafauna: False<br>Latitude: 37.65235009603704<br>Longitude: -119.59118475827995",
          "Animal ID: A005<br>Scientific Name: Vulpes vulpes necator<br>Redlist Category: Critically Endangered<br>Megafauna: False<br>Latitude: 37.80223948229645<br>Longitude: -119.652958619999",
          "Animal ID: A005<br>Scientific Name: Vulpes vulpes necator<br>Redlist Category: Critically Endangered<br>Megafauna: False<br>Latitude: 37.67898392336359<br>Longitude: -119.67314694035353",
          "Animal ID: A005<br>Scientific Name: Vulpes vulpes necator<br>Redlist Category: Critically Endangered<br>Megafauna: False<br>Latitude: 37.86961580963546<br>Longitude: -119.45721441956655",
          "Animal ID: A005<br>Scientific Name: Vulpes vulpes necator<br>Redlist Category: Critically Endangered<br>Megafauna: False<br>Latitude: 37.88195742506145<br>Longitude: -119.91845315391951",
          "Animal ID: A005<br>Scientific Name: Vulpes vulpes necator<br>Redlist Category: Critically Endangered<br>Megafauna: False<br>Latitude: 37.610324377767306<br>Longitude: -119.67918601773097",
          "Animal ID: A005<br>Scientific Name: Vulpes vulpes necator<br>Redlist Category: Critically Endangered<br>Megafauna: False<br>Latitude: 37.76486069780724<br>Longitude: -119.85998788224855",
          "Animal ID: A005<br>Scientific Name: Vulpes vulpes necator<br>Redlist Category: Critically Endangered<br>Megafauna: False<br>Latitude: 37.66604593311694<br>Longitude: -119.7312460926968",
          "Animal ID: A005<br>Scientific Name: Vulpes vulpes necator<br>Redlist Category: Critically Endangered<br>Megafauna: False<br>Latitude: 37.63297711279807<br>Longitude: -119.62826208509584",
          "Animal ID: A005<br>Scientific Name: Vulpes vulpes necator<br>Redlist Category: Critically Endangered<br>Megafauna: False<br>Latitude: 37.74836295373805<br>Longitude: -119.69732975596301",
          "Animal ID: A005<br>Scientific Name: Vulpes vulpes necator<br>Redlist Category: Critically Endangered<br>Megafauna: False<br>Latitude: 37.86931975381025<br>Longitude: -119.6892446680809",
          "Animal ID: A005<br>Scientific Name: Vulpes vulpes necator<br>Redlist Category: Critically Endangered<br>Megafauna: False<br>Latitude: 37.49654917220137<br>Longitude: -119.69688349503312",
          "Animal ID: A005<br>Scientific Name: Vulpes vulpes necator<br>Redlist Category: Critically Endangered<br>Megafauna: False<br>Latitude: 37.77120903686853<br>Longitude: -119.5225208957068",
          "Animal ID: A005<br>Scientific Name: Vulpes vulpes necator<br>Redlist Category: Critically Endangered<br>Megafauna: False<br>Latitude: 37.881300336428<br>Longitude: -119.60109204653591",
          "Animal ID: A005<br>Scientific Name: Vulpes vulpes necator<br>Redlist Category: Critically Endangered<br>Megafauna: False<br>Latitude: 37.60870678209668<br>Longitude: -119.48569758264638"
         ],
         "type": "scattermapbox"
        },
        {
         "hoverinfo": "text",
         "lat": [
          37.8829,
          37.8636,
          37.8681,
          37.90710890654279,
          37.7949167615148,
          37.94375417864019,
          37.980446096399184,
          37.85090145114919,
          37.861869385435064,
          37.81428510640483,
          37.837662830258594,
          37.87496212518173,
          37.648080347631755,
          37.78999018669788,
          37.92045878239707,
          37.72077901610133,
          37.815909148887805,
          37.91687023138365
         ],
         "lon": [
          -119.7608,
          -119.628,
          -119.6255,
          -119.76970567309938,
          -119.65045298881651,
          -119.75391741132324,
          -119.79975052421838,
          -119.54370822793986,
          -119.374903386598,
          -119.7048597065485,
          -119.66325933997838,
          -119.69114304628188,
          -119.93433876915358,
          -119.52764129668827,
          -119.57946597655378,
          -119.84896495157189,
          -119.58402045656578,
          -119.5123368622553
         ],
         "marker": {
          "color": 5,
          "size": 10
         },
         "mode": "markers",
         "name": "Bobcat",
         "showlegend": true,
         "text": [
          "Animal ID: A006<br>Scientific Name: Lynx rufus<br>Redlist Category: Least Concern<br>Megafauna: True<br>Latitude: 37.8829<br>Longitude: -119.7608",
          "Animal ID: A006<br>Scientific Name: Lynx rufus<br>Redlist Category: Least Concern<br>Megafauna: True<br>Latitude: 37.8636<br>Longitude: -119.628",
          "Animal ID: A006<br>Scientific Name: Lynx rufus<br>Redlist Category: Least Concern<br>Megafauna: True<br>Latitude: 37.8681<br>Longitude: -119.6255",
          "Animal ID: A006<br>Scientific Name: Lynx rufus<br>Redlist Category: Least Concern<br>Megafauna: True<br>Latitude: 37.90710890654279<br>Longitude: -119.76970567309938",
          "Animal ID: A006<br>Scientific Name: Lynx rufus<br>Redlist Category: Least Concern<br>Megafauna: True<br>Latitude: 37.7949167615148<br>Longitude: -119.65045298881651",
          "Animal ID: A006<br>Scientific Name: Lynx rufus<br>Redlist Category: Least Concern<br>Megafauna: True<br>Latitude: 37.94375417864019<br>Longitude: -119.75391741132324",
          "Animal ID: A006<br>Scientific Name: Lynx rufus<br>Redlist Category: Least Concern<br>Megafauna: True<br>Latitude: 37.980446096399184<br>Longitude: -119.79975052421838",
          "Animal ID: A006<br>Scientific Name: Lynx rufus<br>Redlist Category: Least Concern<br>Megafauna: True<br>Latitude: 37.85090145114919<br>Longitude: -119.54370822793986",
          "Animal ID: A006<br>Scientific Name: Lynx rufus<br>Redlist Category: Least Concern<br>Megafauna: True<br>Latitude: 37.861869385435064<br>Longitude: -119.374903386598",
          "Animal ID: A006<br>Scientific Name: Lynx rufus<br>Redlist Category: Least Concern<br>Megafauna: True<br>Latitude: 37.81428510640483<br>Longitude: -119.7048597065485",
          "Animal ID: A006<br>Scientific Name: Lynx rufus<br>Redlist Category: Least Concern<br>Megafauna: True<br>Latitude: 37.837662830258594<br>Longitude: -119.66325933997838",
          "Animal ID: A006<br>Scientific Name: Lynx rufus<br>Redlist Category: Least Concern<br>Megafauna: True<br>Latitude: 37.87496212518173<br>Longitude: -119.69114304628188",
          "Animal ID: A006<br>Scientific Name: Lynx rufus<br>Redlist Category: Least Concern<br>Megafauna: True<br>Latitude: 37.648080347631755<br>Longitude: -119.93433876915358",
          "Animal ID: A006<br>Scientific Name: Lynx rufus<br>Redlist Category: Least Concern<br>Megafauna: True<br>Latitude: 37.78999018669788<br>Longitude: -119.52764129668827",
          "Animal ID: A006<br>Scientific Name: Lynx rufus<br>Redlist Category: Least Concern<br>Megafauna: True<br>Latitude: 37.92045878239707<br>Longitude: -119.57946597655378",
          "Animal ID: A006<br>Scientific Name: Lynx rufus<br>Redlist Category: Least Concern<br>Megafauna: True<br>Latitude: 37.72077901610133<br>Longitude: -119.84896495157189",
          "Animal ID: A006<br>Scientific Name: Lynx rufus<br>Redlist Category: Least Concern<br>Megafauna: True<br>Latitude: 37.815909148887805<br>Longitude: -119.58402045656578",
          "Animal ID: A006<br>Scientific Name: Lynx rufus<br>Redlist Category: Least Concern<br>Megafauna: True<br>Latitude: 37.91687023138365<br>Longitude: -119.5123368622553"
         ],
         "type": "scattermapbox"
        },
        {
         "hoverinfo": "text",
         "lat": [
          36.372,
          36.6622,
          36.2261,
          36.26397056456099,
          36.58913067928438,
          36.266161801035054,
          36.526650620314626,
          36.91329606452577,
          35.98398770014302,
          36.45245186863077,
          36.64406340911533,
          36.13094425283256,
          36.418882505725314,
          36.563365010561284,
          36.21718959541811,
          36.525765915256656,
          36.613154353642074,
          36.13871958112146
         ],
         "lon": [
          -113.1627,
          -112.2308,
          -112.1831,
          -113.21193434307746,
          -112.23087170017679,
          -112.09494838239584,
          -113.21582718248598,
          -112.22334546782749,
          -112.34621778617243,
          -113.27244512241897,
          -112.29685983932637,
          -112.26185733879204,
          -112.92270571856184,
          -112.1829129593053,
          -112.15097931630717,
          -113.07804475188851,
          -112.32303078267347,
          -112.48703823170624
         ],
         "marker": {
          "color": 6,
          "size": 10
         },
         "mode": "markers",
         "name": "Mule deer",
         "showlegend": true,
         "text": [
          "Animal ID: A007<br>Scientific Name: Odocoileus hemionus<br>Redlist Category: Least Concern<br>Megafauna: True<br>Latitude: 36.372<br>Longitude: -113.1627",
          "Animal ID: A007<br>Scientific Name: Odocoileus hemionus<br>Redlist Category: Least Concern<br>Megafauna: True<br>Latitude: 36.6622<br>Longitude: -112.2308",
          "Animal ID: A007<br>Scientific Name: Odocoileus hemionus<br>Redlist Category: Least Concern<br>Megafauna: True<br>Latitude: 36.2261<br>Longitude: -112.1831",
          "Animal ID: A007<br>Scientific Name: Odocoileus hemionus<br>Redlist Category: Least Concern<br>Megafauna: True<br>Latitude: 36.26397056456099<br>Longitude: -113.21193434307746",
          "Animal ID: A007<br>Scientific Name: Odocoileus hemionus<br>Redlist Category: Least Concern<br>Megafauna: True<br>Latitude: 36.58913067928438<br>Longitude: -112.23087170017679",
          "Animal ID: A007<br>Scientific Name: Odocoileus hemionus<br>Redlist Category: Least Concern<br>Megafauna: True<br>Latitude: 36.266161801035054<br>Longitude: -112.09494838239584",
          "Animal ID: A007<br>Scientific Name: Odocoileus hemionus<br>Redlist Category: Least Concern<br>Megafauna: True<br>Latitude: 36.526650620314626<br>Longitude: -113.21582718248598",
          "Animal ID: A007<br>Scientific Name: Odocoileus hemionus<br>Redlist Category: Least Concern<br>Megafauna: True<br>Latitude: 36.91329606452577<br>Longitude: -112.22334546782749",
          "Animal ID: A007<br>Scientific Name: Odocoileus hemionus<br>Redlist Category: Least Concern<br>Megafauna: True<br>Latitude: 35.98398770014302<br>Longitude: -112.34621778617243",
          "Animal ID: A007<br>Scientific Name: Odocoileus hemionus<br>Redlist Category: Least Concern<br>Megafauna: True<br>Latitude: 36.45245186863077<br>Longitude: -113.27244512241897",
          "Animal ID: A007<br>Scientific Name: Odocoileus hemionus<br>Redlist Category: Least Concern<br>Megafauna: True<br>Latitude: 36.64406340911533<br>Longitude: -112.29685983932637",
          "Animal ID: A007<br>Scientific Name: Odocoileus hemionus<br>Redlist Category: Least Concern<br>Megafauna: True<br>Latitude: 36.13094425283256<br>Longitude: -112.26185733879204",
          "Animal ID: A007<br>Scientific Name: Odocoileus hemionus<br>Redlist Category: Least Concern<br>Megafauna: True<br>Latitude: 36.418882505725314<br>Longitude: -112.92270571856184",
          "Animal ID: A007<br>Scientific Name: Odocoileus hemionus<br>Redlist Category: Least Concern<br>Megafauna: True<br>Latitude: 36.563365010561284<br>Longitude: -112.1829129593053",
          "Animal ID: A007<br>Scientific Name: Odocoileus hemionus<br>Redlist Category: Least Concern<br>Megafauna: True<br>Latitude: 36.21718959541811<br>Longitude: -112.15097931630717",
          "Animal ID: A007<br>Scientific Name: Odocoileus hemionus<br>Redlist Category: Least Concern<br>Megafauna: True<br>Latitude: 36.525765915256656<br>Longitude: -113.07804475188851",
          "Animal ID: A007<br>Scientific Name: Odocoileus hemionus<br>Redlist Category: Least Concern<br>Megafauna: True<br>Latitude: 36.613154353642074<br>Longitude: -112.32303078267347",
          "Animal ID: A007<br>Scientific Name: Odocoileus hemionus<br>Redlist Category: Least Concern<br>Megafauna: True<br>Latitude: 36.13871958112146<br>Longitude: -112.48703823170624"
         ],
         "type": "scattermapbox"
        },
        {
         "hoverinfo": "text",
         "lat": [
          36.6193,
          36.6016,
          36.5492,
          36.59320410857596,
          36.69956402892489,
          36.64308551747246,
          36.566832130795675,
          36.59204813220989,
          36.58432869810483,
          36.652983535265406,
          36.583293417118334,
          36.559908579452916,
          36.68660411181372,
          36.4595914664512,
          36.60189660293371,
          36.53899891724605,
          36.600130594569386,
          36.715175747758195
         ],
         "lon": [
          -112.3388,
          -112.3256,
          -112.7439,
          -112.34773239902562,
          -112.32163967709154,
          -112.80695651153275,
          -112.3970412605849,
          -112.19428249856173,
          -112.82787201345239,
          -112.2428691552404,
          -112.43832874086698,
          -112.78563084834425,
          -112.24802229982072,
          -112.2113225803452,
          -112.80496888383925,
          -112.13624201488317,
          -112.27692617073231,
          -112.76967198848492
         ],
         "marker": {
          "color": 7,
          "size": 10
         },
         "mode": "markers",
         "name": "Desert bighorn sheep",
         "showlegend": true,
         "text": [
          "Animal ID: A008<br>Scientific Name: Ovis canadensis nelsoni<br>Redlist Category: Near Threatened<br>Megafauna: True<br>Latitude: 36.6193<br>Longitude: -112.3388",
          "Animal ID: A008<br>Scientific Name: Ovis canadensis nelsoni<br>Redlist Category: Near Threatened<br>Megafauna: True<br>Latitude: 36.6016<br>Longitude: -112.3256",
          "Animal ID: A008<br>Scientific Name: Ovis canadensis nelsoni<br>Redlist Category: Near Threatened<br>Megafauna: True<br>Latitude: 36.5492<br>Longitude: -112.7439",
          "Animal ID: A008<br>Scientific Name: Ovis canadensis nelsoni<br>Redlist Category: Near Threatened<br>Megafauna: True<br>Latitude: 36.59320410857596<br>Longitude: -112.34773239902562",
          "Animal ID: A008<br>Scientific Name: Ovis canadensis nelsoni<br>Redlist Category: Near Threatened<br>Megafauna: True<br>Latitude: 36.69956402892489<br>Longitude: -112.32163967709154",
          "Animal ID: A008<br>Scientific Name: Ovis canadensis nelsoni<br>Redlist Category: Near Threatened<br>Megafauna: True<br>Latitude: 36.64308551747246<br>Longitude: -112.80695651153275",
          "Animal ID: A008<br>Scientific Name: Ovis canadensis nelsoni<br>Redlist Category: Near Threatened<br>Megafauna: True<br>Latitude: 36.566832130795675<br>Longitude: -112.3970412605849",
          "Animal ID: A008<br>Scientific Name: Ovis canadensis nelsoni<br>Redlist Category: Near Threatened<br>Megafauna: True<br>Latitude: 36.59204813220989<br>Longitude: -112.19428249856173",
          "Animal ID: A008<br>Scientific Name: Ovis canadensis nelsoni<br>Redlist Category: Near Threatened<br>Megafauna: True<br>Latitude: 36.58432869810483<br>Longitude: -112.82787201345239",
          "Animal ID: A008<br>Scientific Name: Ovis canadensis nelsoni<br>Redlist Category: Near Threatened<br>Megafauna: True<br>Latitude: 36.652983535265406<br>Longitude: -112.2428691552404",
          "Animal ID: A008<br>Scientific Name: Ovis canadensis nelsoni<br>Redlist Category: Near Threatened<br>Megafauna: True<br>Latitude: 36.583293417118334<br>Longitude: -112.43832874086698",
          "Animal ID: A008<br>Scientific Name: Ovis canadensis nelsoni<br>Redlist Category: Near Threatened<br>Megafauna: True<br>Latitude: 36.559908579452916<br>Longitude: -112.78563084834425",
          "Animal ID: A008<br>Scientific Name: Ovis canadensis nelsoni<br>Redlist Category: Near Threatened<br>Megafauna: True<br>Latitude: 36.68660411181372<br>Longitude: -112.24802229982072",
          "Animal ID: A008<br>Scientific Name: Ovis canadensis nelsoni<br>Redlist Category: Near Threatened<br>Megafauna: True<br>Latitude: 36.4595914664512<br>Longitude: -112.2113225803452",
          "Animal ID: A008<br>Scientific Name: Ovis canadensis nelsoni<br>Redlist Category: Near Threatened<br>Megafauna: True<br>Latitude: 36.60189660293371<br>Longitude: -112.80496888383925",
          "Animal ID: A008<br>Scientific Name: Ovis canadensis nelsoni<br>Redlist Category: Near Threatened<br>Megafauna: True<br>Latitude: 36.53899891724605<br>Longitude: -112.13624201488317",
          "Animal ID: A008<br>Scientific Name: Ovis canadensis nelsoni<br>Redlist Category: Near Threatened<br>Megafauna: True<br>Latitude: 36.600130594569386<br>Longitude: -112.27692617073231",
          "Animal ID: A008<br>Scientific Name: Ovis canadensis nelsoni<br>Redlist Category: Near Threatened<br>Megafauna: True<br>Latitude: 36.715175747758195<br>Longitude: -112.76967198848492"
         ],
         "type": "scattermapbox"
        },
        {
         "hoverinfo": "text",
         "lat": [
          36.3388,
          36.4868,
          36.6282,
          36.43100043599815,
          36.47367449672423,
          36.57025822088406,
          36.40186047130637,
          36.39068206460885,
          36.721265212243054,
          36.4113245853972,
          36.47696528092176,
          36.5568872827404,
          36.45480967919143,
          36.684378963172286,
          36.62436229795418,
          36.324735008723266,
          36.49097793559593,
          36.718152946184546
         ],
         "lon": [
          -112.119,
          -112.3517,
          -112.6524,
          -112.0590397421836,
          -112.22462393965932,
          -112.48184643909867,
          -111.96607811315805,
          -112.30298247607482,
          -112.46500724211852,
          -112.0578223697815,
          -112.57271307537773,
          -112.76700513256621,
          -112.11257327795097,
          -112.31362533411557,
          -112.59789774008388,
          -112.15517117790904,
          -112.13833887934493,
          -112.88240039792458
         ],
         "marker": {
          "color": 8,
          "size": 10
         },
         "mode": "markers",
         "name": "Gray fox",
         "showlegend": true,
         "text": [
          "Animal ID: A009<br>Scientific Name: Urocyon cinereoargenteus<br>Redlist Category: Least Concern<br>Megafauna: True<br>Latitude: 36.3388<br>Longitude: -112.119",
          "Animal ID: A009<br>Scientific Name: Urocyon cinereoargenteus<br>Redlist Category: Least Concern<br>Megafauna: True<br>Latitude: 36.4868<br>Longitude: -112.3517",
          "Animal ID: A009<br>Scientific Name: Urocyon cinereoargenteus<br>Redlist Category: Least Concern<br>Megafauna: True<br>Latitude: 36.6282<br>Longitude: -112.6524",
          "Animal ID: A009<br>Scientific Name: Urocyon cinereoargenteus<br>Redlist Category: Least Concern<br>Megafauna: True<br>Latitude: 36.43100043599815<br>Longitude: -112.0590397421836",
          "Animal ID: A009<br>Scientific Name: Urocyon cinereoargenteus<br>Redlist Category: Least Concern<br>Megafauna: True<br>Latitude: 36.47367449672423<br>Longitude: -112.22462393965932",
          "Animal ID: A009<br>Scientific Name: Urocyon cinereoargenteus<br>Redlist Category: Least Concern<br>Megafauna: True<br>Latitude: 36.57025822088406<br>Longitude: -112.48184643909867",
          "Animal ID: A009<br>Scientific Name: Urocyon cinereoargenteus<br>Redlist Category: Least Concern<br>Megafauna: True<br>Latitude: 36.40186047130637<br>Longitude: -111.96607811315805",
          "Animal ID: A009<br>Scientific Name: Urocyon cinereoargenteus<br>Redlist Category: Least Concern<br>Megafauna: True<br>Latitude: 36.39068206460885<br>Longitude: -112.30298247607482",
          "Animal ID: A009<br>Scientific Name: Urocyon cinereoargenteus<br>Redlist Category: Least Concern<br>Megafauna: True<br>Latitude: 36.721265212243054<br>Longitude: -112.46500724211852",
          "Animal ID: A009<br>Scientific Name: Urocyon cinereoargenteus<br>Redlist Category: Least Concern<br>Megafauna: True<br>Latitude: 36.4113245853972<br>Longitude: -112.0578223697815",
          "Animal ID: A009<br>Scientific Name: Urocyon cinereoargenteus<br>Redlist Category: Least Concern<br>Megafauna: True<br>Latitude: 36.47696528092176<br>Longitude: -112.57271307537773",
          "Animal ID: A009<br>Scientific Name: Urocyon cinereoargenteus<br>Redlist Category: Least Concern<br>Megafauna: True<br>Latitude: 36.5568872827404<br>Longitude: -112.76700513256621",
          "Animal ID: A009<br>Scientific Name: Urocyon cinereoargenteus<br>Redlist Category: Least Concern<br>Megafauna: True<br>Latitude: 36.45480967919143<br>Longitude: -112.11257327795097",
          "Animal ID: A009<br>Scientific Name: Urocyon cinereoargenteus<br>Redlist Category: Least Concern<br>Megafauna: True<br>Latitude: 36.684378963172286<br>Longitude: -112.31362533411557",
          "Animal ID: A009<br>Scientific Name: Urocyon cinereoargenteus<br>Redlist Category: Least Concern<br>Megafauna: True<br>Latitude: 36.62436229795418<br>Longitude: -112.59789774008388",
          "Animal ID: A009<br>Scientific Name: Urocyon cinereoargenteus<br>Redlist Category: Least Concern<br>Megafauna: True<br>Latitude: 36.324735008723266<br>Longitude: -112.15517117790904",
          "Animal ID: A009<br>Scientific Name: Urocyon cinereoargenteus<br>Redlist Category: Least Concern<br>Megafauna: True<br>Latitude: 36.49097793559593<br>Longitude: -112.13833887934493",
          "Animal ID: A009<br>Scientific Name: Urocyon cinereoargenteus<br>Redlist Category: Least Concern<br>Megafauna: True<br>Latitude: 36.718152946184546<br>Longitude: -112.88240039792458"
         ],
         "type": "scattermapbox"
        }
       ],
       "layout": {
        "mapbox": {
         "center": {
          "lat": 44.4,
          "lon": -110.6
         },
         "style": "open-street-map",
         "zoom": 8
        },
        "template": {
         "data": {
          "bar": [
           {
            "error_x": {
             "color": "#2a3f5f"
            },
            "error_y": {
             "color": "#2a3f5f"
            },
            "marker": {
             "line": {
              "color": "#E5ECF6",
              "width": 0.5
             },
             "pattern": {
              "fillmode": "overlay",
              "size": 10,
              "solidity": 0.2
             }
            },
            "type": "bar"
           }
          ],
          "barpolar": [
           {
            "marker": {
             "line": {
              "color": "#E5ECF6",
              "width": 0.5
             },
             "pattern": {
              "fillmode": "overlay",
              "size": 10,
              "solidity": 0.2
             }
            },
            "type": "barpolar"
           }
          ],
          "carpet": [
           {
            "aaxis": {
             "endlinecolor": "#2a3f5f",
             "gridcolor": "white",
             "linecolor": "white",
             "minorgridcolor": "white",
             "startlinecolor": "#2a3f5f"
            },
            "baxis": {
             "endlinecolor": "#2a3f5f",
             "gridcolor": "white",
             "linecolor": "white",
             "minorgridcolor": "white",
             "startlinecolor": "#2a3f5f"
            },
            "type": "carpet"
           }
          ],
          "choropleth": [
           {
            "colorbar": {
             "outlinewidth": 0,
             "ticks": ""
            },
            "type": "choropleth"
           }
          ],
          "contour": [
           {
            "colorbar": {
             "outlinewidth": 0,
             "ticks": ""
            },
            "colorscale": [
             [
              0,
              "#0d0887"
             ],
             [
              0.1111111111111111,
              "#46039f"
             ],
             [
              0.2222222222222222,
              "#7201a8"
             ],
             [
              0.3333333333333333,
              "#9c179e"
             ],
             [
              0.4444444444444444,
              "#bd3786"
             ],
             [
              0.5555555555555556,
              "#d8576b"
             ],
             [
              0.6666666666666666,
              "#ed7953"
             ],
             [
              0.7777777777777778,
              "#fb9f3a"
             ],
             [
              0.8888888888888888,
              "#fdca26"
             ],
             [
              1,
              "#f0f921"
             ]
            ],
            "type": "contour"
           }
          ],
          "contourcarpet": [
           {
            "colorbar": {
             "outlinewidth": 0,
             "ticks": ""
            },
            "type": "contourcarpet"
           }
          ],
          "heatmap": [
           {
            "colorbar": {
             "outlinewidth": 0,
             "ticks": ""
            },
            "colorscale": [
             [
              0,
              "#0d0887"
             ],
             [
              0.1111111111111111,
              "#46039f"
             ],
             [
              0.2222222222222222,
              "#7201a8"
             ],
             [
              0.3333333333333333,
              "#9c179e"
             ],
             [
              0.4444444444444444,
              "#bd3786"
             ],
             [
              0.5555555555555556,
              "#d8576b"
             ],
             [
              0.6666666666666666,
              "#ed7953"
             ],
             [
              0.7777777777777778,
              "#fb9f3a"
             ],
             [
              0.8888888888888888,
              "#fdca26"
             ],
             [
              1,
              "#f0f921"
             ]
            ],
            "type": "heatmap"
           }
          ],
          "heatmapgl": [
           {
            "colorbar": {
             "outlinewidth": 0,
             "ticks": ""
            },
            "colorscale": [
             [
              0,
              "#0d0887"
             ],
             [
              0.1111111111111111,
              "#46039f"
             ],
             [
              0.2222222222222222,
              "#7201a8"
             ],
             [
              0.3333333333333333,
              "#9c179e"
             ],
             [
              0.4444444444444444,
              "#bd3786"
             ],
             [
              0.5555555555555556,
              "#d8576b"
             ],
             [
              0.6666666666666666,
              "#ed7953"
             ],
             [
              0.7777777777777778,
              "#fb9f3a"
             ],
             [
              0.8888888888888888,
              "#fdca26"
             ],
             [
              1,
              "#f0f921"
             ]
            ],
            "type": "heatmapgl"
           }
          ],
          "histogram": [
           {
            "marker": {
             "pattern": {
              "fillmode": "overlay",
              "size": 10,
              "solidity": 0.2
             }
            },
            "type": "histogram"
           }
          ],
          "histogram2d": [
           {
            "colorbar": {
             "outlinewidth": 0,
             "ticks": ""
            },
            "colorscale": [
             [
              0,
              "#0d0887"
             ],
             [
              0.1111111111111111,
              "#46039f"
             ],
             [
              0.2222222222222222,
              "#7201a8"
             ],
             [
              0.3333333333333333,
              "#9c179e"
             ],
             [
              0.4444444444444444,
              "#bd3786"
             ],
             [
              0.5555555555555556,
              "#d8576b"
             ],
             [
              0.6666666666666666,
              "#ed7953"
             ],
             [
              0.7777777777777778,
              "#fb9f3a"
             ],
             [
              0.8888888888888888,
              "#fdca26"
             ],
             [
              1,
              "#f0f921"
             ]
            ],
            "type": "histogram2d"
           }
          ],
          "histogram2dcontour": [
           {
            "colorbar": {
             "outlinewidth": 0,
             "ticks": ""
            },
            "colorscale": [
             [
              0,
              "#0d0887"
             ],
             [
              0.1111111111111111,
              "#46039f"
             ],
             [
              0.2222222222222222,
              "#7201a8"
             ],
             [
              0.3333333333333333,
              "#9c179e"
             ],
             [
              0.4444444444444444,
              "#bd3786"
             ],
             [
              0.5555555555555556,
              "#d8576b"
             ],
             [
              0.6666666666666666,
              "#ed7953"
             ],
             [
              0.7777777777777778,
              "#fb9f3a"
             ],
             [
              0.8888888888888888,
              "#fdca26"
             ],
             [
              1,
              "#f0f921"
             ]
            ],
            "type": "histogram2dcontour"
           }
          ],
          "mesh3d": [
           {
            "colorbar": {
             "outlinewidth": 0,
             "ticks": ""
            },
            "type": "mesh3d"
           }
          ],
          "parcoords": [
           {
            "line": {
             "colorbar": {
              "outlinewidth": 0,
              "ticks": ""
             }
            },
            "type": "parcoords"
           }
          ],
          "pie": [
           {
            "automargin": true,
            "type": "pie"
           }
          ],
          "scatter": [
           {
            "fillpattern": {
             "fillmode": "overlay",
             "size": 10,
             "solidity": 0.2
            },
            "type": "scatter"
           }
          ],
          "scatter3d": [
           {
            "line": {
             "colorbar": {
              "outlinewidth": 0,
              "ticks": ""
             }
            },
            "marker": {
             "colorbar": {
              "outlinewidth": 0,
              "ticks": ""
             }
            },
            "type": "scatter3d"
           }
          ],
          "scattercarpet": [
           {
            "marker": {
             "colorbar": {
              "outlinewidth": 0,
              "ticks": ""
             }
            },
            "type": "scattercarpet"
           }
          ],
          "scattergeo": [
           {
            "marker": {
             "colorbar": {
              "outlinewidth": 0,
              "ticks": ""
             }
            },
            "type": "scattergeo"
           }
          ],
          "scattergl": [
           {
            "marker": {
             "colorbar": {
              "outlinewidth": 0,
              "ticks": ""
             }
            },
            "type": "scattergl"
           }
          ],
          "scattermapbox": [
           {
            "marker": {
             "colorbar": {
              "outlinewidth": 0,
              "ticks": ""
             }
            },
            "type": "scattermapbox"
           }
          ],
          "scatterpolar": [
           {
            "marker": {
             "colorbar": {
              "outlinewidth": 0,
              "ticks": ""
             }
            },
            "type": "scatterpolar"
           }
          ],
          "scatterpolargl": [
           {
            "marker": {
             "colorbar": {
              "outlinewidth": 0,
              "ticks": ""
             }
            },
            "type": "scatterpolargl"
           }
          ],
          "scatterternary": [
           {
            "marker": {
             "colorbar": {
              "outlinewidth": 0,
              "ticks": ""
             }
            },
            "type": "scatterternary"
           }
          ],
          "surface": [
           {
            "colorbar": {
             "outlinewidth": 0,
             "ticks": ""
            },
            "colorscale": [
             [
              0,
              "#0d0887"
             ],
             [
              0.1111111111111111,
              "#46039f"
             ],
             [
              0.2222222222222222,
              "#7201a8"
             ],
             [
              0.3333333333333333,
              "#9c179e"
             ],
             [
              0.4444444444444444,
              "#bd3786"
             ],
             [
              0.5555555555555556,
              "#d8576b"
             ],
             [
              0.6666666666666666,
              "#ed7953"
             ],
             [
              0.7777777777777778,
              "#fb9f3a"
             ],
             [
              0.8888888888888888,
              "#fdca26"
             ],
             [
              1,
              "#f0f921"
             ]
            ],
            "type": "surface"
           }
          ],
          "table": [
           {
            "cells": {
             "fill": {
              "color": "#EBF0F8"
             },
             "line": {
              "color": "white"
             }
            },
            "header": {
             "fill": {
              "color": "#C8D4E3"
             },
             "line": {
              "color": "white"
             }
            },
            "type": "table"
           }
          ]
         },
         "layout": {
          "annotationdefaults": {
           "arrowcolor": "#2a3f5f",
           "arrowhead": 0,
           "arrowwidth": 1
          },
          "autotypenumbers": "strict",
          "coloraxis": {
           "colorbar": {
            "outlinewidth": 0,
            "ticks": ""
           }
          },
          "colorscale": {
           "diverging": [
            [
             0,
             "#8e0152"
            ],
            [
             0.1,
             "#c51b7d"
            ],
            [
             0.2,
             "#de77ae"
            ],
            [
             0.3,
             "#f1b6da"
            ],
            [
             0.4,
             "#fde0ef"
            ],
            [
             0.5,
             "#f7f7f7"
            ],
            [
             0.6,
             "#e6f5d0"
            ],
            [
             0.7,
             "#b8e186"
            ],
            [
             0.8,
             "#7fbc41"
            ],
            [
             0.9,
             "#4d9221"
            ],
            [
             1,
             "#276419"
            ]
           ],
           "sequential": [
            [
             0,
             "#0d0887"
            ],
            [
             0.1111111111111111,
             "#46039f"
            ],
            [
             0.2222222222222222,
             "#7201a8"
            ],
            [
             0.3333333333333333,
             "#9c179e"
            ],
            [
             0.4444444444444444,
             "#bd3786"
            ],
            [
             0.5555555555555556,
             "#d8576b"
            ],
            [
             0.6666666666666666,
             "#ed7953"
            ],
            [
             0.7777777777777778,
             "#fb9f3a"
            ],
            [
             0.8888888888888888,
             "#fdca26"
            ],
            [
             1,
             "#f0f921"
            ]
           ],
           "sequentialminus": [
            [
             0,
             "#0d0887"
            ],
            [
             0.1111111111111111,
             "#46039f"
            ],
            [
             0.2222222222222222,
             "#7201a8"
            ],
            [
             0.3333333333333333,
             "#9c179e"
            ],
            [
             0.4444444444444444,
             "#bd3786"
            ],
            [
             0.5555555555555556,
             "#d8576b"
            ],
            [
             0.6666666666666666,
             "#ed7953"
            ],
            [
             0.7777777777777778,
             "#fb9f3a"
            ],
            [
             0.8888888888888888,
             "#fdca26"
            ],
            [
             1,
             "#f0f921"
            ]
           ]
          },
          "colorway": [
           "#636efa",
           "#EF553B",
           "#00cc96",
           "#ab63fa",
           "#FFA15A",
           "#19d3f3",
           "#FF6692",
           "#B6E880",
           "#FF97FF",
           "#FECB52"
          ],
          "font": {
           "color": "#2a3f5f"
          },
          "geo": {
           "bgcolor": "white",
           "lakecolor": "white",
           "landcolor": "#E5ECF6",
           "showlakes": true,
           "showland": true,
           "subunitcolor": "white"
          },
          "hoverlabel": {
           "align": "left"
          },
          "hovermode": "closest",
          "mapbox": {
           "style": "light"
          },
          "paper_bgcolor": "white",
          "plot_bgcolor": "#E5ECF6",
          "polar": {
           "angularaxis": {
            "gridcolor": "white",
            "linecolor": "white",
            "ticks": ""
           },
           "bgcolor": "#E5ECF6",
           "radialaxis": {
            "gridcolor": "white",
            "linecolor": "white",
            "ticks": ""
           }
          },
          "scene": {
           "xaxis": {
            "backgroundcolor": "#E5ECF6",
            "gridcolor": "white",
            "gridwidth": 2,
            "linecolor": "white",
            "showbackground": true,
            "ticks": "",
            "zerolinecolor": "white"
           },
           "yaxis": {
            "backgroundcolor": "#E5ECF6",
            "gridcolor": "white",
            "gridwidth": 2,
            "linecolor": "white",
            "showbackground": true,
            "ticks": "",
            "zerolinecolor": "white"
           },
           "zaxis": {
            "backgroundcolor": "#E5ECF6",
            "gridcolor": "white",
            "gridwidth": 2,
            "linecolor": "white",
            "showbackground": true,
            "ticks": "",
            "zerolinecolor": "white"
           }
          },
          "shapedefaults": {
           "line": {
            "color": "#2a3f5f"
           }
          },
          "ternary": {
           "aaxis": {
            "gridcolor": "white",
            "linecolor": "white",
            "ticks": ""
           },
           "baxis": {
            "gridcolor": "white",
            "linecolor": "white",
            "ticks": ""
           },
           "bgcolor": "#E5ECF6",
           "caxis": {
            "gridcolor": "white",
            "linecolor": "white",
            "ticks": ""
           }
          },
          "title": {
           "x": 0.05
          },
          "xaxis": {
           "automargin": true,
           "gridcolor": "white",
           "linecolor": "white",
           "ticks": "",
           "title": {
            "standoff": 15
           },
           "zerolinecolor": "white",
           "zerolinewidth": 2
          },
          "yaxis": {
           "automargin": true,
           "gridcolor": "white",
           "linecolor": "white",
           "ticks": "",
           "title": {
            "standoff": 15
           },
           "zerolinecolor": "white",
           "zerolinewidth": 2
          }
         }
        }
       }
      },
      "text/html": [
       "<div>                            <div id=\"8f25c7e4-891f-4bc1-94c3-0d2d8574664a\" class=\"plotly-graph-div\" style=\"height:525px; width:100%;\"></div>            <script type=\"text/javascript\">                require([\"plotly\"], function(Plotly) {                    window.PLOTLYENV=window.PLOTLYENV || {};                                    if (document.getElementById(\"8f25c7e4-891f-4bc1-94c3-0d2d8574664a\")) {                    Plotly.newPlot(                        \"8f25c7e4-891f-4bc1-94c3-0d2d8574664a\",                        [{\"fill\":\"toself\",\"fillcolor\":\"rgba(135, 206, 235, 0.5)\",\"lat\":[44.2,44.24444444444445,44.24444444444445,44.2,44.2],\"line\":{\"color\":\"blue\"},\"lon\":[-110.98888888888888,-110.98888888888888,-111.1,-111.1,-110.98888888888888],\"name\":\"0\",\"showlegend\":false,\"type\":\"scattermapbox\"},{\"fill\":\"toself\",\"fillcolor\":\"rgba(135, 206, 235, 0.5)\",\"lat\":[44.24444444444445,44.28888888888889,44.28888888888889,44.24444444444445,44.24444444444445],\"line\":{\"color\":\"blue\"},\"lon\":[-110.98888888888888,-110.98888888888888,-111.1,-111.1,-110.98888888888888],\"name\":\"1\",\"showlegend\":false,\"type\":\"scattermapbox\"},{\"fill\":\"toself\",\"fillcolor\":\"rgba(135, 206, 235, 0.5)\",\"lat\":[44.28888888888889,44.333333333333336,44.333333333333336,44.28888888888889,44.28888888888889],\"line\":{\"color\":\"blue\"},\"lon\":[-110.98888888888888,-110.98888888888888,-111.1,-111.1,-110.98888888888888],\"name\":\"2\",\"showlegend\":false,\"type\":\"scattermapbox\"},{\"fill\":\"toself\",\"fillcolor\":\"rgba(135, 206, 235, 0.5)\",\"lat\":[44.333333333333336,44.37777777777778,44.37777777777778,44.333333333333336,44.333333333333336],\"line\":{\"color\":\"blue\"},\"lon\":[-110.98888888888888,-110.98888888888888,-111.1,-111.1,-110.98888888888888],\"name\":\"3\",\"showlegend\":false,\"type\":\"scattermapbox\"},{\"fill\":\"toself\",\"fillcolor\":\"rgba(135, 206, 235, 0.5)\",\"lat\":[44.37777777777778,44.422222222222224,44.422222222222224,44.37777777777778,44.37777777777778],\"line\":{\"color\":\"blue\"},\"lon\":[-110.98888888888888,-110.98888888888888,-111.1,-111.1,-110.98888888888888],\"name\":\"4\",\"showlegend\":false,\"type\":\"scattermapbox\"},{\"fill\":\"toself\",\"fillcolor\":\"rgba(135, 206, 235, 0.5)\",\"lat\":[44.422222222222224,44.46666666666667,44.46666666666667,44.422222222222224,44.422222222222224],\"line\":{\"color\":\"blue\"},\"lon\":[-110.98888888888888,-110.98888888888888,-111.1,-111.1,-110.98888888888888],\"name\":\"5\",\"showlegend\":false,\"type\":\"scattermapbox\"},{\"fill\":\"toself\",\"fillcolor\":\"rgba(135, 206, 235, 0.5)\",\"lat\":[44.46666666666667,44.51111111111111,44.51111111111111,44.46666666666667,44.46666666666667],\"line\":{\"color\":\"blue\"},\"lon\":[-110.98888888888888,-110.98888888888888,-111.1,-111.1,-110.98888888888888],\"name\":\"6\",\"showlegend\":false,\"type\":\"scattermapbox\"},{\"fill\":\"toself\",\"fillcolor\":\"rgba(135, 206, 235, 0.5)\",\"lat\":[44.51111111111111,44.55555555555556,44.55555555555556,44.51111111111111,44.51111111111111],\"line\":{\"color\":\"blue\"},\"lon\":[-110.98888888888888,-110.98888888888888,-111.1,-111.1,-110.98888888888888],\"name\":\"7\",\"showlegend\":false,\"type\":\"scattermapbox\"},{\"fill\":\"toself\",\"fillcolor\":\"rgba(135, 206, 235, 0.5)\",\"lat\":[44.55555555555556,44.6,44.6,44.55555555555556,44.55555555555556],\"line\":{\"color\":\"blue\"},\"lon\":[-110.98888888888888,-110.98888888888888,-111.1,-111.1,-110.98888888888888],\"name\":\"8\",\"showlegend\":false,\"type\":\"scattermapbox\"},{\"fill\":\"toself\",\"fillcolor\":\"rgba(135, 206, 235, 0.5)\",\"lat\":[44.2,44.24444444444445,44.24444444444445,44.2,44.2],\"line\":{\"color\":\"blue\"},\"lon\":[-110.87777777777777,-110.87777777777777,-110.98888888888888,-110.98888888888888,-110.87777777777777],\"name\":\"9\",\"showlegend\":false,\"type\":\"scattermapbox\"},{\"fill\":\"toself\",\"fillcolor\":\"rgba(135, 206, 235, 0.5)\",\"lat\":[44.24444444444445,44.28888888888889,44.28888888888889,44.24444444444445,44.24444444444445],\"line\":{\"color\":\"blue\"},\"lon\":[-110.87777777777777,-110.87777777777777,-110.98888888888888,-110.98888888888888,-110.87777777777777],\"name\":\"10\",\"showlegend\":false,\"type\":\"scattermapbox\"},{\"fill\":\"toself\",\"fillcolor\":\"rgba(135, 206, 235, 0.5)\",\"lat\":[44.28888888888889,44.333333333333336,44.333333333333336,44.28888888888889,44.28888888888889],\"line\":{\"color\":\"blue\"},\"lon\":[-110.87777777777777,-110.87777777777777,-110.98888888888888,-110.98888888888888,-110.87777777777777],\"name\":\"11\",\"showlegend\":false,\"type\":\"scattermapbox\"},{\"fill\":\"toself\",\"fillcolor\":\"rgba(135, 206, 235, 0.5)\",\"lat\":[44.333333333333336,44.37777777777778,44.37777777777778,44.333333333333336,44.333333333333336],\"line\":{\"color\":\"blue\"},\"lon\":[-110.87777777777777,-110.87777777777777,-110.98888888888888,-110.98888888888888,-110.87777777777777],\"name\":\"12\",\"showlegend\":false,\"type\":\"scattermapbox\"},{\"fill\":\"toself\",\"fillcolor\":\"rgba(135, 206, 235, 0.5)\",\"lat\":[44.37777777777778,44.422222222222224,44.422222222222224,44.37777777777778,44.37777777777778],\"line\":{\"color\":\"blue\"},\"lon\":[-110.87777777777777,-110.87777777777777,-110.98888888888888,-110.98888888888888,-110.87777777777777],\"name\":\"13\",\"showlegend\":false,\"type\":\"scattermapbox\"},{\"fill\":\"toself\",\"fillcolor\":\"rgba(135, 206, 235, 0.5)\",\"lat\":[44.422222222222224,44.46666666666667,44.46666666666667,44.422222222222224,44.422222222222224],\"line\":{\"color\":\"blue\"},\"lon\":[-110.87777777777777,-110.87777777777777,-110.98888888888888,-110.98888888888888,-110.87777777777777],\"name\":\"14\",\"showlegend\":false,\"type\":\"scattermapbox\"},{\"fill\":\"toself\",\"fillcolor\":\"rgba(135, 206, 235, 0.5)\",\"lat\":[44.46666666666667,44.51111111111111,44.51111111111111,44.46666666666667,44.46666666666667],\"line\":{\"color\":\"blue\"},\"lon\":[-110.87777777777777,-110.87777777777777,-110.98888888888888,-110.98888888888888,-110.87777777777777],\"name\":\"15\",\"showlegend\":false,\"type\":\"scattermapbox\"},{\"fill\":\"toself\",\"fillcolor\":\"rgba(135, 206, 235, 0.5)\",\"lat\":[44.51111111111111,44.55555555555556,44.55555555555556,44.51111111111111,44.51111111111111],\"line\":{\"color\":\"blue\"},\"lon\":[-110.87777777777777,-110.87777777777777,-110.98888888888888,-110.98888888888888,-110.87777777777777],\"name\":\"16\",\"showlegend\":false,\"type\":\"scattermapbox\"},{\"fill\":\"toself\",\"fillcolor\":\"rgba(135, 206, 235, 0.5)\",\"lat\":[44.55555555555556,44.6,44.6,44.55555555555556,44.55555555555556],\"line\":{\"color\":\"blue\"},\"lon\":[-110.87777777777777,-110.87777777777777,-110.98888888888888,-110.98888888888888,-110.87777777777777],\"name\":\"17\",\"showlegend\":false,\"type\":\"scattermapbox\"},{\"fill\":\"toself\",\"fillcolor\":\"rgba(135, 206, 235, 0.5)\",\"lat\":[44.2,44.24444444444445,44.24444444444445,44.2,44.2],\"line\":{\"color\":\"blue\"},\"lon\":[-110.76666666666667,-110.76666666666667,-110.87777777777777,-110.87777777777777,-110.76666666666667],\"name\":\"18\",\"showlegend\":false,\"type\":\"scattermapbox\"},{\"fill\":\"toself\",\"fillcolor\":\"rgba(135, 206, 235, 0.5)\",\"lat\":[44.24444444444445,44.28888888888889,44.28888888888889,44.24444444444445,44.24444444444445],\"line\":{\"color\":\"blue\"},\"lon\":[-110.76666666666667,-110.76666666666667,-110.87777777777777,-110.87777777777777,-110.76666666666667],\"name\":\"19\",\"showlegend\":false,\"type\":\"scattermapbox\"},{\"fill\":\"toself\",\"fillcolor\":\"rgba(135, 206, 235, 0.5)\",\"lat\":[44.28888888888889,44.333333333333336,44.333333333333336,44.28888888888889,44.28888888888889],\"line\":{\"color\":\"blue\"},\"lon\":[-110.76666666666667,-110.76666666666667,-110.87777777777777,-110.87777777777777,-110.76666666666667],\"name\":\"20\",\"showlegend\":false,\"type\":\"scattermapbox\"},{\"fill\":\"toself\",\"fillcolor\":\"rgba(135, 206, 235, 0.5)\",\"lat\":[44.333333333333336,44.37777777777778,44.37777777777778,44.333333333333336,44.333333333333336],\"line\":{\"color\":\"blue\"},\"lon\":[-110.76666666666667,-110.76666666666667,-110.87777777777777,-110.87777777777777,-110.76666666666667],\"name\":\"21\",\"showlegend\":false,\"type\":\"scattermapbox\"},{\"fill\":\"toself\",\"fillcolor\":\"rgba(135, 206, 235, 0.5)\",\"lat\":[44.37777777777778,44.422222222222224,44.422222222222224,44.37777777777778,44.37777777777778],\"line\":{\"color\":\"blue\"},\"lon\":[-110.76666666666667,-110.76666666666667,-110.87777777777777,-110.87777777777777,-110.76666666666667],\"name\":\"22\",\"showlegend\":false,\"type\":\"scattermapbox\"},{\"fill\":\"toself\",\"fillcolor\":\"rgba(135, 206, 235, 0.5)\",\"lat\":[44.422222222222224,44.46666666666667,44.46666666666667,44.422222222222224,44.422222222222224],\"line\":{\"color\":\"blue\"},\"lon\":[-110.76666666666667,-110.76666666666667,-110.87777777777777,-110.87777777777777,-110.76666666666667],\"name\":\"23\",\"showlegend\":false,\"type\":\"scattermapbox\"},{\"fill\":\"toself\",\"fillcolor\":\"rgba(135, 206, 235, 0.5)\",\"lat\":[44.46666666666667,44.51111111111111,44.51111111111111,44.46666666666667,44.46666666666667],\"line\":{\"color\":\"blue\"},\"lon\":[-110.76666666666667,-110.76666666666667,-110.87777777777777,-110.87777777777777,-110.76666666666667],\"name\":\"24\",\"showlegend\":false,\"type\":\"scattermapbox\"},{\"fill\":\"toself\",\"fillcolor\":\"rgba(135, 206, 235, 0.5)\",\"lat\":[44.51111111111111,44.55555555555556,44.55555555555556,44.51111111111111,44.51111111111111],\"line\":{\"color\":\"blue\"},\"lon\":[-110.76666666666667,-110.76666666666667,-110.87777777777777,-110.87777777777777,-110.76666666666667],\"name\":\"25\",\"showlegend\":false,\"type\":\"scattermapbox\"},{\"fill\":\"toself\",\"fillcolor\":\"rgba(135, 206, 235, 0.5)\",\"lat\":[44.55555555555556,44.6,44.6,44.55555555555556,44.55555555555556],\"line\":{\"color\":\"blue\"},\"lon\":[-110.76666666666667,-110.76666666666667,-110.87777777777777,-110.87777777777777,-110.76666666666667],\"name\":\"26\",\"showlegend\":false,\"type\":\"scattermapbox\"},{\"fill\":\"toself\",\"fillcolor\":\"rgba(135, 206, 235, 0.5)\",\"lat\":[44.2,44.24444444444445,44.24444444444445,44.2,44.2],\"line\":{\"color\":\"blue\"},\"lon\":[-110.65555555555555,-110.65555555555555,-110.76666666666667,-110.76666666666667,-110.65555555555555],\"name\":\"27\",\"showlegend\":false,\"type\":\"scattermapbox\"},{\"fill\":\"toself\",\"fillcolor\":\"rgba(135, 206, 235, 0.5)\",\"lat\":[44.24444444444445,44.28888888888889,44.28888888888889,44.24444444444445,44.24444444444445],\"line\":{\"color\":\"blue\"},\"lon\":[-110.65555555555555,-110.65555555555555,-110.76666666666667,-110.76666666666667,-110.65555555555555],\"name\":\"28\",\"showlegend\":false,\"type\":\"scattermapbox\"},{\"fill\":\"toself\",\"fillcolor\":\"rgba(135, 206, 235, 0.5)\",\"lat\":[44.28888888888889,44.333333333333336,44.333333333333336,44.28888888888889,44.28888888888889],\"line\":{\"color\":\"blue\"},\"lon\":[-110.65555555555555,-110.65555555555555,-110.76666666666667,-110.76666666666667,-110.65555555555555],\"name\":\"29\",\"showlegend\":false,\"type\":\"scattermapbox\"},{\"fill\":\"toself\",\"fillcolor\":\"rgba(135, 206, 235, 0.5)\",\"lat\":[44.333333333333336,44.37777777777778,44.37777777777778,44.333333333333336,44.333333333333336],\"line\":{\"color\":\"blue\"},\"lon\":[-110.65555555555555,-110.65555555555555,-110.76666666666667,-110.76666666666667,-110.65555555555555],\"name\":\"30\",\"showlegend\":false,\"type\":\"scattermapbox\"},{\"fill\":\"toself\",\"fillcolor\":\"rgba(135, 206, 235, 0.5)\",\"lat\":[44.37777777777778,44.422222222222224,44.422222222222224,44.37777777777778,44.37777777777778],\"line\":{\"color\":\"blue\"},\"lon\":[-110.65555555555555,-110.65555555555555,-110.76666666666667,-110.76666666666667,-110.65555555555555],\"name\":\"31\",\"showlegend\":false,\"type\":\"scattermapbox\"},{\"fill\":\"toself\",\"fillcolor\":\"rgba(135, 206, 235, 0.5)\",\"lat\":[44.422222222222224,44.46666666666667,44.46666666666667,44.422222222222224,44.422222222222224],\"line\":{\"color\":\"blue\"},\"lon\":[-110.65555555555555,-110.65555555555555,-110.76666666666667,-110.76666666666667,-110.65555555555555],\"name\":\"32\",\"showlegend\":false,\"type\":\"scattermapbox\"},{\"fill\":\"toself\",\"fillcolor\":\"rgba(135, 206, 235, 0.5)\",\"lat\":[44.46666666666667,44.51111111111111,44.51111111111111,44.46666666666667,44.46666666666667],\"line\":{\"color\":\"blue\"},\"lon\":[-110.65555555555555,-110.65555555555555,-110.76666666666667,-110.76666666666667,-110.65555555555555],\"name\":\"33\",\"showlegend\":false,\"type\":\"scattermapbox\"},{\"fill\":\"toself\",\"fillcolor\":\"rgba(135, 206, 235, 0.5)\",\"lat\":[44.51111111111111,44.55555555555556,44.55555555555556,44.51111111111111,44.51111111111111],\"line\":{\"color\":\"blue\"},\"lon\":[-110.65555555555555,-110.65555555555555,-110.76666666666667,-110.76666666666667,-110.65555555555555],\"name\":\"34\",\"showlegend\":false,\"type\":\"scattermapbox\"},{\"fill\":\"toself\",\"fillcolor\":\"rgba(135, 206, 235, 0.5)\",\"lat\":[44.55555555555556,44.6,44.6,44.55555555555556,44.55555555555556],\"line\":{\"color\":\"blue\"},\"lon\":[-110.65555555555555,-110.65555555555555,-110.76666666666667,-110.76666666666667,-110.65555555555555],\"name\":\"35\",\"showlegend\":false,\"type\":\"scattermapbox\"},{\"fill\":\"toself\",\"fillcolor\":\"rgba(135, 206, 235, 0.5)\",\"lat\":[44.2,44.24444444444445,44.24444444444445,44.2,44.2],\"line\":{\"color\":\"blue\"},\"lon\":[-110.54444444444444,-110.54444444444444,-110.65555555555555,-110.65555555555555,-110.54444444444444],\"name\":\"36\",\"showlegend\":false,\"type\":\"scattermapbox\"},{\"fill\":\"toself\",\"fillcolor\":\"rgba(135, 206, 235, 0.5)\",\"lat\":[44.24444444444445,44.28888888888889,44.28888888888889,44.24444444444445,44.24444444444445],\"line\":{\"color\":\"blue\"},\"lon\":[-110.54444444444444,-110.54444444444444,-110.65555555555555,-110.65555555555555,-110.54444444444444],\"name\":\"37\",\"showlegend\":false,\"type\":\"scattermapbox\"},{\"fill\":\"toself\",\"fillcolor\":\"rgba(135, 206, 235, 0.5)\",\"lat\":[44.28888888888889,44.333333333333336,44.333333333333336,44.28888888888889,44.28888888888889],\"line\":{\"color\":\"blue\"},\"lon\":[-110.54444444444444,-110.54444444444444,-110.65555555555555,-110.65555555555555,-110.54444444444444],\"name\":\"38\",\"showlegend\":false,\"type\":\"scattermapbox\"},{\"fill\":\"toself\",\"fillcolor\":\"rgba(135, 206, 235, 0.5)\",\"lat\":[44.333333333333336,44.37777777777778,44.37777777777778,44.333333333333336,44.333333333333336],\"line\":{\"color\":\"blue\"},\"lon\":[-110.54444444444444,-110.54444444444444,-110.65555555555555,-110.65555555555555,-110.54444444444444],\"name\":\"39\",\"showlegend\":false,\"type\":\"scattermapbox\"},{\"fill\":\"toself\",\"fillcolor\":\"rgba(135, 206, 235, 0.5)\",\"lat\":[44.37777777777778,44.422222222222224,44.422222222222224,44.37777777777778,44.37777777777778],\"line\":{\"color\":\"blue\"},\"lon\":[-110.54444444444444,-110.54444444444444,-110.65555555555555,-110.65555555555555,-110.54444444444444],\"name\":\"40\",\"showlegend\":false,\"type\":\"scattermapbox\"},{\"fill\":\"toself\",\"fillcolor\":\"rgba(135, 206, 235, 0.5)\",\"lat\":[44.422222222222224,44.46666666666667,44.46666666666667,44.422222222222224,44.422222222222224],\"line\":{\"color\":\"blue\"},\"lon\":[-110.54444444444444,-110.54444444444444,-110.65555555555555,-110.65555555555555,-110.54444444444444],\"name\":\"41\",\"showlegend\":false,\"type\":\"scattermapbox\"},{\"fill\":\"toself\",\"fillcolor\":\"rgba(135, 206, 235, 0.5)\",\"lat\":[44.46666666666667,44.51111111111111,44.51111111111111,44.46666666666667,44.46666666666667],\"line\":{\"color\":\"blue\"},\"lon\":[-110.54444444444444,-110.54444444444444,-110.65555555555555,-110.65555555555555,-110.54444444444444],\"name\":\"42\",\"showlegend\":false,\"type\":\"scattermapbox\"},{\"fill\":\"toself\",\"fillcolor\":\"rgba(135, 206, 235, 0.5)\",\"lat\":[44.51111111111111,44.55555555555556,44.55555555555556,44.51111111111111,44.51111111111111],\"line\":{\"color\":\"blue\"},\"lon\":[-110.54444444444444,-110.54444444444444,-110.65555555555555,-110.65555555555555,-110.54444444444444],\"name\":\"43\",\"showlegend\":false,\"type\":\"scattermapbox\"},{\"fill\":\"toself\",\"fillcolor\":\"rgba(135, 206, 235, 0.5)\",\"lat\":[44.55555555555556,44.6,44.6,44.55555555555556,44.55555555555556],\"line\":{\"color\":\"blue\"},\"lon\":[-110.54444444444444,-110.54444444444444,-110.65555555555555,-110.65555555555555,-110.54444444444444],\"name\":\"44\",\"showlegend\":false,\"type\":\"scattermapbox\"},{\"fill\":\"toself\",\"fillcolor\":\"rgba(135, 206, 235, 0.5)\",\"lat\":[44.2,44.24444444444445,44.24444444444445,44.2,44.2],\"line\":{\"color\":\"blue\"},\"lon\":[-110.43333333333332,-110.43333333333332,-110.54444444444444,-110.54444444444444,-110.43333333333332],\"name\":\"45\",\"showlegend\":false,\"type\":\"scattermapbox\"},{\"fill\":\"toself\",\"fillcolor\":\"rgba(135, 206, 235, 0.5)\",\"lat\":[44.24444444444445,44.28888888888889,44.28888888888889,44.24444444444445,44.24444444444445],\"line\":{\"color\":\"blue\"},\"lon\":[-110.43333333333332,-110.43333333333332,-110.54444444444444,-110.54444444444444,-110.43333333333332],\"name\":\"46\",\"showlegend\":false,\"type\":\"scattermapbox\"},{\"fill\":\"toself\",\"fillcolor\":\"rgba(135, 206, 235, 0.5)\",\"lat\":[44.28888888888889,44.333333333333336,44.333333333333336,44.28888888888889,44.28888888888889],\"line\":{\"color\":\"blue\"},\"lon\":[-110.43333333333332,-110.43333333333332,-110.54444444444444,-110.54444444444444,-110.43333333333332],\"name\":\"47\",\"showlegend\":false,\"type\":\"scattermapbox\"},{\"fill\":\"toself\",\"fillcolor\":\"rgba(135, 206, 235, 0.5)\",\"lat\":[44.333333333333336,44.37777777777778,44.37777777777778,44.333333333333336,44.333333333333336],\"line\":{\"color\":\"blue\"},\"lon\":[-110.43333333333332,-110.43333333333332,-110.54444444444444,-110.54444444444444,-110.43333333333332],\"name\":\"48\",\"showlegend\":false,\"type\":\"scattermapbox\"},{\"fill\":\"toself\",\"fillcolor\":\"rgba(135, 206, 235, 0.5)\",\"lat\":[44.37777777777778,44.422222222222224,44.422222222222224,44.37777777777778,44.37777777777778],\"line\":{\"color\":\"blue\"},\"lon\":[-110.43333333333332,-110.43333333333332,-110.54444444444444,-110.54444444444444,-110.43333333333332],\"name\":\"49\",\"showlegend\":false,\"type\":\"scattermapbox\"},{\"fill\":\"toself\",\"fillcolor\":\"rgba(135, 206, 235, 0.5)\",\"lat\":[44.422222222222224,44.46666666666667,44.46666666666667,44.422222222222224,44.422222222222224],\"line\":{\"color\":\"blue\"},\"lon\":[-110.43333333333332,-110.43333333333332,-110.54444444444444,-110.54444444444444,-110.43333333333332],\"name\":\"50\",\"showlegend\":false,\"type\":\"scattermapbox\"},{\"fill\":\"toself\",\"fillcolor\":\"rgba(135, 206, 235, 0.5)\",\"lat\":[44.46666666666667,44.51111111111111,44.51111111111111,44.46666666666667,44.46666666666667],\"line\":{\"color\":\"blue\"},\"lon\":[-110.43333333333332,-110.43333333333332,-110.54444444444444,-110.54444444444444,-110.43333333333332],\"name\":\"51\",\"showlegend\":false,\"type\":\"scattermapbox\"},{\"fill\":\"toself\",\"fillcolor\":\"rgba(135, 206, 235, 0.5)\",\"lat\":[44.51111111111111,44.55555555555556,44.55555555555556,44.51111111111111,44.51111111111111],\"line\":{\"color\":\"blue\"},\"lon\":[-110.43333333333332,-110.43333333333332,-110.54444444444444,-110.54444444444444,-110.43333333333332],\"name\":\"52\",\"showlegend\":false,\"type\":\"scattermapbox\"},{\"fill\":\"toself\",\"fillcolor\":\"rgba(135, 206, 235, 0.5)\",\"lat\":[44.55555555555556,44.6,44.6,44.55555555555556,44.55555555555556],\"line\":{\"color\":\"blue\"},\"lon\":[-110.43333333333332,-110.43333333333332,-110.54444444444444,-110.54444444444444,-110.43333333333332],\"name\":\"53\",\"showlegend\":false,\"type\":\"scattermapbox\"},{\"fill\":\"toself\",\"fillcolor\":\"rgba(135, 206, 235, 0.5)\",\"lat\":[44.2,44.24444444444445,44.24444444444445,44.2,44.2],\"line\":{\"color\":\"blue\"},\"lon\":[-110.32222222222222,-110.32222222222222,-110.43333333333332,-110.43333333333332,-110.32222222222222],\"name\":\"54\",\"showlegend\":false,\"type\":\"scattermapbox\"},{\"fill\":\"toself\",\"fillcolor\":\"rgba(135, 206, 235, 0.5)\",\"lat\":[44.24444444444445,44.28888888888889,44.28888888888889,44.24444444444445,44.24444444444445],\"line\":{\"color\":\"blue\"},\"lon\":[-110.32222222222222,-110.32222222222222,-110.43333333333332,-110.43333333333332,-110.32222222222222],\"name\":\"55\",\"showlegend\":false,\"type\":\"scattermapbox\"},{\"fill\":\"toself\",\"fillcolor\":\"rgba(135, 206, 235, 0.5)\",\"lat\":[44.28888888888889,44.333333333333336,44.333333333333336,44.28888888888889,44.28888888888889],\"line\":{\"color\":\"blue\"},\"lon\":[-110.32222222222222,-110.32222222222222,-110.43333333333332,-110.43333333333332,-110.32222222222222],\"name\":\"56\",\"showlegend\":false,\"type\":\"scattermapbox\"},{\"fill\":\"toself\",\"fillcolor\":\"rgba(135, 206, 235, 0.5)\",\"lat\":[44.333333333333336,44.37777777777778,44.37777777777778,44.333333333333336,44.333333333333336],\"line\":{\"color\":\"blue\"},\"lon\":[-110.32222222222222,-110.32222222222222,-110.43333333333332,-110.43333333333332,-110.32222222222222],\"name\":\"57\",\"showlegend\":false,\"type\":\"scattermapbox\"},{\"fill\":\"toself\",\"fillcolor\":\"rgba(135, 206, 235, 0.5)\",\"lat\":[44.37777777777778,44.422222222222224,44.422222222222224,44.37777777777778,44.37777777777778],\"line\":{\"color\":\"blue\"},\"lon\":[-110.32222222222222,-110.32222222222222,-110.43333333333332,-110.43333333333332,-110.32222222222222],\"name\":\"58\",\"showlegend\":false,\"type\":\"scattermapbox\"},{\"fill\":\"toself\",\"fillcolor\":\"rgba(135, 206, 235, 0.5)\",\"lat\":[44.422222222222224,44.46666666666667,44.46666666666667,44.422222222222224,44.422222222222224],\"line\":{\"color\":\"blue\"},\"lon\":[-110.32222222222222,-110.32222222222222,-110.43333333333332,-110.43333333333332,-110.32222222222222],\"name\":\"59\",\"showlegend\":false,\"type\":\"scattermapbox\"},{\"fill\":\"toself\",\"fillcolor\":\"rgba(135, 206, 235, 0.5)\",\"lat\":[44.46666666666667,44.51111111111111,44.51111111111111,44.46666666666667,44.46666666666667],\"line\":{\"color\":\"blue\"},\"lon\":[-110.32222222222222,-110.32222222222222,-110.43333333333332,-110.43333333333332,-110.32222222222222],\"name\":\"60\",\"showlegend\":false,\"type\":\"scattermapbox\"},{\"fill\":\"toself\",\"fillcolor\":\"rgba(135, 206, 235, 0.5)\",\"lat\":[44.51111111111111,44.55555555555556,44.55555555555556,44.51111111111111,44.51111111111111],\"line\":{\"color\":\"blue\"},\"lon\":[-110.32222222222222,-110.32222222222222,-110.43333333333332,-110.43333333333332,-110.32222222222222],\"name\":\"61\",\"showlegend\":false,\"type\":\"scattermapbox\"},{\"fill\":\"toself\",\"fillcolor\":\"rgba(135, 206, 235, 0.5)\",\"lat\":[44.55555555555556,44.6,44.6,44.55555555555556,44.55555555555556],\"line\":{\"color\":\"blue\"},\"lon\":[-110.32222222222222,-110.32222222222222,-110.43333333333332,-110.43333333333332,-110.32222222222222],\"name\":\"62\",\"showlegend\":false,\"type\":\"scattermapbox\"},{\"fill\":\"toself\",\"fillcolor\":\"rgba(135, 206, 235, 0.5)\",\"lat\":[44.2,44.24444444444445,44.24444444444445,44.2,44.2],\"line\":{\"color\":\"blue\"},\"lon\":[-110.21111111111111,-110.21111111111111,-110.32222222222222,-110.32222222222222,-110.21111111111111],\"name\":\"63\",\"showlegend\":false,\"type\":\"scattermapbox\"},{\"fill\":\"toself\",\"fillcolor\":\"rgba(135, 206, 235, 0.5)\",\"lat\":[44.24444444444445,44.28888888888889,44.28888888888889,44.24444444444445,44.24444444444445],\"line\":{\"color\":\"blue\"},\"lon\":[-110.21111111111111,-110.21111111111111,-110.32222222222222,-110.32222222222222,-110.21111111111111],\"name\":\"64\",\"showlegend\":false,\"type\":\"scattermapbox\"},{\"fill\":\"toself\",\"fillcolor\":\"rgba(135, 206, 235, 0.5)\",\"lat\":[44.28888888888889,44.333333333333336,44.333333333333336,44.28888888888889,44.28888888888889],\"line\":{\"color\":\"blue\"},\"lon\":[-110.21111111111111,-110.21111111111111,-110.32222222222222,-110.32222222222222,-110.21111111111111],\"name\":\"65\",\"showlegend\":false,\"type\":\"scattermapbox\"},{\"fill\":\"toself\",\"fillcolor\":\"rgba(135, 206, 235, 0.5)\",\"lat\":[44.333333333333336,44.37777777777778,44.37777777777778,44.333333333333336,44.333333333333336],\"line\":{\"color\":\"blue\"},\"lon\":[-110.21111111111111,-110.21111111111111,-110.32222222222222,-110.32222222222222,-110.21111111111111],\"name\":\"66\",\"showlegend\":false,\"type\":\"scattermapbox\"},{\"fill\":\"toself\",\"fillcolor\":\"rgba(135, 206, 235, 0.5)\",\"lat\":[44.37777777777778,44.422222222222224,44.422222222222224,44.37777777777778,44.37777777777778],\"line\":{\"color\":\"blue\"},\"lon\":[-110.21111111111111,-110.21111111111111,-110.32222222222222,-110.32222222222222,-110.21111111111111],\"name\":\"67\",\"showlegend\":false,\"type\":\"scattermapbox\"},{\"fill\":\"toself\",\"fillcolor\":\"rgba(135, 206, 235, 0.5)\",\"lat\":[44.422222222222224,44.46666666666667,44.46666666666667,44.422222222222224,44.422222222222224],\"line\":{\"color\":\"blue\"},\"lon\":[-110.21111111111111,-110.21111111111111,-110.32222222222222,-110.32222222222222,-110.21111111111111],\"name\":\"68\",\"showlegend\":false,\"type\":\"scattermapbox\"},{\"fill\":\"toself\",\"fillcolor\":\"rgba(135, 206, 235, 0.5)\",\"lat\":[44.46666666666667,44.51111111111111,44.51111111111111,44.46666666666667,44.46666666666667],\"line\":{\"color\":\"blue\"},\"lon\":[-110.21111111111111,-110.21111111111111,-110.32222222222222,-110.32222222222222,-110.21111111111111],\"name\":\"69\",\"showlegend\":false,\"type\":\"scattermapbox\"},{\"fill\":\"toself\",\"fillcolor\":\"rgba(135, 206, 235, 0.5)\",\"lat\":[44.51111111111111,44.55555555555556,44.55555555555556,44.51111111111111,44.51111111111111],\"line\":{\"color\":\"blue\"},\"lon\":[-110.21111111111111,-110.21111111111111,-110.32222222222222,-110.32222222222222,-110.21111111111111],\"name\":\"70\",\"showlegend\":false,\"type\":\"scattermapbox\"},{\"fill\":\"toself\",\"fillcolor\":\"rgba(135, 206, 235, 0.5)\",\"lat\":[44.55555555555556,44.6,44.6,44.55555555555556,44.55555555555556],\"line\":{\"color\":\"blue\"},\"lon\":[-110.21111111111111,-110.21111111111111,-110.32222222222222,-110.32222222222222,-110.21111111111111],\"name\":\"71\",\"showlegend\":false,\"type\":\"scattermapbox\"},{\"fill\":\"toself\",\"fillcolor\":\"rgba(135, 206, 235, 0.5)\",\"lat\":[44.2,44.24444444444445,44.24444444444445,44.2,44.2],\"line\":{\"color\":\"blue\"},\"lon\":[-110.1,-110.1,-110.21111111111111,-110.21111111111111,-110.1],\"name\":\"72\",\"showlegend\":false,\"type\":\"scattermapbox\"},{\"fill\":\"toself\",\"fillcolor\":\"rgba(135, 206, 235, 0.5)\",\"lat\":[44.24444444444445,44.28888888888889,44.28888888888889,44.24444444444445,44.24444444444445],\"line\":{\"color\":\"blue\"},\"lon\":[-110.1,-110.1,-110.21111111111111,-110.21111111111111,-110.1],\"name\":\"73\",\"showlegend\":false,\"type\":\"scattermapbox\"},{\"fill\":\"toself\",\"fillcolor\":\"rgba(135, 206, 235, 0.5)\",\"lat\":[44.28888888888889,44.333333333333336,44.333333333333336,44.28888888888889,44.28888888888889],\"line\":{\"color\":\"blue\"},\"lon\":[-110.1,-110.1,-110.21111111111111,-110.21111111111111,-110.1],\"name\":\"74\",\"showlegend\":false,\"type\":\"scattermapbox\"},{\"fill\":\"toself\",\"fillcolor\":\"rgba(135, 206, 235, 0.5)\",\"lat\":[44.333333333333336,44.37777777777778,44.37777777777778,44.333333333333336,44.333333333333336],\"line\":{\"color\":\"blue\"},\"lon\":[-110.1,-110.1,-110.21111111111111,-110.21111111111111,-110.1],\"name\":\"75\",\"showlegend\":false,\"type\":\"scattermapbox\"},{\"fill\":\"toself\",\"fillcolor\":\"rgba(135, 206, 235, 0.5)\",\"lat\":[44.37777777777778,44.422222222222224,44.422222222222224,44.37777777777778,44.37777777777778],\"line\":{\"color\":\"blue\"},\"lon\":[-110.1,-110.1,-110.21111111111111,-110.21111111111111,-110.1],\"name\":\"76\",\"showlegend\":false,\"type\":\"scattermapbox\"},{\"fill\":\"toself\",\"fillcolor\":\"rgba(135, 206, 235, 0.5)\",\"lat\":[44.422222222222224,44.46666666666667,44.46666666666667,44.422222222222224,44.422222222222224],\"line\":{\"color\":\"blue\"},\"lon\":[-110.1,-110.1,-110.21111111111111,-110.21111111111111,-110.1],\"name\":\"77\",\"showlegend\":false,\"type\":\"scattermapbox\"},{\"fill\":\"toself\",\"fillcolor\":\"rgba(135, 206, 235, 0.5)\",\"lat\":[44.46666666666667,44.51111111111111,44.51111111111111,44.46666666666667,44.46666666666667],\"line\":{\"color\":\"blue\"},\"lon\":[-110.1,-110.1,-110.21111111111111,-110.21111111111111,-110.1],\"name\":\"78\",\"showlegend\":false,\"type\":\"scattermapbox\"},{\"fill\":\"toself\",\"fillcolor\":\"rgba(135, 206, 235, 0.5)\",\"lat\":[44.51111111111111,44.55555555555556,44.55555555555556,44.51111111111111,44.51111111111111],\"line\":{\"color\":\"blue\"},\"lon\":[-110.1,-110.1,-110.21111111111111,-110.21111111111111,-110.1],\"name\":\"79\",\"showlegend\":false,\"type\":\"scattermapbox\"},{\"fill\":\"toself\",\"fillcolor\":\"rgba(135, 206, 235, 0.5)\",\"lat\":[44.55555555555556,44.6,44.6,44.55555555555556,44.55555555555556],\"line\":{\"color\":\"blue\"},\"lon\":[-110.1,-110.1,-110.21111111111111,-110.21111111111111,-110.1],\"name\":\"80\",\"showlegend\":false,\"type\":\"scattermapbox\"},{\"fill\":\"toself\",\"fillcolor\":\"rgba(128, 128, 128, 0.5)\",\"lat\":[44.4488,44.599,44.5166,44.428,44.4488],\"line\":{\"color\":\"black\"},\"lon\":[-110.839,-110.7052,-110.5339,-110.5885,-110.839],\"name\":\"Yellowstone National Park\",\"type\":\"scattermapbox\"},{\"fill\":\"toself\",\"fillcolor\":\"rgba(128, 128, 128, 0.5)\",\"lat\":[37.7244,37.6962,37.7799,37.8456,37.8651,37.7244],\"line\":{\"color\":\"black\"},\"lon\":[-119.655,-119.5964,-119.4893,-119.3029,-119.5383,-119.655],\"name\":\"Yosemite National Park\",\"type\":\"scattermapbox\"},{\"fill\":\"toself\",\"fillcolor\":\"rgba(128, 128, 128, 0.5)\",\"lat\":[36.1336,36.2331,36.2861,36.1182,36.057,36.1336],\"line\":{\"color\":\"black\"},\"lon\":[-112.1861,-112.2156,-112.0969,-111.8205,-112.1214,-112.1861],\"name\":\"Grand Canyon National Park\",\"type\":\"scattermapbox\"},{\"hoverinfo\":\"text\",\"lat\":[45.2284,44.3946,44.4246,45.40394376966061,44.312799532119016,44.425805687816776,45.2815155301155,44.35002861973153,44.31873375622972,45.23118413074546,44.242083707725534,44.29313811105763,45.30783769570338,44.34423425862761,44.31747970289194,45.477791949913644,44.406307852969185,44.4306218246594],\"lon\":[-110.7622,-110.8218,-110.1118,-110.57616849981925,-110.78124177861687,-109.90552343338386,-110.63559376317197,-110.83309963291467,-110.17666797420948,-110.71834758204696,-110.93947073816238,-110.1096102352974,-110.83996514905904,-110.83155320463439,-109.96356528215038,-110.63810537583386,-110.96414772193516,-110.03564847354673],\"marker\":{\"color\":0,\"size\":10},\"mode\":\"markers\",\"name\":\"Wolf\",\"showlegend\":true,\"text\":[\"Animal ID: A001\\u003cbr\\u003eScientific Name: Canis lupus\\u003cbr\\u003eRedlist Category: Least Concern\\u003cbr\\u003eMegafauna: False\\u003cbr\\u003eLatitude: 45.2284\\u003cbr\\u003eLongitude: -110.7622\",\"Animal ID: A001\\u003cbr\\u003eScientific Name: Canis lupus\\u003cbr\\u003eRedlist Category: Least Concern\\u003cbr\\u003eMegafauna: False\\u003cbr\\u003eLatitude: 44.3946\\u003cbr\\u003eLongitude: -110.8218\",\"Animal ID: A001\\u003cbr\\u003eScientific Name: Canis lupus\\u003cbr\\u003eRedlist Category: Least Concern\\u003cbr\\u003eMegafauna: False\\u003cbr\\u003eLatitude: 44.4246\\u003cbr\\u003eLongitude: -110.1118\",\"Animal ID: A001\\u003cbr\\u003eScientific Name: Canis lupus\\u003cbr\\u003eRedlist Category: Least Concern\\u003cbr\\u003eMegafauna: False\\u003cbr\\u003eLatitude: 45.40394376966061\\u003cbr\\u003eLongitude: -110.57616849981925\",\"Animal ID: A001\\u003cbr\\u003eScientific Name: Canis lupus\\u003cbr\\u003eRedlist Category: Least Concern\\u003cbr\\u003eMegafauna: False\\u003cbr\\u003eLatitude: 44.312799532119016\\u003cbr\\u003eLongitude: -110.78124177861687\",\"Animal ID: A001\\u003cbr\\u003eScientific Name: Canis lupus\\u003cbr\\u003eRedlist Category: Least Concern\\u003cbr\\u003eMegafauna: False\\u003cbr\\u003eLatitude: 44.425805687816776\\u003cbr\\u003eLongitude: -109.90552343338386\",\"Animal ID: A001\\u003cbr\\u003eScientific Name: Canis lupus\\u003cbr\\u003eRedlist Category: Least Concern\\u003cbr\\u003eMegafauna: False\\u003cbr\\u003eLatitude: 45.2815155301155\\u003cbr\\u003eLongitude: -110.63559376317197\",\"Animal ID: A001\\u003cbr\\u003eScientific Name: Canis lupus\\u003cbr\\u003eRedlist Category: Least Concern\\u003cbr\\u003eMegafauna: False\\u003cbr\\u003eLatitude: 44.35002861973153\\u003cbr\\u003eLongitude: -110.83309963291467\",\"Animal ID: A001\\u003cbr\\u003eScientific Name: Canis lupus\\u003cbr\\u003eRedlist Category: Least Concern\\u003cbr\\u003eMegafauna: False\\u003cbr\\u003eLatitude: 44.31873375622972\\u003cbr\\u003eLongitude: -110.17666797420948\",\"Animal ID: A001\\u003cbr\\u003eScientific Name: Canis lupus\\u003cbr\\u003eRedlist Category: Least Concern\\u003cbr\\u003eMegafauna: False\\u003cbr\\u003eLatitude: 45.23118413074546\\u003cbr\\u003eLongitude: -110.71834758204696\",\"Animal ID: A001\\u003cbr\\u003eScientific Name: Canis lupus\\u003cbr\\u003eRedlist Category: Least Concern\\u003cbr\\u003eMegafauna: False\\u003cbr\\u003eLatitude: 44.242083707725534\\u003cbr\\u003eLongitude: -110.93947073816238\",\"Animal ID: A001\\u003cbr\\u003eScientific Name: Canis lupus\\u003cbr\\u003eRedlist Category: Least Concern\\u003cbr\\u003eMegafauna: False\\u003cbr\\u003eLatitude: 44.29313811105763\\u003cbr\\u003eLongitude: -110.1096102352974\",\"Animal ID: A001\\u003cbr\\u003eScientific Name: Canis lupus\\u003cbr\\u003eRedlist Category: Least Concern\\u003cbr\\u003eMegafauna: False\\u003cbr\\u003eLatitude: 45.30783769570338\\u003cbr\\u003eLongitude: -110.83996514905904\",\"Animal ID: A001\\u003cbr\\u003eScientific Name: Canis lupus\\u003cbr\\u003eRedlist Category: Least Concern\\u003cbr\\u003eMegafauna: False\\u003cbr\\u003eLatitude: 44.34423425862761\\u003cbr\\u003eLongitude: -110.83155320463439\",\"Animal ID: A001\\u003cbr\\u003eScientific Name: Canis lupus\\u003cbr\\u003eRedlist Category: Least Concern\\u003cbr\\u003eMegafauna: False\\u003cbr\\u003eLatitude: 44.31747970289194\\u003cbr\\u003eLongitude: -109.96356528215038\",\"Animal ID: A001\\u003cbr\\u003eScientific Name: Canis lupus\\u003cbr\\u003eRedlist Category: Least Concern\\u003cbr\\u003eMegafauna: False\\u003cbr\\u003eLatitude: 45.477791949913644\\u003cbr\\u003eLongitude: -110.63810537583386\",\"Animal ID: A001\\u003cbr\\u003eScientific Name: Canis lupus\\u003cbr\\u003eRedlist Category: Least Concern\\u003cbr\\u003eMegafauna: False\\u003cbr\\u003eLatitude: 44.406307852969185\\u003cbr\\u003eLongitude: -110.96414772193516\",\"Animal ID: A001\\u003cbr\\u003eScientific Name: Canis lupus\\u003cbr\\u003eRedlist Category: Least Concern\\u003cbr\\u003eMegafauna: False\\u003cbr\\u003eLatitude: 44.4306218246594\\u003cbr\\u003eLongitude: -110.03564847354673\"],\"type\":\"scattermapbox\"},{\"hoverinfo\":\"text\",\"lat\":[44.576,44.5361,44.2221,44.59045316082347,44.515383666530255,44.20621968157634,44.28346643361653,44.73227748148939,44.11556547007197,44.525563104796305,44.69047337959254,44.41416458275538,44.655365957568975,44.69772094724606,44.319651255253795,44.65420387321512,44.49304869910558,44.31051962905861],\"lon\":[-110.6763,-110.7078,-110.8182,-110.56900631340376,-110.63915562451272,-110.71010795747833,-110.60508329386995,-110.82275177852586,-110.70857528827456,-110.5543081472947,-110.41402937979265,-110.8662884170047,-110.54915518201669,-110.83554305475879,-110.86444014740972,-110.58777449439445,-110.80844714638226,-110.79058820481897],\"marker\":{\"color\":1,\"size\":10},\"mode\":\"markers\",\"name\":\"Bison\",\"showlegend\":true,\"text\":[\"Animal ID: A002\\u003cbr\\u003eScientific Name: Bison bison\\u003cbr\\u003eRedlist Category: Vulnerable\\u003cbr\\u003eMegafauna: True\\u003cbr\\u003eLatitude: 44.576\\u003cbr\\u003eLongitude: -110.6763\",\"Animal ID: A002\\u003cbr\\u003eScientific Name: Bison bison\\u003cbr\\u003eRedlist Category: Vulnerable\\u003cbr\\u003eMegafauna: True\\u003cbr\\u003eLatitude: 44.5361\\u003cbr\\u003eLongitude: -110.7078\",\"Animal ID: A002\\u003cbr\\u003eScientific Name: Bison bison\\u003cbr\\u003eRedlist Category: Vulnerable\\u003cbr\\u003eMegafauna: True\\u003cbr\\u003eLatitude: 44.2221\\u003cbr\\u003eLongitude: -110.8182\",\"Animal ID: A002\\u003cbr\\u003eScientific Name: Bison bison\\u003cbr\\u003eRedlist Category: Vulnerable\\u003cbr\\u003eMegafauna: True\\u003cbr\\u003eLatitude: 44.59045316082347\\u003cbr\\u003eLongitude: -110.56900631340376\",\"Animal ID: A002\\u003cbr\\u003eScientific Name: Bison bison\\u003cbr\\u003eRedlist Category: Vulnerable\\u003cbr\\u003eMegafauna: True\\u003cbr\\u003eLatitude: 44.515383666530255\\u003cbr\\u003eLongitude: -110.63915562451272\",\"Animal ID: A002\\u003cbr\\u003eScientific Name: Bison bison\\u003cbr\\u003eRedlist Category: Vulnerable\\u003cbr\\u003eMegafauna: True\\u003cbr\\u003eLatitude: 44.20621968157634\\u003cbr\\u003eLongitude: -110.71010795747833\",\"Animal ID: A002\\u003cbr\\u003eScientific Name: Bison bison\\u003cbr\\u003eRedlist Category: Vulnerable\\u003cbr\\u003eMegafauna: True\\u003cbr\\u003eLatitude: 44.28346643361653\\u003cbr\\u003eLongitude: -110.60508329386995\",\"Animal ID: A002\\u003cbr\\u003eScientific Name: Bison bison\\u003cbr\\u003eRedlist Category: Vulnerable\\u003cbr\\u003eMegafauna: True\\u003cbr\\u003eLatitude: 44.73227748148939\\u003cbr\\u003eLongitude: -110.82275177852586\",\"Animal ID: A002\\u003cbr\\u003eScientific Name: Bison bison\\u003cbr\\u003eRedlist Category: Vulnerable\\u003cbr\\u003eMegafauna: True\\u003cbr\\u003eLatitude: 44.11556547007197\\u003cbr\\u003eLongitude: -110.70857528827456\",\"Animal ID: A002\\u003cbr\\u003eScientific Name: Bison bison\\u003cbr\\u003eRedlist Category: Vulnerable\\u003cbr\\u003eMegafauna: True\\u003cbr\\u003eLatitude: 44.525563104796305\\u003cbr\\u003eLongitude: -110.5543081472947\",\"Animal ID: A002\\u003cbr\\u003eScientific Name: Bison bison\\u003cbr\\u003eRedlist Category: Vulnerable\\u003cbr\\u003eMegafauna: True\\u003cbr\\u003eLatitude: 44.69047337959254\\u003cbr\\u003eLongitude: -110.41402937979265\",\"Animal ID: A002\\u003cbr\\u003eScientific Name: Bison bison\\u003cbr\\u003eRedlist Category: Vulnerable\\u003cbr\\u003eMegafauna: True\\u003cbr\\u003eLatitude: 44.41416458275538\\u003cbr\\u003eLongitude: -110.8662884170047\",\"Animal ID: A002\\u003cbr\\u003eScientific Name: Bison bison\\u003cbr\\u003eRedlist Category: Vulnerable\\u003cbr\\u003eMegafauna: True\\u003cbr\\u003eLatitude: 44.655365957568975\\u003cbr\\u003eLongitude: -110.54915518201669\",\"Animal ID: A002\\u003cbr\\u003eScientific Name: Bison bison\\u003cbr\\u003eRedlist Category: Vulnerable\\u003cbr\\u003eMegafauna: True\\u003cbr\\u003eLatitude: 44.69772094724606\\u003cbr\\u003eLongitude: -110.83554305475879\",\"Animal ID: A002\\u003cbr\\u003eScientific Name: Bison bison\\u003cbr\\u003eRedlist Category: Vulnerable\\u003cbr\\u003eMegafauna: True\\u003cbr\\u003eLatitude: 44.319651255253795\\u003cbr\\u003eLongitude: -110.86444014740972\",\"Animal ID: A002\\u003cbr\\u003eScientific Name: Bison bison\\u003cbr\\u003eRedlist Category: Vulnerable\\u003cbr\\u003eMegafauna: True\\u003cbr\\u003eLatitude: 44.65420387321512\\u003cbr\\u003eLongitude: -110.58777449439445\",\"Animal ID: A002\\u003cbr\\u003eScientific Name: Bison bison\\u003cbr\\u003eRedlist Category: Vulnerable\\u003cbr\\u003eMegafauna: True\\u003cbr\\u003eLatitude: 44.49304869910558\\u003cbr\\u003eLongitude: -110.80844714638226\",\"Animal ID: A002\\u003cbr\\u003eScientific Name: Bison bison\\u003cbr\\u003eRedlist Category: Vulnerable\\u003cbr\\u003eMegafauna: True\\u003cbr\\u003eLatitude: 44.31051962905861\\u003cbr\\u003eLongitude: -110.79058820481897\"],\"type\":\"scattermapbox\"},{\"hoverinfo\":\"text\",\"lat\":[44.4232,44.5472,44.5519,44.556320492450084,44.611659472055166,44.34722686484955,44.40404248791967,44.59620507854211,44.35913988457344,44.495222074590345,44.51366052759663,44.606429583035414,44.435814684730396,44.52985453203617,44.6176975574846,44.46156251522014,44.6467196645714,44.361330538459974],\"lon\":[-111.1061,-110.7893,-110.9812,-110.99952224248756,-110.78091510640935,-110.99483182664008,-111.11992376545336,-110.60067205556926,-111.04975492683529,-111.10780094884623,-110.83641578552589,-111.09653311829236,-111.18089168193129,-110.90756246511351,-111.13301559114642,-111.24996251556645,-111.00240489373725,-110.98541624022572],\"marker\":{\"color\":2,\"size\":10},\"mode\":\"markers\",\"name\":\"Elk\",\"showlegend\":true,\"text\":[\"Animal ID: A003\\u003cbr\\u003eScientific Name: Cervus canadensis\\u003cbr\\u003eRedlist Category: Least Concern\\u003cbr\\u003eMegafauna: True\\u003cbr\\u003eLatitude: 44.4232\\u003cbr\\u003eLongitude: -111.1061\",\"Animal ID: A003\\u003cbr\\u003eScientific Name: Cervus canadensis\\u003cbr\\u003eRedlist Category: Least Concern\\u003cbr\\u003eMegafauna: True\\u003cbr\\u003eLatitude: 44.5472\\u003cbr\\u003eLongitude: -110.7893\",\"Animal ID: A003\\u003cbr\\u003eScientific Name: Cervus canadensis\\u003cbr\\u003eRedlist Category: Least Concern\\u003cbr\\u003eMegafauna: True\\u003cbr\\u003eLatitude: 44.5519\\u003cbr\\u003eLongitude: -110.9812\",\"Animal ID: A003\\u003cbr\\u003eScientific Name: Cervus canadensis\\u003cbr\\u003eRedlist Category: Least Concern\\u003cbr\\u003eMegafauna: True\\u003cbr\\u003eLatitude: 44.556320492450084\\u003cbr\\u003eLongitude: -110.99952224248756\",\"Animal ID: A003\\u003cbr\\u003eScientific Name: Cervus canadensis\\u003cbr\\u003eRedlist Category: Least Concern\\u003cbr\\u003eMegafauna: True\\u003cbr\\u003eLatitude: 44.611659472055166\\u003cbr\\u003eLongitude: -110.78091510640935\",\"Animal ID: A003\\u003cbr\\u003eScientific Name: Cervus canadensis\\u003cbr\\u003eRedlist Category: Least Concern\\u003cbr\\u003eMegafauna: True\\u003cbr\\u003eLatitude: 44.34722686484955\\u003cbr\\u003eLongitude: -110.99483182664008\",\"Animal ID: A003\\u003cbr\\u003eScientific Name: Cervus canadensis\\u003cbr\\u003eRedlist Category: Least Concern\\u003cbr\\u003eMegafauna: True\\u003cbr\\u003eLatitude: 44.40404248791967\\u003cbr\\u003eLongitude: -111.11992376545336\",\"Animal ID: A003\\u003cbr\\u003eScientific Name: Cervus canadensis\\u003cbr\\u003eRedlist Category: Least Concern\\u003cbr\\u003eMegafauna: True\\u003cbr\\u003eLatitude: 44.59620507854211\\u003cbr\\u003eLongitude: -110.60067205556926\",\"Animal ID: A003\\u003cbr\\u003eScientific Name: Cervus canadensis\\u003cbr\\u003eRedlist Category: Least Concern\\u003cbr\\u003eMegafauna: True\\u003cbr\\u003eLatitude: 44.35913988457344\\u003cbr\\u003eLongitude: -111.04975492683529\",\"Animal ID: A003\\u003cbr\\u003eScientific Name: Cervus canadensis\\u003cbr\\u003eRedlist Category: Least Concern\\u003cbr\\u003eMegafauna: True\\u003cbr\\u003eLatitude: 44.495222074590345\\u003cbr\\u003eLongitude: -111.10780094884623\",\"Animal ID: A003\\u003cbr\\u003eScientific Name: Cervus canadensis\\u003cbr\\u003eRedlist Category: Least Concern\\u003cbr\\u003eMegafauna: True\\u003cbr\\u003eLatitude: 44.51366052759663\\u003cbr\\u003eLongitude: -110.83641578552589\",\"Animal ID: A003\\u003cbr\\u003eScientific Name: Cervus canadensis\\u003cbr\\u003eRedlist Category: Least Concern\\u003cbr\\u003eMegafauna: True\\u003cbr\\u003eLatitude: 44.606429583035414\\u003cbr\\u003eLongitude: -111.09653311829236\",\"Animal ID: A003\\u003cbr\\u003eScientific Name: Cervus canadensis\\u003cbr\\u003eRedlist Category: Least Concern\\u003cbr\\u003eMegafauna: True\\u003cbr\\u003eLatitude: 44.435814684730396\\u003cbr\\u003eLongitude: -111.18089168193129\",\"Animal ID: A003\\u003cbr\\u003eScientific Name: Cervus canadensis\\u003cbr\\u003eRedlist Category: Least Concern\\u003cbr\\u003eMegafauna: True\\u003cbr\\u003eLatitude: 44.52985453203617\\u003cbr\\u003eLongitude: -110.90756246511351\",\"Animal ID: A003\\u003cbr\\u003eScientific Name: Cervus canadensis\\u003cbr\\u003eRedlist Category: Least Concern\\u003cbr\\u003eMegafauna: True\\u003cbr\\u003eLatitude: 44.6176975574846\\u003cbr\\u003eLongitude: -111.13301559114642\",\"Animal ID: A003\\u003cbr\\u003eScientific Name: Cervus canadensis\\u003cbr\\u003eRedlist Category: Least Concern\\u003cbr\\u003eMegafauna: True\\u003cbr\\u003eLatitude: 44.46156251522014\\u003cbr\\u003eLongitude: -111.24996251556645\",\"Animal ID: A003\\u003cbr\\u003eScientific Name: Cervus canadensis\\u003cbr\\u003eRedlist Category: Least Concern\\u003cbr\\u003eMegafauna: True\\u003cbr\\u003eLatitude: 44.6467196645714\\u003cbr\\u003eLongitude: -111.00240489373725\",\"Animal ID: A003\\u003cbr\\u003eScientific Name: Cervus canadensis\\u003cbr\\u003eRedlist Category: Least Concern\\u003cbr\\u003eMegafauna: True\\u003cbr\\u003eLatitude: 44.361330538459974\\u003cbr\\u003eLongitude: -110.98541624022572\"],\"type\":\"scattermapbox\"},{\"hoverinfo\":\"text\",\"lat\":[37.9058,37.766,37.8601,37.90776515620409,37.91852997134804,37.91838912040377,37.73433493604156,37.59406067383653,37.93086053102806,37.8707088685418,37.87480441820162,37.98330809524632,38.00638816427536,37.770589282986954,37.87256923680025,38.01480057256719,37.913595687089945,37.90532990624728],\"lon\":[-119.7857,-119.6363,-119.5353,-119.849474984859,-119.63756758360483,-119.64661447612606,-119.82575866118475,-119.58423403431819,-119.6898546952159,-119.81184328059166,-119.58000282374661,-119.41918029270406,-119.84469454469772,-119.62889685874204,-119.64101794908096,-119.71954930135662,-119.6665703180332,-119.42343814370646],\"marker\":{\"color\":3,\"size\":10},\"mode\":\"markers\",\"name\":\"Sierra Nevada bighorn sheep\",\"showlegend\":true,\"text\":[\"Animal ID: A004\\u003cbr\\u003eScientific Name: Ovis canadensis sierrae\\u003cbr\\u003eRedlist Category: Endangered\\u003cbr\\u003eMegafauna: False\\u003cbr\\u003eLatitude: 37.9058\\u003cbr\\u003eLongitude: -119.7857\",\"Animal ID: A004\\u003cbr\\u003eScientific Name: Ovis canadensis sierrae\\u003cbr\\u003eRedlist Category: Endangered\\u003cbr\\u003eMegafauna: False\\u003cbr\\u003eLatitude: 37.766\\u003cbr\\u003eLongitude: -119.6363\",\"Animal ID: A004\\u003cbr\\u003eScientific Name: Ovis canadensis sierrae\\u003cbr\\u003eRedlist Category: Endangered\\u003cbr\\u003eMegafauna: False\\u003cbr\\u003eLatitude: 37.8601\\u003cbr\\u003eLongitude: -119.5353\",\"Animal ID: A004\\u003cbr\\u003eScientific Name: Ovis canadensis sierrae\\u003cbr\\u003eRedlist Category: Endangered\\u003cbr\\u003eMegafauna: False\\u003cbr\\u003eLatitude: 37.90776515620409\\u003cbr\\u003eLongitude: -119.849474984859\",\"Animal ID: A004\\u003cbr\\u003eScientific Name: Ovis canadensis sierrae\\u003cbr\\u003eRedlist Category: Endangered\\u003cbr\\u003eMegafauna: False\\u003cbr\\u003eLatitude: 37.91852997134804\\u003cbr\\u003eLongitude: -119.63756758360483\",\"Animal ID: A004\\u003cbr\\u003eScientific Name: Ovis canadensis sierrae\\u003cbr\\u003eRedlist Category: Endangered\\u003cbr\\u003eMegafauna: False\\u003cbr\\u003eLatitude: 37.91838912040377\\u003cbr\\u003eLongitude: -119.64661447612606\",\"Animal ID: A004\\u003cbr\\u003eScientific Name: Ovis canadensis sierrae\\u003cbr\\u003eRedlist Category: Endangered\\u003cbr\\u003eMegafauna: False\\u003cbr\\u003eLatitude: 37.73433493604156\\u003cbr\\u003eLongitude: -119.82575866118475\",\"Animal ID: A004\\u003cbr\\u003eScientific Name: Ovis canadensis sierrae\\u003cbr\\u003eRedlist Category: Endangered\\u003cbr\\u003eMegafauna: False\\u003cbr\\u003eLatitude: 37.59406067383653\\u003cbr\\u003eLongitude: -119.58423403431819\",\"Animal ID: A004\\u003cbr\\u003eScientific Name: Ovis canadensis sierrae\\u003cbr\\u003eRedlist Category: Endangered\\u003cbr\\u003eMegafauna: False\\u003cbr\\u003eLatitude: 37.93086053102806\\u003cbr\\u003eLongitude: -119.6898546952159\",\"Animal ID: A004\\u003cbr\\u003eScientific Name: Ovis canadensis sierrae\\u003cbr\\u003eRedlist Category: Endangered\\u003cbr\\u003eMegafauna: False\\u003cbr\\u003eLatitude: 37.8707088685418\\u003cbr\\u003eLongitude: -119.81184328059166\",\"Animal ID: A004\\u003cbr\\u003eScientific Name: Ovis canadensis sierrae\\u003cbr\\u003eRedlist Category: Endangered\\u003cbr\\u003eMegafauna: False\\u003cbr\\u003eLatitude: 37.87480441820162\\u003cbr\\u003eLongitude: -119.58000282374661\",\"Animal ID: A004\\u003cbr\\u003eScientific Name: Ovis canadensis sierrae\\u003cbr\\u003eRedlist Category: Endangered\\u003cbr\\u003eMegafauna: False\\u003cbr\\u003eLatitude: 37.98330809524632\\u003cbr\\u003eLongitude: -119.41918029270406\",\"Animal ID: A004\\u003cbr\\u003eScientific Name: Ovis canadensis sierrae\\u003cbr\\u003eRedlist Category: Endangered\\u003cbr\\u003eMegafauna: False\\u003cbr\\u003eLatitude: 38.00638816427536\\u003cbr\\u003eLongitude: -119.84469454469772\",\"Animal ID: A004\\u003cbr\\u003eScientific Name: Ovis canadensis sierrae\\u003cbr\\u003eRedlist Category: Endangered\\u003cbr\\u003eMegafauna: False\\u003cbr\\u003eLatitude: 37.770589282986954\\u003cbr\\u003eLongitude: -119.62889685874204\",\"Animal ID: A004\\u003cbr\\u003eScientific Name: Ovis canadensis sierrae\\u003cbr\\u003eRedlist Category: Endangered\\u003cbr\\u003eMegafauna: False\\u003cbr\\u003eLatitude: 37.87256923680025\\u003cbr\\u003eLongitude: -119.64101794908096\",\"Animal ID: A004\\u003cbr\\u003eScientific Name: Ovis canadensis sierrae\\u003cbr\\u003eRedlist Category: Endangered\\u003cbr\\u003eMegafauna: False\\u003cbr\\u003eLatitude: 38.01480057256719\\u003cbr\\u003eLongitude: -119.71954930135662\",\"Animal ID: A004\\u003cbr\\u003eScientific Name: Ovis canadensis sierrae\\u003cbr\\u003eRedlist Category: Endangered\\u003cbr\\u003eMegafauna: False\\u003cbr\\u003eLatitude: 37.913595687089945\\u003cbr\\u003eLongitude: -119.6665703180332\",\"Animal ID: A004\\u003cbr\\u003eScientific Name: Ovis canadensis sierrae\\u003cbr\\u003eRedlist Category: Endangered\\u003cbr\\u003eMegafauna: False\\u003cbr\\u003eLatitude: 37.90532990624728\\u003cbr\\u003eLongitude: -119.42343814370646\"],\"type\":\"scattermapbox\"},{\"hoverinfo\":\"text\",\"lat\":[37.7896,37.8626,37.6181,37.65235009603704,37.80223948229645,37.67898392336359,37.86961580963546,37.88195742506145,37.610324377767306,37.76486069780724,37.66604593311694,37.63297711279807,37.74836295373805,37.86931975381025,37.49654917220137,37.77120903686853,37.881300336428,37.60870678209668],\"lon\":[-119.6426,-119.7777,-119.6619,-119.59118475827995,-119.652958619999,-119.67314694035353,-119.45721441956655,-119.91845315391951,-119.67918601773097,-119.85998788224855,-119.7312460926968,-119.62826208509584,-119.69732975596301,-119.6892446680809,-119.69688349503312,-119.5225208957068,-119.60109204653591,-119.48569758264638],\"marker\":{\"color\":4,\"size\":10},\"mode\":\"markers\",\"name\":\"Sierra Nevada red fox\",\"showlegend\":true,\"text\":[\"Animal ID: A005\\u003cbr\\u003eScientific Name: Vulpes vulpes necator\\u003cbr\\u003eRedlist Category: Critically Endangered\\u003cbr\\u003eMegafauna: False\\u003cbr\\u003eLatitude: 37.7896\\u003cbr\\u003eLongitude: -119.6426\",\"Animal ID: A005\\u003cbr\\u003eScientific Name: Vulpes vulpes necator\\u003cbr\\u003eRedlist Category: Critically Endangered\\u003cbr\\u003eMegafauna: False\\u003cbr\\u003eLatitude: 37.8626\\u003cbr\\u003eLongitude: -119.7777\",\"Animal ID: A005\\u003cbr\\u003eScientific Name: Vulpes vulpes necator\\u003cbr\\u003eRedlist Category: Critically Endangered\\u003cbr\\u003eMegafauna: False\\u003cbr\\u003eLatitude: 37.6181\\u003cbr\\u003eLongitude: -119.6619\",\"Animal ID: A005\\u003cbr\\u003eScientific Name: Vulpes vulpes necator\\u003cbr\\u003eRedlist Category: Critically Endangered\\u003cbr\\u003eMegafauna: False\\u003cbr\\u003eLatitude: 37.65235009603704\\u003cbr\\u003eLongitude: -119.59118475827995\",\"Animal ID: A005\\u003cbr\\u003eScientific Name: Vulpes vulpes necator\\u003cbr\\u003eRedlist Category: Critically Endangered\\u003cbr\\u003eMegafauna: False\\u003cbr\\u003eLatitude: 37.80223948229645\\u003cbr\\u003eLongitude: -119.652958619999\",\"Animal ID: A005\\u003cbr\\u003eScientific Name: Vulpes vulpes necator\\u003cbr\\u003eRedlist Category: Critically Endangered\\u003cbr\\u003eMegafauna: False\\u003cbr\\u003eLatitude: 37.67898392336359\\u003cbr\\u003eLongitude: -119.67314694035353\",\"Animal ID: A005\\u003cbr\\u003eScientific Name: Vulpes vulpes necator\\u003cbr\\u003eRedlist Category: Critically Endangered\\u003cbr\\u003eMegafauna: False\\u003cbr\\u003eLatitude: 37.86961580963546\\u003cbr\\u003eLongitude: -119.45721441956655\",\"Animal ID: A005\\u003cbr\\u003eScientific Name: Vulpes vulpes necator\\u003cbr\\u003eRedlist Category: Critically Endangered\\u003cbr\\u003eMegafauna: False\\u003cbr\\u003eLatitude: 37.88195742506145\\u003cbr\\u003eLongitude: -119.91845315391951\",\"Animal ID: A005\\u003cbr\\u003eScientific Name: Vulpes vulpes necator\\u003cbr\\u003eRedlist Category: Critically Endangered\\u003cbr\\u003eMegafauna: False\\u003cbr\\u003eLatitude: 37.610324377767306\\u003cbr\\u003eLongitude: -119.67918601773097\",\"Animal ID: A005\\u003cbr\\u003eScientific Name: Vulpes vulpes necator\\u003cbr\\u003eRedlist Category: Critically Endangered\\u003cbr\\u003eMegafauna: False\\u003cbr\\u003eLatitude: 37.76486069780724\\u003cbr\\u003eLongitude: -119.85998788224855\",\"Animal ID: A005\\u003cbr\\u003eScientific Name: Vulpes vulpes necator\\u003cbr\\u003eRedlist Category: Critically Endangered\\u003cbr\\u003eMegafauna: False\\u003cbr\\u003eLatitude: 37.66604593311694\\u003cbr\\u003eLongitude: -119.7312460926968\",\"Animal ID: A005\\u003cbr\\u003eScientific Name: Vulpes vulpes necator\\u003cbr\\u003eRedlist Category: Critically Endangered\\u003cbr\\u003eMegafauna: False\\u003cbr\\u003eLatitude: 37.63297711279807\\u003cbr\\u003eLongitude: -119.62826208509584\",\"Animal ID: A005\\u003cbr\\u003eScientific Name: Vulpes vulpes necator\\u003cbr\\u003eRedlist Category: Critically Endangered\\u003cbr\\u003eMegafauna: False\\u003cbr\\u003eLatitude: 37.74836295373805\\u003cbr\\u003eLongitude: -119.69732975596301\",\"Animal ID: A005\\u003cbr\\u003eScientific Name: Vulpes vulpes necator\\u003cbr\\u003eRedlist Category: Critically Endangered\\u003cbr\\u003eMegafauna: False\\u003cbr\\u003eLatitude: 37.86931975381025\\u003cbr\\u003eLongitude: -119.6892446680809\",\"Animal ID: A005\\u003cbr\\u003eScientific Name: Vulpes vulpes necator\\u003cbr\\u003eRedlist Category: Critically Endangered\\u003cbr\\u003eMegafauna: False\\u003cbr\\u003eLatitude: 37.49654917220137\\u003cbr\\u003eLongitude: -119.69688349503312\",\"Animal ID: A005\\u003cbr\\u003eScientific Name: Vulpes vulpes necator\\u003cbr\\u003eRedlist Category: Critically Endangered\\u003cbr\\u003eMegafauna: False\\u003cbr\\u003eLatitude: 37.77120903686853\\u003cbr\\u003eLongitude: -119.5225208957068\",\"Animal ID: A005\\u003cbr\\u003eScientific Name: Vulpes vulpes necator\\u003cbr\\u003eRedlist Category: Critically Endangered\\u003cbr\\u003eMegafauna: False\\u003cbr\\u003eLatitude: 37.881300336428\\u003cbr\\u003eLongitude: -119.60109204653591\",\"Animal ID: A005\\u003cbr\\u003eScientific Name: Vulpes vulpes necator\\u003cbr\\u003eRedlist Category: Critically Endangered\\u003cbr\\u003eMegafauna: False\\u003cbr\\u003eLatitude: 37.60870678209668\\u003cbr\\u003eLongitude: -119.48569758264638\"],\"type\":\"scattermapbox\"},{\"hoverinfo\":\"text\",\"lat\":[37.8829,37.8636,37.8681,37.90710890654279,37.7949167615148,37.94375417864019,37.980446096399184,37.85090145114919,37.861869385435064,37.81428510640483,37.837662830258594,37.87496212518173,37.648080347631755,37.78999018669788,37.92045878239707,37.72077901610133,37.815909148887805,37.91687023138365],\"lon\":[-119.7608,-119.628,-119.6255,-119.76970567309938,-119.65045298881651,-119.75391741132324,-119.79975052421838,-119.54370822793986,-119.374903386598,-119.7048597065485,-119.66325933997838,-119.69114304628188,-119.93433876915358,-119.52764129668827,-119.57946597655378,-119.84896495157189,-119.58402045656578,-119.5123368622553],\"marker\":{\"color\":5,\"size\":10},\"mode\":\"markers\",\"name\":\"Bobcat\",\"showlegend\":true,\"text\":[\"Animal ID: A006\\u003cbr\\u003eScientific Name: Lynx rufus\\u003cbr\\u003eRedlist Category: Least Concern\\u003cbr\\u003eMegafauna: True\\u003cbr\\u003eLatitude: 37.8829\\u003cbr\\u003eLongitude: -119.7608\",\"Animal ID: A006\\u003cbr\\u003eScientific Name: Lynx rufus\\u003cbr\\u003eRedlist Category: Least Concern\\u003cbr\\u003eMegafauna: True\\u003cbr\\u003eLatitude: 37.8636\\u003cbr\\u003eLongitude: -119.628\",\"Animal ID: A006\\u003cbr\\u003eScientific Name: Lynx rufus\\u003cbr\\u003eRedlist Category: Least Concern\\u003cbr\\u003eMegafauna: True\\u003cbr\\u003eLatitude: 37.8681\\u003cbr\\u003eLongitude: -119.6255\",\"Animal ID: A006\\u003cbr\\u003eScientific Name: Lynx rufus\\u003cbr\\u003eRedlist Category: Least Concern\\u003cbr\\u003eMegafauna: True\\u003cbr\\u003eLatitude: 37.90710890654279\\u003cbr\\u003eLongitude: -119.76970567309938\",\"Animal ID: A006\\u003cbr\\u003eScientific Name: Lynx rufus\\u003cbr\\u003eRedlist Category: Least Concern\\u003cbr\\u003eMegafauna: True\\u003cbr\\u003eLatitude: 37.7949167615148\\u003cbr\\u003eLongitude: -119.65045298881651\",\"Animal ID: A006\\u003cbr\\u003eScientific Name: Lynx rufus\\u003cbr\\u003eRedlist Category: Least Concern\\u003cbr\\u003eMegafauna: True\\u003cbr\\u003eLatitude: 37.94375417864019\\u003cbr\\u003eLongitude: -119.75391741132324\",\"Animal ID: A006\\u003cbr\\u003eScientific Name: Lynx rufus\\u003cbr\\u003eRedlist Category: Least Concern\\u003cbr\\u003eMegafauna: True\\u003cbr\\u003eLatitude: 37.980446096399184\\u003cbr\\u003eLongitude: -119.79975052421838\",\"Animal ID: A006\\u003cbr\\u003eScientific Name: Lynx rufus\\u003cbr\\u003eRedlist Category: Least Concern\\u003cbr\\u003eMegafauna: True\\u003cbr\\u003eLatitude: 37.85090145114919\\u003cbr\\u003eLongitude: -119.54370822793986\",\"Animal ID: A006\\u003cbr\\u003eScientific Name: Lynx rufus\\u003cbr\\u003eRedlist Category: Least Concern\\u003cbr\\u003eMegafauna: True\\u003cbr\\u003eLatitude: 37.861869385435064\\u003cbr\\u003eLongitude: -119.374903386598\",\"Animal ID: A006\\u003cbr\\u003eScientific Name: Lynx rufus\\u003cbr\\u003eRedlist Category: Least Concern\\u003cbr\\u003eMegafauna: True\\u003cbr\\u003eLatitude: 37.81428510640483\\u003cbr\\u003eLongitude: -119.7048597065485\",\"Animal ID: A006\\u003cbr\\u003eScientific Name: Lynx rufus\\u003cbr\\u003eRedlist Category: Least Concern\\u003cbr\\u003eMegafauna: True\\u003cbr\\u003eLatitude: 37.837662830258594\\u003cbr\\u003eLongitude: -119.66325933997838\",\"Animal ID: A006\\u003cbr\\u003eScientific Name: Lynx rufus\\u003cbr\\u003eRedlist Category: Least Concern\\u003cbr\\u003eMegafauna: True\\u003cbr\\u003eLatitude: 37.87496212518173\\u003cbr\\u003eLongitude: -119.69114304628188\",\"Animal ID: A006\\u003cbr\\u003eScientific Name: Lynx rufus\\u003cbr\\u003eRedlist Category: Least Concern\\u003cbr\\u003eMegafauna: True\\u003cbr\\u003eLatitude: 37.648080347631755\\u003cbr\\u003eLongitude: -119.93433876915358\",\"Animal ID: A006\\u003cbr\\u003eScientific Name: Lynx rufus\\u003cbr\\u003eRedlist Category: Least Concern\\u003cbr\\u003eMegafauna: True\\u003cbr\\u003eLatitude: 37.78999018669788\\u003cbr\\u003eLongitude: -119.52764129668827\",\"Animal ID: A006\\u003cbr\\u003eScientific Name: Lynx rufus\\u003cbr\\u003eRedlist Category: Least Concern\\u003cbr\\u003eMegafauna: True\\u003cbr\\u003eLatitude: 37.92045878239707\\u003cbr\\u003eLongitude: -119.57946597655378\",\"Animal ID: A006\\u003cbr\\u003eScientific Name: Lynx rufus\\u003cbr\\u003eRedlist Category: Least Concern\\u003cbr\\u003eMegafauna: True\\u003cbr\\u003eLatitude: 37.72077901610133\\u003cbr\\u003eLongitude: -119.84896495157189\",\"Animal ID: A006\\u003cbr\\u003eScientific Name: Lynx rufus\\u003cbr\\u003eRedlist Category: Least Concern\\u003cbr\\u003eMegafauna: True\\u003cbr\\u003eLatitude: 37.815909148887805\\u003cbr\\u003eLongitude: -119.58402045656578\",\"Animal ID: A006\\u003cbr\\u003eScientific Name: Lynx rufus\\u003cbr\\u003eRedlist Category: Least Concern\\u003cbr\\u003eMegafauna: True\\u003cbr\\u003eLatitude: 37.91687023138365\\u003cbr\\u003eLongitude: -119.5123368622553\"],\"type\":\"scattermapbox\"},{\"hoverinfo\":\"text\",\"lat\":[36.372,36.6622,36.2261,36.26397056456099,36.58913067928438,36.266161801035054,36.526650620314626,36.91329606452577,35.98398770014302,36.45245186863077,36.64406340911533,36.13094425283256,36.418882505725314,36.563365010561284,36.21718959541811,36.525765915256656,36.613154353642074,36.13871958112146],\"lon\":[-113.1627,-112.2308,-112.1831,-113.21193434307746,-112.23087170017679,-112.09494838239584,-113.21582718248598,-112.22334546782749,-112.34621778617243,-113.27244512241897,-112.29685983932637,-112.26185733879204,-112.92270571856184,-112.1829129593053,-112.15097931630717,-113.07804475188851,-112.32303078267347,-112.48703823170624],\"marker\":{\"color\":6,\"size\":10},\"mode\":\"markers\",\"name\":\"Mule deer\",\"showlegend\":true,\"text\":[\"Animal ID: A007\\u003cbr\\u003eScientific Name: Odocoileus hemionus\\u003cbr\\u003eRedlist Category: Least Concern\\u003cbr\\u003eMegafauna: True\\u003cbr\\u003eLatitude: 36.372\\u003cbr\\u003eLongitude: -113.1627\",\"Animal ID: A007\\u003cbr\\u003eScientific Name: Odocoileus hemionus\\u003cbr\\u003eRedlist Category: Least Concern\\u003cbr\\u003eMegafauna: True\\u003cbr\\u003eLatitude: 36.6622\\u003cbr\\u003eLongitude: -112.2308\",\"Animal ID: A007\\u003cbr\\u003eScientific Name: Odocoileus hemionus\\u003cbr\\u003eRedlist Category: Least Concern\\u003cbr\\u003eMegafauna: True\\u003cbr\\u003eLatitude: 36.2261\\u003cbr\\u003eLongitude: -112.1831\",\"Animal ID: A007\\u003cbr\\u003eScientific Name: Odocoileus hemionus\\u003cbr\\u003eRedlist Category: Least Concern\\u003cbr\\u003eMegafauna: True\\u003cbr\\u003eLatitude: 36.26397056456099\\u003cbr\\u003eLongitude: -113.21193434307746\",\"Animal ID: A007\\u003cbr\\u003eScientific Name: Odocoileus hemionus\\u003cbr\\u003eRedlist Category: Least Concern\\u003cbr\\u003eMegafauna: True\\u003cbr\\u003eLatitude: 36.58913067928438\\u003cbr\\u003eLongitude: -112.23087170017679\",\"Animal ID: A007\\u003cbr\\u003eScientific Name: Odocoileus hemionus\\u003cbr\\u003eRedlist Category: Least Concern\\u003cbr\\u003eMegafauna: True\\u003cbr\\u003eLatitude: 36.266161801035054\\u003cbr\\u003eLongitude: -112.09494838239584\",\"Animal ID: A007\\u003cbr\\u003eScientific Name: Odocoileus hemionus\\u003cbr\\u003eRedlist Category: Least Concern\\u003cbr\\u003eMegafauna: True\\u003cbr\\u003eLatitude: 36.526650620314626\\u003cbr\\u003eLongitude: -113.21582718248598\",\"Animal ID: A007\\u003cbr\\u003eScientific Name: Odocoileus hemionus\\u003cbr\\u003eRedlist Category: Least Concern\\u003cbr\\u003eMegafauna: True\\u003cbr\\u003eLatitude: 36.91329606452577\\u003cbr\\u003eLongitude: -112.22334546782749\",\"Animal ID: A007\\u003cbr\\u003eScientific Name: Odocoileus hemionus\\u003cbr\\u003eRedlist Category: Least Concern\\u003cbr\\u003eMegafauna: True\\u003cbr\\u003eLatitude: 35.98398770014302\\u003cbr\\u003eLongitude: -112.34621778617243\",\"Animal ID: A007\\u003cbr\\u003eScientific Name: Odocoileus hemionus\\u003cbr\\u003eRedlist Category: Least Concern\\u003cbr\\u003eMegafauna: True\\u003cbr\\u003eLatitude: 36.45245186863077\\u003cbr\\u003eLongitude: -113.27244512241897\",\"Animal ID: A007\\u003cbr\\u003eScientific Name: Odocoileus hemionus\\u003cbr\\u003eRedlist Category: Least Concern\\u003cbr\\u003eMegafauna: True\\u003cbr\\u003eLatitude: 36.64406340911533\\u003cbr\\u003eLongitude: -112.29685983932637\",\"Animal ID: A007\\u003cbr\\u003eScientific Name: Odocoileus hemionus\\u003cbr\\u003eRedlist Category: Least Concern\\u003cbr\\u003eMegafauna: True\\u003cbr\\u003eLatitude: 36.13094425283256\\u003cbr\\u003eLongitude: -112.26185733879204\",\"Animal ID: A007\\u003cbr\\u003eScientific Name: Odocoileus hemionus\\u003cbr\\u003eRedlist Category: Least Concern\\u003cbr\\u003eMegafauna: True\\u003cbr\\u003eLatitude: 36.418882505725314\\u003cbr\\u003eLongitude: -112.92270571856184\",\"Animal ID: A007\\u003cbr\\u003eScientific Name: Odocoileus hemionus\\u003cbr\\u003eRedlist Category: Least Concern\\u003cbr\\u003eMegafauna: True\\u003cbr\\u003eLatitude: 36.563365010561284\\u003cbr\\u003eLongitude: -112.1829129593053\",\"Animal ID: A007\\u003cbr\\u003eScientific Name: Odocoileus hemionus\\u003cbr\\u003eRedlist Category: Least Concern\\u003cbr\\u003eMegafauna: True\\u003cbr\\u003eLatitude: 36.21718959541811\\u003cbr\\u003eLongitude: -112.15097931630717\",\"Animal ID: A007\\u003cbr\\u003eScientific Name: Odocoileus hemionus\\u003cbr\\u003eRedlist Category: Least Concern\\u003cbr\\u003eMegafauna: True\\u003cbr\\u003eLatitude: 36.525765915256656\\u003cbr\\u003eLongitude: -113.07804475188851\",\"Animal ID: A007\\u003cbr\\u003eScientific Name: Odocoileus hemionus\\u003cbr\\u003eRedlist Category: Least Concern\\u003cbr\\u003eMegafauna: True\\u003cbr\\u003eLatitude: 36.613154353642074\\u003cbr\\u003eLongitude: -112.32303078267347\",\"Animal ID: A007\\u003cbr\\u003eScientific Name: Odocoileus hemionus\\u003cbr\\u003eRedlist Category: Least Concern\\u003cbr\\u003eMegafauna: True\\u003cbr\\u003eLatitude: 36.13871958112146\\u003cbr\\u003eLongitude: -112.48703823170624\"],\"type\":\"scattermapbox\"},{\"hoverinfo\":\"text\",\"lat\":[36.6193,36.6016,36.5492,36.59320410857596,36.69956402892489,36.64308551747246,36.566832130795675,36.59204813220989,36.58432869810483,36.652983535265406,36.583293417118334,36.559908579452916,36.68660411181372,36.4595914664512,36.60189660293371,36.53899891724605,36.600130594569386,36.715175747758195],\"lon\":[-112.3388,-112.3256,-112.7439,-112.34773239902562,-112.32163967709154,-112.80695651153275,-112.3970412605849,-112.19428249856173,-112.82787201345239,-112.2428691552404,-112.43832874086698,-112.78563084834425,-112.24802229982072,-112.2113225803452,-112.80496888383925,-112.13624201488317,-112.27692617073231,-112.76967198848492],\"marker\":{\"color\":7,\"size\":10},\"mode\":\"markers\",\"name\":\"Desert bighorn sheep\",\"showlegend\":true,\"text\":[\"Animal ID: A008\\u003cbr\\u003eScientific Name: Ovis canadensis nelsoni\\u003cbr\\u003eRedlist Category: Near Threatened\\u003cbr\\u003eMegafauna: True\\u003cbr\\u003eLatitude: 36.6193\\u003cbr\\u003eLongitude: -112.3388\",\"Animal ID: A008\\u003cbr\\u003eScientific Name: Ovis canadensis nelsoni\\u003cbr\\u003eRedlist Category: Near Threatened\\u003cbr\\u003eMegafauna: True\\u003cbr\\u003eLatitude: 36.6016\\u003cbr\\u003eLongitude: -112.3256\",\"Animal ID: A008\\u003cbr\\u003eScientific Name: Ovis canadensis nelsoni\\u003cbr\\u003eRedlist Category: Near Threatened\\u003cbr\\u003eMegafauna: True\\u003cbr\\u003eLatitude: 36.5492\\u003cbr\\u003eLongitude: -112.7439\",\"Animal ID: A008\\u003cbr\\u003eScientific Name: Ovis canadensis nelsoni\\u003cbr\\u003eRedlist Category: Near Threatened\\u003cbr\\u003eMegafauna: True\\u003cbr\\u003eLatitude: 36.59320410857596\\u003cbr\\u003eLongitude: -112.34773239902562\",\"Animal ID: A008\\u003cbr\\u003eScientific Name: Ovis canadensis nelsoni\\u003cbr\\u003eRedlist Category: Near Threatened\\u003cbr\\u003eMegafauna: True\\u003cbr\\u003eLatitude: 36.69956402892489\\u003cbr\\u003eLongitude: -112.32163967709154\",\"Animal ID: A008\\u003cbr\\u003eScientific Name: Ovis canadensis nelsoni\\u003cbr\\u003eRedlist Category: Near Threatened\\u003cbr\\u003eMegafauna: True\\u003cbr\\u003eLatitude: 36.64308551747246\\u003cbr\\u003eLongitude: -112.80695651153275\",\"Animal ID: A008\\u003cbr\\u003eScientific Name: Ovis canadensis nelsoni\\u003cbr\\u003eRedlist Category: Near Threatened\\u003cbr\\u003eMegafauna: True\\u003cbr\\u003eLatitude: 36.566832130795675\\u003cbr\\u003eLongitude: -112.3970412605849\",\"Animal ID: A008\\u003cbr\\u003eScientific Name: Ovis canadensis nelsoni\\u003cbr\\u003eRedlist Category: Near Threatened\\u003cbr\\u003eMegafauna: True\\u003cbr\\u003eLatitude: 36.59204813220989\\u003cbr\\u003eLongitude: -112.19428249856173\",\"Animal ID: A008\\u003cbr\\u003eScientific Name: Ovis canadensis nelsoni\\u003cbr\\u003eRedlist Category: Near Threatened\\u003cbr\\u003eMegafauna: True\\u003cbr\\u003eLatitude: 36.58432869810483\\u003cbr\\u003eLongitude: -112.82787201345239\",\"Animal ID: A008\\u003cbr\\u003eScientific Name: Ovis canadensis nelsoni\\u003cbr\\u003eRedlist Category: Near Threatened\\u003cbr\\u003eMegafauna: True\\u003cbr\\u003eLatitude: 36.652983535265406\\u003cbr\\u003eLongitude: -112.2428691552404\",\"Animal ID: A008\\u003cbr\\u003eScientific Name: Ovis canadensis nelsoni\\u003cbr\\u003eRedlist Category: Near Threatened\\u003cbr\\u003eMegafauna: True\\u003cbr\\u003eLatitude: 36.583293417118334\\u003cbr\\u003eLongitude: -112.43832874086698\",\"Animal ID: A008\\u003cbr\\u003eScientific Name: Ovis canadensis nelsoni\\u003cbr\\u003eRedlist Category: Near Threatened\\u003cbr\\u003eMegafauna: True\\u003cbr\\u003eLatitude: 36.559908579452916\\u003cbr\\u003eLongitude: -112.78563084834425\",\"Animal ID: A008\\u003cbr\\u003eScientific Name: Ovis canadensis nelsoni\\u003cbr\\u003eRedlist Category: Near Threatened\\u003cbr\\u003eMegafauna: True\\u003cbr\\u003eLatitude: 36.68660411181372\\u003cbr\\u003eLongitude: -112.24802229982072\",\"Animal ID: A008\\u003cbr\\u003eScientific Name: Ovis canadensis nelsoni\\u003cbr\\u003eRedlist Category: Near Threatened\\u003cbr\\u003eMegafauna: True\\u003cbr\\u003eLatitude: 36.4595914664512\\u003cbr\\u003eLongitude: -112.2113225803452\",\"Animal ID: A008\\u003cbr\\u003eScientific Name: Ovis canadensis nelsoni\\u003cbr\\u003eRedlist Category: Near Threatened\\u003cbr\\u003eMegafauna: True\\u003cbr\\u003eLatitude: 36.60189660293371\\u003cbr\\u003eLongitude: -112.80496888383925\",\"Animal ID: A008\\u003cbr\\u003eScientific Name: Ovis canadensis nelsoni\\u003cbr\\u003eRedlist Category: Near Threatened\\u003cbr\\u003eMegafauna: True\\u003cbr\\u003eLatitude: 36.53899891724605\\u003cbr\\u003eLongitude: -112.13624201488317\",\"Animal ID: A008\\u003cbr\\u003eScientific Name: Ovis canadensis nelsoni\\u003cbr\\u003eRedlist Category: Near Threatened\\u003cbr\\u003eMegafauna: True\\u003cbr\\u003eLatitude: 36.600130594569386\\u003cbr\\u003eLongitude: -112.27692617073231\",\"Animal ID: A008\\u003cbr\\u003eScientific Name: Ovis canadensis nelsoni\\u003cbr\\u003eRedlist Category: Near Threatened\\u003cbr\\u003eMegafauna: True\\u003cbr\\u003eLatitude: 36.715175747758195\\u003cbr\\u003eLongitude: -112.76967198848492\"],\"type\":\"scattermapbox\"},{\"hoverinfo\":\"text\",\"lat\":[36.3388,36.4868,36.6282,36.43100043599815,36.47367449672423,36.57025822088406,36.40186047130637,36.39068206460885,36.721265212243054,36.4113245853972,36.47696528092176,36.5568872827404,36.45480967919143,36.684378963172286,36.62436229795418,36.324735008723266,36.49097793559593,36.718152946184546],\"lon\":[-112.119,-112.3517,-112.6524,-112.0590397421836,-112.22462393965932,-112.48184643909867,-111.96607811315805,-112.30298247607482,-112.46500724211852,-112.0578223697815,-112.57271307537773,-112.76700513256621,-112.11257327795097,-112.31362533411557,-112.59789774008388,-112.15517117790904,-112.13833887934493,-112.88240039792458],\"marker\":{\"color\":8,\"size\":10},\"mode\":\"markers\",\"name\":\"Gray fox\",\"showlegend\":true,\"text\":[\"Animal ID: A009\\u003cbr\\u003eScientific Name: Urocyon cinereoargenteus\\u003cbr\\u003eRedlist Category: Least Concern\\u003cbr\\u003eMegafauna: True\\u003cbr\\u003eLatitude: 36.3388\\u003cbr\\u003eLongitude: -112.119\",\"Animal ID: A009\\u003cbr\\u003eScientific Name: Urocyon cinereoargenteus\\u003cbr\\u003eRedlist Category: Least Concern\\u003cbr\\u003eMegafauna: True\\u003cbr\\u003eLatitude: 36.4868\\u003cbr\\u003eLongitude: -112.3517\",\"Animal ID: A009\\u003cbr\\u003eScientific Name: Urocyon cinereoargenteus\\u003cbr\\u003eRedlist Category: Least Concern\\u003cbr\\u003eMegafauna: True\\u003cbr\\u003eLatitude: 36.6282\\u003cbr\\u003eLongitude: -112.6524\",\"Animal ID: A009\\u003cbr\\u003eScientific Name: Urocyon cinereoargenteus\\u003cbr\\u003eRedlist Category: Least Concern\\u003cbr\\u003eMegafauna: True\\u003cbr\\u003eLatitude: 36.43100043599815\\u003cbr\\u003eLongitude: -112.0590397421836\",\"Animal ID: A009\\u003cbr\\u003eScientific Name: Urocyon cinereoargenteus\\u003cbr\\u003eRedlist Category: Least Concern\\u003cbr\\u003eMegafauna: True\\u003cbr\\u003eLatitude: 36.47367449672423\\u003cbr\\u003eLongitude: -112.22462393965932\",\"Animal ID: A009\\u003cbr\\u003eScientific Name: Urocyon cinereoargenteus\\u003cbr\\u003eRedlist Category: Least Concern\\u003cbr\\u003eMegafauna: True\\u003cbr\\u003eLatitude: 36.57025822088406\\u003cbr\\u003eLongitude: -112.48184643909867\",\"Animal ID: A009\\u003cbr\\u003eScientific Name: Urocyon cinereoargenteus\\u003cbr\\u003eRedlist Category: Least Concern\\u003cbr\\u003eMegafauna: True\\u003cbr\\u003eLatitude: 36.40186047130637\\u003cbr\\u003eLongitude: -111.96607811315805\",\"Animal ID: A009\\u003cbr\\u003eScientific Name: Urocyon cinereoargenteus\\u003cbr\\u003eRedlist Category: Least Concern\\u003cbr\\u003eMegafauna: True\\u003cbr\\u003eLatitude: 36.39068206460885\\u003cbr\\u003eLongitude: -112.30298247607482\",\"Animal ID: A009\\u003cbr\\u003eScientific Name: Urocyon cinereoargenteus\\u003cbr\\u003eRedlist Category: Least Concern\\u003cbr\\u003eMegafauna: True\\u003cbr\\u003eLatitude: 36.721265212243054\\u003cbr\\u003eLongitude: -112.46500724211852\",\"Animal ID: A009\\u003cbr\\u003eScientific Name: Urocyon cinereoargenteus\\u003cbr\\u003eRedlist Category: Least Concern\\u003cbr\\u003eMegafauna: True\\u003cbr\\u003eLatitude: 36.4113245853972\\u003cbr\\u003eLongitude: -112.0578223697815\",\"Animal ID: A009\\u003cbr\\u003eScientific Name: Urocyon cinereoargenteus\\u003cbr\\u003eRedlist Category: Least Concern\\u003cbr\\u003eMegafauna: True\\u003cbr\\u003eLatitude: 36.47696528092176\\u003cbr\\u003eLongitude: -112.57271307537773\",\"Animal ID: A009\\u003cbr\\u003eScientific Name: Urocyon cinereoargenteus\\u003cbr\\u003eRedlist Category: Least Concern\\u003cbr\\u003eMegafauna: True\\u003cbr\\u003eLatitude: 36.5568872827404\\u003cbr\\u003eLongitude: -112.76700513256621\",\"Animal ID: A009\\u003cbr\\u003eScientific Name: Urocyon cinereoargenteus\\u003cbr\\u003eRedlist Category: Least Concern\\u003cbr\\u003eMegafauna: True\\u003cbr\\u003eLatitude: 36.45480967919143\\u003cbr\\u003eLongitude: -112.11257327795097\",\"Animal ID: A009\\u003cbr\\u003eScientific Name: Urocyon cinereoargenteus\\u003cbr\\u003eRedlist Category: Least Concern\\u003cbr\\u003eMegafauna: True\\u003cbr\\u003eLatitude: 36.684378963172286\\u003cbr\\u003eLongitude: -112.31362533411557\",\"Animal ID: A009\\u003cbr\\u003eScientific Name: Urocyon cinereoargenteus\\u003cbr\\u003eRedlist Category: Least Concern\\u003cbr\\u003eMegafauna: True\\u003cbr\\u003eLatitude: 36.62436229795418\\u003cbr\\u003eLongitude: -112.59789774008388\",\"Animal ID: A009\\u003cbr\\u003eScientific Name: Urocyon cinereoargenteus\\u003cbr\\u003eRedlist Category: Least Concern\\u003cbr\\u003eMegafauna: True\\u003cbr\\u003eLatitude: 36.324735008723266\\u003cbr\\u003eLongitude: -112.15517117790904\",\"Animal ID: A009\\u003cbr\\u003eScientific Name: Urocyon cinereoargenteus\\u003cbr\\u003eRedlist Category: Least Concern\\u003cbr\\u003eMegafauna: True\\u003cbr\\u003eLatitude: 36.49097793559593\\u003cbr\\u003eLongitude: -112.13833887934493\",\"Animal ID: A009\\u003cbr\\u003eScientific Name: Urocyon cinereoargenteus\\u003cbr\\u003eRedlist Category: Least Concern\\u003cbr\\u003eMegafauna: True\\u003cbr\\u003eLatitude: 36.718152946184546\\u003cbr\\u003eLongitude: -112.88240039792458\"],\"type\":\"scattermapbox\"}],                        {\"template\":{\"data\":{\"histogram2dcontour\":[{\"type\":\"histogram2dcontour\",\"colorbar\":{\"outlinewidth\":0,\"ticks\":\"\"},\"colorscale\":[[0.0,\"#0d0887\"],[0.1111111111111111,\"#46039f\"],[0.2222222222222222,\"#7201a8\"],[0.3333333333333333,\"#9c179e\"],[0.4444444444444444,\"#bd3786\"],[0.5555555555555556,\"#d8576b\"],[0.6666666666666666,\"#ed7953\"],[0.7777777777777778,\"#fb9f3a\"],[0.8888888888888888,\"#fdca26\"],[1.0,\"#f0f921\"]]}],\"choropleth\":[{\"type\":\"choropleth\",\"colorbar\":{\"outlinewidth\":0,\"ticks\":\"\"}}],\"histogram2d\":[{\"type\":\"histogram2d\",\"colorbar\":{\"outlinewidth\":0,\"ticks\":\"\"},\"colorscale\":[[0.0,\"#0d0887\"],[0.1111111111111111,\"#46039f\"],[0.2222222222222222,\"#7201a8\"],[0.3333333333333333,\"#9c179e\"],[0.4444444444444444,\"#bd3786\"],[0.5555555555555556,\"#d8576b\"],[0.6666666666666666,\"#ed7953\"],[0.7777777777777778,\"#fb9f3a\"],[0.8888888888888888,\"#fdca26\"],[1.0,\"#f0f921\"]]}],\"heatmap\":[{\"type\":\"heatmap\",\"colorbar\":{\"outlinewidth\":0,\"ticks\":\"\"},\"colorscale\":[[0.0,\"#0d0887\"],[0.1111111111111111,\"#46039f\"],[0.2222222222222222,\"#7201a8\"],[0.3333333333333333,\"#9c179e\"],[0.4444444444444444,\"#bd3786\"],[0.5555555555555556,\"#d8576b\"],[0.6666666666666666,\"#ed7953\"],[0.7777777777777778,\"#fb9f3a\"],[0.8888888888888888,\"#fdca26\"],[1.0,\"#f0f921\"]]}],\"heatmapgl\":[{\"type\":\"heatmapgl\",\"colorbar\":{\"outlinewidth\":0,\"ticks\":\"\"},\"colorscale\":[[0.0,\"#0d0887\"],[0.1111111111111111,\"#46039f\"],[0.2222222222222222,\"#7201a8\"],[0.3333333333333333,\"#9c179e\"],[0.4444444444444444,\"#bd3786\"],[0.5555555555555556,\"#d8576b\"],[0.6666666666666666,\"#ed7953\"],[0.7777777777777778,\"#fb9f3a\"],[0.8888888888888888,\"#fdca26\"],[1.0,\"#f0f921\"]]}],\"contourcarpet\":[{\"type\":\"contourcarpet\",\"colorbar\":{\"outlinewidth\":0,\"ticks\":\"\"}}],\"contour\":[{\"type\":\"contour\",\"colorbar\":{\"outlinewidth\":0,\"ticks\":\"\"},\"colorscale\":[[0.0,\"#0d0887\"],[0.1111111111111111,\"#46039f\"],[0.2222222222222222,\"#7201a8\"],[0.3333333333333333,\"#9c179e\"],[0.4444444444444444,\"#bd3786\"],[0.5555555555555556,\"#d8576b\"],[0.6666666666666666,\"#ed7953\"],[0.7777777777777778,\"#fb9f3a\"],[0.8888888888888888,\"#fdca26\"],[1.0,\"#f0f921\"]]}],\"surface\":[{\"type\":\"surface\",\"colorbar\":{\"outlinewidth\":0,\"ticks\":\"\"},\"colorscale\":[[0.0,\"#0d0887\"],[0.1111111111111111,\"#46039f\"],[0.2222222222222222,\"#7201a8\"],[0.3333333333333333,\"#9c179e\"],[0.4444444444444444,\"#bd3786\"],[0.5555555555555556,\"#d8576b\"],[0.6666666666666666,\"#ed7953\"],[0.7777777777777778,\"#fb9f3a\"],[0.8888888888888888,\"#fdca26\"],[1.0,\"#f0f921\"]]}],\"mesh3d\":[{\"type\":\"mesh3d\",\"colorbar\":{\"outlinewidth\":0,\"ticks\":\"\"}}],\"scatter\":[{\"fillpattern\":{\"fillmode\":\"overlay\",\"size\":10,\"solidity\":0.2},\"type\":\"scatter\"}],\"parcoords\":[{\"type\":\"parcoords\",\"line\":{\"colorbar\":{\"outlinewidth\":0,\"ticks\":\"\"}}}],\"scatterpolargl\":[{\"type\":\"scatterpolargl\",\"marker\":{\"colorbar\":{\"outlinewidth\":0,\"ticks\":\"\"}}}],\"bar\":[{\"error_x\":{\"color\":\"#2a3f5f\"},\"error_y\":{\"color\":\"#2a3f5f\"},\"marker\":{\"line\":{\"color\":\"#E5ECF6\",\"width\":0.5},\"pattern\":{\"fillmode\":\"overlay\",\"size\":10,\"solidity\":0.2}},\"type\":\"bar\"}],\"scattergeo\":[{\"type\":\"scattergeo\",\"marker\":{\"colorbar\":{\"outlinewidth\":0,\"ticks\":\"\"}}}],\"scatterpolar\":[{\"type\":\"scatterpolar\",\"marker\":{\"colorbar\":{\"outlinewidth\":0,\"ticks\":\"\"}}}],\"histogram\":[{\"marker\":{\"pattern\":{\"fillmode\":\"overlay\",\"size\":10,\"solidity\":0.2}},\"type\":\"histogram\"}],\"scattergl\":[{\"type\":\"scattergl\",\"marker\":{\"colorbar\":{\"outlinewidth\":0,\"ticks\":\"\"}}}],\"scatter3d\":[{\"type\":\"scatter3d\",\"line\":{\"colorbar\":{\"outlinewidth\":0,\"ticks\":\"\"}},\"marker\":{\"colorbar\":{\"outlinewidth\":0,\"ticks\":\"\"}}}],\"scattermapbox\":[{\"type\":\"scattermapbox\",\"marker\":{\"colorbar\":{\"outlinewidth\":0,\"ticks\":\"\"}}}],\"scatterternary\":[{\"type\":\"scatterternary\",\"marker\":{\"colorbar\":{\"outlinewidth\":0,\"ticks\":\"\"}}}],\"scattercarpet\":[{\"type\":\"scattercarpet\",\"marker\":{\"colorbar\":{\"outlinewidth\":0,\"ticks\":\"\"}}}],\"carpet\":[{\"aaxis\":{\"endlinecolor\":\"#2a3f5f\",\"gridcolor\":\"white\",\"linecolor\":\"white\",\"minorgridcolor\":\"white\",\"startlinecolor\":\"#2a3f5f\"},\"baxis\":{\"endlinecolor\":\"#2a3f5f\",\"gridcolor\":\"white\",\"linecolor\":\"white\",\"minorgridcolor\":\"white\",\"startlinecolor\":\"#2a3f5f\"},\"type\":\"carpet\"}],\"table\":[{\"cells\":{\"fill\":{\"color\":\"#EBF0F8\"},\"line\":{\"color\":\"white\"}},\"header\":{\"fill\":{\"color\":\"#C8D4E3\"},\"line\":{\"color\":\"white\"}},\"type\":\"table\"}],\"barpolar\":[{\"marker\":{\"line\":{\"color\":\"#E5ECF6\",\"width\":0.5},\"pattern\":{\"fillmode\":\"overlay\",\"size\":10,\"solidity\":0.2}},\"type\":\"barpolar\"}],\"pie\":[{\"automargin\":true,\"type\":\"pie\"}]},\"layout\":{\"autotypenumbers\":\"strict\",\"colorway\":[\"#636efa\",\"#EF553B\",\"#00cc96\",\"#ab63fa\",\"#FFA15A\",\"#19d3f3\",\"#FF6692\",\"#B6E880\",\"#FF97FF\",\"#FECB52\"],\"font\":{\"color\":\"#2a3f5f\"},\"hovermode\":\"closest\",\"hoverlabel\":{\"align\":\"left\"},\"paper_bgcolor\":\"white\",\"plot_bgcolor\":\"#E5ECF6\",\"polar\":{\"bgcolor\":\"#E5ECF6\",\"angularaxis\":{\"gridcolor\":\"white\",\"linecolor\":\"white\",\"ticks\":\"\"},\"radialaxis\":{\"gridcolor\":\"white\",\"linecolor\":\"white\",\"ticks\":\"\"}},\"ternary\":{\"bgcolor\":\"#E5ECF6\",\"aaxis\":{\"gridcolor\":\"white\",\"linecolor\":\"white\",\"ticks\":\"\"},\"baxis\":{\"gridcolor\":\"white\",\"linecolor\":\"white\",\"ticks\":\"\"},\"caxis\":{\"gridcolor\":\"white\",\"linecolor\":\"white\",\"ticks\":\"\"}},\"coloraxis\":{\"colorbar\":{\"outlinewidth\":0,\"ticks\":\"\"}},\"colorscale\":{\"sequential\":[[0.0,\"#0d0887\"],[0.1111111111111111,\"#46039f\"],[0.2222222222222222,\"#7201a8\"],[0.3333333333333333,\"#9c179e\"],[0.4444444444444444,\"#bd3786\"],[0.5555555555555556,\"#d8576b\"],[0.6666666666666666,\"#ed7953\"],[0.7777777777777778,\"#fb9f3a\"],[0.8888888888888888,\"#fdca26\"],[1.0,\"#f0f921\"]],\"sequentialminus\":[[0.0,\"#0d0887\"],[0.1111111111111111,\"#46039f\"],[0.2222222222222222,\"#7201a8\"],[0.3333333333333333,\"#9c179e\"],[0.4444444444444444,\"#bd3786\"],[0.5555555555555556,\"#d8576b\"],[0.6666666666666666,\"#ed7953\"],[0.7777777777777778,\"#fb9f3a\"],[0.8888888888888888,\"#fdca26\"],[1.0,\"#f0f921\"]],\"diverging\":[[0,\"#8e0152\"],[0.1,\"#c51b7d\"],[0.2,\"#de77ae\"],[0.3,\"#f1b6da\"],[0.4,\"#fde0ef\"],[0.5,\"#f7f7f7\"],[0.6,\"#e6f5d0\"],[0.7,\"#b8e186\"],[0.8,\"#7fbc41\"],[0.9,\"#4d9221\"],[1,\"#276419\"]]},\"xaxis\":{\"gridcolor\":\"white\",\"linecolor\":\"white\",\"ticks\":\"\",\"title\":{\"standoff\":15},\"zerolinecolor\":\"white\",\"automargin\":true,\"zerolinewidth\":2},\"yaxis\":{\"gridcolor\":\"white\",\"linecolor\":\"white\",\"ticks\":\"\",\"title\":{\"standoff\":15},\"zerolinecolor\":\"white\",\"automargin\":true,\"zerolinewidth\":2},\"scene\":{\"xaxis\":{\"backgroundcolor\":\"#E5ECF6\",\"gridcolor\":\"white\",\"linecolor\":\"white\",\"showbackground\":true,\"ticks\":\"\",\"zerolinecolor\":\"white\",\"gridwidth\":2},\"yaxis\":{\"backgroundcolor\":\"#E5ECF6\",\"gridcolor\":\"white\",\"linecolor\":\"white\",\"showbackground\":true,\"ticks\":\"\",\"zerolinecolor\":\"white\",\"gridwidth\":2},\"zaxis\":{\"backgroundcolor\":\"#E5ECF6\",\"gridcolor\":\"white\",\"linecolor\":\"white\",\"showbackground\":true,\"ticks\":\"\",\"zerolinecolor\":\"white\",\"gridwidth\":2}},\"shapedefaults\":{\"line\":{\"color\":\"#2a3f5f\"}},\"annotationdefaults\":{\"arrowcolor\":\"#2a3f5f\",\"arrowhead\":0,\"arrowwidth\":1},\"geo\":{\"bgcolor\":\"white\",\"landcolor\":\"#E5ECF6\",\"subunitcolor\":\"white\",\"showland\":true,\"showlakes\":true,\"lakecolor\":\"white\"},\"title\":{\"x\":0.05},\"mapbox\":{\"style\":\"light\"}}},\"mapbox\":{\"style\":\"open-street-map\",\"center\":{\"lat\":44.4,\"lon\":-110.6},\"zoom\":8}},                        {\"scrollZoom\": true, \"responsive\": true}                    ).then(function(){\n",
       "                            \n",
       "var gd = document.getElementById('8f25c7e4-891f-4bc1-94c3-0d2d8574664a');\n",
       "var x = new MutationObserver(function (mutations, observer) {{\n",
       "        var display = window.getComputedStyle(gd).display;\n",
       "        if (!display || display === 'none') {{\n",
       "            console.log([gd, 'removed!']);\n",
       "            Plotly.purge(gd);\n",
       "            observer.disconnect();\n",
       "        }}\n",
       "}});\n",
       "\n",
       "// Listen for the removal of the full notebook cells\n",
       "var notebookContainer = gd.closest('#notebook-container');\n",
       "if (notebookContainer) {{\n",
       "    x.observe(notebookContainer, {childList: true});\n",
       "}}\n",
       "\n",
       "// Listen for the clearing of the current output cell\n",
       "var outputEl = gd.closest('.output');\n",
       "if (outputEl) {{\n",
       "    x.observe(outputEl, {childList: true});\n",
       "}}\n",
       "\n",
       "                        })                };                });            </script>        </div>"
      ]
     },
     "metadata": {},
     "output_type": "display_data"
    }
   ],
   "source": [
    "mesh_gdf = create_mesh(-111.10, 44.2, -110.10, 44.6, 10)\n",
    "animal_full_synthetic_gdf = mapping_to_mesh(animal_full_synthetic_gdf, mesh_gdf)\n",
    "fig = plot_region(mesh_gdf)\n",
    "fig = plot(satellites_dict, protected_areas_gdf, animal_full_synthetic_gdf, fig=fig)\n",
    "fig.update_layout(mapbox=dict(\n",
    "            center=dict(lat=44.4, lon=-110.6),\n",
    "            zoom=8,  # Adjust the zoom level as needed\n",
    "        ))\n",
    "fig.show(config=defualt_plotly_config)\n"
   ]
  },
  {
   "cell_type": "markdown",
   "id": "23b0ebbe",
   "metadata": {},
   "source": [
    "![title](output/syntatic_vis.png)"
   ]
  },
  {
   "cell_type": "code",
   "execution_count": 606,
   "id": "d95e715e",
   "metadata": {},
   "outputs": [
    {
     "data": {
      "application/vnd.plotly.v1+json": {
       "config": {
        "plotlyServerURL": "https://plot.ly",
        "responsive": true,
        "scrollZoom": true
       },
       "data": [
        {
         "fill": "toself",
         "fillcolor": "rgba(135, 206, 235, 0.5)",
         "lat": [
          44.2,
          44.24444444444445,
          44.24444444444445,
          44.2,
          44.2
         ],
         "line": {
          "color": "blue"
         },
         "lon": [
          -110.98888888888888,
          -110.98888888888888,
          -111.1,
          -111.1,
          -110.98888888888888
         ],
         "name": "0",
         "showlegend": false,
         "type": "scattermapbox"
        },
        {
         "fill": "toself",
         "fillcolor": "rgba(135, 206, 235, 0.5)",
         "lat": [
          44.24444444444445,
          44.28888888888889,
          44.28888888888889,
          44.24444444444445,
          44.24444444444445
         ],
         "line": {
          "color": "blue"
         },
         "lon": [
          -110.98888888888888,
          -110.98888888888888,
          -111.1,
          -111.1,
          -110.98888888888888
         ],
         "name": "1",
         "showlegend": false,
         "type": "scattermapbox"
        },
        {
         "fill": "toself",
         "fillcolor": "rgba(135, 206, 235, 0.5)",
         "lat": [
          44.28888888888889,
          44.333333333333336,
          44.333333333333336,
          44.28888888888889,
          44.28888888888889
         ],
         "line": {
          "color": "blue"
         },
         "lon": [
          -110.98888888888888,
          -110.98888888888888,
          -111.1,
          -111.1,
          -110.98888888888888
         ],
         "name": "2",
         "showlegend": false,
         "type": "scattermapbox"
        },
        {
         "fill": "toself",
         "fillcolor": "rgba(135, 206, 235, 0.5)",
         "lat": [
          44.333333333333336,
          44.37777777777778,
          44.37777777777778,
          44.333333333333336,
          44.333333333333336
         ],
         "line": {
          "color": "blue"
         },
         "lon": [
          -110.98888888888888,
          -110.98888888888888,
          -111.1,
          -111.1,
          -110.98888888888888
         ],
         "name": "3",
         "showlegend": false,
         "type": "scattermapbox"
        },
        {
         "fill": "toself",
         "fillcolor": "rgba(135, 206, 235, 0.5)",
         "lat": [
          44.37777777777778,
          44.422222222222224,
          44.422222222222224,
          44.37777777777778,
          44.37777777777778
         ],
         "line": {
          "color": "blue"
         },
         "lon": [
          -110.98888888888888,
          -110.98888888888888,
          -111.1,
          -111.1,
          -110.98888888888888
         ],
         "name": "4",
         "showlegend": false,
         "type": "scattermapbox"
        },
        {
         "fill": "toself",
         "fillcolor": "rgba(135, 206, 235, 0.5)",
         "lat": [
          44.422222222222224,
          44.46666666666667,
          44.46666666666667,
          44.422222222222224,
          44.422222222222224
         ],
         "line": {
          "color": "blue"
         },
         "lon": [
          -110.98888888888888,
          -110.98888888888888,
          -111.1,
          -111.1,
          -110.98888888888888
         ],
         "name": "5",
         "showlegend": false,
         "type": "scattermapbox"
        },
        {
         "fill": "toself",
         "fillcolor": "rgba(135, 206, 235, 0.5)",
         "lat": [
          44.46666666666667,
          44.51111111111111,
          44.51111111111111,
          44.46666666666667,
          44.46666666666667
         ],
         "line": {
          "color": "blue"
         },
         "lon": [
          -110.98888888888888,
          -110.98888888888888,
          -111.1,
          -111.1,
          -110.98888888888888
         ],
         "name": "6",
         "showlegend": false,
         "type": "scattermapbox"
        },
        {
         "fill": "toself",
         "fillcolor": "rgba(135, 206, 235, 0.5)",
         "lat": [
          44.51111111111111,
          44.55555555555556,
          44.55555555555556,
          44.51111111111111,
          44.51111111111111
         ],
         "line": {
          "color": "blue"
         },
         "lon": [
          -110.98888888888888,
          -110.98888888888888,
          -111.1,
          -111.1,
          -110.98888888888888
         ],
         "name": "7",
         "showlegend": false,
         "type": "scattermapbox"
        },
        {
         "fill": "toself",
         "fillcolor": "rgba(135, 206, 235, 0.5)",
         "lat": [
          44.55555555555556,
          44.6,
          44.6,
          44.55555555555556,
          44.55555555555556
         ],
         "line": {
          "color": "blue"
         },
         "lon": [
          -110.98888888888888,
          -110.98888888888888,
          -111.1,
          -111.1,
          -110.98888888888888
         ],
         "name": "8",
         "showlegend": false,
         "type": "scattermapbox"
        },
        {
         "fill": "toself",
         "fillcolor": "rgba(135, 206, 235, 0.5)",
         "lat": [
          44.2,
          44.24444444444445,
          44.24444444444445,
          44.2,
          44.2
         ],
         "line": {
          "color": "blue"
         },
         "lon": [
          -110.87777777777777,
          -110.87777777777777,
          -110.98888888888888,
          -110.98888888888888,
          -110.87777777777777
         ],
         "name": "9",
         "showlegend": false,
         "type": "scattermapbox"
        },
        {
         "fill": "toself",
         "fillcolor": "rgba(135, 206, 235, 0.5)",
         "lat": [
          44.24444444444445,
          44.28888888888889,
          44.28888888888889,
          44.24444444444445,
          44.24444444444445
         ],
         "line": {
          "color": "blue"
         },
         "lon": [
          -110.87777777777777,
          -110.87777777777777,
          -110.98888888888888,
          -110.98888888888888,
          -110.87777777777777
         ],
         "name": "10",
         "showlegend": false,
         "type": "scattermapbox"
        },
        {
         "fill": "toself",
         "fillcolor": "rgba(135, 206, 235, 0.5)",
         "lat": [
          44.28888888888889,
          44.333333333333336,
          44.333333333333336,
          44.28888888888889,
          44.28888888888889
         ],
         "line": {
          "color": "blue"
         },
         "lon": [
          -110.87777777777777,
          -110.87777777777777,
          -110.98888888888888,
          -110.98888888888888,
          -110.87777777777777
         ],
         "name": "11",
         "showlegend": false,
         "type": "scattermapbox"
        },
        {
         "fill": "toself",
         "fillcolor": "rgba(135, 206, 235, 0.5)",
         "lat": [
          44.333333333333336,
          44.37777777777778,
          44.37777777777778,
          44.333333333333336,
          44.333333333333336
         ],
         "line": {
          "color": "blue"
         },
         "lon": [
          -110.87777777777777,
          -110.87777777777777,
          -110.98888888888888,
          -110.98888888888888,
          -110.87777777777777
         ],
         "name": "12",
         "showlegend": false,
         "type": "scattermapbox"
        },
        {
         "fill": "toself",
         "fillcolor": "rgba(135, 206, 235, 0.5)",
         "lat": [
          44.37777777777778,
          44.422222222222224,
          44.422222222222224,
          44.37777777777778,
          44.37777777777778
         ],
         "line": {
          "color": "blue"
         },
         "lon": [
          -110.87777777777777,
          -110.87777777777777,
          -110.98888888888888,
          -110.98888888888888,
          -110.87777777777777
         ],
         "name": "13",
         "showlegend": false,
         "type": "scattermapbox"
        },
        {
         "fill": "toself",
         "fillcolor": "rgba(135, 206, 235, 0.5)",
         "lat": [
          44.422222222222224,
          44.46666666666667,
          44.46666666666667,
          44.422222222222224,
          44.422222222222224
         ],
         "line": {
          "color": "blue"
         },
         "lon": [
          -110.87777777777777,
          -110.87777777777777,
          -110.98888888888888,
          -110.98888888888888,
          -110.87777777777777
         ],
         "name": "14",
         "showlegend": false,
         "type": "scattermapbox"
        },
        {
         "fill": "toself",
         "fillcolor": "rgba(135, 206, 235, 0.5)",
         "lat": [
          44.46666666666667,
          44.51111111111111,
          44.51111111111111,
          44.46666666666667,
          44.46666666666667
         ],
         "line": {
          "color": "blue"
         },
         "lon": [
          -110.87777777777777,
          -110.87777777777777,
          -110.98888888888888,
          -110.98888888888888,
          -110.87777777777777
         ],
         "name": "15",
         "showlegend": false,
         "type": "scattermapbox"
        },
        {
         "fill": "toself",
         "fillcolor": "rgba(135, 206, 235, 0.5)",
         "lat": [
          44.51111111111111,
          44.55555555555556,
          44.55555555555556,
          44.51111111111111,
          44.51111111111111
         ],
         "line": {
          "color": "blue"
         },
         "lon": [
          -110.87777777777777,
          -110.87777777777777,
          -110.98888888888888,
          -110.98888888888888,
          -110.87777777777777
         ],
         "name": "16",
         "showlegend": false,
         "type": "scattermapbox"
        },
        {
         "fill": "toself",
         "fillcolor": "rgba(135, 206, 235, 0.5)",
         "lat": [
          44.55555555555556,
          44.6,
          44.6,
          44.55555555555556,
          44.55555555555556
         ],
         "line": {
          "color": "blue"
         },
         "lon": [
          -110.87777777777777,
          -110.87777777777777,
          -110.98888888888888,
          -110.98888888888888,
          -110.87777777777777
         ],
         "name": "17",
         "showlegend": false,
         "type": "scattermapbox"
        },
        {
         "fill": "toself",
         "fillcolor": "rgba(135, 206, 235, 0.5)",
         "lat": [
          44.2,
          44.24444444444445,
          44.24444444444445,
          44.2,
          44.2
         ],
         "line": {
          "color": "blue"
         },
         "lon": [
          -110.76666666666667,
          -110.76666666666667,
          -110.87777777777777,
          -110.87777777777777,
          -110.76666666666667
         ],
         "name": "18",
         "showlegend": false,
         "type": "scattermapbox"
        },
        {
         "fill": "toself",
         "fillcolor": "rgba(135, 206, 235, 0.5)",
         "lat": [
          44.24444444444445,
          44.28888888888889,
          44.28888888888889,
          44.24444444444445,
          44.24444444444445
         ],
         "line": {
          "color": "blue"
         },
         "lon": [
          -110.76666666666667,
          -110.76666666666667,
          -110.87777777777777,
          -110.87777777777777,
          -110.76666666666667
         ],
         "name": "19",
         "showlegend": false,
         "type": "scattermapbox"
        },
        {
         "fill": "toself",
         "fillcolor": "rgba(135, 206, 235, 0.5)",
         "lat": [
          44.28888888888889,
          44.333333333333336,
          44.333333333333336,
          44.28888888888889,
          44.28888888888889
         ],
         "line": {
          "color": "blue"
         },
         "lon": [
          -110.76666666666667,
          -110.76666666666667,
          -110.87777777777777,
          -110.87777777777777,
          -110.76666666666667
         ],
         "name": "20",
         "showlegend": false,
         "type": "scattermapbox"
        },
        {
         "fill": "toself",
         "fillcolor": "rgba(135, 206, 235, 0.5)",
         "lat": [
          44.333333333333336,
          44.37777777777778,
          44.37777777777778,
          44.333333333333336,
          44.333333333333336
         ],
         "line": {
          "color": "blue"
         },
         "lon": [
          -110.76666666666667,
          -110.76666666666667,
          -110.87777777777777,
          -110.87777777777777,
          -110.76666666666667
         ],
         "name": "21",
         "showlegend": false,
         "type": "scattermapbox"
        },
        {
         "fill": "toself",
         "fillcolor": "rgba(135, 206, 235, 0.5)",
         "lat": [
          44.37777777777778,
          44.422222222222224,
          44.422222222222224,
          44.37777777777778,
          44.37777777777778
         ],
         "line": {
          "color": "blue"
         },
         "lon": [
          -110.76666666666667,
          -110.76666666666667,
          -110.87777777777777,
          -110.87777777777777,
          -110.76666666666667
         ],
         "name": "22",
         "showlegend": false,
         "type": "scattermapbox"
        },
        {
         "fill": "toself",
         "fillcolor": "rgba(135, 206, 235, 0.5)",
         "lat": [
          44.422222222222224,
          44.46666666666667,
          44.46666666666667,
          44.422222222222224,
          44.422222222222224
         ],
         "line": {
          "color": "blue"
         },
         "lon": [
          -110.76666666666667,
          -110.76666666666667,
          -110.87777777777777,
          -110.87777777777777,
          -110.76666666666667
         ],
         "name": "23",
         "showlegend": false,
         "type": "scattermapbox"
        },
        {
         "fill": "toself",
         "fillcolor": "rgba(135, 206, 235, 0.5)",
         "lat": [
          44.46666666666667,
          44.51111111111111,
          44.51111111111111,
          44.46666666666667,
          44.46666666666667
         ],
         "line": {
          "color": "blue"
         },
         "lon": [
          -110.76666666666667,
          -110.76666666666667,
          -110.87777777777777,
          -110.87777777777777,
          -110.76666666666667
         ],
         "name": "24",
         "showlegend": false,
         "type": "scattermapbox"
        },
        {
         "fill": "toself",
         "fillcolor": "rgba(135, 206, 235, 0.5)",
         "lat": [
          44.51111111111111,
          44.55555555555556,
          44.55555555555556,
          44.51111111111111,
          44.51111111111111
         ],
         "line": {
          "color": "blue"
         },
         "lon": [
          -110.76666666666667,
          -110.76666666666667,
          -110.87777777777777,
          -110.87777777777777,
          -110.76666666666667
         ],
         "name": "25",
         "showlegend": false,
         "type": "scattermapbox"
        },
        {
         "fill": "toself",
         "fillcolor": "rgba(135, 206, 235, 0.5)",
         "lat": [
          44.55555555555556,
          44.6,
          44.6,
          44.55555555555556,
          44.55555555555556
         ],
         "line": {
          "color": "blue"
         },
         "lon": [
          -110.76666666666667,
          -110.76666666666667,
          -110.87777777777777,
          -110.87777777777777,
          -110.76666666666667
         ],
         "name": "26",
         "showlegend": false,
         "type": "scattermapbox"
        },
        {
         "fill": "toself",
         "fillcolor": "rgba(135, 206, 235, 0.5)",
         "lat": [
          44.2,
          44.24444444444445,
          44.24444444444445,
          44.2,
          44.2
         ],
         "line": {
          "color": "blue"
         },
         "lon": [
          -110.65555555555555,
          -110.65555555555555,
          -110.76666666666667,
          -110.76666666666667,
          -110.65555555555555
         ],
         "name": "27",
         "showlegend": false,
         "type": "scattermapbox"
        },
        {
         "fill": "toself",
         "fillcolor": "rgba(135, 206, 235, 0.5)",
         "lat": [
          44.24444444444445,
          44.28888888888889,
          44.28888888888889,
          44.24444444444445,
          44.24444444444445
         ],
         "line": {
          "color": "blue"
         },
         "lon": [
          -110.65555555555555,
          -110.65555555555555,
          -110.76666666666667,
          -110.76666666666667,
          -110.65555555555555
         ],
         "name": "28",
         "showlegend": false,
         "type": "scattermapbox"
        },
        {
         "fill": "toself",
         "fillcolor": "rgba(135, 206, 235, 0.5)",
         "lat": [
          44.28888888888889,
          44.333333333333336,
          44.333333333333336,
          44.28888888888889,
          44.28888888888889
         ],
         "line": {
          "color": "blue"
         },
         "lon": [
          -110.65555555555555,
          -110.65555555555555,
          -110.76666666666667,
          -110.76666666666667,
          -110.65555555555555
         ],
         "name": "29",
         "showlegend": false,
         "type": "scattermapbox"
        },
        {
         "fill": "toself",
         "fillcolor": "rgba(135, 206, 235, 0.5)",
         "lat": [
          44.333333333333336,
          44.37777777777778,
          44.37777777777778,
          44.333333333333336,
          44.333333333333336
         ],
         "line": {
          "color": "blue"
         },
         "lon": [
          -110.65555555555555,
          -110.65555555555555,
          -110.76666666666667,
          -110.76666666666667,
          -110.65555555555555
         ],
         "name": "30",
         "showlegend": false,
         "type": "scattermapbox"
        },
        {
         "fill": "toself",
         "fillcolor": "rgba(135, 206, 235, 0.5)",
         "lat": [
          44.37777777777778,
          44.422222222222224,
          44.422222222222224,
          44.37777777777778,
          44.37777777777778
         ],
         "line": {
          "color": "blue"
         },
         "lon": [
          -110.65555555555555,
          -110.65555555555555,
          -110.76666666666667,
          -110.76666666666667,
          -110.65555555555555
         ],
         "name": "31",
         "showlegend": false,
         "type": "scattermapbox"
        },
        {
         "fill": "toself",
         "fillcolor": "rgba(135, 206, 235, 0.5)",
         "lat": [
          44.422222222222224,
          44.46666666666667,
          44.46666666666667,
          44.422222222222224,
          44.422222222222224
         ],
         "line": {
          "color": "blue"
         },
         "lon": [
          -110.65555555555555,
          -110.65555555555555,
          -110.76666666666667,
          -110.76666666666667,
          -110.65555555555555
         ],
         "name": "32",
         "showlegend": false,
         "type": "scattermapbox"
        },
        {
         "fill": "toself",
         "fillcolor": "rgba(135, 206, 235, 0.5)",
         "lat": [
          44.46666666666667,
          44.51111111111111,
          44.51111111111111,
          44.46666666666667,
          44.46666666666667
         ],
         "line": {
          "color": "blue"
         },
         "lon": [
          -110.65555555555555,
          -110.65555555555555,
          -110.76666666666667,
          -110.76666666666667,
          -110.65555555555555
         ],
         "name": "33",
         "showlegend": false,
         "type": "scattermapbox"
        },
        {
         "fill": "toself",
         "fillcolor": "rgba(135, 206, 235, 0.5)",
         "lat": [
          44.51111111111111,
          44.55555555555556,
          44.55555555555556,
          44.51111111111111,
          44.51111111111111
         ],
         "line": {
          "color": "blue"
         },
         "lon": [
          -110.65555555555555,
          -110.65555555555555,
          -110.76666666666667,
          -110.76666666666667,
          -110.65555555555555
         ],
         "name": "34",
         "showlegend": false,
         "type": "scattermapbox"
        },
        {
         "fill": "toself",
         "fillcolor": "rgba(135, 206, 235, 0.5)",
         "lat": [
          44.55555555555556,
          44.6,
          44.6,
          44.55555555555556,
          44.55555555555556
         ],
         "line": {
          "color": "blue"
         },
         "lon": [
          -110.65555555555555,
          -110.65555555555555,
          -110.76666666666667,
          -110.76666666666667,
          -110.65555555555555
         ],
         "name": "35",
         "showlegend": false,
         "type": "scattermapbox"
        },
        {
         "fill": "toself",
         "fillcolor": "rgba(135, 206, 235, 0.5)",
         "lat": [
          44.2,
          44.24444444444445,
          44.24444444444445,
          44.2,
          44.2
         ],
         "line": {
          "color": "blue"
         },
         "lon": [
          -110.54444444444444,
          -110.54444444444444,
          -110.65555555555555,
          -110.65555555555555,
          -110.54444444444444
         ],
         "name": "36",
         "showlegend": false,
         "type": "scattermapbox"
        },
        {
         "fill": "toself",
         "fillcolor": "rgba(135, 206, 235, 0.5)",
         "lat": [
          44.24444444444445,
          44.28888888888889,
          44.28888888888889,
          44.24444444444445,
          44.24444444444445
         ],
         "line": {
          "color": "blue"
         },
         "lon": [
          -110.54444444444444,
          -110.54444444444444,
          -110.65555555555555,
          -110.65555555555555,
          -110.54444444444444
         ],
         "name": "37",
         "showlegend": false,
         "type": "scattermapbox"
        },
        {
         "fill": "toself",
         "fillcolor": "rgba(135, 206, 235, 0.5)",
         "lat": [
          44.28888888888889,
          44.333333333333336,
          44.333333333333336,
          44.28888888888889,
          44.28888888888889
         ],
         "line": {
          "color": "blue"
         },
         "lon": [
          -110.54444444444444,
          -110.54444444444444,
          -110.65555555555555,
          -110.65555555555555,
          -110.54444444444444
         ],
         "name": "38",
         "showlegend": false,
         "type": "scattermapbox"
        },
        {
         "fill": "toself",
         "fillcolor": "rgba(135, 206, 235, 0.5)",
         "lat": [
          44.333333333333336,
          44.37777777777778,
          44.37777777777778,
          44.333333333333336,
          44.333333333333336
         ],
         "line": {
          "color": "blue"
         },
         "lon": [
          -110.54444444444444,
          -110.54444444444444,
          -110.65555555555555,
          -110.65555555555555,
          -110.54444444444444
         ],
         "name": "39",
         "showlegend": false,
         "type": "scattermapbox"
        },
        {
         "fill": "toself",
         "fillcolor": "rgba(135, 206, 235, 0.5)",
         "lat": [
          44.37777777777778,
          44.422222222222224,
          44.422222222222224,
          44.37777777777778,
          44.37777777777778
         ],
         "line": {
          "color": "blue"
         },
         "lon": [
          -110.54444444444444,
          -110.54444444444444,
          -110.65555555555555,
          -110.65555555555555,
          -110.54444444444444
         ],
         "name": "40",
         "showlegend": false,
         "type": "scattermapbox"
        },
        {
         "fill": "toself",
         "fillcolor": "rgba(135, 206, 235, 0.5)",
         "lat": [
          44.422222222222224,
          44.46666666666667,
          44.46666666666667,
          44.422222222222224,
          44.422222222222224
         ],
         "line": {
          "color": "blue"
         },
         "lon": [
          -110.54444444444444,
          -110.54444444444444,
          -110.65555555555555,
          -110.65555555555555,
          -110.54444444444444
         ],
         "name": "41",
         "showlegend": false,
         "type": "scattermapbox"
        },
        {
         "fill": "toself",
         "fillcolor": "rgba(135, 206, 235, 0.5)",
         "lat": [
          44.46666666666667,
          44.51111111111111,
          44.51111111111111,
          44.46666666666667,
          44.46666666666667
         ],
         "line": {
          "color": "blue"
         },
         "lon": [
          -110.54444444444444,
          -110.54444444444444,
          -110.65555555555555,
          -110.65555555555555,
          -110.54444444444444
         ],
         "name": "42",
         "showlegend": false,
         "type": "scattermapbox"
        },
        {
         "fill": "toself",
         "fillcolor": "rgba(135, 206, 235, 0.5)",
         "lat": [
          44.51111111111111,
          44.55555555555556,
          44.55555555555556,
          44.51111111111111,
          44.51111111111111
         ],
         "line": {
          "color": "blue"
         },
         "lon": [
          -110.54444444444444,
          -110.54444444444444,
          -110.65555555555555,
          -110.65555555555555,
          -110.54444444444444
         ],
         "name": "43",
         "showlegend": false,
         "type": "scattermapbox"
        },
        {
         "fill": "toself",
         "fillcolor": "rgba(135, 206, 235, 0.5)",
         "lat": [
          44.55555555555556,
          44.6,
          44.6,
          44.55555555555556,
          44.55555555555556
         ],
         "line": {
          "color": "blue"
         },
         "lon": [
          -110.54444444444444,
          -110.54444444444444,
          -110.65555555555555,
          -110.65555555555555,
          -110.54444444444444
         ],
         "name": "44",
         "showlegend": false,
         "type": "scattermapbox"
        },
        {
         "fill": "toself",
         "fillcolor": "rgba(135, 206, 235, 0.5)",
         "lat": [
          44.2,
          44.24444444444445,
          44.24444444444445,
          44.2,
          44.2
         ],
         "line": {
          "color": "blue"
         },
         "lon": [
          -110.43333333333332,
          -110.43333333333332,
          -110.54444444444444,
          -110.54444444444444,
          -110.43333333333332
         ],
         "name": "45",
         "showlegend": false,
         "type": "scattermapbox"
        },
        {
         "fill": "toself",
         "fillcolor": "rgba(135, 206, 235, 0.5)",
         "lat": [
          44.24444444444445,
          44.28888888888889,
          44.28888888888889,
          44.24444444444445,
          44.24444444444445
         ],
         "line": {
          "color": "blue"
         },
         "lon": [
          -110.43333333333332,
          -110.43333333333332,
          -110.54444444444444,
          -110.54444444444444,
          -110.43333333333332
         ],
         "name": "46",
         "showlegend": false,
         "type": "scattermapbox"
        },
        {
         "fill": "toself",
         "fillcolor": "rgba(135, 206, 235, 0.5)",
         "lat": [
          44.28888888888889,
          44.333333333333336,
          44.333333333333336,
          44.28888888888889,
          44.28888888888889
         ],
         "line": {
          "color": "blue"
         },
         "lon": [
          -110.43333333333332,
          -110.43333333333332,
          -110.54444444444444,
          -110.54444444444444,
          -110.43333333333332
         ],
         "name": "47",
         "showlegend": false,
         "type": "scattermapbox"
        },
        {
         "fill": "toself",
         "fillcolor": "rgba(135, 206, 235, 0.5)",
         "lat": [
          44.333333333333336,
          44.37777777777778,
          44.37777777777778,
          44.333333333333336,
          44.333333333333336
         ],
         "line": {
          "color": "blue"
         },
         "lon": [
          -110.43333333333332,
          -110.43333333333332,
          -110.54444444444444,
          -110.54444444444444,
          -110.43333333333332
         ],
         "name": "48",
         "showlegend": false,
         "type": "scattermapbox"
        },
        {
         "fill": "toself",
         "fillcolor": "rgba(135, 206, 235, 0.5)",
         "lat": [
          44.37777777777778,
          44.422222222222224,
          44.422222222222224,
          44.37777777777778,
          44.37777777777778
         ],
         "line": {
          "color": "blue"
         },
         "lon": [
          -110.43333333333332,
          -110.43333333333332,
          -110.54444444444444,
          -110.54444444444444,
          -110.43333333333332
         ],
         "name": "49",
         "showlegend": false,
         "type": "scattermapbox"
        },
        {
         "fill": "toself",
         "fillcolor": "rgba(135, 206, 235, 0.5)",
         "lat": [
          44.422222222222224,
          44.46666666666667,
          44.46666666666667,
          44.422222222222224,
          44.422222222222224
         ],
         "line": {
          "color": "blue"
         },
         "lon": [
          -110.43333333333332,
          -110.43333333333332,
          -110.54444444444444,
          -110.54444444444444,
          -110.43333333333332
         ],
         "name": "50",
         "showlegend": false,
         "type": "scattermapbox"
        },
        {
         "fill": "toself",
         "fillcolor": "rgba(135, 206, 235, 0.5)",
         "lat": [
          44.46666666666667,
          44.51111111111111,
          44.51111111111111,
          44.46666666666667,
          44.46666666666667
         ],
         "line": {
          "color": "blue"
         },
         "lon": [
          -110.43333333333332,
          -110.43333333333332,
          -110.54444444444444,
          -110.54444444444444,
          -110.43333333333332
         ],
         "name": "51",
         "showlegend": false,
         "type": "scattermapbox"
        },
        {
         "fill": "toself",
         "fillcolor": "rgba(135, 206, 235, 0.5)",
         "lat": [
          44.51111111111111,
          44.55555555555556,
          44.55555555555556,
          44.51111111111111,
          44.51111111111111
         ],
         "line": {
          "color": "blue"
         },
         "lon": [
          -110.43333333333332,
          -110.43333333333332,
          -110.54444444444444,
          -110.54444444444444,
          -110.43333333333332
         ],
         "name": "52",
         "showlegend": false,
         "type": "scattermapbox"
        },
        {
         "fill": "toself",
         "fillcolor": "rgba(135, 206, 235, 0.5)",
         "lat": [
          44.55555555555556,
          44.6,
          44.6,
          44.55555555555556,
          44.55555555555556
         ],
         "line": {
          "color": "blue"
         },
         "lon": [
          -110.43333333333332,
          -110.43333333333332,
          -110.54444444444444,
          -110.54444444444444,
          -110.43333333333332
         ],
         "name": "53",
         "showlegend": false,
         "type": "scattermapbox"
        },
        {
         "fill": "toself",
         "fillcolor": "rgba(135, 206, 235, 0.5)",
         "lat": [
          44.2,
          44.24444444444445,
          44.24444444444445,
          44.2,
          44.2
         ],
         "line": {
          "color": "blue"
         },
         "lon": [
          -110.32222222222222,
          -110.32222222222222,
          -110.43333333333332,
          -110.43333333333332,
          -110.32222222222222
         ],
         "name": "54",
         "showlegend": false,
         "type": "scattermapbox"
        },
        {
         "fill": "toself",
         "fillcolor": "rgba(135, 206, 235, 0.5)",
         "lat": [
          44.24444444444445,
          44.28888888888889,
          44.28888888888889,
          44.24444444444445,
          44.24444444444445
         ],
         "line": {
          "color": "blue"
         },
         "lon": [
          -110.32222222222222,
          -110.32222222222222,
          -110.43333333333332,
          -110.43333333333332,
          -110.32222222222222
         ],
         "name": "55",
         "showlegend": false,
         "type": "scattermapbox"
        },
        {
         "fill": "toself",
         "fillcolor": "rgba(135, 206, 235, 0.5)",
         "lat": [
          44.28888888888889,
          44.333333333333336,
          44.333333333333336,
          44.28888888888889,
          44.28888888888889
         ],
         "line": {
          "color": "blue"
         },
         "lon": [
          -110.32222222222222,
          -110.32222222222222,
          -110.43333333333332,
          -110.43333333333332,
          -110.32222222222222
         ],
         "name": "56",
         "showlegend": false,
         "type": "scattermapbox"
        },
        {
         "fill": "toself",
         "fillcolor": "rgba(135, 206, 235, 0.5)",
         "lat": [
          44.333333333333336,
          44.37777777777778,
          44.37777777777778,
          44.333333333333336,
          44.333333333333336
         ],
         "line": {
          "color": "blue"
         },
         "lon": [
          -110.32222222222222,
          -110.32222222222222,
          -110.43333333333332,
          -110.43333333333332,
          -110.32222222222222
         ],
         "name": "57",
         "showlegend": false,
         "type": "scattermapbox"
        },
        {
         "fill": "toself",
         "fillcolor": "rgba(135, 206, 235, 0.5)",
         "lat": [
          44.37777777777778,
          44.422222222222224,
          44.422222222222224,
          44.37777777777778,
          44.37777777777778
         ],
         "line": {
          "color": "blue"
         },
         "lon": [
          -110.32222222222222,
          -110.32222222222222,
          -110.43333333333332,
          -110.43333333333332,
          -110.32222222222222
         ],
         "name": "58",
         "showlegend": false,
         "type": "scattermapbox"
        },
        {
         "fill": "toself",
         "fillcolor": "rgba(135, 206, 235, 0.5)",
         "lat": [
          44.422222222222224,
          44.46666666666667,
          44.46666666666667,
          44.422222222222224,
          44.422222222222224
         ],
         "line": {
          "color": "blue"
         },
         "lon": [
          -110.32222222222222,
          -110.32222222222222,
          -110.43333333333332,
          -110.43333333333332,
          -110.32222222222222
         ],
         "name": "59",
         "showlegend": false,
         "type": "scattermapbox"
        },
        {
         "fill": "toself",
         "fillcolor": "rgba(135, 206, 235, 0.5)",
         "lat": [
          44.46666666666667,
          44.51111111111111,
          44.51111111111111,
          44.46666666666667,
          44.46666666666667
         ],
         "line": {
          "color": "blue"
         },
         "lon": [
          -110.32222222222222,
          -110.32222222222222,
          -110.43333333333332,
          -110.43333333333332,
          -110.32222222222222
         ],
         "name": "60",
         "showlegend": false,
         "type": "scattermapbox"
        },
        {
         "fill": "toself",
         "fillcolor": "rgba(135, 206, 235, 0.5)",
         "lat": [
          44.51111111111111,
          44.55555555555556,
          44.55555555555556,
          44.51111111111111,
          44.51111111111111
         ],
         "line": {
          "color": "blue"
         },
         "lon": [
          -110.32222222222222,
          -110.32222222222222,
          -110.43333333333332,
          -110.43333333333332,
          -110.32222222222222
         ],
         "name": "61",
         "showlegend": false,
         "type": "scattermapbox"
        },
        {
         "fill": "toself",
         "fillcolor": "rgba(135, 206, 235, 0.5)",
         "lat": [
          44.55555555555556,
          44.6,
          44.6,
          44.55555555555556,
          44.55555555555556
         ],
         "line": {
          "color": "blue"
         },
         "lon": [
          -110.32222222222222,
          -110.32222222222222,
          -110.43333333333332,
          -110.43333333333332,
          -110.32222222222222
         ],
         "name": "62",
         "showlegend": false,
         "type": "scattermapbox"
        },
        {
         "fill": "toself",
         "fillcolor": "rgba(135, 206, 235, 0.5)",
         "lat": [
          44.2,
          44.24444444444445,
          44.24444444444445,
          44.2,
          44.2
         ],
         "line": {
          "color": "blue"
         },
         "lon": [
          -110.21111111111111,
          -110.21111111111111,
          -110.32222222222222,
          -110.32222222222222,
          -110.21111111111111
         ],
         "name": "63",
         "showlegend": false,
         "type": "scattermapbox"
        },
        {
         "fill": "toself",
         "fillcolor": "rgba(135, 206, 235, 0.5)",
         "lat": [
          44.24444444444445,
          44.28888888888889,
          44.28888888888889,
          44.24444444444445,
          44.24444444444445
         ],
         "line": {
          "color": "blue"
         },
         "lon": [
          -110.21111111111111,
          -110.21111111111111,
          -110.32222222222222,
          -110.32222222222222,
          -110.21111111111111
         ],
         "name": "64",
         "showlegend": false,
         "type": "scattermapbox"
        },
        {
         "fill": "toself",
         "fillcolor": "rgba(135, 206, 235, 0.5)",
         "lat": [
          44.28888888888889,
          44.333333333333336,
          44.333333333333336,
          44.28888888888889,
          44.28888888888889
         ],
         "line": {
          "color": "blue"
         },
         "lon": [
          -110.21111111111111,
          -110.21111111111111,
          -110.32222222222222,
          -110.32222222222222,
          -110.21111111111111
         ],
         "name": "65",
         "showlegend": false,
         "type": "scattermapbox"
        },
        {
         "fill": "toself",
         "fillcolor": "rgba(135, 206, 235, 0.5)",
         "lat": [
          44.333333333333336,
          44.37777777777778,
          44.37777777777778,
          44.333333333333336,
          44.333333333333336
         ],
         "line": {
          "color": "blue"
         },
         "lon": [
          -110.21111111111111,
          -110.21111111111111,
          -110.32222222222222,
          -110.32222222222222,
          -110.21111111111111
         ],
         "name": "66",
         "showlegend": false,
         "type": "scattermapbox"
        },
        {
         "fill": "toself",
         "fillcolor": "rgba(135, 206, 235, 0.5)",
         "lat": [
          44.37777777777778,
          44.422222222222224,
          44.422222222222224,
          44.37777777777778,
          44.37777777777778
         ],
         "line": {
          "color": "blue"
         },
         "lon": [
          -110.21111111111111,
          -110.21111111111111,
          -110.32222222222222,
          -110.32222222222222,
          -110.21111111111111
         ],
         "name": "67",
         "showlegend": false,
         "type": "scattermapbox"
        },
        {
         "fill": "toself",
         "fillcolor": "rgba(135, 206, 235, 0.5)",
         "lat": [
          44.422222222222224,
          44.46666666666667,
          44.46666666666667,
          44.422222222222224,
          44.422222222222224
         ],
         "line": {
          "color": "blue"
         },
         "lon": [
          -110.21111111111111,
          -110.21111111111111,
          -110.32222222222222,
          -110.32222222222222,
          -110.21111111111111
         ],
         "name": "68",
         "showlegend": false,
         "type": "scattermapbox"
        },
        {
         "fill": "toself",
         "fillcolor": "rgba(135, 206, 235, 0.5)",
         "lat": [
          44.46666666666667,
          44.51111111111111,
          44.51111111111111,
          44.46666666666667,
          44.46666666666667
         ],
         "line": {
          "color": "blue"
         },
         "lon": [
          -110.21111111111111,
          -110.21111111111111,
          -110.32222222222222,
          -110.32222222222222,
          -110.21111111111111
         ],
         "name": "69",
         "showlegend": false,
         "type": "scattermapbox"
        },
        {
         "fill": "toself",
         "fillcolor": "rgba(135, 206, 235, 0.5)",
         "lat": [
          44.51111111111111,
          44.55555555555556,
          44.55555555555556,
          44.51111111111111,
          44.51111111111111
         ],
         "line": {
          "color": "blue"
         },
         "lon": [
          -110.21111111111111,
          -110.21111111111111,
          -110.32222222222222,
          -110.32222222222222,
          -110.21111111111111
         ],
         "name": "70",
         "showlegend": false,
         "type": "scattermapbox"
        },
        {
         "fill": "toself",
         "fillcolor": "rgba(135, 206, 235, 0.5)",
         "lat": [
          44.55555555555556,
          44.6,
          44.6,
          44.55555555555556,
          44.55555555555556
         ],
         "line": {
          "color": "blue"
         },
         "lon": [
          -110.21111111111111,
          -110.21111111111111,
          -110.32222222222222,
          -110.32222222222222,
          -110.21111111111111
         ],
         "name": "71",
         "showlegend": false,
         "type": "scattermapbox"
        },
        {
         "fill": "toself",
         "fillcolor": "rgba(135, 206, 235, 0.5)",
         "lat": [
          44.2,
          44.24444444444445,
          44.24444444444445,
          44.2,
          44.2
         ],
         "line": {
          "color": "blue"
         },
         "lon": [
          -110.1,
          -110.1,
          -110.21111111111111,
          -110.21111111111111,
          -110.1
         ],
         "name": "72",
         "showlegend": false,
         "type": "scattermapbox"
        },
        {
         "fill": "toself",
         "fillcolor": "rgba(135, 206, 235, 0.5)",
         "lat": [
          44.24444444444445,
          44.28888888888889,
          44.28888888888889,
          44.24444444444445,
          44.24444444444445
         ],
         "line": {
          "color": "blue"
         },
         "lon": [
          -110.1,
          -110.1,
          -110.21111111111111,
          -110.21111111111111,
          -110.1
         ],
         "name": "73",
         "showlegend": false,
         "type": "scattermapbox"
        },
        {
         "fill": "toself",
         "fillcolor": "rgba(135, 206, 235, 0.5)",
         "lat": [
          44.28888888888889,
          44.333333333333336,
          44.333333333333336,
          44.28888888888889,
          44.28888888888889
         ],
         "line": {
          "color": "blue"
         },
         "lon": [
          -110.1,
          -110.1,
          -110.21111111111111,
          -110.21111111111111,
          -110.1
         ],
         "name": "74",
         "showlegend": false,
         "type": "scattermapbox"
        },
        {
         "fill": "toself",
         "fillcolor": "rgba(135, 206, 235, 0.5)",
         "lat": [
          44.333333333333336,
          44.37777777777778,
          44.37777777777778,
          44.333333333333336,
          44.333333333333336
         ],
         "line": {
          "color": "blue"
         },
         "lon": [
          -110.1,
          -110.1,
          -110.21111111111111,
          -110.21111111111111,
          -110.1
         ],
         "name": "75",
         "showlegend": false,
         "type": "scattermapbox"
        },
        {
         "fill": "toself",
         "fillcolor": "rgba(135, 206, 235, 0.5)",
         "lat": [
          44.37777777777778,
          44.422222222222224,
          44.422222222222224,
          44.37777777777778,
          44.37777777777778
         ],
         "line": {
          "color": "blue"
         },
         "lon": [
          -110.1,
          -110.1,
          -110.21111111111111,
          -110.21111111111111,
          -110.1
         ],
         "name": "76",
         "showlegend": false,
         "type": "scattermapbox"
        },
        {
         "fill": "toself",
         "fillcolor": "rgba(135, 206, 235, 0.5)",
         "lat": [
          44.422222222222224,
          44.46666666666667,
          44.46666666666667,
          44.422222222222224,
          44.422222222222224
         ],
         "line": {
          "color": "blue"
         },
         "lon": [
          -110.1,
          -110.1,
          -110.21111111111111,
          -110.21111111111111,
          -110.1
         ],
         "name": "77",
         "showlegend": false,
         "type": "scattermapbox"
        },
        {
         "fill": "toself",
         "fillcolor": "rgba(135, 206, 235, 0.5)",
         "lat": [
          44.46666666666667,
          44.51111111111111,
          44.51111111111111,
          44.46666666666667,
          44.46666666666667
         ],
         "line": {
          "color": "blue"
         },
         "lon": [
          -110.1,
          -110.1,
          -110.21111111111111,
          -110.21111111111111,
          -110.1
         ],
         "name": "78",
         "showlegend": false,
         "type": "scattermapbox"
        },
        {
         "fill": "toself",
         "fillcolor": "rgba(135, 206, 235, 0.5)",
         "lat": [
          44.51111111111111,
          44.55555555555556,
          44.55555555555556,
          44.51111111111111,
          44.51111111111111
         ],
         "line": {
          "color": "blue"
         },
         "lon": [
          -110.1,
          -110.1,
          -110.21111111111111,
          -110.21111111111111,
          -110.1
         ],
         "name": "79",
         "showlegend": false,
         "type": "scattermapbox"
        },
        {
         "fill": "toself",
         "fillcolor": "rgba(135, 206, 235, 0.5)",
         "lat": [
          44.55555555555556,
          44.6,
          44.6,
          44.55555555555556,
          44.55555555555556
         ],
         "line": {
          "color": "blue"
         },
         "lon": [
          -110.1,
          -110.1,
          -110.21111111111111,
          -110.21111111111111,
          -110.1
         ],
         "name": "80",
         "showlegend": false,
         "type": "scattermapbox"
        },
        {
         "fill": "toself",
         "fillcolor": "rgba(128, 128, 128, 0.5)",
         "lat": [
          44.4488,
          44.599,
          44.5166,
          44.428,
          44.4488
         ],
         "line": {
          "color": "black"
         },
         "lon": [
          -110.839,
          -110.7052,
          -110.5339,
          -110.5885,
          -110.839
         ],
         "name": "Yellowstone National Park",
         "type": "scattermapbox"
        },
        {
         "fill": "toself",
         "fillcolor": "rgba(128, 128, 128, 0.5)",
         "lat": [
          37.7244,
          37.6962,
          37.7799,
          37.8456,
          37.8651,
          37.7244
         ],
         "line": {
          "color": "black"
         },
         "lon": [
          -119.655,
          -119.5964,
          -119.4893,
          -119.3029,
          -119.5383,
          -119.655
         ],
         "name": "Yosemite National Park",
         "type": "scattermapbox"
        },
        {
         "fill": "toself",
         "fillcolor": "rgba(128, 128, 128, 0.5)",
         "lat": [
          36.1336,
          36.2331,
          36.2861,
          36.1182,
          36.057,
          36.1336
         ],
         "line": {
          "color": "black"
         },
         "lon": [
          -112.1861,
          -112.2156,
          -112.0969,
          -111.8205,
          -112.1214,
          -112.1861
         ],
         "name": "Grand Canyon National Park",
         "type": "scattermapbox"
        },
        {
         "hoverinfo": "text",
         "lat": [
          45.2284,
          44.3946,
          44.4246
         ],
         "lon": [
          -110.7622,
          -110.8218,
          -110.1118
         ],
         "marker": {
          "color": 0,
          "size": 10
         },
         "mode": "markers",
         "name": "Wolf",
         "showlegend": true,
         "text": [
          "Animal ID: A001<br>Scientific Name: Canis lupus<br>Redlist Category: Least Concern<br>Megafauna: False<br>Latitude: 45.2284<br>Longitude: -110.7622",
          "Animal ID: A001<br>Scientific Name: Canis lupus<br>Redlist Category: Least Concern<br>Megafauna: False<br>Latitude: 44.3946<br>Longitude: -110.8218",
          "Animal ID: A001<br>Scientific Name: Canis lupus<br>Redlist Category: Least Concern<br>Megafauna: False<br>Latitude: 44.4246<br>Longitude: -110.1118"
         ],
         "type": "scattermapbox"
        },
        {
         "hoverinfo": "text",
         "lat": [
          44.576,
          44.5361,
          44.2221
         ],
         "lon": [
          -110.6763,
          -110.7078,
          -110.8182
         ],
         "marker": {
          "color": 1,
          "size": 10
         },
         "mode": "markers",
         "name": "Bison",
         "showlegend": true,
         "text": [
          "Animal ID: A002<br>Scientific Name: Bison bison<br>Redlist Category: Vulnerable<br>Megafauna: True<br>Latitude: 44.576<br>Longitude: -110.6763",
          "Animal ID: A002<br>Scientific Name: Bison bison<br>Redlist Category: Vulnerable<br>Megafauna: True<br>Latitude: 44.5361<br>Longitude: -110.7078",
          "Animal ID: A002<br>Scientific Name: Bison bison<br>Redlist Category: Vulnerable<br>Megafauna: True<br>Latitude: 44.2221<br>Longitude: -110.8182"
         ],
         "type": "scattermapbox"
        },
        {
         "hoverinfo": "text",
         "lat": [
          44.4232,
          44.5472,
          44.5519
         ],
         "lon": [
          -111.1061,
          -110.7893,
          -110.9812
         ],
         "marker": {
          "color": 2,
          "size": 10
         },
         "mode": "markers",
         "name": "Elk",
         "showlegend": true,
         "text": [
          "Animal ID: A003<br>Scientific Name: Cervus canadensis<br>Redlist Category: Least Concern<br>Megafauna: True<br>Latitude: 44.4232<br>Longitude: -111.1061",
          "Animal ID: A003<br>Scientific Name: Cervus canadensis<br>Redlist Category: Least Concern<br>Megafauna: True<br>Latitude: 44.5472<br>Longitude: -110.7893",
          "Animal ID: A003<br>Scientific Name: Cervus canadensis<br>Redlist Category: Least Concern<br>Megafauna: True<br>Latitude: 44.5519<br>Longitude: -110.9812"
         ],
         "type": "scattermapbox"
        },
        {
         "hoverinfo": "text",
         "lat": [
          37.9058,
          37.766,
          37.8601
         ],
         "lon": [
          -119.7857,
          -119.6363,
          -119.5353
         ],
         "marker": {
          "color": 3,
          "size": 10
         },
         "mode": "markers",
         "name": "Sierra Nevada bighorn sheep",
         "showlegend": true,
         "text": [
          "Animal ID: A004<br>Scientific Name: Ovis canadensis sierrae<br>Redlist Category: Endangered<br>Megafauna: False<br>Latitude: 37.9058<br>Longitude: -119.7857",
          "Animal ID: A004<br>Scientific Name: Ovis canadensis sierrae<br>Redlist Category: Endangered<br>Megafauna: False<br>Latitude: 37.766<br>Longitude: -119.6363",
          "Animal ID: A004<br>Scientific Name: Ovis canadensis sierrae<br>Redlist Category: Endangered<br>Megafauna: False<br>Latitude: 37.8601<br>Longitude: -119.5353"
         ],
         "type": "scattermapbox"
        },
        {
         "hoverinfo": "text",
         "lat": [
          37.7896,
          37.8626,
          37.6181
         ],
         "lon": [
          -119.6426,
          -119.7777,
          -119.6619
         ],
         "marker": {
          "color": 4,
          "size": 10
         },
         "mode": "markers",
         "name": "Sierra Nevada red fox",
         "showlegend": true,
         "text": [
          "Animal ID: A005<br>Scientific Name: Vulpes vulpes necator<br>Redlist Category: Critically Endangered<br>Megafauna: False<br>Latitude: 37.7896<br>Longitude: -119.6426",
          "Animal ID: A005<br>Scientific Name: Vulpes vulpes necator<br>Redlist Category: Critically Endangered<br>Megafauna: False<br>Latitude: 37.8626<br>Longitude: -119.7777",
          "Animal ID: A005<br>Scientific Name: Vulpes vulpes necator<br>Redlist Category: Critically Endangered<br>Megafauna: False<br>Latitude: 37.6181<br>Longitude: -119.6619"
         ],
         "type": "scattermapbox"
        },
        {
         "hoverinfo": "text",
         "lat": [
          37.8829,
          37.8636,
          37.8681
         ],
         "lon": [
          -119.7608,
          -119.628,
          -119.6255
         ],
         "marker": {
          "color": 5,
          "size": 10
         },
         "mode": "markers",
         "name": "Bobcat",
         "showlegend": true,
         "text": [
          "Animal ID: A006<br>Scientific Name: Lynx rufus<br>Redlist Category: Least Concern<br>Megafauna: True<br>Latitude: 37.8829<br>Longitude: -119.7608",
          "Animal ID: A006<br>Scientific Name: Lynx rufus<br>Redlist Category: Least Concern<br>Megafauna: True<br>Latitude: 37.8636<br>Longitude: -119.628",
          "Animal ID: A006<br>Scientific Name: Lynx rufus<br>Redlist Category: Least Concern<br>Megafauna: True<br>Latitude: 37.8681<br>Longitude: -119.6255"
         ],
         "type": "scattermapbox"
        },
        {
         "hoverinfo": "text",
         "lat": [
          36.372,
          36.6622,
          36.2261
         ],
         "lon": [
          -113.1627,
          -112.2308,
          -112.1831
         ],
         "marker": {
          "color": 6,
          "size": 10
         },
         "mode": "markers",
         "name": "Mule deer",
         "showlegend": true,
         "text": [
          "Animal ID: A007<br>Scientific Name: Odocoileus hemionus<br>Redlist Category: Least Concern<br>Megafauna: True<br>Latitude: 36.372<br>Longitude: -113.1627",
          "Animal ID: A007<br>Scientific Name: Odocoileus hemionus<br>Redlist Category: Least Concern<br>Megafauna: True<br>Latitude: 36.6622<br>Longitude: -112.2308",
          "Animal ID: A007<br>Scientific Name: Odocoileus hemionus<br>Redlist Category: Least Concern<br>Megafauna: True<br>Latitude: 36.2261<br>Longitude: -112.1831"
         ],
         "type": "scattermapbox"
        },
        {
         "hoverinfo": "text",
         "lat": [
          36.6193,
          36.6016,
          36.5492
         ],
         "lon": [
          -112.3388,
          -112.3256,
          -112.7439
         ],
         "marker": {
          "color": 7,
          "size": 10
         },
         "mode": "markers",
         "name": "Desert bighorn sheep",
         "showlegend": true,
         "text": [
          "Animal ID: A008<br>Scientific Name: Ovis canadensis nelsoni<br>Redlist Category: Near Threatened<br>Megafauna: True<br>Latitude: 36.6193<br>Longitude: -112.3388",
          "Animal ID: A008<br>Scientific Name: Ovis canadensis nelsoni<br>Redlist Category: Near Threatened<br>Megafauna: True<br>Latitude: 36.6016<br>Longitude: -112.3256",
          "Animal ID: A008<br>Scientific Name: Ovis canadensis nelsoni<br>Redlist Category: Near Threatened<br>Megafauna: True<br>Latitude: 36.5492<br>Longitude: -112.7439"
         ],
         "type": "scattermapbox"
        },
        {
         "hoverinfo": "text",
         "lat": [
          36.3388,
          36.4868,
          36.6282
         ],
         "lon": [
          -112.119,
          -112.3517,
          -112.6524
         ],
         "marker": {
          "color": 8,
          "size": 10
         },
         "mode": "markers",
         "name": "Gray fox",
         "showlegend": true,
         "text": [
          "Animal ID: A009<br>Scientific Name: Urocyon cinereoargenteus<br>Redlist Category: Least Concern<br>Megafauna: True<br>Latitude: 36.3388<br>Longitude: -112.119",
          "Animal ID: A009<br>Scientific Name: Urocyon cinereoargenteus<br>Redlist Category: Least Concern<br>Megafauna: True<br>Latitude: 36.4868<br>Longitude: -112.3517",
          "Animal ID: A009<br>Scientific Name: Urocyon cinereoargenteus<br>Redlist Category: Least Concern<br>Megafauna: True<br>Latitude: 36.6282<br>Longitude: -112.6524"
         ],
         "type": "scattermapbox"
        }
       ],
       "layout": {
        "mapbox": {
         "center": {
          "lat": 44.4,
          "lon": -110.6
         },
         "style": "open-street-map",
         "zoom": 8
        },
        "template": {
         "data": {
          "bar": [
           {
            "error_x": {
             "color": "#2a3f5f"
            },
            "error_y": {
             "color": "#2a3f5f"
            },
            "marker": {
             "line": {
              "color": "#E5ECF6",
              "width": 0.5
             },
             "pattern": {
              "fillmode": "overlay",
              "size": 10,
              "solidity": 0.2
             }
            },
            "type": "bar"
           }
          ],
          "barpolar": [
           {
            "marker": {
             "line": {
              "color": "#E5ECF6",
              "width": 0.5
             },
             "pattern": {
              "fillmode": "overlay",
              "size": 10,
              "solidity": 0.2
             }
            },
            "type": "barpolar"
           }
          ],
          "carpet": [
           {
            "aaxis": {
             "endlinecolor": "#2a3f5f",
             "gridcolor": "white",
             "linecolor": "white",
             "minorgridcolor": "white",
             "startlinecolor": "#2a3f5f"
            },
            "baxis": {
             "endlinecolor": "#2a3f5f",
             "gridcolor": "white",
             "linecolor": "white",
             "minorgridcolor": "white",
             "startlinecolor": "#2a3f5f"
            },
            "type": "carpet"
           }
          ],
          "choropleth": [
           {
            "colorbar": {
             "outlinewidth": 0,
             "ticks": ""
            },
            "type": "choropleth"
           }
          ],
          "contour": [
           {
            "colorbar": {
             "outlinewidth": 0,
             "ticks": ""
            },
            "colorscale": [
             [
              0,
              "#0d0887"
             ],
             [
              0.1111111111111111,
              "#46039f"
             ],
             [
              0.2222222222222222,
              "#7201a8"
             ],
             [
              0.3333333333333333,
              "#9c179e"
             ],
             [
              0.4444444444444444,
              "#bd3786"
             ],
             [
              0.5555555555555556,
              "#d8576b"
             ],
             [
              0.6666666666666666,
              "#ed7953"
             ],
             [
              0.7777777777777778,
              "#fb9f3a"
             ],
             [
              0.8888888888888888,
              "#fdca26"
             ],
             [
              1,
              "#f0f921"
             ]
            ],
            "type": "contour"
           }
          ],
          "contourcarpet": [
           {
            "colorbar": {
             "outlinewidth": 0,
             "ticks": ""
            },
            "type": "contourcarpet"
           }
          ],
          "heatmap": [
           {
            "colorbar": {
             "outlinewidth": 0,
             "ticks": ""
            },
            "colorscale": [
             [
              0,
              "#0d0887"
             ],
             [
              0.1111111111111111,
              "#46039f"
             ],
             [
              0.2222222222222222,
              "#7201a8"
             ],
             [
              0.3333333333333333,
              "#9c179e"
             ],
             [
              0.4444444444444444,
              "#bd3786"
             ],
             [
              0.5555555555555556,
              "#d8576b"
             ],
             [
              0.6666666666666666,
              "#ed7953"
             ],
             [
              0.7777777777777778,
              "#fb9f3a"
             ],
             [
              0.8888888888888888,
              "#fdca26"
             ],
             [
              1,
              "#f0f921"
             ]
            ],
            "type": "heatmap"
           }
          ],
          "heatmapgl": [
           {
            "colorbar": {
             "outlinewidth": 0,
             "ticks": ""
            },
            "colorscale": [
             [
              0,
              "#0d0887"
             ],
             [
              0.1111111111111111,
              "#46039f"
             ],
             [
              0.2222222222222222,
              "#7201a8"
             ],
             [
              0.3333333333333333,
              "#9c179e"
             ],
             [
              0.4444444444444444,
              "#bd3786"
             ],
             [
              0.5555555555555556,
              "#d8576b"
             ],
             [
              0.6666666666666666,
              "#ed7953"
             ],
             [
              0.7777777777777778,
              "#fb9f3a"
             ],
             [
              0.8888888888888888,
              "#fdca26"
             ],
             [
              1,
              "#f0f921"
             ]
            ],
            "type": "heatmapgl"
           }
          ],
          "histogram": [
           {
            "marker": {
             "pattern": {
              "fillmode": "overlay",
              "size": 10,
              "solidity": 0.2
             }
            },
            "type": "histogram"
           }
          ],
          "histogram2d": [
           {
            "colorbar": {
             "outlinewidth": 0,
             "ticks": ""
            },
            "colorscale": [
             [
              0,
              "#0d0887"
             ],
             [
              0.1111111111111111,
              "#46039f"
             ],
             [
              0.2222222222222222,
              "#7201a8"
             ],
             [
              0.3333333333333333,
              "#9c179e"
             ],
             [
              0.4444444444444444,
              "#bd3786"
             ],
             [
              0.5555555555555556,
              "#d8576b"
             ],
             [
              0.6666666666666666,
              "#ed7953"
             ],
             [
              0.7777777777777778,
              "#fb9f3a"
             ],
             [
              0.8888888888888888,
              "#fdca26"
             ],
             [
              1,
              "#f0f921"
             ]
            ],
            "type": "histogram2d"
           }
          ],
          "histogram2dcontour": [
           {
            "colorbar": {
             "outlinewidth": 0,
             "ticks": ""
            },
            "colorscale": [
             [
              0,
              "#0d0887"
             ],
             [
              0.1111111111111111,
              "#46039f"
             ],
             [
              0.2222222222222222,
              "#7201a8"
             ],
             [
              0.3333333333333333,
              "#9c179e"
             ],
             [
              0.4444444444444444,
              "#bd3786"
             ],
             [
              0.5555555555555556,
              "#d8576b"
             ],
             [
              0.6666666666666666,
              "#ed7953"
             ],
             [
              0.7777777777777778,
              "#fb9f3a"
             ],
             [
              0.8888888888888888,
              "#fdca26"
             ],
             [
              1,
              "#f0f921"
             ]
            ],
            "type": "histogram2dcontour"
           }
          ],
          "mesh3d": [
           {
            "colorbar": {
             "outlinewidth": 0,
             "ticks": ""
            },
            "type": "mesh3d"
           }
          ],
          "parcoords": [
           {
            "line": {
             "colorbar": {
              "outlinewidth": 0,
              "ticks": ""
             }
            },
            "type": "parcoords"
           }
          ],
          "pie": [
           {
            "automargin": true,
            "type": "pie"
           }
          ],
          "scatter": [
           {
            "fillpattern": {
             "fillmode": "overlay",
             "size": 10,
             "solidity": 0.2
            },
            "type": "scatter"
           }
          ],
          "scatter3d": [
           {
            "line": {
             "colorbar": {
              "outlinewidth": 0,
              "ticks": ""
             }
            },
            "marker": {
             "colorbar": {
              "outlinewidth": 0,
              "ticks": ""
             }
            },
            "type": "scatter3d"
           }
          ],
          "scattercarpet": [
           {
            "marker": {
             "colorbar": {
              "outlinewidth": 0,
              "ticks": ""
             }
            },
            "type": "scattercarpet"
           }
          ],
          "scattergeo": [
           {
            "marker": {
             "colorbar": {
              "outlinewidth": 0,
              "ticks": ""
             }
            },
            "type": "scattergeo"
           }
          ],
          "scattergl": [
           {
            "marker": {
             "colorbar": {
              "outlinewidth": 0,
              "ticks": ""
             }
            },
            "type": "scattergl"
           }
          ],
          "scattermapbox": [
           {
            "marker": {
             "colorbar": {
              "outlinewidth": 0,
              "ticks": ""
             }
            },
            "type": "scattermapbox"
           }
          ],
          "scatterpolar": [
           {
            "marker": {
             "colorbar": {
              "outlinewidth": 0,
              "ticks": ""
             }
            },
            "type": "scatterpolar"
           }
          ],
          "scatterpolargl": [
           {
            "marker": {
             "colorbar": {
              "outlinewidth": 0,
              "ticks": ""
             }
            },
            "type": "scatterpolargl"
           }
          ],
          "scatterternary": [
           {
            "marker": {
             "colorbar": {
              "outlinewidth": 0,
              "ticks": ""
             }
            },
            "type": "scatterternary"
           }
          ],
          "surface": [
           {
            "colorbar": {
             "outlinewidth": 0,
             "ticks": ""
            },
            "colorscale": [
             [
              0,
              "#0d0887"
             ],
             [
              0.1111111111111111,
              "#46039f"
             ],
             [
              0.2222222222222222,
              "#7201a8"
             ],
             [
              0.3333333333333333,
              "#9c179e"
             ],
             [
              0.4444444444444444,
              "#bd3786"
             ],
             [
              0.5555555555555556,
              "#d8576b"
             ],
             [
              0.6666666666666666,
              "#ed7953"
             ],
             [
              0.7777777777777778,
              "#fb9f3a"
             ],
             [
              0.8888888888888888,
              "#fdca26"
             ],
             [
              1,
              "#f0f921"
             ]
            ],
            "type": "surface"
           }
          ],
          "table": [
           {
            "cells": {
             "fill": {
              "color": "#EBF0F8"
             },
             "line": {
              "color": "white"
             }
            },
            "header": {
             "fill": {
              "color": "#C8D4E3"
             },
             "line": {
              "color": "white"
             }
            },
            "type": "table"
           }
          ]
         },
         "layout": {
          "annotationdefaults": {
           "arrowcolor": "#2a3f5f",
           "arrowhead": 0,
           "arrowwidth": 1
          },
          "autotypenumbers": "strict",
          "coloraxis": {
           "colorbar": {
            "outlinewidth": 0,
            "ticks": ""
           }
          },
          "colorscale": {
           "diverging": [
            [
             0,
             "#8e0152"
            ],
            [
             0.1,
             "#c51b7d"
            ],
            [
             0.2,
             "#de77ae"
            ],
            [
             0.3,
             "#f1b6da"
            ],
            [
             0.4,
             "#fde0ef"
            ],
            [
             0.5,
             "#f7f7f7"
            ],
            [
             0.6,
             "#e6f5d0"
            ],
            [
             0.7,
             "#b8e186"
            ],
            [
             0.8,
             "#7fbc41"
            ],
            [
             0.9,
             "#4d9221"
            ],
            [
             1,
             "#276419"
            ]
           ],
           "sequential": [
            [
             0,
             "#0d0887"
            ],
            [
             0.1111111111111111,
             "#46039f"
            ],
            [
             0.2222222222222222,
             "#7201a8"
            ],
            [
             0.3333333333333333,
             "#9c179e"
            ],
            [
             0.4444444444444444,
             "#bd3786"
            ],
            [
             0.5555555555555556,
             "#d8576b"
            ],
            [
             0.6666666666666666,
             "#ed7953"
            ],
            [
             0.7777777777777778,
             "#fb9f3a"
            ],
            [
             0.8888888888888888,
             "#fdca26"
            ],
            [
             1,
             "#f0f921"
            ]
           ],
           "sequentialminus": [
            [
             0,
             "#0d0887"
            ],
            [
             0.1111111111111111,
             "#46039f"
            ],
            [
             0.2222222222222222,
             "#7201a8"
            ],
            [
             0.3333333333333333,
             "#9c179e"
            ],
            [
             0.4444444444444444,
             "#bd3786"
            ],
            [
             0.5555555555555556,
             "#d8576b"
            ],
            [
             0.6666666666666666,
             "#ed7953"
            ],
            [
             0.7777777777777778,
             "#fb9f3a"
            ],
            [
             0.8888888888888888,
             "#fdca26"
            ],
            [
             1,
             "#f0f921"
            ]
           ]
          },
          "colorway": [
           "#636efa",
           "#EF553B",
           "#00cc96",
           "#ab63fa",
           "#FFA15A",
           "#19d3f3",
           "#FF6692",
           "#B6E880",
           "#FF97FF",
           "#FECB52"
          ],
          "font": {
           "color": "#2a3f5f"
          },
          "geo": {
           "bgcolor": "white",
           "lakecolor": "white",
           "landcolor": "#E5ECF6",
           "showlakes": true,
           "showland": true,
           "subunitcolor": "white"
          },
          "hoverlabel": {
           "align": "left"
          },
          "hovermode": "closest",
          "mapbox": {
           "style": "light"
          },
          "paper_bgcolor": "white",
          "plot_bgcolor": "#E5ECF6",
          "polar": {
           "angularaxis": {
            "gridcolor": "white",
            "linecolor": "white",
            "ticks": ""
           },
           "bgcolor": "#E5ECF6",
           "radialaxis": {
            "gridcolor": "white",
            "linecolor": "white",
            "ticks": ""
           }
          },
          "scene": {
           "xaxis": {
            "backgroundcolor": "#E5ECF6",
            "gridcolor": "white",
            "gridwidth": 2,
            "linecolor": "white",
            "showbackground": true,
            "ticks": "",
            "zerolinecolor": "white"
           },
           "yaxis": {
            "backgroundcolor": "#E5ECF6",
            "gridcolor": "white",
            "gridwidth": 2,
            "linecolor": "white",
            "showbackground": true,
            "ticks": "",
            "zerolinecolor": "white"
           },
           "zaxis": {
            "backgroundcolor": "#E5ECF6",
            "gridcolor": "white",
            "gridwidth": 2,
            "linecolor": "white",
            "showbackground": true,
            "ticks": "",
            "zerolinecolor": "white"
           }
          },
          "shapedefaults": {
           "line": {
            "color": "#2a3f5f"
           }
          },
          "ternary": {
           "aaxis": {
            "gridcolor": "white",
            "linecolor": "white",
            "ticks": ""
           },
           "baxis": {
            "gridcolor": "white",
            "linecolor": "white",
            "ticks": ""
           },
           "bgcolor": "#E5ECF6",
           "caxis": {
            "gridcolor": "white",
            "linecolor": "white",
            "ticks": ""
           }
          },
          "title": {
           "x": 0.05
          },
          "xaxis": {
           "automargin": true,
           "gridcolor": "white",
           "linecolor": "white",
           "ticks": "",
           "title": {
            "standoff": 15
           },
           "zerolinecolor": "white",
           "zerolinewidth": 2
          },
          "yaxis": {
           "automargin": true,
           "gridcolor": "white",
           "linecolor": "white",
           "ticks": "",
           "title": {
            "standoff": 15
           },
           "zerolinecolor": "white",
           "zerolinewidth": 2
          }
         }
        }
       }
      },
      "text/html": [
       "<div>                            <div id=\"a2d9e002-8435-46cd-8f7b-4fe33bc76965\" class=\"plotly-graph-div\" style=\"height:525px; width:100%;\"></div>            <script type=\"text/javascript\">                require([\"plotly\"], function(Plotly) {                    window.PLOTLYENV=window.PLOTLYENV || {};                                    if (document.getElementById(\"a2d9e002-8435-46cd-8f7b-4fe33bc76965\")) {                    Plotly.newPlot(                        \"a2d9e002-8435-46cd-8f7b-4fe33bc76965\",                        [{\"fill\":\"toself\",\"fillcolor\":\"rgba(135, 206, 235, 0.5)\",\"lat\":[44.2,44.24444444444445,44.24444444444445,44.2,44.2],\"line\":{\"color\":\"blue\"},\"lon\":[-110.98888888888888,-110.98888888888888,-111.1,-111.1,-110.98888888888888],\"name\":\"0\",\"showlegend\":false,\"type\":\"scattermapbox\"},{\"fill\":\"toself\",\"fillcolor\":\"rgba(135, 206, 235, 0.5)\",\"lat\":[44.24444444444445,44.28888888888889,44.28888888888889,44.24444444444445,44.24444444444445],\"line\":{\"color\":\"blue\"},\"lon\":[-110.98888888888888,-110.98888888888888,-111.1,-111.1,-110.98888888888888],\"name\":\"1\",\"showlegend\":false,\"type\":\"scattermapbox\"},{\"fill\":\"toself\",\"fillcolor\":\"rgba(135, 206, 235, 0.5)\",\"lat\":[44.28888888888889,44.333333333333336,44.333333333333336,44.28888888888889,44.28888888888889],\"line\":{\"color\":\"blue\"},\"lon\":[-110.98888888888888,-110.98888888888888,-111.1,-111.1,-110.98888888888888],\"name\":\"2\",\"showlegend\":false,\"type\":\"scattermapbox\"},{\"fill\":\"toself\",\"fillcolor\":\"rgba(135, 206, 235, 0.5)\",\"lat\":[44.333333333333336,44.37777777777778,44.37777777777778,44.333333333333336,44.333333333333336],\"line\":{\"color\":\"blue\"},\"lon\":[-110.98888888888888,-110.98888888888888,-111.1,-111.1,-110.98888888888888],\"name\":\"3\",\"showlegend\":false,\"type\":\"scattermapbox\"},{\"fill\":\"toself\",\"fillcolor\":\"rgba(135, 206, 235, 0.5)\",\"lat\":[44.37777777777778,44.422222222222224,44.422222222222224,44.37777777777778,44.37777777777778],\"line\":{\"color\":\"blue\"},\"lon\":[-110.98888888888888,-110.98888888888888,-111.1,-111.1,-110.98888888888888],\"name\":\"4\",\"showlegend\":false,\"type\":\"scattermapbox\"},{\"fill\":\"toself\",\"fillcolor\":\"rgba(135, 206, 235, 0.5)\",\"lat\":[44.422222222222224,44.46666666666667,44.46666666666667,44.422222222222224,44.422222222222224],\"line\":{\"color\":\"blue\"},\"lon\":[-110.98888888888888,-110.98888888888888,-111.1,-111.1,-110.98888888888888],\"name\":\"5\",\"showlegend\":false,\"type\":\"scattermapbox\"},{\"fill\":\"toself\",\"fillcolor\":\"rgba(135, 206, 235, 0.5)\",\"lat\":[44.46666666666667,44.51111111111111,44.51111111111111,44.46666666666667,44.46666666666667],\"line\":{\"color\":\"blue\"},\"lon\":[-110.98888888888888,-110.98888888888888,-111.1,-111.1,-110.98888888888888],\"name\":\"6\",\"showlegend\":false,\"type\":\"scattermapbox\"},{\"fill\":\"toself\",\"fillcolor\":\"rgba(135, 206, 235, 0.5)\",\"lat\":[44.51111111111111,44.55555555555556,44.55555555555556,44.51111111111111,44.51111111111111],\"line\":{\"color\":\"blue\"},\"lon\":[-110.98888888888888,-110.98888888888888,-111.1,-111.1,-110.98888888888888],\"name\":\"7\",\"showlegend\":false,\"type\":\"scattermapbox\"},{\"fill\":\"toself\",\"fillcolor\":\"rgba(135, 206, 235, 0.5)\",\"lat\":[44.55555555555556,44.6,44.6,44.55555555555556,44.55555555555556],\"line\":{\"color\":\"blue\"},\"lon\":[-110.98888888888888,-110.98888888888888,-111.1,-111.1,-110.98888888888888],\"name\":\"8\",\"showlegend\":false,\"type\":\"scattermapbox\"},{\"fill\":\"toself\",\"fillcolor\":\"rgba(135, 206, 235, 0.5)\",\"lat\":[44.2,44.24444444444445,44.24444444444445,44.2,44.2],\"line\":{\"color\":\"blue\"},\"lon\":[-110.87777777777777,-110.87777777777777,-110.98888888888888,-110.98888888888888,-110.87777777777777],\"name\":\"9\",\"showlegend\":false,\"type\":\"scattermapbox\"},{\"fill\":\"toself\",\"fillcolor\":\"rgba(135, 206, 235, 0.5)\",\"lat\":[44.24444444444445,44.28888888888889,44.28888888888889,44.24444444444445,44.24444444444445],\"line\":{\"color\":\"blue\"},\"lon\":[-110.87777777777777,-110.87777777777777,-110.98888888888888,-110.98888888888888,-110.87777777777777],\"name\":\"10\",\"showlegend\":false,\"type\":\"scattermapbox\"},{\"fill\":\"toself\",\"fillcolor\":\"rgba(135, 206, 235, 0.5)\",\"lat\":[44.28888888888889,44.333333333333336,44.333333333333336,44.28888888888889,44.28888888888889],\"line\":{\"color\":\"blue\"},\"lon\":[-110.87777777777777,-110.87777777777777,-110.98888888888888,-110.98888888888888,-110.87777777777777],\"name\":\"11\",\"showlegend\":false,\"type\":\"scattermapbox\"},{\"fill\":\"toself\",\"fillcolor\":\"rgba(135, 206, 235, 0.5)\",\"lat\":[44.333333333333336,44.37777777777778,44.37777777777778,44.333333333333336,44.333333333333336],\"line\":{\"color\":\"blue\"},\"lon\":[-110.87777777777777,-110.87777777777777,-110.98888888888888,-110.98888888888888,-110.87777777777777],\"name\":\"12\",\"showlegend\":false,\"type\":\"scattermapbox\"},{\"fill\":\"toself\",\"fillcolor\":\"rgba(135, 206, 235, 0.5)\",\"lat\":[44.37777777777778,44.422222222222224,44.422222222222224,44.37777777777778,44.37777777777778],\"line\":{\"color\":\"blue\"},\"lon\":[-110.87777777777777,-110.87777777777777,-110.98888888888888,-110.98888888888888,-110.87777777777777],\"name\":\"13\",\"showlegend\":false,\"type\":\"scattermapbox\"},{\"fill\":\"toself\",\"fillcolor\":\"rgba(135, 206, 235, 0.5)\",\"lat\":[44.422222222222224,44.46666666666667,44.46666666666667,44.422222222222224,44.422222222222224],\"line\":{\"color\":\"blue\"},\"lon\":[-110.87777777777777,-110.87777777777777,-110.98888888888888,-110.98888888888888,-110.87777777777777],\"name\":\"14\",\"showlegend\":false,\"type\":\"scattermapbox\"},{\"fill\":\"toself\",\"fillcolor\":\"rgba(135, 206, 235, 0.5)\",\"lat\":[44.46666666666667,44.51111111111111,44.51111111111111,44.46666666666667,44.46666666666667],\"line\":{\"color\":\"blue\"},\"lon\":[-110.87777777777777,-110.87777777777777,-110.98888888888888,-110.98888888888888,-110.87777777777777],\"name\":\"15\",\"showlegend\":false,\"type\":\"scattermapbox\"},{\"fill\":\"toself\",\"fillcolor\":\"rgba(135, 206, 235, 0.5)\",\"lat\":[44.51111111111111,44.55555555555556,44.55555555555556,44.51111111111111,44.51111111111111],\"line\":{\"color\":\"blue\"},\"lon\":[-110.87777777777777,-110.87777777777777,-110.98888888888888,-110.98888888888888,-110.87777777777777],\"name\":\"16\",\"showlegend\":false,\"type\":\"scattermapbox\"},{\"fill\":\"toself\",\"fillcolor\":\"rgba(135, 206, 235, 0.5)\",\"lat\":[44.55555555555556,44.6,44.6,44.55555555555556,44.55555555555556],\"line\":{\"color\":\"blue\"},\"lon\":[-110.87777777777777,-110.87777777777777,-110.98888888888888,-110.98888888888888,-110.87777777777777],\"name\":\"17\",\"showlegend\":false,\"type\":\"scattermapbox\"},{\"fill\":\"toself\",\"fillcolor\":\"rgba(135, 206, 235, 0.5)\",\"lat\":[44.2,44.24444444444445,44.24444444444445,44.2,44.2],\"line\":{\"color\":\"blue\"},\"lon\":[-110.76666666666667,-110.76666666666667,-110.87777777777777,-110.87777777777777,-110.76666666666667],\"name\":\"18\",\"showlegend\":false,\"type\":\"scattermapbox\"},{\"fill\":\"toself\",\"fillcolor\":\"rgba(135, 206, 235, 0.5)\",\"lat\":[44.24444444444445,44.28888888888889,44.28888888888889,44.24444444444445,44.24444444444445],\"line\":{\"color\":\"blue\"},\"lon\":[-110.76666666666667,-110.76666666666667,-110.87777777777777,-110.87777777777777,-110.76666666666667],\"name\":\"19\",\"showlegend\":false,\"type\":\"scattermapbox\"},{\"fill\":\"toself\",\"fillcolor\":\"rgba(135, 206, 235, 0.5)\",\"lat\":[44.28888888888889,44.333333333333336,44.333333333333336,44.28888888888889,44.28888888888889],\"line\":{\"color\":\"blue\"},\"lon\":[-110.76666666666667,-110.76666666666667,-110.87777777777777,-110.87777777777777,-110.76666666666667],\"name\":\"20\",\"showlegend\":false,\"type\":\"scattermapbox\"},{\"fill\":\"toself\",\"fillcolor\":\"rgba(135, 206, 235, 0.5)\",\"lat\":[44.333333333333336,44.37777777777778,44.37777777777778,44.333333333333336,44.333333333333336],\"line\":{\"color\":\"blue\"},\"lon\":[-110.76666666666667,-110.76666666666667,-110.87777777777777,-110.87777777777777,-110.76666666666667],\"name\":\"21\",\"showlegend\":false,\"type\":\"scattermapbox\"},{\"fill\":\"toself\",\"fillcolor\":\"rgba(135, 206, 235, 0.5)\",\"lat\":[44.37777777777778,44.422222222222224,44.422222222222224,44.37777777777778,44.37777777777778],\"line\":{\"color\":\"blue\"},\"lon\":[-110.76666666666667,-110.76666666666667,-110.87777777777777,-110.87777777777777,-110.76666666666667],\"name\":\"22\",\"showlegend\":false,\"type\":\"scattermapbox\"},{\"fill\":\"toself\",\"fillcolor\":\"rgba(135, 206, 235, 0.5)\",\"lat\":[44.422222222222224,44.46666666666667,44.46666666666667,44.422222222222224,44.422222222222224],\"line\":{\"color\":\"blue\"},\"lon\":[-110.76666666666667,-110.76666666666667,-110.87777777777777,-110.87777777777777,-110.76666666666667],\"name\":\"23\",\"showlegend\":false,\"type\":\"scattermapbox\"},{\"fill\":\"toself\",\"fillcolor\":\"rgba(135, 206, 235, 0.5)\",\"lat\":[44.46666666666667,44.51111111111111,44.51111111111111,44.46666666666667,44.46666666666667],\"line\":{\"color\":\"blue\"},\"lon\":[-110.76666666666667,-110.76666666666667,-110.87777777777777,-110.87777777777777,-110.76666666666667],\"name\":\"24\",\"showlegend\":false,\"type\":\"scattermapbox\"},{\"fill\":\"toself\",\"fillcolor\":\"rgba(135, 206, 235, 0.5)\",\"lat\":[44.51111111111111,44.55555555555556,44.55555555555556,44.51111111111111,44.51111111111111],\"line\":{\"color\":\"blue\"},\"lon\":[-110.76666666666667,-110.76666666666667,-110.87777777777777,-110.87777777777777,-110.76666666666667],\"name\":\"25\",\"showlegend\":false,\"type\":\"scattermapbox\"},{\"fill\":\"toself\",\"fillcolor\":\"rgba(135, 206, 235, 0.5)\",\"lat\":[44.55555555555556,44.6,44.6,44.55555555555556,44.55555555555556],\"line\":{\"color\":\"blue\"},\"lon\":[-110.76666666666667,-110.76666666666667,-110.87777777777777,-110.87777777777777,-110.76666666666667],\"name\":\"26\",\"showlegend\":false,\"type\":\"scattermapbox\"},{\"fill\":\"toself\",\"fillcolor\":\"rgba(135, 206, 235, 0.5)\",\"lat\":[44.2,44.24444444444445,44.24444444444445,44.2,44.2],\"line\":{\"color\":\"blue\"},\"lon\":[-110.65555555555555,-110.65555555555555,-110.76666666666667,-110.76666666666667,-110.65555555555555],\"name\":\"27\",\"showlegend\":false,\"type\":\"scattermapbox\"},{\"fill\":\"toself\",\"fillcolor\":\"rgba(135, 206, 235, 0.5)\",\"lat\":[44.24444444444445,44.28888888888889,44.28888888888889,44.24444444444445,44.24444444444445],\"line\":{\"color\":\"blue\"},\"lon\":[-110.65555555555555,-110.65555555555555,-110.76666666666667,-110.76666666666667,-110.65555555555555],\"name\":\"28\",\"showlegend\":false,\"type\":\"scattermapbox\"},{\"fill\":\"toself\",\"fillcolor\":\"rgba(135, 206, 235, 0.5)\",\"lat\":[44.28888888888889,44.333333333333336,44.333333333333336,44.28888888888889,44.28888888888889],\"line\":{\"color\":\"blue\"},\"lon\":[-110.65555555555555,-110.65555555555555,-110.76666666666667,-110.76666666666667,-110.65555555555555],\"name\":\"29\",\"showlegend\":false,\"type\":\"scattermapbox\"},{\"fill\":\"toself\",\"fillcolor\":\"rgba(135, 206, 235, 0.5)\",\"lat\":[44.333333333333336,44.37777777777778,44.37777777777778,44.333333333333336,44.333333333333336],\"line\":{\"color\":\"blue\"},\"lon\":[-110.65555555555555,-110.65555555555555,-110.76666666666667,-110.76666666666667,-110.65555555555555],\"name\":\"30\",\"showlegend\":false,\"type\":\"scattermapbox\"},{\"fill\":\"toself\",\"fillcolor\":\"rgba(135, 206, 235, 0.5)\",\"lat\":[44.37777777777778,44.422222222222224,44.422222222222224,44.37777777777778,44.37777777777778],\"line\":{\"color\":\"blue\"},\"lon\":[-110.65555555555555,-110.65555555555555,-110.76666666666667,-110.76666666666667,-110.65555555555555],\"name\":\"31\",\"showlegend\":false,\"type\":\"scattermapbox\"},{\"fill\":\"toself\",\"fillcolor\":\"rgba(135, 206, 235, 0.5)\",\"lat\":[44.422222222222224,44.46666666666667,44.46666666666667,44.422222222222224,44.422222222222224],\"line\":{\"color\":\"blue\"},\"lon\":[-110.65555555555555,-110.65555555555555,-110.76666666666667,-110.76666666666667,-110.65555555555555],\"name\":\"32\",\"showlegend\":false,\"type\":\"scattermapbox\"},{\"fill\":\"toself\",\"fillcolor\":\"rgba(135, 206, 235, 0.5)\",\"lat\":[44.46666666666667,44.51111111111111,44.51111111111111,44.46666666666667,44.46666666666667],\"line\":{\"color\":\"blue\"},\"lon\":[-110.65555555555555,-110.65555555555555,-110.76666666666667,-110.76666666666667,-110.65555555555555],\"name\":\"33\",\"showlegend\":false,\"type\":\"scattermapbox\"},{\"fill\":\"toself\",\"fillcolor\":\"rgba(135, 206, 235, 0.5)\",\"lat\":[44.51111111111111,44.55555555555556,44.55555555555556,44.51111111111111,44.51111111111111],\"line\":{\"color\":\"blue\"},\"lon\":[-110.65555555555555,-110.65555555555555,-110.76666666666667,-110.76666666666667,-110.65555555555555],\"name\":\"34\",\"showlegend\":false,\"type\":\"scattermapbox\"},{\"fill\":\"toself\",\"fillcolor\":\"rgba(135, 206, 235, 0.5)\",\"lat\":[44.55555555555556,44.6,44.6,44.55555555555556,44.55555555555556],\"line\":{\"color\":\"blue\"},\"lon\":[-110.65555555555555,-110.65555555555555,-110.76666666666667,-110.76666666666667,-110.65555555555555],\"name\":\"35\",\"showlegend\":false,\"type\":\"scattermapbox\"},{\"fill\":\"toself\",\"fillcolor\":\"rgba(135, 206, 235, 0.5)\",\"lat\":[44.2,44.24444444444445,44.24444444444445,44.2,44.2],\"line\":{\"color\":\"blue\"},\"lon\":[-110.54444444444444,-110.54444444444444,-110.65555555555555,-110.65555555555555,-110.54444444444444],\"name\":\"36\",\"showlegend\":false,\"type\":\"scattermapbox\"},{\"fill\":\"toself\",\"fillcolor\":\"rgba(135, 206, 235, 0.5)\",\"lat\":[44.24444444444445,44.28888888888889,44.28888888888889,44.24444444444445,44.24444444444445],\"line\":{\"color\":\"blue\"},\"lon\":[-110.54444444444444,-110.54444444444444,-110.65555555555555,-110.65555555555555,-110.54444444444444],\"name\":\"37\",\"showlegend\":false,\"type\":\"scattermapbox\"},{\"fill\":\"toself\",\"fillcolor\":\"rgba(135, 206, 235, 0.5)\",\"lat\":[44.28888888888889,44.333333333333336,44.333333333333336,44.28888888888889,44.28888888888889],\"line\":{\"color\":\"blue\"},\"lon\":[-110.54444444444444,-110.54444444444444,-110.65555555555555,-110.65555555555555,-110.54444444444444],\"name\":\"38\",\"showlegend\":false,\"type\":\"scattermapbox\"},{\"fill\":\"toself\",\"fillcolor\":\"rgba(135, 206, 235, 0.5)\",\"lat\":[44.333333333333336,44.37777777777778,44.37777777777778,44.333333333333336,44.333333333333336],\"line\":{\"color\":\"blue\"},\"lon\":[-110.54444444444444,-110.54444444444444,-110.65555555555555,-110.65555555555555,-110.54444444444444],\"name\":\"39\",\"showlegend\":false,\"type\":\"scattermapbox\"},{\"fill\":\"toself\",\"fillcolor\":\"rgba(135, 206, 235, 0.5)\",\"lat\":[44.37777777777778,44.422222222222224,44.422222222222224,44.37777777777778,44.37777777777778],\"line\":{\"color\":\"blue\"},\"lon\":[-110.54444444444444,-110.54444444444444,-110.65555555555555,-110.65555555555555,-110.54444444444444],\"name\":\"40\",\"showlegend\":false,\"type\":\"scattermapbox\"},{\"fill\":\"toself\",\"fillcolor\":\"rgba(135, 206, 235, 0.5)\",\"lat\":[44.422222222222224,44.46666666666667,44.46666666666667,44.422222222222224,44.422222222222224],\"line\":{\"color\":\"blue\"},\"lon\":[-110.54444444444444,-110.54444444444444,-110.65555555555555,-110.65555555555555,-110.54444444444444],\"name\":\"41\",\"showlegend\":false,\"type\":\"scattermapbox\"},{\"fill\":\"toself\",\"fillcolor\":\"rgba(135, 206, 235, 0.5)\",\"lat\":[44.46666666666667,44.51111111111111,44.51111111111111,44.46666666666667,44.46666666666667],\"line\":{\"color\":\"blue\"},\"lon\":[-110.54444444444444,-110.54444444444444,-110.65555555555555,-110.65555555555555,-110.54444444444444],\"name\":\"42\",\"showlegend\":false,\"type\":\"scattermapbox\"},{\"fill\":\"toself\",\"fillcolor\":\"rgba(135, 206, 235, 0.5)\",\"lat\":[44.51111111111111,44.55555555555556,44.55555555555556,44.51111111111111,44.51111111111111],\"line\":{\"color\":\"blue\"},\"lon\":[-110.54444444444444,-110.54444444444444,-110.65555555555555,-110.65555555555555,-110.54444444444444],\"name\":\"43\",\"showlegend\":false,\"type\":\"scattermapbox\"},{\"fill\":\"toself\",\"fillcolor\":\"rgba(135, 206, 235, 0.5)\",\"lat\":[44.55555555555556,44.6,44.6,44.55555555555556,44.55555555555556],\"line\":{\"color\":\"blue\"},\"lon\":[-110.54444444444444,-110.54444444444444,-110.65555555555555,-110.65555555555555,-110.54444444444444],\"name\":\"44\",\"showlegend\":false,\"type\":\"scattermapbox\"},{\"fill\":\"toself\",\"fillcolor\":\"rgba(135, 206, 235, 0.5)\",\"lat\":[44.2,44.24444444444445,44.24444444444445,44.2,44.2],\"line\":{\"color\":\"blue\"},\"lon\":[-110.43333333333332,-110.43333333333332,-110.54444444444444,-110.54444444444444,-110.43333333333332],\"name\":\"45\",\"showlegend\":false,\"type\":\"scattermapbox\"},{\"fill\":\"toself\",\"fillcolor\":\"rgba(135, 206, 235, 0.5)\",\"lat\":[44.24444444444445,44.28888888888889,44.28888888888889,44.24444444444445,44.24444444444445],\"line\":{\"color\":\"blue\"},\"lon\":[-110.43333333333332,-110.43333333333332,-110.54444444444444,-110.54444444444444,-110.43333333333332],\"name\":\"46\",\"showlegend\":false,\"type\":\"scattermapbox\"},{\"fill\":\"toself\",\"fillcolor\":\"rgba(135, 206, 235, 0.5)\",\"lat\":[44.28888888888889,44.333333333333336,44.333333333333336,44.28888888888889,44.28888888888889],\"line\":{\"color\":\"blue\"},\"lon\":[-110.43333333333332,-110.43333333333332,-110.54444444444444,-110.54444444444444,-110.43333333333332],\"name\":\"47\",\"showlegend\":false,\"type\":\"scattermapbox\"},{\"fill\":\"toself\",\"fillcolor\":\"rgba(135, 206, 235, 0.5)\",\"lat\":[44.333333333333336,44.37777777777778,44.37777777777778,44.333333333333336,44.333333333333336],\"line\":{\"color\":\"blue\"},\"lon\":[-110.43333333333332,-110.43333333333332,-110.54444444444444,-110.54444444444444,-110.43333333333332],\"name\":\"48\",\"showlegend\":false,\"type\":\"scattermapbox\"},{\"fill\":\"toself\",\"fillcolor\":\"rgba(135, 206, 235, 0.5)\",\"lat\":[44.37777777777778,44.422222222222224,44.422222222222224,44.37777777777778,44.37777777777778],\"line\":{\"color\":\"blue\"},\"lon\":[-110.43333333333332,-110.43333333333332,-110.54444444444444,-110.54444444444444,-110.43333333333332],\"name\":\"49\",\"showlegend\":false,\"type\":\"scattermapbox\"},{\"fill\":\"toself\",\"fillcolor\":\"rgba(135, 206, 235, 0.5)\",\"lat\":[44.422222222222224,44.46666666666667,44.46666666666667,44.422222222222224,44.422222222222224],\"line\":{\"color\":\"blue\"},\"lon\":[-110.43333333333332,-110.43333333333332,-110.54444444444444,-110.54444444444444,-110.43333333333332],\"name\":\"50\",\"showlegend\":false,\"type\":\"scattermapbox\"},{\"fill\":\"toself\",\"fillcolor\":\"rgba(135, 206, 235, 0.5)\",\"lat\":[44.46666666666667,44.51111111111111,44.51111111111111,44.46666666666667,44.46666666666667],\"line\":{\"color\":\"blue\"},\"lon\":[-110.43333333333332,-110.43333333333332,-110.54444444444444,-110.54444444444444,-110.43333333333332],\"name\":\"51\",\"showlegend\":false,\"type\":\"scattermapbox\"},{\"fill\":\"toself\",\"fillcolor\":\"rgba(135, 206, 235, 0.5)\",\"lat\":[44.51111111111111,44.55555555555556,44.55555555555556,44.51111111111111,44.51111111111111],\"line\":{\"color\":\"blue\"},\"lon\":[-110.43333333333332,-110.43333333333332,-110.54444444444444,-110.54444444444444,-110.43333333333332],\"name\":\"52\",\"showlegend\":false,\"type\":\"scattermapbox\"},{\"fill\":\"toself\",\"fillcolor\":\"rgba(135, 206, 235, 0.5)\",\"lat\":[44.55555555555556,44.6,44.6,44.55555555555556,44.55555555555556],\"line\":{\"color\":\"blue\"},\"lon\":[-110.43333333333332,-110.43333333333332,-110.54444444444444,-110.54444444444444,-110.43333333333332],\"name\":\"53\",\"showlegend\":false,\"type\":\"scattermapbox\"},{\"fill\":\"toself\",\"fillcolor\":\"rgba(135, 206, 235, 0.5)\",\"lat\":[44.2,44.24444444444445,44.24444444444445,44.2,44.2],\"line\":{\"color\":\"blue\"},\"lon\":[-110.32222222222222,-110.32222222222222,-110.43333333333332,-110.43333333333332,-110.32222222222222],\"name\":\"54\",\"showlegend\":false,\"type\":\"scattermapbox\"},{\"fill\":\"toself\",\"fillcolor\":\"rgba(135, 206, 235, 0.5)\",\"lat\":[44.24444444444445,44.28888888888889,44.28888888888889,44.24444444444445,44.24444444444445],\"line\":{\"color\":\"blue\"},\"lon\":[-110.32222222222222,-110.32222222222222,-110.43333333333332,-110.43333333333332,-110.32222222222222],\"name\":\"55\",\"showlegend\":false,\"type\":\"scattermapbox\"},{\"fill\":\"toself\",\"fillcolor\":\"rgba(135, 206, 235, 0.5)\",\"lat\":[44.28888888888889,44.333333333333336,44.333333333333336,44.28888888888889,44.28888888888889],\"line\":{\"color\":\"blue\"},\"lon\":[-110.32222222222222,-110.32222222222222,-110.43333333333332,-110.43333333333332,-110.32222222222222],\"name\":\"56\",\"showlegend\":false,\"type\":\"scattermapbox\"},{\"fill\":\"toself\",\"fillcolor\":\"rgba(135, 206, 235, 0.5)\",\"lat\":[44.333333333333336,44.37777777777778,44.37777777777778,44.333333333333336,44.333333333333336],\"line\":{\"color\":\"blue\"},\"lon\":[-110.32222222222222,-110.32222222222222,-110.43333333333332,-110.43333333333332,-110.32222222222222],\"name\":\"57\",\"showlegend\":false,\"type\":\"scattermapbox\"},{\"fill\":\"toself\",\"fillcolor\":\"rgba(135, 206, 235, 0.5)\",\"lat\":[44.37777777777778,44.422222222222224,44.422222222222224,44.37777777777778,44.37777777777778],\"line\":{\"color\":\"blue\"},\"lon\":[-110.32222222222222,-110.32222222222222,-110.43333333333332,-110.43333333333332,-110.32222222222222],\"name\":\"58\",\"showlegend\":false,\"type\":\"scattermapbox\"},{\"fill\":\"toself\",\"fillcolor\":\"rgba(135, 206, 235, 0.5)\",\"lat\":[44.422222222222224,44.46666666666667,44.46666666666667,44.422222222222224,44.422222222222224],\"line\":{\"color\":\"blue\"},\"lon\":[-110.32222222222222,-110.32222222222222,-110.43333333333332,-110.43333333333332,-110.32222222222222],\"name\":\"59\",\"showlegend\":false,\"type\":\"scattermapbox\"},{\"fill\":\"toself\",\"fillcolor\":\"rgba(135, 206, 235, 0.5)\",\"lat\":[44.46666666666667,44.51111111111111,44.51111111111111,44.46666666666667,44.46666666666667],\"line\":{\"color\":\"blue\"},\"lon\":[-110.32222222222222,-110.32222222222222,-110.43333333333332,-110.43333333333332,-110.32222222222222],\"name\":\"60\",\"showlegend\":false,\"type\":\"scattermapbox\"},{\"fill\":\"toself\",\"fillcolor\":\"rgba(135, 206, 235, 0.5)\",\"lat\":[44.51111111111111,44.55555555555556,44.55555555555556,44.51111111111111,44.51111111111111],\"line\":{\"color\":\"blue\"},\"lon\":[-110.32222222222222,-110.32222222222222,-110.43333333333332,-110.43333333333332,-110.32222222222222],\"name\":\"61\",\"showlegend\":false,\"type\":\"scattermapbox\"},{\"fill\":\"toself\",\"fillcolor\":\"rgba(135, 206, 235, 0.5)\",\"lat\":[44.55555555555556,44.6,44.6,44.55555555555556,44.55555555555556],\"line\":{\"color\":\"blue\"},\"lon\":[-110.32222222222222,-110.32222222222222,-110.43333333333332,-110.43333333333332,-110.32222222222222],\"name\":\"62\",\"showlegend\":false,\"type\":\"scattermapbox\"},{\"fill\":\"toself\",\"fillcolor\":\"rgba(135, 206, 235, 0.5)\",\"lat\":[44.2,44.24444444444445,44.24444444444445,44.2,44.2],\"line\":{\"color\":\"blue\"},\"lon\":[-110.21111111111111,-110.21111111111111,-110.32222222222222,-110.32222222222222,-110.21111111111111],\"name\":\"63\",\"showlegend\":false,\"type\":\"scattermapbox\"},{\"fill\":\"toself\",\"fillcolor\":\"rgba(135, 206, 235, 0.5)\",\"lat\":[44.24444444444445,44.28888888888889,44.28888888888889,44.24444444444445,44.24444444444445],\"line\":{\"color\":\"blue\"},\"lon\":[-110.21111111111111,-110.21111111111111,-110.32222222222222,-110.32222222222222,-110.21111111111111],\"name\":\"64\",\"showlegend\":false,\"type\":\"scattermapbox\"},{\"fill\":\"toself\",\"fillcolor\":\"rgba(135, 206, 235, 0.5)\",\"lat\":[44.28888888888889,44.333333333333336,44.333333333333336,44.28888888888889,44.28888888888889],\"line\":{\"color\":\"blue\"},\"lon\":[-110.21111111111111,-110.21111111111111,-110.32222222222222,-110.32222222222222,-110.21111111111111],\"name\":\"65\",\"showlegend\":false,\"type\":\"scattermapbox\"},{\"fill\":\"toself\",\"fillcolor\":\"rgba(135, 206, 235, 0.5)\",\"lat\":[44.333333333333336,44.37777777777778,44.37777777777778,44.333333333333336,44.333333333333336],\"line\":{\"color\":\"blue\"},\"lon\":[-110.21111111111111,-110.21111111111111,-110.32222222222222,-110.32222222222222,-110.21111111111111],\"name\":\"66\",\"showlegend\":false,\"type\":\"scattermapbox\"},{\"fill\":\"toself\",\"fillcolor\":\"rgba(135, 206, 235, 0.5)\",\"lat\":[44.37777777777778,44.422222222222224,44.422222222222224,44.37777777777778,44.37777777777778],\"line\":{\"color\":\"blue\"},\"lon\":[-110.21111111111111,-110.21111111111111,-110.32222222222222,-110.32222222222222,-110.21111111111111],\"name\":\"67\",\"showlegend\":false,\"type\":\"scattermapbox\"},{\"fill\":\"toself\",\"fillcolor\":\"rgba(135, 206, 235, 0.5)\",\"lat\":[44.422222222222224,44.46666666666667,44.46666666666667,44.422222222222224,44.422222222222224],\"line\":{\"color\":\"blue\"},\"lon\":[-110.21111111111111,-110.21111111111111,-110.32222222222222,-110.32222222222222,-110.21111111111111],\"name\":\"68\",\"showlegend\":false,\"type\":\"scattermapbox\"},{\"fill\":\"toself\",\"fillcolor\":\"rgba(135, 206, 235, 0.5)\",\"lat\":[44.46666666666667,44.51111111111111,44.51111111111111,44.46666666666667,44.46666666666667],\"line\":{\"color\":\"blue\"},\"lon\":[-110.21111111111111,-110.21111111111111,-110.32222222222222,-110.32222222222222,-110.21111111111111],\"name\":\"69\",\"showlegend\":false,\"type\":\"scattermapbox\"},{\"fill\":\"toself\",\"fillcolor\":\"rgba(135, 206, 235, 0.5)\",\"lat\":[44.51111111111111,44.55555555555556,44.55555555555556,44.51111111111111,44.51111111111111],\"line\":{\"color\":\"blue\"},\"lon\":[-110.21111111111111,-110.21111111111111,-110.32222222222222,-110.32222222222222,-110.21111111111111],\"name\":\"70\",\"showlegend\":false,\"type\":\"scattermapbox\"},{\"fill\":\"toself\",\"fillcolor\":\"rgba(135, 206, 235, 0.5)\",\"lat\":[44.55555555555556,44.6,44.6,44.55555555555556,44.55555555555556],\"line\":{\"color\":\"blue\"},\"lon\":[-110.21111111111111,-110.21111111111111,-110.32222222222222,-110.32222222222222,-110.21111111111111],\"name\":\"71\",\"showlegend\":false,\"type\":\"scattermapbox\"},{\"fill\":\"toself\",\"fillcolor\":\"rgba(135, 206, 235, 0.5)\",\"lat\":[44.2,44.24444444444445,44.24444444444445,44.2,44.2],\"line\":{\"color\":\"blue\"},\"lon\":[-110.1,-110.1,-110.21111111111111,-110.21111111111111,-110.1],\"name\":\"72\",\"showlegend\":false,\"type\":\"scattermapbox\"},{\"fill\":\"toself\",\"fillcolor\":\"rgba(135, 206, 235, 0.5)\",\"lat\":[44.24444444444445,44.28888888888889,44.28888888888889,44.24444444444445,44.24444444444445],\"line\":{\"color\":\"blue\"},\"lon\":[-110.1,-110.1,-110.21111111111111,-110.21111111111111,-110.1],\"name\":\"73\",\"showlegend\":false,\"type\":\"scattermapbox\"},{\"fill\":\"toself\",\"fillcolor\":\"rgba(135, 206, 235, 0.5)\",\"lat\":[44.28888888888889,44.333333333333336,44.333333333333336,44.28888888888889,44.28888888888889],\"line\":{\"color\":\"blue\"},\"lon\":[-110.1,-110.1,-110.21111111111111,-110.21111111111111,-110.1],\"name\":\"74\",\"showlegend\":false,\"type\":\"scattermapbox\"},{\"fill\":\"toself\",\"fillcolor\":\"rgba(135, 206, 235, 0.5)\",\"lat\":[44.333333333333336,44.37777777777778,44.37777777777778,44.333333333333336,44.333333333333336],\"line\":{\"color\":\"blue\"},\"lon\":[-110.1,-110.1,-110.21111111111111,-110.21111111111111,-110.1],\"name\":\"75\",\"showlegend\":false,\"type\":\"scattermapbox\"},{\"fill\":\"toself\",\"fillcolor\":\"rgba(135, 206, 235, 0.5)\",\"lat\":[44.37777777777778,44.422222222222224,44.422222222222224,44.37777777777778,44.37777777777778],\"line\":{\"color\":\"blue\"},\"lon\":[-110.1,-110.1,-110.21111111111111,-110.21111111111111,-110.1],\"name\":\"76\",\"showlegend\":false,\"type\":\"scattermapbox\"},{\"fill\":\"toself\",\"fillcolor\":\"rgba(135, 206, 235, 0.5)\",\"lat\":[44.422222222222224,44.46666666666667,44.46666666666667,44.422222222222224,44.422222222222224],\"line\":{\"color\":\"blue\"},\"lon\":[-110.1,-110.1,-110.21111111111111,-110.21111111111111,-110.1],\"name\":\"77\",\"showlegend\":false,\"type\":\"scattermapbox\"},{\"fill\":\"toself\",\"fillcolor\":\"rgba(135, 206, 235, 0.5)\",\"lat\":[44.46666666666667,44.51111111111111,44.51111111111111,44.46666666666667,44.46666666666667],\"line\":{\"color\":\"blue\"},\"lon\":[-110.1,-110.1,-110.21111111111111,-110.21111111111111,-110.1],\"name\":\"78\",\"showlegend\":false,\"type\":\"scattermapbox\"},{\"fill\":\"toself\",\"fillcolor\":\"rgba(135, 206, 235, 0.5)\",\"lat\":[44.51111111111111,44.55555555555556,44.55555555555556,44.51111111111111,44.51111111111111],\"line\":{\"color\":\"blue\"},\"lon\":[-110.1,-110.1,-110.21111111111111,-110.21111111111111,-110.1],\"name\":\"79\",\"showlegend\":false,\"type\":\"scattermapbox\"},{\"fill\":\"toself\",\"fillcolor\":\"rgba(135, 206, 235, 0.5)\",\"lat\":[44.55555555555556,44.6,44.6,44.55555555555556,44.55555555555556],\"line\":{\"color\":\"blue\"},\"lon\":[-110.1,-110.1,-110.21111111111111,-110.21111111111111,-110.1],\"name\":\"80\",\"showlegend\":false,\"type\":\"scattermapbox\"},{\"fill\":\"toself\",\"fillcolor\":\"rgba(128, 128, 128, 0.5)\",\"lat\":[44.4488,44.599,44.5166,44.428,44.4488],\"line\":{\"color\":\"black\"},\"lon\":[-110.839,-110.7052,-110.5339,-110.5885,-110.839],\"name\":\"Yellowstone National Park\",\"type\":\"scattermapbox\"},{\"fill\":\"toself\",\"fillcolor\":\"rgba(128, 128, 128, 0.5)\",\"lat\":[37.7244,37.6962,37.7799,37.8456,37.8651,37.7244],\"line\":{\"color\":\"black\"},\"lon\":[-119.655,-119.5964,-119.4893,-119.3029,-119.5383,-119.655],\"name\":\"Yosemite National Park\",\"type\":\"scattermapbox\"},{\"fill\":\"toself\",\"fillcolor\":\"rgba(128, 128, 128, 0.5)\",\"lat\":[36.1336,36.2331,36.2861,36.1182,36.057,36.1336],\"line\":{\"color\":\"black\"},\"lon\":[-112.1861,-112.2156,-112.0969,-111.8205,-112.1214,-112.1861],\"name\":\"Grand Canyon National Park\",\"type\":\"scattermapbox\"},{\"hoverinfo\":\"text\",\"lat\":[45.2284,44.3946,44.4246],\"lon\":[-110.7622,-110.8218,-110.1118],\"marker\":{\"color\":0,\"size\":10},\"mode\":\"markers\",\"name\":\"Wolf\",\"showlegend\":true,\"text\":[\"Animal ID: A001\\u003cbr\\u003eScientific Name: Canis lupus\\u003cbr\\u003eRedlist Category: Least Concern\\u003cbr\\u003eMegafauna: False\\u003cbr\\u003eLatitude: 45.2284\\u003cbr\\u003eLongitude: -110.7622\",\"Animal ID: A001\\u003cbr\\u003eScientific Name: Canis lupus\\u003cbr\\u003eRedlist Category: Least Concern\\u003cbr\\u003eMegafauna: False\\u003cbr\\u003eLatitude: 44.3946\\u003cbr\\u003eLongitude: -110.8218\",\"Animal ID: A001\\u003cbr\\u003eScientific Name: Canis lupus\\u003cbr\\u003eRedlist Category: Least Concern\\u003cbr\\u003eMegafauna: False\\u003cbr\\u003eLatitude: 44.4246\\u003cbr\\u003eLongitude: -110.1118\"],\"type\":\"scattermapbox\"},{\"hoverinfo\":\"text\",\"lat\":[44.576,44.5361,44.2221],\"lon\":[-110.6763,-110.7078,-110.8182],\"marker\":{\"color\":1,\"size\":10},\"mode\":\"markers\",\"name\":\"Bison\",\"showlegend\":true,\"text\":[\"Animal ID: A002\\u003cbr\\u003eScientific Name: Bison bison\\u003cbr\\u003eRedlist Category: Vulnerable\\u003cbr\\u003eMegafauna: True\\u003cbr\\u003eLatitude: 44.576\\u003cbr\\u003eLongitude: -110.6763\",\"Animal ID: A002\\u003cbr\\u003eScientific Name: Bison bison\\u003cbr\\u003eRedlist Category: Vulnerable\\u003cbr\\u003eMegafauna: True\\u003cbr\\u003eLatitude: 44.5361\\u003cbr\\u003eLongitude: -110.7078\",\"Animal ID: A002\\u003cbr\\u003eScientific Name: Bison bison\\u003cbr\\u003eRedlist Category: Vulnerable\\u003cbr\\u003eMegafauna: True\\u003cbr\\u003eLatitude: 44.2221\\u003cbr\\u003eLongitude: -110.8182\"],\"type\":\"scattermapbox\"},{\"hoverinfo\":\"text\",\"lat\":[44.4232,44.5472,44.5519],\"lon\":[-111.1061,-110.7893,-110.9812],\"marker\":{\"color\":2,\"size\":10},\"mode\":\"markers\",\"name\":\"Elk\",\"showlegend\":true,\"text\":[\"Animal ID: A003\\u003cbr\\u003eScientific Name: Cervus canadensis\\u003cbr\\u003eRedlist Category: Least Concern\\u003cbr\\u003eMegafauna: True\\u003cbr\\u003eLatitude: 44.4232\\u003cbr\\u003eLongitude: -111.1061\",\"Animal ID: A003\\u003cbr\\u003eScientific Name: Cervus canadensis\\u003cbr\\u003eRedlist Category: Least Concern\\u003cbr\\u003eMegafauna: True\\u003cbr\\u003eLatitude: 44.5472\\u003cbr\\u003eLongitude: -110.7893\",\"Animal ID: A003\\u003cbr\\u003eScientific Name: Cervus canadensis\\u003cbr\\u003eRedlist Category: Least Concern\\u003cbr\\u003eMegafauna: True\\u003cbr\\u003eLatitude: 44.5519\\u003cbr\\u003eLongitude: -110.9812\"],\"type\":\"scattermapbox\"},{\"hoverinfo\":\"text\",\"lat\":[37.9058,37.766,37.8601],\"lon\":[-119.7857,-119.6363,-119.5353],\"marker\":{\"color\":3,\"size\":10},\"mode\":\"markers\",\"name\":\"Sierra Nevada bighorn sheep\",\"showlegend\":true,\"text\":[\"Animal ID: A004\\u003cbr\\u003eScientific Name: Ovis canadensis sierrae\\u003cbr\\u003eRedlist Category: Endangered\\u003cbr\\u003eMegafauna: False\\u003cbr\\u003eLatitude: 37.9058\\u003cbr\\u003eLongitude: -119.7857\",\"Animal ID: A004\\u003cbr\\u003eScientific Name: Ovis canadensis sierrae\\u003cbr\\u003eRedlist Category: Endangered\\u003cbr\\u003eMegafauna: False\\u003cbr\\u003eLatitude: 37.766\\u003cbr\\u003eLongitude: -119.6363\",\"Animal ID: A004\\u003cbr\\u003eScientific Name: Ovis canadensis sierrae\\u003cbr\\u003eRedlist Category: Endangered\\u003cbr\\u003eMegafauna: False\\u003cbr\\u003eLatitude: 37.8601\\u003cbr\\u003eLongitude: -119.5353\"],\"type\":\"scattermapbox\"},{\"hoverinfo\":\"text\",\"lat\":[37.7896,37.8626,37.6181],\"lon\":[-119.6426,-119.7777,-119.6619],\"marker\":{\"color\":4,\"size\":10},\"mode\":\"markers\",\"name\":\"Sierra Nevada red fox\",\"showlegend\":true,\"text\":[\"Animal ID: A005\\u003cbr\\u003eScientific Name: Vulpes vulpes necator\\u003cbr\\u003eRedlist Category: Critically Endangered\\u003cbr\\u003eMegafauna: False\\u003cbr\\u003eLatitude: 37.7896\\u003cbr\\u003eLongitude: -119.6426\",\"Animal ID: A005\\u003cbr\\u003eScientific Name: Vulpes vulpes necator\\u003cbr\\u003eRedlist Category: Critically Endangered\\u003cbr\\u003eMegafauna: False\\u003cbr\\u003eLatitude: 37.8626\\u003cbr\\u003eLongitude: -119.7777\",\"Animal ID: A005\\u003cbr\\u003eScientific Name: Vulpes vulpes necator\\u003cbr\\u003eRedlist Category: Critically Endangered\\u003cbr\\u003eMegafauna: False\\u003cbr\\u003eLatitude: 37.6181\\u003cbr\\u003eLongitude: -119.6619\"],\"type\":\"scattermapbox\"},{\"hoverinfo\":\"text\",\"lat\":[37.8829,37.8636,37.8681],\"lon\":[-119.7608,-119.628,-119.6255],\"marker\":{\"color\":5,\"size\":10},\"mode\":\"markers\",\"name\":\"Bobcat\",\"showlegend\":true,\"text\":[\"Animal ID: A006\\u003cbr\\u003eScientific Name: Lynx rufus\\u003cbr\\u003eRedlist Category: Least Concern\\u003cbr\\u003eMegafauna: True\\u003cbr\\u003eLatitude: 37.8829\\u003cbr\\u003eLongitude: -119.7608\",\"Animal ID: A006\\u003cbr\\u003eScientific Name: Lynx rufus\\u003cbr\\u003eRedlist Category: Least Concern\\u003cbr\\u003eMegafauna: True\\u003cbr\\u003eLatitude: 37.8636\\u003cbr\\u003eLongitude: -119.628\",\"Animal ID: A006\\u003cbr\\u003eScientific Name: Lynx rufus\\u003cbr\\u003eRedlist Category: Least Concern\\u003cbr\\u003eMegafauna: True\\u003cbr\\u003eLatitude: 37.8681\\u003cbr\\u003eLongitude: -119.6255\"],\"type\":\"scattermapbox\"},{\"hoverinfo\":\"text\",\"lat\":[36.372,36.6622,36.2261],\"lon\":[-113.1627,-112.2308,-112.1831],\"marker\":{\"color\":6,\"size\":10},\"mode\":\"markers\",\"name\":\"Mule deer\",\"showlegend\":true,\"text\":[\"Animal ID: A007\\u003cbr\\u003eScientific Name: Odocoileus hemionus\\u003cbr\\u003eRedlist Category: Least Concern\\u003cbr\\u003eMegafauna: True\\u003cbr\\u003eLatitude: 36.372\\u003cbr\\u003eLongitude: -113.1627\",\"Animal ID: A007\\u003cbr\\u003eScientific Name: Odocoileus hemionus\\u003cbr\\u003eRedlist Category: Least Concern\\u003cbr\\u003eMegafauna: True\\u003cbr\\u003eLatitude: 36.6622\\u003cbr\\u003eLongitude: -112.2308\",\"Animal ID: A007\\u003cbr\\u003eScientific Name: Odocoileus hemionus\\u003cbr\\u003eRedlist Category: Least Concern\\u003cbr\\u003eMegafauna: True\\u003cbr\\u003eLatitude: 36.2261\\u003cbr\\u003eLongitude: -112.1831\"],\"type\":\"scattermapbox\"},{\"hoverinfo\":\"text\",\"lat\":[36.6193,36.6016,36.5492],\"lon\":[-112.3388,-112.3256,-112.7439],\"marker\":{\"color\":7,\"size\":10},\"mode\":\"markers\",\"name\":\"Desert bighorn sheep\",\"showlegend\":true,\"text\":[\"Animal ID: A008\\u003cbr\\u003eScientific Name: Ovis canadensis nelsoni\\u003cbr\\u003eRedlist Category: Near Threatened\\u003cbr\\u003eMegafauna: True\\u003cbr\\u003eLatitude: 36.6193\\u003cbr\\u003eLongitude: -112.3388\",\"Animal ID: A008\\u003cbr\\u003eScientific Name: Ovis canadensis nelsoni\\u003cbr\\u003eRedlist Category: Near Threatened\\u003cbr\\u003eMegafauna: True\\u003cbr\\u003eLatitude: 36.6016\\u003cbr\\u003eLongitude: -112.3256\",\"Animal ID: A008\\u003cbr\\u003eScientific Name: Ovis canadensis nelsoni\\u003cbr\\u003eRedlist Category: Near Threatened\\u003cbr\\u003eMegafauna: True\\u003cbr\\u003eLatitude: 36.5492\\u003cbr\\u003eLongitude: -112.7439\"],\"type\":\"scattermapbox\"},{\"hoverinfo\":\"text\",\"lat\":[36.3388,36.4868,36.6282],\"lon\":[-112.119,-112.3517,-112.6524],\"marker\":{\"color\":8,\"size\":10},\"mode\":\"markers\",\"name\":\"Gray fox\",\"showlegend\":true,\"text\":[\"Animal ID: A009\\u003cbr\\u003eScientific Name: Urocyon cinereoargenteus\\u003cbr\\u003eRedlist Category: Least Concern\\u003cbr\\u003eMegafauna: True\\u003cbr\\u003eLatitude: 36.3388\\u003cbr\\u003eLongitude: -112.119\",\"Animal ID: A009\\u003cbr\\u003eScientific Name: Urocyon cinereoargenteus\\u003cbr\\u003eRedlist Category: Least Concern\\u003cbr\\u003eMegafauna: True\\u003cbr\\u003eLatitude: 36.4868\\u003cbr\\u003eLongitude: -112.3517\",\"Animal ID: A009\\u003cbr\\u003eScientific Name: Urocyon cinereoargenteus\\u003cbr\\u003eRedlist Category: Least Concern\\u003cbr\\u003eMegafauna: True\\u003cbr\\u003eLatitude: 36.6282\\u003cbr\\u003eLongitude: -112.6524\"],\"type\":\"scattermapbox\"}],                        {\"template\":{\"data\":{\"histogram2dcontour\":[{\"type\":\"histogram2dcontour\",\"colorbar\":{\"outlinewidth\":0,\"ticks\":\"\"},\"colorscale\":[[0.0,\"#0d0887\"],[0.1111111111111111,\"#46039f\"],[0.2222222222222222,\"#7201a8\"],[0.3333333333333333,\"#9c179e\"],[0.4444444444444444,\"#bd3786\"],[0.5555555555555556,\"#d8576b\"],[0.6666666666666666,\"#ed7953\"],[0.7777777777777778,\"#fb9f3a\"],[0.8888888888888888,\"#fdca26\"],[1.0,\"#f0f921\"]]}],\"choropleth\":[{\"type\":\"choropleth\",\"colorbar\":{\"outlinewidth\":0,\"ticks\":\"\"}}],\"histogram2d\":[{\"type\":\"histogram2d\",\"colorbar\":{\"outlinewidth\":0,\"ticks\":\"\"},\"colorscale\":[[0.0,\"#0d0887\"],[0.1111111111111111,\"#46039f\"],[0.2222222222222222,\"#7201a8\"],[0.3333333333333333,\"#9c179e\"],[0.4444444444444444,\"#bd3786\"],[0.5555555555555556,\"#d8576b\"],[0.6666666666666666,\"#ed7953\"],[0.7777777777777778,\"#fb9f3a\"],[0.8888888888888888,\"#fdca26\"],[1.0,\"#f0f921\"]]}],\"heatmap\":[{\"type\":\"heatmap\",\"colorbar\":{\"outlinewidth\":0,\"ticks\":\"\"},\"colorscale\":[[0.0,\"#0d0887\"],[0.1111111111111111,\"#46039f\"],[0.2222222222222222,\"#7201a8\"],[0.3333333333333333,\"#9c179e\"],[0.4444444444444444,\"#bd3786\"],[0.5555555555555556,\"#d8576b\"],[0.6666666666666666,\"#ed7953\"],[0.7777777777777778,\"#fb9f3a\"],[0.8888888888888888,\"#fdca26\"],[1.0,\"#f0f921\"]]}],\"heatmapgl\":[{\"type\":\"heatmapgl\",\"colorbar\":{\"outlinewidth\":0,\"ticks\":\"\"},\"colorscale\":[[0.0,\"#0d0887\"],[0.1111111111111111,\"#46039f\"],[0.2222222222222222,\"#7201a8\"],[0.3333333333333333,\"#9c179e\"],[0.4444444444444444,\"#bd3786\"],[0.5555555555555556,\"#d8576b\"],[0.6666666666666666,\"#ed7953\"],[0.7777777777777778,\"#fb9f3a\"],[0.8888888888888888,\"#fdca26\"],[1.0,\"#f0f921\"]]}],\"contourcarpet\":[{\"type\":\"contourcarpet\",\"colorbar\":{\"outlinewidth\":0,\"ticks\":\"\"}}],\"contour\":[{\"type\":\"contour\",\"colorbar\":{\"outlinewidth\":0,\"ticks\":\"\"},\"colorscale\":[[0.0,\"#0d0887\"],[0.1111111111111111,\"#46039f\"],[0.2222222222222222,\"#7201a8\"],[0.3333333333333333,\"#9c179e\"],[0.4444444444444444,\"#bd3786\"],[0.5555555555555556,\"#d8576b\"],[0.6666666666666666,\"#ed7953\"],[0.7777777777777778,\"#fb9f3a\"],[0.8888888888888888,\"#fdca26\"],[1.0,\"#f0f921\"]]}],\"surface\":[{\"type\":\"surface\",\"colorbar\":{\"outlinewidth\":0,\"ticks\":\"\"},\"colorscale\":[[0.0,\"#0d0887\"],[0.1111111111111111,\"#46039f\"],[0.2222222222222222,\"#7201a8\"],[0.3333333333333333,\"#9c179e\"],[0.4444444444444444,\"#bd3786\"],[0.5555555555555556,\"#d8576b\"],[0.6666666666666666,\"#ed7953\"],[0.7777777777777778,\"#fb9f3a\"],[0.8888888888888888,\"#fdca26\"],[1.0,\"#f0f921\"]]}],\"mesh3d\":[{\"type\":\"mesh3d\",\"colorbar\":{\"outlinewidth\":0,\"ticks\":\"\"}}],\"scatter\":[{\"fillpattern\":{\"fillmode\":\"overlay\",\"size\":10,\"solidity\":0.2},\"type\":\"scatter\"}],\"parcoords\":[{\"type\":\"parcoords\",\"line\":{\"colorbar\":{\"outlinewidth\":0,\"ticks\":\"\"}}}],\"scatterpolargl\":[{\"type\":\"scatterpolargl\",\"marker\":{\"colorbar\":{\"outlinewidth\":0,\"ticks\":\"\"}}}],\"bar\":[{\"error_x\":{\"color\":\"#2a3f5f\"},\"error_y\":{\"color\":\"#2a3f5f\"},\"marker\":{\"line\":{\"color\":\"#E5ECF6\",\"width\":0.5},\"pattern\":{\"fillmode\":\"overlay\",\"size\":10,\"solidity\":0.2}},\"type\":\"bar\"}],\"scattergeo\":[{\"type\":\"scattergeo\",\"marker\":{\"colorbar\":{\"outlinewidth\":0,\"ticks\":\"\"}}}],\"scatterpolar\":[{\"type\":\"scatterpolar\",\"marker\":{\"colorbar\":{\"outlinewidth\":0,\"ticks\":\"\"}}}],\"histogram\":[{\"marker\":{\"pattern\":{\"fillmode\":\"overlay\",\"size\":10,\"solidity\":0.2}},\"type\":\"histogram\"}],\"scattergl\":[{\"type\":\"scattergl\",\"marker\":{\"colorbar\":{\"outlinewidth\":0,\"ticks\":\"\"}}}],\"scatter3d\":[{\"type\":\"scatter3d\",\"line\":{\"colorbar\":{\"outlinewidth\":0,\"ticks\":\"\"}},\"marker\":{\"colorbar\":{\"outlinewidth\":0,\"ticks\":\"\"}}}],\"scattermapbox\":[{\"type\":\"scattermapbox\",\"marker\":{\"colorbar\":{\"outlinewidth\":0,\"ticks\":\"\"}}}],\"scatterternary\":[{\"type\":\"scatterternary\",\"marker\":{\"colorbar\":{\"outlinewidth\":0,\"ticks\":\"\"}}}],\"scattercarpet\":[{\"type\":\"scattercarpet\",\"marker\":{\"colorbar\":{\"outlinewidth\":0,\"ticks\":\"\"}}}],\"carpet\":[{\"aaxis\":{\"endlinecolor\":\"#2a3f5f\",\"gridcolor\":\"white\",\"linecolor\":\"white\",\"minorgridcolor\":\"white\",\"startlinecolor\":\"#2a3f5f\"},\"baxis\":{\"endlinecolor\":\"#2a3f5f\",\"gridcolor\":\"white\",\"linecolor\":\"white\",\"minorgridcolor\":\"white\",\"startlinecolor\":\"#2a3f5f\"},\"type\":\"carpet\"}],\"table\":[{\"cells\":{\"fill\":{\"color\":\"#EBF0F8\"},\"line\":{\"color\":\"white\"}},\"header\":{\"fill\":{\"color\":\"#C8D4E3\"},\"line\":{\"color\":\"white\"}},\"type\":\"table\"}],\"barpolar\":[{\"marker\":{\"line\":{\"color\":\"#E5ECF6\",\"width\":0.5},\"pattern\":{\"fillmode\":\"overlay\",\"size\":10,\"solidity\":0.2}},\"type\":\"barpolar\"}],\"pie\":[{\"automargin\":true,\"type\":\"pie\"}]},\"layout\":{\"autotypenumbers\":\"strict\",\"colorway\":[\"#636efa\",\"#EF553B\",\"#00cc96\",\"#ab63fa\",\"#FFA15A\",\"#19d3f3\",\"#FF6692\",\"#B6E880\",\"#FF97FF\",\"#FECB52\"],\"font\":{\"color\":\"#2a3f5f\"},\"hovermode\":\"closest\",\"hoverlabel\":{\"align\":\"left\"},\"paper_bgcolor\":\"white\",\"plot_bgcolor\":\"#E5ECF6\",\"polar\":{\"bgcolor\":\"#E5ECF6\",\"angularaxis\":{\"gridcolor\":\"white\",\"linecolor\":\"white\",\"ticks\":\"\"},\"radialaxis\":{\"gridcolor\":\"white\",\"linecolor\":\"white\",\"ticks\":\"\"}},\"ternary\":{\"bgcolor\":\"#E5ECF6\",\"aaxis\":{\"gridcolor\":\"white\",\"linecolor\":\"white\",\"ticks\":\"\"},\"baxis\":{\"gridcolor\":\"white\",\"linecolor\":\"white\",\"ticks\":\"\"},\"caxis\":{\"gridcolor\":\"white\",\"linecolor\":\"white\",\"ticks\":\"\"}},\"coloraxis\":{\"colorbar\":{\"outlinewidth\":0,\"ticks\":\"\"}},\"colorscale\":{\"sequential\":[[0.0,\"#0d0887\"],[0.1111111111111111,\"#46039f\"],[0.2222222222222222,\"#7201a8\"],[0.3333333333333333,\"#9c179e\"],[0.4444444444444444,\"#bd3786\"],[0.5555555555555556,\"#d8576b\"],[0.6666666666666666,\"#ed7953\"],[0.7777777777777778,\"#fb9f3a\"],[0.8888888888888888,\"#fdca26\"],[1.0,\"#f0f921\"]],\"sequentialminus\":[[0.0,\"#0d0887\"],[0.1111111111111111,\"#46039f\"],[0.2222222222222222,\"#7201a8\"],[0.3333333333333333,\"#9c179e\"],[0.4444444444444444,\"#bd3786\"],[0.5555555555555556,\"#d8576b\"],[0.6666666666666666,\"#ed7953\"],[0.7777777777777778,\"#fb9f3a\"],[0.8888888888888888,\"#fdca26\"],[1.0,\"#f0f921\"]],\"diverging\":[[0,\"#8e0152\"],[0.1,\"#c51b7d\"],[0.2,\"#de77ae\"],[0.3,\"#f1b6da\"],[0.4,\"#fde0ef\"],[0.5,\"#f7f7f7\"],[0.6,\"#e6f5d0\"],[0.7,\"#b8e186\"],[0.8,\"#7fbc41\"],[0.9,\"#4d9221\"],[1,\"#276419\"]]},\"xaxis\":{\"gridcolor\":\"white\",\"linecolor\":\"white\",\"ticks\":\"\",\"title\":{\"standoff\":15},\"zerolinecolor\":\"white\",\"automargin\":true,\"zerolinewidth\":2},\"yaxis\":{\"gridcolor\":\"white\",\"linecolor\":\"white\",\"ticks\":\"\",\"title\":{\"standoff\":15},\"zerolinecolor\":\"white\",\"automargin\":true,\"zerolinewidth\":2},\"scene\":{\"xaxis\":{\"backgroundcolor\":\"#E5ECF6\",\"gridcolor\":\"white\",\"linecolor\":\"white\",\"showbackground\":true,\"ticks\":\"\",\"zerolinecolor\":\"white\",\"gridwidth\":2},\"yaxis\":{\"backgroundcolor\":\"#E5ECF6\",\"gridcolor\":\"white\",\"linecolor\":\"white\",\"showbackground\":true,\"ticks\":\"\",\"zerolinecolor\":\"white\",\"gridwidth\":2},\"zaxis\":{\"backgroundcolor\":\"#E5ECF6\",\"gridcolor\":\"white\",\"linecolor\":\"white\",\"showbackground\":true,\"ticks\":\"\",\"zerolinecolor\":\"white\",\"gridwidth\":2}},\"shapedefaults\":{\"line\":{\"color\":\"#2a3f5f\"}},\"annotationdefaults\":{\"arrowcolor\":\"#2a3f5f\",\"arrowhead\":0,\"arrowwidth\":1},\"geo\":{\"bgcolor\":\"white\",\"landcolor\":\"#E5ECF6\",\"subunitcolor\":\"white\",\"showland\":true,\"showlakes\":true,\"lakecolor\":\"white\"},\"title\":{\"x\":0.05},\"mapbox\":{\"style\":\"light\"}}},\"mapbox\":{\"style\":\"open-street-map\",\"center\":{\"lat\":44.4,\"lon\":-110.6},\"zoom\":8}},                        {\"scrollZoom\": true, \"responsive\": true}                    ).then(function(){\n",
       "                            \n",
       "var gd = document.getElementById('a2d9e002-8435-46cd-8f7b-4fe33bc76965');\n",
       "var x = new MutationObserver(function (mutations, observer) {{\n",
       "        var display = window.getComputedStyle(gd).display;\n",
       "        if (!display || display === 'none') {{\n",
       "            console.log([gd, 'removed!']);\n",
       "            Plotly.purge(gd);\n",
       "            observer.disconnect();\n",
       "        }}\n",
       "}});\n",
       "\n",
       "// Listen for the removal of the full notebook cells\n",
       "var notebookContainer = gd.closest('#notebook-container');\n",
       "if (notebookContainer) {{\n",
       "    x.observe(notebookContainer, {childList: true});\n",
       "}}\n",
       "\n",
       "// Listen for the clearing of the current output cell\n",
       "var outputEl = gd.closest('.output');\n",
       "if (outputEl) {{\n",
       "    x.observe(outputEl, {childList: true});\n",
       "}}\n",
       "\n",
       "                        })                };                });            </script>        </div>"
      ]
     },
     "metadata": {},
     "output_type": "display_data"
    }
   ],
   "source": [
    "fig = plot_region(mesh_gdf)\n",
    "fig = plot_t(satellites_dict, protected_areas_gdf, animal_full_synthetic_gdf, fig=fig, time='2024-09-01')\n",
    "fig.show(config=defualt_plotly_config)"
   ]
  },
  {
   "cell_type": "code",
   "execution_count": 607,
   "id": "1c6e78e9",
   "metadata": {},
   "outputs": [
    {
     "data": {
      "application/vnd.plotly.v1+json": {
       "config": {
        "plotlyServerURL": "https://plot.ly",
        "responsive": true,
        "scrollZoom": true
       },
       "data": [
        {
         "fill": "toself",
         "fillcolor": "rgba(135, 206, 235, 0.5)",
         "lat": [
          44.2,
          44.24444444444445,
          44.24444444444445,
          44.2,
          44.2
         ],
         "line": {
          "color": "blue"
         },
         "lon": [
          -110.98888888888888,
          -110.98888888888888,
          -111.1,
          -111.1,
          -110.98888888888888
         ],
         "name": "0",
         "showlegend": false,
         "type": "scattermapbox"
        },
        {
         "fill": "toself",
         "fillcolor": "rgba(135, 206, 235, 0.5)",
         "lat": [
          44.24444444444445,
          44.28888888888889,
          44.28888888888889,
          44.24444444444445,
          44.24444444444445
         ],
         "line": {
          "color": "blue"
         },
         "lon": [
          -110.98888888888888,
          -110.98888888888888,
          -111.1,
          -111.1,
          -110.98888888888888
         ],
         "name": "1",
         "showlegend": false,
         "type": "scattermapbox"
        },
        {
         "fill": "toself",
         "fillcolor": "rgba(135, 206, 235, 0.5)",
         "lat": [
          44.28888888888889,
          44.333333333333336,
          44.333333333333336,
          44.28888888888889,
          44.28888888888889
         ],
         "line": {
          "color": "blue"
         },
         "lon": [
          -110.98888888888888,
          -110.98888888888888,
          -111.1,
          -111.1,
          -110.98888888888888
         ],
         "name": "2",
         "showlegend": false,
         "type": "scattermapbox"
        },
        {
         "fill": "toself",
         "fillcolor": "rgba(135, 206, 235, 0.5)",
         "lat": [
          44.333333333333336,
          44.37777777777778,
          44.37777777777778,
          44.333333333333336,
          44.333333333333336
         ],
         "line": {
          "color": "blue"
         },
         "lon": [
          -110.98888888888888,
          -110.98888888888888,
          -111.1,
          -111.1,
          -110.98888888888888
         ],
         "name": "3",
         "showlegend": false,
         "type": "scattermapbox"
        },
        {
         "fill": "toself",
         "fillcolor": "rgba(135, 206, 235, 0.5)",
         "lat": [
          44.37777777777778,
          44.422222222222224,
          44.422222222222224,
          44.37777777777778,
          44.37777777777778
         ],
         "line": {
          "color": "blue"
         },
         "lon": [
          -110.98888888888888,
          -110.98888888888888,
          -111.1,
          -111.1,
          -110.98888888888888
         ],
         "name": "4",
         "showlegend": false,
         "type": "scattermapbox"
        },
        {
         "fill": "toself",
         "fillcolor": "rgba(135, 206, 235, 0.5)",
         "lat": [
          44.422222222222224,
          44.46666666666667,
          44.46666666666667,
          44.422222222222224,
          44.422222222222224
         ],
         "line": {
          "color": "blue"
         },
         "lon": [
          -110.98888888888888,
          -110.98888888888888,
          -111.1,
          -111.1,
          -110.98888888888888
         ],
         "name": "5",
         "showlegend": false,
         "type": "scattermapbox"
        },
        {
         "fill": "toself",
         "fillcolor": "rgba(135, 206, 235, 0.5)",
         "lat": [
          44.46666666666667,
          44.51111111111111,
          44.51111111111111,
          44.46666666666667,
          44.46666666666667
         ],
         "line": {
          "color": "blue"
         },
         "lon": [
          -110.98888888888888,
          -110.98888888888888,
          -111.1,
          -111.1,
          -110.98888888888888
         ],
         "name": "6",
         "showlegend": false,
         "type": "scattermapbox"
        },
        {
         "fill": "toself",
         "fillcolor": "rgba(135, 206, 235, 0.5)",
         "lat": [
          44.51111111111111,
          44.55555555555556,
          44.55555555555556,
          44.51111111111111,
          44.51111111111111
         ],
         "line": {
          "color": "blue"
         },
         "lon": [
          -110.98888888888888,
          -110.98888888888888,
          -111.1,
          -111.1,
          -110.98888888888888
         ],
         "name": "7",
         "showlegend": false,
         "type": "scattermapbox"
        },
        {
         "fill": "toself",
         "fillcolor": "rgba(135, 206, 235, 0.5)",
         "lat": [
          44.55555555555556,
          44.6,
          44.6,
          44.55555555555556,
          44.55555555555556
         ],
         "line": {
          "color": "blue"
         },
         "lon": [
          -110.98888888888888,
          -110.98888888888888,
          -111.1,
          -111.1,
          -110.98888888888888
         ],
         "name": "8",
         "showlegend": false,
         "type": "scattermapbox"
        },
        {
         "fill": "toself",
         "fillcolor": "rgba(135, 206, 235, 0.5)",
         "lat": [
          44.2,
          44.24444444444445,
          44.24444444444445,
          44.2,
          44.2
         ],
         "line": {
          "color": "blue"
         },
         "lon": [
          -110.87777777777777,
          -110.87777777777777,
          -110.98888888888888,
          -110.98888888888888,
          -110.87777777777777
         ],
         "name": "9",
         "showlegend": false,
         "type": "scattermapbox"
        },
        {
         "fill": "toself",
         "fillcolor": "rgba(135, 206, 235, 0.5)",
         "lat": [
          44.24444444444445,
          44.28888888888889,
          44.28888888888889,
          44.24444444444445,
          44.24444444444445
         ],
         "line": {
          "color": "blue"
         },
         "lon": [
          -110.87777777777777,
          -110.87777777777777,
          -110.98888888888888,
          -110.98888888888888,
          -110.87777777777777
         ],
         "name": "10",
         "showlegend": false,
         "type": "scattermapbox"
        },
        {
         "fill": "toself",
         "fillcolor": "rgba(135, 206, 235, 0.5)",
         "lat": [
          44.28888888888889,
          44.333333333333336,
          44.333333333333336,
          44.28888888888889,
          44.28888888888889
         ],
         "line": {
          "color": "blue"
         },
         "lon": [
          -110.87777777777777,
          -110.87777777777777,
          -110.98888888888888,
          -110.98888888888888,
          -110.87777777777777
         ],
         "name": "11",
         "showlegend": false,
         "type": "scattermapbox"
        },
        {
         "fill": "toself",
         "fillcolor": "rgba(135, 206, 235, 0.5)",
         "lat": [
          44.333333333333336,
          44.37777777777778,
          44.37777777777778,
          44.333333333333336,
          44.333333333333336
         ],
         "line": {
          "color": "blue"
         },
         "lon": [
          -110.87777777777777,
          -110.87777777777777,
          -110.98888888888888,
          -110.98888888888888,
          -110.87777777777777
         ],
         "name": "12",
         "showlegend": false,
         "type": "scattermapbox"
        },
        {
         "fill": "toself",
         "fillcolor": "rgba(135, 206, 235, 0.5)",
         "lat": [
          44.37777777777778,
          44.422222222222224,
          44.422222222222224,
          44.37777777777778,
          44.37777777777778
         ],
         "line": {
          "color": "blue"
         },
         "lon": [
          -110.87777777777777,
          -110.87777777777777,
          -110.98888888888888,
          -110.98888888888888,
          -110.87777777777777
         ],
         "name": "13",
         "showlegend": false,
         "type": "scattermapbox"
        },
        {
         "fill": "toself",
         "fillcolor": "rgba(135, 206, 235, 0.5)",
         "lat": [
          44.422222222222224,
          44.46666666666667,
          44.46666666666667,
          44.422222222222224,
          44.422222222222224
         ],
         "line": {
          "color": "blue"
         },
         "lon": [
          -110.87777777777777,
          -110.87777777777777,
          -110.98888888888888,
          -110.98888888888888,
          -110.87777777777777
         ],
         "name": "14",
         "showlegend": false,
         "type": "scattermapbox"
        },
        {
         "fill": "toself",
         "fillcolor": "rgba(135, 206, 235, 0.5)",
         "lat": [
          44.46666666666667,
          44.51111111111111,
          44.51111111111111,
          44.46666666666667,
          44.46666666666667
         ],
         "line": {
          "color": "blue"
         },
         "lon": [
          -110.87777777777777,
          -110.87777777777777,
          -110.98888888888888,
          -110.98888888888888,
          -110.87777777777777
         ],
         "name": "15",
         "showlegend": false,
         "type": "scattermapbox"
        },
        {
         "fill": "toself",
         "fillcolor": "rgba(135, 206, 235, 0.5)",
         "lat": [
          44.51111111111111,
          44.55555555555556,
          44.55555555555556,
          44.51111111111111,
          44.51111111111111
         ],
         "line": {
          "color": "blue"
         },
         "lon": [
          -110.87777777777777,
          -110.87777777777777,
          -110.98888888888888,
          -110.98888888888888,
          -110.87777777777777
         ],
         "name": "16",
         "showlegend": false,
         "type": "scattermapbox"
        },
        {
         "fill": "toself",
         "fillcolor": "rgba(135, 206, 235, 0.5)",
         "lat": [
          44.55555555555556,
          44.6,
          44.6,
          44.55555555555556,
          44.55555555555556
         ],
         "line": {
          "color": "blue"
         },
         "lon": [
          -110.87777777777777,
          -110.87777777777777,
          -110.98888888888888,
          -110.98888888888888,
          -110.87777777777777
         ],
         "name": "17",
         "showlegend": false,
         "type": "scattermapbox"
        },
        {
         "fill": "toself",
         "fillcolor": "rgba(135, 206, 235, 0.5)",
         "lat": [
          44.2,
          44.24444444444445,
          44.24444444444445,
          44.2,
          44.2
         ],
         "line": {
          "color": "blue"
         },
         "lon": [
          -110.76666666666667,
          -110.76666666666667,
          -110.87777777777777,
          -110.87777777777777,
          -110.76666666666667
         ],
         "name": "18",
         "showlegend": false,
         "type": "scattermapbox"
        },
        {
         "fill": "toself",
         "fillcolor": "rgba(135, 206, 235, 0.5)",
         "lat": [
          44.24444444444445,
          44.28888888888889,
          44.28888888888889,
          44.24444444444445,
          44.24444444444445
         ],
         "line": {
          "color": "blue"
         },
         "lon": [
          -110.76666666666667,
          -110.76666666666667,
          -110.87777777777777,
          -110.87777777777777,
          -110.76666666666667
         ],
         "name": "19",
         "showlegend": false,
         "type": "scattermapbox"
        },
        {
         "fill": "toself",
         "fillcolor": "rgba(135, 206, 235, 0.5)",
         "lat": [
          44.28888888888889,
          44.333333333333336,
          44.333333333333336,
          44.28888888888889,
          44.28888888888889
         ],
         "line": {
          "color": "blue"
         },
         "lon": [
          -110.76666666666667,
          -110.76666666666667,
          -110.87777777777777,
          -110.87777777777777,
          -110.76666666666667
         ],
         "name": "20",
         "showlegend": false,
         "type": "scattermapbox"
        },
        {
         "fill": "toself",
         "fillcolor": "rgba(135, 206, 235, 0.5)",
         "lat": [
          44.333333333333336,
          44.37777777777778,
          44.37777777777778,
          44.333333333333336,
          44.333333333333336
         ],
         "line": {
          "color": "blue"
         },
         "lon": [
          -110.76666666666667,
          -110.76666666666667,
          -110.87777777777777,
          -110.87777777777777,
          -110.76666666666667
         ],
         "name": "21",
         "showlegend": false,
         "type": "scattermapbox"
        },
        {
         "fill": "toself",
         "fillcolor": "rgba(135, 206, 235, 0.5)",
         "lat": [
          44.37777777777778,
          44.422222222222224,
          44.422222222222224,
          44.37777777777778,
          44.37777777777778
         ],
         "line": {
          "color": "blue"
         },
         "lon": [
          -110.76666666666667,
          -110.76666666666667,
          -110.87777777777777,
          -110.87777777777777,
          -110.76666666666667
         ],
         "name": "22",
         "showlegend": false,
         "type": "scattermapbox"
        },
        {
         "fill": "toself",
         "fillcolor": "rgba(135, 206, 235, 0.5)",
         "lat": [
          44.422222222222224,
          44.46666666666667,
          44.46666666666667,
          44.422222222222224,
          44.422222222222224
         ],
         "line": {
          "color": "blue"
         },
         "lon": [
          -110.76666666666667,
          -110.76666666666667,
          -110.87777777777777,
          -110.87777777777777,
          -110.76666666666667
         ],
         "name": "23",
         "showlegend": false,
         "type": "scattermapbox"
        },
        {
         "fill": "toself",
         "fillcolor": "rgba(135, 206, 235, 0.5)",
         "lat": [
          44.46666666666667,
          44.51111111111111,
          44.51111111111111,
          44.46666666666667,
          44.46666666666667
         ],
         "line": {
          "color": "blue"
         },
         "lon": [
          -110.76666666666667,
          -110.76666666666667,
          -110.87777777777777,
          -110.87777777777777,
          -110.76666666666667
         ],
         "name": "24",
         "showlegend": false,
         "type": "scattermapbox"
        },
        {
         "fill": "toself",
         "fillcolor": "rgba(135, 206, 235, 0.5)",
         "lat": [
          44.51111111111111,
          44.55555555555556,
          44.55555555555556,
          44.51111111111111,
          44.51111111111111
         ],
         "line": {
          "color": "blue"
         },
         "lon": [
          -110.76666666666667,
          -110.76666666666667,
          -110.87777777777777,
          -110.87777777777777,
          -110.76666666666667
         ],
         "name": "25",
         "showlegend": false,
         "type": "scattermapbox"
        },
        {
         "fill": "toself",
         "fillcolor": "rgba(135, 206, 235, 0.5)",
         "lat": [
          44.55555555555556,
          44.6,
          44.6,
          44.55555555555556,
          44.55555555555556
         ],
         "line": {
          "color": "blue"
         },
         "lon": [
          -110.76666666666667,
          -110.76666666666667,
          -110.87777777777777,
          -110.87777777777777,
          -110.76666666666667
         ],
         "name": "26",
         "showlegend": false,
         "type": "scattermapbox"
        },
        {
         "fill": "toself",
         "fillcolor": "rgba(135, 206, 235, 0.5)",
         "lat": [
          44.2,
          44.24444444444445,
          44.24444444444445,
          44.2,
          44.2
         ],
         "line": {
          "color": "blue"
         },
         "lon": [
          -110.65555555555555,
          -110.65555555555555,
          -110.76666666666667,
          -110.76666666666667,
          -110.65555555555555
         ],
         "name": "27",
         "showlegend": false,
         "type": "scattermapbox"
        },
        {
         "fill": "toself",
         "fillcolor": "rgba(135, 206, 235, 0.5)",
         "lat": [
          44.24444444444445,
          44.28888888888889,
          44.28888888888889,
          44.24444444444445,
          44.24444444444445
         ],
         "line": {
          "color": "blue"
         },
         "lon": [
          -110.65555555555555,
          -110.65555555555555,
          -110.76666666666667,
          -110.76666666666667,
          -110.65555555555555
         ],
         "name": "28",
         "showlegend": false,
         "type": "scattermapbox"
        },
        {
         "fill": "toself",
         "fillcolor": "rgba(135, 206, 235, 0.5)",
         "lat": [
          44.28888888888889,
          44.333333333333336,
          44.333333333333336,
          44.28888888888889,
          44.28888888888889
         ],
         "line": {
          "color": "blue"
         },
         "lon": [
          -110.65555555555555,
          -110.65555555555555,
          -110.76666666666667,
          -110.76666666666667,
          -110.65555555555555
         ],
         "name": "29",
         "showlegend": false,
         "type": "scattermapbox"
        },
        {
         "fill": "toself",
         "fillcolor": "rgba(135, 206, 235, 0.5)",
         "lat": [
          44.333333333333336,
          44.37777777777778,
          44.37777777777778,
          44.333333333333336,
          44.333333333333336
         ],
         "line": {
          "color": "blue"
         },
         "lon": [
          -110.65555555555555,
          -110.65555555555555,
          -110.76666666666667,
          -110.76666666666667,
          -110.65555555555555
         ],
         "name": "30",
         "showlegend": false,
         "type": "scattermapbox"
        },
        {
         "fill": "toself",
         "fillcolor": "rgba(135, 206, 235, 0.5)",
         "lat": [
          44.37777777777778,
          44.422222222222224,
          44.422222222222224,
          44.37777777777778,
          44.37777777777778
         ],
         "line": {
          "color": "blue"
         },
         "lon": [
          -110.65555555555555,
          -110.65555555555555,
          -110.76666666666667,
          -110.76666666666667,
          -110.65555555555555
         ],
         "name": "31",
         "showlegend": false,
         "type": "scattermapbox"
        },
        {
         "fill": "toself",
         "fillcolor": "rgba(135, 206, 235, 0.5)",
         "lat": [
          44.422222222222224,
          44.46666666666667,
          44.46666666666667,
          44.422222222222224,
          44.422222222222224
         ],
         "line": {
          "color": "blue"
         },
         "lon": [
          -110.65555555555555,
          -110.65555555555555,
          -110.76666666666667,
          -110.76666666666667,
          -110.65555555555555
         ],
         "name": "32",
         "showlegend": false,
         "type": "scattermapbox"
        },
        {
         "fill": "toself",
         "fillcolor": "rgba(135, 206, 235, 0.5)",
         "lat": [
          44.46666666666667,
          44.51111111111111,
          44.51111111111111,
          44.46666666666667,
          44.46666666666667
         ],
         "line": {
          "color": "blue"
         },
         "lon": [
          -110.65555555555555,
          -110.65555555555555,
          -110.76666666666667,
          -110.76666666666667,
          -110.65555555555555
         ],
         "name": "33",
         "showlegend": false,
         "type": "scattermapbox"
        },
        {
         "fill": "toself",
         "fillcolor": "rgba(135, 206, 235, 0.5)",
         "lat": [
          44.51111111111111,
          44.55555555555556,
          44.55555555555556,
          44.51111111111111,
          44.51111111111111
         ],
         "line": {
          "color": "blue"
         },
         "lon": [
          -110.65555555555555,
          -110.65555555555555,
          -110.76666666666667,
          -110.76666666666667,
          -110.65555555555555
         ],
         "name": "34",
         "showlegend": false,
         "type": "scattermapbox"
        },
        {
         "fill": "toself",
         "fillcolor": "rgba(135, 206, 235, 0.5)",
         "lat": [
          44.55555555555556,
          44.6,
          44.6,
          44.55555555555556,
          44.55555555555556
         ],
         "line": {
          "color": "blue"
         },
         "lon": [
          -110.65555555555555,
          -110.65555555555555,
          -110.76666666666667,
          -110.76666666666667,
          -110.65555555555555
         ],
         "name": "35",
         "showlegend": false,
         "type": "scattermapbox"
        },
        {
         "fill": "toself",
         "fillcolor": "rgba(135, 206, 235, 0.5)",
         "lat": [
          44.2,
          44.24444444444445,
          44.24444444444445,
          44.2,
          44.2
         ],
         "line": {
          "color": "blue"
         },
         "lon": [
          -110.54444444444444,
          -110.54444444444444,
          -110.65555555555555,
          -110.65555555555555,
          -110.54444444444444
         ],
         "name": "36",
         "showlegend": false,
         "type": "scattermapbox"
        },
        {
         "fill": "toself",
         "fillcolor": "rgba(135, 206, 235, 0.5)",
         "lat": [
          44.24444444444445,
          44.28888888888889,
          44.28888888888889,
          44.24444444444445,
          44.24444444444445
         ],
         "line": {
          "color": "blue"
         },
         "lon": [
          -110.54444444444444,
          -110.54444444444444,
          -110.65555555555555,
          -110.65555555555555,
          -110.54444444444444
         ],
         "name": "37",
         "showlegend": false,
         "type": "scattermapbox"
        },
        {
         "fill": "toself",
         "fillcolor": "rgba(135, 206, 235, 0.5)",
         "lat": [
          44.28888888888889,
          44.333333333333336,
          44.333333333333336,
          44.28888888888889,
          44.28888888888889
         ],
         "line": {
          "color": "blue"
         },
         "lon": [
          -110.54444444444444,
          -110.54444444444444,
          -110.65555555555555,
          -110.65555555555555,
          -110.54444444444444
         ],
         "name": "38",
         "showlegend": false,
         "type": "scattermapbox"
        },
        {
         "fill": "toself",
         "fillcolor": "rgba(135, 206, 235, 0.5)",
         "lat": [
          44.333333333333336,
          44.37777777777778,
          44.37777777777778,
          44.333333333333336,
          44.333333333333336
         ],
         "line": {
          "color": "blue"
         },
         "lon": [
          -110.54444444444444,
          -110.54444444444444,
          -110.65555555555555,
          -110.65555555555555,
          -110.54444444444444
         ],
         "name": "39",
         "showlegend": false,
         "type": "scattermapbox"
        },
        {
         "fill": "toself",
         "fillcolor": "rgba(135, 206, 235, 0.5)",
         "lat": [
          44.37777777777778,
          44.422222222222224,
          44.422222222222224,
          44.37777777777778,
          44.37777777777778
         ],
         "line": {
          "color": "blue"
         },
         "lon": [
          -110.54444444444444,
          -110.54444444444444,
          -110.65555555555555,
          -110.65555555555555,
          -110.54444444444444
         ],
         "name": "40",
         "showlegend": false,
         "type": "scattermapbox"
        },
        {
         "fill": "toself",
         "fillcolor": "rgba(135, 206, 235, 0.5)",
         "lat": [
          44.422222222222224,
          44.46666666666667,
          44.46666666666667,
          44.422222222222224,
          44.422222222222224
         ],
         "line": {
          "color": "blue"
         },
         "lon": [
          -110.54444444444444,
          -110.54444444444444,
          -110.65555555555555,
          -110.65555555555555,
          -110.54444444444444
         ],
         "name": "41",
         "showlegend": false,
         "type": "scattermapbox"
        },
        {
         "fill": "toself",
         "fillcolor": "rgba(135, 206, 235, 0.5)",
         "lat": [
          44.46666666666667,
          44.51111111111111,
          44.51111111111111,
          44.46666666666667,
          44.46666666666667
         ],
         "line": {
          "color": "blue"
         },
         "lon": [
          -110.54444444444444,
          -110.54444444444444,
          -110.65555555555555,
          -110.65555555555555,
          -110.54444444444444
         ],
         "name": "42",
         "showlegend": false,
         "type": "scattermapbox"
        },
        {
         "fill": "toself",
         "fillcolor": "rgba(135, 206, 235, 0.5)",
         "lat": [
          44.51111111111111,
          44.55555555555556,
          44.55555555555556,
          44.51111111111111,
          44.51111111111111
         ],
         "line": {
          "color": "blue"
         },
         "lon": [
          -110.54444444444444,
          -110.54444444444444,
          -110.65555555555555,
          -110.65555555555555,
          -110.54444444444444
         ],
         "name": "43",
         "showlegend": false,
         "type": "scattermapbox"
        },
        {
         "fill": "toself",
         "fillcolor": "rgba(135, 206, 235, 0.5)",
         "lat": [
          44.55555555555556,
          44.6,
          44.6,
          44.55555555555556,
          44.55555555555556
         ],
         "line": {
          "color": "blue"
         },
         "lon": [
          -110.54444444444444,
          -110.54444444444444,
          -110.65555555555555,
          -110.65555555555555,
          -110.54444444444444
         ],
         "name": "44",
         "showlegend": false,
         "type": "scattermapbox"
        },
        {
         "fill": "toself",
         "fillcolor": "rgba(135, 206, 235, 0.5)",
         "lat": [
          44.2,
          44.24444444444445,
          44.24444444444445,
          44.2,
          44.2
         ],
         "line": {
          "color": "blue"
         },
         "lon": [
          -110.43333333333332,
          -110.43333333333332,
          -110.54444444444444,
          -110.54444444444444,
          -110.43333333333332
         ],
         "name": "45",
         "showlegend": false,
         "type": "scattermapbox"
        },
        {
         "fill": "toself",
         "fillcolor": "rgba(135, 206, 235, 0.5)",
         "lat": [
          44.24444444444445,
          44.28888888888889,
          44.28888888888889,
          44.24444444444445,
          44.24444444444445
         ],
         "line": {
          "color": "blue"
         },
         "lon": [
          -110.43333333333332,
          -110.43333333333332,
          -110.54444444444444,
          -110.54444444444444,
          -110.43333333333332
         ],
         "name": "46",
         "showlegend": false,
         "type": "scattermapbox"
        },
        {
         "fill": "toself",
         "fillcolor": "rgba(135, 206, 235, 0.5)",
         "lat": [
          44.28888888888889,
          44.333333333333336,
          44.333333333333336,
          44.28888888888889,
          44.28888888888889
         ],
         "line": {
          "color": "blue"
         },
         "lon": [
          -110.43333333333332,
          -110.43333333333332,
          -110.54444444444444,
          -110.54444444444444,
          -110.43333333333332
         ],
         "name": "47",
         "showlegend": false,
         "type": "scattermapbox"
        },
        {
         "fill": "toself",
         "fillcolor": "rgba(135, 206, 235, 0.5)",
         "lat": [
          44.333333333333336,
          44.37777777777778,
          44.37777777777778,
          44.333333333333336,
          44.333333333333336
         ],
         "line": {
          "color": "blue"
         },
         "lon": [
          -110.43333333333332,
          -110.43333333333332,
          -110.54444444444444,
          -110.54444444444444,
          -110.43333333333332
         ],
         "name": "48",
         "showlegend": false,
         "type": "scattermapbox"
        },
        {
         "fill": "toself",
         "fillcolor": "rgba(135, 206, 235, 0.5)",
         "lat": [
          44.37777777777778,
          44.422222222222224,
          44.422222222222224,
          44.37777777777778,
          44.37777777777778
         ],
         "line": {
          "color": "blue"
         },
         "lon": [
          -110.43333333333332,
          -110.43333333333332,
          -110.54444444444444,
          -110.54444444444444,
          -110.43333333333332
         ],
         "name": "49",
         "showlegend": false,
         "type": "scattermapbox"
        },
        {
         "fill": "toself",
         "fillcolor": "rgba(135, 206, 235, 0.5)",
         "lat": [
          44.422222222222224,
          44.46666666666667,
          44.46666666666667,
          44.422222222222224,
          44.422222222222224
         ],
         "line": {
          "color": "blue"
         },
         "lon": [
          -110.43333333333332,
          -110.43333333333332,
          -110.54444444444444,
          -110.54444444444444,
          -110.43333333333332
         ],
         "name": "50",
         "showlegend": false,
         "type": "scattermapbox"
        },
        {
         "fill": "toself",
         "fillcolor": "rgba(135, 206, 235, 0.5)",
         "lat": [
          44.46666666666667,
          44.51111111111111,
          44.51111111111111,
          44.46666666666667,
          44.46666666666667
         ],
         "line": {
          "color": "blue"
         },
         "lon": [
          -110.43333333333332,
          -110.43333333333332,
          -110.54444444444444,
          -110.54444444444444,
          -110.43333333333332
         ],
         "name": "51",
         "showlegend": false,
         "type": "scattermapbox"
        },
        {
         "fill": "toself",
         "fillcolor": "rgba(135, 206, 235, 0.5)",
         "lat": [
          44.51111111111111,
          44.55555555555556,
          44.55555555555556,
          44.51111111111111,
          44.51111111111111
         ],
         "line": {
          "color": "blue"
         },
         "lon": [
          -110.43333333333332,
          -110.43333333333332,
          -110.54444444444444,
          -110.54444444444444,
          -110.43333333333332
         ],
         "name": "52",
         "showlegend": false,
         "type": "scattermapbox"
        },
        {
         "fill": "toself",
         "fillcolor": "rgba(135, 206, 235, 0.5)",
         "lat": [
          44.55555555555556,
          44.6,
          44.6,
          44.55555555555556,
          44.55555555555556
         ],
         "line": {
          "color": "blue"
         },
         "lon": [
          -110.43333333333332,
          -110.43333333333332,
          -110.54444444444444,
          -110.54444444444444,
          -110.43333333333332
         ],
         "name": "53",
         "showlegend": false,
         "type": "scattermapbox"
        },
        {
         "fill": "toself",
         "fillcolor": "rgba(135, 206, 235, 0.5)",
         "lat": [
          44.2,
          44.24444444444445,
          44.24444444444445,
          44.2,
          44.2
         ],
         "line": {
          "color": "blue"
         },
         "lon": [
          -110.32222222222222,
          -110.32222222222222,
          -110.43333333333332,
          -110.43333333333332,
          -110.32222222222222
         ],
         "name": "54",
         "showlegend": false,
         "type": "scattermapbox"
        },
        {
         "fill": "toself",
         "fillcolor": "rgba(135, 206, 235, 0.5)",
         "lat": [
          44.24444444444445,
          44.28888888888889,
          44.28888888888889,
          44.24444444444445,
          44.24444444444445
         ],
         "line": {
          "color": "blue"
         },
         "lon": [
          -110.32222222222222,
          -110.32222222222222,
          -110.43333333333332,
          -110.43333333333332,
          -110.32222222222222
         ],
         "name": "55",
         "showlegend": false,
         "type": "scattermapbox"
        },
        {
         "fill": "toself",
         "fillcolor": "rgba(135, 206, 235, 0.5)",
         "lat": [
          44.28888888888889,
          44.333333333333336,
          44.333333333333336,
          44.28888888888889,
          44.28888888888889
         ],
         "line": {
          "color": "blue"
         },
         "lon": [
          -110.32222222222222,
          -110.32222222222222,
          -110.43333333333332,
          -110.43333333333332,
          -110.32222222222222
         ],
         "name": "56",
         "showlegend": false,
         "type": "scattermapbox"
        },
        {
         "fill": "toself",
         "fillcolor": "rgba(135, 206, 235, 0.5)",
         "lat": [
          44.333333333333336,
          44.37777777777778,
          44.37777777777778,
          44.333333333333336,
          44.333333333333336
         ],
         "line": {
          "color": "blue"
         },
         "lon": [
          -110.32222222222222,
          -110.32222222222222,
          -110.43333333333332,
          -110.43333333333332,
          -110.32222222222222
         ],
         "name": "57",
         "showlegend": false,
         "type": "scattermapbox"
        },
        {
         "fill": "toself",
         "fillcolor": "rgba(135, 206, 235, 0.5)",
         "lat": [
          44.37777777777778,
          44.422222222222224,
          44.422222222222224,
          44.37777777777778,
          44.37777777777778
         ],
         "line": {
          "color": "blue"
         },
         "lon": [
          -110.32222222222222,
          -110.32222222222222,
          -110.43333333333332,
          -110.43333333333332,
          -110.32222222222222
         ],
         "name": "58",
         "showlegend": false,
         "type": "scattermapbox"
        },
        {
         "fill": "toself",
         "fillcolor": "rgba(135, 206, 235, 0.5)",
         "lat": [
          44.422222222222224,
          44.46666666666667,
          44.46666666666667,
          44.422222222222224,
          44.422222222222224
         ],
         "line": {
          "color": "blue"
         },
         "lon": [
          -110.32222222222222,
          -110.32222222222222,
          -110.43333333333332,
          -110.43333333333332,
          -110.32222222222222
         ],
         "name": "59",
         "showlegend": false,
         "type": "scattermapbox"
        },
        {
         "fill": "toself",
         "fillcolor": "rgba(135, 206, 235, 0.5)",
         "lat": [
          44.46666666666667,
          44.51111111111111,
          44.51111111111111,
          44.46666666666667,
          44.46666666666667
         ],
         "line": {
          "color": "blue"
         },
         "lon": [
          -110.32222222222222,
          -110.32222222222222,
          -110.43333333333332,
          -110.43333333333332,
          -110.32222222222222
         ],
         "name": "60",
         "showlegend": false,
         "type": "scattermapbox"
        },
        {
         "fill": "toself",
         "fillcolor": "rgba(135, 206, 235, 0.5)",
         "lat": [
          44.51111111111111,
          44.55555555555556,
          44.55555555555556,
          44.51111111111111,
          44.51111111111111
         ],
         "line": {
          "color": "blue"
         },
         "lon": [
          -110.32222222222222,
          -110.32222222222222,
          -110.43333333333332,
          -110.43333333333332,
          -110.32222222222222
         ],
         "name": "61",
         "showlegend": false,
         "type": "scattermapbox"
        },
        {
         "fill": "toself",
         "fillcolor": "rgba(135, 206, 235, 0.5)",
         "lat": [
          44.55555555555556,
          44.6,
          44.6,
          44.55555555555556,
          44.55555555555556
         ],
         "line": {
          "color": "blue"
         },
         "lon": [
          -110.32222222222222,
          -110.32222222222222,
          -110.43333333333332,
          -110.43333333333332,
          -110.32222222222222
         ],
         "name": "62",
         "showlegend": false,
         "type": "scattermapbox"
        },
        {
         "fill": "toself",
         "fillcolor": "rgba(135, 206, 235, 0.5)",
         "lat": [
          44.2,
          44.24444444444445,
          44.24444444444445,
          44.2,
          44.2
         ],
         "line": {
          "color": "blue"
         },
         "lon": [
          -110.21111111111111,
          -110.21111111111111,
          -110.32222222222222,
          -110.32222222222222,
          -110.21111111111111
         ],
         "name": "63",
         "showlegend": false,
         "type": "scattermapbox"
        },
        {
         "fill": "toself",
         "fillcolor": "rgba(135, 206, 235, 0.5)",
         "lat": [
          44.24444444444445,
          44.28888888888889,
          44.28888888888889,
          44.24444444444445,
          44.24444444444445
         ],
         "line": {
          "color": "blue"
         },
         "lon": [
          -110.21111111111111,
          -110.21111111111111,
          -110.32222222222222,
          -110.32222222222222,
          -110.21111111111111
         ],
         "name": "64",
         "showlegend": false,
         "type": "scattermapbox"
        },
        {
         "fill": "toself",
         "fillcolor": "rgba(135, 206, 235, 0.5)",
         "lat": [
          44.28888888888889,
          44.333333333333336,
          44.333333333333336,
          44.28888888888889,
          44.28888888888889
         ],
         "line": {
          "color": "blue"
         },
         "lon": [
          -110.21111111111111,
          -110.21111111111111,
          -110.32222222222222,
          -110.32222222222222,
          -110.21111111111111
         ],
         "name": "65",
         "showlegend": false,
         "type": "scattermapbox"
        },
        {
         "fill": "toself",
         "fillcolor": "rgba(135, 206, 235, 0.5)",
         "lat": [
          44.333333333333336,
          44.37777777777778,
          44.37777777777778,
          44.333333333333336,
          44.333333333333336
         ],
         "line": {
          "color": "blue"
         },
         "lon": [
          -110.21111111111111,
          -110.21111111111111,
          -110.32222222222222,
          -110.32222222222222,
          -110.21111111111111
         ],
         "name": "66",
         "showlegend": false,
         "type": "scattermapbox"
        },
        {
         "fill": "toself",
         "fillcolor": "rgba(135, 206, 235, 0.5)",
         "lat": [
          44.37777777777778,
          44.422222222222224,
          44.422222222222224,
          44.37777777777778,
          44.37777777777778
         ],
         "line": {
          "color": "blue"
         },
         "lon": [
          -110.21111111111111,
          -110.21111111111111,
          -110.32222222222222,
          -110.32222222222222,
          -110.21111111111111
         ],
         "name": "67",
         "showlegend": false,
         "type": "scattermapbox"
        },
        {
         "fill": "toself",
         "fillcolor": "rgba(135, 206, 235, 0.5)",
         "lat": [
          44.422222222222224,
          44.46666666666667,
          44.46666666666667,
          44.422222222222224,
          44.422222222222224
         ],
         "line": {
          "color": "blue"
         },
         "lon": [
          -110.21111111111111,
          -110.21111111111111,
          -110.32222222222222,
          -110.32222222222222,
          -110.21111111111111
         ],
         "name": "68",
         "showlegend": false,
         "type": "scattermapbox"
        },
        {
         "fill": "toself",
         "fillcolor": "rgba(135, 206, 235, 0.5)",
         "lat": [
          44.46666666666667,
          44.51111111111111,
          44.51111111111111,
          44.46666666666667,
          44.46666666666667
         ],
         "line": {
          "color": "blue"
         },
         "lon": [
          -110.21111111111111,
          -110.21111111111111,
          -110.32222222222222,
          -110.32222222222222,
          -110.21111111111111
         ],
         "name": "69",
         "showlegend": false,
         "type": "scattermapbox"
        },
        {
         "fill": "toself",
         "fillcolor": "rgba(135, 206, 235, 0.5)",
         "lat": [
          44.51111111111111,
          44.55555555555556,
          44.55555555555556,
          44.51111111111111,
          44.51111111111111
         ],
         "line": {
          "color": "blue"
         },
         "lon": [
          -110.21111111111111,
          -110.21111111111111,
          -110.32222222222222,
          -110.32222222222222,
          -110.21111111111111
         ],
         "name": "70",
         "showlegend": false,
         "type": "scattermapbox"
        },
        {
         "fill": "toself",
         "fillcolor": "rgba(135, 206, 235, 0.5)",
         "lat": [
          44.55555555555556,
          44.6,
          44.6,
          44.55555555555556,
          44.55555555555556
         ],
         "line": {
          "color": "blue"
         },
         "lon": [
          -110.21111111111111,
          -110.21111111111111,
          -110.32222222222222,
          -110.32222222222222,
          -110.21111111111111
         ],
         "name": "71",
         "showlegend": false,
         "type": "scattermapbox"
        },
        {
         "fill": "toself",
         "fillcolor": "rgba(135, 206, 235, 0.5)",
         "lat": [
          44.2,
          44.24444444444445,
          44.24444444444445,
          44.2,
          44.2
         ],
         "line": {
          "color": "blue"
         },
         "lon": [
          -110.1,
          -110.1,
          -110.21111111111111,
          -110.21111111111111,
          -110.1
         ],
         "name": "72",
         "showlegend": false,
         "type": "scattermapbox"
        },
        {
         "fill": "toself",
         "fillcolor": "rgba(135, 206, 235, 0.5)",
         "lat": [
          44.24444444444445,
          44.28888888888889,
          44.28888888888889,
          44.24444444444445,
          44.24444444444445
         ],
         "line": {
          "color": "blue"
         },
         "lon": [
          -110.1,
          -110.1,
          -110.21111111111111,
          -110.21111111111111,
          -110.1
         ],
         "name": "73",
         "showlegend": false,
         "type": "scattermapbox"
        },
        {
         "fill": "toself",
         "fillcolor": "rgba(135, 206, 235, 0.5)",
         "lat": [
          44.28888888888889,
          44.333333333333336,
          44.333333333333336,
          44.28888888888889,
          44.28888888888889
         ],
         "line": {
          "color": "blue"
         },
         "lon": [
          -110.1,
          -110.1,
          -110.21111111111111,
          -110.21111111111111,
          -110.1
         ],
         "name": "74",
         "showlegend": false,
         "type": "scattermapbox"
        },
        {
         "fill": "toself",
         "fillcolor": "rgba(135, 206, 235, 0.5)",
         "lat": [
          44.333333333333336,
          44.37777777777778,
          44.37777777777778,
          44.333333333333336,
          44.333333333333336
         ],
         "line": {
          "color": "blue"
         },
         "lon": [
          -110.1,
          -110.1,
          -110.21111111111111,
          -110.21111111111111,
          -110.1
         ],
         "name": "75",
         "showlegend": false,
         "type": "scattermapbox"
        },
        {
         "fill": "toself",
         "fillcolor": "rgba(135, 206, 235, 0.5)",
         "lat": [
          44.37777777777778,
          44.422222222222224,
          44.422222222222224,
          44.37777777777778,
          44.37777777777778
         ],
         "line": {
          "color": "blue"
         },
         "lon": [
          -110.1,
          -110.1,
          -110.21111111111111,
          -110.21111111111111,
          -110.1
         ],
         "name": "76",
         "showlegend": false,
         "type": "scattermapbox"
        },
        {
         "fill": "toself",
         "fillcolor": "rgba(135, 206, 235, 0.5)",
         "lat": [
          44.422222222222224,
          44.46666666666667,
          44.46666666666667,
          44.422222222222224,
          44.422222222222224
         ],
         "line": {
          "color": "blue"
         },
         "lon": [
          -110.1,
          -110.1,
          -110.21111111111111,
          -110.21111111111111,
          -110.1
         ],
         "name": "77",
         "showlegend": false,
         "type": "scattermapbox"
        },
        {
         "fill": "toself",
         "fillcolor": "rgba(135, 206, 235, 0.5)",
         "lat": [
          44.46666666666667,
          44.51111111111111,
          44.51111111111111,
          44.46666666666667,
          44.46666666666667
         ],
         "line": {
          "color": "blue"
         },
         "lon": [
          -110.1,
          -110.1,
          -110.21111111111111,
          -110.21111111111111,
          -110.1
         ],
         "name": "78",
         "showlegend": false,
         "type": "scattermapbox"
        },
        {
         "fill": "toself",
         "fillcolor": "rgba(135, 206, 235, 0.5)",
         "lat": [
          44.51111111111111,
          44.55555555555556,
          44.55555555555556,
          44.51111111111111,
          44.51111111111111
         ],
         "line": {
          "color": "blue"
         },
         "lon": [
          -110.1,
          -110.1,
          -110.21111111111111,
          -110.21111111111111,
          -110.1
         ],
         "name": "79",
         "showlegend": false,
         "type": "scattermapbox"
        },
        {
         "fill": "toself",
         "fillcolor": "rgba(135, 206, 235, 0.5)",
         "lat": [
          44.55555555555556,
          44.6,
          44.6,
          44.55555555555556,
          44.55555555555556
         ],
         "line": {
          "color": "blue"
         },
         "lon": [
          -110.1,
          -110.1,
          -110.21111111111111,
          -110.21111111111111,
          -110.1
         ],
         "name": "80",
         "showlegend": false,
         "type": "scattermapbox"
        },
        {
         "fill": "toself",
         "fillcolor": "rgba(128, 128, 128, 0.5)",
         "lat": [
          44.4488,
          44.599,
          44.5166,
          44.428,
          44.4488
         ],
         "line": {
          "color": "black"
         },
         "lon": [
          -110.839,
          -110.7052,
          -110.5339,
          -110.5885,
          -110.839
         ],
         "name": "Yellowstone National Park",
         "type": "scattermapbox"
        },
        {
         "fill": "toself",
         "fillcolor": "rgba(128, 128, 128, 0.5)",
         "lat": [
          37.7244,
          37.6962,
          37.7799,
          37.8456,
          37.8651,
          37.7244
         ],
         "line": {
          "color": "black"
         },
         "lon": [
          -119.655,
          -119.5964,
          -119.4893,
          -119.3029,
          -119.5383,
          -119.655
         ],
         "name": "Yosemite National Park",
         "type": "scattermapbox"
        },
        {
         "fill": "toself",
         "fillcolor": "rgba(128, 128, 128, 0.5)",
         "lat": [
          36.1336,
          36.2331,
          36.2861,
          36.1182,
          36.057,
          36.1336
         ],
         "line": {
          "color": "black"
         },
         "lon": [
          -112.1861,
          -112.2156,
          -112.0969,
          -111.8205,
          -112.1214,
          -112.1861
         ],
         "name": "Grand Canyon National Park",
         "type": "scattermapbox"
        },
        {
         "hoverinfo": "text",
         "lat": [
          45.40394376966061,
          44.312799532119016,
          44.425805687816776
         ],
         "lon": [
          -110.57616849981925,
          -110.78124177861687,
          -109.90552343338386
         ],
         "marker": {
          "color": 0,
          "size": 10
         },
         "mode": "markers",
         "name": "Wolf",
         "showlegend": true,
         "text": [
          "Animal ID: A001<br>Scientific Name: Canis lupus<br>Redlist Category: Least Concern<br>Megafauna: False<br>Latitude: 45.40394376966061<br>Longitude: -110.57616849981925",
          "Animal ID: A001<br>Scientific Name: Canis lupus<br>Redlist Category: Least Concern<br>Megafauna: False<br>Latitude: 44.312799532119016<br>Longitude: -110.78124177861687",
          "Animal ID: A001<br>Scientific Name: Canis lupus<br>Redlist Category: Least Concern<br>Megafauna: False<br>Latitude: 44.425805687816776<br>Longitude: -109.90552343338386"
         ],
         "type": "scattermapbox"
        },
        {
         "hoverinfo": "text",
         "lat": [
          44.59045316082347,
          44.515383666530255,
          44.20621968157634
         ],
         "lon": [
          -110.56900631340376,
          -110.63915562451272,
          -110.71010795747833
         ],
         "marker": {
          "color": 1,
          "size": 10
         },
         "mode": "markers",
         "name": "Bison",
         "showlegend": true,
         "text": [
          "Animal ID: A002<br>Scientific Name: Bison bison<br>Redlist Category: Vulnerable<br>Megafauna: True<br>Latitude: 44.59045316082347<br>Longitude: -110.56900631340376",
          "Animal ID: A002<br>Scientific Name: Bison bison<br>Redlist Category: Vulnerable<br>Megafauna: True<br>Latitude: 44.515383666530255<br>Longitude: -110.63915562451272",
          "Animal ID: A002<br>Scientific Name: Bison bison<br>Redlist Category: Vulnerable<br>Megafauna: True<br>Latitude: 44.20621968157634<br>Longitude: -110.71010795747833"
         ],
         "type": "scattermapbox"
        },
        {
         "hoverinfo": "text",
         "lat": [
          44.556320492450084,
          44.611659472055166,
          44.34722686484955
         ],
         "lon": [
          -110.99952224248756,
          -110.78091510640935,
          -110.99483182664008
         ],
         "marker": {
          "color": 2,
          "size": 10
         },
         "mode": "markers",
         "name": "Elk",
         "showlegend": true,
         "text": [
          "Animal ID: A003<br>Scientific Name: Cervus canadensis<br>Redlist Category: Least Concern<br>Megafauna: True<br>Latitude: 44.556320492450084<br>Longitude: -110.99952224248756",
          "Animal ID: A003<br>Scientific Name: Cervus canadensis<br>Redlist Category: Least Concern<br>Megafauna: True<br>Latitude: 44.611659472055166<br>Longitude: -110.78091510640935",
          "Animal ID: A003<br>Scientific Name: Cervus canadensis<br>Redlist Category: Least Concern<br>Megafauna: True<br>Latitude: 44.34722686484955<br>Longitude: -110.99483182664008"
         ],
         "type": "scattermapbox"
        },
        {
         "hoverinfo": "text",
         "lat": [
          37.90776515620409,
          37.91852997134804,
          37.91838912040377
         ],
         "lon": [
          -119.849474984859,
          -119.63756758360483,
          -119.64661447612606
         ],
         "marker": {
          "color": 3,
          "size": 10
         },
         "mode": "markers",
         "name": "Sierra Nevada bighorn sheep",
         "showlegend": true,
         "text": [
          "Animal ID: A004<br>Scientific Name: Ovis canadensis sierrae<br>Redlist Category: Endangered<br>Megafauna: False<br>Latitude: 37.90776515620409<br>Longitude: -119.849474984859",
          "Animal ID: A004<br>Scientific Name: Ovis canadensis sierrae<br>Redlist Category: Endangered<br>Megafauna: False<br>Latitude: 37.91852997134804<br>Longitude: -119.63756758360483",
          "Animal ID: A004<br>Scientific Name: Ovis canadensis sierrae<br>Redlist Category: Endangered<br>Megafauna: False<br>Latitude: 37.91838912040377<br>Longitude: -119.64661447612606"
         ],
         "type": "scattermapbox"
        },
        {
         "hoverinfo": "text",
         "lat": [
          37.65235009603704,
          37.80223948229645,
          37.67898392336359
         ],
         "lon": [
          -119.59118475827995,
          -119.652958619999,
          -119.67314694035353
         ],
         "marker": {
          "color": 4,
          "size": 10
         },
         "mode": "markers",
         "name": "Sierra Nevada red fox",
         "showlegend": true,
         "text": [
          "Animal ID: A005<br>Scientific Name: Vulpes vulpes necator<br>Redlist Category: Critically Endangered<br>Megafauna: False<br>Latitude: 37.65235009603704<br>Longitude: -119.59118475827995",
          "Animal ID: A005<br>Scientific Name: Vulpes vulpes necator<br>Redlist Category: Critically Endangered<br>Megafauna: False<br>Latitude: 37.80223948229645<br>Longitude: -119.652958619999",
          "Animal ID: A005<br>Scientific Name: Vulpes vulpes necator<br>Redlist Category: Critically Endangered<br>Megafauna: False<br>Latitude: 37.67898392336359<br>Longitude: -119.67314694035353"
         ],
         "type": "scattermapbox"
        },
        {
         "hoverinfo": "text",
         "lat": [
          37.90710890654279,
          37.7949167615148,
          37.94375417864019
         ],
         "lon": [
          -119.76970567309938,
          -119.65045298881651,
          -119.75391741132324
         ],
         "marker": {
          "color": 5,
          "size": 10
         },
         "mode": "markers",
         "name": "Bobcat",
         "showlegend": true,
         "text": [
          "Animal ID: A006<br>Scientific Name: Lynx rufus<br>Redlist Category: Least Concern<br>Megafauna: True<br>Latitude: 37.90710890654279<br>Longitude: -119.76970567309938",
          "Animal ID: A006<br>Scientific Name: Lynx rufus<br>Redlist Category: Least Concern<br>Megafauna: True<br>Latitude: 37.7949167615148<br>Longitude: -119.65045298881651",
          "Animal ID: A006<br>Scientific Name: Lynx rufus<br>Redlist Category: Least Concern<br>Megafauna: True<br>Latitude: 37.94375417864019<br>Longitude: -119.75391741132324"
         ],
         "type": "scattermapbox"
        },
        {
         "hoverinfo": "text",
         "lat": [
          36.26397056456099,
          36.58913067928438,
          36.266161801035054
         ],
         "lon": [
          -113.21193434307746,
          -112.23087170017679,
          -112.09494838239584
         ],
         "marker": {
          "color": 6,
          "size": 10
         },
         "mode": "markers",
         "name": "Mule deer",
         "showlegend": true,
         "text": [
          "Animal ID: A007<br>Scientific Name: Odocoileus hemionus<br>Redlist Category: Least Concern<br>Megafauna: True<br>Latitude: 36.26397056456099<br>Longitude: -113.21193434307746",
          "Animal ID: A007<br>Scientific Name: Odocoileus hemionus<br>Redlist Category: Least Concern<br>Megafauna: True<br>Latitude: 36.58913067928438<br>Longitude: -112.23087170017679",
          "Animal ID: A007<br>Scientific Name: Odocoileus hemionus<br>Redlist Category: Least Concern<br>Megafauna: True<br>Latitude: 36.266161801035054<br>Longitude: -112.09494838239584"
         ],
         "type": "scattermapbox"
        },
        {
         "hoverinfo": "text",
         "lat": [
          36.59320410857596,
          36.69956402892489,
          36.64308551747246
         ],
         "lon": [
          -112.34773239902562,
          -112.32163967709154,
          -112.80695651153275
         ],
         "marker": {
          "color": 7,
          "size": 10
         },
         "mode": "markers",
         "name": "Desert bighorn sheep",
         "showlegend": true,
         "text": [
          "Animal ID: A008<br>Scientific Name: Ovis canadensis nelsoni<br>Redlist Category: Near Threatened<br>Megafauna: True<br>Latitude: 36.59320410857596<br>Longitude: -112.34773239902562",
          "Animal ID: A008<br>Scientific Name: Ovis canadensis nelsoni<br>Redlist Category: Near Threatened<br>Megafauna: True<br>Latitude: 36.69956402892489<br>Longitude: -112.32163967709154",
          "Animal ID: A008<br>Scientific Name: Ovis canadensis nelsoni<br>Redlist Category: Near Threatened<br>Megafauna: True<br>Latitude: 36.64308551747246<br>Longitude: -112.80695651153275"
         ],
         "type": "scattermapbox"
        },
        {
         "hoverinfo": "text",
         "lat": [
          36.43100043599815,
          36.47367449672423,
          36.57025822088406
         ],
         "lon": [
          -112.0590397421836,
          -112.22462393965932,
          -112.48184643909867
         ],
         "marker": {
          "color": 8,
          "size": 10
         },
         "mode": "markers",
         "name": "Gray fox",
         "showlegend": true,
         "text": [
          "Animal ID: A009<br>Scientific Name: Urocyon cinereoargenteus<br>Redlist Category: Least Concern<br>Megafauna: True<br>Latitude: 36.43100043599815<br>Longitude: -112.0590397421836",
          "Animal ID: A009<br>Scientific Name: Urocyon cinereoargenteus<br>Redlist Category: Least Concern<br>Megafauna: True<br>Latitude: 36.47367449672423<br>Longitude: -112.22462393965932",
          "Animal ID: A009<br>Scientific Name: Urocyon cinereoargenteus<br>Redlist Category: Least Concern<br>Megafauna: True<br>Latitude: 36.57025822088406<br>Longitude: -112.48184643909867"
         ],
         "type": "scattermapbox"
        }
       ],
       "layout": {
        "mapbox": {
         "center": {
          "lat": 44.4,
          "lon": -110.6
         },
         "style": "open-street-map",
         "zoom": 8
        },
        "template": {
         "data": {
          "bar": [
           {
            "error_x": {
             "color": "#2a3f5f"
            },
            "error_y": {
             "color": "#2a3f5f"
            },
            "marker": {
             "line": {
              "color": "#E5ECF6",
              "width": 0.5
             },
             "pattern": {
              "fillmode": "overlay",
              "size": 10,
              "solidity": 0.2
             }
            },
            "type": "bar"
           }
          ],
          "barpolar": [
           {
            "marker": {
             "line": {
              "color": "#E5ECF6",
              "width": 0.5
             },
             "pattern": {
              "fillmode": "overlay",
              "size": 10,
              "solidity": 0.2
             }
            },
            "type": "barpolar"
           }
          ],
          "carpet": [
           {
            "aaxis": {
             "endlinecolor": "#2a3f5f",
             "gridcolor": "white",
             "linecolor": "white",
             "minorgridcolor": "white",
             "startlinecolor": "#2a3f5f"
            },
            "baxis": {
             "endlinecolor": "#2a3f5f",
             "gridcolor": "white",
             "linecolor": "white",
             "minorgridcolor": "white",
             "startlinecolor": "#2a3f5f"
            },
            "type": "carpet"
           }
          ],
          "choropleth": [
           {
            "colorbar": {
             "outlinewidth": 0,
             "ticks": ""
            },
            "type": "choropleth"
           }
          ],
          "contour": [
           {
            "colorbar": {
             "outlinewidth": 0,
             "ticks": ""
            },
            "colorscale": [
             [
              0,
              "#0d0887"
             ],
             [
              0.1111111111111111,
              "#46039f"
             ],
             [
              0.2222222222222222,
              "#7201a8"
             ],
             [
              0.3333333333333333,
              "#9c179e"
             ],
             [
              0.4444444444444444,
              "#bd3786"
             ],
             [
              0.5555555555555556,
              "#d8576b"
             ],
             [
              0.6666666666666666,
              "#ed7953"
             ],
             [
              0.7777777777777778,
              "#fb9f3a"
             ],
             [
              0.8888888888888888,
              "#fdca26"
             ],
             [
              1,
              "#f0f921"
             ]
            ],
            "type": "contour"
           }
          ],
          "contourcarpet": [
           {
            "colorbar": {
             "outlinewidth": 0,
             "ticks": ""
            },
            "type": "contourcarpet"
           }
          ],
          "heatmap": [
           {
            "colorbar": {
             "outlinewidth": 0,
             "ticks": ""
            },
            "colorscale": [
             [
              0,
              "#0d0887"
             ],
             [
              0.1111111111111111,
              "#46039f"
             ],
             [
              0.2222222222222222,
              "#7201a8"
             ],
             [
              0.3333333333333333,
              "#9c179e"
             ],
             [
              0.4444444444444444,
              "#bd3786"
             ],
             [
              0.5555555555555556,
              "#d8576b"
             ],
             [
              0.6666666666666666,
              "#ed7953"
             ],
             [
              0.7777777777777778,
              "#fb9f3a"
             ],
             [
              0.8888888888888888,
              "#fdca26"
             ],
             [
              1,
              "#f0f921"
             ]
            ],
            "type": "heatmap"
           }
          ],
          "heatmapgl": [
           {
            "colorbar": {
             "outlinewidth": 0,
             "ticks": ""
            },
            "colorscale": [
             [
              0,
              "#0d0887"
             ],
             [
              0.1111111111111111,
              "#46039f"
             ],
             [
              0.2222222222222222,
              "#7201a8"
             ],
             [
              0.3333333333333333,
              "#9c179e"
             ],
             [
              0.4444444444444444,
              "#bd3786"
             ],
             [
              0.5555555555555556,
              "#d8576b"
             ],
             [
              0.6666666666666666,
              "#ed7953"
             ],
             [
              0.7777777777777778,
              "#fb9f3a"
             ],
             [
              0.8888888888888888,
              "#fdca26"
             ],
             [
              1,
              "#f0f921"
             ]
            ],
            "type": "heatmapgl"
           }
          ],
          "histogram": [
           {
            "marker": {
             "pattern": {
              "fillmode": "overlay",
              "size": 10,
              "solidity": 0.2
             }
            },
            "type": "histogram"
           }
          ],
          "histogram2d": [
           {
            "colorbar": {
             "outlinewidth": 0,
             "ticks": ""
            },
            "colorscale": [
             [
              0,
              "#0d0887"
             ],
             [
              0.1111111111111111,
              "#46039f"
             ],
             [
              0.2222222222222222,
              "#7201a8"
             ],
             [
              0.3333333333333333,
              "#9c179e"
             ],
             [
              0.4444444444444444,
              "#bd3786"
             ],
             [
              0.5555555555555556,
              "#d8576b"
             ],
             [
              0.6666666666666666,
              "#ed7953"
             ],
             [
              0.7777777777777778,
              "#fb9f3a"
             ],
             [
              0.8888888888888888,
              "#fdca26"
             ],
             [
              1,
              "#f0f921"
             ]
            ],
            "type": "histogram2d"
           }
          ],
          "histogram2dcontour": [
           {
            "colorbar": {
             "outlinewidth": 0,
             "ticks": ""
            },
            "colorscale": [
             [
              0,
              "#0d0887"
             ],
             [
              0.1111111111111111,
              "#46039f"
             ],
             [
              0.2222222222222222,
              "#7201a8"
             ],
             [
              0.3333333333333333,
              "#9c179e"
             ],
             [
              0.4444444444444444,
              "#bd3786"
             ],
             [
              0.5555555555555556,
              "#d8576b"
             ],
             [
              0.6666666666666666,
              "#ed7953"
             ],
             [
              0.7777777777777778,
              "#fb9f3a"
             ],
             [
              0.8888888888888888,
              "#fdca26"
             ],
             [
              1,
              "#f0f921"
             ]
            ],
            "type": "histogram2dcontour"
           }
          ],
          "mesh3d": [
           {
            "colorbar": {
             "outlinewidth": 0,
             "ticks": ""
            },
            "type": "mesh3d"
           }
          ],
          "parcoords": [
           {
            "line": {
             "colorbar": {
              "outlinewidth": 0,
              "ticks": ""
             }
            },
            "type": "parcoords"
           }
          ],
          "pie": [
           {
            "automargin": true,
            "type": "pie"
           }
          ],
          "scatter": [
           {
            "fillpattern": {
             "fillmode": "overlay",
             "size": 10,
             "solidity": 0.2
            },
            "type": "scatter"
           }
          ],
          "scatter3d": [
           {
            "line": {
             "colorbar": {
              "outlinewidth": 0,
              "ticks": ""
             }
            },
            "marker": {
             "colorbar": {
              "outlinewidth": 0,
              "ticks": ""
             }
            },
            "type": "scatter3d"
           }
          ],
          "scattercarpet": [
           {
            "marker": {
             "colorbar": {
              "outlinewidth": 0,
              "ticks": ""
             }
            },
            "type": "scattercarpet"
           }
          ],
          "scattergeo": [
           {
            "marker": {
             "colorbar": {
              "outlinewidth": 0,
              "ticks": ""
             }
            },
            "type": "scattergeo"
           }
          ],
          "scattergl": [
           {
            "marker": {
             "colorbar": {
              "outlinewidth": 0,
              "ticks": ""
             }
            },
            "type": "scattergl"
           }
          ],
          "scattermapbox": [
           {
            "marker": {
             "colorbar": {
              "outlinewidth": 0,
              "ticks": ""
             }
            },
            "type": "scattermapbox"
           }
          ],
          "scatterpolar": [
           {
            "marker": {
             "colorbar": {
              "outlinewidth": 0,
              "ticks": ""
             }
            },
            "type": "scatterpolar"
           }
          ],
          "scatterpolargl": [
           {
            "marker": {
             "colorbar": {
              "outlinewidth": 0,
              "ticks": ""
             }
            },
            "type": "scatterpolargl"
           }
          ],
          "scatterternary": [
           {
            "marker": {
             "colorbar": {
              "outlinewidth": 0,
              "ticks": ""
             }
            },
            "type": "scatterternary"
           }
          ],
          "surface": [
           {
            "colorbar": {
             "outlinewidth": 0,
             "ticks": ""
            },
            "colorscale": [
             [
              0,
              "#0d0887"
             ],
             [
              0.1111111111111111,
              "#46039f"
             ],
             [
              0.2222222222222222,
              "#7201a8"
             ],
             [
              0.3333333333333333,
              "#9c179e"
             ],
             [
              0.4444444444444444,
              "#bd3786"
             ],
             [
              0.5555555555555556,
              "#d8576b"
             ],
             [
              0.6666666666666666,
              "#ed7953"
             ],
             [
              0.7777777777777778,
              "#fb9f3a"
             ],
             [
              0.8888888888888888,
              "#fdca26"
             ],
             [
              1,
              "#f0f921"
             ]
            ],
            "type": "surface"
           }
          ],
          "table": [
           {
            "cells": {
             "fill": {
              "color": "#EBF0F8"
             },
             "line": {
              "color": "white"
             }
            },
            "header": {
             "fill": {
              "color": "#C8D4E3"
             },
             "line": {
              "color": "white"
             }
            },
            "type": "table"
           }
          ]
         },
         "layout": {
          "annotationdefaults": {
           "arrowcolor": "#2a3f5f",
           "arrowhead": 0,
           "arrowwidth": 1
          },
          "autotypenumbers": "strict",
          "coloraxis": {
           "colorbar": {
            "outlinewidth": 0,
            "ticks": ""
           }
          },
          "colorscale": {
           "diverging": [
            [
             0,
             "#8e0152"
            ],
            [
             0.1,
             "#c51b7d"
            ],
            [
             0.2,
             "#de77ae"
            ],
            [
             0.3,
             "#f1b6da"
            ],
            [
             0.4,
             "#fde0ef"
            ],
            [
             0.5,
             "#f7f7f7"
            ],
            [
             0.6,
             "#e6f5d0"
            ],
            [
             0.7,
             "#b8e186"
            ],
            [
             0.8,
             "#7fbc41"
            ],
            [
             0.9,
             "#4d9221"
            ],
            [
             1,
             "#276419"
            ]
           ],
           "sequential": [
            [
             0,
             "#0d0887"
            ],
            [
             0.1111111111111111,
             "#46039f"
            ],
            [
             0.2222222222222222,
             "#7201a8"
            ],
            [
             0.3333333333333333,
             "#9c179e"
            ],
            [
             0.4444444444444444,
             "#bd3786"
            ],
            [
             0.5555555555555556,
             "#d8576b"
            ],
            [
             0.6666666666666666,
             "#ed7953"
            ],
            [
             0.7777777777777778,
             "#fb9f3a"
            ],
            [
             0.8888888888888888,
             "#fdca26"
            ],
            [
             1,
             "#f0f921"
            ]
           ],
           "sequentialminus": [
            [
             0,
             "#0d0887"
            ],
            [
             0.1111111111111111,
             "#46039f"
            ],
            [
             0.2222222222222222,
             "#7201a8"
            ],
            [
             0.3333333333333333,
             "#9c179e"
            ],
            [
             0.4444444444444444,
             "#bd3786"
            ],
            [
             0.5555555555555556,
             "#d8576b"
            ],
            [
             0.6666666666666666,
             "#ed7953"
            ],
            [
             0.7777777777777778,
             "#fb9f3a"
            ],
            [
             0.8888888888888888,
             "#fdca26"
            ],
            [
             1,
             "#f0f921"
            ]
           ]
          },
          "colorway": [
           "#636efa",
           "#EF553B",
           "#00cc96",
           "#ab63fa",
           "#FFA15A",
           "#19d3f3",
           "#FF6692",
           "#B6E880",
           "#FF97FF",
           "#FECB52"
          ],
          "font": {
           "color": "#2a3f5f"
          },
          "geo": {
           "bgcolor": "white",
           "lakecolor": "white",
           "landcolor": "#E5ECF6",
           "showlakes": true,
           "showland": true,
           "subunitcolor": "white"
          },
          "hoverlabel": {
           "align": "left"
          },
          "hovermode": "closest",
          "mapbox": {
           "style": "light"
          },
          "paper_bgcolor": "white",
          "plot_bgcolor": "#E5ECF6",
          "polar": {
           "angularaxis": {
            "gridcolor": "white",
            "linecolor": "white",
            "ticks": ""
           },
           "bgcolor": "#E5ECF6",
           "radialaxis": {
            "gridcolor": "white",
            "linecolor": "white",
            "ticks": ""
           }
          },
          "scene": {
           "xaxis": {
            "backgroundcolor": "#E5ECF6",
            "gridcolor": "white",
            "gridwidth": 2,
            "linecolor": "white",
            "showbackground": true,
            "ticks": "",
            "zerolinecolor": "white"
           },
           "yaxis": {
            "backgroundcolor": "#E5ECF6",
            "gridcolor": "white",
            "gridwidth": 2,
            "linecolor": "white",
            "showbackground": true,
            "ticks": "",
            "zerolinecolor": "white"
           },
           "zaxis": {
            "backgroundcolor": "#E5ECF6",
            "gridcolor": "white",
            "gridwidth": 2,
            "linecolor": "white",
            "showbackground": true,
            "ticks": "",
            "zerolinecolor": "white"
           }
          },
          "shapedefaults": {
           "line": {
            "color": "#2a3f5f"
           }
          },
          "ternary": {
           "aaxis": {
            "gridcolor": "white",
            "linecolor": "white",
            "ticks": ""
           },
           "baxis": {
            "gridcolor": "white",
            "linecolor": "white",
            "ticks": ""
           },
           "bgcolor": "#E5ECF6",
           "caxis": {
            "gridcolor": "white",
            "linecolor": "white",
            "ticks": ""
           }
          },
          "title": {
           "x": 0.05
          },
          "xaxis": {
           "automargin": true,
           "gridcolor": "white",
           "linecolor": "white",
           "ticks": "",
           "title": {
            "standoff": 15
           },
           "zerolinecolor": "white",
           "zerolinewidth": 2
          },
          "yaxis": {
           "automargin": true,
           "gridcolor": "white",
           "linecolor": "white",
           "ticks": "",
           "title": {
            "standoff": 15
           },
           "zerolinecolor": "white",
           "zerolinewidth": 2
          }
         }
        }
       }
      },
      "text/html": [
       "<div>                            <div id=\"10b91d52-4743-4984-9d36-b1aa7596baaf\" class=\"plotly-graph-div\" style=\"height:525px; width:100%;\"></div>            <script type=\"text/javascript\">                require([\"plotly\"], function(Plotly) {                    window.PLOTLYENV=window.PLOTLYENV || {};                                    if (document.getElementById(\"10b91d52-4743-4984-9d36-b1aa7596baaf\")) {                    Plotly.newPlot(                        \"10b91d52-4743-4984-9d36-b1aa7596baaf\",                        [{\"fill\":\"toself\",\"fillcolor\":\"rgba(135, 206, 235, 0.5)\",\"lat\":[44.2,44.24444444444445,44.24444444444445,44.2,44.2],\"line\":{\"color\":\"blue\"},\"lon\":[-110.98888888888888,-110.98888888888888,-111.1,-111.1,-110.98888888888888],\"name\":\"0\",\"showlegend\":false,\"type\":\"scattermapbox\"},{\"fill\":\"toself\",\"fillcolor\":\"rgba(135, 206, 235, 0.5)\",\"lat\":[44.24444444444445,44.28888888888889,44.28888888888889,44.24444444444445,44.24444444444445],\"line\":{\"color\":\"blue\"},\"lon\":[-110.98888888888888,-110.98888888888888,-111.1,-111.1,-110.98888888888888],\"name\":\"1\",\"showlegend\":false,\"type\":\"scattermapbox\"},{\"fill\":\"toself\",\"fillcolor\":\"rgba(135, 206, 235, 0.5)\",\"lat\":[44.28888888888889,44.333333333333336,44.333333333333336,44.28888888888889,44.28888888888889],\"line\":{\"color\":\"blue\"},\"lon\":[-110.98888888888888,-110.98888888888888,-111.1,-111.1,-110.98888888888888],\"name\":\"2\",\"showlegend\":false,\"type\":\"scattermapbox\"},{\"fill\":\"toself\",\"fillcolor\":\"rgba(135, 206, 235, 0.5)\",\"lat\":[44.333333333333336,44.37777777777778,44.37777777777778,44.333333333333336,44.333333333333336],\"line\":{\"color\":\"blue\"},\"lon\":[-110.98888888888888,-110.98888888888888,-111.1,-111.1,-110.98888888888888],\"name\":\"3\",\"showlegend\":false,\"type\":\"scattermapbox\"},{\"fill\":\"toself\",\"fillcolor\":\"rgba(135, 206, 235, 0.5)\",\"lat\":[44.37777777777778,44.422222222222224,44.422222222222224,44.37777777777778,44.37777777777778],\"line\":{\"color\":\"blue\"},\"lon\":[-110.98888888888888,-110.98888888888888,-111.1,-111.1,-110.98888888888888],\"name\":\"4\",\"showlegend\":false,\"type\":\"scattermapbox\"},{\"fill\":\"toself\",\"fillcolor\":\"rgba(135, 206, 235, 0.5)\",\"lat\":[44.422222222222224,44.46666666666667,44.46666666666667,44.422222222222224,44.422222222222224],\"line\":{\"color\":\"blue\"},\"lon\":[-110.98888888888888,-110.98888888888888,-111.1,-111.1,-110.98888888888888],\"name\":\"5\",\"showlegend\":false,\"type\":\"scattermapbox\"},{\"fill\":\"toself\",\"fillcolor\":\"rgba(135, 206, 235, 0.5)\",\"lat\":[44.46666666666667,44.51111111111111,44.51111111111111,44.46666666666667,44.46666666666667],\"line\":{\"color\":\"blue\"},\"lon\":[-110.98888888888888,-110.98888888888888,-111.1,-111.1,-110.98888888888888],\"name\":\"6\",\"showlegend\":false,\"type\":\"scattermapbox\"},{\"fill\":\"toself\",\"fillcolor\":\"rgba(135, 206, 235, 0.5)\",\"lat\":[44.51111111111111,44.55555555555556,44.55555555555556,44.51111111111111,44.51111111111111],\"line\":{\"color\":\"blue\"},\"lon\":[-110.98888888888888,-110.98888888888888,-111.1,-111.1,-110.98888888888888],\"name\":\"7\",\"showlegend\":false,\"type\":\"scattermapbox\"},{\"fill\":\"toself\",\"fillcolor\":\"rgba(135, 206, 235, 0.5)\",\"lat\":[44.55555555555556,44.6,44.6,44.55555555555556,44.55555555555556],\"line\":{\"color\":\"blue\"},\"lon\":[-110.98888888888888,-110.98888888888888,-111.1,-111.1,-110.98888888888888],\"name\":\"8\",\"showlegend\":false,\"type\":\"scattermapbox\"},{\"fill\":\"toself\",\"fillcolor\":\"rgba(135, 206, 235, 0.5)\",\"lat\":[44.2,44.24444444444445,44.24444444444445,44.2,44.2],\"line\":{\"color\":\"blue\"},\"lon\":[-110.87777777777777,-110.87777777777777,-110.98888888888888,-110.98888888888888,-110.87777777777777],\"name\":\"9\",\"showlegend\":false,\"type\":\"scattermapbox\"},{\"fill\":\"toself\",\"fillcolor\":\"rgba(135, 206, 235, 0.5)\",\"lat\":[44.24444444444445,44.28888888888889,44.28888888888889,44.24444444444445,44.24444444444445],\"line\":{\"color\":\"blue\"},\"lon\":[-110.87777777777777,-110.87777777777777,-110.98888888888888,-110.98888888888888,-110.87777777777777],\"name\":\"10\",\"showlegend\":false,\"type\":\"scattermapbox\"},{\"fill\":\"toself\",\"fillcolor\":\"rgba(135, 206, 235, 0.5)\",\"lat\":[44.28888888888889,44.333333333333336,44.333333333333336,44.28888888888889,44.28888888888889],\"line\":{\"color\":\"blue\"},\"lon\":[-110.87777777777777,-110.87777777777777,-110.98888888888888,-110.98888888888888,-110.87777777777777],\"name\":\"11\",\"showlegend\":false,\"type\":\"scattermapbox\"},{\"fill\":\"toself\",\"fillcolor\":\"rgba(135, 206, 235, 0.5)\",\"lat\":[44.333333333333336,44.37777777777778,44.37777777777778,44.333333333333336,44.333333333333336],\"line\":{\"color\":\"blue\"},\"lon\":[-110.87777777777777,-110.87777777777777,-110.98888888888888,-110.98888888888888,-110.87777777777777],\"name\":\"12\",\"showlegend\":false,\"type\":\"scattermapbox\"},{\"fill\":\"toself\",\"fillcolor\":\"rgba(135, 206, 235, 0.5)\",\"lat\":[44.37777777777778,44.422222222222224,44.422222222222224,44.37777777777778,44.37777777777778],\"line\":{\"color\":\"blue\"},\"lon\":[-110.87777777777777,-110.87777777777777,-110.98888888888888,-110.98888888888888,-110.87777777777777],\"name\":\"13\",\"showlegend\":false,\"type\":\"scattermapbox\"},{\"fill\":\"toself\",\"fillcolor\":\"rgba(135, 206, 235, 0.5)\",\"lat\":[44.422222222222224,44.46666666666667,44.46666666666667,44.422222222222224,44.422222222222224],\"line\":{\"color\":\"blue\"},\"lon\":[-110.87777777777777,-110.87777777777777,-110.98888888888888,-110.98888888888888,-110.87777777777777],\"name\":\"14\",\"showlegend\":false,\"type\":\"scattermapbox\"},{\"fill\":\"toself\",\"fillcolor\":\"rgba(135, 206, 235, 0.5)\",\"lat\":[44.46666666666667,44.51111111111111,44.51111111111111,44.46666666666667,44.46666666666667],\"line\":{\"color\":\"blue\"},\"lon\":[-110.87777777777777,-110.87777777777777,-110.98888888888888,-110.98888888888888,-110.87777777777777],\"name\":\"15\",\"showlegend\":false,\"type\":\"scattermapbox\"},{\"fill\":\"toself\",\"fillcolor\":\"rgba(135, 206, 235, 0.5)\",\"lat\":[44.51111111111111,44.55555555555556,44.55555555555556,44.51111111111111,44.51111111111111],\"line\":{\"color\":\"blue\"},\"lon\":[-110.87777777777777,-110.87777777777777,-110.98888888888888,-110.98888888888888,-110.87777777777777],\"name\":\"16\",\"showlegend\":false,\"type\":\"scattermapbox\"},{\"fill\":\"toself\",\"fillcolor\":\"rgba(135, 206, 235, 0.5)\",\"lat\":[44.55555555555556,44.6,44.6,44.55555555555556,44.55555555555556],\"line\":{\"color\":\"blue\"},\"lon\":[-110.87777777777777,-110.87777777777777,-110.98888888888888,-110.98888888888888,-110.87777777777777],\"name\":\"17\",\"showlegend\":false,\"type\":\"scattermapbox\"},{\"fill\":\"toself\",\"fillcolor\":\"rgba(135, 206, 235, 0.5)\",\"lat\":[44.2,44.24444444444445,44.24444444444445,44.2,44.2],\"line\":{\"color\":\"blue\"},\"lon\":[-110.76666666666667,-110.76666666666667,-110.87777777777777,-110.87777777777777,-110.76666666666667],\"name\":\"18\",\"showlegend\":false,\"type\":\"scattermapbox\"},{\"fill\":\"toself\",\"fillcolor\":\"rgba(135, 206, 235, 0.5)\",\"lat\":[44.24444444444445,44.28888888888889,44.28888888888889,44.24444444444445,44.24444444444445],\"line\":{\"color\":\"blue\"},\"lon\":[-110.76666666666667,-110.76666666666667,-110.87777777777777,-110.87777777777777,-110.76666666666667],\"name\":\"19\",\"showlegend\":false,\"type\":\"scattermapbox\"},{\"fill\":\"toself\",\"fillcolor\":\"rgba(135, 206, 235, 0.5)\",\"lat\":[44.28888888888889,44.333333333333336,44.333333333333336,44.28888888888889,44.28888888888889],\"line\":{\"color\":\"blue\"},\"lon\":[-110.76666666666667,-110.76666666666667,-110.87777777777777,-110.87777777777777,-110.76666666666667],\"name\":\"20\",\"showlegend\":false,\"type\":\"scattermapbox\"},{\"fill\":\"toself\",\"fillcolor\":\"rgba(135, 206, 235, 0.5)\",\"lat\":[44.333333333333336,44.37777777777778,44.37777777777778,44.333333333333336,44.333333333333336],\"line\":{\"color\":\"blue\"},\"lon\":[-110.76666666666667,-110.76666666666667,-110.87777777777777,-110.87777777777777,-110.76666666666667],\"name\":\"21\",\"showlegend\":false,\"type\":\"scattermapbox\"},{\"fill\":\"toself\",\"fillcolor\":\"rgba(135, 206, 235, 0.5)\",\"lat\":[44.37777777777778,44.422222222222224,44.422222222222224,44.37777777777778,44.37777777777778],\"line\":{\"color\":\"blue\"},\"lon\":[-110.76666666666667,-110.76666666666667,-110.87777777777777,-110.87777777777777,-110.76666666666667],\"name\":\"22\",\"showlegend\":false,\"type\":\"scattermapbox\"},{\"fill\":\"toself\",\"fillcolor\":\"rgba(135, 206, 235, 0.5)\",\"lat\":[44.422222222222224,44.46666666666667,44.46666666666667,44.422222222222224,44.422222222222224],\"line\":{\"color\":\"blue\"},\"lon\":[-110.76666666666667,-110.76666666666667,-110.87777777777777,-110.87777777777777,-110.76666666666667],\"name\":\"23\",\"showlegend\":false,\"type\":\"scattermapbox\"},{\"fill\":\"toself\",\"fillcolor\":\"rgba(135, 206, 235, 0.5)\",\"lat\":[44.46666666666667,44.51111111111111,44.51111111111111,44.46666666666667,44.46666666666667],\"line\":{\"color\":\"blue\"},\"lon\":[-110.76666666666667,-110.76666666666667,-110.87777777777777,-110.87777777777777,-110.76666666666667],\"name\":\"24\",\"showlegend\":false,\"type\":\"scattermapbox\"},{\"fill\":\"toself\",\"fillcolor\":\"rgba(135, 206, 235, 0.5)\",\"lat\":[44.51111111111111,44.55555555555556,44.55555555555556,44.51111111111111,44.51111111111111],\"line\":{\"color\":\"blue\"},\"lon\":[-110.76666666666667,-110.76666666666667,-110.87777777777777,-110.87777777777777,-110.76666666666667],\"name\":\"25\",\"showlegend\":false,\"type\":\"scattermapbox\"},{\"fill\":\"toself\",\"fillcolor\":\"rgba(135, 206, 235, 0.5)\",\"lat\":[44.55555555555556,44.6,44.6,44.55555555555556,44.55555555555556],\"line\":{\"color\":\"blue\"},\"lon\":[-110.76666666666667,-110.76666666666667,-110.87777777777777,-110.87777777777777,-110.76666666666667],\"name\":\"26\",\"showlegend\":false,\"type\":\"scattermapbox\"},{\"fill\":\"toself\",\"fillcolor\":\"rgba(135, 206, 235, 0.5)\",\"lat\":[44.2,44.24444444444445,44.24444444444445,44.2,44.2],\"line\":{\"color\":\"blue\"},\"lon\":[-110.65555555555555,-110.65555555555555,-110.76666666666667,-110.76666666666667,-110.65555555555555],\"name\":\"27\",\"showlegend\":false,\"type\":\"scattermapbox\"},{\"fill\":\"toself\",\"fillcolor\":\"rgba(135, 206, 235, 0.5)\",\"lat\":[44.24444444444445,44.28888888888889,44.28888888888889,44.24444444444445,44.24444444444445],\"line\":{\"color\":\"blue\"},\"lon\":[-110.65555555555555,-110.65555555555555,-110.76666666666667,-110.76666666666667,-110.65555555555555],\"name\":\"28\",\"showlegend\":false,\"type\":\"scattermapbox\"},{\"fill\":\"toself\",\"fillcolor\":\"rgba(135, 206, 235, 0.5)\",\"lat\":[44.28888888888889,44.333333333333336,44.333333333333336,44.28888888888889,44.28888888888889],\"line\":{\"color\":\"blue\"},\"lon\":[-110.65555555555555,-110.65555555555555,-110.76666666666667,-110.76666666666667,-110.65555555555555],\"name\":\"29\",\"showlegend\":false,\"type\":\"scattermapbox\"},{\"fill\":\"toself\",\"fillcolor\":\"rgba(135, 206, 235, 0.5)\",\"lat\":[44.333333333333336,44.37777777777778,44.37777777777778,44.333333333333336,44.333333333333336],\"line\":{\"color\":\"blue\"},\"lon\":[-110.65555555555555,-110.65555555555555,-110.76666666666667,-110.76666666666667,-110.65555555555555],\"name\":\"30\",\"showlegend\":false,\"type\":\"scattermapbox\"},{\"fill\":\"toself\",\"fillcolor\":\"rgba(135, 206, 235, 0.5)\",\"lat\":[44.37777777777778,44.422222222222224,44.422222222222224,44.37777777777778,44.37777777777778],\"line\":{\"color\":\"blue\"},\"lon\":[-110.65555555555555,-110.65555555555555,-110.76666666666667,-110.76666666666667,-110.65555555555555],\"name\":\"31\",\"showlegend\":false,\"type\":\"scattermapbox\"},{\"fill\":\"toself\",\"fillcolor\":\"rgba(135, 206, 235, 0.5)\",\"lat\":[44.422222222222224,44.46666666666667,44.46666666666667,44.422222222222224,44.422222222222224],\"line\":{\"color\":\"blue\"},\"lon\":[-110.65555555555555,-110.65555555555555,-110.76666666666667,-110.76666666666667,-110.65555555555555],\"name\":\"32\",\"showlegend\":false,\"type\":\"scattermapbox\"},{\"fill\":\"toself\",\"fillcolor\":\"rgba(135, 206, 235, 0.5)\",\"lat\":[44.46666666666667,44.51111111111111,44.51111111111111,44.46666666666667,44.46666666666667],\"line\":{\"color\":\"blue\"},\"lon\":[-110.65555555555555,-110.65555555555555,-110.76666666666667,-110.76666666666667,-110.65555555555555],\"name\":\"33\",\"showlegend\":false,\"type\":\"scattermapbox\"},{\"fill\":\"toself\",\"fillcolor\":\"rgba(135, 206, 235, 0.5)\",\"lat\":[44.51111111111111,44.55555555555556,44.55555555555556,44.51111111111111,44.51111111111111],\"line\":{\"color\":\"blue\"},\"lon\":[-110.65555555555555,-110.65555555555555,-110.76666666666667,-110.76666666666667,-110.65555555555555],\"name\":\"34\",\"showlegend\":false,\"type\":\"scattermapbox\"},{\"fill\":\"toself\",\"fillcolor\":\"rgba(135, 206, 235, 0.5)\",\"lat\":[44.55555555555556,44.6,44.6,44.55555555555556,44.55555555555556],\"line\":{\"color\":\"blue\"},\"lon\":[-110.65555555555555,-110.65555555555555,-110.76666666666667,-110.76666666666667,-110.65555555555555],\"name\":\"35\",\"showlegend\":false,\"type\":\"scattermapbox\"},{\"fill\":\"toself\",\"fillcolor\":\"rgba(135, 206, 235, 0.5)\",\"lat\":[44.2,44.24444444444445,44.24444444444445,44.2,44.2],\"line\":{\"color\":\"blue\"},\"lon\":[-110.54444444444444,-110.54444444444444,-110.65555555555555,-110.65555555555555,-110.54444444444444],\"name\":\"36\",\"showlegend\":false,\"type\":\"scattermapbox\"},{\"fill\":\"toself\",\"fillcolor\":\"rgba(135, 206, 235, 0.5)\",\"lat\":[44.24444444444445,44.28888888888889,44.28888888888889,44.24444444444445,44.24444444444445],\"line\":{\"color\":\"blue\"},\"lon\":[-110.54444444444444,-110.54444444444444,-110.65555555555555,-110.65555555555555,-110.54444444444444],\"name\":\"37\",\"showlegend\":false,\"type\":\"scattermapbox\"},{\"fill\":\"toself\",\"fillcolor\":\"rgba(135, 206, 235, 0.5)\",\"lat\":[44.28888888888889,44.333333333333336,44.333333333333336,44.28888888888889,44.28888888888889],\"line\":{\"color\":\"blue\"},\"lon\":[-110.54444444444444,-110.54444444444444,-110.65555555555555,-110.65555555555555,-110.54444444444444],\"name\":\"38\",\"showlegend\":false,\"type\":\"scattermapbox\"},{\"fill\":\"toself\",\"fillcolor\":\"rgba(135, 206, 235, 0.5)\",\"lat\":[44.333333333333336,44.37777777777778,44.37777777777778,44.333333333333336,44.333333333333336],\"line\":{\"color\":\"blue\"},\"lon\":[-110.54444444444444,-110.54444444444444,-110.65555555555555,-110.65555555555555,-110.54444444444444],\"name\":\"39\",\"showlegend\":false,\"type\":\"scattermapbox\"},{\"fill\":\"toself\",\"fillcolor\":\"rgba(135, 206, 235, 0.5)\",\"lat\":[44.37777777777778,44.422222222222224,44.422222222222224,44.37777777777778,44.37777777777778],\"line\":{\"color\":\"blue\"},\"lon\":[-110.54444444444444,-110.54444444444444,-110.65555555555555,-110.65555555555555,-110.54444444444444],\"name\":\"40\",\"showlegend\":false,\"type\":\"scattermapbox\"},{\"fill\":\"toself\",\"fillcolor\":\"rgba(135, 206, 235, 0.5)\",\"lat\":[44.422222222222224,44.46666666666667,44.46666666666667,44.422222222222224,44.422222222222224],\"line\":{\"color\":\"blue\"},\"lon\":[-110.54444444444444,-110.54444444444444,-110.65555555555555,-110.65555555555555,-110.54444444444444],\"name\":\"41\",\"showlegend\":false,\"type\":\"scattermapbox\"},{\"fill\":\"toself\",\"fillcolor\":\"rgba(135, 206, 235, 0.5)\",\"lat\":[44.46666666666667,44.51111111111111,44.51111111111111,44.46666666666667,44.46666666666667],\"line\":{\"color\":\"blue\"},\"lon\":[-110.54444444444444,-110.54444444444444,-110.65555555555555,-110.65555555555555,-110.54444444444444],\"name\":\"42\",\"showlegend\":false,\"type\":\"scattermapbox\"},{\"fill\":\"toself\",\"fillcolor\":\"rgba(135, 206, 235, 0.5)\",\"lat\":[44.51111111111111,44.55555555555556,44.55555555555556,44.51111111111111,44.51111111111111],\"line\":{\"color\":\"blue\"},\"lon\":[-110.54444444444444,-110.54444444444444,-110.65555555555555,-110.65555555555555,-110.54444444444444],\"name\":\"43\",\"showlegend\":false,\"type\":\"scattermapbox\"},{\"fill\":\"toself\",\"fillcolor\":\"rgba(135, 206, 235, 0.5)\",\"lat\":[44.55555555555556,44.6,44.6,44.55555555555556,44.55555555555556],\"line\":{\"color\":\"blue\"},\"lon\":[-110.54444444444444,-110.54444444444444,-110.65555555555555,-110.65555555555555,-110.54444444444444],\"name\":\"44\",\"showlegend\":false,\"type\":\"scattermapbox\"},{\"fill\":\"toself\",\"fillcolor\":\"rgba(135, 206, 235, 0.5)\",\"lat\":[44.2,44.24444444444445,44.24444444444445,44.2,44.2],\"line\":{\"color\":\"blue\"},\"lon\":[-110.43333333333332,-110.43333333333332,-110.54444444444444,-110.54444444444444,-110.43333333333332],\"name\":\"45\",\"showlegend\":false,\"type\":\"scattermapbox\"},{\"fill\":\"toself\",\"fillcolor\":\"rgba(135, 206, 235, 0.5)\",\"lat\":[44.24444444444445,44.28888888888889,44.28888888888889,44.24444444444445,44.24444444444445],\"line\":{\"color\":\"blue\"},\"lon\":[-110.43333333333332,-110.43333333333332,-110.54444444444444,-110.54444444444444,-110.43333333333332],\"name\":\"46\",\"showlegend\":false,\"type\":\"scattermapbox\"},{\"fill\":\"toself\",\"fillcolor\":\"rgba(135, 206, 235, 0.5)\",\"lat\":[44.28888888888889,44.333333333333336,44.333333333333336,44.28888888888889,44.28888888888889],\"line\":{\"color\":\"blue\"},\"lon\":[-110.43333333333332,-110.43333333333332,-110.54444444444444,-110.54444444444444,-110.43333333333332],\"name\":\"47\",\"showlegend\":false,\"type\":\"scattermapbox\"},{\"fill\":\"toself\",\"fillcolor\":\"rgba(135, 206, 235, 0.5)\",\"lat\":[44.333333333333336,44.37777777777778,44.37777777777778,44.333333333333336,44.333333333333336],\"line\":{\"color\":\"blue\"},\"lon\":[-110.43333333333332,-110.43333333333332,-110.54444444444444,-110.54444444444444,-110.43333333333332],\"name\":\"48\",\"showlegend\":false,\"type\":\"scattermapbox\"},{\"fill\":\"toself\",\"fillcolor\":\"rgba(135, 206, 235, 0.5)\",\"lat\":[44.37777777777778,44.422222222222224,44.422222222222224,44.37777777777778,44.37777777777778],\"line\":{\"color\":\"blue\"},\"lon\":[-110.43333333333332,-110.43333333333332,-110.54444444444444,-110.54444444444444,-110.43333333333332],\"name\":\"49\",\"showlegend\":false,\"type\":\"scattermapbox\"},{\"fill\":\"toself\",\"fillcolor\":\"rgba(135, 206, 235, 0.5)\",\"lat\":[44.422222222222224,44.46666666666667,44.46666666666667,44.422222222222224,44.422222222222224],\"line\":{\"color\":\"blue\"},\"lon\":[-110.43333333333332,-110.43333333333332,-110.54444444444444,-110.54444444444444,-110.43333333333332],\"name\":\"50\",\"showlegend\":false,\"type\":\"scattermapbox\"},{\"fill\":\"toself\",\"fillcolor\":\"rgba(135, 206, 235, 0.5)\",\"lat\":[44.46666666666667,44.51111111111111,44.51111111111111,44.46666666666667,44.46666666666667],\"line\":{\"color\":\"blue\"},\"lon\":[-110.43333333333332,-110.43333333333332,-110.54444444444444,-110.54444444444444,-110.43333333333332],\"name\":\"51\",\"showlegend\":false,\"type\":\"scattermapbox\"},{\"fill\":\"toself\",\"fillcolor\":\"rgba(135, 206, 235, 0.5)\",\"lat\":[44.51111111111111,44.55555555555556,44.55555555555556,44.51111111111111,44.51111111111111],\"line\":{\"color\":\"blue\"},\"lon\":[-110.43333333333332,-110.43333333333332,-110.54444444444444,-110.54444444444444,-110.43333333333332],\"name\":\"52\",\"showlegend\":false,\"type\":\"scattermapbox\"},{\"fill\":\"toself\",\"fillcolor\":\"rgba(135, 206, 235, 0.5)\",\"lat\":[44.55555555555556,44.6,44.6,44.55555555555556,44.55555555555556],\"line\":{\"color\":\"blue\"},\"lon\":[-110.43333333333332,-110.43333333333332,-110.54444444444444,-110.54444444444444,-110.43333333333332],\"name\":\"53\",\"showlegend\":false,\"type\":\"scattermapbox\"},{\"fill\":\"toself\",\"fillcolor\":\"rgba(135, 206, 235, 0.5)\",\"lat\":[44.2,44.24444444444445,44.24444444444445,44.2,44.2],\"line\":{\"color\":\"blue\"},\"lon\":[-110.32222222222222,-110.32222222222222,-110.43333333333332,-110.43333333333332,-110.32222222222222],\"name\":\"54\",\"showlegend\":false,\"type\":\"scattermapbox\"},{\"fill\":\"toself\",\"fillcolor\":\"rgba(135, 206, 235, 0.5)\",\"lat\":[44.24444444444445,44.28888888888889,44.28888888888889,44.24444444444445,44.24444444444445],\"line\":{\"color\":\"blue\"},\"lon\":[-110.32222222222222,-110.32222222222222,-110.43333333333332,-110.43333333333332,-110.32222222222222],\"name\":\"55\",\"showlegend\":false,\"type\":\"scattermapbox\"},{\"fill\":\"toself\",\"fillcolor\":\"rgba(135, 206, 235, 0.5)\",\"lat\":[44.28888888888889,44.333333333333336,44.333333333333336,44.28888888888889,44.28888888888889],\"line\":{\"color\":\"blue\"},\"lon\":[-110.32222222222222,-110.32222222222222,-110.43333333333332,-110.43333333333332,-110.32222222222222],\"name\":\"56\",\"showlegend\":false,\"type\":\"scattermapbox\"},{\"fill\":\"toself\",\"fillcolor\":\"rgba(135, 206, 235, 0.5)\",\"lat\":[44.333333333333336,44.37777777777778,44.37777777777778,44.333333333333336,44.333333333333336],\"line\":{\"color\":\"blue\"},\"lon\":[-110.32222222222222,-110.32222222222222,-110.43333333333332,-110.43333333333332,-110.32222222222222],\"name\":\"57\",\"showlegend\":false,\"type\":\"scattermapbox\"},{\"fill\":\"toself\",\"fillcolor\":\"rgba(135, 206, 235, 0.5)\",\"lat\":[44.37777777777778,44.422222222222224,44.422222222222224,44.37777777777778,44.37777777777778],\"line\":{\"color\":\"blue\"},\"lon\":[-110.32222222222222,-110.32222222222222,-110.43333333333332,-110.43333333333332,-110.32222222222222],\"name\":\"58\",\"showlegend\":false,\"type\":\"scattermapbox\"},{\"fill\":\"toself\",\"fillcolor\":\"rgba(135, 206, 235, 0.5)\",\"lat\":[44.422222222222224,44.46666666666667,44.46666666666667,44.422222222222224,44.422222222222224],\"line\":{\"color\":\"blue\"},\"lon\":[-110.32222222222222,-110.32222222222222,-110.43333333333332,-110.43333333333332,-110.32222222222222],\"name\":\"59\",\"showlegend\":false,\"type\":\"scattermapbox\"},{\"fill\":\"toself\",\"fillcolor\":\"rgba(135, 206, 235, 0.5)\",\"lat\":[44.46666666666667,44.51111111111111,44.51111111111111,44.46666666666667,44.46666666666667],\"line\":{\"color\":\"blue\"},\"lon\":[-110.32222222222222,-110.32222222222222,-110.43333333333332,-110.43333333333332,-110.32222222222222],\"name\":\"60\",\"showlegend\":false,\"type\":\"scattermapbox\"},{\"fill\":\"toself\",\"fillcolor\":\"rgba(135, 206, 235, 0.5)\",\"lat\":[44.51111111111111,44.55555555555556,44.55555555555556,44.51111111111111,44.51111111111111],\"line\":{\"color\":\"blue\"},\"lon\":[-110.32222222222222,-110.32222222222222,-110.43333333333332,-110.43333333333332,-110.32222222222222],\"name\":\"61\",\"showlegend\":false,\"type\":\"scattermapbox\"},{\"fill\":\"toself\",\"fillcolor\":\"rgba(135, 206, 235, 0.5)\",\"lat\":[44.55555555555556,44.6,44.6,44.55555555555556,44.55555555555556],\"line\":{\"color\":\"blue\"},\"lon\":[-110.32222222222222,-110.32222222222222,-110.43333333333332,-110.43333333333332,-110.32222222222222],\"name\":\"62\",\"showlegend\":false,\"type\":\"scattermapbox\"},{\"fill\":\"toself\",\"fillcolor\":\"rgba(135, 206, 235, 0.5)\",\"lat\":[44.2,44.24444444444445,44.24444444444445,44.2,44.2],\"line\":{\"color\":\"blue\"},\"lon\":[-110.21111111111111,-110.21111111111111,-110.32222222222222,-110.32222222222222,-110.21111111111111],\"name\":\"63\",\"showlegend\":false,\"type\":\"scattermapbox\"},{\"fill\":\"toself\",\"fillcolor\":\"rgba(135, 206, 235, 0.5)\",\"lat\":[44.24444444444445,44.28888888888889,44.28888888888889,44.24444444444445,44.24444444444445],\"line\":{\"color\":\"blue\"},\"lon\":[-110.21111111111111,-110.21111111111111,-110.32222222222222,-110.32222222222222,-110.21111111111111],\"name\":\"64\",\"showlegend\":false,\"type\":\"scattermapbox\"},{\"fill\":\"toself\",\"fillcolor\":\"rgba(135, 206, 235, 0.5)\",\"lat\":[44.28888888888889,44.333333333333336,44.333333333333336,44.28888888888889,44.28888888888889],\"line\":{\"color\":\"blue\"},\"lon\":[-110.21111111111111,-110.21111111111111,-110.32222222222222,-110.32222222222222,-110.21111111111111],\"name\":\"65\",\"showlegend\":false,\"type\":\"scattermapbox\"},{\"fill\":\"toself\",\"fillcolor\":\"rgba(135, 206, 235, 0.5)\",\"lat\":[44.333333333333336,44.37777777777778,44.37777777777778,44.333333333333336,44.333333333333336],\"line\":{\"color\":\"blue\"},\"lon\":[-110.21111111111111,-110.21111111111111,-110.32222222222222,-110.32222222222222,-110.21111111111111],\"name\":\"66\",\"showlegend\":false,\"type\":\"scattermapbox\"},{\"fill\":\"toself\",\"fillcolor\":\"rgba(135, 206, 235, 0.5)\",\"lat\":[44.37777777777778,44.422222222222224,44.422222222222224,44.37777777777778,44.37777777777778],\"line\":{\"color\":\"blue\"},\"lon\":[-110.21111111111111,-110.21111111111111,-110.32222222222222,-110.32222222222222,-110.21111111111111],\"name\":\"67\",\"showlegend\":false,\"type\":\"scattermapbox\"},{\"fill\":\"toself\",\"fillcolor\":\"rgba(135, 206, 235, 0.5)\",\"lat\":[44.422222222222224,44.46666666666667,44.46666666666667,44.422222222222224,44.422222222222224],\"line\":{\"color\":\"blue\"},\"lon\":[-110.21111111111111,-110.21111111111111,-110.32222222222222,-110.32222222222222,-110.21111111111111],\"name\":\"68\",\"showlegend\":false,\"type\":\"scattermapbox\"},{\"fill\":\"toself\",\"fillcolor\":\"rgba(135, 206, 235, 0.5)\",\"lat\":[44.46666666666667,44.51111111111111,44.51111111111111,44.46666666666667,44.46666666666667],\"line\":{\"color\":\"blue\"},\"lon\":[-110.21111111111111,-110.21111111111111,-110.32222222222222,-110.32222222222222,-110.21111111111111],\"name\":\"69\",\"showlegend\":false,\"type\":\"scattermapbox\"},{\"fill\":\"toself\",\"fillcolor\":\"rgba(135, 206, 235, 0.5)\",\"lat\":[44.51111111111111,44.55555555555556,44.55555555555556,44.51111111111111,44.51111111111111],\"line\":{\"color\":\"blue\"},\"lon\":[-110.21111111111111,-110.21111111111111,-110.32222222222222,-110.32222222222222,-110.21111111111111],\"name\":\"70\",\"showlegend\":false,\"type\":\"scattermapbox\"},{\"fill\":\"toself\",\"fillcolor\":\"rgba(135, 206, 235, 0.5)\",\"lat\":[44.55555555555556,44.6,44.6,44.55555555555556,44.55555555555556],\"line\":{\"color\":\"blue\"},\"lon\":[-110.21111111111111,-110.21111111111111,-110.32222222222222,-110.32222222222222,-110.21111111111111],\"name\":\"71\",\"showlegend\":false,\"type\":\"scattermapbox\"},{\"fill\":\"toself\",\"fillcolor\":\"rgba(135, 206, 235, 0.5)\",\"lat\":[44.2,44.24444444444445,44.24444444444445,44.2,44.2],\"line\":{\"color\":\"blue\"},\"lon\":[-110.1,-110.1,-110.21111111111111,-110.21111111111111,-110.1],\"name\":\"72\",\"showlegend\":false,\"type\":\"scattermapbox\"},{\"fill\":\"toself\",\"fillcolor\":\"rgba(135, 206, 235, 0.5)\",\"lat\":[44.24444444444445,44.28888888888889,44.28888888888889,44.24444444444445,44.24444444444445],\"line\":{\"color\":\"blue\"},\"lon\":[-110.1,-110.1,-110.21111111111111,-110.21111111111111,-110.1],\"name\":\"73\",\"showlegend\":false,\"type\":\"scattermapbox\"},{\"fill\":\"toself\",\"fillcolor\":\"rgba(135, 206, 235, 0.5)\",\"lat\":[44.28888888888889,44.333333333333336,44.333333333333336,44.28888888888889,44.28888888888889],\"line\":{\"color\":\"blue\"},\"lon\":[-110.1,-110.1,-110.21111111111111,-110.21111111111111,-110.1],\"name\":\"74\",\"showlegend\":false,\"type\":\"scattermapbox\"},{\"fill\":\"toself\",\"fillcolor\":\"rgba(135, 206, 235, 0.5)\",\"lat\":[44.333333333333336,44.37777777777778,44.37777777777778,44.333333333333336,44.333333333333336],\"line\":{\"color\":\"blue\"},\"lon\":[-110.1,-110.1,-110.21111111111111,-110.21111111111111,-110.1],\"name\":\"75\",\"showlegend\":false,\"type\":\"scattermapbox\"},{\"fill\":\"toself\",\"fillcolor\":\"rgba(135, 206, 235, 0.5)\",\"lat\":[44.37777777777778,44.422222222222224,44.422222222222224,44.37777777777778,44.37777777777778],\"line\":{\"color\":\"blue\"},\"lon\":[-110.1,-110.1,-110.21111111111111,-110.21111111111111,-110.1],\"name\":\"76\",\"showlegend\":false,\"type\":\"scattermapbox\"},{\"fill\":\"toself\",\"fillcolor\":\"rgba(135, 206, 235, 0.5)\",\"lat\":[44.422222222222224,44.46666666666667,44.46666666666667,44.422222222222224,44.422222222222224],\"line\":{\"color\":\"blue\"},\"lon\":[-110.1,-110.1,-110.21111111111111,-110.21111111111111,-110.1],\"name\":\"77\",\"showlegend\":false,\"type\":\"scattermapbox\"},{\"fill\":\"toself\",\"fillcolor\":\"rgba(135, 206, 235, 0.5)\",\"lat\":[44.46666666666667,44.51111111111111,44.51111111111111,44.46666666666667,44.46666666666667],\"line\":{\"color\":\"blue\"},\"lon\":[-110.1,-110.1,-110.21111111111111,-110.21111111111111,-110.1],\"name\":\"78\",\"showlegend\":false,\"type\":\"scattermapbox\"},{\"fill\":\"toself\",\"fillcolor\":\"rgba(135, 206, 235, 0.5)\",\"lat\":[44.51111111111111,44.55555555555556,44.55555555555556,44.51111111111111,44.51111111111111],\"line\":{\"color\":\"blue\"},\"lon\":[-110.1,-110.1,-110.21111111111111,-110.21111111111111,-110.1],\"name\":\"79\",\"showlegend\":false,\"type\":\"scattermapbox\"},{\"fill\":\"toself\",\"fillcolor\":\"rgba(135, 206, 235, 0.5)\",\"lat\":[44.55555555555556,44.6,44.6,44.55555555555556,44.55555555555556],\"line\":{\"color\":\"blue\"},\"lon\":[-110.1,-110.1,-110.21111111111111,-110.21111111111111,-110.1],\"name\":\"80\",\"showlegend\":false,\"type\":\"scattermapbox\"},{\"fill\":\"toself\",\"fillcolor\":\"rgba(128, 128, 128, 0.5)\",\"lat\":[44.4488,44.599,44.5166,44.428,44.4488],\"line\":{\"color\":\"black\"},\"lon\":[-110.839,-110.7052,-110.5339,-110.5885,-110.839],\"name\":\"Yellowstone National Park\",\"type\":\"scattermapbox\"},{\"fill\":\"toself\",\"fillcolor\":\"rgba(128, 128, 128, 0.5)\",\"lat\":[37.7244,37.6962,37.7799,37.8456,37.8651,37.7244],\"line\":{\"color\":\"black\"},\"lon\":[-119.655,-119.5964,-119.4893,-119.3029,-119.5383,-119.655],\"name\":\"Yosemite National Park\",\"type\":\"scattermapbox\"},{\"fill\":\"toself\",\"fillcolor\":\"rgba(128, 128, 128, 0.5)\",\"lat\":[36.1336,36.2331,36.2861,36.1182,36.057,36.1336],\"line\":{\"color\":\"black\"},\"lon\":[-112.1861,-112.2156,-112.0969,-111.8205,-112.1214,-112.1861],\"name\":\"Grand Canyon National Park\",\"type\":\"scattermapbox\"},{\"hoverinfo\":\"text\",\"lat\":[45.40394376966061,44.312799532119016,44.425805687816776],\"lon\":[-110.57616849981925,-110.78124177861687,-109.90552343338386],\"marker\":{\"color\":0,\"size\":10},\"mode\":\"markers\",\"name\":\"Wolf\",\"showlegend\":true,\"text\":[\"Animal ID: A001\\u003cbr\\u003eScientific Name: Canis lupus\\u003cbr\\u003eRedlist Category: Least Concern\\u003cbr\\u003eMegafauna: False\\u003cbr\\u003eLatitude: 45.40394376966061\\u003cbr\\u003eLongitude: -110.57616849981925\",\"Animal ID: A001\\u003cbr\\u003eScientific Name: Canis lupus\\u003cbr\\u003eRedlist Category: Least Concern\\u003cbr\\u003eMegafauna: False\\u003cbr\\u003eLatitude: 44.312799532119016\\u003cbr\\u003eLongitude: -110.78124177861687\",\"Animal ID: A001\\u003cbr\\u003eScientific Name: Canis lupus\\u003cbr\\u003eRedlist Category: Least Concern\\u003cbr\\u003eMegafauna: False\\u003cbr\\u003eLatitude: 44.425805687816776\\u003cbr\\u003eLongitude: -109.90552343338386\"],\"type\":\"scattermapbox\"},{\"hoverinfo\":\"text\",\"lat\":[44.59045316082347,44.515383666530255,44.20621968157634],\"lon\":[-110.56900631340376,-110.63915562451272,-110.71010795747833],\"marker\":{\"color\":1,\"size\":10},\"mode\":\"markers\",\"name\":\"Bison\",\"showlegend\":true,\"text\":[\"Animal ID: A002\\u003cbr\\u003eScientific Name: Bison bison\\u003cbr\\u003eRedlist Category: Vulnerable\\u003cbr\\u003eMegafauna: True\\u003cbr\\u003eLatitude: 44.59045316082347\\u003cbr\\u003eLongitude: -110.56900631340376\",\"Animal ID: A002\\u003cbr\\u003eScientific Name: Bison bison\\u003cbr\\u003eRedlist Category: Vulnerable\\u003cbr\\u003eMegafauna: True\\u003cbr\\u003eLatitude: 44.515383666530255\\u003cbr\\u003eLongitude: -110.63915562451272\",\"Animal ID: A002\\u003cbr\\u003eScientific Name: Bison bison\\u003cbr\\u003eRedlist Category: Vulnerable\\u003cbr\\u003eMegafauna: True\\u003cbr\\u003eLatitude: 44.20621968157634\\u003cbr\\u003eLongitude: -110.71010795747833\"],\"type\":\"scattermapbox\"},{\"hoverinfo\":\"text\",\"lat\":[44.556320492450084,44.611659472055166,44.34722686484955],\"lon\":[-110.99952224248756,-110.78091510640935,-110.99483182664008],\"marker\":{\"color\":2,\"size\":10},\"mode\":\"markers\",\"name\":\"Elk\",\"showlegend\":true,\"text\":[\"Animal ID: A003\\u003cbr\\u003eScientific Name: Cervus canadensis\\u003cbr\\u003eRedlist Category: Least Concern\\u003cbr\\u003eMegafauna: True\\u003cbr\\u003eLatitude: 44.556320492450084\\u003cbr\\u003eLongitude: -110.99952224248756\",\"Animal ID: A003\\u003cbr\\u003eScientific Name: Cervus canadensis\\u003cbr\\u003eRedlist Category: Least Concern\\u003cbr\\u003eMegafauna: True\\u003cbr\\u003eLatitude: 44.611659472055166\\u003cbr\\u003eLongitude: -110.78091510640935\",\"Animal ID: A003\\u003cbr\\u003eScientific Name: Cervus canadensis\\u003cbr\\u003eRedlist Category: Least Concern\\u003cbr\\u003eMegafauna: True\\u003cbr\\u003eLatitude: 44.34722686484955\\u003cbr\\u003eLongitude: -110.99483182664008\"],\"type\":\"scattermapbox\"},{\"hoverinfo\":\"text\",\"lat\":[37.90776515620409,37.91852997134804,37.91838912040377],\"lon\":[-119.849474984859,-119.63756758360483,-119.64661447612606],\"marker\":{\"color\":3,\"size\":10},\"mode\":\"markers\",\"name\":\"Sierra Nevada bighorn sheep\",\"showlegend\":true,\"text\":[\"Animal ID: A004\\u003cbr\\u003eScientific Name: Ovis canadensis sierrae\\u003cbr\\u003eRedlist Category: Endangered\\u003cbr\\u003eMegafauna: False\\u003cbr\\u003eLatitude: 37.90776515620409\\u003cbr\\u003eLongitude: -119.849474984859\",\"Animal ID: A004\\u003cbr\\u003eScientific Name: Ovis canadensis sierrae\\u003cbr\\u003eRedlist Category: Endangered\\u003cbr\\u003eMegafauna: False\\u003cbr\\u003eLatitude: 37.91852997134804\\u003cbr\\u003eLongitude: -119.63756758360483\",\"Animal ID: A004\\u003cbr\\u003eScientific Name: Ovis canadensis sierrae\\u003cbr\\u003eRedlist Category: Endangered\\u003cbr\\u003eMegafauna: False\\u003cbr\\u003eLatitude: 37.91838912040377\\u003cbr\\u003eLongitude: -119.64661447612606\"],\"type\":\"scattermapbox\"},{\"hoverinfo\":\"text\",\"lat\":[37.65235009603704,37.80223948229645,37.67898392336359],\"lon\":[-119.59118475827995,-119.652958619999,-119.67314694035353],\"marker\":{\"color\":4,\"size\":10},\"mode\":\"markers\",\"name\":\"Sierra Nevada red fox\",\"showlegend\":true,\"text\":[\"Animal ID: A005\\u003cbr\\u003eScientific Name: Vulpes vulpes necator\\u003cbr\\u003eRedlist Category: Critically Endangered\\u003cbr\\u003eMegafauna: False\\u003cbr\\u003eLatitude: 37.65235009603704\\u003cbr\\u003eLongitude: -119.59118475827995\",\"Animal ID: A005\\u003cbr\\u003eScientific Name: Vulpes vulpes necator\\u003cbr\\u003eRedlist Category: Critically Endangered\\u003cbr\\u003eMegafauna: False\\u003cbr\\u003eLatitude: 37.80223948229645\\u003cbr\\u003eLongitude: -119.652958619999\",\"Animal ID: A005\\u003cbr\\u003eScientific Name: Vulpes vulpes necator\\u003cbr\\u003eRedlist Category: Critically Endangered\\u003cbr\\u003eMegafauna: False\\u003cbr\\u003eLatitude: 37.67898392336359\\u003cbr\\u003eLongitude: -119.67314694035353\"],\"type\":\"scattermapbox\"},{\"hoverinfo\":\"text\",\"lat\":[37.90710890654279,37.7949167615148,37.94375417864019],\"lon\":[-119.76970567309938,-119.65045298881651,-119.75391741132324],\"marker\":{\"color\":5,\"size\":10},\"mode\":\"markers\",\"name\":\"Bobcat\",\"showlegend\":true,\"text\":[\"Animal ID: A006\\u003cbr\\u003eScientific Name: Lynx rufus\\u003cbr\\u003eRedlist Category: Least Concern\\u003cbr\\u003eMegafauna: True\\u003cbr\\u003eLatitude: 37.90710890654279\\u003cbr\\u003eLongitude: -119.76970567309938\",\"Animal ID: A006\\u003cbr\\u003eScientific Name: Lynx rufus\\u003cbr\\u003eRedlist Category: Least Concern\\u003cbr\\u003eMegafauna: True\\u003cbr\\u003eLatitude: 37.7949167615148\\u003cbr\\u003eLongitude: -119.65045298881651\",\"Animal ID: A006\\u003cbr\\u003eScientific Name: Lynx rufus\\u003cbr\\u003eRedlist Category: Least Concern\\u003cbr\\u003eMegafauna: True\\u003cbr\\u003eLatitude: 37.94375417864019\\u003cbr\\u003eLongitude: -119.75391741132324\"],\"type\":\"scattermapbox\"},{\"hoverinfo\":\"text\",\"lat\":[36.26397056456099,36.58913067928438,36.266161801035054],\"lon\":[-113.21193434307746,-112.23087170017679,-112.09494838239584],\"marker\":{\"color\":6,\"size\":10},\"mode\":\"markers\",\"name\":\"Mule deer\",\"showlegend\":true,\"text\":[\"Animal ID: A007\\u003cbr\\u003eScientific Name: Odocoileus hemionus\\u003cbr\\u003eRedlist Category: Least Concern\\u003cbr\\u003eMegafauna: True\\u003cbr\\u003eLatitude: 36.26397056456099\\u003cbr\\u003eLongitude: -113.21193434307746\",\"Animal ID: A007\\u003cbr\\u003eScientific Name: Odocoileus hemionus\\u003cbr\\u003eRedlist Category: Least Concern\\u003cbr\\u003eMegafauna: True\\u003cbr\\u003eLatitude: 36.58913067928438\\u003cbr\\u003eLongitude: -112.23087170017679\",\"Animal ID: A007\\u003cbr\\u003eScientific Name: Odocoileus hemionus\\u003cbr\\u003eRedlist Category: Least Concern\\u003cbr\\u003eMegafauna: True\\u003cbr\\u003eLatitude: 36.266161801035054\\u003cbr\\u003eLongitude: -112.09494838239584\"],\"type\":\"scattermapbox\"},{\"hoverinfo\":\"text\",\"lat\":[36.59320410857596,36.69956402892489,36.64308551747246],\"lon\":[-112.34773239902562,-112.32163967709154,-112.80695651153275],\"marker\":{\"color\":7,\"size\":10},\"mode\":\"markers\",\"name\":\"Desert bighorn sheep\",\"showlegend\":true,\"text\":[\"Animal ID: A008\\u003cbr\\u003eScientific Name: Ovis canadensis nelsoni\\u003cbr\\u003eRedlist Category: Near Threatened\\u003cbr\\u003eMegafauna: True\\u003cbr\\u003eLatitude: 36.59320410857596\\u003cbr\\u003eLongitude: -112.34773239902562\",\"Animal ID: A008\\u003cbr\\u003eScientific Name: Ovis canadensis nelsoni\\u003cbr\\u003eRedlist Category: Near Threatened\\u003cbr\\u003eMegafauna: True\\u003cbr\\u003eLatitude: 36.69956402892489\\u003cbr\\u003eLongitude: -112.32163967709154\",\"Animal ID: A008\\u003cbr\\u003eScientific Name: Ovis canadensis nelsoni\\u003cbr\\u003eRedlist Category: Near Threatened\\u003cbr\\u003eMegafauna: True\\u003cbr\\u003eLatitude: 36.64308551747246\\u003cbr\\u003eLongitude: -112.80695651153275\"],\"type\":\"scattermapbox\"},{\"hoverinfo\":\"text\",\"lat\":[36.43100043599815,36.47367449672423,36.57025822088406],\"lon\":[-112.0590397421836,-112.22462393965932,-112.48184643909867],\"marker\":{\"color\":8,\"size\":10},\"mode\":\"markers\",\"name\":\"Gray fox\",\"showlegend\":true,\"text\":[\"Animal ID: A009\\u003cbr\\u003eScientific Name: Urocyon cinereoargenteus\\u003cbr\\u003eRedlist Category: Least Concern\\u003cbr\\u003eMegafauna: True\\u003cbr\\u003eLatitude: 36.43100043599815\\u003cbr\\u003eLongitude: -112.0590397421836\",\"Animal ID: A009\\u003cbr\\u003eScientific Name: Urocyon cinereoargenteus\\u003cbr\\u003eRedlist Category: Least Concern\\u003cbr\\u003eMegafauna: True\\u003cbr\\u003eLatitude: 36.47367449672423\\u003cbr\\u003eLongitude: -112.22462393965932\",\"Animal ID: A009\\u003cbr\\u003eScientific Name: Urocyon cinereoargenteus\\u003cbr\\u003eRedlist Category: Least Concern\\u003cbr\\u003eMegafauna: True\\u003cbr\\u003eLatitude: 36.57025822088406\\u003cbr\\u003eLongitude: -112.48184643909867\"],\"type\":\"scattermapbox\"}],                        {\"template\":{\"data\":{\"histogram2dcontour\":[{\"type\":\"histogram2dcontour\",\"colorbar\":{\"outlinewidth\":0,\"ticks\":\"\"},\"colorscale\":[[0.0,\"#0d0887\"],[0.1111111111111111,\"#46039f\"],[0.2222222222222222,\"#7201a8\"],[0.3333333333333333,\"#9c179e\"],[0.4444444444444444,\"#bd3786\"],[0.5555555555555556,\"#d8576b\"],[0.6666666666666666,\"#ed7953\"],[0.7777777777777778,\"#fb9f3a\"],[0.8888888888888888,\"#fdca26\"],[1.0,\"#f0f921\"]]}],\"choropleth\":[{\"type\":\"choropleth\",\"colorbar\":{\"outlinewidth\":0,\"ticks\":\"\"}}],\"histogram2d\":[{\"type\":\"histogram2d\",\"colorbar\":{\"outlinewidth\":0,\"ticks\":\"\"},\"colorscale\":[[0.0,\"#0d0887\"],[0.1111111111111111,\"#46039f\"],[0.2222222222222222,\"#7201a8\"],[0.3333333333333333,\"#9c179e\"],[0.4444444444444444,\"#bd3786\"],[0.5555555555555556,\"#d8576b\"],[0.6666666666666666,\"#ed7953\"],[0.7777777777777778,\"#fb9f3a\"],[0.8888888888888888,\"#fdca26\"],[1.0,\"#f0f921\"]]}],\"heatmap\":[{\"type\":\"heatmap\",\"colorbar\":{\"outlinewidth\":0,\"ticks\":\"\"},\"colorscale\":[[0.0,\"#0d0887\"],[0.1111111111111111,\"#46039f\"],[0.2222222222222222,\"#7201a8\"],[0.3333333333333333,\"#9c179e\"],[0.4444444444444444,\"#bd3786\"],[0.5555555555555556,\"#d8576b\"],[0.6666666666666666,\"#ed7953\"],[0.7777777777777778,\"#fb9f3a\"],[0.8888888888888888,\"#fdca26\"],[1.0,\"#f0f921\"]]}],\"heatmapgl\":[{\"type\":\"heatmapgl\",\"colorbar\":{\"outlinewidth\":0,\"ticks\":\"\"},\"colorscale\":[[0.0,\"#0d0887\"],[0.1111111111111111,\"#46039f\"],[0.2222222222222222,\"#7201a8\"],[0.3333333333333333,\"#9c179e\"],[0.4444444444444444,\"#bd3786\"],[0.5555555555555556,\"#d8576b\"],[0.6666666666666666,\"#ed7953\"],[0.7777777777777778,\"#fb9f3a\"],[0.8888888888888888,\"#fdca26\"],[1.0,\"#f0f921\"]]}],\"contourcarpet\":[{\"type\":\"contourcarpet\",\"colorbar\":{\"outlinewidth\":0,\"ticks\":\"\"}}],\"contour\":[{\"type\":\"contour\",\"colorbar\":{\"outlinewidth\":0,\"ticks\":\"\"},\"colorscale\":[[0.0,\"#0d0887\"],[0.1111111111111111,\"#46039f\"],[0.2222222222222222,\"#7201a8\"],[0.3333333333333333,\"#9c179e\"],[0.4444444444444444,\"#bd3786\"],[0.5555555555555556,\"#d8576b\"],[0.6666666666666666,\"#ed7953\"],[0.7777777777777778,\"#fb9f3a\"],[0.8888888888888888,\"#fdca26\"],[1.0,\"#f0f921\"]]}],\"surface\":[{\"type\":\"surface\",\"colorbar\":{\"outlinewidth\":0,\"ticks\":\"\"},\"colorscale\":[[0.0,\"#0d0887\"],[0.1111111111111111,\"#46039f\"],[0.2222222222222222,\"#7201a8\"],[0.3333333333333333,\"#9c179e\"],[0.4444444444444444,\"#bd3786\"],[0.5555555555555556,\"#d8576b\"],[0.6666666666666666,\"#ed7953\"],[0.7777777777777778,\"#fb9f3a\"],[0.8888888888888888,\"#fdca26\"],[1.0,\"#f0f921\"]]}],\"mesh3d\":[{\"type\":\"mesh3d\",\"colorbar\":{\"outlinewidth\":0,\"ticks\":\"\"}}],\"scatter\":[{\"fillpattern\":{\"fillmode\":\"overlay\",\"size\":10,\"solidity\":0.2},\"type\":\"scatter\"}],\"parcoords\":[{\"type\":\"parcoords\",\"line\":{\"colorbar\":{\"outlinewidth\":0,\"ticks\":\"\"}}}],\"scatterpolargl\":[{\"type\":\"scatterpolargl\",\"marker\":{\"colorbar\":{\"outlinewidth\":0,\"ticks\":\"\"}}}],\"bar\":[{\"error_x\":{\"color\":\"#2a3f5f\"},\"error_y\":{\"color\":\"#2a3f5f\"},\"marker\":{\"line\":{\"color\":\"#E5ECF6\",\"width\":0.5},\"pattern\":{\"fillmode\":\"overlay\",\"size\":10,\"solidity\":0.2}},\"type\":\"bar\"}],\"scattergeo\":[{\"type\":\"scattergeo\",\"marker\":{\"colorbar\":{\"outlinewidth\":0,\"ticks\":\"\"}}}],\"scatterpolar\":[{\"type\":\"scatterpolar\",\"marker\":{\"colorbar\":{\"outlinewidth\":0,\"ticks\":\"\"}}}],\"histogram\":[{\"marker\":{\"pattern\":{\"fillmode\":\"overlay\",\"size\":10,\"solidity\":0.2}},\"type\":\"histogram\"}],\"scattergl\":[{\"type\":\"scattergl\",\"marker\":{\"colorbar\":{\"outlinewidth\":0,\"ticks\":\"\"}}}],\"scatter3d\":[{\"type\":\"scatter3d\",\"line\":{\"colorbar\":{\"outlinewidth\":0,\"ticks\":\"\"}},\"marker\":{\"colorbar\":{\"outlinewidth\":0,\"ticks\":\"\"}}}],\"scattermapbox\":[{\"type\":\"scattermapbox\",\"marker\":{\"colorbar\":{\"outlinewidth\":0,\"ticks\":\"\"}}}],\"scatterternary\":[{\"type\":\"scatterternary\",\"marker\":{\"colorbar\":{\"outlinewidth\":0,\"ticks\":\"\"}}}],\"scattercarpet\":[{\"type\":\"scattercarpet\",\"marker\":{\"colorbar\":{\"outlinewidth\":0,\"ticks\":\"\"}}}],\"carpet\":[{\"aaxis\":{\"endlinecolor\":\"#2a3f5f\",\"gridcolor\":\"white\",\"linecolor\":\"white\",\"minorgridcolor\":\"white\",\"startlinecolor\":\"#2a3f5f\"},\"baxis\":{\"endlinecolor\":\"#2a3f5f\",\"gridcolor\":\"white\",\"linecolor\":\"white\",\"minorgridcolor\":\"white\",\"startlinecolor\":\"#2a3f5f\"},\"type\":\"carpet\"}],\"table\":[{\"cells\":{\"fill\":{\"color\":\"#EBF0F8\"},\"line\":{\"color\":\"white\"}},\"header\":{\"fill\":{\"color\":\"#C8D4E3\"},\"line\":{\"color\":\"white\"}},\"type\":\"table\"}],\"barpolar\":[{\"marker\":{\"line\":{\"color\":\"#E5ECF6\",\"width\":0.5},\"pattern\":{\"fillmode\":\"overlay\",\"size\":10,\"solidity\":0.2}},\"type\":\"barpolar\"}],\"pie\":[{\"automargin\":true,\"type\":\"pie\"}]},\"layout\":{\"autotypenumbers\":\"strict\",\"colorway\":[\"#636efa\",\"#EF553B\",\"#00cc96\",\"#ab63fa\",\"#FFA15A\",\"#19d3f3\",\"#FF6692\",\"#B6E880\",\"#FF97FF\",\"#FECB52\"],\"font\":{\"color\":\"#2a3f5f\"},\"hovermode\":\"closest\",\"hoverlabel\":{\"align\":\"left\"},\"paper_bgcolor\":\"white\",\"plot_bgcolor\":\"#E5ECF6\",\"polar\":{\"bgcolor\":\"#E5ECF6\",\"angularaxis\":{\"gridcolor\":\"white\",\"linecolor\":\"white\",\"ticks\":\"\"},\"radialaxis\":{\"gridcolor\":\"white\",\"linecolor\":\"white\",\"ticks\":\"\"}},\"ternary\":{\"bgcolor\":\"#E5ECF6\",\"aaxis\":{\"gridcolor\":\"white\",\"linecolor\":\"white\",\"ticks\":\"\"},\"baxis\":{\"gridcolor\":\"white\",\"linecolor\":\"white\",\"ticks\":\"\"},\"caxis\":{\"gridcolor\":\"white\",\"linecolor\":\"white\",\"ticks\":\"\"}},\"coloraxis\":{\"colorbar\":{\"outlinewidth\":0,\"ticks\":\"\"}},\"colorscale\":{\"sequential\":[[0.0,\"#0d0887\"],[0.1111111111111111,\"#46039f\"],[0.2222222222222222,\"#7201a8\"],[0.3333333333333333,\"#9c179e\"],[0.4444444444444444,\"#bd3786\"],[0.5555555555555556,\"#d8576b\"],[0.6666666666666666,\"#ed7953\"],[0.7777777777777778,\"#fb9f3a\"],[0.8888888888888888,\"#fdca26\"],[1.0,\"#f0f921\"]],\"sequentialminus\":[[0.0,\"#0d0887\"],[0.1111111111111111,\"#46039f\"],[0.2222222222222222,\"#7201a8\"],[0.3333333333333333,\"#9c179e\"],[0.4444444444444444,\"#bd3786\"],[0.5555555555555556,\"#d8576b\"],[0.6666666666666666,\"#ed7953\"],[0.7777777777777778,\"#fb9f3a\"],[0.8888888888888888,\"#fdca26\"],[1.0,\"#f0f921\"]],\"diverging\":[[0,\"#8e0152\"],[0.1,\"#c51b7d\"],[0.2,\"#de77ae\"],[0.3,\"#f1b6da\"],[0.4,\"#fde0ef\"],[0.5,\"#f7f7f7\"],[0.6,\"#e6f5d0\"],[0.7,\"#b8e186\"],[0.8,\"#7fbc41\"],[0.9,\"#4d9221\"],[1,\"#276419\"]]},\"xaxis\":{\"gridcolor\":\"white\",\"linecolor\":\"white\",\"ticks\":\"\",\"title\":{\"standoff\":15},\"zerolinecolor\":\"white\",\"automargin\":true,\"zerolinewidth\":2},\"yaxis\":{\"gridcolor\":\"white\",\"linecolor\":\"white\",\"ticks\":\"\",\"title\":{\"standoff\":15},\"zerolinecolor\":\"white\",\"automargin\":true,\"zerolinewidth\":2},\"scene\":{\"xaxis\":{\"backgroundcolor\":\"#E5ECF6\",\"gridcolor\":\"white\",\"linecolor\":\"white\",\"showbackground\":true,\"ticks\":\"\",\"zerolinecolor\":\"white\",\"gridwidth\":2},\"yaxis\":{\"backgroundcolor\":\"#E5ECF6\",\"gridcolor\":\"white\",\"linecolor\":\"white\",\"showbackground\":true,\"ticks\":\"\",\"zerolinecolor\":\"white\",\"gridwidth\":2},\"zaxis\":{\"backgroundcolor\":\"#E5ECF6\",\"gridcolor\":\"white\",\"linecolor\":\"white\",\"showbackground\":true,\"ticks\":\"\",\"zerolinecolor\":\"white\",\"gridwidth\":2}},\"shapedefaults\":{\"line\":{\"color\":\"#2a3f5f\"}},\"annotationdefaults\":{\"arrowcolor\":\"#2a3f5f\",\"arrowhead\":0,\"arrowwidth\":1},\"geo\":{\"bgcolor\":\"white\",\"landcolor\":\"#E5ECF6\",\"subunitcolor\":\"white\",\"showland\":true,\"showlakes\":true,\"lakecolor\":\"white\"},\"title\":{\"x\":0.05},\"mapbox\":{\"style\":\"light\"}}},\"mapbox\":{\"style\":\"open-street-map\",\"center\":{\"lat\":44.4,\"lon\":-110.6},\"zoom\":8}},                        {\"scrollZoom\": true, \"responsive\": true}                    ).then(function(){\n",
       "                            \n",
       "var gd = document.getElementById('10b91d52-4743-4984-9d36-b1aa7596baaf');\n",
       "var x = new MutationObserver(function (mutations, observer) {{\n",
       "        var display = window.getComputedStyle(gd).display;\n",
       "        if (!display || display === 'none') {{\n",
       "            console.log([gd, 'removed!']);\n",
       "            Plotly.purge(gd);\n",
       "            observer.disconnect();\n",
       "        }}\n",
       "}});\n",
       "\n",
       "// Listen for the removal of the full notebook cells\n",
       "var notebookContainer = gd.closest('#notebook-container');\n",
       "if (notebookContainer) {{\n",
       "    x.observe(notebookContainer, {childList: true});\n",
       "}}\n",
       "\n",
       "// Listen for the clearing of the current output cell\n",
       "var outputEl = gd.closest('.output');\n",
       "if (outputEl) {{\n",
       "    x.observe(outputEl, {childList: true});\n",
       "}}\n",
       "\n",
       "                        })                };                });            </script>        </div>"
      ]
     },
     "metadata": {},
     "output_type": "display_data"
    }
   ],
   "source": [
    "fig = plot_region(mesh_gdf)\n",
    "fig = plot_t(satellites_dict, protected_areas_gdf, animal_full_synthetic_gdf, fig=fig, time='2024-09-02')\n",
    "fig.show(config=defualt_plotly_config)"
   ]
  },
  {
   "cell_type": "code",
   "execution_count": 581,
   "id": "d8961e02",
   "metadata": {},
   "outputs": [
    {
     "data": {
      "text/plain": [
       "date        region_id\n",
       "2024-09-01  16.0         1\n",
       "            18.0         1\n",
       "            22.0         1\n",
       "            25.0         1\n",
       "            34.0         1\n",
       "            35.0         1\n",
       "            77.0         1\n",
       "2024-09-02  4.0          1\n",
       "            7.0          1\n",
       "            19.0         1\n",
       "            29.0         1\n",
       "            34.0         1\n",
       "            35.0         1\n",
       "2024-09-03  2.0          1\n",
       "            7.0          1\n",
       "            13.0         1\n",
       "            23.0         1\n",
       "            25.0         1\n",
       "            42.0         1\n",
       "            52.0         1\n",
       "2024-09-04  10.0         1\n",
       "            23.0         1\n",
       "            25.0         1\n",
       "            30.0         1\n",
       "            42.0         1\n",
       "            52.0         1\n",
       "            75.0         1\n",
       "2024-09-05  24.0         2\n",
       "            26.0         1\n",
       "            33.0         1\n",
       "            34.0         1\n",
       "            78.0         1\n",
       "2024-09-06  1.0          1\n",
       "            14.0         1\n",
       "            21.0         1\n",
       "            41.0         1\n",
       "            42.0         1\n",
       "            53.0         1\n",
       "            77.0         1\n",
       "dtype: int64"
      ]
     },
     "execution_count": 581,
     "metadata": {},
     "output_type": "execute_result"
    }
   ],
   "source": [
    "# some data points is not in the designed region, hence, there is no region index\n",
    "animal_full_synthetic_gdf.dropna(inplace=True) \n",
    "animal_full_synthetic_gdf.groupby(['date', 'region_id']).size()"
   ]
  },
  {
   "cell_type": "markdown",
   "id": "9f41d3c2",
   "metadata": {},
   "source": [
    "## Discussion and models"
   ]
  },
  {
   "cell_type": "markdown",
   "id": "9b9a6fe6",
   "metadata": {},
   "source": [
    "![title](output/Cultivo_v4.png)"
   ]
  },
  {
   "attachments": {},
   "cell_type": "markdown",
   "id": "f1f8d389",
   "metadata": {},
   "source": [
    "General concerns:\n",
    "1. Time scale: \n",
    "Different research topics and use cases necessitate distinct time scales, which can range from hourly to annually. For instance, wildfires—an urgent issue in California—can rapidly degrade the environment, making hourly updates suitable. In contrast, pollution often requires a longer time scale to observe patterns effectively. Therefore, during the data flow process, data aggregation becomes essential.\n",
    "\n",
    "\n",
    "2. Storage Considerations: \n",
    "Storage capacity is a critical factor, especially as research scales up. It is important to estimate storage requirements early in the process. For example, the datasets animals.csv and protected_areas.json tend to be static and will not increase significantly in size. Conversely, streamed images will demand substantial storage. For instance, if satellite images from SAT003 may require approximately 1 MB per image, resulting in a total storage requirement of around 8.5 GB per year (1 MB/image * 1 image/hour * 24 hours/day * 365 days/year). Similarly, images from wildlife cameras may require about 171 GB per year (1 MB/image * 20 images/hour * 24 hours/day * 365 days/year). In total, we might need approximately 200 GB of storage, though this figure may vary based on the limited data currently available. Monitoring these factors will be crucial for optimizing the system architecture.\n",
    "\n",
    "\n",
    "3. Seasonality and Diurnal Patterns: \n",
    "Animal behavior varies with habitat and activity patterns throughout the year. For example, summer typically sees increased activity compared to winter. These seasonal variations can significantly impact model performance, underscoring the importance of having aggregated data that captures these temporal dynamics.\n",
    "\n",
    "\n",
    "Data infrastructure:\n",
    "1. Raw data: \n",
    "It is best practice to store all raw data in a data lake. This approach has two key advantages. First, it adds a layer of security, as it eliminates dependency on paid monitoring services, reducing the risk of data loss. Second, as new techniques and tools for data analysis emerge, storing raw data ensures the ability to revisit and extract insights with future advancements.\n",
    "\n",
    "\n",
    "2. Dataflow: \n",
    "I’ve divided this process into two parts: tabular data and images. For tabular data, the standard workflow includes data formatting, error checking, and handling missing values. Next, data derivation is performed. In this specific task, I developed a function to generate different regions on a map, assigning corresponding region IDs. This helps in better aggregating results and facilitates statistical analyses, such as hotspot analysis. In the final stage, data aggregation is performed—for example, aggregating weekly data by region.\n",
    "\n",
    "    Although this task did not involve image processing, I anticipate that satellite and wildlife camera images will require processing steps such as classification. For instance, I assume the file animal_events.csv represents derived data from wildlife cameras, which may involve image classification tasks. I've included considerations for image processing in the architecture, but I have not implemented any code for these functions due to a lack of detailed information.\n",
    "\n",
    "\n",
    "3. BigQuery and further deployments:\n",
    "The refined and aggregated dataset is stored in BigQuery, which allows team members to access the data using SQL, whether building models on the cloud or locally. BigQuery also integrates seamlessly with other GCP services, making it a highly efficient solution for data storage, query execution, and further deployments across cloud-based workflows. This setup ensures scalable, fast access to large datasets and enables effective collaboration across the team.\n",
    "\n",
    "\n",
    "4. Visualization:\n",
    "In this assignment, I utilized Plotly for visualizing the proposed model and its results. Plotly is specifically designed for interactive use; I found figures generated in an offline notebook may not display correctly. To facilitate ease of use and accessibility, I have embedded the generated figures directly within this document.\n",
    "\n"
   ]
  },
  {
   "cell_type": "markdown",
   "id": "eb44d1a3",
   "metadata": {},
   "source": [
    "### Behavioral Analysis:"
   ]
  },
  {
   "cell_type": "markdown",
   "id": "57f9dd0d",
   "metadata": {},
   "source": [
    "#### Determine when animals cross the boundaries of protected areas, Identify migration paths or clustering patterns."
   ]
  },
  {
   "cell_type": "markdown",
   "id": "2ed19f3e",
   "metadata": {},
   "source": [
    "To estimating animal activity, I propose two models for estimating animal activity areas:\n",
    "\n",
    "1. Center Calculation Model:\n",
    "This model calculates the center of all observed locations within a specified time period, serving as a proxy for the activity region. By assuming the animal distribution follows a Gaussian pattern, this model can provide insight into movement patterns. However, this assumption may introduce bias, particularly for animals with fewer observations, making it less reliable in such cases.\n",
    "\n",
    "\n",
    "2. Region-Based Aggregation Model:\n",
    "To address the limitations of the first model, particularly its sensitivity to outliers, aggregating the total number of observations within predefined regions may provide more accurate insights. By doing this, we can create a choropleth map and compare the distribution with the distance from protected areas.\n",
    "\n",
    "The following two figures illustrate two distinct timeframes. Since the provided data only includes observations from September 1st, I generated synthetic data to demonstrate the validity of the model. This synthetic data was created by adding Gaussian noise to the original data from Day One, ensuring that it reflects realistic variability while still adhering to the underlying distribution of the observed values.\n",
    "\n",
    "This approach helps validate the model's effectiveness and offers a clearer understanding of potential changes in animal populations over time. By visualizing both the actual and synthetic data, we can better assess trends and anomalies that may indicate risk zones for wildlife.\n",
    "\n",
    "Both models require careful tuning of hyperparameters. For example, the design of the regions and the time intervals between observations are critical factors that need thoughtful consideration to ensure the accuracy of the results."
   ]
  },
  {
   "cell_type": "markdown",
   "id": "837feb62",
   "metadata": {},
   "source": [
    "![title](output/0901.png)\n",
    "![title](output/0902.png)"
   ]
  },
  {
   "cell_type": "markdown",
   "id": "bec900e4",
   "metadata": {},
   "source": [
    "#### Analyze potential factors contributing to these crossings (e.g., time, weather, or environmental changes)."
   ]
  },
  {
   "cell_type": "markdown",
   "id": "a80d5393",
   "metadata": {},
   "source": [
    "In addition to considering time and weather factors, here are several other elements to integrate into the data pipeline:\n",
    "\n",
    "1. Land cover and usage, including human activities and pollution.\n",
    "2. Forest information related to vegetation and biodiversity.\n",
    "3. Water area data, such as lakes, rivers, and other water bodies.\n",
    "4. Wildfire updates, crucial for areas prone to fire risks.\n",
    "5. Soil characteristics, important for understanding ecosystem health.\n",
    "\n",
    "These data sources offer valuable insights and can be integrated into the pipeline. Many of these can be sourced from open data platforms or paid services, such as Open Land Use or Global Surface Water Explorer, to enhance the analysis."
   ]
  },
  {
   "cell_type": "markdown",
   "id": "ac179040",
   "metadata": {},
   "source": [
    "#### Calculate the total number of animal entries and exits from protected areas over time."
   ]
  },
  {
   "cell_type": "markdown",
   "id": "dbfd7982",
   "metadata": {},
   "source": [
    "For megafauna and animals with larger body sizes, such as bison, satellite imagery can yield more precise estimates of their activity and range. Their larger physical size makes them more detectable through satellite-based observations. This data can be utilized to build a proxy model that estimates the overall population and activities by applying a correction factor that accounts for differences in observation density. However, it's important to note that this method introduces biases depending on the species being observed.\n",
    "\n",
    "For smaller animals, a simpler and potentially more effective approach is to compare the number of observations in protected areas versus surrounding regions over two timeframes. The change in these observations, adjusted with a coefficient, can act as a proxy for estimating population trends. Region-based aggregation, which groups observations by geographical areas, can reveal useful trends, assuming that the observation rate remains consistent across both regions and timeframes."
   ]
  },
  {
   "cell_type": "markdown",
   "id": "b2961f1a",
   "metadata": {},
   "source": [
    "### Advanced Insights:"
   ]
  },
  {
   "cell_type": "markdown",
   "id": "8e86c620",
   "metadata": {},
   "source": [
    "#### Build a predictive model to anticipate future animal movements or identify risk zones for endangered species."
   ]
  },
  {
   "cell_type": "markdown",
   "id": "36f662f4",
   "metadata": {},
   "source": [
    "Given the lack of ground truth data for model calibration, one potential method for defining these risk zones involves calculating the total change in animal observations over two timeframes. A negative value in this context could signify that a region is at risk, suggesting a decline in the population.\n",
    "\n",
    "There might be two scenarios:\n",
    "\n",
    "1. Endangered Species Risk: In situations where one area shows a decrease in animal populations while a neighboring region experiences an increase, the area with declining numbers may not necessarily be at the highest risk for endangered species, especially if the total count remains stable. To quantitatively assess whether the populations are similar, hypothesis testing can be employed.\n",
    "\n",
    "2. Risk Zone Assessment: Conversely, if both the measured area and its neighboring regions are experiencing declines, this scenario may indicate a higher risk zone.\n",
    "\n",
    "This problem can be framed as both a classification and regression challenge. I would prefer a regression model to predict future observation counts, facilitating the identification of regions that show significant drops in animal numbers. However, a classification model could also categorize regions as \"at risk\" based on observed declines.\n",
    "\n",
    "Input Features: The model should incorporate various input features, including animal characteristics, geographical data, demographic information, weather conditions, and time variables.\n",
    "\n",
    "Model Training: Given that this is time series data, I would employ stratified sampling to separate the data into training (85%) and testing (15%) sets, ensuring temporal separation to prevent data leakage. For evaluating model performance, the mean square error (MSE) metric would be suitable, as it effectively gauges accuracy in predicting continuous values.\n"
   ]
  },
  {
   "cell_type": "code",
   "execution_count": null,
   "id": "1ce318ae",
   "metadata": {},
   "outputs": [],
   "source": []
  }
 ],
 "metadata": {
  "kernelspec": {
   "display_name": ".cultivo_env",
   "language": "python",
   "name": ".cultivo_env"
  },
  "language_info": {
   "codemirror_mode": {
    "name": "ipython",
    "version": 3
   },
   "file_extension": ".py",
   "mimetype": "text/x-python",
   "name": "python",
   "nbconvert_exporter": "python",
   "pygments_lexer": "ipython3",
   "version": "3.9.12"
  }
 },
 "nbformat": 4,
 "nbformat_minor": 5
}
